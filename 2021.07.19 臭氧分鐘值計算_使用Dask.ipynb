{
 "cells": [
  {
   "cell_type": "markdown",
   "id": "28a52f9b",
   "metadata": {},
   "source": [
    "2021.07.19 臭氧分鐘值計算_使用Dask"
   ]
  },
  {
   "cell_type": "markdown",
   "id": "453e6075",
   "metadata": {},
   "source": [
    "方法: O3 滾動式5分鐘平均值(挑2個)，7點之後第1次O3分鐘值超過71，的當分鐘(平均值)與前60分鐘(平均值)的**斜率**\n",
    "- 2018~2020 超標日，的**斜率範圍/統計**\n",
    "- 2018~2020 非超標日，的**斜率範圍/統計**"
   ]
  },
  {
   "cell_type": "markdown",
   "id": "77717b6a",
   "metadata": {},
   "source": [
    "資料來源: 國家級分鐘值\n",
    "- 2018: https://drive.google.com/drive/u/3/folders/1DW3XKadiPNxD6GnuuU4XHHlkotS1oSWZ\n",
    "\n",
    "- 2019: https://drive.google.com/drive/u/3/folders/1eW7YXoTY4k83ix4vC7ulQcwlVOSDoyGB\n",
    "\n",
    "- 2020: https://drive.google.com/drive/u/0/folders/1dlduun3eQ-aXqRsgQ24owsJbVfzIlVRb"
   ]
  },
  {
   "cell_type": "markdown",
   "id": "9f612150",
   "metadata": {},
   "source": [
    "挑戰:\n",
    "-  本機端RAM: 16G， 上面每一年的檔案大小約10G，總共約30G(解壓縮前)，解壓縮後近60G，超過RAM負荷\n",
    "    1. 先使用Dask分布是運算來先降維度，再使用Pandas\n",
    "    2. 使用Pandas + glob 循環式計算存檔"
   ]
  },
  {
   "cell_type": "markdown",
   "id": "0be16f7f",
   "metadata": {},
   "source": [
    "Dask 限制:\n",
    "1. Dask 不支援 多個欄位的 sort_values\n",
    "2. Dask 中用到 df.loc[mask,cols]時，要改寫成: dask.dataframe.Series.mask >> df[cols].mask(mask)；或分成兩段式 df_mask = df[mask]\n",
    "3. groupby+rolling 方法 Dask 尚未支援 >> 單純使用rolling OK\n",
    "4. groupby + head 方法 Dask 尚未支援 >> 將 head 改成 first >> 但是跟預期的效果不同...\n",
    "5. 以TimeStamp reindex dask dataframe 會出錯"
   ]
  },
  {
   "cell_type": "markdown",
   "id": "0e562bbc",
   "metadata": {},
   "source": [
    "Pandas + glob 限制:\n",
    "1. 檔案之間的銜接處無法處裡\n",
    "2. 以loop方式讀檔，無法平行化處裡"
   ]
  },
  {
   "cell_type": "code",
   "execution_count": 132,
   "id": "e1759ece",
   "metadata": {},
   "outputs": [],
   "source": [
    "import pandas as pd\n",
    "import numpy as np\n",
    "\n",
    "from datetime import datetime\n",
    "from datetime import timedelta\n",
    "from tqdm import tqdm\n",
    "\n",
    "import dask.dataframe as dd\n",
    "from dask.delayed import delayed\n",
    "\n",
    "import os\n",
    "import shutil\n",
    "from glob import glob\n",
    "from zipfile import ZipFile"
   ]
  },
  {
   "cell_type": "markdown",
   "id": "b80d9dbb",
   "metadata": {},
   "source": [
    "# 檔案解壓縮"
   ]
  },
  {
   "cell_type": "markdown",
   "id": "a01be5df",
   "metadata": {},
   "source": [
    "歸類>解壓縮>挑選>解壓縮"
   ]
  },
  {
   "cell_type": "markdown",
   "id": "f648cf96",
   "metadata": {},
   "source": [
    "第1層解壓縮"
   ]
  },
  {
   "cell_type": "code",
   "execution_count": 46,
   "id": "85f99c02",
   "metadata": {},
   "outputs": [
    {
     "name": "stdout",
     "output_type": "stream",
     "text": [
      ">> 從雲端下載了共: 0包\n",
      "set()\n",
      "\n",
      "\n",
      ">> 第1層 解壓縮完畢!!\n"
     ]
    }
   ],
   "source": [
    "# 觀察 雲端壓縮檔有幾包，取得包名稱\n",
    "path = \"E:\\臭氧分鐘值_2018to2020\"\n",
    "cloud_path_lst = glob(path + '\\/\\/*.zip')\n",
    "cloud_path_name_set = set(p.split(\"drive-download-\")[-1].split(\"-\")[0] for p in cloud_path_lst)\n",
    "print(f\">> 從雲端下載了共: {len(cloud_path_name_set)}包\\n{cloud_path_name_set}\\n\")\n",
    "\n",
    "# 在目錄下建立包名資料夾，並解壓縮\n",
    "for c_name in cloud_path_name_set:\n",
    "    folder_path = path + \"\\/\\/\" + c_name\n",
    "    if not os.path.exists(folder_path):\n",
    "        os.mkdir(folder_path)\n",
    "        print(f\"\\n>> {c_name} 資料夾建立完畢\")\n",
    "        \n",
    "        # 解壓縮檔案至此\n",
    "        path_for_extractall_lst = [p for p in cloud_path_lst if (c_name in p)]\n",
    "        for p4e in path_for_extractall_lst:\n",
    "            print(p4e)\n",
    "            zf = ZipFile(p4e, 'r')\n",
    "            zf.extractall(folder_path)\n",
    "            zf.close()\n",
    "            \n",
    "            # 把解壓縮過的檔案搬移至 Raw資料夾(先手動建立一個)\n",
    "            p4e_new = \"\\\\\".join([path, \"Raw\", p4e.split(\"\\\\\")[-1]])\n",
    "#             print(p4e_new)\n",
    "            shutil.move(p4e, p4e_new)\n",
    "        print(\"\\n\")\n",
    "print(\"\\n>> 第1層 解壓縮完畢!!\")"
   ]
  },
  {
   "cell_type": "code",
   "execution_count": 52,
   "id": "d0639a7a",
   "metadata": {},
   "outputs": [],
   "source": [
    "cloud_path_name_set = set({\"20210719T004203Z\", \"20210719T004155Z\", })\n",
    "# "
   ]
  },
  {
   "cell_type": "code",
   "execution_count": 53,
   "id": "9d592cb5",
   "metadata": {},
   "outputs": [
    {
     "data": {
      "text/plain": [
       "{'20210719T004155Z', '20210719T004203Z'}"
      ]
     },
     "execution_count": 53,
     "metadata": {},
     "output_type": "execute_result"
    }
   ],
   "source": [
    "cloud_path_name_set"
   ]
  },
  {
   "cell_type": "markdown",
   "id": "1d4ea699",
   "metadata": {},
   "source": [
    "第2層解壓縮"
   ]
  },
  {
   "cell_type": "code",
   "execution_count": 54,
   "id": "df8b9a8b",
   "metadata": {},
   "outputs": [
    {
     "name": "stdout",
     "output_type": "stream",
     "text": [
      "['E:\\\\臭氧分鐘值_2018to2020\\\\/\\\\/20210719T004203Z\\\\01\\\\481_國家級測站分鐘值_2020_01_橫向資料_1.zip', 'E:\\\\臭氧分鐘值_2018to2020\\\\/\\\\/20210719T004203Z\\\\01\\\\481_國家級測站分鐘值_2020_01_橫向資料_2.zip', 'E:\\\\臭氧分鐘值_2018to2020\\\\/\\\\/20210719T004203Z\\\\01\\\\481_國家級測站分鐘值_2020_01_橫向資料_3.zip', 'E:\\\\臭氧分鐘值_2018to2020\\\\/\\\\/20210719T004203Z\\\\01\\\\481_國家級測站分鐘值_2020_01_橫向資料_4.zip']\n",
      "['E:\\\\臭氧分鐘值_2018to2020\\\\/\\\\/20210719T004203Z\\\\02\\\\481_國家級測站分鐘值_2020_02_橫向資料_1.zip', 'E:\\\\臭氧分鐘值_2018to2020\\\\/\\\\/20210719T004203Z\\\\02\\\\481_國家級測站分鐘值_2020_02_橫向資料_2.zip', 'E:\\\\臭氧分鐘值_2018to2020\\\\/\\\\/20210719T004203Z\\\\02\\\\481_國家級測站分鐘值_2020_02_橫向資料_3.zip']\n",
      "['E:\\\\臭氧分鐘值_2018to2020\\\\/\\\\/20210719T004203Z\\\\03\\\\481_國家級測站分鐘值_2020_03_橫向資料_1.zip', 'E:\\\\臭氧分鐘值_2018to2020\\\\/\\\\/20210719T004203Z\\\\03\\\\481_國家級測站分鐘值_2020_03_橫向資料_2.zip', 'E:\\\\臭氧分鐘值_2018to2020\\\\/\\\\/20210719T004203Z\\\\03\\\\481_國家級測站分鐘值_2020_03_橫向資料_3.zip', 'E:\\\\臭氧分鐘值_2018to2020\\\\/\\\\/20210719T004203Z\\\\03\\\\481_國家級測站分鐘值_2020_03_橫向資料_4.zip']\n",
      "['E:\\\\臭氧分鐘值_2018to2020\\\\/\\\\/20210719T004203Z\\\\04\\\\481_國家級測站分鐘值_2020_04_橫向資料_1.zip', 'E:\\\\臭氧分鐘值_2018to2020\\\\/\\\\/20210719T004203Z\\\\04\\\\481_國家級測站分鐘值_2020_04_橫向資料_2.zip', 'E:\\\\臭氧分鐘值_2018to2020\\\\/\\\\/20210719T004203Z\\\\04\\\\481_國家級測站分鐘值_2020_04_橫向資料_3.zip', 'E:\\\\臭氧分鐘值_2018to2020\\\\/\\\\/20210719T004203Z\\\\04\\\\481_國家級測站分鐘值_2020_04_橫向資料_4.zip']\n",
      "['E:\\\\臭氧分鐘值_2018to2020\\\\/\\\\/20210719T004203Z\\\\05\\\\481_國家級測站分鐘值_2020_05_橫向資料_1.zip', 'E:\\\\臭氧分鐘值_2018to2020\\\\/\\\\/20210719T004203Z\\\\05\\\\481_國家級測站分鐘值_2020_05_橫向資料_2.zip', 'E:\\\\臭氧分鐘值_2018to2020\\\\/\\\\/20210719T004203Z\\\\05\\\\481_國家級測站分鐘值_2020_05_橫向資料_3.zip', 'E:\\\\臭氧分鐘值_2018to2020\\\\/\\\\/20210719T004203Z\\\\05\\\\481_國家級測站分鐘值_2020_05_橫向資料_4.zip']\n",
      "['E:\\\\臭氧分鐘值_2018to2020\\\\/\\\\/20210719T004203Z\\\\06\\\\481_國家級測站分鐘值_2020_06_橫向資料_1.zip', 'E:\\\\臭氧分鐘值_2018to2020\\\\/\\\\/20210719T004203Z\\\\06\\\\481_國家級測站分鐘值_2020_06_橫向資料_2.zip', 'E:\\\\臭氧分鐘值_2018to2020\\\\/\\\\/20210719T004203Z\\\\06\\\\481_國家級測站分鐘值_2020_06_橫向資料_3.zip', 'E:\\\\臭氧分鐘值_2018to2020\\\\/\\\\/20210719T004203Z\\\\06\\\\481_國家級測站分鐘值_2020_06_橫向資料_4.zip']\n",
      "['E:\\\\臭氧分鐘值_2018to2020\\\\/\\\\/20210719T004203Z\\\\07\\\\481_國家級測站分鐘值_2020_07_橫向資料_1.zip', 'E:\\\\臭氧分鐘值_2018to2020\\\\/\\\\/20210719T004203Z\\\\07\\\\481_國家級測站分鐘值_2020_07_橫向資料_2.zip', 'E:\\\\臭氧分鐘值_2018to2020\\\\/\\\\/20210719T004203Z\\\\07\\\\481_國家級測站分鐘值_2020_07_橫向資料_3.zip', 'E:\\\\臭氧分鐘值_2018to2020\\\\/\\\\/20210719T004203Z\\\\07\\\\481_國家級測站分鐘值_2020_07_橫向資料_4.zip']\n",
      "['E:\\\\臭氧分鐘值_2018to2020\\\\/\\\\/20210719T004203Z\\\\08\\\\481_國家級測站分鐘值_2020_08_橫向資料_1.zip', 'E:\\\\臭氧分鐘值_2018to2020\\\\/\\\\/20210719T004203Z\\\\08\\\\481_國家級測站分鐘值_2020_08_橫向資料_2.zip', 'E:\\\\臭氧分鐘值_2018to2020\\\\/\\\\/20210719T004203Z\\\\08\\\\481_國家級測站分鐘值_2020_08_橫向資料_3.zip', 'E:\\\\臭氧分鐘值_2018to2020\\\\/\\\\/20210719T004203Z\\\\08\\\\481_國家級測站分鐘值_2020_08_橫向資料_4.zip']\n",
      "['E:\\\\臭氧分鐘值_2018to2020\\\\/\\\\/20210719T004203Z\\\\09\\\\481_國家級測站分鐘值_2020_09_橫向資料_1.zip', 'E:\\\\臭氧分鐘值_2018to2020\\\\/\\\\/20210719T004203Z\\\\09\\\\481_國家級測站分鐘值_2020_09_橫向資料_2.zip', 'E:\\\\臭氧分鐘值_2018to2020\\\\/\\\\/20210719T004203Z\\\\09\\\\481_國家級測站分鐘值_2020_09_橫向資料_3.zip', 'E:\\\\臭氧分鐘值_2018to2020\\\\/\\\\/20210719T004203Z\\\\09\\\\481_國家級測站分鐘值_2020_09_橫向資料_4.zip']\n",
      "['E:\\\\臭氧分鐘值_2018to2020\\\\/\\\\/20210719T004203Z\\\\10\\\\481_國家級測站分鐘值_2020_10_橫向資料_1.zip', 'E:\\\\臭氧分鐘值_2018to2020\\\\/\\\\/20210719T004203Z\\\\10\\\\481_國家級測站分鐘值_2020_10_橫向資料_2.zip', 'E:\\\\臭氧分鐘值_2018to2020\\\\/\\\\/20210719T004203Z\\\\10\\\\481_國家級測站分鐘值_2020_10_橫向資料_3.zip', 'E:\\\\臭氧分鐘值_2018to2020\\\\/\\\\/20210719T004203Z\\\\10\\\\481_國家級測站分鐘值_2020_10_橫向資料_4.zip']\n",
      "['E:\\\\臭氧分鐘值_2018to2020\\\\/\\\\/20210719T004203Z\\\\11\\\\481_國家級測站分鐘值_2020_11_橫向資料_1.zip', 'E:\\\\臭氧分鐘值_2018to2020\\\\/\\\\/20210719T004203Z\\\\11\\\\481_國家級測站分鐘值_2020_11_橫向資料_2.zip', 'E:\\\\臭氧分鐘值_2018to2020\\\\/\\\\/20210719T004203Z\\\\11\\\\481_國家級測站分鐘值_2020_11_橫向資料_3.zip', 'E:\\\\臭氧分鐘值_2018to2020\\\\/\\\\/20210719T004203Z\\\\11\\\\481_國家級測站分鐘值_2020_11_橫向資料_4.zip']\n",
      "['E:\\\\臭氧分鐘值_2018to2020\\\\/\\\\/20210719T004203Z\\\\12\\\\481_國家級測站分鐘值_2020_12_橫向資料_1.zip', 'E:\\\\臭氧分鐘值_2018to2020\\\\/\\\\/20210719T004203Z\\\\12\\\\481_國家級測站分鐘值_2020_12_橫向資料_2.zip', 'E:\\\\臭氧分鐘值_2018to2020\\\\/\\\\/20210719T004203Z\\\\12\\\\481_國家級測站分鐘值_2020_12_橫向資料_3.zip', 'E:\\\\臭氧分鐘值_2018to2020\\\\/\\\\/20210719T004203Z\\\\12\\\\481_國家級測站分鐘值_2020_12_橫向資料_4.zip']\n",
      "['E:\\\\臭氧分鐘值_2018to2020\\\\/\\\\/20210719T004155Z\\\\01\\\\481_國家級測站分鐘值_2019_01_橫向資料_1.zip', 'E:\\\\臭氧分鐘值_2018to2020\\\\/\\\\/20210719T004155Z\\\\01\\\\481_國家級測站分鐘值_2019_01_橫向資料_2.zip', 'E:\\\\臭氧分鐘值_2018to2020\\\\/\\\\/20210719T004155Z\\\\01\\\\481_國家級測站分鐘值_2019_01_橫向資料_3.zip']\n",
      "['E:\\\\臭氧分鐘值_2018to2020\\\\/\\\\/20210719T004155Z\\\\02\\\\481_國家級測站分鐘值_2019_02_橫向資料_1.zip', 'E:\\\\臭氧分鐘值_2018to2020\\\\/\\\\/20210719T004155Z\\\\02\\\\481_國家級測站分鐘值_2019_02_橫向資料_2.zip', 'E:\\\\臭氧分鐘值_2018to2020\\\\/\\\\/20210719T004155Z\\\\02\\\\481_國家級測站分鐘值_2019_02_橫向資料_3.zip']\n",
      "['E:\\\\臭氧分鐘值_2018to2020\\\\/\\\\/20210719T004155Z\\\\03\\\\481_國家級測站分鐘值_2019_03_橫向資料_1.zip', 'E:\\\\臭氧分鐘值_2018to2020\\\\/\\\\/20210719T004155Z\\\\03\\\\481_國家級測站分鐘值_2019_03_橫向資料_2.zip', 'E:\\\\臭氧分鐘值_2018to2020\\\\/\\\\/20210719T004155Z\\\\03\\\\481_國家級測站分鐘值_2019_03_橫向資料_3.zip']\n",
      "['E:\\\\臭氧分鐘值_2018to2020\\\\/\\\\/20210719T004155Z\\\\04\\\\481_國家級測站分鐘值_2019_04_橫向資料_1.zip', 'E:\\\\臭氧分鐘值_2018to2020\\\\/\\\\/20210719T004155Z\\\\04\\\\481_國家級測站分鐘值_2019_04_橫向資料_2.zip', 'E:\\\\臭氧分鐘值_2018to2020\\\\/\\\\/20210719T004155Z\\\\04\\\\481_國家級測站分鐘值_2019_04_橫向資料_3.zip']\n",
      "['E:\\\\臭氧分鐘值_2018to2020\\\\/\\\\/20210719T004155Z\\\\05\\\\481_國家級測站分鐘值_2019_05_橫向資料_1.zip', 'E:\\\\臭氧分鐘值_2018to2020\\\\/\\\\/20210719T004155Z\\\\05\\\\481_國家級測站分鐘值_2019_05_橫向資料_2.zip', 'E:\\\\臭氧分鐘值_2018to2020\\\\/\\\\/20210719T004155Z\\\\05\\\\481_國家級測站分鐘值_2019_05_橫向資料_3.zip']\n",
      "['E:\\\\臭氧分鐘值_2018to2020\\\\/\\\\/20210719T004155Z\\\\06\\\\481_國家級測站分鐘值_2019_06_橫向資料_1.zip', 'E:\\\\臭氧分鐘值_2018to2020\\\\/\\\\/20210719T004155Z\\\\06\\\\481_國家級測站分鐘值_2019_06_橫向資料_2.zip', 'E:\\\\臭氧分鐘值_2018to2020\\\\/\\\\/20210719T004155Z\\\\06\\\\481_國家級測站分鐘值_2019_06_橫向資料_3.zip']\n",
      "['E:\\\\臭氧分鐘值_2018to2020\\\\/\\\\/20210719T004155Z\\\\07\\\\481_國家級測站分鐘值_2019_07_橫向資料_1.zip', 'E:\\\\臭氧分鐘值_2018to2020\\\\/\\\\/20210719T004155Z\\\\07\\\\481_國家級測站分鐘值_2019_07_橫向資料_2.zip', 'E:\\\\臭氧分鐘值_2018to2020\\\\/\\\\/20210719T004155Z\\\\07\\\\481_國家級測站分鐘值_2019_07_橫向資料_3.zip']\n",
      "['E:\\\\臭氧分鐘值_2018to2020\\\\/\\\\/20210719T004155Z\\\\08\\\\481_國家級測站分鐘值_2019_08_橫向資料_1.zip', 'E:\\\\臭氧分鐘值_2018to2020\\\\/\\\\/20210719T004155Z\\\\08\\\\481_國家級測站分鐘值_2019_08_橫向資料_2.zip', 'E:\\\\臭氧分鐘值_2018to2020\\\\/\\\\/20210719T004155Z\\\\08\\\\481_國家級測站分鐘值_2019_08_橫向資料_3.zip']\n",
      "['E:\\\\臭氧分鐘值_2018to2020\\\\/\\\\/20210719T004155Z\\\\09\\\\481_國家級測站分鐘值_2019_09_橫向資料_1.zip', 'E:\\\\臭氧分鐘值_2018to2020\\\\/\\\\/20210719T004155Z\\\\09\\\\481_國家級測站分鐘值_2019_09_橫向資料_2.zip', 'E:\\\\臭氧分鐘值_2018to2020\\\\/\\\\/20210719T004155Z\\\\09\\\\481_國家級測站分鐘值_2019_09_橫向資料_3.zip']\n",
      "['E:\\\\臭氧分鐘值_2018to2020\\\\/\\\\/20210719T004155Z\\\\10\\\\481_國家級測站分鐘值_2019_10_橫向資料_1.zip', 'E:\\\\臭氧分鐘值_2018to2020\\\\/\\\\/20210719T004155Z\\\\10\\\\481_國家級測站分鐘值_2019_10_橫向資料_2.zip', 'E:\\\\臭氧分鐘值_2018to2020\\\\/\\\\/20210719T004155Z\\\\10\\\\481_國家級測站分鐘值_2019_10_橫向資料_3.zip']\n",
      "['E:\\\\臭氧分鐘值_2018to2020\\\\/\\\\/20210719T004155Z\\\\11\\\\481_國家級測站分鐘值_2019_11_橫向資料_1.zip', 'E:\\\\臭氧分鐘值_2018to2020\\\\/\\\\/20210719T004155Z\\\\11\\\\481_國家級測站分鐘值_2019_11_橫向資料_2.zip', 'E:\\\\臭氧分鐘值_2018to2020\\\\/\\\\/20210719T004155Z\\\\11\\\\481_國家級測站分鐘值_2019_11_橫向資料_3.zip']\n",
      "['E:\\\\臭氧分鐘值_2018to2020\\\\/\\\\/20210719T004155Z\\\\12\\\\481_國家級測站分鐘值_2019_12_橫向資料_1.zip', 'E:\\\\臭氧分鐘值_2018to2020\\\\/\\\\/20210719T004155Z\\\\12\\\\481_國家級測站分鐘值_2019_12_橫向資料_2.zip', 'E:\\\\臭氧分鐘值_2018to2020\\\\/\\\\/20210719T004155Z\\\\12\\\\481_國家級測站分鐘值_2019_12_橫向資料_3.zip']\n",
      "\n",
      ">> 第2層 解壓縮完畢!!\n"
     ]
    }
   ],
   "source": [
    "for c_name in cloud_path_name_set:\n",
    "    folder_path = path + \"\\/\\/\" + c_name\n",
    "        \n",
    "    #進入各月份資料夾\n",
    "    for m in range(1, 12+1):\n",
    "        m_str = str(m).zfill(2)\n",
    "    # Vfile_lst = glob(folder_path + f\"\\\\{m_str}\\\\*_垂直資料_?.zip\")\n",
    "        Hfile_lst = glob(folder_path + f\"\\\\{m_str}\\\\*_橫向資料_?.zip\")\n",
    "    #     print(Vfile_lst)\n",
    "    #     print(\"\\n\")\n",
    "        print(Hfile_lst)\n",
    "        for _p4e in Hfile_lst:\n",
    "            zf = ZipFile(_p4e, 'r')\n",
    "            zf.extractall(folder_path)\n",
    "            zf.close()\n",
    "print(\"\\n>> 第2層 解壓縮完畢!!\")"
   ]
  },
  {
   "cell_type": "markdown",
   "id": "cec4ce29",
   "metadata": {},
   "source": [
    "# Pandas Dataframe + glob"
   ]
  },
  {
   "cell_type": "markdown",
   "id": "bf4f4cdd",
   "metadata": {},
   "source": [
    "## 提前1小時"
   ]
  },
  {
   "cell_type": "code",
   "execution_count": 393,
   "id": "5f8d9f6a",
   "metadata": {},
   "outputs": [
    {
     "name": "stderr",
     "output_type": "stream",
     "text": [
      "100%|████████████████████████████████████████████████████████████████████████████████| 225/225 [10:13<00:00,  2.73s/it]"
     ]
    },
    {
     "name": "stdout",
     "output_type": "stream",
     "text": [
      ">> 執行完畢!\n"
     ]
    },
    {
     "name": "stderr",
     "output_type": "stream",
     "text": [
      "\n"
     ]
    }
   ],
   "source": [
    "# 讀檔\n",
    "path = r\"E:\\臭氧分鐘值_2018to2020\\20210719T004146Z\\481_國家級測站分鐘值_2018_*_*.csv\"\n",
    "file_lst = glob(path)\n",
    "\n",
    "target_df_all = pd.DataFrame()\n",
    "for file in tqdm(file_lst):\n",
    "    df_min = pd.read_csv(file, parse_dates=[\"TIME\"], usecols=[0,3,124], dtype={0:\"category\", 124:\"float32\"})\n",
    "\n",
    "    # 格式轉換\n",
    "    df_min.rename(columns={\"O3()\":\"O3_min\",\"TIME\":\"DataCreationDate\"}, inplace=True)\n",
    "    \n",
    "\n",
    "\n",
    "    # 系統運作時間 (7-1,21)\n",
    "    sys_working_zone = (6,21)\n",
    "    time_mask_1 = (df_min[\"DataCreationDate\"].dt.hour >= sys_working_zone[0]) & (df_min[\"DataCreationDate\"].dt.hour <= sys_working_zone[1]) \n",
    "\n",
    "    # 計算前五分鐘移動平均值\n",
    "    # 5分鐘移動平均(MA5)，可容忍5缺2筆\n",
    "    col = \"O3_min\"\n",
    "    col_name = col+\"_MA5\"\n",
    "\n",
    "\n",
    "    target_df_tmp = pd.DataFrame()\n",
    "    # for loop 區分 SiteName\n",
    "    for device_id in df_min[\"DEVICE_ID\"].unique():\n",
    "#         print(device_id)\n",
    "        mask = time_mask_1 & df_min[\"DEVICE_ID\"].isin([device_id])\n",
    "        df_min_mask = df_min[mask].copy(deep=True)\n",
    "        if not df_min_mask.empty:\n",
    "\n",
    "            # 將負值設為空值\n",
    "            df_min_mask.loc[df_min_mask[\"O3_min\"]<0, \"O3_min\"] = np.nan\n",
    "\n",
    "            # 創造 統一的時間區間*測站，還原缺值\n",
    "            r = pd.date_range(start=df_min_mask[\"DataCreationDate\"].min(), end=df_min_mask[\"DataCreationDate\"].max(), freq='1min')\n",
    "            df_min_mask = df_min_mask.set_index('DataCreationDate').reindex(r).fillna(\n",
    "                                            {'DEVICE_ID':device_id, 'O3_min':np.nan}).rename_axis('DataCreationDate').reset_index()\n",
    "            \n",
    "            # 製作 Date 變數\n",
    "            df_min_mask['Date'] = df_min_mask['DataCreationDate'].dt.date.apply(lambda d: d.strftime(\"%Y-%m-%d\"))\n",
    "            df_min_mask['Date'] = df_min_mask['Date'].astype('category')\n",
    "\n",
    "            # 計算5分鐘移動平均\n",
    "            df_min_mask[col_name] = df_min_mask.sort_values(by=[\"DataCreationDate\"], ascending=[1])[col].rolling(\n",
    "                                        window=5, min_periods=3, center=False).mean().apply(\n",
    "                                        lambda m: round(m, 3) if pd.notna(m) else np.nan )\n",
    "\n",
    "            # 找出每日早上7點之後(晚上9點之前)，第1次 分鐘值 超過71 的時間點與 當分鐘的MA5\n",
    "            sys_working_zone = (7,21)\n",
    "            time_mask_2 = (df_min_mask[\"DataCreationDate\"].dt.hour >= sys_working_zone[0]) & (df_min_mask[\"DataCreationDate\"].dt.hour <= sys_working_zone[1]) \n",
    "            mask_exceed = time_mask_2 & (df_min_mask[\"O3_min\"] >= 71)\n",
    "            target_df = df_min_mask.loc[mask_exceed, :].sort_values(['DataCreationDate'], ascending=True).groupby([\"Date\"]).head(1).reset_index(drop=True)\n",
    "\n",
    "\n",
    "            # 找出目標分鐘前1小時的MA5，並合併 merge\n",
    "            target_df.loc[:, \"front_time\"] = target_df['DataCreationDate'] - timedelta(hours=1)\n",
    "            target_df = target_df.merge(df_min_mask, how='inner', \n",
    "                            left_on=[\"DEVICE_ID\", \"Date\", 'front_time'], \n",
    "                            right_on=[\"DEVICE_ID\", \"Date\", 'DataCreationDate'],\n",
    "                            suffixes=(\"\", \"_front\"))\n",
    "\n",
    "            target_df_tmp = pd.concat([target_df_tmp, target_df])\n",
    "\n",
    "        else:\n",
    "            print(f\">> {device_id} in {file} is empty!!\")\n",
    "            pass\n",
    "            \n",
    "    \n",
    "        target_df_all = pd.concat([target_df_all, target_df_tmp])\n",
    "    \n",
    "target_df_all.reset_index(drop=True, inplace=True)\n",
    "target_df_all.loc[:,\"DEVICE_ID\"] = target_df_all.loc[:,\"DEVICE_ID\"].astype('category')\n",
    "target_df_all.loc[:,\"Date\"] = target_df_all.loc[:,\"Date\"].astype('category')\n",
    "print(\">> 執行完畢!\")"
   ]
  },
  {
   "cell_type": "code",
   "execution_count": 396,
   "id": "8f1e8c7c",
   "metadata": {},
   "outputs": [
    {
     "data": {
      "text/html": [
       "<div>\n",
       "<style scoped>\n",
       "    .dataframe tbody tr th:only-of-type {\n",
       "        vertical-align: middle;\n",
       "    }\n",
       "\n",
       "    .dataframe tbody tr th {\n",
       "        vertical-align: top;\n",
       "    }\n",
       "\n",
       "    .dataframe thead th {\n",
       "        text-align: right;\n",
       "    }\n",
       "</style>\n",
       "<table border=\"1\" class=\"dataframe\">\n",
       "  <thead>\n",
       "    <tr style=\"text-align: right;\">\n",
       "      <th></th>\n",
       "      <th>DataCreationDate</th>\n",
       "      <th>DEVICE_ID</th>\n",
       "      <th>O3_min</th>\n",
       "      <th>Date</th>\n",
       "      <th>O3_min_MA5</th>\n",
       "      <th>front_time</th>\n",
       "      <th>DataCreationDate_front</th>\n",
       "      <th>O3_min_front</th>\n",
       "      <th>O3_min_MA5_front</th>\n",
       "    </tr>\n",
       "  </thead>\n",
       "  <tbody>\n",
       "    <tr>\n",
       "      <th>0</th>\n",
       "      <td>2018-01-02 09:59:00</td>\n",
       "      <td>6125966040</td>\n",
       "      <td>75.050003</td>\n",
       "      <td>2018-01-02</td>\n",
       "      <td>43.103</td>\n",
       "      <td>2018-01-02 08:59:00</td>\n",
       "      <td>2018-01-02 08:59:00</td>\n",
       "      <td>0.000000</td>\n",
       "      <td>0.00</td>\n",
       "    </tr>\n",
       "    <tr>\n",
       "      <th>1</th>\n",
       "      <td>2018-01-16 12:39:00</td>\n",
       "      <td>6125966040</td>\n",
       "      <td>74.720001</td>\n",
       "      <td>2018-01-16</td>\n",
       "      <td>60.098</td>\n",
       "      <td>2018-01-16 11:39:00</td>\n",
       "      <td>2018-01-16 11:39:00</td>\n",
       "      <td>40.299999</td>\n",
       "      <td>42.74</td>\n",
       "    </tr>\n",
       "    <tr>\n",
       "      <th>2</th>\n",
       "      <td>2018-01-02 09:59:00</td>\n",
       "      <td>6125966040</td>\n",
       "      <td>75.050003</td>\n",
       "      <td>2018-01-02</td>\n",
       "      <td>43.103</td>\n",
       "      <td>2018-01-02 08:59:00</td>\n",
       "      <td>2018-01-02 08:59:00</td>\n",
       "      <td>0.000000</td>\n",
       "      <td>0.00</td>\n",
       "    </tr>\n",
       "    <tr>\n",
       "      <th>3</th>\n",
       "      <td>2018-01-16 12:39:00</td>\n",
       "      <td>6125966040</td>\n",
       "      <td>74.720001</td>\n",
       "      <td>2018-01-16</td>\n",
       "      <td>60.098</td>\n",
       "      <td>2018-01-16 11:39:00</td>\n",
       "      <td>2018-01-16 11:39:00</td>\n",
       "      <td>40.299999</td>\n",
       "      <td>42.74</td>\n",
       "    </tr>\n",
       "    <tr>\n",
       "      <th>4</th>\n",
       "      <td>2018-01-03 11:50:00</td>\n",
       "      <td>6106537758</td>\n",
       "      <td>71.099998</td>\n",
       "      <td>2018-01-03</td>\n",
       "      <td>67.180</td>\n",
       "      <td>2018-01-03 10:50:00</td>\n",
       "      <td>2018-01-03 10:50:00</td>\n",
       "      <td>43.000000</td>\n",
       "      <td>40.42</td>\n",
       "    </tr>\n",
       "    <tr>\n",
       "      <th>...</th>\n",
       "      <td>...</td>\n",
       "      <td>...</td>\n",
       "      <td>...</td>\n",
       "      <td>...</td>\n",
       "      <td>...</td>\n",
       "      <td>...</td>\n",
       "      <td>...</td>\n",
       "      <td>...</td>\n",
       "      <td>...</td>\n",
       "    </tr>\n",
       "    <tr>\n",
       "      <th>23475</th>\n",
       "      <td>2018-12-01 11:59:00</td>\n",
       "      <td>6096529303</td>\n",
       "      <td>72.099998</td>\n",
       "      <td>2018-12-01</td>\n",
       "      <td>68.220</td>\n",
       "      <td>2018-12-01 10:59:00</td>\n",
       "      <td>2018-12-01 10:59:00</td>\n",
       "      <td>47.099998</td>\n",
       "      <td>46.02</td>\n",
       "    </tr>\n",
       "    <tr>\n",
       "      <th>23476</th>\n",
       "      <td>2018-12-03 11:58:00</td>\n",
       "      <td>6096529303</td>\n",
       "      <td>71.500000</td>\n",
       "      <td>2018-12-03</td>\n",
       "      <td>68.320</td>\n",
       "      <td>2018-12-03 10:58:00</td>\n",
       "      <td>2018-12-03 10:58:00</td>\n",
       "      <td>43.200001</td>\n",
       "      <td>40.32</td>\n",
       "    </tr>\n",
       "    <tr>\n",
       "      <th>23477</th>\n",
       "      <td>2018-12-04 12:48:00</td>\n",
       "      <td>6096529303</td>\n",
       "      <td>71.199997</td>\n",
       "      <td>2018-12-04</td>\n",
       "      <td>68.420</td>\n",
       "      <td>2018-12-04 11:48:00</td>\n",
       "      <td>2018-12-04 11:48:00</td>\n",
       "      <td>54.400002</td>\n",
       "      <td>49.64</td>\n",
       "    </tr>\n",
       "    <tr>\n",
       "      <th>23478</th>\n",
       "      <td>2018-12-21 12:53:00</td>\n",
       "      <td>6102800520</td>\n",
       "      <td>71.199997</td>\n",
       "      <td>2018-12-21</td>\n",
       "      <td>69.160</td>\n",
       "      <td>2018-12-21 11:53:00</td>\n",
       "      <td>2018-12-21 11:53:00</td>\n",
       "      <td>65.000000</td>\n",
       "      <td>64.18</td>\n",
       "    </tr>\n",
       "    <tr>\n",
       "      <th>23479</th>\n",
       "      <td>2018-12-22 13:31:00</td>\n",
       "      <td>6102800520</td>\n",
       "      <td>72.800003</td>\n",
       "      <td>2018-12-22</td>\n",
       "      <td>69.180</td>\n",
       "      <td>2018-12-22 12:31:00</td>\n",
       "      <td>2018-12-22 12:31:00</td>\n",
       "      <td>61.900002</td>\n",
       "      <td>59.82</td>\n",
       "    </tr>\n",
       "  </tbody>\n",
       "</table>\n",
       "<p>23480 rows × 9 columns</p>\n",
       "</div>"
      ],
      "text/plain": [
       "         DataCreationDate   DEVICE_ID     O3_min        Date  O3_min_MA5  \\\n",
       "0     2018-01-02 09:59:00  6125966040  75.050003  2018-01-02      43.103   \n",
       "1     2018-01-16 12:39:00  6125966040  74.720001  2018-01-16      60.098   \n",
       "2     2018-01-02 09:59:00  6125966040  75.050003  2018-01-02      43.103   \n",
       "3     2018-01-16 12:39:00  6125966040  74.720001  2018-01-16      60.098   \n",
       "4     2018-01-03 11:50:00  6106537758  71.099998  2018-01-03      67.180   \n",
       "...                   ...         ...        ...         ...         ...   \n",
       "23475 2018-12-01 11:59:00  6096529303  72.099998  2018-12-01      68.220   \n",
       "23476 2018-12-03 11:58:00  6096529303  71.500000  2018-12-03      68.320   \n",
       "23477 2018-12-04 12:48:00  6096529303  71.199997  2018-12-04      68.420   \n",
       "23478 2018-12-21 12:53:00  6102800520  71.199997  2018-12-21      69.160   \n",
       "23479 2018-12-22 13:31:00  6102800520  72.800003  2018-12-22      69.180   \n",
       "\n",
       "               front_time DataCreationDate_front  O3_min_front  \\\n",
       "0     2018-01-02 08:59:00    2018-01-02 08:59:00      0.000000   \n",
       "1     2018-01-16 11:39:00    2018-01-16 11:39:00     40.299999   \n",
       "2     2018-01-02 08:59:00    2018-01-02 08:59:00      0.000000   \n",
       "3     2018-01-16 11:39:00    2018-01-16 11:39:00     40.299999   \n",
       "4     2018-01-03 10:50:00    2018-01-03 10:50:00     43.000000   \n",
       "...                   ...                    ...           ...   \n",
       "23475 2018-12-01 10:59:00    2018-12-01 10:59:00     47.099998   \n",
       "23476 2018-12-03 10:58:00    2018-12-03 10:58:00     43.200001   \n",
       "23477 2018-12-04 11:48:00    2018-12-04 11:48:00     54.400002   \n",
       "23478 2018-12-21 11:53:00    2018-12-21 11:53:00     65.000000   \n",
       "23479 2018-12-22 12:31:00    2018-12-22 12:31:00     61.900002   \n",
       "\n",
       "       O3_min_MA5_front  \n",
       "0                  0.00  \n",
       "1                 42.74  \n",
       "2                  0.00  \n",
       "3                 42.74  \n",
       "4                 40.42  \n",
       "...                 ...  \n",
       "23475             46.02  \n",
       "23476             40.32  \n",
       "23477             49.64  \n",
       "23478             64.18  \n",
       "23479             59.82  \n",
       "\n",
       "[23480 rows x 9 columns]"
      ]
     },
     "execution_count": 396,
     "metadata": {},
     "output_type": "execute_result"
    }
   ],
   "source": [
    "target_df_all # 目標"
   ]
  },
  {
   "cell_type": "code",
   "execution_count": 397,
   "id": "e005f8ea",
   "metadata": {},
   "outputs": [
    {
     "name": "stdout",
     "output_type": "stream",
     "text": [
      "<class 'pandas.core.frame.DataFrame'>\n",
      "RangeIndex: 23480 entries, 0 to 23479\n",
      "Data columns (total 9 columns):\n",
      " #   Column                  Non-Null Count  Dtype         \n",
      "---  ------                  --------------  -----         \n",
      " 0   DataCreationDate        23480 non-null  datetime64[ns]\n",
      " 1   DEVICE_ID               23480 non-null  category      \n",
      " 2   O3_min                  23480 non-null  float32       \n",
      " 3   Date                    23480 non-null  category      \n",
      " 4   O3_min_MA5              23289 non-null  float64       \n",
      " 5   front_time              23480 non-null  datetime64[ns]\n",
      " 6   DataCreationDate_front  23480 non-null  datetime64[ns]\n",
      " 7   O3_min_front            23215 non-null  float32       \n",
      " 8   O3_min_MA5_front        23015 non-null  float64       \n",
      "dtypes: category(2), datetime64[ns](3), float32(2), float64(2)\n",
      "memory usage: 1.2 MB\n",
      " ==輸出備份pkl== ::: target_df_all_2018_20210721_14.15.53.pkl\n"
     ]
    }
   ],
   "source": [
    "import sys\n",
    "sys.path.append('G:\\我的雲端硬碟\\python')\n",
    "from polib.CsvEngn import *\n",
    "\n",
    "target_df_all.info()\n",
    "# 記得存檔!!\n",
    "formtoPkl(target_df_all, \"target_df_all_2018\")"
   ]
  },
  {
   "cell_type": "code",
   "execution_count": 398,
   "id": "ff37fb4c",
   "metadata": {},
   "outputs": [
    {
     "name": "stdout",
     "output_type": "stream",
     "text": [
      "  >> 讀取:: G:\\我的雲端硬碟\\python\\output\\0721\\target_df_all_2018_20210721_14.15.53.pkl\n"
     ]
    }
   ],
   "source": [
    "# 讀檔\n",
    "target_df_all = read_data_dir_fPathExt(r\"G:\\我的雲端硬碟\\python\\output\\0721\\target_df_all_2018_20210721_14.15.53.pkl\")"
   ]
  },
  {
   "cell_type": "markdown",
   "id": "a192ca30",
   "metadata": {},
   "source": [
    "### 計算 diff、變化率"
   ]
  },
  {
   "cell_type": "code",
   "execution_count": 399,
   "id": "59f768a3",
   "metadata": {},
   "outputs": [],
   "source": [
    "target_df_all.loc[:, \"diff\"] = target_df_all.loc[:, \"O3_min_MA5\"] - target_df_all.loc[:,\"O3_min_MA5_front\"]\n",
    "target_df_all.loc[:, \"diff_ratio\"] = (target_df_all.loc[:, \"O3_min_MA5\"] - target_df_all.loc[:,\"O3_min_MA5_front\"]) / target_df_all.loc[:,\"O3_min_MA5_front\"]"
   ]
  },
  {
   "cell_type": "code",
   "execution_count": 400,
   "id": "14aba293",
   "metadata": {},
   "outputs": [],
   "source": [
    "# DEVICE_ID 串 測站中文名\n",
    "meta_path = r\"E:\\臭氧分鐘值_2018to2020\\metedata.csv\"\n",
    "df_mete = pd.read_csv(meta_path, dtype={\"DEVICE_ID\":\"str\"})\n",
    "df_mete.loc[:, \"SiteName\"] = df_mete.loc[:, \"DEVICE_NAME\"].apply(lambda s: s.split(\"-\")[3].split(\"測站\")[0])\n",
    "\n",
    "# 串檔\n",
    "target_df_all = target_df_all.merge(df_mete[[\"DEVICE_ID\", \"SiteName\"]], how='left', on='DEVICE_ID')\n",
    "\n",
    "# 修正 台臺 問題\n",
    "df_mete.loc[:, \"SiteName\"] = df_mete.loc[:, \"SiteName\"].apply(lambda s: s.replace(\"台\", \"臺\"))\n",
    "target_df_all.loc[:, \"SiteName\"] = target_df_all.loc[:, \"SiteName\"].apply(lambda s: s.replace(\"台\", \"臺\"))\n",
    "target_Site_set = set(target_df_all[\"SiteName\"].unique())"
   ]
  },
  {
   "cell_type": "code",
   "execution_count": 401,
   "id": "bb316e0b",
   "metadata": {},
   "outputs": [],
   "source": [
    "# target_Site_set"
   ]
  },
  {
   "cell_type": "code",
   "execution_count": 402,
   "id": "851add3b",
   "metadata": {},
   "outputs": [
    {
     "name": "stdout",
     "output_type": "stream",
     "text": [
      "Index(['SiteName', 'Date', 'O3_8hr_max', 'O3_max', 'is_exceed_date'], dtype='object')\n"
     ]
    }
   ],
   "source": [
    "# 讀取實際超標站日\n",
    "dailyMax_path = r\"E:\\臭氧分鐘值_2018to2020\\當日最大值是否超標_2018to2020.csv\"\n",
    "df_dailyMax = pd.read_csv(dailyMax_path, usecols=[1,2,3,4,6])\n",
    "df_dailyMax.rename(columns={\"date\":\"Date\"}, inplace=True)\n",
    "print(df_dailyMax.columns)\n",
    "\n",
    "# 修正 台臺 問題\n",
    "df_dailyMax.loc[:, \"SiteName\"] = df_dailyMax.loc[:, \"SiteName\"].apply(lambda s: s.replace(\"台\", \"臺\"))\n",
    "\n",
    "dailyMax_Site_set = set(df_dailyMax[\"SiteName\"].unique())\n",
    "# dailyMax_Site_set"
   ]
  },
  {
   "cell_type": "code",
   "execution_count": 403,
   "id": "6f97818b",
   "metadata": {},
   "outputs": [
    {
     "data": {
      "text/plain": [
       "False    26760\n",
       "True       477\n",
       "Name: is_exceed_date, dtype: int64"
      ]
     },
     "execution_count": 403,
     "metadata": {},
     "output_type": "execute_result"
    }
   ],
   "source": [
    "df_dailyMax[df_dailyMax[\"Date\"].str.find(\"2018\")>=0][\"is_exceed_date\"].value_counts()"
   ]
  },
  {
   "cell_type": "code",
   "execution_count": 404,
   "id": "288bb667",
   "metadata": {},
   "outputs": [
    {
     "name": "stdout",
     "output_type": "stream",
     "text": [
      "分鐘值資料缺少 3測站!\n"
     ]
    },
    {
     "data": {
      "text/plain": [
       "{'大同', '斗六', '淡水'}"
      ]
     },
     "execution_count": 404,
     "metadata": {},
     "output_type": "execute_result"
    }
   ],
   "source": [
    "# SiteName 盤點\n",
    "# target_Site_set - dailyMax_Site_set\n",
    "print(f\"分鐘值資料缺少 {len(dailyMax_Site_set - target_Site_set)}測站!\") #\n",
    "loss_Site_set = dailyMax_Site_set - target_Site_set\n",
    "loss_Site_set"
   ]
  },
  {
   "cell_type": "code",
   "execution_count": null,
   "id": "77425756",
   "metadata": {},
   "outputs": [],
   "source": [
    "# # 製作比對字典\n",
    "# loss_Site_DeviceID_lst= [dict(zip(df_mete.SiteName, df_mete.DEVICE_ID))[s] for s in loss_Site_set]\n",
    "\n",
    "# # 檢查檔案\n",
    "# # 讀檔\n",
    "# path = r\"E:\\臭氧分鐘值_2018to2020\\20210719T004146Z\\481_國家級測站分鐘值_2018_*_*.csv\"\n",
    "# file_lst = glob(path)\n",
    "\n",
    "# # target_df_all = pd.DataFrame()\n",
    "# for file in tqdm(file_lst):\n",
    "#     df_min = pd.read_csv(file, parse_dates=[\"TIME\"], usecols=[0,3,124], dtype={0:\"category\", 124:\"float32\"})\n",
    "#     for d_id in loss_Site_DeviceID_lst:\n",
    "#         if d_id in set(df_min[\"DEVICE_ID\"]):\n",
    "#             print(f\">> {dict(zip(df_mete.DEVICE_ID, df_mete.SiteName))[d_id]} 存在: {file} !\\n資料數量: {len(df_min[df_min['DEVICE_ID'].isin([d_id])]}\")"
   ]
  },
  {
   "cell_type": "code",
   "execution_count": 406,
   "id": "e84a7f70",
   "metadata": {},
   "outputs": [
    {
     "name": "stdout",
     "output_type": "stream",
     "text": [
      "<class 'pandas.core.frame.DataFrame'>\n",
      "Int64Index: 20361 entries, 0 to 20360\n",
      "Data columns (total 15 columns):\n",
      " #   Column                  Non-Null Count  Dtype         \n",
      "---  ------                  --------------  -----         \n",
      " 0   DataCreationDate        20361 non-null  datetime64[ns]\n",
      " 1   DEVICE_ID               20361 non-null  object        \n",
      " 2   O3_min                  20361 non-null  float32       \n",
      " 3   Date                    20361 non-null  object        \n",
      " 4   O3_min_MA5              20201 non-null  float64       \n",
      " 5   front_time              20361 non-null  datetime64[ns]\n",
      " 6   DataCreationDate_front  20361 non-null  datetime64[ns]\n",
      " 7   O3_min_front            20154 non-null  float32       \n",
      " 8   O3_min_MA5_front        19952 non-null  float64       \n",
      " 9   diff                    19851 non-null  float64       \n",
      " 10  diff_ratio              19851 non-null  float64       \n",
      " 11  SiteName                20361 non-null  object        \n",
      " 12  O3_8hr_max              20361 non-null  float64       \n",
      " 13  O3_max                  20361 non-null  float64       \n",
      " 14  is_exceed_date          20361 non-null  bool          \n",
      "dtypes: bool(1), datetime64[ns](3), float32(2), float64(6), object(3)\n",
      "memory usage: 2.2+ MB\n"
     ]
    }
   ],
   "source": [
    "# 統一格式\n",
    "# target_df_all.loc[:,\"Date\"] = target_df_all.loc[:,\"Date\"].apply(lambda d: d.strftime(\"%Y-%m-%d\"))\n",
    "df_dailyMax.loc[:,\"Date\"] = df_dailyMax.loc[:,\"Date\"].astype('category')\n",
    "\n",
    "# 串超標日狀態 inner join\n",
    "target_df_all_result = target_df_all.merge(df_dailyMax, how='inner', on=[\"SiteName\", \"Date\"])\n",
    "target_df_all_result.info()"
   ]
  },
  {
   "cell_type": "code",
   "execution_count": 407,
   "id": "0ff8074c",
   "metadata": {},
   "outputs": [],
   "source": [
    "target_df_all_result.loc[: ,\"diff_ratio\"] = target_df_all_result.loc[:, \"diff_ratio\"].replace([np.inf, -np.inf], np.nan)"
   ]
  },
  {
   "cell_type": "code",
   "execution_count": 408,
   "id": "5925fed2",
   "metadata": {},
   "outputs": [
    {
     "name": "stdout",
     "output_type": "stream",
     "text": [
      "exceeed: 414\n",
      "not_exceeed: 19947\n"
     ]
    },
    {
     "data": {
      "text/plain": [
       "Text(0.5, 1.0, ' 2018年 O3分鐘值超過71時，至前60分鐘之平均濃度變化斜率 (diff) 直方圖')"
      ]
     },
     "execution_count": 408,
     "metadata": {},
     "output_type": "execute_result"
    },
    {
     "data": {
      "image/png": "[encoded data removed]",
      "text/plain": [
       "<Figure size 720x360 with 1 Axes>"
      ]
     },
     "metadata": {},
     "output_type": "display_data"
    }
   ],
   "source": [
    "import matplotlib.pyplot as plt\n",
    "from matplotlib.ticker import MaxNLocator\n",
    "%matplotlib inline\n",
    "import seaborn as sns\n",
    "sns.set(style=\"darkgrid\")\n",
    "\n",
    "from pylab import mpl\n",
    "mpl.rcParams['font.sans-serif'] = ['Microsoft YaHei']  \n",
    "mpl.rcParams['axes.unicode_minus'] = False\n",
    "\n",
    "# 選擇變數\n",
    "x = \"diff\"\n",
    "\n",
    "# 拆分資料\n",
    "exceeed = target_df_all_result[target_df_all_result[\"is_exceed_date\"]]\n",
    "not_exceeed = target_df_all_result[~target_df_all_result[\"is_exceed_date\"]]\n",
    "\n",
    "print(f\"exceeed: {len(exceeed)}\")\n",
    "print(f\"not_exceeed: {len(not_exceeed)}\")\n",
    "\n",
    "# 疊圖\n",
    "fig, ax = plt.subplots(figsize=(10,5))\n",
    "for idx, d in enumerate([not_exceeed, exceeed]):\n",
    "    if idx==1:\n",
    "        color = 'r'\n",
    "        label = \"當日橘警\"\n",
    "    else:\n",
    "        color = 'b'\n",
    "        label = \"未超標\"\n",
    "\n",
    "    sns.histplot(data=d, x=x ,ax=ax, kde=True, color=color, label=label)\n",
    "if x==\"diff_ratio\":\n",
    "    ax.set_xlim(-0.1, 1.5)\n",
    "ax.legend()\n",
    "ax.set_title(f\" 2018年 O3分鐘值超過71時，至前60分鐘之平均濃度變化斜率 ({x}) 直方圖\")"
   ]
  },
  {
   "cell_type": "code",
   "execution_count": 453,
   "id": "ff28eb03",
   "metadata": {},
   "outputs": [
    {
     "data": {
      "text/plain": [
       "<matplotlib.legend.Legend at 0x1ab5d673c10>"
      ]
     },
     "execution_count": 453,
     "metadata": {},
     "output_type": "execute_result"
    },
    {
     "data": {
      "image/png": "[encoded data removed]",
      "text/plain": [
       "<Figure size 720x432 with 1 Axes>"
      ]
     },
     "metadata": {},
     "output_type": "display_data"
    }
   ],
   "source": [
    "fig = plt.figure(figsize=(10,6))\n",
    "color = 'r'\n",
    "label = \"當日橘警\"\n",
    "sns.histplot(data=exceeed, x=\"diff\" , kde=True, color=color, label=label)\n",
    "fig.legend(bbox_to_anchor=(0.89, 0.85), borderaxespad=0)"
   ]
  },
  {
   "cell_type": "code",
   "execution_count": 454,
   "id": "4722346d",
   "metadata": {},
   "outputs": [
    {
     "name": "stdout",
     "output_type": "stream",
     "text": [
      "exceeed: 414\n",
      "not_exceeed: 19947\n"
     ]
    },
    {
     "data": {
      "text/plain": [
       "Text(0.5, 1.0, ' 2018年 O3分鐘值超過71時，至前60分鐘之平均濃度變化斜率 (diff_ratio) 直方圖')"
      ]
     },
     "execution_count": 454,
     "metadata": {},
     "output_type": "execute_result"
    },
    {
     "data": {
      "image/png": "[encoded data removed]",
      "text/plain": [
       "<Figure size 720x360 with 1 Axes>"
      ]
     },
     "metadata": {},
     "output_type": "display_data"
    }
   ],
   "source": [
    "import matplotlib.pyplot as plt\n",
    "from matplotlib.ticker import MaxNLocator\n",
    "%matplotlib inline\n",
    "import seaborn as sns\n",
    "sns.set(style=\"darkgrid\")\n",
    "\n",
    "from pylab import mpl\n",
    "mpl.rcParams['font.sans-serif'] = ['Microsoft YaHei']  \n",
    "mpl.rcParams['axes.unicode_minus'] = False\n",
    "\n",
    "# 選擇變數\n",
    "x = \"diff_ratio\"\n",
    "\n",
    "# 拆分資料\n",
    "exceeed = target_df_all_result[target_df_all_result[\"is_exceed_date\"]]\n",
    "not_exceeed = target_df_all_result[~target_df_all_result[\"is_exceed_date\"]]\n",
    "\n",
    "print(f\"exceeed: {len(exceeed)}\")\n",
    "print(f\"not_exceeed: {len(not_exceeed)}\")\n",
    "\n",
    "# 疊圖\n",
    "fig, ax = plt.subplots(figsize=(10,5))\n",
    "for idx, d in enumerate([not_exceeed, exceeed]):\n",
    "    if idx==1:\n",
    "        color = 'r'\n",
    "        label = \"當日橘警\"\n",
    "    else:\n",
    "        color = 'b'\n",
    "        label = \"未超標\"\n",
    "        \n",
    "    sns.histplot(data=d, x=x ,ax=ax, kde=True, color=color, label=label)\n",
    "    \n",
    "if x==\"diff_ratio\":\n",
    "    ax.set_xlim(-0.1, 1.5)\n",
    "ax.legend()\n",
    "ax.set_title(f\" 2018年 O3分鐘值超過71時，至前60分鐘之平均濃度變化斜率 ({x}) 直方圖\")"
   ]
  },
  {
   "cell_type": "code",
   "execution_count": 455,
   "id": "3857e5f0",
   "metadata": {},
   "outputs": [
    {
     "data": {
      "text/plain": [
       "<matplotlib.legend.Legend at 0x1ab5d69e8e0>"
      ]
     },
     "execution_count": 455,
     "metadata": {},
     "output_type": "execute_result"
    },
    {
     "data": {
      "image/png": "[encoded data removed]",
      "text/plain": [
       "<Figure size 720x432 with 1 Axes>"
      ]
     },
     "metadata": {},
     "output_type": "display_data"
    }
   ],
   "source": [
    "fig = plt.figure(figsize=(10,6))\n",
    "color = 'r'\n",
    "label = \"當日橘警\"\n",
    "sns.histplot(data=exceeed, x=\"diff_ratio\" , kde=True, color=color, label=label)\n",
    "fig.legend(bbox_to_anchor=(0.89, 0.85), borderaxespad=0)"
   ]
  },
  {
   "cell_type": "code",
   "execution_count": null,
   "id": "2b1d7b5f",
   "metadata": {},
   "outputs": [],
   "source": []
  },
  {
   "cell_type": "markdown",
   "id": "1da596d4",
   "metadata": {},
   "source": [
    "## 提前2小時 "
   ]
  },
  {
   "cell_type": "code",
   "execution_count": 456,
   "id": "64882e3c",
   "metadata": {},
   "outputs": [
    {
     "name": "stderr",
     "output_type": "stream",
     "text": [
      "100%|████████████████████████████████████████████████████████████████████████████████| 225/225 [10:20<00:00,  2.76s/it]"
     ]
    },
    {
     "name": "stdout",
     "output_type": "stream",
     "text": [
      ">> 執行完畢!\n"
     ]
    },
    {
     "name": "stderr",
     "output_type": "stream",
     "text": [
      "\n"
     ]
    }
   ],
   "source": [
    "early_hour = 2 # 提前小時數 (當分鐘值碰到71要往前抓提早多早的比較值)\n",
    "\n",
    "# 讀檔\n",
    "path = r\"E:\\臭氧分鐘值_2018to2020\\20210719T004146Z\\481_國家級測站分鐘值_2018_*_*.csv\"\n",
    "file_lst = glob(path)\n",
    "\n",
    "target_df_all = pd.DataFrame()\n",
    "for file in tqdm(file_lst):\n",
    "    df_min = pd.read_csv(file, parse_dates=[\"TIME\"], usecols=[0,3,124], dtype={0:\"category\", 124:\"float32\"})\n",
    "\n",
    "    # 格式轉換\n",
    "    df_min.rename(columns={\"O3()\":\"O3_min\",\"TIME\":\"DataCreationDate\"}, inplace=True)\n",
    "    \n",
    "\n",
    "\n",
    "    # 系統運作時間 (7-early_hour,21)\n",
    "    sys_working_zone = (7-early_hour,21)\n",
    "    time_mask_1 = (df_min[\"DataCreationDate\"].dt.hour >= sys_working_zone[0]) & (df_min[\"DataCreationDate\"].dt.hour <= sys_working_zone[1]) \n",
    "\n",
    "    # 計算前五分鐘移動平均值\n",
    "    # 5分鐘移動平均(MA5)，可容忍5缺2筆\n",
    "    col = \"O3_min\"\n",
    "    col_name = col+\"_MA5\"\n",
    "\n",
    "\n",
    "    target_df_tmp = pd.DataFrame()\n",
    "    # for loop 區分 SiteName\n",
    "    for device_id in df_min[\"DEVICE_ID\"].unique():\n",
    "#         print(device_id)\n",
    "        mask = time_mask_1 & df_min[\"DEVICE_ID\"].isin([device_id])\n",
    "        df_min_mask = df_min[mask].copy(deep=True)\n",
    "        if not df_min_mask.empty:\n",
    "\n",
    "            # 將負值設為空值\n",
    "            df_min_mask.loc[df_min_mask[\"O3_min\"]<0, \"O3_min\"] = np.nan\n",
    "\n",
    "            # 創造 統一的時間區間*測站，還原缺值\n",
    "            r = pd.date_range(start=df_min_mask[\"DataCreationDate\"].min(), end=df_min_mask[\"DataCreationDate\"].max(), freq='1min')\n",
    "            df_min_mask = df_min_mask.set_index('DataCreationDate').reindex(r).fillna(\n",
    "                                            {'DEVICE_ID':device_id, 'O3_min':np.nan}).rename_axis('DataCreationDate').reset_index()\n",
    "            \n",
    "            # 製作 Date 變數\n",
    "            df_min_mask['Date'] = df_min_mask['DataCreationDate'].dt.date.apply(lambda d: d.strftime(\"%Y-%m-%d\"))\n",
    "            df_min_mask['Date'] = df_min_mask['Date'].astype('category')\n",
    "\n",
    "            # 計算5分鐘移動平均\n",
    "            df_min_mask[col_name] = df_min_mask.sort_values(by=[\"DataCreationDate\"], ascending=[1])[col].rolling(\n",
    "                                        window=5, min_periods=3, center=False).mean().apply(\n",
    "                                        lambda m: round(m, 3) if pd.notna(m) else np.nan )\n",
    "\n",
    "            # 找出每日早上7點之後(晚上9點之前)，第1次 分鐘值 超過71 的時間點與 當分鐘的MA5\n",
    "            sys_working_zone = (7,21)\n",
    "            time_mask_2 = (df_min_mask[\"DataCreationDate\"].dt.hour >= sys_working_zone[0]) & (df_min_mask[\"DataCreationDate\"].dt.hour <= sys_working_zone[1]) \n",
    "            mask_exceed = time_mask_2 & (df_min_mask[\"O3_min\"] >= 71)\n",
    "            target_df = df_min_mask.loc[mask_exceed, :].sort_values(['DataCreationDate'], ascending=True).groupby([\"Date\"]).head(1).reset_index(drop=True)\n",
    "\n",
    "\n",
    "            # 找出目標分鐘前early_hour小時的當分鐘MA5，並合併 merge\n",
    "            target_df.loc[:, \"front_time\"] = target_df['DataCreationDate'] - timedelta(hours=early_hour)\n",
    "            target_df = target_df.merge(df_min_mask, how='inner', \n",
    "                            left_on=[\"DEVICE_ID\", \"Date\", 'front_time'], \n",
    "                            right_on=[\"DEVICE_ID\", \"Date\", 'DataCreationDate'],\n",
    "                            suffixes=(\"\", \"_front\"))\n",
    "\n",
    "            target_df_tmp = pd.concat([target_df_tmp, target_df])\n",
    "\n",
    "        else:\n",
    "            print(f\">> {device_id} in {file} is empty!!\")\n",
    "            pass\n",
    "            \n",
    "    \n",
    "        target_df_all = pd.concat([target_df_all, target_df_tmp])\n",
    "    \n",
    "target_df_all.reset_index(drop=True, inplace=True)\n",
    "target_df_all.loc[:,\"DEVICE_ID\"] = target_df_all.loc[:,\"DEVICE_ID\"].astype('category')\n",
    "target_df_all.loc[:,\"Date\"] = target_df_all.loc[:,\"Date\"].astype('category')\n",
    "print(\">> 執行完畢!\")"
   ]
  },
  {
   "cell_type": "code",
   "execution_count": 457,
   "id": "3f0dc7a9",
   "metadata": {},
   "outputs": [
    {
     "data": {
      "text/html": [
       "<div>\n",
       "<style scoped>\n",
       "    .dataframe tbody tr th:only-of-type {\n",
       "        vertical-align: middle;\n",
       "    }\n",
       "\n",
       "    .dataframe tbody tr th {\n",
       "        vertical-align: top;\n",
       "    }\n",
       "\n",
       "    .dataframe thead th {\n",
       "        text-align: right;\n",
       "    }\n",
       "</style>\n",
       "<table border=\"1\" class=\"dataframe\">\n",
       "  <thead>\n",
       "    <tr style=\"text-align: right;\">\n",
       "      <th></th>\n",
       "      <th>DataCreationDate</th>\n",
       "      <th>DEVICE_ID</th>\n",
       "      <th>O3_min</th>\n",
       "      <th>Date</th>\n",
       "      <th>O3_min_MA5</th>\n",
       "      <th>front_time</th>\n",
       "      <th>DataCreationDate_front</th>\n",
       "      <th>O3_min_front</th>\n",
       "      <th>O3_min_MA5_front</th>\n",
       "    </tr>\n",
       "  </thead>\n",
       "  <tbody>\n",
       "    <tr>\n",
       "      <th>0</th>\n",
       "      <td>2018-01-02 09:59:00</td>\n",
       "      <td>6125966040</td>\n",
       "      <td>75.050003</td>\n",
       "      <td>2018-01-02</td>\n",
       "      <td>43.103</td>\n",
       "      <td>2018-01-02 07:59:00</td>\n",
       "      <td>2018-01-02 07:59:00</td>\n",
       "      <td>1.980000</td>\n",
       "      <td>12.862</td>\n",
       "    </tr>\n",
       "    <tr>\n",
       "      <th>1</th>\n",
       "      <td>2018-01-16 12:39:00</td>\n",
       "      <td>6125966040</td>\n",
       "      <td>74.720001</td>\n",
       "      <td>2018-01-16</td>\n",
       "      <td>60.098</td>\n",
       "      <td>2018-01-16 10:39:00</td>\n",
       "      <td>2018-01-16 10:39:00</td>\n",
       "      <td>28.559999</td>\n",
       "      <td>32.402</td>\n",
       "    </tr>\n",
       "    <tr>\n",
       "      <th>2</th>\n",
       "      <td>2018-01-02 09:59:00</td>\n",
       "      <td>6125966040</td>\n",
       "      <td>75.050003</td>\n",
       "      <td>2018-01-02</td>\n",
       "      <td>43.103</td>\n",
       "      <td>2018-01-02 07:59:00</td>\n",
       "      <td>2018-01-02 07:59:00</td>\n",
       "      <td>1.980000</td>\n",
       "      <td>12.862</td>\n",
       "    </tr>\n",
       "    <tr>\n",
       "      <th>3</th>\n",
       "      <td>2018-01-16 12:39:00</td>\n",
       "      <td>6125966040</td>\n",
       "      <td>74.720001</td>\n",
       "      <td>2018-01-16</td>\n",
       "      <td>60.098</td>\n",
       "      <td>2018-01-16 10:39:00</td>\n",
       "      <td>2018-01-16 10:39:00</td>\n",
       "      <td>28.559999</td>\n",
       "      <td>32.402</td>\n",
       "    </tr>\n",
       "    <tr>\n",
       "      <th>4</th>\n",
       "      <td>2018-01-03 11:50:00</td>\n",
       "      <td>6106537758</td>\n",
       "      <td>71.099998</td>\n",
       "      <td>2018-01-03</td>\n",
       "      <td>67.180</td>\n",
       "      <td>2018-01-03 09:50:00</td>\n",
       "      <td>2018-01-03 09:50:00</td>\n",
       "      <td>32.700001</td>\n",
       "      <td>32.820</td>\n",
       "    </tr>\n",
       "    <tr>\n",
       "      <th>...</th>\n",
       "      <td>...</td>\n",
       "      <td>...</td>\n",
       "      <td>...</td>\n",
       "      <td>...</td>\n",
       "      <td>...</td>\n",
       "      <td>...</td>\n",
       "      <td>...</td>\n",
       "      <td>...</td>\n",
       "      <td>...</td>\n",
       "    </tr>\n",
       "    <tr>\n",
       "      <th>23475</th>\n",
       "      <td>2018-12-01 11:59:00</td>\n",
       "      <td>6096529303</td>\n",
       "      <td>72.099998</td>\n",
       "      <td>2018-12-01</td>\n",
       "      <td>68.220</td>\n",
       "      <td>2018-12-01 09:59:00</td>\n",
       "      <td>2018-12-01 09:59:00</td>\n",
       "      <td>34.599998</td>\n",
       "      <td>33.720</td>\n",
       "    </tr>\n",
       "    <tr>\n",
       "      <th>23476</th>\n",
       "      <td>2018-12-03 11:58:00</td>\n",
       "      <td>6096529303</td>\n",
       "      <td>71.500000</td>\n",
       "      <td>2018-12-03</td>\n",
       "      <td>68.320</td>\n",
       "      <td>2018-12-03 09:58:00</td>\n",
       "      <td>2018-12-03 09:58:00</td>\n",
       "      <td>20.200001</td>\n",
       "      <td>19.940</td>\n",
       "    </tr>\n",
       "    <tr>\n",
       "      <th>23477</th>\n",
       "      <td>2018-12-04 12:48:00</td>\n",
       "      <td>6096529303</td>\n",
       "      <td>71.199997</td>\n",
       "      <td>2018-12-04</td>\n",
       "      <td>68.420</td>\n",
       "      <td>2018-12-04 10:48:00</td>\n",
       "      <td>2018-12-04 10:48:00</td>\n",
       "      <td>33.799999</td>\n",
       "      <td>28.240</td>\n",
       "    </tr>\n",
       "    <tr>\n",
       "      <th>23478</th>\n",
       "      <td>2018-12-21 12:53:00</td>\n",
       "      <td>6102800520</td>\n",
       "      <td>71.199997</td>\n",
       "      <td>2018-12-21</td>\n",
       "      <td>69.160</td>\n",
       "      <td>2018-12-21 10:53:00</td>\n",
       "      <td>2018-12-21 10:53:00</td>\n",
       "      <td>57.599998</td>\n",
       "      <td>56.240</td>\n",
       "    </tr>\n",
       "    <tr>\n",
       "      <th>23479</th>\n",
       "      <td>2018-12-22 13:31:00</td>\n",
       "      <td>6102800520</td>\n",
       "      <td>72.800003</td>\n",
       "      <td>2018-12-22</td>\n",
       "      <td>69.180</td>\n",
       "      <td>2018-12-22 11:31:00</td>\n",
       "      <td>2018-12-22 11:31:00</td>\n",
       "      <td>54.599998</td>\n",
       "      <td>53.320</td>\n",
       "    </tr>\n",
       "  </tbody>\n",
       "</table>\n",
       "<p>23480 rows × 9 columns</p>\n",
       "</div>"
      ],
      "text/plain": [
       "         DataCreationDate   DEVICE_ID     O3_min        Date  O3_min_MA5  \\\n",
       "0     2018-01-02 09:59:00  6125966040  75.050003  2018-01-02      43.103   \n",
       "1     2018-01-16 12:39:00  6125966040  74.720001  2018-01-16      60.098   \n",
       "2     2018-01-02 09:59:00  6125966040  75.050003  2018-01-02      43.103   \n",
       "3     2018-01-16 12:39:00  6125966040  74.720001  2018-01-16      60.098   \n",
       "4     2018-01-03 11:50:00  6106537758  71.099998  2018-01-03      67.180   \n",
       "...                   ...         ...        ...         ...         ...   \n",
       "23475 2018-12-01 11:59:00  6096529303  72.099998  2018-12-01      68.220   \n",
       "23476 2018-12-03 11:58:00  6096529303  71.500000  2018-12-03      68.320   \n",
       "23477 2018-12-04 12:48:00  6096529303  71.199997  2018-12-04      68.420   \n",
       "23478 2018-12-21 12:53:00  6102800520  71.199997  2018-12-21      69.160   \n",
       "23479 2018-12-22 13:31:00  6102800520  72.800003  2018-12-22      69.180   \n",
       "\n",
       "               front_time DataCreationDate_front  O3_min_front  \\\n",
       "0     2018-01-02 07:59:00    2018-01-02 07:59:00      1.980000   \n",
       "1     2018-01-16 10:39:00    2018-01-16 10:39:00     28.559999   \n",
       "2     2018-01-02 07:59:00    2018-01-02 07:59:00      1.980000   \n",
       "3     2018-01-16 10:39:00    2018-01-16 10:39:00     28.559999   \n",
       "4     2018-01-03 09:50:00    2018-01-03 09:50:00     32.700001   \n",
       "...                   ...                    ...           ...   \n",
       "23475 2018-12-01 09:59:00    2018-12-01 09:59:00     34.599998   \n",
       "23476 2018-12-03 09:58:00    2018-12-03 09:58:00     20.200001   \n",
       "23477 2018-12-04 10:48:00    2018-12-04 10:48:00     33.799999   \n",
       "23478 2018-12-21 10:53:00    2018-12-21 10:53:00     57.599998   \n",
       "23479 2018-12-22 11:31:00    2018-12-22 11:31:00     54.599998   \n",
       "\n",
       "       O3_min_MA5_front  \n",
       "0                12.862  \n",
       "1                32.402  \n",
       "2                12.862  \n",
       "3                32.402  \n",
       "4                32.820  \n",
       "...                 ...  \n",
       "23475            33.720  \n",
       "23476            19.940  \n",
       "23477            28.240  \n",
       "23478            56.240  \n",
       "23479            53.320  \n",
       "\n",
       "[23480 rows x 9 columns]"
      ]
     },
     "execution_count": 457,
     "metadata": {},
     "output_type": "execute_result"
    }
   ],
   "source": [
    "target_df_all # 目標"
   ]
  },
  {
   "cell_type": "code",
   "execution_count": 458,
   "id": "a0f87632",
   "metadata": {},
   "outputs": [
    {
     "name": "stdout",
     "output_type": "stream",
     "text": [
      "<class 'pandas.core.frame.DataFrame'>\n",
      "RangeIndex: 23480 entries, 0 to 23479\n",
      "Data columns (total 9 columns):\n",
      " #   Column                  Non-Null Count  Dtype         \n",
      "---  ------                  --------------  -----         \n",
      " 0   DataCreationDate        23480 non-null  datetime64[ns]\n",
      " 1   DEVICE_ID               23480 non-null  category      \n",
      " 2   O3_min                  23480 non-null  float32       \n",
      " 3   Date                    23480 non-null  category      \n",
      " 4   O3_min_MA5              23289 non-null  float64       \n",
      " 5   front_time              23480 non-null  datetime64[ns]\n",
      " 6   DataCreationDate_front  23480 non-null  datetime64[ns]\n",
      " 7   O3_min_front            23244 non-null  float32       \n",
      " 8   O3_min_MA5_front        23022 non-null  float64       \n",
      "dtypes: category(2), datetime64[ns](3), float32(2), float64(2)\n",
      "memory usage: 1.2 MB\n",
      " ==輸出備份pkl== ::: target_df_all_2018_提早2hr_20210721_15.12.02.pkl\n"
     ]
    }
   ],
   "source": [
    "import sys\n",
    "sys.path.append('G:\\我的雲端硬碟\\python')\n",
    "from polib.CsvEngn import *\n",
    "\n",
    "target_df_all.info()\n",
    "# 記得存檔!!\n",
    "formtoPkl(target_df_all, f\"target_df_all_2018_提早{early_hour}hr\")"
   ]
  },
  {
   "cell_type": "code",
   "execution_count": 459,
   "id": "17da41d2",
   "metadata": {},
   "outputs": [
    {
     "name": "stdout",
     "output_type": "stream",
     "text": [
      "  >> 讀取:: G:\\我的雲端硬碟\\python\\output\\0721\\target_df_all_2018_提早2hr_20210721_15.12.02.pkl\n"
     ]
    }
   ],
   "source": [
    "# 讀檔\n",
    "target_df_all = read_data_dir_fPathExt(r\"G:\\我的雲端硬碟\\python\\output\\0721\\target_df_all_2018_提早2hr_20210721_15.12.02.pkl\")"
   ]
  },
  {
   "cell_type": "markdown",
   "id": "cab047f3",
   "metadata": {},
   "source": [
    "### 計算 diff、變化率"
   ]
  },
  {
   "cell_type": "code",
   "execution_count": 460,
   "id": "6b3fed07",
   "metadata": {},
   "outputs": [],
   "source": [
    "target_df_all.loc[:, \"diff\"] = target_df_all.loc[:, \"O3_min_MA5\"] - target_df_all.loc[:,\"O3_min_MA5_front\"]\n",
    "target_df_all.loc[:, \"diff_ratio\"] = (target_df_all.loc[:, \"O3_min_MA5\"] - target_df_all.loc[:,\"O3_min_MA5_front\"]) / target_df_all.loc[:,\"O3_min_MA5_front\"]"
   ]
  },
  {
   "cell_type": "code",
   "execution_count": 461,
   "id": "2f7c1328",
   "metadata": {},
   "outputs": [],
   "source": [
    "# DEVICE_ID 串 測站中文名\n",
    "meta_path = r\"E:\\臭氧分鐘值_2018to2020\\metedata.csv\"\n",
    "df_mete = pd.read_csv(meta_path, dtype={\"DEVICE_ID\":\"str\"})\n",
    "df_mete.loc[:, \"SiteName\"] = df_mete.loc[:, \"DEVICE_NAME\"].apply(lambda s: s.split(\"-\")[3].split(\"測站\")[0])\n",
    "\n",
    "# 串檔\n",
    "target_df_all = target_df_all.merge(df_mete[[\"DEVICE_ID\", \"SiteName\"]], how='left', on='DEVICE_ID')\n",
    "\n",
    "# 修正 台臺 問題\n",
    "df_mete.loc[:, \"SiteName\"] = df_mete.loc[:, \"SiteName\"].apply(lambda s: s.replace(\"台\", \"臺\"))\n",
    "target_df_all.loc[:, \"SiteName\"] = target_df_all.loc[:, \"SiteName\"].apply(lambda s: s.replace(\"台\", \"臺\"))\n",
    "target_Site_set = set(target_df_all[\"SiteName\"].unique())"
   ]
  },
  {
   "cell_type": "code",
   "execution_count": 462,
   "id": "babe432d",
   "metadata": {},
   "outputs": [],
   "source": [
    "# target_Site_set"
   ]
  },
  {
   "cell_type": "code",
   "execution_count": 463,
   "id": "a1198b01",
   "metadata": {},
   "outputs": [
    {
     "name": "stdout",
     "output_type": "stream",
     "text": [
      "Index(['SiteName', 'Date', 'O3_8hr_max', 'O3_max', 'is_exceed_date'], dtype='object')\n"
     ]
    }
   ],
   "source": [
    "# 讀取實際超標站日\n",
    "dailyMax_path = r\"E:\\臭氧分鐘值_2018to2020\\當日最大值是否超標_2018to2020.csv\"\n",
    "df_dailyMax = pd.read_csv(dailyMax_path, usecols=[1,2,3,4,6])\n",
    "df_dailyMax.rename(columns={\"date\":\"Date\"}, inplace=True)\n",
    "print(df_dailyMax.columns)\n",
    "\n",
    "# 修正 台臺 問題\n",
    "df_dailyMax.loc[:, \"SiteName\"] = df_dailyMax.loc[:, \"SiteName\"].apply(lambda s: s.replace(\"台\", \"臺\"))\n",
    "\n",
    "dailyMax_Site_set = set(df_dailyMax[\"SiteName\"].unique())\n",
    "# dailyMax_Site_set"
   ]
  },
  {
   "cell_type": "code",
   "execution_count": 464,
   "id": "5b614a96",
   "metadata": {},
   "outputs": [
    {
     "data": {
      "text/plain": [
       "False    26760\n",
       "True       477\n",
       "Name: is_exceed_date, dtype: int64"
      ]
     },
     "execution_count": 464,
     "metadata": {},
     "output_type": "execute_result"
    }
   ],
   "source": [
    "df_dailyMax[df_dailyMax[\"Date\"].str.find(\"2018\")>=0][\"is_exceed_date\"].value_counts()"
   ]
  },
  {
   "cell_type": "code",
   "execution_count": 465,
   "id": "bee5c614",
   "metadata": {},
   "outputs": [
    {
     "name": "stdout",
     "output_type": "stream",
     "text": [
      "分鐘值資料缺少 3測站!\n"
     ]
    },
    {
     "data": {
      "text/plain": [
       "{'大同', '斗六', '淡水'}"
      ]
     },
     "execution_count": 465,
     "metadata": {},
     "output_type": "execute_result"
    }
   ],
   "source": [
    "# SiteName 盤點\n",
    "# target_Site_set - dailyMax_Site_set\n",
    "print(f\"分鐘值資料缺少 {len(dailyMax_Site_set - target_Site_set)}測站!\") #\n",
    "loss_Site_set = dailyMax_Site_set - target_Site_set\n",
    "loss_Site_set"
   ]
  },
  {
   "cell_type": "code",
   "execution_count": 466,
   "id": "33fdbd1a",
   "metadata": {},
   "outputs": [
    {
     "name": "stdout",
     "output_type": "stream",
     "text": [
      "<class 'pandas.core.frame.DataFrame'>\n",
      "Int64Index: 20361 entries, 0 to 20360\n",
      "Data columns (total 15 columns):\n",
      " #   Column                  Non-Null Count  Dtype         \n",
      "---  ------                  --------------  -----         \n",
      " 0   DataCreationDate        20361 non-null  datetime64[ns]\n",
      " 1   DEVICE_ID               20361 non-null  object        \n",
      " 2   O3_min                  20361 non-null  float32       \n",
      " 3   Date                    20361 non-null  object        \n",
      " 4   O3_min_MA5              20201 non-null  float64       \n",
      " 5   front_time              20361 non-null  datetime64[ns]\n",
      " 6   DataCreationDate_front  20361 non-null  datetime64[ns]\n",
      " 7   O3_min_front            20185 non-null  float32       \n",
      " 8   O3_min_MA5_front        19962 non-null  float64       \n",
      " 9   diff                    19831 non-null  float64       \n",
      " 10  diff_ratio              19831 non-null  float64       \n",
      " 11  SiteName                20361 non-null  object        \n",
      " 12  O3_8hr_max              20361 non-null  float64       \n",
      " 13  O3_max                  20361 non-null  float64       \n",
      " 14  is_exceed_date          20361 non-null  bool          \n",
      "dtypes: bool(1), datetime64[ns](3), float32(2), float64(6), object(3)\n",
      "memory usage: 2.2+ MB\n"
     ]
    }
   ],
   "source": [
    "# 統一格式\n",
    "# target_df_all.loc[:,\"Date\"] = target_df_all.loc[:,\"Date\"].apply(lambda d: d.strftime(\"%Y-%m-%d\"))\n",
    "df_dailyMax.loc[:,\"Date\"] = df_dailyMax.loc[:,\"Date\"].astype('category')\n",
    "\n",
    "# 串超標日狀態 inner join\n",
    "target_df_all_result = target_df_all.merge(df_dailyMax, how='inner', on=[\"SiteName\", \"Date\"])\n",
    "target_df_all_result.info()"
   ]
  },
  {
   "cell_type": "code",
   "execution_count": 467,
   "id": "d7eb6e37",
   "metadata": {},
   "outputs": [],
   "source": [
    "target_df_all_result.loc[: ,\"diff_ratio\"] = target_df_all_result.loc[:, \"diff_ratio\"].replace([np.inf, -np.inf], np.nan)"
   ]
  },
  {
   "cell_type": "code",
   "execution_count": 468,
   "id": "1356f06d",
   "metadata": {},
   "outputs": [
    {
     "name": "stdout",
     "output_type": "stream",
     "text": [
      "exceeed: 414\n",
      "not_exceeed: 19947\n"
     ]
    },
    {
     "data": {
      "text/plain": [
       "Text(0.5, 1.0, ' 2018年 O3分鐘值超過71時，至前120分鐘之平均濃度變化斜率 (diff) 直方圖')"
      ]
     },
     "execution_count": 468,
     "metadata": {},
     "output_type": "execute_result"
    },
    {
     "data": {
      "image/png": "[encoded data removed]",
      "text/plain": [
       "<Figure size 720x360 with 1 Axes>"
      ]
     },
     "metadata": {},
     "output_type": "display_data"
    }
   ],
   "source": [
    "import matplotlib.pyplot as plt\n",
    "from matplotlib.ticker import MaxNLocator\n",
    "%matplotlib inline\n",
    "import seaborn as sns\n",
    "sns.set(style=\"darkgrid\")\n",
    "\n",
    "from pylab import mpl\n",
    "mpl.rcParams['font.sans-serif'] = ['Microsoft YaHei']  \n",
    "mpl.rcParams['axes.unicode_minus'] = False\n",
    "\n",
    "# 選擇變數\n",
    "x = \"diff\"\n",
    "\n",
    "# 拆分資料\n",
    "exceeed = target_df_all_result[target_df_all_result[\"is_exceed_date\"]]\n",
    "not_exceeed = target_df_all_result[~target_df_all_result[\"is_exceed_date\"]]\n",
    "\n",
    "print(f\"exceeed: {len(exceeed)}\")\n",
    "print(f\"not_exceeed: {len(not_exceeed)}\")\n",
    "\n",
    "# 疊圖\n",
    "fig, ax = plt.subplots(figsize=(10,5))\n",
    "for idx, d in enumerate([not_exceeed, exceeed]):\n",
    "    if idx==1:\n",
    "        color = 'r'\n",
    "        label = \"當日橘警\"\n",
    "    else:\n",
    "        color = 'b'\n",
    "        label = \"未超標\"\n",
    "\n",
    "    sns.histplot(data=d, x=x ,ax=ax, kde=True, color=color, label=label)\n",
    "if x==\"diff_ratio\":\n",
    "    ax.set_xlim(-0.1, 5)\n",
    "ax.legend()\n",
    "ax.set_title(f\" 2018年 O3分鐘值超過71時，至前{early_hour*60}分鐘之平均濃度變化斜率 ({x}) 直方圖\")"
   ]
  },
  {
   "cell_type": "code",
   "execution_count": 469,
   "id": "58dc436e",
   "metadata": {},
   "outputs": [
    {
     "data": {
      "text/plain": [
       "<matplotlib.legend.Legend at 0x1ab5d673c70>"
      ]
     },
     "execution_count": 469,
     "metadata": {},
     "output_type": "execute_result"
    },
    {
     "data": {
      "image/png": "[encoded data removed]",
      "text/plain": [
       "<Figure size 720x432 with 1 Axes>"
      ]
     },
     "metadata": {},
     "output_type": "display_data"
    }
   ],
   "source": [
    "fig = plt.figure(figsize=(10,6))\n",
    "color = 'r'\n",
    "label = \"當日橘警\"\n",
    "sns.histplot(data=exceeed, x=\"diff\" , kde=True, color=color, label=label)\n",
    "fig.legend(bbox_to_anchor=(0.89, 0.85), borderaxespad=0)"
   ]
  },
  {
   "cell_type": "code",
   "execution_count": 472,
   "id": "1d9d55f5",
   "metadata": {},
   "outputs": [
    {
     "name": "stdout",
     "output_type": "stream",
     "text": [
      "exceeed: 414\n",
      "not_exceeed: 19947\n"
     ]
    },
    {
     "data": {
      "text/plain": [
       "Text(0.5, 1.0, ' 2018年 O3分鐘值超過71時，至前120分鐘之平均濃度變化斜率 (diff_ratio) 直方圖')"
      ]
     },
     "execution_count": 472,
     "metadata": {},
     "output_type": "execute_result"
    },
    {
     "data": {
      "image/png": "[encoded data removed]",
      "text/plain": [
       "<Figure size 720x360 with 1 Axes>"
      ]
     },
     "metadata": {},
     "output_type": "display_data"
    }
   ],
   "source": [
    "import matplotlib.pyplot as plt\n",
    "from matplotlib.ticker import MaxNLocator\n",
    "%matplotlib inline\n",
    "import seaborn as sns\n",
    "sns.set(style=\"darkgrid\")\n",
    "\n",
    "from pylab import mpl\n",
    "mpl.rcParams['font.sans-serif'] = ['Microsoft YaHei']  \n",
    "mpl.rcParams['axes.unicode_minus'] = False\n",
    "\n",
    "# 選擇變數\n",
    "x = \"diff_ratio\"\n",
    "\n",
    "# 拆分資料\n",
    "exceeed = target_df_all_result[target_df_all_result[\"is_exceed_date\"]]\n",
    "not_exceeed = target_df_all_result[~target_df_all_result[\"is_exceed_date\"]]\n",
    "\n",
    "print(f\"exceeed: {len(exceeed)}\")\n",
    "print(f\"not_exceeed: {len(not_exceeed)}\")\n",
    "\n",
    "# 疊圖\n",
    "fig, ax = plt.subplots(figsize=(10,5))\n",
    "for idx, d in enumerate([not_exceeed, exceeed]):\n",
    "    if idx==1:\n",
    "        color = 'r'\n",
    "        label = \"當日橘警\"\n",
    "    else:\n",
    "        color = 'b'\n",
    "        label = \"未超標\"\n",
    "        \n",
    "    sns.histplot(data=d, x=x ,ax=ax, kde=True, color=color, label=label)\n",
    "    \n",
    "if x==\"diff_ratio\":\n",
    "    ax.set_xlim(-0.1, 5)\n",
    "ax.legend()\n",
    "ax.set_title(f\" 2018年 O3分鐘值超過71時，至前{early_hour*60}分鐘之平均濃度變化斜率 ({x}) 直方圖\")"
   ]
  },
  {
   "cell_type": "code",
   "execution_count": 471,
   "id": "2105ae6a",
   "metadata": {},
   "outputs": [
    {
     "data": {
      "text/plain": [
       "<matplotlib.legend.Legend at 0x1ab62b23b50>"
      ]
     },
     "execution_count": 471,
     "metadata": {},
     "output_type": "execute_result"
    },
    {
     "data": {
      "image/png": "[encoded data removed]",
      "text/plain": [
       "<Figure size 720x432 with 1 Axes>"
      ]
     },
     "metadata": {},
     "output_type": "display_data"
    }
   ],
   "source": [
    "fig = plt.figure(figsize=(10,6))\n",
    "color = 'r'\n",
    "label = \"當日橘警\"\n",
    "sns.histplot(data=exceeed, x=\"diff_ratio\" , kde=True, color=color, label=label)\n",
    "fig.legend(bbox_to_anchor=(0.89, 0.85), borderaxespad=0)"
   ]
  },
  {
   "cell_type": "code",
   "execution_count": null,
   "id": "5ccd9f3c",
   "metadata": {},
   "outputs": [],
   "source": []
  },
  {
   "cell_type": "markdown",
   "id": "3aa4a85e",
   "metadata": {},
   "source": [
    "# 改寫成 Dask DataFrame (卡住.. 請先忽略)"
   ]
  },
  {
   "cell_type": "code",
   "execution_count": 123,
   "id": "7e2b758f",
   "metadata": {},
   "outputs": [
    {
     "name": "stdout",
     "output_type": "stream",
     "text": [
      "<class 'dask.dataframe.core.DataFrame'>\n",
      "Columns: 4 entries, DEVICE_ID to Date\n",
      "dtypes: category(2), datetime64[ns](1), float32(1)"
     ]
    }
   ],
   "source": [
    "# 讀檔\n",
    "path = \"E:/臭氧分鐘值_2018to2020/20210719T004146Z/481_國家級測站分鐘值_2018_01_0.csv\" #2018 全年度\n",
    "df_min = dd.read_csv(path, usecols=[0,3,124], parse_dates=[\"TIME\"], dtype={0:\"category\", 124:\"float32\"})\n",
    "# print(type(df_min))\n",
    "\n",
    "# # 格式轉換\n",
    "df_min = df_min.rename(columns={\"O3()\":\"O3_min\",\"TIME\":\"DataCreationDate\"})\n",
    "\n",
    "df_min['Date'] = df_min['DataCreationDate'].dt.date\n",
    "df_min['Date'] = df_min['Date'].astype('category')\n",
    "\n",
    "df_min.info()"
   ]
  },
  {
   "cell_type": "code",
   "execution_count": 129,
   "id": "2f0eb85c",
   "metadata": {},
   "outputs": [
    {
     "ename": "AttributeError",
     "evalue": "'Column not found: compute'",
     "output_type": "error",
     "traceback": [
      "\u001b[1;31m---------------------------------------------------------------------------\u001b[0m",
      "\u001b[1;31mKeyError\u001b[0m                                  Traceback (most recent call last)",
      "\u001b[1;32m~\\anaconda3\\lib\\site-packages\\dask\\dataframe\\groupby.py\u001b[0m in \u001b[0;36m__getattr__\u001b[1;34m(self, key)\u001b[0m\n\u001b[0;32m   1833\u001b[0m         \u001b[1;32mtry\u001b[0m\u001b[1;33m:\u001b[0m\u001b[1;33m\u001b[0m\u001b[1;33m\u001b[0m\u001b[0m\n\u001b[1;32m-> 1834\u001b[1;33m             \u001b[1;32mreturn\u001b[0m \u001b[0mself\u001b[0m\u001b[1;33m[\u001b[0m\u001b[0mkey\u001b[0m\u001b[1;33m]\u001b[0m\u001b[1;33m\u001b[0m\u001b[1;33m\u001b[0m\u001b[0m\n\u001b[0m\u001b[0;32m   1835\u001b[0m         \u001b[1;32mexcept\u001b[0m \u001b[0mKeyError\u001b[0m \u001b[1;32mas\u001b[0m \u001b[0me\u001b[0m\u001b[1;33m:\u001b[0m\u001b[1;33m\u001b[0m\u001b[1;33m\u001b[0m\u001b[0m\n",
      "\u001b[1;32m~\\anaconda3\\lib\\site-packages\\dask\\dataframe\\groupby.py\u001b[0m in \u001b[0;36m__getitem__\u001b[1;34m(self, key)\u001b[0m\n\u001b[0;32m   1819\u001b[0m         \u001b[1;31m# error is raised from pandas\u001b[0m\u001b[1;33m\u001b[0m\u001b[1;33m\u001b[0m\u001b[1;33m\u001b[0m\u001b[0m\n\u001b[1;32m-> 1820\u001b[1;33m         \u001b[0mg\u001b[0m\u001b[1;33m.\u001b[0m\u001b[0m_meta\u001b[0m \u001b[1;33m=\u001b[0m \u001b[0mg\u001b[0m\u001b[1;33m.\u001b[0m\u001b[0m_meta\u001b[0m\u001b[1;33m[\u001b[0m\u001b[0mkey\u001b[0m\u001b[1;33m]\u001b[0m\u001b[1;33m\u001b[0m\u001b[1;33m\u001b[0m\u001b[0m\n\u001b[0m\u001b[0;32m   1821\u001b[0m         \u001b[1;32mreturn\u001b[0m \u001b[0mg\u001b[0m\u001b[1;33m\u001b[0m\u001b[1;33m\u001b[0m\u001b[0m\n",
      "\u001b[1;32m~\\anaconda3\\lib\\site-packages\\pandas\\core\\groupby\\generic.py\u001b[0m in \u001b[0;36m__getitem__\u001b[1;34m(self, key)\u001b[0m\n\u001b[0;32m   1541\u001b[0m             )\n\u001b[1;32m-> 1542\u001b[1;33m         \u001b[1;32mreturn\u001b[0m \u001b[0msuper\u001b[0m\u001b[1;33m(\u001b[0m\u001b[1;33m)\u001b[0m\u001b[1;33m.\u001b[0m\u001b[0m__getitem__\u001b[0m\u001b[1;33m(\u001b[0m\u001b[0mkey\u001b[0m\u001b[1;33m)\u001b[0m\u001b[1;33m\u001b[0m\u001b[1;33m\u001b[0m\u001b[0m\n\u001b[0m\u001b[0;32m   1543\u001b[0m \u001b[1;33m\u001b[0m\u001b[0m\n",
      "\u001b[1;32m~\\anaconda3\\lib\\site-packages\\pandas\\core\\base.py\u001b[0m in \u001b[0;36m__getitem__\u001b[1;34m(self, key)\u001b[0m\n\u001b[0;32m    279\u001b[0m             \u001b[1;32mif\u001b[0m \u001b[0mkey\u001b[0m \u001b[1;32mnot\u001b[0m \u001b[1;32min\u001b[0m \u001b[0mself\u001b[0m\u001b[1;33m.\u001b[0m\u001b[0mobj\u001b[0m\u001b[1;33m:\u001b[0m  \u001b[1;31m# type: ignore[attr-defined]\u001b[0m\u001b[1;33m\u001b[0m\u001b[1;33m\u001b[0m\u001b[0m\n\u001b[1;32m--> 280\u001b[1;33m                 \u001b[1;32mraise\u001b[0m \u001b[0mKeyError\u001b[0m\u001b[1;33m(\u001b[0m\u001b[1;34mf\"Column not found: {key}\"\u001b[0m\u001b[1;33m)\u001b[0m\u001b[1;33m\u001b[0m\u001b[1;33m\u001b[0m\u001b[0m\n\u001b[0m\u001b[0;32m    281\u001b[0m             \u001b[1;32mreturn\u001b[0m \u001b[0mself\u001b[0m\u001b[1;33m.\u001b[0m\u001b[0m_gotitem\u001b[0m\u001b[1;33m(\u001b[0m\u001b[0mkey\u001b[0m\u001b[1;33m,\u001b[0m \u001b[0mndim\u001b[0m\u001b[1;33m=\u001b[0m\u001b[1;36m1\u001b[0m\u001b[1;33m)\u001b[0m\u001b[1;33m\u001b[0m\u001b[1;33m\u001b[0m\u001b[0m\n",
      "\u001b[1;31mKeyError\u001b[0m: 'Column not found: compute'",
      "\nThe above exception was the direct cause of the following exception:\n",
      "\u001b[1;31mAttributeError\u001b[0m                            Traceback (most recent call last)",
      "\u001b[1;32m<ipython-input-129-5542ed40525d>\u001b[0m in \u001b[0;36m<module>\u001b[1;34m\u001b[0m\n\u001b[0;32m     38\u001b[0m         \u001b[0mmask_exceed\u001b[0m \u001b[1;33m=\u001b[0m \u001b[0mtime_mask\u001b[0m \u001b[1;33m&\u001b[0m \u001b[1;33m(\u001b[0m\u001b[0mdf_min_mask\u001b[0m\u001b[1;33m[\u001b[0m\u001b[1;34m\"O3_min\"\u001b[0m\u001b[1;33m]\u001b[0m \u001b[1;33m>=\u001b[0m \u001b[1;36m71\u001b[0m\u001b[1;33m)\u001b[0m\u001b[1;33m\u001b[0m\u001b[1;33m\u001b[0m\u001b[0m\n\u001b[0;32m     39\u001b[0m         \u001b[0mdf_min_mask_exceed\u001b[0m \u001b[1;33m=\u001b[0m \u001b[0mdf_min_mask\u001b[0m\u001b[1;33m[\u001b[0m\u001b[0mmask_exceed\u001b[0m\u001b[1;33m]\u001b[0m\u001b[1;33m\u001b[0m\u001b[1;33m\u001b[0m\u001b[0m\n\u001b[1;32m---> 40\u001b[1;33m         \u001b[0mtarget_df\u001b[0m \u001b[1;33m=\u001b[0m \u001b[0mdf_min_mask_exceed\u001b[0m\u001b[1;33m.\u001b[0m\u001b[0msort_values\u001b[0m\u001b[1;33m(\u001b[0m\u001b[1;33m[\u001b[0m\u001b[1;34m'DataCreationDate'\u001b[0m\u001b[1;33m]\u001b[0m\u001b[1;33m,\u001b[0m \u001b[0mascending\u001b[0m\u001b[1;33m=\u001b[0m\u001b[1;32mTrue\u001b[0m\u001b[1;33m)\u001b[0m\u001b[1;33m.\u001b[0m\u001b[0mgroupby\u001b[0m\u001b[1;33m(\u001b[0m\u001b[1;33m[\u001b[0m\u001b[1;34m\"DEVICE_ID\"\u001b[0m\u001b[1;33m,\u001b[0m \u001b[1;34m\"Date\"\u001b[0m\u001b[1;33m]\u001b[0m\u001b[1;33m)\u001b[0m\u001b[1;33m.\u001b[0m\u001b[0mcompute\u001b[0m\u001b[1;33m(\u001b[0m\u001b[1;33m)\u001b[0m\u001b[1;33m[\u001b[0m\u001b[1;36m0\u001b[0m\u001b[1;33m]\u001b[0m\u001b[1;33m.\u001b[0m\u001b[0mreset_index\u001b[0m\u001b[1;33m(\u001b[0m\u001b[0mdrop\u001b[0m\u001b[1;33m=\u001b[0m\u001b[1;32mTrue\u001b[0m\u001b[1;33m)\u001b[0m\u001b[1;33m\u001b[0m\u001b[1;33m\u001b[0m\u001b[0m\n\u001b[0m\u001b[0;32m     41\u001b[0m \u001b[1;33m\u001b[0m\u001b[0m\n\u001b[0;32m     42\u001b[0m \u001b[1;33m\u001b[0m\u001b[0m\n",
      "\u001b[1;32m~\\anaconda3\\lib\\site-packages\\dask\\dataframe\\groupby.py\u001b[0m in \u001b[0;36m__getattr__\u001b[1;34m(self, key)\u001b[0m\n\u001b[0;32m   1834\u001b[0m             \u001b[1;32mreturn\u001b[0m \u001b[0mself\u001b[0m\u001b[1;33m[\u001b[0m\u001b[0mkey\u001b[0m\u001b[1;33m]\u001b[0m\u001b[1;33m\u001b[0m\u001b[1;33m\u001b[0m\u001b[0m\n\u001b[0;32m   1835\u001b[0m         \u001b[1;32mexcept\u001b[0m \u001b[0mKeyError\u001b[0m \u001b[1;32mas\u001b[0m \u001b[0me\u001b[0m\u001b[1;33m:\u001b[0m\u001b[1;33m\u001b[0m\u001b[1;33m\u001b[0m\u001b[0m\n\u001b[1;32m-> 1836\u001b[1;33m             \u001b[1;32mraise\u001b[0m \u001b[0mAttributeError\u001b[0m\u001b[1;33m(\u001b[0m\u001b[0me\u001b[0m\u001b[1;33m)\u001b[0m \u001b[1;32mfrom\u001b[0m \u001b[0me\u001b[0m\u001b[1;33m\u001b[0m\u001b[1;33m\u001b[0m\u001b[0m\n\u001b[0m\u001b[0;32m   1837\u001b[0m \u001b[1;33m\u001b[0m\u001b[0m\n\u001b[0;32m   1838\u001b[0m     \u001b[1;33m@\u001b[0m\u001b[0mderived_from\u001b[0m\u001b[1;33m(\u001b[0m\u001b[0mpd\u001b[0m\u001b[1;33m.\u001b[0m\u001b[0mcore\u001b[0m\u001b[1;33m.\u001b[0m\u001b[0mgroupby\u001b[0m\u001b[1;33m.\u001b[0m\u001b[0mDataFrameGroupBy\u001b[0m\u001b[1;33m)\u001b[0m\u001b[1;33m\u001b[0m\u001b[1;33m\u001b[0m\u001b[0m\n",
      "\u001b[1;31mAttributeError\u001b[0m: 'Column not found: compute'"
     ]
    }
   ],
   "source": [
    "# 系統運作時間 (7-1,21)\n",
    "sys_working_zone = (6,21)\n",
    "time_mask = (df_min[\"DataCreationDate\"].dt.hour >= sys_working_zone[0]) & (df_min[\"DataCreationDate\"].dt.hour <= sys_working_zone[1]) \n",
    "\n",
    "# 計算前五分鐘移動平均值\n",
    "# 5分鐘移動平均(MA5)，可容忍5缺2筆\n",
    "col = \"O3_min\"\n",
    "col_name = col+\"_MA5\"\n",
    "\n",
    "target_df_all = pd.DataFrame()\n",
    "# for loop 區分 SiteName\n",
    "for device_id in df_min[\"DEVICE_ID\"].unique():\n",
    "    mask = time_mask & df_min[\"DEVICE_ID\"].isin([device_id])\n",
    "    df_min_mask = df_min[mask]\n",
    "    if len(df_min_mask.index) > 0:\n",
    "    \n",
    "        # 將負值設為空值\n",
    "        df_min_mask[df_min_mask[\"O3_min\"]<0][\"O3_min\"] = np.nan\n",
    "\n",
    "#         # 創造 統一的時間區間*測站，還原缺值\n",
    "#         r = pd.date_range(start=df_min_mask[\"DataCreationDate\"].min(), end=df_min_mask[\"DataCreationDate\"].max(), freq='1min')\n",
    "#         df_min_mask = df_min_mask.set_index('DataCreationDate').reindex(r).fillna(\n",
    "#                                         {'DEVICE_ID':device_id, 'O3_min':np.nan}).rename_axis('DataCreationDate').reset_index()\n",
    "\n",
    "        # 製作 Date 變數\n",
    "        df_min_mask['Date'] = df_min_mask['DataCreationDate'].dt.date\n",
    "        df_min_mask['Date'] = df_min_mask['Date'].astype('category')\n",
    "    \n",
    "        # 計算5分鐘移動平均\n",
    "        df_min_mask[col_name] = df_min_mask.sort_values(by=[\"DataCreationDate\"], ascending=[1])[col].rolling(\n",
    "                                    window=5, min_periods=3, center=False).mean().apply(\n",
    "                                    lambda m: round(m, 3) if pd.notna(m) else np.nan , meta=('O3_min', 'float64'))\n",
    "\n",
    "\n",
    "        # 找出每日早上7點之後(晚上9點之前)，第1次 分鐘值 超過71 的時間點與 當分鐘的MA5\n",
    "        sys_working_zone = (7,21)\n",
    "        time_mask = (df_min_mask[\"DataCreationDate\"].dt.hour >= sys_working_zone[0]) & (df_min_mask[\"DataCreationDate\"].dt.hour <= sys_working_zone[1]) \n",
    "        mask_exceed = time_mask & (df_min_mask[\"O3_min\"] >= 71)\n",
    "        df_min_mask_exceed = df_min_mask[mask_exceed]\n",
    "        target_df = df_min_mask_exceed.sort_values(['DataCreationDate'], ascending=True).groupby([\"DEVICE_ID\", \"Date\"]).compute().head(1).reset_index(drop=True)\n",
    "        \n",
    "        \n",
    "#         # 找出每日早上7點之後(晚上9點之前)，第1次 分鐘值 超過71 的時間點與 當分鐘的MA5\n",
    "#         sys_working_zone = (7,21)\n",
    "#         time_mask = (df_min_mask[\"DataCreationDate\"].dt.hour >= sys_working_zone[0]) & (df_min_mask[\"DataCreationDate\"].dt.hour <= sys_working_zone[1]) \n",
    "#         mask_exceed = time_mask & (df_min_mask[\"O3_min\"] >= 71)\n",
    "#         target_df = df_min_mask.sort_values(\n",
    "#                                             ['DataCreationDate'], ascending=True).groupby(\n",
    "#                                                                                     [\"DEVICE_ID\", \"Date\"]).first().reset_index()\n",
    "\n",
    "\n",
    "\n",
    "        # # 找出目標分鐘前1小時的MA5，並合併 merge\n",
    "        target_df[\"front_time\"] = target_df['DataCreationDate'] - timedelta(hours=1)\n",
    "        target_df = target_df.merge(df_min_mask, how='inner', \n",
    "                        left_on=[\"DEVICE_ID\", \"Date\", 'front_time'], \n",
    "                        right_on=[\"DEVICE_ID\", \"Date\", 'DataCreationDate'],\n",
    "                        suffixes=(\"\", \"_front\"))\n",
    "\n",
    "        target_df_all = pd.concat([target_df_all, target_df.compute()])\n",
    "        target_df_all = target_df_all.drop_duplicates()\n",
    "        print(f\">> DEVICE_ID: {device_id} 計算完成  Now: {datetime.now().time()}\")\n",
    "    \n",
    "print(f\"\\n>>> 全部計算完成!  Now: {datetime.now()}\")\n",
    "target_df_all.reset_index(drop=True, inplace=True) # compute完 已經是 pandas.core.frame.DataFrame"
   ]
  },
  {
   "cell_type": "code",
   "execution_count": 6,
   "id": "53e6c36a",
   "metadata": {},
   "outputs": [
    {
     "data": {
      "text/html": [
       "<div>\n",
       "<style scoped>\n",
       "    .dataframe tbody tr th:only-of-type {\n",
       "        vertical-align: middle;\n",
       "    }\n",
       "\n",
       "    .dataframe tbody tr th {\n",
       "        vertical-align: top;\n",
       "    }\n",
       "\n",
       "    .dataframe thead th {\n",
       "        text-align: right;\n",
       "    }\n",
       "</style>\n",
       "<table border=\"1\" class=\"dataframe\">\n",
       "  <thead>\n",
       "    <tr style=\"text-align: right;\">\n",
       "      <th></th>\n",
       "      <th>DEVICE_ID</th>\n",
       "      <th>Date</th>\n",
       "      <th>DataCreationDate</th>\n",
       "      <th>O3_min</th>\n",
       "      <th>front_time</th>\n",
       "      <th>DataCreationDate_front</th>\n",
       "      <th>O3_min_front</th>\n",
       "    </tr>\n",
       "  </thead>\n",
       "  <tbody>\n",
       "    <tr>\n",
       "      <th>0</th>\n",
       "      <td>6106537758</td>\n",
       "      <td>2018-01-03</td>\n",
       "      <td>2018-01-03 11:50:00</td>\n",
       "      <td>71.099998</td>\n",
       "      <td>2018-01-03 10:50:00</td>\n",
       "      <td>2018-01-03 10:50:00</td>\n",
       "      <td>43.000000</td>\n",
       "    </tr>\n",
       "    <tr>\n",
       "      <th>1</th>\n",
       "      <td>6106537758</td>\n",
       "      <td>2018-01-04</td>\n",
       "      <td>2018-01-04 11:39:00</td>\n",
       "      <td>71.800003</td>\n",
       "      <td>2018-01-04 10:39:00</td>\n",
       "      <td>2018-01-04 10:39:00</td>\n",
       "      <td>52.299999</td>\n",
       "    </tr>\n",
       "    <tr>\n",
       "      <th>2</th>\n",
       "      <td>6106537758</td>\n",
       "      <td>2018-01-13</td>\n",
       "      <td>2018-01-13 13:55:00</td>\n",
       "      <td>71.300003</td>\n",
       "      <td>2018-01-13 12:55:00</td>\n",
       "      <td>2018-01-13 12:55:00</td>\n",
       "      <td>61.700001</td>\n",
       "    </tr>\n",
       "    <tr>\n",
       "      <th>3</th>\n",
       "      <td>6106537758</td>\n",
       "      <td>2018-01-14</td>\n",
       "      <td>2018-01-14 10:18:00</td>\n",
       "      <td>72.400002</td>\n",
       "      <td>2018-01-14 09:18:00</td>\n",
       "      <td>2018-01-14 09:18:00</td>\n",
       "      <td>47.400002</td>\n",
       "    </tr>\n",
       "    <tr>\n",
       "      <th>4</th>\n",
       "      <td>6106537758</td>\n",
       "      <td>2018-01-15</td>\n",
       "      <td>2018-01-15 13:05:00</td>\n",
       "      <td>71.800003</td>\n",
       "      <td>2018-01-15 12:05:00</td>\n",
       "      <td>2018-01-15 12:05:00</td>\n",
       "      <td>55.599998</td>\n",
       "    </tr>\n",
       "    <tr>\n",
       "      <th>...</th>\n",
       "      <td>...</td>\n",
       "      <td>...</td>\n",
       "      <td>...</td>\n",
       "      <td>...</td>\n",
       "      <td>...</td>\n",
       "      <td>...</td>\n",
       "      <td>...</td>\n",
       "    </tr>\n",
       "    <tr>\n",
       "      <th>11</th>\n",
       "      <td>6097989748</td>\n",
       "      <td>2018-12-20</td>\n",
       "      <td>2018-12-20 14:13:00</td>\n",
       "      <td>100.199997</td>\n",
       "      <td>2018-12-20 13:13:00</td>\n",
       "      <td>2018-12-20 13:13:00</td>\n",
       "      <td>0.000000</td>\n",
       "    </tr>\n",
       "    <tr>\n",
       "      <th>12</th>\n",
       "      <td>6097989748</td>\n",
       "      <td>2018-12-21</td>\n",
       "      <td>2018-12-21 11:52:00</td>\n",
       "      <td>71.900002</td>\n",
       "      <td>2018-12-21 10:52:00</td>\n",
       "      <td>2018-12-21 10:52:00</td>\n",
       "      <td>0.000000</td>\n",
       "    </tr>\n",
       "    <tr>\n",
       "      <th>13</th>\n",
       "      <td>6097989748</td>\n",
       "      <td>2018-12-22</td>\n",
       "      <td>2018-12-22 11:36:00</td>\n",
       "      <td>71.400002</td>\n",
       "      <td>2018-12-22 10:36:00</td>\n",
       "      <td>2018-12-22 10:36:00</td>\n",
       "      <td>51.599998</td>\n",
       "    </tr>\n",
       "    <tr>\n",
       "      <th>14</th>\n",
       "      <td>6102800520</td>\n",
       "      <td>2018-12-21</td>\n",
       "      <td>2018-12-21 12:53:00</td>\n",
       "      <td>71.199997</td>\n",
       "      <td>2018-12-21 11:53:00</td>\n",
       "      <td>2018-12-21 11:53:00</td>\n",
       "      <td>65.000000</td>\n",
       "    </tr>\n",
       "    <tr>\n",
       "      <th>15</th>\n",
       "      <td>6102800520</td>\n",
       "      <td>2018-12-22</td>\n",
       "      <td>2018-12-22 13:31:00</td>\n",
       "      <td>72.800003</td>\n",
       "      <td>2018-12-22 12:31:00</td>\n",
       "      <td>2018-12-22 12:31:00</td>\n",
       "      <td>61.900002</td>\n",
       "    </tr>\n",
       "  </tbody>\n",
       "</table>\n",
       "<p>8007 rows × 7 columns</p>\n",
       "</div>"
      ],
      "text/plain": [
       "     DEVICE_ID       Date    DataCreationDate      O3_min          front_time  \\\n",
       "0   6106537758 2018-01-03 2018-01-03 11:50:00   71.099998 2018-01-03 10:50:00   \n",
       "1   6106537758 2018-01-04 2018-01-04 11:39:00   71.800003 2018-01-04 10:39:00   \n",
       "2   6106537758 2018-01-13 2018-01-13 13:55:00   71.300003 2018-01-13 12:55:00   \n",
       "3   6106537758 2018-01-14 2018-01-14 10:18:00   72.400002 2018-01-14 09:18:00   \n",
       "4   6106537758 2018-01-15 2018-01-15 13:05:00   71.800003 2018-01-15 12:05:00   \n",
       "..         ...        ...                 ...         ...                 ...   \n",
       "11  6097989748 2018-12-20 2018-12-20 14:13:00  100.199997 2018-12-20 13:13:00   \n",
       "12  6097989748 2018-12-21 2018-12-21 11:52:00   71.900002 2018-12-21 10:52:00   \n",
       "13  6097989748 2018-12-22 2018-12-22 11:36:00   71.400002 2018-12-22 10:36:00   \n",
       "14  6102800520 2018-12-21 2018-12-21 12:53:00   71.199997 2018-12-21 11:53:00   \n",
       "15  6102800520 2018-12-22 2018-12-22 13:31:00   72.800003 2018-12-22 12:31:00   \n",
       "\n",
       "   DataCreationDate_front  O3_min_front  \n",
       "0     2018-01-03 10:50:00     43.000000  \n",
       "1     2018-01-04 10:39:00     52.299999  \n",
       "2     2018-01-13 12:55:00     61.700001  \n",
       "3     2018-01-14 09:18:00     47.400002  \n",
       "4     2018-01-15 12:05:00     55.599998  \n",
       "..                    ...           ...  \n",
       "11    2018-12-20 13:13:00      0.000000  \n",
       "12    2018-12-21 10:52:00      0.000000  \n",
       "13    2018-12-22 10:36:00     51.599998  \n",
       "14    2018-12-21 11:53:00     65.000000  \n",
       "15    2018-12-22 12:31:00     61.900002  \n",
       "\n",
       "[8007 rows x 7 columns]"
      ]
     },
     "execution_count": 6,
     "metadata": {},
     "output_type": "execute_result"
    }
   ],
   "source": [
    "target_df_all"
   ]
  },
  {
   "cell_type": "code",
   "execution_count": null,
   "id": "40de3d21",
   "metadata": {},
   "outputs": [],
   "source": [
    "import os\n",
    "os.environ[\"PATH\"] += os.pathsep + 'C:/Program Files/Graphviz/bin/'\n",
    "\n",
    "target_df.visualize()"
   ]
  },
  {
   "cell_type": "markdown",
   "id": "40df45a9",
   "metadata": {},
   "source": [
    "Reduce, and then use Pandas"
   ]
  },
  {
   "cell_type": "code",
   "execution_count": null,
   "id": "d213820a",
   "metadata": {},
   "outputs": [],
   "source": []
  },
  {
   "cell_type": "code",
   "execution_count": null,
   "id": "514975b5",
   "metadata": {},
   "outputs": [],
   "source": []
  },
  {
   "cell_type": "code",
   "execution_count": null,
   "id": "ff038035",
   "metadata": {},
   "outputs": [],
   "source": []
  }
 ],
 "metadata": {
  "kernelspec": {
   "display_name": "Python 3",
   "language": "python",
   "name": "python3"
  },
  "language_info": {
   "codemirror_mode": {
    "name": "ipython",
    "version": 3
   },
   "file_extension": ".py",
   "mimetype": "text/x-python",
   "name": "python",
   "nbconvert_exporter": "python",
   "pygments_lexer": "ipython3",
   "version": "3.8.3"
  }
 },
 "nbformat": 4,
 "nbformat_minor": 5
}
