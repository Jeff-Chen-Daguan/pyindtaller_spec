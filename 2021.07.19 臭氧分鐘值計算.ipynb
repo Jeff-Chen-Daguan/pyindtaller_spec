{
 "cells": [
  {
   "cell_type": "markdown",
   "id": "278188c7",
   "metadata": {},
   "source": [
    "2021.07.19 臭氧分鐘值計算_使用Dask"
   ]
  },
  {
   "cell_type": "markdown",
   "id": "b2e92278",
   "metadata": {},
   "source": [
    "方法: O3 滾動式5分鐘平均值(挑2個)，7點之後第1次O3分鐘值超過71，的當分鐘(平均值)與前60分鐘(平均值)的**斜率**\n",
    "- 2018~2020 超標日，的**斜率範圍/統計**\n",
    "- 2018~2020 非超標日，的**斜率範圍/統計**"
   ]
  },
  {
   "cell_type": "markdown",
   "id": "a304641d",
   "metadata": {},
   "source": [
    "資料來源: 國家級分鐘值\n",
    "- 2018: https://drive.google.com/drive/u/3/folders/1DW3XKadiPNxD6GnuuU4XHHlkotS1oSWZ\n",
    "\n",
    "- 2019: https://drive.google.com/drive/u/3/folders/1eW7YXoTY4k83ix4vC7ulQcwlVOSDoyGB\n",
    "\n",
    "- 2020: https://drive.google.com/drive/u/0/folders/1dlduun3eQ-aXqRsgQ24owsJbVfzIlVRb"
   ]
  },
  {
   "cell_type": "markdown",
   "id": "1ab43f85",
   "metadata": {},
   "source": [
    "挑戰:\n",
    "-  本機端RAM: 16G， 上面每一年的檔案大小約10G，總共約30G(解壓縮前)，解壓縮後近60G，超過RAM負荷\n",
    "    1. 先使用Dask分布是運算來先降維度，再使用Pandas\n",
    "    2. 使用Pandas + glob 循環式計算存檔"
   ]
  },
  {
   "cell_type": "markdown",
   "id": "419b3561",
   "metadata": {},
   "source": [
    "Dask 限制:\n",
    "1. Dask 不支援 多個欄位的 sort_values\n",
    "2. Dask 中用到 df.loc[mask,cols]時，要改寫成: dask.dataframe.Series.mask >> df[cols].mask(mask)；或分成兩段式 df_mask = df[mask]\n",
    "3. groupby+rolling 方法 Dask 尚未支援 >> 單純使用rolling OK\n",
    "4. groupby + head 方法 Dask 尚未支援 >> 將 head 改成 first >> 但是跟預期的效果不同...\n",
    "5. 以TimeStamp reindex dask dataframe 會出錯"
   ]
  },
  {
   "cell_type": "markdown",
   "id": "9855776e",
   "metadata": {},
   "source": [
    "Pandas + glob 限制:\n",
    "1. 檔案之間的銜接處無法處裡\n",
    "2. 以loop方式讀檔，無法平行化處裡"
   ]
  },
  {
   "cell_type": "code",
   "execution_count": 132,
   "id": "d0fb7cef",
   "metadata": {},
   "outputs": [],
   "source": [
    "import pandas as pd\n",
    "import numpy as np\n",
    "\n",
    "from datetime import datetime\n",
    "from datetime import timedelta\n",
    "from tqdm import tqdm\n",
    "\n",
    "import dask.dataframe as dd\n",
    "from dask.delayed import delayed\n",
    "\n",
    "import os\n",
    "import shutil\n",
    "from glob import glob\n",
    "from zipfile import ZipFile"
   ]
  },
  {
   "cell_type": "markdown",
   "id": "5524315c",
   "metadata": {},
   "source": [
    "# 檔案解壓縮"
   ]
  },
  {
   "cell_type": "markdown",
   "id": "67e3830a",
   "metadata": {},
   "source": [
    "歸類>解壓縮>挑選>解壓縮"
   ]
  },
  {
   "cell_type": "markdown",
   "id": "6a1c416c",
   "metadata": {},
   "source": [
    "第1層解壓縮"
   ]
  },
  {
   "cell_type": "code",
   "execution_count": 46,
   "id": "7c9f0476",
   "metadata": {},
   "outputs": [
    {
     "name": "stdout",
     "output_type": "stream",
     "text": [
      ">> 從雲端下載了共: 0包\n",
      "set()\n",
      "\n",
      "\n",
      ">> 第1層 解壓縮完畢!!\n"
     ]
    }
   ],
   "source": [
    "# 觀察 雲端壓縮檔有幾包，取得包名稱\n",
    "path = \"E:\\臭氧分鐘值_2018to2020\"\n",
    "cloud_path_lst = glob(path + '\\/\\/*.zip')\n",
    "cloud_path_name_set = set(p.split(\"drive-download-\")[-1].split(\"-\")[0] for p in cloud_path_lst)\n",
    "print(f\">> 從雲端下載了共: {len(cloud_path_name_set)}包\\n{cloud_path_name_set}\\n\")\n",
    "\n",
    "# 在目錄下建立包名資料夾，並解壓縮\n",
    "for c_name in cloud_path_name_set:\n",
    "    folder_path = path + \"\\/\\/\" + c_name\n",
    "    if not os.path.exists(folder_path):\n",
    "        os.mkdir(folder_path)\n",
    "        print(f\"\\n>> {c_name} 資料夾建立完畢\")\n",
    "        \n",
    "        # 解壓縮檔案至此\n",
    "        path_for_extractall_lst = [p for p in cloud_path_lst if (c_name in p)]\n",
    "        for p4e in path_for_extractall_lst:\n",
    "            print(p4e)\n",
    "            zf = ZipFile(p4e, 'r')\n",
    "            zf.extractall(folder_path)\n",
    "            zf.close()\n",
    "            \n",
    "            # 把解壓縮過的檔案搬移至 Raw資料夾(先手動建立一個)\n",
    "            p4e_new = \"\\\\\".join([path, \"Raw\", p4e.split(\"\\\\\")[-1]])\n",
    "#             print(p4e_new)\n",
    "            shutil.move(p4e, p4e_new)\n",
    "        print(\"\\n\")\n",
    "print(\"\\n>> 第1層 解壓縮完畢!!\")"
   ]
  },
  {
   "cell_type": "code",
   "execution_count": 52,
   "id": "728f0203",
   "metadata": {},
   "outputs": [],
   "source": [
    "cloud_path_name_set = set({\"20210719T004203Z\", \"20210719T004155Z\", })\n",
    "# "
   ]
  },
  {
   "cell_type": "code",
   "execution_count": 53,
   "id": "1a815bf6",
   "metadata": {},
   "outputs": [
    {
     "data": {
      "text/plain": [
       "{'20210719T004155Z', '20210719T004203Z'}"
      ]
     },
     "execution_count": 53,
     "metadata": {},
     "output_type": "execute_result"
    }
   ],
   "source": [
    "cloud_path_name_set"
   ]
  },
  {
   "cell_type": "markdown",
   "id": "1d9b109d",
   "metadata": {},
   "source": [
    "第2層解壓縮"
   ]
  },
  {
   "cell_type": "code",
   "execution_count": 54,
   "id": "f43517a9",
   "metadata": {},
   "outputs": [
    {
     "name": "stdout",
     "output_type": "stream",
     "text": [
      "['E:\\\\臭氧分鐘值_2018to2020\\\\/\\\\/20210719T004203Z\\\\01\\\\481_國家級測站分鐘值_2020_01_橫向資料_1.zip', 'E:\\\\臭氧分鐘值_2018to2020\\\\/\\\\/20210719T004203Z\\\\01\\\\481_國家級測站分鐘值_2020_01_橫向資料_2.zip', 'E:\\\\臭氧分鐘值_2018to2020\\\\/\\\\/20210719T004203Z\\\\01\\\\481_國家級測站分鐘值_2020_01_橫向資料_3.zip', 'E:\\\\臭氧分鐘值_2018to2020\\\\/\\\\/20210719T004203Z\\\\01\\\\481_國家級測站分鐘值_2020_01_橫向資料_4.zip']\n",
      "['E:\\\\臭氧分鐘值_2018to2020\\\\/\\\\/20210719T004203Z\\\\02\\\\481_國家級測站分鐘值_2020_02_橫向資料_1.zip', 'E:\\\\臭氧分鐘值_2018to2020\\\\/\\\\/20210719T004203Z\\\\02\\\\481_國家級測站分鐘值_2020_02_橫向資料_2.zip', 'E:\\\\臭氧分鐘值_2018to2020\\\\/\\\\/20210719T004203Z\\\\02\\\\481_國家級測站分鐘值_2020_02_橫向資料_3.zip']\n",
      "['E:\\\\臭氧分鐘值_2018to2020\\\\/\\\\/20210719T004203Z\\\\03\\\\481_國家級測站分鐘值_2020_03_橫向資料_1.zip', 'E:\\\\臭氧分鐘值_2018to2020\\\\/\\\\/20210719T004203Z\\\\03\\\\481_國家級測站分鐘值_2020_03_橫向資料_2.zip', 'E:\\\\臭氧分鐘值_2018to2020\\\\/\\\\/20210719T004203Z\\\\03\\\\481_國家級測站分鐘值_2020_03_橫向資料_3.zip', 'E:\\\\臭氧分鐘值_2018to2020\\\\/\\\\/20210719T004203Z\\\\03\\\\481_國家級測站分鐘值_2020_03_橫向資料_4.zip']\n",
      "['E:\\\\臭氧分鐘值_2018to2020\\\\/\\\\/20210719T004203Z\\\\04\\\\481_國家級測站分鐘值_2020_04_橫向資料_1.zip', 'E:\\\\臭氧分鐘值_2018to2020\\\\/\\\\/20210719T004203Z\\\\04\\\\481_國家級測站分鐘值_2020_04_橫向資料_2.zip', 'E:\\\\臭氧分鐘值_2018to2020\\\\/\\\\/20210719T004203Z\\\\04\\\\481_國家級測站分鐘值_2020_04_橫向資料_3.zip', 'E:\\\\臭氧分鐘值_2018to2020\\\\/\\\\/20210719T004203Z\\\\04\\\\481_國家級測站分鐘值_2020_04_橫向資料_4.zip']\n",
      "['E:\\\\臭氧分鐘值_2018to2020\\\\/\\\\/20210719T004203Z\\\\05\\\\481_國家級測站分鐘值_2020_05_橫向資料_1.zip', 'E:\\\\臭氧分鐘值_2018to2020\\\\/\\\\/20210719T004203Z\\\\05\\\\481_國家級測站分鐘值_2020_05_橫向資料_2.zip', 'E:\\\\臭氧分鐘值_2018to2020\\\\/\\\\/20210719T004203Z\\\\05\\\\481_國家級測站分鐘值_2020_05_橫向資料_3.zip', 'E:\\\\臭氧分鐘值_2018to2020\\\\/\\\\/20210719T004203Z\\\\05\\\\481_國家級測站分鐘值_2020_05_橫向資料_4.zip']\n",
      "['E:\\\\臭氧分鐘值_2018to2020\\\\/\\\\/20210719T004203Z\\\\06\\\\481_國家級測站分鐘值_2020_06_橫向資料_1.zip', 'E:\\\\臭氧分鐘值_2018to2020\\\\/\\\\/20210719T004203Z\\\\06\\\\481_國家級測站分鐘值_2020_06_橫向資料_2.zip', 'E:\\\\臭氧分鐘值_2018to2020\\\\/\\\\/20210719T004203Z\\\\06\\\\481_國家級測站分鐘值_2020_06_橫向資料_3.zip', 'E:\\\\臭氧分鐘值_2018to2020\\\\/\\\\/20210719T004203Z\\\\06\\\\481_國家級測站分鐘值_2020_06_橫向資料_4.zip']\n",
      "['E:\\\\臭氧分鐘值_2018to2020\\\\/\\\\/20210719T004203Z\\\\07\\\\481_國家級測站分鐘值_2020_07_橫向資料_1.zip', 'E:\\\\臭氧分鐘值_2018to2020\\\\/\\\\/20210719T004203Z\\\\07\\\\481_國家級測站分鐘值_2020_07_橫向資料_2.zip', 'E:\\\\臭氧分鐘值_2018to2020\\\\/\\\\/20210719T004203Z\\\\07\\\\481_國家級測站分鐘值_2020_07_橫向資料_3.zip', 'E:\\\\臭氧分鐘值_2018to2020\\\\/\\\\/20210719T004203Z\\\\07\\\\481_國家級測站分鐘值_2020_07_橫向資料_4.zip']\n",
      "['E:\\\\臭氧分鐘值_2018to2020\\\\/\\\\/20210719T004203Z\\\\08\\\\481_國家級測站分鐘值_2020_08_橫向資料_1.zip', 'E:\\\\臭氧分鐘值_2018to2020\\\\/\\\\/20210719T004203Z\\\\08\\\\481_國家級測站分鐘值_2020_08_橫向資料_2.zip', 'E:\\\\臭氧分鐘值_2018to2020\\\\/\\\\/20210719T004203Z\\\\08\\\\481_國家級測站分鐘值_2020_08_橫向資料_3.zip', 'E:\\\\臭氧分鐘值_2018to2020\\\\/\\\\/20210719T004203Z\\\\08\\\\481_國家級測站分鐘值_2020_08_橫向資料_4.zip']\n",
      "['E:\\\\臭氧分鐘值_2018to2020\\\\/\\\\/20210719T004203Z\\\\09\\\\481_國家級測站分鐘值_2020_09_橫向資料_1.zip', 'E:\\\\臭氧分鐘值_2018to2020\\\\/\\\\/20210719T004203Z\\\\09\\\\481_國家級測站分鐘值_2020_09_橫向資料_2.zip', 'E:\\\\臭氧分鐘值_2018to2020\\\\/\\\\/20210719T004203Z\\\\09\\\\481_國家級測站分鐘值_2020_09_橫向資料_3.zip', 'E:\\\\臭氧分鐘值_2018to2020\\\\/\\\\/20210719T004203Z\\\\09\\\\481_國家級測站分鐘值_2020_09_橫向資料_4.zip']\n",
      "['E:\\\\臭氧分鐘值_2018to2020\\\\/\\\\/20210719T004203Z\\\\10\\\\481_國家級測站分鐘值_2020_10_橫向資料_1.zip', 'E:\\\\臭氧分鐘值_2018to2020\\\\/\\\\/20210719T004203Z\\\\10\\\\481_國家級測站分鐘值_2020_10_橫向資料_2.zip', 'E:\\\\臭氧分鐘值_2018to2020\\\\/\\\\/20210719T004203Z\\\\10\\\\481_國家級測站分鐘值_2020_10_橫向資料_3.zip', 'E:\\\\臭氧分鐘值_2018to2020\\\\/\\\\/20210719T004203Z\\\\10\\\\481_國家級測站分鐘值_2020_10_橫向資料_4.zip']\n",
      "['E:\\\\臭氧分鐘值_2018to2020\\\\/\\\\/20210719T004203Z\\\\11\\\\481_國家級測站分鐘值_2020_11_橫向資料_1.zip', 'E:\\\\臭氧分鐘值_2018to2020\\\\/\\\\/20210719T004203Z\\\\11\\\\481_國家級測站分鐘值_2020_11_橫向資料_2.zip', 'E:\\\\臭氧分鐘值_2018to2020\\\\/\\\\/20210719T004203Z\\\\11\\\\481_國家級測站分鐘值_2020_11_橫向資料_3.zip', 'E:\\\\臭氧分鐘值_2018to2020\\\\/\\\\/20210719T004203Z\\\\11\\\\481_國家級測站分鐘值_2020_11_橫向資料_4.zip']\n",
      "['E:\\\\臭氧分鐘值_2018to2020\\\\/\\\\/20210719T004203Z\\\\12\\\\481_國家級測站分鐘值_2020_12_橫向資料_1.zip', 'E:\\\\臭氧分鐘值_2018to2020\\\\/\\\\/20210719T004203Z\\\\12\\\\481_國家級測站分鐘值_2020_12_橫向資料_2.zip', 'E:\\\\臭氧分鐘值_2018to2020\\\\/\\\\/20210719T004203Z\\\\12\\\\481_國家級測站分鐘值_2020_12_橫向資料_3.zip', 'E:\\\\臭氧分鐘值_2018to2020\\\\/\\\\/20210719T004203Z\\\\12\\\\481_國家級測站分鐘值_2020_12_橫向資料_4.zip']\n",
      "['E:\\\\臭氧分鐘值_2018to2020\\\\/\\\\/20210719T004155Z\\\\01\\\\481_國家級測站分鐘值_2019_01_橫向資料_1.zip', 'E:\\\\臭氧分鐘值_2018to2020\\\\/\\\\/20210719T004155Z\\\\01\\\\481_國家級測站分鐘值_2019_01_橫向資料_2.zip', 'E:\\\\臭氧分鐘值_2018to2020\\\\/\\\\/20210719T004155Z\\\\01\\\\481_國家級測站分鐘值_2019_01_橫向資料_3.zip']\n",
      "['E:\\\\臭氧分鐘值_2018to2020\\\\/\\\\/20210719T004155Z\\\\02\\\\481_國家級測站分鐘值_2019_02_橫向資料_1.zip', 'E:\\\\臭氧分鐘值_2018to2020\\\\/\\\\/20210719T004155Z\\\\02\\\\481_國家級測站分鐘值_2019_02_橫向資料_2.zip', 'E:\\\\臭氧分鐘值_2018to2020\\\\/\\\\/20210719T004155Z\\\\02\\\\481_國家級測站分鐘值_2019_02_橫向資料_3.zip']\n",
      "['E:\\\\臭氧分鐘值_2018to2020\\\\/\\\\/20210719T004155Z\\\\03\\\\481_國家級測站分鐘值_2019_03_橫向資料_1.zip', 'E:\\\\臭氧分鐘值_2018to2020\\\\/\\\\/20210719T004155Z\\\\03\\\\481_國家級測站分鐘值_2019_03_橫向資料_2.zip', 'E:\\\\臭氧分鐘值_2018to2020\\\\/\\\\/20210719T004155Z\\\\03\\\\481_國家級測站分鐘值_2019_03_橫向資料_3.zip']\n",
      "['E:\\\\臭氧分鐘值_2018to2020\\\\/\\\\/20210719T004155Z\\\\04\\\\481_國家級測站分鐘值_2019_04_橫向資料_1.zip', 'E:\\\\臭氧分鐘值_2018to2020\\\\/\\\\/20210719T004155Z\\\\04\\\\481_國家級測站分鐘值_2019_04_橫向資料_2.zip', 'E:\\\\臭氧分鐘值_2018to2020\\\\/\\\\/20210719T004155Z\\\\04\\\\481_國家級測站分鐘值_2019_04_橫向資料_3.zip']\n",
      "['E:\\\\臭氧分鐘值_2018to2020\\\\/\\\\/20210719T004155Z\\\\05\\\\481_國家級測站分鐘值_2019_05_橫向資料_1.zip', 'E:\\\\臭氧分鐘值_2018to2020\\\\/\\\\/20210719T004155Z\\\\05\\\\481_國家級測站分鐘值_2019_05_橫向資料_2.zip', 'E:\\\\臭氧分鐘值_2018to2020\\\\/\\\\/20210719T004155Z\\\\05\\\\481_國家級測站分鐘值_2019_05_橫向資料_3.zip']\n",
      "['E:\\\\臭氧分鐘值_2018to2020\\\\/\\\\/20210719T004155Z\\\\06\\\\481_國家級測站分鐘值_2019_06_橫向資料_1.zip', 'E:\\\\臭氧分鐘值_2018to2020\\\\/\\\\/20210719T004155Z\\\\06\\\\481_國家級測站分鐘值_2019_06_橫向資料_2.zip', 'E:\\\\臭氧分鐘值_2018to2020\\\\/\\\\/20210719T004155Z\\\\06\\\\481_國家級測站分鐘值_2019_06_橫向資料_3.zip']\n",
      "['E:\\\\臭氧分鐘值_2018to2020\\\\/\\\\/20210719T004155Z\\\\07\\\\481_國家級測站分鐘值_2019_07_橫向資料_1.zip', 'E:\\\\臭氧分鐘值_2018to2020\\\\/\\\\/20210719T004155Z\\\\07\\\\481_國家級測站分鐘值_2019_07_橫向資料_2.zip', 'E:\\\\臭氧分鐘值_2018to2020\\\\/\\\\/20210719T004155Z\\\\07\\\\481_國家級測站分鐘值_2019_07_橫向資料_3.zip']\n",
      "['E:\\\\臭氧分鐘值_2018to2020\\\\/\\\\/20210719T004155Z\\\\08\\\\481_國家級測站分鐘值_2019_08_橫向資料_1.zip', 'E:\\\\臭氧分鐘值_2018to2020\\\\/\\\\/20210719T004155Z\\\\08\\\\481_國家級測站分鐘值_2019_08_橫向資料_2.zip', 'E:\\\\臭氧分鐘值_2018to2020\\\\/\\\\/20210719T004155Z\\\\08\\\\481_國家級測站分鐘值_2019_08_橫向資料_3.zip']\n",
      "['E:\\\\臭氧分鐘值_2018to2020\\\\/\\\\/20210719T004155Z\\\\09\\\\481_國家級測站分鐘值_2019_09_橫向資料_1.zip', 'E:\\\\臭氧分鐘值_2018to2020\\\\/\\\\/20210719T004155Z\\\\09\\\\481_國家級測站分鐘值_2019_09_橫向資料_2.zip', 'E:\\\\臭氧分鐘值_2018to2020\\\\/\\\\/20210719T004155Z\\\\09\\\\481_國家級測站分鐘值_2019_09_橫向資料_3.zip']\n",
      "['E:\\\\臭氧分鐘值_2018to2020\\\\/\\\\/20210719T004155Z\\\\10\\\\481_國家級測站分鐘值_2019_10_橫向資料_1.zip', 'E:\\\\臭氧分鐘值_2018to2020\\\\/\\\\/20210719T004155Z\\\\10\\\\481_國家級測站分鐘值_2019_10_橫向資料_2.zip', 'E:\\\\臭氧分鐘值_2018to2020\\\\/\\\\/20210719T004155Z\\\\10\\\\481_國家級測站分鐘值_2019_10_橫向資料_3.zip']\n",
      "['E:\\\\臭氧分鐘值_2018to2020\\\\/\\\\/20210719T004155Z\\\\11\\\\481_國家級測站分鐘值_2019_11_橫向資料_1.zip', 'E:\\\\臭氧分鐘值_2018to2020\\\\/\\\\/20210719T004155Z\\\\11\\\\481_國家級測站分鐘值_2019_11_橫向資料_2.zip', 'E:\\\\臭氧分鐘值_2018to2020\\\\/\\\\/20210719T004155Z\\\\11\\\\481_國家級測站分鐘值_2019_11_橫向資料_3.zip']\n",
      "['E:\\\\臭氧分鐘值_2018to2020\\\\/\\\\/20210719T004155Z\\\\12\\\\481_國家級測站分鐘值_2019_12_橫向資料_1.zip', 'E:\\\\臭氧分鐘值_2018to2020\\\\/\\\\/20210719T004155Z\\\\12\\\\481_國家級測站分鐘值_2019_12_橫向資料_2.zip', 'E:\\\\臭氧分鐘值_2018to2020\\\\/\\\\/20210719T004155Z\\\\12\\\\481_國家級測站分鐘值_2019_12_橫向資料_3.zip']\n",
      "\n",
      ">> 第2層 解壓縮完畢!!\n"
     ]
    }
   ],
   "source": [
    "for c_name in cloud_path_name_set:\n",
    "    folder_path = path + \"\\/\\/\" + c_name\n",
    "        \n",
    "    #進入各月份資料夾\n",
    "    for m in range(1, 12+1):\n",
    "        m_str = str(m).zfill(2)\n",
    "    # Vfile_lst = glob(folder_path + f\"\\\\{m_str}\\\\*_垂直資料_?.zip\")\n",
    "        Hfile_lst = glob(folder_path + f\"\\\\{m_str}\\\\*_橫向資料_?.zip\")\n",
    "    #     print(Vfile_lst)\n",
    "    #     print(\"\\n\")\n",
    "        print(Hfile_lst)\n",
    "        for _p4e in Hfile_lst:\n",
    "            zf = ZipFile(_p4e, 'r')\n",
    "            zf.extractall(folder_path)\n",
    "            zf.close()\n",
    "print(\"\\n>> 第2層 解壓縮完畢!!\")"
   ]
  },
  {
   "cell_type": "markdown",
   "id": "10c412dd",
   "metadata": {},
   "source": [
    "# Pandas Dataframe + glob"
   ]
  },
  {
   "cell_type": "code",
   "execution_count": 137,
   "id": "9bf7cfbe",
   "metadata": {},
   "outputs": [
    {
     "name": "stderr",
     "output_type": "stream",
     "text": [
      "100%|████████████████████████████████████████████████████████████████████████████████| 225/225 [07:25<00:00,  1.98s/it]\n"
     ]
    }
   ],
   "source": [
    "# 讀檔\n",
    "path = r\"E:\\臭氧分鐘值_2018to2020\\20210719T004146Z\\481_國家級測站分鐘值_2018_*_*.csv\"\n",
    "file_lst = glob(path)\n",
    "\n",
    "target_df_all = pd.DataFrame()\n",
    "for file in tqdm(file_lst):\n",
    "    df_min = pd.read_csv(file, parse_dates=[\"TIME\"], usecols=[0,3,124], dtype={0:\"category\", 124:\"float32\"})\n",
    "\n",
    "    # 格式轉換\n",
    "    df_min.rename(columns={\"O3()\":\"O3_min\",\"TIME\":\"DataCreationDate\"}, inplace=True)\n",
    "    \n",
    "\n",
    "\n",
    "    # 系統運作時間 (7-1,21)\n",
    "    sys_working_zone = (6,21)\n",
    "    time_mask = (df_min[\"DataCreationDate\"].dt.hour >= sys_working_zone[0]) & (df_min[\"DataCreationDate\"].dt.hour <= sys_working_zone[1]) \n",
    "\n",
    "    # 計算前五分鐘移動平均值\n",
    "    # 5分鐘移動平均(MA5)，可容忍5缺2筆\n",
    "    col = \"O3_min\"\n",
    "    col_name = col+\"_MA5\"\n",
    "\n",
    "\n",
    "    target_df_tmp = pd.DataFrame()\n",
    "    # for loop 區分 SiteName\n",
    "    for device_id in df_min[\"DEVICE_ID\"].unique():\n",
    "#         print(device_id)\n",
    "        mask = time_mask & df_min[\"DEVICE_ID\"].isin([device_id])\n",
    "        df_min_mask = df_min[mask].copy(deep=True)\n",
    "        if not df_min_mask.empty:\n",
    "\n",
    "            # 將負值設為空值\n",
    "            df_min_mask.loc[df_min_mask[\"O3_min\"]<0, \"O3_min\"] = np.nan\n",
    "\n",
    "            # 創造 統一的時間區間*測站，還原缺值\n",
    "            r = pd.date_range(start=df_min_mask[\"DataCreationDate\"].min(), end=df_min_mask[\"DataCreationDate\"].max(), freq='1min')\n",
    "            df_min_mask = df_min_mask.set_index('DataCreationDate').reindex(r).fillna(\n",
    "                                            {'DEVICE_ID':device_id, 'O3_min':np.nan}).rename_axis('DataCreationDate').reset_index()\n",
    "\n",
    "\n",
    "            # 計算5分鐘移動平均\n",
    "            df_min_mask[col_name] = df_min_mask.sort_values(by=[\"DataCreationDate\"], ascending=[1])[col].rolling(\n",
    "                                        window=5, min_periods=3, center=False).mean().apply(\n",
    "                                        lambda m: round(m, 3) if pd.notna(m) else np.nan )\n",
    "\n",
    "            # 找出每日早上7點之後(晚上9點之前)，第1次 分鐘值 超過71 的時間點與 當分鐘的MA5\n",
    "            sys_working_zone = (7,21)\n",
    "            time_mask = (df_min_mask[\"DataCreationDate\"].dt.hour >= sys_working_zone[0]) & (df_min_mask[\"DataCreationDate\"].dt.hour <= sys_working_zone[1]) \n",
    "            mask_exceed = time_mask & (df_min_mask[\"O3_min\"] >= 71)\n",
    "            target_df = df_min_mask.loc[mask_exceed, :].sort_values(['DataCreationDate'], ascending=True).groupby([\"Date\"]).head(1).reset_index(drop=True)\n",
    "\n",
    "\n",
    "            # 找出目標分鐘前1小時的MA5，並合併 merge\n",
    "            target_df.loc[:, \"front_time\"] = target_df['DataCreationDate'] - timedelta(hours=1)\n",
    "            target_df = target_df.merge(df_min_mask, how='inner', \n",
    "                            left_on=[\"DEVICE_ID\", \"Date\", 'front_time'], \n",
    "                            right_on=[\"DEVICE_ID\", \"Date\", 'DataCreationDate'],\n",
    "                            suffixes=(\"\", \"_front\"))\n",
    "\n",
    "            target_df_tmp = pd.concat([target_df_tmp, target_df])\n",
    "\n",
    "        else:\n",
    "            pass\n",
    "#             print(f\"pass {len(df_min_mask)}\")\n",
    "    \n",
    "    target_df_all = pd.concat([target_df_all, target_df_tmp])\n",
    "    \n",
    "target_df_all.reset_index(drop=True, inplace=True)\n",
    "target_df_all.loc[:,\"DEVICE_ID\"] = target_df_all.loc[:,\"DEVICE_ID\"].astype('category')\n",
    "print(\">> 執行完畢!\")"
   ]
  },
  {
   "cell_type": "code",
   "execution_count": 139,
   "id": "59bc2e46",
   "metadata": {},
   "outputs": [
    {
     "data": {
      "text/html": [
       "<div>\n",
       "<style scoped>\n",
       "    .dataframe tbody tr th:only-of-type {\n",
       "        vertical-align: middle;\n",
       "    }\n",
       "\n",
       "    .dataframe tbody tr th {\n",
       "        vertical-align: top;\n",
       "    }\n",
       "\n",
       "    .dataframe thead th {\n",
       "        text-align: right;\n",
       "    }\n",
       "</style>\n",
       "<table border=\"1\" class=\"dataframe\">\n",
       "  <thead>\n",
       "    <tr style=\"text-align: right;\">\n",
       "      <th></th>\n",
       "      <th>DataCreationDate</th>\n",
       "      <th>DEVICE_ID</th>\n",
       "      <th>O3_min</th>\n",
       "      <th>Date</th>\n",
       "      <th>O3_min_MA5</th>\n",
       "      <th>front_time</th>\n",
       "      <th>DataCreationDate_front</th>\n",
       "      <th>O3_min_front</th>\n",
       "      <th>O3_min_MA5_front</th>\n",
       "    </tr>\n",
       "  </thead>\n",
       "  <tbody>\n",
       "    <tr>\n",
       "      <th>0</th>\n",
       "      <td>2018-01-02 09:59:00</td>\n",
       "      <td>6125966040</td>\n",
       "      <td>75.050003</td>\n",
       "      <td>2018-01-02</td>\n",
       "      <td>43.103</td>\n",
       "      <td>2018-01-02 08:59:00</td>\n",
       "      <td>2018-01-02 08:59:00</td>\n",
       "      <td>0.000000</td>\n",
       "      <td>0.00</td>\n",
       "    </tr>\n",
       "    <tr>\n",
       "      <th>1</th>\n",
       "      <td>2018-01-16 12:39:00</td>\n",
       "      <td>6125966040</td>\n",
       "      <td>74.720001</td>\n",
       "      <td>2018-01-16</td>\n",
       "      <td>60.098</td>\n",
       "      <td>2018-01-16 11:39:00</td>\n",
       "      <td>2018-01-16 11:39:00</td>\n",
       "      <td>40.299999</td>\n",
       "      <td>42.74</td>\n",
       "    </tr>\n",
       "    <tr>\n",
       "      <th>2</th>\n",
       "      <td>2018-01-03 11:50:00</td>\n",
       "      <td>6106537758</td>\n",
       "      <td>71.099998</td>\n",
       "      <td>2018-01-03</td>\n",
       "      <td>67.180</td>\n",
       "      <td>2018-01-03 10:50:00</td>\n",
       "      <td>2018-01-03 10:50:00</td>\n",
       "      <td>43.000000</td>\n",
       "      <td>40.42</td>\n",
       "    </tr>\n",
       "    <tr>\n",
       "      <th>3</th>\n",
       "      <td>2018-01-31 13:31:00</td>\n",
       "      <td>6101429224</td>\n",
       "      <td>71.000000</td>\n",
       "      <td>2018-01-31</td>\n",
       "      <td>69.300</td>\n",
       "      <td>2018-01-31 12:31:00</td>\n",
       "      <td>2018-01-31 12:31:00</td>\n",
       "      <td>56.599998</td>\n",
       "      <td>57.26</td>\n",
       "    </tr>\n",
       "    <tr>\n",
       "      <th>4</th>\n",
       "      <td>2018-01-21 14:17:00</td>\n",
       "      <td>6092393749</td>\n",
       "      <td>71.300003</td>\n",
       "      <td>2018-01-21</td>\n",
       "      <td>69.900</td>\n",
       "      <td>2018-01-21 13:17:00</td>\n",
       "      <td>2018-01-21 13:17:00</td>\n",
       "      <td>56.099998</td>\n",
       "      <td>54.80</td>\n",
       "    </tr>\n",
       "    <tr>\n",
       "      <th>...</th>\n",
       "      <td>...</td>\n",
       "      <td>...</td>\n",
       "      <td>...</td>\n",
       "      <td>...</td>\n",
       "      <td>...</td>\n",
       "      <td>...</td>\n",
       "      <td>...</td>\n",
       "      <td>...</td>\n",
       "      <td>...</td>\n",
       "    </tr>\n",
       "    <tr>\n",
       "      <th>1094</th>\n",
       "      <td>2018-12-01 13:13:00</td>\n",
       "      <td>6098252564</td>\n",
       "      <td>71.699997</td>\n",
       "      <td>2018-12-01</td>\n",
       "      <td>67.740</td>\n",
       "      <td>2018-12-01 12:13:00</td>\n",
       "      <td>2018-12-01 12:13:00</td>\n",
       "      <td>57.900002</td>\n",
       "      <td>56.36</td>\n",
       "    </tr>\n",
       "    <tr>\n",
       "      <th>1095</th>\n",
       "      <td>2018-12-19 12:08:00</td>\n",
       "      <td>6098252564</td>\n",
       "      <td>71.699997</td>\n",
       "      <td>2018-12-19</td>\n",
       "      <td>69.900</td>\n",
       "      <td>2018-12-19 11:08:00</td>\n",
       "      <td>2018-12-19 11:08:00</td>\n",
       "      <td>43.299999</td>\n",
       "      <td>45.28</td>\n",
       "    </tr>\n",
       "    <tr>\n",
       "      <th>1096</th>\n",
       "      <td>2018-12-20 14:57:00</td>\n",
       "      <td>6098252564</td>\n",
       "      <td>72.900002</td>\n",
       "      <td>2018-12-20</td>\n",
       "      <td>69.560</td>\n",
       "      <td>2018-12-20 13:57:00</td>\n",
       "      <td>2018-12-20 13:57:00</td>\n",
       "      <td>60.000000</td>\n",
       "      <td>52.50</td>\n",
       "    </tr>\n",
       "    <tr>\n",
       "      <th>1097</th>\n",
       "      <td>2018-12-19 14:02:00</td>\n",
       "      <td>6102799318</td>\n",
       "      <td>71.500000</td>\n",
       "      <td>2018-12-19</td>\n",
       "      <td>69.560</td>\n",
       "      <td>2018-12-19 13:02:00</td>\n",
       "      <td>2018-12-19 13:02:00</td>\n",
       "      <td>64.500000</td>\n",
       "      <td>64.30</td>\n",
       "    </tr>\n",
       "    <tr>\n",
       "      <th>1098</th>\n",
       "      <td>2018-12-22 13:43:00</td>\n",
       "      <td>6100633095</td>\n",
       "      <td>71.300003</td>\n",
       "      <td>2018-12-22</td>\n",
       "      <td>69.440</td>\n",
       "      <td>2018-12-22 12:43:00</td>\n",
       "      <td>2018-12-22 12:43:00</td>\n",
       "      <td>57.099998</td>\n",
       "      <td>56.36</td>\n",
       "    </tr>\n",
       "  </tbody>\n",
       "</table>\n",
       "<p>1099 rows × 9 columns</p>\n",
       "</div>"
      ],
      "text/plain": [
       "        DataCreationDate   DEVICE_ID     O3_min       Date  O3_min_MA5  \\\n",
       "0    2018-01-02 09:59:00  6125966040  75.050003 2018-01-02      43.103   \n",
       "1    2018-01-16 12:39:00  6125966040  74.720001 2018-01-16      60.098   \n",
       "2    2018-01-03 11:50:00  6106537758  71.099998 2018-01-03      67.180   \n",
       "3    2018-01-31 13:31:00  6101429224  71.000000 2018-01-31      69.300   \n",
       "4    2018-01-21 14:17:00  6092393749  71.300003 2018-01-21      69.900   \n",
       "...                  ...         ...        ...        ...         ...   \n",
       "1094 2018-12-01 13:13:00  6098252564  71.699997 2018-12-01      67.740   \n",
       "1095 2018-12-19 12:08:00  6098252564  71.699997 2018-12-19      69.900   \n",
       "1096 2018-12-20 14:57:00  6098252564  72.900002 2018-12-20      69.560   \n",
       "1097 2018-12-19 14:02:00  6102799318  71.500000 2018-12-19      69.560   \n",
       "1098 2018-12-22 13:43:00  6100633095  71.300003 2018-12-22      69.440   \n",
       "\n",
       "              front_time DataCreationDate_front  O3_min_front  \\\n",
       "0    2018-01-02 08:59:00    2018-01-02 08:59:00      0.000000   \n",
       "1    2018-01-16 11:39:00    2018-01-16 11:39:00     40.299999   \n",
       "2    2018-01-03 10:50:00    2018-01-03 10:50:00     43.000000   \n",
       "3    2018-01-31 12:31:00    2018-01-31 12:31:00     56.599998   \n",
       "4    2018-01-21 13:17:00    2018-01-21 13:17:00     56.099998   \n",
       "...                  ...                    ...           ...   \n",
       "1094 2018-12-01 12:13:00    2018-12-01 12:13:00     57.900002   \n",
       "1095 2018-12-19 11:08:00    2018-12-19 11:08:00     43.299999   \n",
       "1096 2018-12-20 13:57:00    2018-12-20 13:57:00     60.000000   \n",
       "1097 2018-12-19 13:02:00    2018-12-19 13:02:00     64.500000   \n",
       "1098 2018-12-22 12:43:00    2018-12-22 12:43:00     57.099998   \n",
       "\n",
       "      O3_min_MA5_front  \n",
       "0                 0.00  \n",
       "1                42.74  \n",
       "2                40.42  \n",
       "3                57.26  \n",
       "4                54.80  \n",
       "...                ...  \n",
       "1094             56.36  \n",
       "1095             45.28  \n",
       "1096             52.50  \n",
       "1097             64.30  \n",
       "1098             56.36  \n",
       "\n",
       "[1099 rows x 9 columns]"
      ]
     },
     "execution_count": 139,
     "metadata": {},
     "output_type": "execute_result"
    }
   ],
   "source": [
    "target_df_all # 目標"
   ]
  },
  {
   "cell_type": "code",
   "execution_count": 140,
   "id": "441c3949",
   "metadata": {},
   "outputs": [
    {
     "name": "stdout",
     "output_type": "stream",
     "text": [
      "<class 'pandas.core.frame.DataFrame'>\n",
      "RangeIndex: 1099 entries, 0 to 1098\n",
      "Data columns (total 9 columns):\n",
      " #   Column                  Non-Null Count  Dtype         \n",
      "---  ------                  --------------  -----         \n",
      " 0   DataCreationDate        1099 non-null   datetime64[ns]\n",
      " 1   DEVICE_ID               1099 non-null   object        \n",
      " 2   O3_min                  1099 non-null   float32       \n",
      " 3   Date                    1099 non-null   datetime64[ns]\n",
      " 4   O3_min_MA5              1094 non-null   float64       \n",
      " 5   front_time              1099 non-null   datetime64[ns]\n",
      " 6   DataCreationDate_front  1099 non-null   datetime64[ns]\n",
      " 7   O3_min_front            1093 non-null   float32       \n",
      " 8   O3_min_MA5_front        1077 non-null   float64       \n",
      "dtypes: datetime64[ns](4), float32(2), float64(2), object(1)\n",
      "memory usage: 68.8+ KB\n",
      " >>> 建立今天的工作區: 0720\n",
      " ==輸出備份pkl== ::: target_df_all_2018_20210720_15.38.21.pkl\n"
     ]
    }
   ],
   "source": [
    "import sys\n",
    "sys.path.append('G:\\我的雲端硬碟\\python')\n",
    "from polib.CsvEngn import *\n",
    "\n",
    "target_df_all.info()\n",
    "# 記得存檔!!\n",
    "formtoPkl(target_df_all, \"target_df_all_2018\")"
   ]
  },
  {
   "cell_type": "code",
   "execution_count": 302,
   "id": "3831754c",
   "metadata": {},
   "outputs": [
    {
     "name": "stdout",
     "output_type": "stream",
     "text": [
      "  >> 讀取:: G:\\我的雲端硬碟\\python\\output\\0720\\target_df_all_2018_20210720_15.38.21.pkl\n"
     ]
    }
   ],
   "source": [
    "# 讀檔\n",
    "target_df_all = read_data_dir_fPathExt(r\"G:\\我的雲端硬碟\\python\\output\\0720\\target_df_all_2018_20210720_15.38.21.pkl\")"
   ]
  },
  {
   "cell_type": "markdown",
   "id": "4a1a9f80",
   "metadata": {},
   "source": [
    "## 計算 diff、變化率"
   ]
  },
  {
   "cell_type": "code",
   "execution_count": 303,
   "id": "1a7bd346",
   "metadata": {},
   "outputs": [],
   "source": [
    "target_df_all.loc[:, \"diff\"] = target_df_all.loc[:, \"O3_min_MA5\"] - target_df_all.loc[:,\"O3_min_MA5_front\"]\n",
    "target_df_all.loc[:, \"diff_ratio\"] = (target_df_all.loc[:, \"O3_min_MA5\"] - target_df_all.loc[:,\"O3_min_MA5_front\"]) / target_df_all.loc[:,\"O3_min_MA5_front\"]"
   ]
  },
  {
   "cell_type": "code",
   "execution_count": 304,
   "id": "c2ebf0ce",
   "metadata": {},
   "outputs": [],
   "source": [
    "# DEVICE_ID 串 測站中文名\n",
    "meta_path = r\"E:\\臭氧分鐘值_2018to2020\\metedata.csv\"\n",
    "df_mete = pd.read_csv(meta_path, dtype={\"DEVICE_ID\":\"str\"})\n",
    "df_mete.loc[:, \"SiteName\"] = df_mete.loc[:, \"DEVICE_NAME\"].apply(lambda s: s.split(\"-\")[3].split(\"測站\")[0])\n",
    "\n",
    "# 串檔\n",
    "target_df_all = target_df_all.merge(df_mete[[\"DEVICE_ID\", \"SiteName\"]], how='left', on='DEVICE_ID')\n",
    "\n",
    "# 修正 台臺 問題\n",
    "target_df_all.loc[:, \"SiteName\"] = target_df_all.loc[:, \"SiteName\"].apply(lambda s: s.replace(\"台\", \"臺\"))\n",
    "target_Site_set = set(target_df_all[\"SiteName\"].unique())"
   ]
  },
  {
   "cell_type": "code",
   "execution_count": 290,
   "id": "757c7435",
   "metadata": {},
   "outputs": [],
   "source": [
    "# target_Site_set"
   ]
  },
  {
   "cell_type": "code",
   "execution_count": 305,
   "id": "6a122d71",
   "metadata": {},
   "outputs": [
    {
     "name": "stdout",
     "output_type": "stream",
     "text": [
      "Index(['SiteName', 'Date', 'O3_8hr_max', 'O3_max', 'is_exceed_date'], dtype='object')\n"
     ]
    }
   ],
   "source": [
    "# 讀取實際超標站日\n",
    "dailyMax_path = r\"E:\\臭氧分鐘值_2018to2020\\當日最大值是否超標_2018to2020.csv\"\n",
    "df_dailyMax = pd.read_csv(dailyMax_path, usecols=[1,2,3,4,6])\n",
    "df_dailyMax.rename(columns={\"date\":\"Date\"}, inplace=True)\n",
    "print(df_dailyMax.columns)\n",
    "\n",
    "dailyMax_Site_set = set(df_dailyMax[\"SiteName\"].unique())\n",
    "# dailyMax_Site_set"
   ]
  },
  {
   "cell_type": "code",
   "execution_count": 306,
   "id": "22a55d41",
   "metadata": {},
   "outputs": [
    {
     "data": {
      "text/plain": [
       "False    26760\n",
       "True       477\n",
       "Name: is_exceed_date, dtype: int64"
      ]
     },
     "execution_count": 306,
     "metadata": {},
     "output_type": "execute_result"
    }
   ],
   "source": [
    "df_dailyMax[df_dailyMax[\"Date\"].str.find(\"2018\")>=0][\"is_exceed_date\"].value_counts()"
   ]
  },
  {
   "cell_type": "code",
   "execution_count": 308,
   "id": "30958937",
   "metadata": {},
   "outputs": [
    {
     "name": "stdout",
     "output_type": "stream",
     "text": [
      "分鐘值資料缺少 30測站!\n"
     ]
    },
    {
     "data": {
      "text/plain": [
       "{'三義',\n",
       " '二林',\n",
       " '前金',\n",
       " '古亭',\n",
       " '善化',\n",
       " '土城',\n",
       " '大同',\n",
       " '安南',\n",
       " '小港',\n",
       " '崙背',\n",
       " '復興',\n",
       " '忠明',\n",
       " '恆春',\n",
       " '斗六',\n",
       " '新營',\n",
       " '新莊',\n",
       " '松山',\n",
       " '桃園',\n",
       " '橋頭',\n",
       " '永和',\n",
       " '淡水',\n",
       " '湖口',\n",
       " '潮州',\n",
       " '竹東',\n",
       " '線西',\n",
       " '美濃',\n",
       " '臺東',\n",
       " '菜寮',\n",
       " '觀音',\n",
       " '關山'}"
      ]
     },
     "execution_count": 308,
     "metadata": {},
     "output_type": "execute_result"
    }
   ],
   "source": [
    "# SiteName 盤點\n",
    "# target_Site_set - dailyMax_Site_set\n",
    "print(f\"分鐘值資料缺少 {len(dailyMax_Site_set - target_Site_set)}測站!\") #\n",
    "dailyMax_Site_set - target_Site_set"
   ]
  },
  {
   "cell_type": "code",
   "execution_count": 294,
   "id": "cd6cacd7",
   "metadata": {},
   "outputs": [
    {
     "data": {
      "text/html": [
       "<div>\n",
       "<style scoped>\n",
       "    .dataframe tbody tr th:only-of-type {\n",
       "        vertical-align: middle;\n",
       "    }\n",
       "\n",
       "    .dataframe tbody tr th {\n",
       "        vertical-align: top;\n",
       "    }\n",
       "\n",
       "    .dataframe thead th {\n",
       "        text-align: right;\n",
       "    }\n",
       "</style>\n",
       "<table border=\"1\" class=\"dataframe\">\n",
       "  <thead>\n",
       "    <tr style=\"text-align: right;\">\n",
       "      <th></th>\n",
       "      <th>DataCreationDate</th>\n",
       "      <th>DEVICE_ID</th>\n",
       "      <th>O3_min</th>\n",
       "      <th>Date</th>\n",
       "      <th>O3_min_MA5</th>\n",
       "      <th>front_time</th>\n",
       "      <th>DataCreationDate_front</th>\n",
       "      <th>O3_min_front</th>\n",
       "      <th>O3_min_MA5_front</th>\n",
       "      <th>diff</th>\n",
       "      <th>diff_ratio</th>\n",
       "      <th>SiteName</th>\n",
       "      <th>O3_8hr_max</th>\n",
       "      <th>O3_max</th>\n",
       "      <th>is_exceed_date</th>\n",
       "    </tr>\n",
       "  </thead>\n",
       "  <tbody>\n",
       "    <tr>\n",
       "      <th>0</th>\n",
       "      <td>2018-01-02 09:59:00</td>\n",
       "      <td>6125966040</td>\n",
       "      <td>75.050003</td>\n",
       "      <td>2018-01-02</td>\n",
       "      <td>43.103</td>\n",
       "      <td>2018-01-02 08:59:00</td>\n",
       "      <td>2018-01-02 08:59:00</td>\n",
       "      <td>0.000000</td>\n",
       "      <td>0.00</td>\n",
       "      <td>43.103</td>\n",
       "      <td>inf</td>\n",
       "      <td>萬華</td>\n",
       "      <td>25.0</td>\n",
       "      <td>30.0</td>\n",
       "      <td>False</td>\n",
       "    </tr>\n",
       "    <tr>\n",
       "      <th>1</th>\n",
       "      <td>2018-01-16 12:39:00</td>\n",
       "      <td>6125966040</td>\n",
       "      <td>74.720001</td>\n",
       "      <td>2018-01-16</td>\n",
       "      <td>60.098</td>\n",
       "      <td>2018-01-16 11:39:00</td>\n",
       "      <td>2018-01-16 11:39:00</td>\n",
       "      <td>40.299999</td>\n",
       "      <td>42.74</td>\n",
       "      <td>17.358</td>\n",
       "      <td>0.406130</td>\n",
       "      <td>萬華</td>\n",
       "      <td>32.0</td>\n",
       "      <td>69.0</td>\n",
       "      <td>False</td>\n",
       "    </tr>\n",
       "    <tr>\n",
       "      <th>2</th>\n",
       "      <td>2018-01-31 13:31:00</td>\n",
       "      <td>6101429224</td>\n",
       "      <td>71.000000</td>\n",
       "      <td>2018-01-31</td>\n",
       "      <td>69.300</td>\n",
       "      <td>2018-01-31 12:31:00</td>\n",
       "      <td>2018-01-31 12:31:00</td>\n",
       "      <td>56.599998</td>\n",
       "      <td>57.26</td>\n",
       "      <td>12.040</td>\n",
       "      <td>0.210269</td>\n",
       "      <td>林園</td>\n",
       "      <td>52.0</td>\n",
       "      <td>78.0</td>\n",
       "      <td>False</td>\n",
       "    </tr>\n",
       "    <tr>\n",
       "      <th>3</th>\n",
       "      <td>2018-01-21 14:17:00</td>\n",
       "      <td>6092393749</td>\n",
       "      <td>71.300003</td>\n",
       "      <td>2018-01-21</td>\n",
       "      <td>69.900</td>\n",
       "      <td>2018-01-21 13:17:00</td>\n",
       "      <td>2018-01-21 13:17:00</td>\n",
       "      <td>56.099998</td>\n",
       "      <td>54.80</td>\n",
       "      <td>15.100</td>\n",
       "      <td>0.275547</td>\n",
       "      <td>左營</td>\n",
       "      <td>61.0</td>\n",
       "      <td>73.0</td>\n",
       "      <td>False</td>\n",
       "    </tr>\n",
       "    <tr>\n",
       "      <th>4</th>\n",
       "      <td>2018-01-23 11:53:00</td>\n",
       "      <td>6092393749</td>\n",
       "      <td>72.300003</td>\n",
       "      <td>2018-01-23</td>\n",
       "      <td>69.980</td>\n",
       "      <td>2018-01-23 10:53:00</td>\n",
       "      <td>2018-01-23 10:53:00</td>\n",
       "      <td>35.500000</td>\n",
       "      <td>34.32</td>\n",
       "      <td>35.660</td>\n",
       "      <td>1.039044</td>\n",
       "      <td>左營</td>\n",
       "      <td>70.0</td>\n",
       "      <td>92.0</td>\n",
       "      <td>False</td>\n",
       "    </tr>\n",
       "  </tbody>\n",
       "</table>\n",
       "</div>"
      ],
      "text/plain": [
       "     DataCreationDate   DEVICE_ID     O3_min        Date  O3_min_MA5  \\\n",
       "0 2018-01-02 09:59:00  6125966040  75.050003  2018-01-02      43.103   \n",
       "1 2018-01-16 12:39:00  6125966040  74.720001  2018-01-16      60.098   \n",
       "2 2018-01-31 13:31:00  6101429224  71.000000  2018-01-31      69.300   \n",
       "3 2018-01-21 14:17:00  6092393749  71.300003  2018-01-21      69.900   \n",
       "4 2018-01-23 11:53:00  6092393749  72.300003  2018-01-23      69.980   \n",
       "\n",
       "           front_time DataCreationDate_front  O3_min_front  O3_min_MA5_front  \\\n",
       "0 2018-01-02 08:59:00    2018-01-02 08:59:00      0.000000              0.00   \n",
       "1 2018-01-16 11:39:00    2018-01-16 11:39:00     40.299999             42.74   \n",
       "2 2018-01-31 12:31:00    2018-01-31 12:31:00     56.599998             57.26   \n",
       "3 2018-01-21 13:17:00    2018-01-21 13:17:00     56.099998             54.80   \n",
       "4 2018-01-23 10:53:00    2018-01-23 10:53:00     35.500000             34.32   \n",
       "\n",
       "     diff  diff_ratio SiteName  O3_8hr_max  O3_max  is_exceed_date  \n",
       "0  43.103         inf       萬華        25.0    30.0           False  \n",
       "1  17.358    0.406130       萬華        32.0    69.0           False  \n",
       "2  12.040    0.210269       林園        52.0    78.0           False  \n",
       "3  15.100    0.275547       左營        61.0    73.0           False  \n",
       "4  35.660    1.039044       左營        70.0    92.0           False  "
      ]
     },
     "execution_count": 294,
     "metadata": {},
     "output_type": "execute_result"
    }
   ],
   "source": [
    "# 統一格式\n",
    "target_df_all.loc[:,\"Date\"] = target_df_all.loc[:,\"Date\"].apply(lambda d: d.strftime(\"%Y-%m-%d\"))\n",
    "df_dailyMax.loc[:,\"Date\"] = df_dailyMax.loc[:,\"Date\"].astype('category')\n",
    "\n",
    "# 串超標日狀態 inner join\n",
    "target_df_all_result = target_df_all.merge(df_dailyMax, how='inner', on=[\"SiteName\", \"Date\"])\n",
    "target_df_all_result.head()"
   ]
  },
  {
   "cell_type": "code",
   "execution_count": 295,
   "id": "14ae9a5b",
   "metadata": {},
   "outputs": [],
   "source": [
    "target_df_all_result.loc[: ,\"diff_ratio\"] = target_df_all_result.loc[:, \"diff_ratio\"].replace([np.inf, -np.inf], np.nan)"
   ]
  },
  {
   "cell_type": "code",
   "execution_count": 296,
   "id": "e6c0461b",
   "metadata": {},
   "outputs": [
    {
     "name": "stdout",
     "output_type": "stream",
     "text": [
      "exceeed: 16\n",
      "not_exceeed: 953\n"
     ]
    },
    {
     "data": {
      "text/plain": [
       "Text(0.5, 1.0, ' 2018年 O3分鐘值超過71時，至前60分鐘之平均濃度變化斜率 (diff) 直方圖')"
      ]
     },
     "execution_count": 296,
     "metadata": {},
     "output_type": "execute_result"
    },
    {
     "data": {
      "image/png": "[encoded data removed]",
      "text/plain": [
       "<Figure size 720x360 with 1 Axes>"
      ]
     },
     "metadata": {},
     "output_type": "display_data"
    }
   ],
   "source": [
    "import matplotlib.pyplot as plt\n",
    "from matplotlib.ticker import MaxNLocator\n",
    "%matplotlib inline\n",
    "import seaborn as sns\n",
    "sns.set(style=\"darkgrid\")\n",
    "\n",
    "from pylab import mpl\n",
    "mpl.rcParams['font.sans-serif'] = ['Microsoft YaHei']  \n",
    "mpl.rcParams['axes.unicode_minus'] = False\n",
    "\n",
    "# 選擇變數\n",
    "x = \"diff\"\n",
    "\n",
    "# 拆分資料\n",
    "exceeed = target_df_all_result[target_df_all_result[\"is_exceed_date\"]]\n",
    "not_exceeed = target_df_all_result[~target_df_all_result[\"is_exceed_date\"]]\n",
    "\n",
    "print(f\"exceeed: {len(exceeed)}\")\n",
    "print(f\"not_exceeed: {len(not_exceeed)}\")\n",
    "\n",
    "# 疊圖\n",
    "fig, ax = plt.subplots(figsize=(10,5))\n",
    "for idx, d in enumerate([not_exceeed, exceeed]):\n",
    "    if idx==1:\n",
    "        color = 'r'\n",
    "        label = \"當日橘警\"\n",
    "    else:\n",
    "        color = 'b'\n",
    "        label = \"未超標\"\n",
    "\n",
    "    sns.histplot(data=d, x=x ,ax=ax, kde=True, color=color, label=label)\n",
    "if x==\"diff_ratio\":\n",
    "    ax.set_xlim(-0.1, 1.5)\n",
    "ax.legend()\n",
    "ax.set_title(f\" 2018年 O3分鐘值超過71時，至前60分鐘之平均濃度變化斜率 ({x}) 直方圖\")"
   ]
  },
  {
   "cell_type": "code",
   "execution_count": 300,
   "id": "d6da7ae7",
   "metadata": {},
   "outputs": [
    {
     "name": "stdout",
     "output_type": "stream",
     "text": [
      "exceeed: 16\n",
      "not_exceeed: 953\n"
     ]
    },
    {
     "data": {
      "text/plain": [
       "Text(0.5, 1.0, ' 2018年 O3分鐘值超過71時，至前60分鐘之平均濃度變化斜率 (diff_ratio) 直方圖')"
      ]
     },
     "execution_count": 300,
     "metadata": {},
     "output_type": "execute_result"
    },
    {
     "data": {
      "image/png": "[encoded data removed]",
      "text/plain": [
       "<Figure size 720x360 with 1 Axes>"
      ]
     },
     "metadata": {},
     "output_type": "display_data"
    }
   ],
   "source": [
    "import matplotlib.pyplot as plt\n",
    "from matplotlib.ticker import MaxNLocator\n",
    "%matplotlib inline\n",
    "import seaborn as sns\n",
    "sns.set(style=\"darkgrid\")\n",
    "\n",
    "from pylab import mpl\n",
    "mpl.rcParams['font.sans-serif'] = ['Microsoft YaHei']  \n",
    "mpl.rcParams['axes.unicode_minus'] = False\n",
    "\n",
    "# 選擇變數\n",
    "x = \"diff_ratio\"\n",
    "\n",
    "# 拆分資料\n",
    "exceeed = target_df_all_result[target_df_all_result[\"is_exceed_date\"]]\n",
    "not_exceeed = target_df_all_result[~target_df_all_result[\"is_exceed_date\"]]\n",
    "\n",
    "print(f\"exceeed: {len(exceeed)}\")\n",
    "print(f\"not_exceeed: {len(not_exceeed)}\")\n",
    "\n",
    "# 疊圖\n",
    "fig, ax = plt.subplots(figsize=(10,5))\n",
    "for idx, d in enumerate([not_exceeed, exceeed]):\n",
    "    if idx==1:\n",
    "        color = 'r'\n",
    "        label = \"當日橘警\"\n",
    "    else:\n",
    "        color = 'b'\n",
    "        label = \"未超標\"\n",
    "        \n",
    "    sns.histplot(data=d, x=x ,ax=ax, kde=True, color=color, label=label)\n",
    "    \n",
    "if x==\"diff_ratio\":\n",
    "    ax.set_xlim(-0.1, 1.5)\n",
    "ax.legend()\n",
    "ax.set_title(f\" 2018年 O3分鐘值超過71時，至前60分鐘之平均濃度變化斜率 ({x}) 直方圖\")"
   ]
  },
  {
   "cell_type": "code",
   "execution_count": null,
   "id": "44f5a1ba",
   "metadata": {},
   "outputs": [],
   "source": []
  },
  {
   "cell_type": "markdown",
   "id": "4ebc0bd4",
   "metadata": {},
   "source": [
    "# 改寫成 Dask DataFrame (卡住..)"
   ]
  },
  {
   "cell_type": "code",
   "execution_count": 123,
   "id": "829318d1",
   "metadata": {},
   "outputs": [
    {
     "name": "stdout",
     "output_type": "stream",
     "text": [
      "<class 'dask.dataframe.core.DataFrame'>\n",
      "Columns: 4 entries, DEVICE_ID to Date\n",
      "dtypes: category(2), datetime64[ns](1), float32(1)"
     ]
    }
   ],
   "source": [
    "# 讀檔\n",
    "path = \"E:/臭氧分鐘值_2018to2020/20210719T004146Z/481_國家級測站分鐘值_2018_01_0.csv\" #2018 全年度\n",
    "df_min = dd.read_csv(path, usecols=[0,3,124], parse_dates=[\"TIME\"], dtype={0:\"category\", 124:\"float32\"})\n",
    "# print(type(df_min))\n",
    "\n",
    "# # 格式轉換\n",
    "df_min = df_min.rename(columns={\"O3()\":\"O3_min\",\"TIME\":\"DataCreationDate\"})\n",
    "\n",
    "df_min['Date'] = df_min['DataCreationDate'].dt.date\n",
    "df_min['Date'] = df_min['Date'].astype('category')\n",
    "\n",
    "df_min.info()"
   ]
  },
  {
   "cell_type": "code",
   "execution_count": 129,
   "id": "d925345e",
   "metadata": {},
   "outputs": [
    {
     "ename": "AttributeError",
     "evalue": "'Column not found: compute'",
     "output_type": "error",
     "traceback": [
      "\u001b[1;31m---------------------------------------------------------------------------\u001b[0m",
      "\u001b[1;31mKeyError\u001b[0m                                  Traceback (most recent call last)",
      "\u001b[1;32m~\\anaconda3\\lib\\site-packages\\dask\\dataframe\\groupby.py\u001b[0m in \u001b[0;36m__getattr__\u001b[1;34m(self, key)\u001b[0m\n\u001b[0;32m   1833\u001b[0m         \u001b[1;32mtry\u001b[0m\u001b[1;33m:\u001b[0m\u001b[1;33m\u001b[0m\u001b[1;33m\u001b[0m\u001b[0m\n\u001b[1;32m-> 1834\u001b[1;33m             \u001b[1;32mreturn\u001b[0m \u001b[0mself\u001b[0m\u001b[1;33m[\u001b[0m\u001b[0mkey\u001b[0m\u001b[1;33m]\u001b[0m\u001b[1;33m\u001b[0m\u001b[1;33m\u001b[0m\u001b[0m\n\u001b[0m\u001b[0;32m   1835\u001b[0m         \u001b[1;32mexcept\u001b[0m \u001b[0mKeyError\u001b[0m \u001b[1;32mas\u001b[0m \u001b[0me\u001b[0m\u001b[1;33m:\u001b[0m\u001b[1;33m\u001b[0m\u001b[1;33m\u001b[0m\u001b[0m\n",
      "\u001b[1;32m~\\anaconda3\\lib\\site-packages\\dask\\dataframe\\groupby.py\u001b[0m in \u001b[0;36m__getitem__\u001b[1;34m(self, key)\u001b[0m\n\u001b[0;32m   1819\u001b[0m         \u001b[1;31m# error is raised from pandas\u001b[0m\u001b[1;33m\u001b[0m\u001b[1;33m\u001b[0m\u001b[1;33m\u001b[0m\u001b[0m\n\u001b[1;32m-> 1820\u001b[1;33m         \u001b[0mg\u001b[0m\u001b[1;33m.\u001b[0m\u001b[0m_meta\u001b[0m \u001b[1;33m=\u001b[0m \u001b[0mg\u001b[0m\u001b[1;33m.\u001b[0m\u001b[0m_meta\u001b[0m\u001b[1;33m[\u001b[0m\u001b[0mkey\u001b[0m\u001b[1;33m]\u001b[0m\u001b[1;33m\u001b[0m\u001b[1;33m\u001b[0m\u001b[0m\n\u001b[0m\u001b[0;32m   1821\u001b[0m         \u001b[1;32mreturn\u001b[0m \u001b[0mg\u001b[0m\u001b[1;33m\u001b[0m\u001b[1;33m\u001b[0m\u001b[0m\n",
      "\u001b[1;32m~\\anaconda3\\lib\\site-packages\\pandas\\core\\groupby\\generic.py\u001b[0m in \u001b[0;36m__getitem__\u001b[1;34m(self, key)\u001b[0m\n\u001b[0;32m   1541\u001b[0m             )\n\u001b[1;32m-> 1542\u001b[1;33m         \u001b[1;32mreturn\u001b[0m \u001b[0msuper\u001b[0m\u001b[1;33m(\u001b[0m\u001b[1;33m)\u001b[0m\u001b[1;33m.\u001b[0m\u001b[0m__getitem__\u001b[0m\u001b[1;33m(\u001b[0m\u001b[0mkey\u001b[0m\u001b[1;33m)\u001b[0m\u001b[1;33m\u001b[0m\u001b[1;33m\u001b[0m\u001b[0m\n\u001b[0m\u001b[0;32m   1543\u001b[0m \u001b[1;33m\u001b[0m\u001b[0m\n",
      "\u001b[1;32m~\\anaconda3\\lib\\site-packages\\pandas\\core\\base.py\u001b[0m in \u001b[0;36m__getitem__\u001b[1;34m(self, key)\u001b[0m\n\u001b[0;32m    279\u001b[0m             \u001b[1;32mif\u001b[0m \u001b[0mkey\u001b[0m \u001b[1;32mnot\u001b[0m \u001b[1;32min\u001b[0m \u001b[0mself\u001b[0m\u001b[1;33m.\u001b[0m\u001b[0mobj\u001b[0m\u001b[1;33m:\u001b[0m  \u001b[1;31m# type: ignore[attr-defined]\u001b[0m\u001b[1;33m\u001b[0m\u001b[1;33m\u001b[0m\u001b[0m\n\u001b[1;32m--> 280\u001b[1;33m                 \u001b[1;32mraise\u001b[0m \u001b[0mKeyError\u001b[0m\u001b[1;33m(\u001b[0m\u001b[1;34mf\"Column not found: {key}\"\u001b[0m\u001b[1;33m)\u001b[0m\u001b[1;33m\u001b[0m\u001b[1;33m\u001b[0m\u001b[0m\n\u001b[0m\u001b[0;32m    281\u001b[0m             \u001b[1;32mreturn\u001b[0m \u001b[0mself\u001b[0m\u001b[1;33m.\u001b[0m\u001b[0m_gotitem\u001b[0m\u001b[1;33m(\u001b[0m\u001b[0mkey\u001b[0m\u001b[1;33m,\u001b[0m \u001b[0mndim\u001b[0m\u001b[1;33m=\u001b[0m\u001b[1;36m1\u001b[0m\u001b[1;33m)\u001b[0m\u001b[1;33m\u001b[0m\u001b[1;33m\u001b[0m\u001b[0m\n",
      "\u001b[1;31mKeyError\u001b[0m: 'Column not found: compute'",
      "\nThe above exception was the direct cause of the following exception:\n",
      "\u001b[1;31mAttributeError\u001b[0m                            Traceback (most recent call last)",
      "\u001b[1;32m<ipython-input-129-5542ed40525d>\u001b[0m in \u001b[0;36m<module>\u001b[1;34m\u001b[0m\n\u001b[0;32m     38\u001b[0m         \u001b[0mmask_exceed\u001b[0m \u001b[1;33m=\u001b[0m \u001b[0mtime_mask\u001b[0m \u001b[1;33m&\u001b[0m \u001b[1;33m(\u001b[0m\u001b[0mdf_min_mask\u001b[0m\u001b[1;33m[\u001b[0m\u001b[1;34m\"O3_min\"\u001b[0m\u001b[1;33m]\u001b[0m \u001b[1;33m>=\u001b[0m \u001b[1;36m71\u001b[0m\u001b[1;33m)\u001b[0m\u001b[1;33m\u001b[0m\u001b[1;33m\u001b[0m\u001b[0m\n\u001b[0;32m     39\u001b[0m         \u001b[0mdf_min_mask_exceed\u001b[0m \u001b[1;33m=\u001b[0m \u001b[0mdf_min_mask\u001b[0m\u001b[1;33m[\u001b[0m\u001b[0mmask_exceed\u001b[0m\u001b[1;33m]\u001b[0m\u001b[1;33m\u001b[0m\u001b[1;33m\u001b[0m\u001b[0m\n\u001b[1;32m---> 40\u001b[1;33m         \u001b[0mtarget_df\u001b[0m \u001b[1;33m=\u001b[0m \u001b[0mdf_min_mask_exceed\u001b[0m\u001b[1;33m.\u001b[0m\u001b[0msort_values\u001b[0m\u001b[1;33m(\u001b[0m\u001b[1;33m[\u001b[0m\u001b[1;34m'DataCreationDate'\u001b[0m\u001b[1;33m]\u001b[0m\u001b[1;33m,\u001b[0m \u001b[0mascending\u001b[0m\u001b[1;33m=\u001b[0m\u001b[1;32mTrue\u001b[0m\u001b[1;33m)\u001b[0m\u001b[1;33m.\u001b[0m\u001b[0mgroupby\u001b[0m\u001b[1;33m(\u001b[0m\u001b[1;33m[\u001b[0m\u001b[1;34m\"DEVICE_ID\"\u001b[0m\u001b[1;33m,\u001b[0m \u001b[1;34m\"Date\"\u001b[0m\u001b[1;33m]\u001b[0m\u001b[1;33m)\u001b[0m\u001b[1;33m.\u001b[0m\u001b[0mcompute\u001b[0m\u001b[1;33m(\u001b[0m\u001b[1;33m)\u001b[0m\u001b[1;33m[\u001b[0m\u001b[1;36m0\u001b[0m\u001b[1;33m]\u001b[0m\u001b[1;33m.\u001b[0m\u001b[0mreset_index\u001b[0m\u001b[1;33m(\u001b[0m\u001b[0mdrop\u001b[0m\u001b[1;33m=\u001b[0m\u001b[1;32mTrue\u001b[0m\u001b[1;33m)\u001b[0m\u001b[1;33m\u001b[0m\u001b[1;33m\u001b[0m\u001b[0m\n\u001b[0m\u001b[0;32m     41\u001b[0m \u001b[1;33m\u001b[0m\u001b[0m\n\u001b[0;32m     42\u001b[0m \u001b[1;33m\u001b[0m\u001b[0m\n",
      "\u001b[1;32m~\\anaconda3\\lib\\site-packages\\dask\\dataframe\\groupby.py\u001b[0m in \u001b[0;36m__getattr__\u001b[1;34m(self, key)\u001b[0m\n\u001b[0;32m   1834\u001b[0m             \u001b[1;32mreturn\u001b[0m \u001b[0mself\u001b[0m\u001b[1;33m[\u001b[0m\u001b[0mkey\u001b[0m\u001b[1;33m]\u001b[0m\u001b[1;33m\u001b[0m\u001b[1;33m\u001b[0m\u001b[0m\n\u001b[0;32m   1835\u001b[0m         \u001b[1;32mexcept\u001b[0m \u001b[0mKeyError\u001b[0m \u001b[1;32mas\u001b[0m \u001b[0me\u001b[0m\u001b[1;33m:\u001b[0m\u001b[1;33m\u001b[0m\u001b[1;33m\u001b[0m\u001b[0m\n\u001b[1;32m-> 1836\u001b[1;33m             \u001b[1;32mraise\u001b[0m \u001b[0mAttributeError\u001b[0m\u001b[1;33m(\u001b[0m\u001b[0me\u001b[0m\u001b[1;33m)\u001b[0m \u001b[1;32mfrom\u001b[0m \u001b[0me\u001b[0m\u001b[1;33m\u001b[0m\u001b[1;33m\u001b[0m\u001b[0m\n\u001b[0m\u001b[0;32m   1837\u001b[0m \u001b[1;33m\u001b[0m\u001b[0m\n\u001b[0;32m   1838\u001b[0m     \u001b[1;33m@\u001b[0m\u001b[0mderived_from\u001b[0m\u001b[1;33m(\u001b[0m\u001b[0mpd\u001b[0m\u001b[1;33m.\u001b[0m\u001b[0mcore\u001b[0m\u001b[1;33m.\u001b[0m\u001b[0mgroupby\u001b[0m\u001b[1;33m.\u001b[0m\u001b[0mDataFrameGroupBy\u001b[0m\u001b[1;33m)\u001b[0m\u001b[1;33m\u001b[0m\u001b[1;33m\u001b[0m\u001b[0m\n",
      "\u001b[1;31mAttributeError\u001b[0m: 'Column not found: compute'"
     ]
    }
   ],
   "source": [
    "# 系統運作時間 (7-1,21)\n",
    "sys_working_zone = (6,21)\n",
    "time_mask = (df_min[\"DataCreationDate\"].dt.hour >= sys_working_zone[0]) & (df_min[\"DataCreationDate\"].dt.hour <= sys_working_zone[1]) \n",
    "\n",
    "# 計算前五分鐘移動平均值\n",
    "# 5分鐘移動平均(MA5)，可容忍5缺2筆\n",
    "col = \"O3_min\"\n",
    "col_name = col+\"_MA5\"\n",
    "\n",
    "target_df_all = pd.DataFrame()\n",
    "# for loop 區分 SiteName\n",
    "for device_id in df_min[\"DEVICE_ID\"].unique():\n",
    "    mask = time_mask & df_min[\"DEVICE_ID\"].isin([device_id])\n",
    "    df_min_mask = df_min[mask]\n",
    "    if len(df_min_mask.index) > 0:\n",
    "    \n",
    "        # 將負值設為空值\n",
    "        df_min_mask[df_min_mask[\"O3_min\"]<0][\"O3_min\"] = np.nan\n",
    "\n",
    "#         # 創造 統一的時間區間*測站，還原缺值\n",
    "#         r = pd.date_range(start=df_min_mask[\"DataCreationDate\"].min(), end=df_min_mask[\"DataCreationDate\"].max(), freq='1min')\n",
    "#         df_min_mask = df_min_mask.set_index('DataCreationDate').reindex(r).fillna(\n",
    "#                                         {'DEVICE_ID':device_id, 'O3_min':np.nan}).rename_axis('DataCreationDate').reset_index()\n",
    "\n",
    "        # 製作 Date 變數\n",
    "        df_min_mask['Date'] = df_min_mask['DataCreationDate'].dt.date\n",
    "        df_min_mask['Date'] = df_min_mask['Date'].astype('category')\n",
    "    \n",
    "        # 計算5分鐘移動平均\n",
    "        df_min_mask[col_name] = df_min_mask.sort_values(by=[\"DataCreationDate\"], ascending=[1])[col].rolling(\n",
    "                                    window=5, min_periods=3, center=False).mean().apply(\n",
    "                                    lambda m: round(m, 3) if pd.notna(m) else np.nan , meta=('O3_min', 'float64'))\n",
    "\n",
    "\n",
    "        # 找出每日早上7點之後(晚上9點之前)，第1次 分鐘值 超過71 的時間點與 當分鐘的MA5\n",
    "        sys_working_zone = (7,21)\n",
    "        time_mask = (df_min_mask[\"DataCreationDate\"].dt.hour >= sys_working_zone[0]) & (df_min_mask[\"DataCreationDate\"].dt.hour <= sys_working_zone[1]) \n",
    "        mask_exceed = time_mask & (df_min_mask[\"O3_min\"] >= 71)\n",
    "        df_min_mask_exceed = df_min_mask[mask_exceed]\n",
    "        target_df = df_min_mask_exceed.sort_values(['DataCreationDate'], ascending=True).groupby([\"DEVICE_ID\", \"Date\"]).compute().head(1).reset_index(drop=True)\n",
    "        \n",
    "        \n",
    "#         # 找出每日早上7點之後(晚上9點之前)，第1次 分鐘值 超過71 的時間點與 當分鐘的MA5\n",
    "#         sys_working_zone = (7,21)\n",
    "#         time_mask = (df_min_mask[\"DataCreationDate\"].dt.hour >= sys_working_zone[0]) & (df_min_mask[\"DataCreationDate\"].dt.hour <= sys_working_zone[1]) \n",
    "#         mask_exceed = time_mask & (df_min_mask[\"O3_min\"] >= 71)\n",
    "#         target_df = df_min_mask.sort_values(\n",
    "#                                             ['DataCreationDate'], ascending=True).groupby(\n",
    "#                                                                                     [\"DEVICE_ID\", \"Date\"]).first().reset_index()\n",
    "\n",
    "\n",
    "\n",
    "        # # 找出目標分鐘前1小時的MA5，並合併 merge\n",
    "        target_df[\"front_time\"] = target_df['DataCreationDate'] - timedelta(hours=1)\n",
    "        target_df = target_df.merge(df_min_mask, how='inner', \n",
    "                        left_on=[\"DEVICE_ID\", \"Date\", 'front_time'], \n",
    "                        right_on=[\"DEVICE_ID\", \"Date\", 'DataCreationDate'],\n",
    "                        suffixes=(\"\", \"_front\"))\n",
    "\n",
    "        target_df_all = pd.concat([target_df_all, target_df.compute()])\n",
    "        target_df_all = target_df_all.drop_duplicates()\n",
    "        print(f\">> DEVICE_ID: {device_id} 計算完成  Now: {datetime.now().time()}\")\n",
    "    \n",
    "print(f\"\\n>>> 全部計算完成!  Now: {datetime.now()}\")\n",
    "target_df_all.reset_index(drop=True, inplace=True) # compute完 已經是 pandas.core.frame.DataFrame"
   ]
  },
  {
   "cell_type": "code",
   "execution_count": 6,
   "id": "46678e90",
   "metadata": {},
   "outputs": [
    {
     "data": {
      "text/html": [
       "<div>\n",
       "<style scoped>\n",
       "    .dataframe tbody tr th:only-of-type {\n",
       "        vertical-align: middle;\n",
       "    }\n",
       "\n",
       "    .dataframe tbody tr th {\n",
       "        vertical-align: top;\n",
       "    }\n",
       "\n",
       "    .dataframe thead th {\n",
       "        text-align: right;\n",
       "    }\n",
       "</style>\n",
       "<table border=\"1\" class=\"dataframe\">\n",
       "  <thead>\n",
       "    <tr style=\"text-align: right;\">\n",
       "      <th></th>\n",
       "      <th>DEVICE_ID</th>\n",
       "      <th>Date</th>\n",
       "      <th>DataCreationDate</th>\n",
       "      <th>O3_min</th>\n",
       "      <th>front_time</th>\n",
       "      <th>DataCreationDate_front</th>\n",
       "      <th>O3_min_front</th>\n",
       "    </tr>\n",
       "  </thead>\n",
       "  <tbody>\n",
       "    <tr>\n",
       "      <th>0</th>\n",
       "      <td>6106537758</td>\n",
       "      <td>2018-01-03</td>\n",
       "      <td>2018-01-03 11:50:00</td>\n",
       "      <td>71.099998</td>\n",
       "      <td>2018-01-03 10:50:00</td>\n",
       "      <td>2018-01-03 10:50:00</td>\n",
       "      <td>43.000000</td>\n",
       "    </tr>\n",
       "    <tr>\n",
       "      <th>1</th>\n",
       "      <td>6106537758</td>\n",
       "      <td>2018-01-04</td>\n",
       "      <td>2018-01-04 11:39:00</td>\n",
       "      <td>71.800003</td>\n",
       "      <td>2018-01-04 10:39:00</td>\n",
       "      <td>2018-01-04 10:39:00</td>\n",
       "      <td>52.299999</td>\n",
       "    </tr>\n",
       "    <tr>\n",
       "      <th>2</th>\n",
       "      <td>6106537758</td>\n",
       "      <td>2018-01-13</td>\n",
       "      <td>2018-01-13 13:55:00</td>\n",
       "      <td>71.300003</td>\n",
       "      <td>2018-01-13 12:55:00</td>\n",
       "      <td>2018-01-13 12:55:00</td>\n",
       "      <td>61.700001</td>\n",
       "    </tr>\n",
       "    <tr>\n",
       "      <th>3</th>\n",
       "      <td>6106537758</td>\n",
       "      <td>2018-01-14</td>\n",
       "      <td>2018-01-14 10:18:00</td>\n",
       "      <td>72.400002</td>\n",
       "      <td>2018-01-14 09:18:00</td>\n",
       "      <td>2018-01-14 09:18:00</td>\n",
       "      <td>47.400002</td>\n",
       "    </tr>\n",
       "    <tr>\n",
       "      <th>4</th>\n",
       "      <td>6106537758</td>\n",
       "      <td>2018-01-15</td>\n",
       "      <td>2018-01-15 13:05:00</td>\n",
       "      <td>71.800003</td>\n",
       "      <td>2018-01-15 12:05:00</td>\n",
       "      <td>2018-01-15 12:05:00</td>\n",
       "      <td>55.599998</td>\n",
       "    </tr>\n",
       "    <tr>\n",
       "      <th>...</th>\n",
       "      <td>...</td>\n",
       "      <td>...</td>\n",
       "      <td>...</td>\n",
       "      <td>...</td>\n",
       "      <td>...</td>\n",
       "      <td>...</td>\n",
       "      <td>...</td>\n",
       "    </tr>\n",
       "    <tr>\n",
       "      <th>11</th>\n",
       "      <td>6097989748</td>\n",
       "      <td>2018-12-20</td>\n",
       "      <td>2018-12-20 14:13:00</td>\n",
       "      <td>100.199997</td>\n",
       "      <td>2018-12-20 13:13:00</td>\n",
       "      <td>2018-12-20 13:13:00</td>\n",
       "      <td>0.000000</td>\n",
       "    </tr>\n",
       "    <tr>\n",
       "      <th>12</th>\n",
       "      <td>6097989748</td>\n",
       "      <td>2018-12-21</td>\n",
       "      <td>2018-12-21 11:52:00</td>\n",
       "      <td>71.900002</td>\n",
       "      <td>2018-12-21 10:52:00</td>\n",
       "      <td>2018-12-21 10:52:00</td>\n",
       "      <td>0.000000</td>\n",
       "    </tr>\n",
       "    <tr>\n",
       "      <th>13</th>\n",
       "      <td>6097989748</td>\n",
       "      <td>2018-12-22</td>\n",
       "      <td>2018-12-22 11:36:00</td>\n",
       "      <td>71.400002</td>\n",
       "      <td>2018-12-22 10:36:00</td>\n",
       "      <td>2018-12-22 10:36:00</td>\n",
       "      <td>51.599998</td>\n",
       "    </tr>\n",
       "    <tr>\n",
       "      <th>14</th>\n",
       "      <td>6102800520</td>\n",
       "      <td>2018-12-21</td>\n",
       "      <td>2018-12-21 12:53:00</td>\n",
       "      <td>71.199997</td>\n",
       "      <td>2018-12-21 11:53:00</td>\n",
       "      <td>2018-12-21 11:53:00</td>\n",
       "      <td>65.000000</td>\n",
       "    </tr>\n",
       "    <tr>\n",
       "      <th>15</th>\n",
       "      <td>6102800520</td>\n",
       "      <td>2018-12-22</td>\n",
       "      <td>2018-12-22 13:31:00</td>\n",
       "      <td>72.800003</td>\n",
       "      <td>2018-12-22 12:31:00</td>\n",
       "      <td>2018-12-22 12:31:00</td>\n",
       "      <td>61.900002</td>\n",
       "    </tr>\n",
       "  </tbody>\n",
       "</table>\n",
       "<p>8007 rows × 7 columns</p>\n",
       "</div>"
      ],
      "text/plain": [
       "     DEVICE_ID       Date    DataCreationDate      O3_min          front_time  \\\n",
       "0   6106537758 2018-01-03 2018-01-03 11:50:00   71.099998 2018-01-03 10:50:00   \n",
       "1   6106537758 2018-01-04 2018-01-04 11:39:00   71.800003 2018-01-04 10:39:00   \n",
       "2   6106537758 2018-01-13 2018-01-13 13:55:00   71.300003 2018-01-13 12:55:00   \n",
       "3   6106537758 2018-01-14 2018-01-14 10:18:00   72.400002 2018-01-14 09:18:00   \n",
       "4   6106537758 2018-01-15 2018-01-15 13:05:00   71.800003 2018-01-15 12:05:00   \n",
       "..         ...        ...                 ...         ...                 ...   \n",
       "11  6097989748 2018-12-20 2018-12-20 14:13:00  100.199997 2018-12-20 13:13:00   \n",
       "12  6097989748 2018-12-21 2018-12-21 11:52:00   71.900002 2018-12-21 10:52:00   \n",
       "13  6097989748 2018-12-22 2018-12-22 11:36:00   71.400002 2018-12-22 10:36:00   \n",
       "14  6102800520 2018-12-21 2018-12-21 12:53:00   71.199997 2018-12-21 11:53:00   \n",
       "15  6102800520 2018-12-22 2018-12-22 13:31:00   72.800003 2018-12-22 12:31:00   \n",
       "\n",
       "   DataCreationDate_front  O3_min_front  \n",
       "0     2018-01-03 10:50:00     43.000000  \n",
       "1     2018-01-04 10:39:00     52.299999  \n",
       "2     2018-01-13 12:55:00     61.700001  \n",
       "3     2018-01-14 09:18:00     47.400002  \n",
       "4     2018-01-15 12:05:00     55.599998  \n",
       "..                    ...           ...  \n",
       "11    2018-12-20 13:13:00      0.000000  \n",
       "12    2018-12-21 10:52:00      0.000000  \n",
       "13    2018-12-22 10:36:00     51.599998  \n",
       "14    2018-12-21 11:53:00     65.000000  \n",
       "15    2018-12-22 12:31:00     61.900002  \n",
       "\n",
       "[8007 rows x 7 columns]"
      ]
     },
     "execution_count": 6,
     "metadata": {},
     "output_type": "execute_result"
    }
   ],
   "source": [
    "target_df_all"
   ]
  },
  {
   "cell_type": "code",
   "execution_count": null,
   "id": "30097f80",
   "metadata": {},
   "outputs": [],
   "source": [
    "import os\n",
    "os.environ[\"PATH\"] += os.pathsep + 'C:/Program Files/Graphviz/bin/'\n",
    "\n",
    "target_df.visualize()"
   ]
  },
  {
   "cell_type": "markdown",
   "id": "67bdc8ea",
   "metadata": {},
   "source": [
    "Reduce, and then use Pandas"
   ]
  },
  {
   "cell_type": "code",
   "execution_count": null,
   "id": "6296bdd5",
   "metadata": {},
   "outputs": [],
   "source": []
  },
  {
   "cell_type": "code",
   "execution_count": null,
   "id": "c3d145af",
   "metadata": {},
   "outputs": [],
   "source": []
  },
  {
   "cell_type": "code",
   "execution_count": null,
   "id": "6313e4c5",
   "metadata": {},
   "outputs": [],
   "source": []
  }
 ],
 "metadata": {
  "kernelspec": {
   "display_name": "Python 3",
   "language": "python",
   "name": "python3"
  },
  "language_info": {
   "codemirror_mode": {
    "name": "ipython",
    "version": 3
   },
   "file_extension": ".py",
   "mimetype": "text/x-python",
   "name": "python",
   "nbconvert_exporter": "python",
   "pygments_lexer": "ipython3",
   "version": "3.8.3"
  }
 },
 "nbformat": 4,
 "nbformat_minor": 5
}
