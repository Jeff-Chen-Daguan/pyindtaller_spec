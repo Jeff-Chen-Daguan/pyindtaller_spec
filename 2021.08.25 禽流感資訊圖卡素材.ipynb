{
 "cells": [
  {
   "cell_type": "markdown",
   "id": "7524f9c4",
   "metadata": {},
   "source": [
    "2021.08.25 禽流感資訊圖卡素材"
   ]
  },
  {
   "cell_type": "code",
   "execution_count": 1,
   "id": "9bef61c3",
   "metadata": {},
   "outputs": [],
   "source": [
    "import pandas as pd\n",
    "import numpy as np\n",
    "from datetime import datetime\n",
    "\n",
    "import plotly.express as px\n",
    "import plotly.graph_objects as go"
   ]
  },
  {
   "cell_type": "code",
   "execution_count": 2,
   "id": "d81fb846",
   "metadata": {},
   "outputs": [],
   "source": [
    "# 案例場資料\n",
    "file_path = r\"G:\\我的雲端硬碟\\work\\2021\\1.農試所_大禽流感專案\\1.資料\\案例場資料_高博提供\\20210806確診案例 for EMCT.xlsx\"\n",
    "df = pd.read_excel(file_path ,usecols = \"A:Y\" ,engine='openpyxl')\n",
    "\n",
    "# 拿掉中文欄位名稱\n",
    "df.drop(df.index[0], inplace=True)\n",
    "\n",
    "# 時間變數製作\n",
    "df.loc[:, \"sample_date\"] = pd.to_datetime(df.loc[:, \"sample_date\"])\n",
    "df.loc[:, \"sample_date_year\"] = df.loc[:, \"sample_date\"].dt.year\n",
    "df.loc[:, \"sample_date_month\"] = df.loc[:, \"sample_date\"].dt.month"
   ]
  },
  {
   "cell_type": "code",
   "execution_count": 3,
   "id": "5ad45bbb",
   "metadata": {},
   "outputs": [
    {
     "name": "stdout",
     "output_type": "stream",
     "text": [
      "1415\n"
     ]
    }
   ],
   "source": [
    "#篩選\n",
    "df = df[df[\"AI_1\"].isin([\"HPAI\"])] #  HPAI\n",
    "print(len(df))"
   ]
  },
  {
   "cell_type": "code",
   "execution_count": 4,
   "id": "9a296bdc",
   "metadata": {},
   "outputs": [
    {
     "data": {
      "text/plain": [
       "2015    944\n",
       "2017    182\n",
       "2018     98\n",
       "2019     84\n",
       "2020     58\n",
       "2016     37\n",
       "2021     12\n",
       "Name: sample_date_year, dtype: int64"
      ]
     },
     "execution_count": 4,
     "metadata": {},
     "output_type": "execute_result"
    }
   ],
   "source": [
    "df[\"sample_date_year\"].value_counts()"
   ]
  },
  {
   "cell_type": "code",
   "execution_count": 5,
   "id": "89ab8a43",
   "metadata": {},
   "outputs": [],
   "source": [
    "# 依照 各年、各縣市、各月份 加總\n",
    "# date_mask = (df['sample_date'] >= '2020-9-30') & (df['sample_date'] <= '2021-10-1')\n",
    "# df_pic = df[date_mask] #篩選年分\n",
    "\n",
    "df_pic = df[df[\"sample_date_year\"].isin([2020,2021])] #篩選年分\n",
    "\n",
    "group_cols = [\"countyname\", \"sample_date_month\"]\n",
    "df_group = df_pic[group_cols+[\"AI_1\"]].groupby(group_cols, as_index=False).count()\n",
    "df_group.rename(columns={\"AI_1\":\"count\"}, inplace=True)\n",
    "# df_group"
   ]
  },
  {
   "cell_type": "code",
   "execution_count": 6,
   "id": "544b0809",
   "metadata": {},
   "outputs": [
    {
     "data": {
      "text/html": [
       "<div>\n",
       "<style scoped>\n",
       "    .dataframe tbody tr th:only-of-type {\n",
       "        vertical-align: middle;\n",
       "    }\n",
       "\n",
       "    .dataframe tbody tr th {\n",
       "        vertical-align: top;\n",
       "    }\n",
       "\n",
       "    .dataframe thead th {\n",
       "        text-align: right;\n",
       "    }\n",
       "</style>\n",
       "<table border=\"1\" class=\"dataframe\">\n",
       "  <thead>\n",
       "    <tr style=\"text-align: right;\">\n",
       "      <th></th>\n",
       "      <th>count</th>\n",
       "    </tr>\n",
       "    <tr>\n",
       "      <th>sample_date_month</th>\n",
       "      <th></th>\n",
       "    </tr>\n",
       "  </thead>\n",
       "  <tbody>\n",
       "    <tr>\n",
       "      <th>1</th>\n",
       "      <td>15</td>\n",
       "    </tr>\n",
       "    <tr>\n",
       "      <th>2</th>\n",
       "      <td>12</td>\n",
       "    </tr>\n",
       "    <tr>\n",
       "      <th>3</th>\n",
       "      <td>11</td>\n",
       "    </tr>\n",
       "    <tr>\n",
       "      <th>4</th>\n",
       "      <td>7</td>\n",
       "    </tr>\n",
       "    <tr>\n",
       "      <th>5</th>\n",
       "      <td>3</td>\n",
       "    </tr>\n",
       "    <tr>\n",
       "      <th>6</th>\n",
       "      <td>2</td>\n",
       "    </tr>\n",
       "    <tr>\n",
       "      <th>7</th>\n",
       "      <td>5</td>\n",
       "    </tr>\n",
       "    <tr>\n",
       "      <th>8</th>\n",
       "      <td>6</td>\n",
       "    </tr>\n",
       "    <tr>\n",
       "      <th>9</th>\n",
       "      <td>2</td>\n",
       "    </tr>\n",
       "    <tr>\n",
       "      <th>11</th>\n",
       "      <td>2</td>\n",
       "    </tr>\n",
       "    <tr>\n",
       "      <th>12</th>\n",
       "      <td>5</td>\n",
       "    </tr>\n",
       "  </tbody>\n",
       "</table>\n",
       "</div>"
      ],
      "text/plain": [
       "                   count\n",
       "sample_date_month       \n",
       "1                     15\n",
       "2                     12\n",
       "3                     11\n",
       "4                      7\n",
       "5                      3\n",
       "6                      2\n",
       "7                      5\n",
       "8                      6\n",
       "9                      2\n",
       "11                     2\n",
       "12                     5"
      ]
     },
     "execution_count": 6,
     "metadata": {},
     "output_type": "execute_result"
    }
   ],
   "source": [
    "df_group[[\"sample_date_month\",\"count\"]].groupby([\"sample_date_month\"]).sum()"
   ]
  },
  {
   "cell_type": "code",
   "execution_count": 91,
   "id": "59a8f86d",
   "metadata": {},
   "outputs": [
    {
     "name": "stdout",
     "output_type": "stream",
     "text": [
      "70\n"
     ]
    },
    {
     "data": {
      "text/html": [
       "<div>\n",
       "<style scoped>\n",
       "    .dataframe tbody tr th:only-of-type {\n",
       "        vertical-align: middle;\n",
       "    }\n",
       "\n",
       "    .dataframe tbody tr th {\n",
       "        vertical-align: top;\n",
       "    }\n",
       "\n",
       "    .dataframe thead th {\n",
       "        text-align: right;\n",
       "    }\n",
       "</style>\n",
       "<table border=\"1\" class=\"dataframe\">\n",
       "  <thead>\n",
       "    <tr style=\"text-align: right;\">\n",
       "      <th></th>\n",
       "      <th>count</th>\n",
       "    </tr>\n",
       "    <tr>\n",
       "      <th>countyname</th>\n",
       "      <th></th>\n",
       "    </tr>\n",
       "  </thead>\n",
       "  <tbody>\n",
       "    <tr>\n",
       "      <th>嘉義縣</th>\n",
       "      <td>1.428571</td>\n",
       "    </tr>\n",
       "    <tr>\n",
       "      <th>屏東縣</th>\n",
       "      <td>12.857143</td>\n",
       "    </tr>\n",
       "    <tr>\n",
       "      <th>彰化縣</th>\n",
       "      <td>11.428571</td>\n",
       "    </tr>\n",
       "    <tr>\n",
       "      <th>臺中市</th>\n",
       "      <td>1.428571</td>\n",
       "    </tr>\n",
       "    <tr>\n",
       "      <th>臺南市</th>\n",
       "      <td>10.000000</td>\n",
       "    </tr>\n",
       "    <tr>\n",
       "      <th>雲林縣</th>\n",
       "      <td>61.428571</td>\n",
       "    </tr>\n",
       "    <tr>\n",
       "      <th>高雄市</th>\n",
       "      <td>1.428571</td>\n",
       "    </tr>\n",
       "  </tbody>\n",
       "</table>\n",
       "</div>"
      ],
      "text/plain": [
       "                count\n",
       "countyname           \n",
       "嘉義縣          1.428571\n",
       "屏東縣         12.857143\n",
       "彰化縣         11.428571\n",
       "臺中市          1.428571\n",
       "臺南市         10.000000\n",
       "雲林縣         61.428571\n",
       "高雄市          1.428571"
      ]
     },
     "execution_count": 91,
     "metadata": {},
     "output_type": "execute_result"
    }
   ],
   "source": [
    "print(df_group[\"count\"].sum())\n",
    "(df_group[[\"countyname\",\"count\"]].groupby([\"countyname\"]).sum()/(df_group[\"count\"].sum()))*100\n"
   ]
  },
  {
   "cell_type": "code",
   "execution_count": 146,
   "id": "4b72da3e",
   "metadata": {},
   "outputs": [
    {
     "data": {
      "text/html": [
       "<div>\n",
       "<style scoped>\n",
       "    .dataframe tbody tr th:only-of-type {\n",
       "        vertical-align: middle;\n",
       "    }\n",
       "\n",
       "    .dataframe tbody tr th {\n",
       "        vertical-align: top;\n",
       "    }\n",
       "\n",
       "    .dataframe thead th {\n",
       "        text-align: right;\n",
       "    }\n",
       "</style>\n",
       "<table border=\"1\" class=\"dataframe\">\n",
       "  <thead>\n",
       "    <tr style=\"text-align: right;\">\n",
       "      <th></th>\n",
       "      <th>sample_date_year</th>\n",
       "      <th>sample_date_month</th>\n",
       "      <th>AI_1</th>\n",
       "      <th>Time</th>\n",
       "    </tr>\n",
       "  </thead>\n",
       "  <tbody>\n",
       "    <tr>\n",
       "      <th>0</th>\n",
       "      <td>2020</td>\n",
       "      <td>1</td>\n",
       "      <td>13</td>\n",
       "      <td>1月</td>\n",
       "    </tr>\n",
       "    <tr>\n",
       "      <th>1</th>\n",
       "      <td>2020</td>\n",
       "      <td>2</td>\n",
       "      <td>10</td>\n",
       "      <td>2月</td>\n",
       "    </tr>\n",
       "    <tr>\n",
       "      <th>2</th>\n",
       "      <td>2020</td>\n",
       "      <td>3</td>\n",
       "      <td>8</td>\n",
       "      <td>3月</td>\n",
       "    </tr>\n",
       "    <tr>\n",
       "      <th>3</th>\n",
       "      <td>2020</td>\n",
       "      <td>4</td>\n",
       "      <td>6</td>\n",
       "      <td>4月</td>\n",
       "    </tr>\n",
       "    <tr>\n",
       "      <th>4</th>\n",
       "      <td>2020</td>\n",
       "      <td>5</td>\n",
       "      <td>1</td>\n",
       "      <td>5月</td>\n",
       "    </tr>\n",
       "    <tr>\n",
       "      <th>5</th>\n",
       "      <td>2020</td>\n",
       "      <td>6</td>\n",
       "      <td>1</td>\n",
       "      <td>6月</td>\n",
       "    </tr>\n",
       "    <tr>\n",
       "      <th>6</th>\n",
       "      <td>2020</td>\n",
       "      <td>7</td>\n",
       "      <td>4</td>\n",
       "      <td>7月</td>\n",
       "    </tr>\n",
       "    <tr>\n",
       "      <th>7</th>\n",
       "      <td>2020</td>\n",
       "      <td>8</td>\n",
       "      <td>6</td>\n",
       "      <td>8月</td>\n",
       "    </tr>\n",
       "    <tr>\n",
       "      <th>8</th>\n",
       "      <td>2020</td>\n",
       "      <td>9</td>\n",
       "      <td>2</td>\n",
       "      <td>9月</td>\n",
       "    </tr>\n",
       "    <tr>\n",
       "      <th>0</th>\n",
       "      <td>2020</td>\n",
       "      <td>10</td>\n",
       "      <td>0</td>\n",
       "      <td>10月</td>\n",
       "    </tr>\n",
       "    <tr>\n",
       "      <th>9</th>\n",
       "      <td>2020</td>\n",
       "      <td>11</td>\n",
       "      <td>2</td>\n",
       "      <td>11月</td>\n",
       "    </tr>\n",
       "    <tr>\n",
       "      <th>10</th>\n",
       "      <td>2020</td>\n",
       "      <td>12</td>\n",
       "      <td>5</td>\n",
       "      <td>12月</td>\n",
       "    </tr>\n",
       "    <tr>\n",
       "      <th>11</th>\n",
       "      <td>2021</td>\n",
       "      <td>1</td>\n",
       "      <td>2</td>\n",
       "      <td>1月</td>\n",
       "    </tr>\n",
       "    <tr>\n",
       "      <th>12</th>\n",
       "      <td>2021</td>\n",
       "      <td>2</td>\n",
       "      <td>2</td>\n",
       "      <td>2月</td>\n",
       "    </tr>\n",
       "    <tr>\n",
       "      <th>13</th>\n",
       "      <td>2021</td>\n",
       "      <td>3</td>\n",
       "      <td>3</td>\n",
       "      <td>3月</td>\n",
       "    </tr>\n",
       "    <tr>\n",
       "      <th>14</th>\n",
       "      <td>2021</td>\n",
       "      <td>4</td>\n",
       "      <td>1</td>\n",
       "      <td>4月</td>\n",
       "    </tr>\n",
       "    <tr>\n",
       "      <th>15</th>\n",
       "      <td>2021</td>\n",
       "      <td>5</td>\n",
       "      <td>2</td>\n",
       "      <td>5月</td>\n",
       "    </tr>\n",
       "    <tr>\n",
       "      <th>16</th>\n",
       "      <td>2021</td>\n",
       "      <td>6</td>\n",
       "      <td>1</td>\n",
       "      <td>6月</td>\n",
       "    </tr>\n",
       "    <tr>\n",
       "      <th>17</th>\n",
       "      <td>2021</td>\n",
       "      <td>7</td>\n",
       "      <td>1</td>\n",
       "      <td>7月</td>\n",
       "    </tr>\n",
       "    <tr>\n",
       "      <th>1</th>\n",
       "      <td>2021</td>\n",
       "      <td>8</td>\n",
       "      <td>0</td>\n",
       "      <td>8月</td>\n",
       "    </tr>\n",
       "  </tbody>\n",
       "</table>\n",
       "</div>"
      ],
      "text/plain": [
       "    sample_date_year  sample_date_month  AI_1 Time\n",
       "0               2020                  1    13   1月\n",
       "1               2020                  2    10   2月\n",
       "2               2020                  3     8   3月\n",
       "3               2020                  4     6   4月\n",
       "4               2020                  5     1   5月\n",
       "5               2020                  6     1   6月\n",
       "6               2020                  7     4   7月\n",
       "7               2020                  8     6   8月\n",
       "8               2020                  9     2   9月\n",
       "0               2020                 10     0  10月\n",
       "9               2020                 11     2  11月\n",
       "10              2020                 12     5  12月\n",
       "11              2021                  1     2   1月\n",
       "12              2021                  2     2   2月\n",
       "13              2021                  3     3   3月\n",
       "14              2021                  4     1   4月\n",
       "15              2021                  5     2   5月\n",
       "16              2021                  6     1   6月\n",
       "17              2021                  7     1   7月\n",
       "1               2021                  8     0   8月"
      ]
     },
     "execution_count": 146,
     "metadata": {},
     "output_type": "execute_result"
    }
   ],
   "source": [
    "trand_df = df_pic[[\"sample_date_year\", \"sample_date_month\",\"AI_1\"]].groupby([\"sample_date_year\", \"sample_date_month\"], as_index=False).count()\n",
    "trand_df = trand_df.append(pd.DataFrame([{\"sample_date_year\":2020,\"sample_date_month\":10,\"AI_1\":0}\n",
    "                                         ,{\"sample_date_year\":2021,\"sample_date_month\":8,\"AI_1\":0}]))\n",
    "# trand_df[\"Time\"] = trand_df[\"sample_date_year\"].astype(str) + \"年\" + trand_df[\"sample_date_month\"].astype(str) + \"月\"\n",
    "trand_df[\"Time\"] = trand_df[\"sample_date_month\"].astype(str) + \"月\"\n",
    "trand_df.sort_values(by=[\"sample_date_year\",\"sample_date_month\"], inplace=True)\n",
    "trand_df"
   ]
  },
  {
   "cell_type": "code",
   "execution_count": 143,
   "id": "16377858",
   "metadata": {},
   "outputs": [
    {
     "data": {
      "application/vnd.plotly.v1+json": {
       "config": {
        "plotlyServerURL": "https://plot.ly"
       },
       "data": [
        {
         "hovertemplate": "Time=%{x}<br>AI_1=%{y}<extra></extra>",
         "legendgroup": "",
         "line": {
          "color": "#636efa"
         },
         "mode": "lines",
         "name": "",
         "orientation": "v",
         "showlegend": false,
         "stackgroup": "1",
         "type": "scatter",
         "x": [
          "1月",
          "2月",
          "3月",
          "4月",
          "5月",
          "6月",
          "7月",
          "8月",
          "9月",
          "10月",
          "11月",
          "12月"
         ],
         "xaxis": "x",
         "y": [
          13,
          10,
          8,
          6,
          1,
          1,
          4,
          6,
          2,
          0,
          2,
          5
         ],
         "yaxis": "y"
        }
       ],
       "layout": {
        "height": 500,
        "legend": {
         "tracegroupgap": 0
        },
        "margin": {
         "t": 60
        },
        "template": {
         "data": {
          "bar": [
           {
            "error_x": {
             "color": "#2a3f5f"
            },
            "error_y": {
             "color": "#2a3f5f"
            },
            "marker": {
             "line": {
              "color": "white",
              "width": 0.5
             }
            },
            "type": "bar"
           }
          ],
          "barpolar": [
           {
            "marker": {
             "line": {
              "color": "white",
              "width": 0.5
             }
            },
            "type": "barpolar"
           }
          ],
          "carpet": [
           {
            "aaxis": {
             "endlinecolor": "#2a3f5f",
             "gridcolor": "#C8D4E3",
             "linecolor": "#C8D4E3",
             "minorgridcolor": "#C8D4E3",
             "startlinecolor": "#2a3f5f"
            },
            "baxis": {
             "endlinecolor": "#2a3f5f",
             "gridcolor": "#C8D4E3",
             "linecolor": "#C8D4E3",
             "minorgridcolor": "#C8D4E3",
             "startlinecolor": "#2a3f5f"
            },
            "type": "carpet"
           }
          ],
          "choropleth": [
           {
            "colorbar": {
             "outlinewidth": 0,
             "ticks": ""
            },
            "type": "choropleth"
           }
          ],
          "contour": [
           {
            "colorbar": {
             "outlinewidth": 0,
             "ticks": ""
            },
            "colorscale": [
             [
              0,
              "#0d0887"
             ],
             [
              0.1111111111111111,
              "#46039f"
             ],
             [
              0.2222222222222222,
              "#7201a8"
             ],
             [
              0.3333333333333333,
              "#9c179e"
             ],
             [
              0.4444444444444444,
              "#bd3786"
             ],
             [
              0.5555555555555556,
              "#d8576b"
             ],
             [
              0.6666666666666666,
              "#ed7953"
             ],
             [
              0.7777777777777778,
              "#fb9f3a"
             ],
             [
              0.8888888888888888,
              "#fdca26"
             ],
             [
              1,
              "#f0f921"
             ]
            ],
            "type": "contour"
           }
          ],
          "contourcarpet": [
           {
            "colorbar": {
             "outlinewidth": 0,
             "ticks": ""
            },
            "type": "contourcarpet"
           }
          ],
          "heatmap": [
           {
            "colorbar": {
             "outlinewidth": 0,
             "ticks": ""
            },
            "colorscale": [
             [
              0,
              "#0d0887"
             ],
             [
              0.1111111111111111,
              "#46039f"
             ],
             [
              0.2222222222222222,
              "#7201a8"
             ],
             [
              0.3333333333333333,
              "#9c179e"
             ],
             [
              0.4444444444444444,
              "#bd3786"
             ],
             [
              0.5555555555555556,
              "#d8576b"
             ],
             [
              0.6666666666666666,
              "#ed7953"
             ],
             [
              0.7777777777777778,
              "#fb9f3a"
             ],
             [
              0.8888888888888888,
              "#fdca26"
             ],
             [
              1,
              "#f0f921"
             ]
            ],
            "type": "heatmap"
           }
          ],
          "heatmapgl": [
           {
            "colorbar": {
             "outlinewidth": 0,
             "ticks": ""
            },
            "colorscale": [
             [
              0,
              "#0d0887"
             ],
             [
              0.1111111111111111,
              "#46039f"
             ],
             [
              0.2222222222222222,
              "#7201a8"
             ],
             [
              0.3333333333333333,
              "#9c179e"
             ],
             [
              0.4444444444444444,
              "#bd3786"
             ],
             [
              0.5555555555555556,
              "#d8576b"
             ],
             [
              0.6666666666666666,
              "#ed7953"
             ],
             [
              0.7777777777777778,
              "#fb9f3a"
             ],
             [
              0.8888888888888888,
              "#fdca26"
             ],
             [
              1,
              "#f0f921"
             ]
            ],
            "type": "heatmapgl"
           }
          ],
          "histogram": [
           {
            "marker": {
             "colorbar": {
              "outlinewidth": 0,
              "ticks": ""
             }
            },
            "type": "histogram"
           }
          ],
          "histogram2d": [
           {
            "colorbar": {
             "outlinewidth": 0,
             "ticks": ""
            },
            "colorscale": [
             [
              0,
              "#0d0887"
             ],
             [
              0.1111111111111111,
              "#46039f"
             ],
             [
              0.2222222222222222,
              "#7201a8"
             ],
             [
              0.3333333333333333,
              "#9c179e"
             ],
             [
              0.4444444444444444,
              "#bd3786"
             ],
             [
              0.5555555555555556,
              "#d8576b"
             ],
             [
              0.6666666666666666,
              "#ed7953"
             ],
             [
              0.7777777777777778,
              "#fb9f3a"
             ],
             [
              0.8888888888888888,
              "#fdca26"
             ],
             [
              1,
              "#f0f921"
             ]
            ],
            "type": "histogram2d"
           }
          ],
          "histogram2dcontour": [
           {
            "colorbar": {
             "outlinewidth": 0,
             "ticks": ""
            },
            "colorscale": [
             [
              0,
              "#0d0887"
             ],
             [
              0.1111111111111111,
              "#46039f"
             ],
             [
              0.2222222222222222,
              "#7201a8"
             ],
             [
              0.3333333333333333,
              "#9c179e"
             ],
             [
              0.4444444444444444,
              "#bd3786"
             ],
             [
              0.5555555555555556,
              "#d8576b"
             ],
             [
              0.6666666666666666,
              "#ed7953"
             ],
             [
              0.7777777777777778,
              "#fb9f3a"
             ],
             [
              0.8888888888888888,
              "#fdca26"
             ],
             [
              1,
              "#f0f921"
             ]
            ],
            "type": "histogram2dcontour"
           }
          ],
          "mesh3d": [
           {
            "colorbar": {
             "outlinewidth": 0,
             "ticks": ""
            },
            "type": "mesh3d"
           }
          ],
          "parcoords": [
           {
            "line": {
             "colorbar": {
              "outlinewidth": 0,
              "ticks": ""
             }
            },
            "type": "parcoords"
           }
          ],
          "pie": [
           {
            "automargin": true,
            "type": "pie"
           }
          ],
          "scatter": [
           {
            "marker": {
             "colorbar": {
              "outlinewidth": 0,
              "ticks": ""
             }
            },
            "type": "scatter"
           }
          ],
          "scatter3d": [
           {
            "line": {
             "colorbar": {
              "outlinewidth": 0,
              "ticks": ""
             }
            },
            "marker": {
             "colorbar": {
              "outlinewidth": 0,
              "ticks": ""
             }
            },
            "type": "scatter3d"
           }
          ],
          "scattercarpet": [
           {
            "marker": {
             "colorbar": {
              "outlinewidth": 0,
              "ticks": ""
             }
            },
            "type": "scattercarpet"
           }
          ],
          "scattergeo": [
           {
            "marker": {
             "colorbar": {
              "outlinewidth": 0,
              "ticks": ""
             }
            },
            "type": "scattergeo"
           }
          ],
          "scattergl": [
           {
            "marker": {
             "colorbar": {
              "outlinewidth": 0,
              "ticks": ""
             }
            },
            "type": "scattergl"
           }
          ],
          "scattermapbox": [
           {
            "marker": {
             "colorbar": {
              "outlinewidth": 0,
              "ticks": ""
             }
            },
            "type": "scattermapbox"
           }
          ],
          "scatterpolar": [
           {
            "marker": {
             "colorbar": {
              "outlinewidth": 0,
              "ticks": ""
             }
            },
            "type": "scatterpolar"
           }
          ],
          "scatterpolargl": [
           {
            "marker": {
             "colorbar": {
              "outlinewidth": 0,
              "ticks": ""
             }
            },
            "type": "scatterpolargl"
           }
          ],
          "scatterternary": [
           {
            "marker": {
             "colorbar": {
              "outlinewidth": 0,
              "ticks": ""
             }
            },
            "type": "scatterternary"
           }
          ],
          "surface": [
           {
            "colorbar": {
             "outlinewidth": 0,
             "ticks": ""
            },
            "colorscale": [
             [
              0,
              "#0d0887"
             ],
             [
              0.1111111111111111,
              "#46039f"
             ],
             [
              0.2222222222222222,
              "#7201a8"
             ],
             [
              0.3333333333333333,
              "#9c179e"
             ],
             [
              0.4444444444444444,
              "#bd3786"
             ],
             [
              0.5555555555555556,
              "#d8576b"
             ],
             [
              0.6666666666666666,
              "#ed7953"
             ],
             [
              0.7777777777777778,
              "#fb9f3a"
             ],
             [
              0.8888888888888888,
              "#fdca26"
             ],
             [
              1,
              "#f0f921"
             ]
            ],
            "type": "surface"
           }
          ],
          "table": [
           {
            "cells": {
             "fill": {
              "color": "#EBF0F8"
             },
             "line": {
              "color": "white"
             }
            },
            "header": {
             "fill": {
              "color": "#C8D4E3"
             },
             "line": {
              "color": "white"
             }
            },
            "type": "table"
           }
          ]
         },
         "layout": {
          "annotationdefaults": {
           "arrowcolor": "#2a3f5f",
           "arrowhead": 0,
           "arrowwidth": 1
          },
          "autotypenumbers": "strict",
          "coloraxis": {
           "colorbar": {
            "outlinewidth": 0,
            "ticks": ""
           }
          },
          "colorscale": {
           "diverging": [
            [
             0,
             "#8e0152"
            ],
            [
             0.1,
             "#c51b7d"
            ],
            [
             0.2,
             "#de77ae"
            ],
            [
             0.3,
             "#f1b6da"
            ],
            [
             0.4,
             "#fde0ef"
            ],
            [
             0.5,
             "#f7f7f7"
            ],
            [
             0.6,
             "#e6f5d0"
            ],
            [
             0.7,
             "#b8e186"
            ],
            [
             0.8,
             "#7fbc41"
            ],
            [
             0.9,
             "#4d9221"
            ],
            [
             1,
             "#276419"
            ]
           ],
           "sequential": [
            [
             0,
             "#0d0887"
            ],
            [
             0.1111111111111111,
             "#46039f"
            ],
            [
             0.2222222222222222,
             "#7201a8"
            ],
            [
             0.3333333333333333,
             "#9c179e"
            ],
            [
             0.4444444444444444,
             "#bd3786"
            ],
            [
             0.5555555555555556,
             "#d8576b"
            ],
            [
             0.6666666666666666,
             "#ed7953"
            ],
            [
             0.7777777777777778,
             "#fb9f3a"
            ],
            [
             0.8888888888888888,
             "#fdca26"
            ],
            [
             1,
             "#f0f921"
            ]
           ],
           "sequentialminus": [
            [
             0,
             "#0d0887"
            ],
            [
             0.1111111111111111,
             "#46039f"
            ],
            [
             0.2222222222222222,
             "#7201a8"
            ],
            [
             0.3333333333333333,
             "#9c179e"
            ],
            [
             0.4444444444444444,
             "#bd3786"
            ],
            [
             0.5555555555555556,
             "#d8576b"
            ],
            [
             0.6666666666666666,
             "#ed7953"
            ],
            [
             0.7777777777777778,
             "#fb9f3a"
            ],
            [
             0.8888888888888888,
             "#fdca26"
            ],
            [
             1,
             "#f0f921"
            ]
           ]
          },
          "colorway": [
           "#636efa",
           "#EF553B",
           "#00cc96",
           "#ab63fa",
           "#FFA15A",
           "#19d3f3",
           "#FF6692",
           "#B6E880",
           "#FF97FF",
           "#FECB52"
          ],
          "font": {
           "color": "#2a3f5f"
          },
          "geo": {
           "bgcolor": "white",
           "lakecolor": "white",
           "landcolor": "white",
           "showlakes": true,
           "showland": true,
           "subunitcolor": "#C8D4E3"
          },
          "hoverlabel": {
           "align": "left"
          },
          "hovermode": "closest",
          "mapbox": {
           "style": "light"
          },
          "paper_bgcolor": "white",
          "plot_bgcolor": "white",
          "polar": {
           "angularaxis": {
            "gridcolor": "#EBF0F8",
            "linecolor": "#EBF0F8",
            "ticks": ""
           },
           "bgcolor": "white",
           "radialaxis": {
            "gridcolor": "#EBF0F8",
            "linecolor": "#EBF0F8",
            "ticks": ""
           }
          },
          "scene": {
           "xaxis": {
            "backgroundcolor": "white",
            "gridcolor": "#DFE8F3",
            "gridwidth": 2,
            "linecolor": "#EBF0F8",
            "showbackground": true,
            "ticks": "",
            "zerolinecolor": "#EBF0F8"
           },
           "yaxis": {
            "backgroundcolor": "white",
            "gridcolor": "#DFE8F3",
            "gridwidth": 2,
            "linecolor": "#EBF0F8",
            "showbackground": true,
            "ticks": "",
            "zerolinecolor": "#EBF0F8"
           },
           "zaxis": {
            "backgroundcolor": "white",
            "gridcolor": "#DFE8F3",
            "gridwidth": 2,
            "linecolor": "#EBF0F8",
            "showbackground": true,
            "ticks": "",
            "zerolinecolor": "#EBF0F8"
           }
          },
          "shapedefaults": {
           "line": {
            "color": "#2a3f5f"
           }
          },
          "ternary": {
           "aaxis": {
            "gridcolor": "#DFE8F3",
            "linecolor": "#A2B1C6",
            "ticks": ""
           },
           "baxis": {
            "gridcolor": "#DFE8F3",
            "linecolor": "#A2B1C6",
            "ticks": ""
           },
           "bgcolor": "white",
           "caxis": {
            "gridcolor": "#DFE8F3",
            "linecolor": "#A2B1C6",
            "ticks": ""
           }
          },
          "title": {
           "x": 0.05
          },
          "xaxis": {
           "automargin": true,
           "gridcolor": "#EBF0F8",
           "linecolor": "#EBF0F8",
           "ticks": "",
           "title": {
            "standoff": 15
           },
           "zerolinecolor": "#EBF0F8",
           "zerolinewidth": 2
          },
          "yaxis": {
           "automargin": true,
           "gridcolor": "#EBF0F8",
           "linecolor": "#EBF0F8",
           "ticks": "",
           "title": {
            "standoff": 15
           },
           "zerolinecolor": "#EBF0F8",
           "zerolinewidth": 2
          }
         }
        },
        "width": 1500,
        "xaxis": {
         "anchor": "y",
         "autorange": true,
         "domain": [
          0,
          1
         ],
         "range": [
          0,
          11
         ],
         "title": {
          "text": "Time"
         },
         "type": "category"
        },
        "yaxis": {
         "anchor": "x",
         "autorange": true,
         "domain": [
          0,
          1
         ],
         "range": [
          0,
          13.68421052631579
         ],
         "title": {
          "text": "AI_1"
         },
         "type": "linear"
        }
       }
      },
      "image/png": "[encoded data removed]",
      "text/html": [
       "<div>                            <div id=\"edf0e45b-0c80-48f2-a798-840976509153\" class=\"plotly-graph-div\" style=\"height:500px; width:1500px;\"></div>            <script type=\"text/javascript\">                require([\"plotly\"], function(Plotly) {                    window.PLOTLYENV=window.PLOTLYENV || {};                                    if (document.getElementById(\"edf0e45b-0c80-48f2-a798-840976509153\")) {                    Plotly.newPlot(                        \"edf0e45b-0c80-48f2-a798-840976509153\",                        [{\"hovertemplate\": \"Time=%{x}<br>AI_1=%{y}<extra></extra>\", \"legendgroup\": \"\", \"line\": {\"color\": \"#636efa\"}, \"mode\": \"lines\", \"name\": \"\", \"orientation\": \"v\", \"showlegend\": false, \"stackgroup\": \"1\", \"type\": \"scatter\", \"x\": [\"1\\u6708\", \"2\\u6708\", \"3\\u6708\", \"4\\u6708\", \"5\\u6708\", \"6\\u6708\", \"7\\u6708\", \"8\\u6708\", \"9\\u6708\", \"10\\u6708\", \"11\\u6708\", \"12\\u6708\"], \"xaxis\": \"x\", \"y\": [13, 10, 8, 6, 1, 1, 4, 6, 2, 0, 2, 5], \"yaxis\": \"y\"}],                        {\"height\": 500, \"legend\": {\"tracegroupgap\": 0}, \"margin\": {\"t\": 60}, \"template\": {\"data\": {\"bar\": [{\"error_x\": {\"color\": \"#2a3f5f\"}, \"error_y\": {\"color\": \"#2a3f5f\"}, \"marker\": {\"line\": {\"color\": \"white\", \"width\": 0.5}}, \"type\": \"bar\"}], \"barpolar\": [{\"marker\": {\"line\": {\"color\": \"white\", \"width\": 0.5}}, \"type\": \"barpolar\"}], \"carpet\": [{\"aaxis\": {\"endlinecolor\": \"#2a3f5f\", \"gridcolor\": \"#C8D4E3\", \"linecolor\": \"#C8D4E3\", \"minorgridcolor\": \"#C8D4E3\", \"startlinecolor\": \"#2a3f5f\"}, \"baxis\": {\"endlinecolor\": \"#2a3f5f\", \"gridcolor\": \"#C8D4E3\", \"linecolor\": \"#C8D4E3\", \"minorgridcolor\": \"#C8D4E3\", \"startlinecolor\": \"#2a3f5f\"}, \"type\": \"carpet\"}], \"choropleth\": [{\"colorbar\": {\"outlinewidth\": 0, \"ticks\": \"\"}, \"type\": \"choropleth\"}], \"contour\": [{\"colorbar\": {\"outlinewidth\": 0, \"ticks\": \"\"}, \"colorscale\": [[0.0, \"#0d0887\"], [0.1111111111111111, \"#46039f\"], [0.2222222222222222, \"#7201a8\"], [0.3333333333333333, \"#9c179e\"], [0.4444444444444444, \"#bd3786\"], [0.5555555555555556, \"#d8576b\"], [0.6666666666666666, \"#ed7953\"], [0.7777777777777778, \"#fb9f3a\"], [0.8888888888888888, \"#fdca26\"], [1.0, \"#f0f921\"]], \"type\": \"contour\"}], \"contourcarpet\": [{\"colorbar\": {\"outlinewidth\": 0, \"ticks\": \"\"}, \"type\": \"contourcarpet\"}], \"heatmap\": [{\"colorbar\": {\"outlinewidth\": 0, \"ticks\": \"\"}, \"colorscale\": [[0.0, \"#0d0887\"], [0.1111111111111111, \"#46039f\"], [0.2222222222222222, \"#7201a8\"], [0.3333333333333333, \"#9c179e\"], [0.4444444444444444, \"#bd3786\"], [0.5555555555555556, \"#d8576b\"], [0.6666666666666666, \"#ed7953\"], [0.7777777777777778, \"#fb9f3a\"], [0.8888888888888888, \"#fdca26\"], [1.0, \"#f0f921\"]], \"type\": \"heatmap\"}], \"heatmapgl\": [{\"colorbar\": {\"outlinewidth\": 0, \"ticks\": \"\"}, \"colorscale\": [[0.0, \"#0d0887\"], [0.1111111111111111, \"#46039f\"], [0.2222222222222222, \"#7201a8\"], [0.3333333333333333, \"#9c179e\"], [0.4444444444444444, \"#bd3786\"], [0.5555555555555556, \"#d8576b\"], [0.6666666666666666, \"#ed7953\"], [0.7777777777777778, \"#fb9f3a\"], [0.8888888888888888, \"#fdca26\"], [1.0, \"#f0f921\"]], \"type\": \"heatmapgl\"}], \"histogram\": [{\"marker\": {\"colorbar\": {\"outlinewidth\": 0, \"ticks\": \"\"}}, \"type\": \"histogram\"}], \"histogram2d\": [{\"colorbar\": {\"outlinewidth\": 0, \"ticks\": \"\"}, \"colorscale\": [[0.0, \"#0d0887\"], [0.1111111111111111, \"#46039f\"], [0.2222222222222222, \"#7201a8\"], [0.3333333333333333, \"#9c179e\"], [0.4444444444444444, \"#bd3786\"], [0.5555555555555556, \"#d8576b\"], [0.6666666666666666, \"#ed7953\"], [0.7777777777777778, \"#fb9f3a\"], [0.8888888888888888, \"#fdca26\"], [1.0, \"#f0f921\"]], \"type\": \"histogram2d\"}], \"histogram2dcontour\": [{\"colorbar\": {\"outlinewidth\": 0, \"ticks\": \"\"}, \"colorscale\": [[0.0, \"#0d0887\"], [0.1111111111111111, \"#46039f\"], [0.2222222222222222, \"#7201a8\"], [0.3333333333333333, \"#9c179e\"], [0.4444444444444444, \"#bd3786\"], [0.5555555555555556, \"#d8576b\"], [0.6666666666666666, \"#ed7953\"], [0.7777777777777778, \"#fb9f3a\"], [0.8888888888888888, \"#fdca26\"], [1.0, \"#f0f921\"]], \"type\": \"histogram2dcontour\"}], \"mesh3d\": [{\"colorbar\": {\"outlinewidth\": 0, \"ticks\": \"\"}, \"type\": \"mesh3d\"}], \"parcoords\": [{\"line\": {\"colorbar\": {\"outlinewidth\": 0, \"ticks\": \"\"}}, \"type\": \"parcoords\"}], \"pie\": [{\"automargin\": true, \"type\": \"pie\"}], \"scatter\": [{\"marker\": {\"colorbar\": {\"outlinewidth\": 0, \"ticks\": \"\"}}, \"type\": \"scatter\"}], \"scatter3d\": [{\"line\": {\"colorbar\": {\"outlinewidth\": 0, \"ticks\": \"\"}}, \"marker\": {\"colorbar\": {\"outlinewidth\": 0, \"ticks\": \"\"}}, \"type\": \"scatter3d\"}], \"scattercarpet\": [{\"marker\": {\"colorbar\": {\"outlinewidth\": 0, \"ticks\": \"\"}}, \"type\": \"scattercarpet\"}], \"scattergeo\": [{\"marker\": {\"colorbar\": {\"outlinewidth\": 0, \"ticks\": \"\"}}, \"type\": \"scattergeo\"}], \"scattergl\": [{\"marker\": {\"colorbar\": {\"outlinewidth\": 0, \"ticks\": \"\"}}, \"type\": \"scattergl\"}], \"scattermapbox\": [{\"marker\": {\"colorbar\": {\"outlinewidth\": 0, \"ticks\": \"\"}}, \"type\": \"scattermapbox\"}], \"scatterpolar\": [{\"marker\": {\"colorbar\": {\"outlinewidth\": 0, \"ticks\": \"\"}}, \"type\": \"scatterpolar\"}], \"scatterpolargl\": [{\"marker\": {\"colorbar\": {\"outlinewidth\": 0, \"ticks\": \"\"}}, \"type\": \"scatterpolargl\"}], \"scatterternary\": [{\"marker\": {\"colorbar\": {\"outlinewidth\": 0, \"ticks\": \"\"}}, \"type\": \"scatterternary\"}], \"surface\": [{\"colorbar\": {\"outlinewidth\": 0, \"ticks\": \"\"}, \"colorscale\": [[0.0, \"#0d0887\"], [0.1111111111111111, \"#46039f\"], [0.2222222222222222, \"#7201a8\"], [0.3333333333333333, \"#9c179e\"], [0.4444444444444444, \"#bd3786\"], [0.5555555555555556, \"#d8576b\"], [0.6666666666666666, \"#ed7953\"], [0.7777777777777778, \"#fb9f3a\"], [0.8888888888888888, \"#fdca26\"], [1.0, \"#f0f921\"]], \"type\": \"surface\"}], \"table\": [{\"cells\": {\"fill\": {\"color\": \"#EBF0F8\"}, \"line\": {\"color\": \"white\"}}, \"header\": {\"fill\": {\"color\": \"#C8D4E3\"}, \"line\": {\"color\": \"white\"}}, \"type\": \"table\"}]}, \"layout\": {\"annotationdefaults\": {\"arrowcolor\": \"#2a3f5f\", \"arrowhead\": 0, \"arrowwidth\": 1}, \"autotypenumbers\": \"strict\", \"coloraxis\": {\"colorbar\": {\"outlinewidth\": 0, \"ticks\": \"\"}}, \"colorscale\": {\"diverging\": [[0, \"#8e0152\"], [0.1, \"#c51b7d\"], [0.2, \"#de77ae\"], [0.3, \"#f1b6da\"], [0.4, \"#fde0ef\"], [0.5, \"#f7f7f7\"], [0.6, \"#e6f5d0\"], [0.7, \"#b8e186\"], [0.8, \"#7fbc41\"], [0.9, \"#4d9221\"], [1, \"#276419\"]], \"sequential\": [[0.0, \"#0d0887\"], [0.1111111111111111, \"#46039f\"], [0.2222222222222222, \"#7201a8\"], [0.3333333333333333, \"#9c179e\"], [0.4444444444444444, \"#bd3786\"], [0.5555555555555556, \"#d8576b\"], [0.6666666666666666, \"#ed7953\"], [0.7777777777777778, \"#fb9f3a\"], [0.8888888888888888, \"#fdca26\"], [1.0, \"#f0f921\"]], \"sequentialminus\": [[0.0, \"#0d0887\"], [0.1111111111111111, \"#46039f\"], [0.2222222222222222, \"#7201a8\"], [0.3333333333333333, \"#9c179e\"], [0.4444444444444444, \"#bd3786\"], [0.5555555555555556, \"#d8576b\"], [0.6666666666666666, \"#ed7953\"], [0.7777777777777778, \"#fb9f3a\"], [0.8888888888888888, \"#fdca26\"], [1.0, \"#f0f921\"]]}, \"colorway\": [\"#636efa\", \"#EF553B\", \"#00cc96\", \"#ab63fa\", \"#FFA15A\", \"#19d3f3\", \"#FF6692\", \"#B6E880\", \"#FF97FF\", \"#FECB52\"], \"font\": {\"color\": \"#2a3f5f\"}, \"geo\": {\"bgcolor\": \"white\", \"lakecolor\": \"white\", \"landcolor\": \"white\", \"showlakes\": true, \"showland\": true, \"subunitcolor\": \"#C8D4E3\"}, \"hoverlabel\": {\"align\": \"left\"}, \"hovermode\": \"closest\", \"mapbox\": {\"style\": \"light\"}, \"paper_bgcolor\": \"white\", \"plot_bgcolor\": \"white\", \"polar\": {\"angularaxis\": {\"gridcolor\": \"#EBF0F8\", \"linecolor\": \"#EBF0F8\", \"ticks\": \"\"}, \"bgcolor\": \"white\", \"radialaxis\": {\"gridcolor\": \"#EBF0F8\", \"linecolor\": \"#EBF0F8\", \"ticks\": \"\"}}, \"scene\": {\"xaxis\": {\"backgroundcolor\": \"white\", \"gridcolor\": \"#DFE8F3\", \"gridwidth\": 2, \"linecolor\": \"#EBF0F8\", \"showbackground\": true, \"ticks\": \"\", \"zerolinecolor\": \"#EBF0F8\"}, \"yaxis\": {\"backgroundcolor\": \"white\", \"gridcolor\": \"#DFE8F3\", \"gridwidth\": 2, \"linecolor\": \"#EBF0F8\", \"showbackground\": true, \"ticks\": \"\", \"zerolinecolor\": \"#EBF0F8\"}, \"zaxis\": {\"backgroundcolor\": \"white\", \"gridcolor\": \"#DFE8F3\", \"gridwidth\": 2, \"linecolor\": \"#EBF0F8\", \"showbackground\": true, \"ticks\": \"\", \"zerolinecolor\": \"#EBF0F8\"}}, \"shapedefaults\": {\"line\": {\"color\": \"#2a3f5f\"}}, \"ternary\": {\"aaxis\": {\"gridcolor\": \"#DFE8F3\", \"linecolor\": \"#A2B1C6\", \"ticks\": \"\"}, \"baxis\": {\"gridcolor\": \"#DFE8F3\", \"linecolor\": \"#A2B1C6\", \"ticks\": \"\"}, \"bgcolor\": \"white\", \"caxis\": {\"gridcolor\": \"#DFE8F3\", \"linecolor\": \"#A2B1C6\", \"ticks\": \"\"}}, \"title\": {\"x\": 0.05}, \"xaxis\": {\"automargin\": true, \"gridcolor\": \"#EBF0F8\", \"linecolor\": \"#EBF0F8\", \"ticks\": \"\", \"title\": {\"standoff\": 15}, \"zerolinecolor\": \"#EBF0F8\", \"zerolinewidth\": 2}, \"yaxis\": {\"automargin\": true, \"gridcolor\": \"#EBF0F8\", \"linecolor\": \"#EBF0F8\", \"ticks\": \"\", \"title\": {\"standoff\": 15}, \"zerolinecolor\": \"#EBF0F8\", \"zerolinewidth\": 2}}}, \"width\": 1500, \"xaxis\": {\"anchor\": \"y\", \"domain\": [0.0, 1.0], \"title\": {\"text\": \"Time\"}}, \"yaxis\": {\"anchor\": \"x\", \"domain\": [0.0, 1.0], \"title\": {\"text\": \"AI_1\"}}},                        {\"responsive\": true}                    ).then(function(){\n",
       "                            \n",
       "var gd = document.getElementById('edf0e45b-0c80-48f2-a798-840976509153');\n",
       "var x = new MutationObserver(function (mutations, observer) {{\n",
       "        var display = window.getComputedStyle(gd).display;\n",
       "        if (!display || display === 'none') {{\n",
       "            console.log([gd, 'removed!']);\n",
       "            Plotly.purge(gd);\n",
       "            observer.disconnect();\n",
       "        }}\n",
       "}});\n",
       "\n",
       "// Listen for the removal of the full notebook cells\n",
       "var notebookContainer = gd.closest('#notebook-container');\n",
       "if (notebookContainer) {{\n",
       "    x.observe(notebookContainer, {childList: true});\n",
       "}}\n",
       "\n",
       "// Listen for the clearing of the current output cell\n",
       "var outputEl = gd.closest('.output');\n",
       "if (outputEl) {{\n",
       "    x.observe(outputEl, {childList: true});\n",
       "}}\n",
       "\n",
       "                        })                };                });            </script>        </div>"
      ]
     },
     "metadata": {},
     "output_type": "display_data"
    }
   ],
   "source": [
    "fig = px.area(trand_df[trand_df[\"sample_date_year\"].isin([2020])], x=\"Time\", y='AI_1', template=\"plotly_white\",width=1500, height=500)\n",
    "fig.show()\n",
    "# fig.show(renderer=\"svg\")\n",
    "fig.write_image(\"trand_2020.svg\")"
   ]
  },
  {
   "cell_type": "code",
   "execution_count": 147,
   "id": "694fc4ea",
   "metadata": {},
   "outputs": [
    {
     "data": {
      "application/vnd.plotly.v1+json": {
       "config": {
        "plotlyServerURL": "https://plot.ly"
       },
       "data": [
        {
         "hovertemplate": "Time=%{x}<br>AI_1=%{y}<extra></extra>",
         "legendgroup": "",
         "line": {
          "color": "#636efa"
         },
         "mode": "lines",
         "name": "",
         "orientation": "v",
         "showlegend": false,
         "stackgroup": "1",
         "type": "scatter",
         "x": [
          "1月",
          "2月",
          "3月",
          "4月",
          "5月",
          "6月",
          "7月",
          "8月"
         ],
         "xaxis": "x",
         "y": [
          2,
          2,
          3,
          1,
          2,
          1,
          1,
          0
         ],
         "yaxis": "y"
        }
       ],
       "layout": {
        "height": 500,
        "legend": {
         "tracegroupgap": 0
        },
        "margin": {
         "t": 60
        },
        "template": {
         "data": {
          "bar": [
           {
            "error_x": {
             "color": "#2a3f5f"
            },
            "error_y": {
             "color": "#2a3f5f"
            },
            "marker": {
             "line": {
              "color": "white",
              "width": 0.5
             }
            },
            "type": "bar"
           }
          ],
          "barpolar": [
           {
            "marker": {
             "line": {
              "color": "white",
              "width": 0.5
             }
            },
            "type": "barpolar"
           }
          ],
          "carpet": [
           {
            "aaxis": {
             "endlinecolor": "#2a3f5f",
             "gridcolor": "#C8D4E3",
             "linecolor": "#C8D4E3",
             "minorgridcolor": "#C8D4E3",
             "startlinecolor": "#2a3f5f"
            },
            "baxis": {
             "endlinecolor": "#2a3f5f",
             "gridcolor": "#C8D4E3",
             "linecolor": "#C8D4E3",
             "minorgridcolor": "#C8D4E3",
             "startlinecolor": "#2a3f5f"
            },
            "type": "carpet"
           }
          ],
          "choropleth": [
           {
            "colorbar": {
             "outlinewidth": 0,
             "ticks": ""
            },
            "type": "choropleth"
           }
          ],
          "contour": [
           {
            "colorbar": {
             "outlinewidth": 0,
             "ticks": ""
            },
            "colorscale": [
             [
              0,
              "#0d0887"
             ],
             [
              0.1111111111111111,
              "#46039f"
             ],
             [
              0.2222222222222222,
              "#7201a8"
             ],
             [
              0.3333333333333333,
              "#9c179e"
             ],
             [
              0.4444444444444444,
              "#bd3786"
             ],
             [
              0.5555555555555556,
              "#d8576b"
             ],
             [
              0.6666666666666666,
              "#ed7953"
             ],
             [
              0.7777777777777778,
              "#fb9f3a"
             ],
             [
              0.8888888888888888,
              "#fdca26"
             ],
             [
              1,
              "#f0f921"
             ]
            ],
            "type": "contour"
           }
          ],
          "contourcarpet": [
           {
            "colorbar": {
             "outlinewidth": 0,
             "ticks": ""
            },
            "type": "contourcarpet"
           }
          ],
          "heatmap": [
           {
            "colorbar": {
             "outlinewidth": 0,
             "ticks": ""
            },
            "colorscale": [
             [
              0,
              "#0d0887"
             ],
             [
              0.1111111111111111,
              "#46039f"
             ],
             [
              0.2222222222222222,
              "#7201a8"
             ],
             [
              0.3333333333333333,
              "#9c179e"
             ],
             [
              0.4444444444444444,
              "#bd3786"
             ],
             [
              0.5555555555555556,
              "#d8576b"
             ],
             [
              0.6666666666666666,
              "#ed7953"
             ],
             [
              0.7777777777777778,
              "#fb9f3a"
             ],
             [
              0.8888888888888888,
              "#fdca26"
             ],
             [
              1,
              "#f0f921"
             ]
            ],
            "type": "heatmap"
           }
          ],
          "heatmapgl": [
           {
            "colorbar": {
             "outlinewidth": 0,
             "ticks": ""
            },
            "colorscale": [
             [
              0,
              "#0d0887"
             ],
             [
              0.1111111111111111,
              "#46039f"
             ],
             [
              0.2222222222222222,
              "#7201a8"
             ],
             [
              0.3333333333333333,
              "#9c179e"
             ],
             [
              0.4444444444444444,
              "#bd3786"
             ],
             [
              0.5555555555555556,
              "#d8576b"
             ],
             [
              0.6666666666666666,
              "#ed7953"
             ],
             [
              0.7777777777777778,
              "#fb9f3a"
             ],
             [
              0.8888888888888888,
              "#fdca26"
             ],
             [
              1,
              "#f0f921"
             ]
            ],
            "type": "heatmapgl"
           }
          ],
          "histogram": [
           {
            "marker": {
             "colorbar": {
              "outlinewidth": 0,
              "ticks": ""
             }
            },
            "type": "histogram"
           }
          ],
          "histogram2d": [
           {
            "colorbar": {
             "outlinewidth": 0,
             "ticks": ""
            },
            "colorscale": [
             [
              0,
              "#0d0887"
             ],
             [
              0.1111111111111111,
              "#46039f"
             ],
             [
              0.2222222222222222,
              "#7201a8"
             ],
             [
              0.3333333333333333,
              "#9c179e"
             ],
             [
              0.4444444444444444,
              "#bd3786"
             ],
             [
              0.5555555555555556,
              "#d8576b"
             ],
             [
              0.6666666666666666,
              "#ed7953"
             ],
             [
              0.7777777777777778,
              "#fb9f3a"
             ],
             [
              0.8888888888888888,
              "#fdca26"
             ],
             [
              1,
              "#f0f921"
             ]
            ],
            "type": "histogram2d"
           }
          ],
          "histogram2dcontour": [
           {
            "colorbar": {
             "outlinewidth": 0,
             "ticks": ""
            },
            "colorscale": [
             [
              0,
              "#0d0887"
             ],
             [
              0.1111111111111111,
              "#46039f"
             ],
             [
              0.2222222222222222,
              "#7201a8"
             ],
             [
              0.3333333333333333,
              "#9c179e"
             ],
             [
              0.4444444444444444,
              "#bd3786"
             ],
             [
              0.5555555555555556,
              "#d8576b"
             ],
             [
              0.6666666666666666,
              "#ed7953"
             ],
             [
              0.7777777777777778,
              "#fb9f3a"
             ],
             [
              0.8888888888888888,
              "#fdca26"
             ],
             [
              1,
              "#f0f921"
             ]
            ],
            "type": "histogram2dcontour"
           }
          ],
          "mesh3d": [
           {
            "colorbar": {
             "outlinewidth": 0,
             "ticks": ""
            },
            "type": "mesh3d"
           }
          ],
          "parcoords": [
           {
            "line": {
             "colorbar": {
              "outlinewidth": 0,
              "ticks": ""
             }
            },
            "type": "parcoords"
           }
          ],
          "pie": [
           {
            "automargin": true,
            "type": "pie"
           }
          ],
          "scatter": [
           {
            "marker": {
             "colorbar": {
              "outlinewidth": 0,
              "ticks": ""
             }
            },
            "type": "scatter"
           }
          ],
          "scatter3d": [
           {
            "line": {
             "colorbar": {
              "outlinewidth": 0,
              "ticks": ""
             }
            },
            "marker": {
             "colorbar": {
              "outlinewidth": 0,
              "ticks": ""
             }
            },
            "type": "scatter3d"
           }
          ],
          "scattercarpet": [
           {
            "marker": {
             "colorbar": {
              "outlinewidth": 0,
              "ticks": ""
             }
            },
            "type": "scattercarpet"
           }
          ],
          "scattergeo": [
           {
            "marker": {
             "colorbar": {
              "outlinewidth": 0,
              "ticks": ""
             }
            },
            "type": "scattergeo"
           }
          ],
          "scattergl": [
           {
            "marker": {
             "colorbar": {
              "outlinewidth": 0,
              "ticks": ""
             }
            },
            "type": "scattergl"
           }
          ],
          "scattermapbox": [
           {
            "marker": {
             "colorbar": {
              "outlinewidth": 0,
              "ticks": ""
             }
            },
            "type": "scattermapbox"
           }
          ],
          "scatterpolar": [
           {
            "marker": {
             "colorbar": {
              "outlinewidth": 0,
              "ticks": ""
             }
            },
            "type": "scatterpolar"
           }
          ],
          "scatterpolargl": [
           {
            "marker": {
             "colorbar": {
              "outlinewidth": 0,
              "ticks": ""
             }
            },
            "type": "scatterpolargl"
           }
          ],
          "scatterternary": [
           {
            "marker": {
             "colorbar": {
              "outlinewidth": 0,
              "ticks": ""
             }
            },
            "type": "scatterternary"
           }
          ],
          "surface": [
           {
            "colorbar": {
             "outlinewidth": 0,
             "ticks": ""
            },
            "colorscale": [
             [
              0,
              "#0d0887"
             ],
             [
              0.1111111111111111,
              "#46039f"
             ],
             [
              0.2222222222222222,
              "#7201a8"
             ],
             [
              0.3333333333333333,
              "#9c179e"
             ],
             [
              0.4444444444444444,
              "#bd3786"
             ],
             [
              0.5555555555555556,
              "#d8576b"
             ],
             [
              0.6666666666666666,
              "#ed7953"
             ],
             [
              0.7777777777777778,
              "#fb9f3a"
             ],
             [
              0.8888888888888888,
              "#fdca26"
             ],
             [
              1,
              "#f0f921"
             ]
            ],
            "type": "surface"
           }
          ],
          "table": [
           {
            "cells": {
             "fill": {
              "color": "#EBF0F8"
             },
             "line": {
              "color": "white"
             }
            },
            "header": {
             "fill": {
              "color": "#C8D4E3"
             },
             "line": {
              "color": "white"
             }
            },
            "type": "table"
           }
          ]
         },
         "layout": {
          "annotationdefaults": {
           "arrowcolor": "#2a3f5f",
           "arrowhead": 0,
           "arrowwidth": 1
          },
          "autotypenumbers": "strict",
          "coloraxis": {
           "colorbar": {
            "outlinewidth": 0,
            "ticks": ""
           }
          },
          "colorscale": {
           "diverging": [
            [
             0,
             "#8e0152"
            ],
            [
             0.1,
             "#c51b7d"
            ],
            [
             0.2,
             "#de77ae"
            ],
            [
             0.3,
             "#f1b6da"
            ],
            [
             0.4,
             "#fde0ef"
            ],
            [
             0.5,
             "#f7f7f7"
            ],
            [
             0.6,
             "#e6f5d0"
            ],
            [
             0.7,
             "#b8e186"
            ],
            [
             0.8,
             "#7fbc41"
            ],
            [
             0.9,
             "#4d9221"
            ],
            [
             1,
             "#276419"
            ]
           ],
           "sequential": [
            [
             0,
             "#0d0887"
            ],
            [
             0.1111111111111111,
             "#46039f"
            ],
            [
             0.2222222222222222,
             "#7201a8"
            ],
            [
             0.3333333333333333,
             "#9c179e"
            ],
            [
             0.4444444444444444,
             "#bd3786"
            ],
            [
             0.5555555555555556,
             "#d8576b"
            ],
            [
             0.6666666666666666,
             "#ed7953"
            ],
            [
             0.7777777777777778,
             "#fb9f3a"
            ],
            [
             0.8888888888888888,
             "#fdca26"
            ],
            [
             1,
             "#f0f921"
            ]
           ],
           "sequentialminus": [
            [
             0,
             "#0d0887"
            ],
            [
             0.1111111111111111,
             "#46039f"
            ],
            [
             0.2222222222222222,
             "#7201a8"
            ],
            [
             0.3333333333333333,
             "#9c179e"
            ],
            [
             0.4444444444444444,
             "#bd3786"
            ],
            [
             0.5555555555555556,
             "#d8576b"
            ],
            [
             0.6666666666666666,
             "#ed7953"
            ],
            [
             0.7777777777777778,
             "#fb9f3a"
            ],
            [
             0.8888888888888888,
             "#fdca26"
            ],
            [
             1,
             "#f0f921"
            ]
           ]
          },
          "colorway": [
           "#636efa",
           "#EF553B",
           "#00cc96",
           "#ab63fa",
           "#FFA15A",
           "#19d3f3",
           "#FF6692",
           "#B6E880",
           "#FF97FF",
           "#FECB52"
          ],
          "font": {
           "color": "#2a3f5f"
          },
          "geo": {
           "bgcolor": "white",
           "lakecolor": "white",
           "landcolor": "white",
           "showlakes": true,
           "showland": true,
           "subunitcolor": "#C8D4E3"
          },
          "hoverlabel": {
           "align": "left"
          },
          "hovermode": "closest",
          "mapbox": {
           "style": "light"
          },
          "paper_bgcolor": "white",
          "plot_bgcolor": "white",
          "polar": {
           "angularaxis": {
            "gridcolor": "#EBF0F8",
            "linecolor": "#EBF0F8",
            "ticks": ""
           },
           "bgcolor": "white",
           "radialaxis": {
            "gridcolor": "#EBF0F8",
            "linecolor": "#EBF0F8",
            "ticks": ""
           }
          },
          "scene": {
           "xaxis": {
            "backgroundcolor": "white",
            "gridcolor": "#DFE8F3",
            "gridwidth": 2,
            "linecolor": "#EBF0F8",
            "showbackground": true,
            "ticks": "",
            "zerolinecolor": "#EBF0F8"
           },
           "yaxis": {
            "backgroundcolor": "white",
            "gridcolor": "#DFE8F3",
            "gridwidth": 2,
            "linecolor": "#EBF0F8",
            "showbackground": true,
            "ticks": "",
            "zerolinecolor": "#EBF0F8"
           },
           "zaxis": {
            "backgroundcolor": "white",
            "gridcolor": "#DFE8F3",
            "gridwidth": 2,
            "linecolor": "#EBF0F8",
            "showbackground": true,
            "ticks": "",
            "zerolinecolor": "#EBF0F8"
           }
          },
          "shapedefaults": {
           "line": {
            "color": "#2a3f5f"
           }
          },
          "ternary": {
           "aaxis": {
            "gridcolor": "#DFE8F3",
            "linecolor": "#A2B1C6",
            "ticks": ""
           },
           "baxis": {
            "gridcolor": "#DFE8F3",
            "linecolor": "#A2B1C6",
            "ticks": ""
           },
           "bgcolor": "white",
           "caxis": {
            "gridcolor": "#DFE8F3",
            "linecolor": "#A2B1C6",
            "ticks": ""
           }
          },
          "title": {
           "x": 0.05
          },
          "xaxis": {
           "automargin": true,
           "gridcolor": "#EBF0F8",
           "linecolor": "#EBF0F8",
           "ticks": "",
           "title": {
            "standoff": 15
           },
           "zerolinecolor": "#EBF0F8",
           "zerolinewidth": 2
          },
          "yaxis": {
           "automargin": true,
           "gridcolor": "#EBF0F8",
           "linecolor": "#EBF0F8",
           "ticks": "",
           "title": {
            "standoff": 15
           },
           "zerolinecolor": "#EBF0F8",
           "zerolinewidth": 2
          }
         }
        },
        "width": 1500,
        "xaxis": {
         "anchor": "y",
         "autorange": true,
         "domain": [
          0,
          1
         ],
         "range": [
          0,
          7
         ],
         "title": {
          "text": "Time"
         },
         "type": "category"
        },
        "yaxis": {
         "anchor": "x",
         "autorange": true,
         "domain": [
          0,
          1
         ],
         "range": [
          0,
          3.1578947368421053
         ],
         "title": {
          "text": "AI_1"
         },
         "type": "linear"
        }
       }
      },
      "image/png": "[encoded data removed]",
      "text/html": [
       "<div>                            <div id=\"1cd08223-bfea-44ff-9823-1e8bc3b0ed44\" class=\"plotly-graph-div\" style=\"height:500px; width:1500px;\"></div>            <script type=\"text/javascript\">                require([\"plotly\"], function(Plotly) {                    window.PLOTLYENV=window.PLOTLYENV || {};                                    if (document.getElementById(\"1cd08223-bfea-44ff-9823-1e8bc3b0ed44\")) {                    Plotly.newPlot(                        \"1cd08223-bfea-44ff-9823-1e8bc3b0ed44\",                        [{\"hovertemplate\": \"Time=%{x}<br>AI_1=%{y}<extra></extra>\", \"legendgroup\": \"\", \"line\": {\"color\": \"#636efa\"}, \"mode\": \"lines\", \"name\": \"\", \"orientation\": \"v\", \"showlegend\": false, \"stackgroup\": \"1\", \"type\": \"scatter\", \"x\": [\"1\\u6708\", \"2\\u6708\", \"3\\u6708\", \"4\\u6708\", \"5\\u6708\", \"6\\u6708\", \"7\\u6708\", \"8\\u6708\"], \"xaxis\": \"x\", \"y\": [2, 2, 3, 1, 2, 1, 1, 0], \"yaxis\": \"y\"}],                        {\"height\": 500, \"legend\": {\"tracegroupgap\": 0}, \"margin\": {\"t\": 60}, \"template\": {\"data\": {\"bar\": [{\"error_x\": {\"color\": \"#2a3f5f\"}, \"error_y\": {\"color\": \"#2a3f5f\"}, \"marker\": {\"line\": {\"color\": \"white\", \"width\": 0.5}}, \"type\": \"bar\"}], \"barpolar\": [{\"marker\": {\"line\": {\"color\": \"white\", \"width\": 0.5}}, \"type\": \"barpolar\"}], \"carpet\": [{\"aaxis\": {\"endlinecolor\": \"#2a3f5f\", \"gridcolor\": \"#C8D4E3\", \"linecolor\": \"#C8D4E3\", \"minorgridcolor\": \"#C8D4E3\", \"startlinecolor\": \"#2a3f5f\"}, \"baxis\": {\"endlinecolor\": \"#2a3f5f\", \"gridcolor\": \"#C8D4E3\", \"linecolor\": \"#C8D4E3\", \"minorgridcolor\": \"#C8D4E3\", \"startlinecolor\": \"#2a3f5f\"}, \"type\": \"carpet\"}], \"choropleth\": [{\"colorbar\": {\"outlinewidth\": 0, \"ticks\": \"\"}, \"type\": \"choropleth\"}], \"contour\": [{\"colorbar\": {\"outlinewidth\": 0, \"ticks\": \"\"}, \"colorscale\": [[0.0, \"#0d0887\"], [0.1111111111111111, \"#46039f\"], [0.2222222222222222, \"#7201a8\"], [0.3333333333333333, \"#9c179e\"], [0.4444444444444444, \"#bd3786\"], [0.5555555555555556, \"#d8576b\"], [0.6666666666666666, \"#ed7953\"], [0.7777777777777778, \"#fb9f3a\"], [0.8888888888888888, \"#fdca26\"], [1.0, \"#f0f921\"]], \"type\": \"contour\"}], \"contourcarpet\": [{\"colorbar\": {\"outlinewidth\": 0, \"ticks\": \"\"}, \"type\": \"contourcarpet\"}], \"heatmap\": [{\"colorbar\": {\"outlinewidth\": 0, \"ticks\": \"\"}, \"colorscale\": [[0.0, \"#0d0887\"], [0.1111111111111111, \"#46039f\"], [0.2222222222222222, \"#7201a8\"], [0.3333333333333333, \"#9c179e\"], [0.4444444444444444, \"#bd3786\"], [0.5555555555555556, \"#d8576b\"], [0.6666666666666666, \"#ed7953\"], [0.7777777777777778, \"#fb9f3a\"], [0.8888888888888888, \"#fdca26\"], [1.0, \"#f0f921\"]], \"type\": \"heatmap\"}], \"heatmapgl\": [{\"colorbar\": {\"outlinewidth\": 0, \"ticks\": \"\"}, \"colorscale\": [[0.0, \"#0d0887\"], [0.1111111111111111, \"#46039f\"], [0.2222222222222222, \"#7201a8\"], [0.3333333333333333, \"#9c179e\"], [0.4444444444444444, \"#bd3786\"], [0.5555555555555556, \"#d8576b\"], [0.6666666666666666, \"#ed7953\"], [0.7777777777777778, \"#fb9f3a\"], [0.8888888888888888, \"#fdca26\"], [1.0, \"#f0f921\"]], \"type\": \"heatmapgl\"}], \"histogram\": [{\"marker\": {\"colorbar\": {\"outlinewidth\": 0, \"ticks\": \"\"}}, \"type\": \"histogram\"}], \"histogram2d\": [{\"colorbar\": {\"outlinewidth\": 0, \"ticks\": \"\"}, \"colorscale\": [[0.0, \"#0d0887\"], [0.1111111111111111, \"#46039f\"], [0.2222222222222222, \"#7201a8\"], [0.3333333333333333, \"#9c179e\"], [0.4444444444444444, \"#bd3786\"], [0.5555555555555556, \"#d8576b\"], [0.6666666666666666, \"#ed7953\"], [0.7777777777777778, \"#fb9f3a\"], [0.8888888888888888, \"#fdca26\"], [1.0, \"#f0f921\"]], \"type\": \"histogram2d\"}], \"histogram2dcontour\": [{\"colorbar\": {\"outlinewidth\": 0, \"ticks\": \"\"}, \"colorscale\": [[0.0, \"#0d0887\"], [0.1111111111111111, \"#46039f\"], [0.2222222222222222, \"#7201a8\"], [0.3333333333333333, \"#9c179e\"], [0.4444444444444444, \"#bd3786\"], [0.5555555555555556, \"#d8576b\"], [0.6666666666666666, \"#ed7953\"], [0.7777777777777778, \"#fb9f3a\"], [0.8888888888888888, \"#fdca26\"], [1.0, \"#f0f921\"]], \"type\": \"histogram2dcontour\"}], \"mesh3d\": [{\"colorbar\": {\"outlinewidth\": 0, \"ticks\": \"\"}, \"type\": \"mesh3d\"}], \"parcoords\": [{\"line\": {\"colorbar\": {\"outlinewidth\": 0, \"ticks\": \"\"}}, \"type\": \"parcoords\"}], \"pie\": [{\"automargin\": true, \"type\": \"pie\"}], \"scatter\": [{\"marker\": {\"colorbar\": {\"outlinewidth\": 0, \"ticks\": \"\"}}, \"type\": \"scatter\"}], \"scatter3d\": [{\"line\": {\"colorbar\": {\"outlinewidth\": 0, \"ticks\": \"\"}}, \"marker\": {\"colorbar\": {\"outlinewidth\": 0, \"ticks\": \"\"}}, \"type\": \"scatter3d\"}], \"scattercarpet\": [{\"marker\": {\"colorbar\": {\"outlinewidth\": 0, \"ticks\": \"\"}}, \"type\": \"scattercarpet\"}], \"scattergeo\": [{\"marker\": {\"colorbar\": {\"outlinewidth\": 0, \"ticks\": \"\"}}, \"type\": \"scattergeo\"}], \"scattergl\": [{\"marker\": {\"colorbar\": {\"outlinewidth\": 0, \"ticks\": \"\"}}, \"type\": \"scattergl\"}], \"scattermapbox\": [{\"marker\": {\"colorbar\": {\"outlinewidth\": 0, \"ticks\": \"\"}}, \"type\": \"scattermapbox\"}], \"scatterpolar\": [{\"marker\": {\"colorbar\": {\"outlinewidth\": 0, \"ticks\": \"\"}}, \"type\": \"scatterpolar\"}], \"scatterpolargl\": [{\"marker\": {\"colorbar\": {\"outlinewidth\": 0, \"ticks\": \"\"}}, \"type\": \"scatterpolargl\"}], \"scatterternary\": [{\"marker\": {\"colorbar\": {\"outlinewidth\": 0, \"ticks\": \"\"}}, \"type\": \"scatterternary\"}], \"surface\": [{\"colorbar\": {\"outlinewidth\": 0, \"ticks\": \"\"}, \"colorscale\": [[0.0, \"#0d0887\"], [0.1111111111111111, \"#46039f\"], [0.2222222222222222, \"#7201a8\"], [0.3333333333333333, \"#9c179e\"], [0.4444444444444444, \"#bd3786\"], [0.5555555555555556, \"#d8576b\"], [0.6666666666666666, \"#ed7953\"], [0.7777777777777778, \"#fb9f3a\"], [0.8888888888888888, \"#fdca26\"], [1.0, \"#f0f921\"]], \"type\": \"surface\"}], \"table\": [{\"cells\": {\"fill\": {\"color\": \"#EBF0F8\"}, \"line\": {\"color\": \"white\"}}, \"header\": {\"fill\": {\"color\": \"#C8D4E3\"}, \"line\": {\"color\": \"white\"}}, \"type\": \"table\"}]}, \"layout\": {\"annotationdefaults\": {\"arrowcolor\": \"#2a3f5f\", \"arrowhead\": 0, \"arrowwidth\": 1}, \"autotypenumbers\": \"strict\", \"coloraxis\": {\"colorbar\": {\"outlinewidth\": 0, \"ticks\": \"\"}}, \"colorscale\": {\"diverging\": [[0, \"#8e0152\"], [0.1, \"#c51b7d\"], [0.2, \"#de77ae\"], [0.3, \"#f1b6da\"], [0.4, \"#fde0ef\"], [0.5, \"#f7f7f7\"], [0.6, \"#e6f5d0\"], [0.7, \"#b8e186\"], [0.8, \"#7fbc41\"], [0.9, \"#4d9221\"], [1, \"#276419\"]], \"sequential\": [[0.0, \"#0d0887\"], [0.1111111111111111, \"#46039f\"], [0.2222222222222222, \"#7201a8\"], [0.3333333333333333, \"#9c179e\"], [0.4444444444444444, \"#bd3786\"], [0.5555555555555556, \"#d8576b\"], [0.6666666666666666, \"#ed7953\"], [0.7777777777777778, \"#fb9f3a\"], [0.8888888888888888, \"#fdca26\"], [1.0, \"#f0f921\"]], \"sequentialminus\": [[0.0, \"#0d0887\"], [0.1111111111111111, \"#46039f\"], [0.2222222222222222, \"#7201a8\"], [0.3333333333333333, \"#9c179e\"], [0.4444444444444444, \"#bd3786\"], [0.5555555555555556, \"#d8576b\"], [0.6666666666666666, \"#ed7953\"], [0.7777777777777778, \"#fb9f3a\"], [0.8888888888888888, \"#fdca26\"], [1.0, \"#f0f921\"]]}, \"colorway\": [\"#636efa\", \"#EF553B\", \"#00cc96\", \"#ab63fa\", \"#FFA15A\", \"#19d3f3\", \"#FF6692\", \"#B6E880\", \"#FF97FF\", \"#FECB52\"], \"font\": {\"color\": \"#2a3f5f\"}, \"geo\": {\"bgcolor\": \"white\", \"lakecolor\": \"white\", \"landcolor\": \"white\", \"showlakes\": true, \"showland\": true, \"subunitcolor\": \"#C8D4E3\"}, \"hoverlabel\": {\"align\": \"left\"}, \"hovermode\": \"closest\", \"mapbox\": {\"style\": \"light\"}, \"paper_bgcolor\": \"white\", \"plot_bgcolor\": \"white\", \"polar\": {\"angularaxis\": {\"gridcolor\": \"#EBF0F8\", \"linecolor\": \"#EBF0F8\", \"ticks\": \"\"}, \"bgcolor\": \"white\", \"radialaxis\": {\"gridcolor\": \"#EBF0F8\", \"linecolor\": \"#EBF0F8\", \"ticks\": \"\"}}, \"scene\": {\"xaxis\": {\"backgroundcolor\": \"white\", \"gridcolor\": \"#DFE8F3\", \"gridwidth\": 2, \"linecolor\": \"#EBF0F8\", \"showbackground\": true, \"ticks\": \"\", \"zerolinecolor\": \"#EBF0F8\"}, \"yaxis\": {\"backgroundcolor\": \"white\", \"gridcolor\": \"#DFE8F3\", \"gridwidth\": 2, \"linecolor\": \"#EBF0F8\", \"showbackground\": true, \"ticks\": \"\", \"zerolinecolor\": \"#EBF0F8\"}, \"zaxis\": {\"backgroundcolor\": \"white\", \"gridcolor\": \"#DFE8F3\", \"gridwidth\": 2, \"linecolor\": \"#EBF0F8\", \"showbackground\": true, \"ticks\": \"\", \"zerolinecolor\": \"#EBF0F8\"}}, \"shapedefaults\": {\"line\": {\"color\": \"#2a3f5f\"}}, \"ternary\": {\"aaxis\": {\"gridcolor\": \"#DFE8F3\", \"linecolor\": \"#A2B1C6\", \"ticks\": \"\"}, \"baxis\": {\"gridcolor\": \"#DFE8F3\", \"linecolor\": \"#A2B1C6\", \"ticks\": \"\"}, \"bgcolor\": \"white\", \"caxis\": {\"gridcolor\": \"#DFE8F3\", \"linecolor\": \"#A2B1C6\", \"ticks\": \"\"}}, \"title\": {\"x\": 0.05}, \"xaxis\": {\"automargin\": true, \"gridcolor\": \"#EBF0F8\", \"linecolor\": \"#EBF0F8\", \"ticks\": \"\", \"title\": {\"standoff\": 15}, \"zerolinecolor\": \"#EBF0F8\", \"zerolinewidth\": 2}, \"yaxis\": {\"automargin\": true, \"gridcolor\": \"#EBF0F8\", \"linecolor\": \"#EBF0F8\", \"ticks\": \"\", \"title\": {\"standoff\": 15}, \"zerolinecolor\": \"#EBF0F8\", \"zerolinewidth\": 2}}}, \"width\": 1500, \"xaxis\": {\"anchor\": \"y\", \"domain\": [0.0, 1.0], \"title\": {\"text\": \"Time\"}}, \"yaxis\": {\"anchor\": \"x\", \"domain\": [0.0, 1.0], \"title\": {\"text\": \"AI_1\"}}},                        {\"responsive\": true}                    ).then(function(){\n",
       "                            \n",
       "var gd = document.getElementById('1cd08223-bfea-44ff-9823-1e8bc3b0ed44');\n",
       "var x = new MutationObserver(function (mutations, observer) {{\n",
       "        var display = window.getComputedStyle(gd).display;\n",
       "        if (!display || display === 'none') {{\n",
       "            console.log([gd, 'removed!']);\n",
       "            Plotly.purge(gd);\n",
       "            observer.disconnect();\n",
       "        }}\n",
       "}});\n",
       "\n",
       "// Listen for the removal of the full notebook cells\n",
       "var notebookContainer = gd.closest('#notebook-container');\n",
       "if (notebookContainer) {{\n",
       "    x.observe(notebookContainer, {childList: true});\n",
       "}}\n",
       "\n",
       "// Listen for the clearing of the current output cell\n",
       "var outputEl = gd.closest('.output');\n",
       "if (outputEl) {{\n",
       "    x.observe(outputEl, {childList: true});\n",
       "}}\n",
       "\n",
       "                        })                };                });            </script>        </div>"
      ]
     },
     "metadata": {},
     "output_type": "display_data"
    }
   ],
   "source": [
    "fig = px.area(trand_df[trand_df[\"sample_date_year\"].isin([2021])], x=\"Time\", y='AI_1', template=\"plotly_white\",width=1500, height=500)\n",
    "fig.show()\n",
    "# fig.show(renderer=\"svg\")\n",
    "fig.write_image(\"trand_2021.svg\")"
   ]
  },
  {
   "cell_type": "markdown",
   "id": "64aaa65a",
   "metadata": {},
   "source": [
    "# Barpolar"
   ]
  },
  {
   "cell_type": "code",
   "execution_count": 380,
   "id": "565bb35d",
   "metadata": {},
   "outputs": [],
   "source": [
    "my_color_lst = [\"#BD6D0E\",\"#014760\", \"#FFC734\", \"#F15A23\", \"#00ADEF\", \"#86B157\",\"#9EBCDE\"]"
   ]
  },
  {
   "cell_type": "code",
   "execution_count": 382,
   "id": "dcbb9a87",
   "metadata": {},
   "outputs": [
    {
     "data": {
      "image/svg+xml": [
       "<svg class=\"main-svg\" xmlns=\"http://www.w3.org/2000/svg\" xmlns:xlink=\"http://www.w3.org/1999/xlink\" width=\"700\" height=\"450\" style=\"\" viewBox=\"0 0 700 450\"><rect x=\"0\" y=\"0\" width=\"700\" height=\"450\" style=\"fill: rgb(255, 255, 255); fill-opacity: 1;\"/><defs id=\"defs-f78336\"><g class=\"clips\"><clipPath id=\"clipf78336polar-for-traces\"><path d=\"M155,0A155,155 0,1,0 -155,-1.8982025386783973e-14A155,155 0,1,0 155,3.7964050773567946e-14Z\" transform=\"translate(155,155)\"/></clipPath></g><g class=\"gradients\"/></defs><g class=\"bglayer\"/><g class=\"layer-below\"><g class=\"imagelayer\"/><g class=\"shapelayer\"/></g><g class=\"cartesianlayer\"/><g class=\"polarlayer\"><g class=\"polar\"><g class=\"polarsublayer draglayer\"/><g class=\"polarsublayer plotbg\"><path d=\"M155,0A155,155 0,1,0 -155,-1.8982025386783973e-14A155,155 0,1,0 155,3.7964050773567946e-14Z\" transform=\"translate(338.5,215)\" style=\"fill: rgb(255, 255, 255); fill-opacity: 1;\"/></g><g class=\"polarsublayer backplot\"><g class=\"maplayer\"/></g><g class=\"polarsublayer angular-grid\" style=\"fill: none;\"/><g class=\"polarsublayer radial-grid\" display=\"none\" style=\"fill: none;\"/><g class=\"polarsublayer frontplot\" transform=\"translate(183.5,60)\" clip-path=\"url('#clipf78336polar-for-traces')\"><g class=\"barlayer\"><g class=\"trace bars\" style=\"opacity: 1;\"><g class=\"points\"><g class=\"point\" style=\"vector-effect: non-scaling-stroke; stroke-miterlimit: 2;\"><path d=\"M155,155L161.75734741806036,147.87924159122937A9.816666666666666,9.816666666666666 0,0,0 157.78808396717685,145.58758626937723L155,155A0,0 0,0,1 155,155Z\" style=\"opacity: 1; stroke-width: 0.5px; fill: rgb(189, 109, 14); fill-opacity: 1; stroke: rgb(255, 255, 255); stroke-opacity: 1;\"/></g></g></g><g class=\"trace bars\" style=\"opacity: 1;\"><g class=\"points\"><g class=\"point\" style=\"vector-effect: non-scaling-stroke; stroke-miterlimit: 2;\"><path d=\"M155,155L135.9091372295256,150.41668935629573A19.633333333333333,19.633333333333333 0,0,0 135.9091372295256,159.58331064370427L155,155A0,0 0,0,1 155,155Z\" style=\"opacity: 1; stroke-width: 0.5px; fill: rgb(1, 71, 96); fill-opacity: 1; stroke: rgb(255, 255, 255); stroke-opacity: 1;\"/></g><g class=\"point\" style=\"vector-effect: non-scaling-stroke; stroke-miterlimit: 2;\"><path d=\"M155,155L117.35034507750896,166.15233586870738A39.266666666666666,39.266666666666666 0,0,0 126.51696636491751,182.0293896722414L155,155A0,0 0,0,1 155,155Z\" style=\"opacity: 1; stroke-width: 0.5px; fill: rgb(1, 71, 96); fill-opacity: 1; stroke: rgb(255, 255, 255); stroke-opacity: 1;\"/></g><g class=\"point\" style=\"vector-effect: non-scaling-stroke; stroke-miterlimit: 2;\"><path d=\"M155,155L134.72795774581894,176.36227522631185A29.45,29.45 0,0,0 146.63574809846946,183.2372411918683L155,155A0,0 0,0,1 155,155Z\" style=\"opacity: 1; stroke-width: 0.5px; fill: rgb(1, 71, 96); fill-opacity: 1; stroke: rgb(255, 255, 255); stroke-opacity: 1;\"/></g><g class=\"point\" style=\"vector-effect: non-scaling-stroke; stroke-miterlimit: 2;\"><path d=\"M155,155L152.70834467814785,164.54543138523718A9.816666666666666,9.816666666666666 0,0,0 157.29165532185215,164.54543138523718L155,155A0,0 0,0,1 155,155Z\" style=\"opacity: 1; stroke-width: 0.5px; fill: rgb(1, 71, 96); fill-opacity: 1; stroke: rgb(255, 255, 255); stroke-opacity: 1;\"/></g><g class=\"point\" style=\"vector-effect: non-scaling-stroke; stroke-miterlimit: 2;\"><path d=\"M155,155L163.3642519015305,183.2372411918683A29.45,29.45 0,0,0 175.27204225418103,176.36227522631188L155,155A0,0 0,0,1 155,155Z\" style=\"opacity: 1; stroke-width: 0.5px; fill: rgb(1, 71, 96); fill-opacity: 1; stroke: rgb(255, 255, 255); stroke-opacity: 1;\"/></g><g class=\"point\" style=\"vector-effect: non-scaling-stroke; stroke-miterlimit: 2;\"><path d=\"M155,155L176.36227522631188,175.27204225418103A29.45,29.45 0,0,0 183.2372411918683,163.3642519015305L155,155A0,0 0,0,1 155,155Z\" style=\"opacity: 1; stroke-width: 0.5px; fill: rgb(1, 71, 96); fill-opacity: 1; stroke: rgb(255, 255, 255); stroke-opacity: 1;\"/></g><g class=\"point\" style=\"vector-effect: non-scaling-stroke; stroke-miterlimit: 2;\"><path d=\"M155,155L221.81801969666034,171.04158725296494A68.71666666666667,68.71666666666667 0,0,0 221.81801969666034,138.95841274703506L155,155A0,0 0,0,1 155,155Z\" style=\"opacity: 1; stroke-width: 0.5px; fill: rgb(1, 71, 96); fill-opacity: 1; stroke: rgb(255, 255, 255); stroke-opacity: 1;\"/></g><g class=\"point\" style=\"vector-effect: non-scaling-stroke; stroke-miterlimit: 2;\"><path d=\"M155,155L230.29930984498208,132.69532826258526A78.53333333333333,78.53333333333333 0,0,0 211.966067270165,100.94122065551718L155,155A0,0 0,0,1 155,155Z\" style=\"opacity: 1; stroke-width: 0.5px; fill: rgb(1, 71, 96); fill-opacity: 1; stroke: rgb(255, 255, 255); stroke-opacity: 1;\"/></g><g class=\"point\" style=\"vector-effect: non-scaling-stroke; stroke-miterlimit: 2;\"><path d=\"M161.75734741806036,147.87924159122937L222.57347418060348,83.79241591229375A98.16666666666666,98.16666666666666 0,0,0 182.88083967176843,60.875862693772405L157.78808396717685,145.58758626937723A9.816666666666666,9.816666666666666 0,0,1 161.75734741806036,147.87924159122937Z\" style=\"opacity: 1; stroke-width: 0.5px; fill: rgb(1, 71, 96); fill-opacity: 1; stroke: rgb(255, 255, 255); stroke-opacity: 1;\"/></g><g class=\"point\" style=\"vector-effect: non-scaling-stroke; stroke-miterlimit: 2;\"><path d=\"M155,155L159.58331064370427,135.9091372295256A19.633333333333333,19.633333333333333 0,0,0 150.41668935629573,135.9091372295256L155,155A0,0 0,0,1 155,155Z\" style=\"opacity: 1; stroke-width: 0.5px; fill: rgb(1, 71, 96); fill-opacity: 1; stroke: rgb(255, 255, 255); stroke-opacity: 1;\"/></g><g class=\"point\" style=\"vector-effect: non-scaling-stroke; stroke-miterlimit: 2;\"><path d=\"M155,155L152.21191603282315,145.58758626937725A9.816666666666666,9.816666666666666 0,0,0 148.24265258193964,147.87924159122937L155,155A0,0 0,0,1 155,155Z\" style=\"opacity: 1; stroke-width: 0.5px; fill: rgb(1, 71, 96); fill-opacity: 1; stroke: rgb(255, 255, 255); stroke-opacity: 1;\"/></g></g></g><g class=\"trace bars\" style=\"opacity: 1;\"><g class=\"points\"><g class=\"point\" style=\"vector-effect: non-scaling-stroke; stroke-miterlimit: 2;\"><path d=\"M134.72795774581894,176.36227522631185L127.97061032775859,183.48303363508248A39.266666666666666,39.266666666666666 0,0,0 143.84766413129262,192.64965492249104L146.63574809846946,183.2372411918683A29.45,29.45 0,0,1 134.72795774581894,176.36227522631185Z\" style=\"opacity: 1; stroke-width: 0.5px; fill: rgb(255, 199, 52); fill-opacity: 1; stroke: rgb(255, 255, 255); stroke-opacity: 1;\"/></g><g class=\"point\" style=\"vector-effect: non-scaling-stroke; stroke-miterlimit: 2;\"><path d=\"M221.81801969666034,171.04158725296494L240.90888246713473,175.6248978966692A88.35,88.35 0,0,0 240.90888246713473,134.3751021033308L221.81801969666034,138.95841274703506A68.71666666666667,68.71666666666667 0,0,1 221.81801969666034,171.04158725296494Z\" style=\"opacity: 1; stroke-width: 0.5px; fill: rgb(255, 199, 52); fill-opacity: 1; stroke: rgb(255, 255, 255); stroke-opacity: 1;\"/></g><g class=\"point\" style=\"vector-effect: non-scaling-stroke; stroke-miterlimit: 2;\"><path d=\"M230.29930984498208,132.69532826258526L239.71172357560482,129.90724429540842A88.35,88.35 0,0,0 219.0868256789356,94.18387323745685L211.966067270165,100.94122065551718A78.53333333333333,78.53333333333333 0,0,1 230.29930984498208,132.69532826258526Z\" style=\"opacity: 1; stroke-width: 0.5px; fill: rgb(255, 199, 52); fill-opacity: 1; stroke: rgb(255, 255, 255); stroke-opacity: 1;\"/></g><g class=\"point\" style=\"vector-effect: non-scaling-stroke; stroke-miterlimit: 2;\"><path d=\"M176.36227522631188,175.27204225418103L197.72455045262376,195.5440845083621A58.9,58.9 0,0,0 211.47448238373659,171.72850380306105L183.2372411918683,163.3642519015305A29.45,29.45 0,0,1 176.36227522631188,175.27204225418103Z\" style=\"opacity: 1; stroke-width: 0.5px; fill: rgb(255, 199, 52); fill-opacity: 1; stroke: rgb(255, 255, 255); stroke-opacity: 1;\"/></g></g></g><g class=\"trace bars\" style=\"opacity: 1;\"><g class=\"points\"><g class=\"point\" style=\"vector-effect: non-scaling-stroke; stroke-miterlimit: 2;\"><path d=\"M222.57347418060348,83.79241591229375L229.33082159866382,76.67165750352312A107.98333333333333,107.98333333333333 0,0,0 185.66892363894527,51.46344896314963L182.88083967176843,60.875862693772405A98.16666666666666,98.16666666666666 0,0,1 222.57347418060348,83.79241591229375Z\" style=\"opacity: 1; stroke-width: 0.5px; fill: rgb(241, 90, 35); fill-opacity: 1; stroke: rgb(255, 255, 255); stroke-opacity: 1;\"/></g></g></g><g class=\"trace bars\" style=\"opacity: 1;\"><g class=\"points\"><g class=\"point\" style=\"vector-effect: non-scaling-stroke; stroke-miterlimit: 2;\"><path d=\"M239.71172357560482,129.90724429540842L258.53655103685037,124.33107636105473A107.98333333333333,107.98333333333333 0,0,0 233.32834249647686,80.66917840133614L219.0868256789356,94.18387323745685A88.35,88.35 0,0,1 239.71172357560482,129.90724429540842Z\" style=\"opacity: 1; stroke-width: 0.5px; fill: rgb(0, 173, 239); fill-opacity: 1; stroke: rgb(255, 255, 255); stroke-opacity: 1;\"/></g><g class=\"point\" style=\"vector-effect: non-scaling-stroke; stroke-miterlimit: 2;\"><path d=\"M159.58331064370427,135.9091372295256L161.87496596555638,126.36370584428842A29.45,29.45 0,0,0 148.1250340344436,126.36370584428842L150.41668935629573,135.9091372295256A19.633333333333333,19.633333333333333 0,0,1 159.58331064370427,135.9091372295256Z\" style=\"opacity: 1; stroke-width: 0.5px; fill: rgb(0, 173, 239); fill-opacity: 1; stroke: rgb(255, 255, 255); stroke-opacity: 1;\"/></g><g class=\"point\" style=\"vector-effect: non-scaling-stroke; stroke-miterlimit: 2;\"><path d=\"M127.97061032775859,183.48303363508248L121.21326290969824,190.6037920438531A49.08333333333333,49.08333333333333 0,0,0 141.05958016411577,202.06206865311378L143.84766413129262,192.64965492249104A39.266666666666666,39.266666666666666 0,0,1 127.97061032775859,183.48303363508248Z\" style=\"opacity: 1; stroke-width: 0.5px; fill: rgb(0, 173, 239); fill-opacity: 1; stroke: rgb(255, 255, 255); stroke-opacity: 1;\"/></g><g class=\"point\" style=\"vector-effect: non-scaling-stroke; stroke-miterlimit: 2;\"><path d=\"M117.35034507750896,166.15233586870738L107.93793134688622,168.94041983588423A49.08333333333333,49.08333333333333 0,0,0 119.3962079561469,188.78673709030176L126.51696636491751,182.0293896722414A39.266666666666666,39.266666666666666 0,0,1 117.35034507750896,166.15233586870738Z\" style=\"opacity: 1; stroke-width: 0.5px; fill: rgb(0, 173, 239); fill-opacity: 1; stroke: rgb(255, 255, 255); stroke-opacity: 1;\"/></g><g class=\"point\" style=\"vector-effect: non-scaling-stroke; stroke-miterlimit: 2;\"><path d=\"M240.90888246713473,175.6248978966692L250.4543138523719,177.91655321852136A98.16666666666666,98.16666666666666 0,0,0 250.4543138523719,132.08344678147864L240.90888246713473,134.3751021033308A88.35,88.35 0,0,1 240.90888246713473,175.6248978966692Z\" style=\"opacity: 1; stroke-width: 0.5px; fill: rgb(0, 173, 239); fill-opacity: 1; stroke: rgb(255, 255, 255); stroke-opacity: 1;\"/></g><g class=\"point\" style=\"vector-effect: non-scaling-stroke; stroke-miterlimit: 2;\"><path d=\"M229.33082159866382,76.67165750352312L236.08816901672418,69.5508990947525A117.8,117.8 0,0,0 188.45700760612212,42.05103523252687L185.66892363894527,51.46344896314963A107.98333333333333,107.98333333333333 0,0,1 229.33082159866382,76.67165750352312Z\" style=\"opacity: 1; stroke-width: 0.5px; fill: rgb(0, 173, 239); fill-opacity: 1; stroke: rgb(255, 255, 255); stroke-opacity: 1;\"/></g><g class=\"point\" style=\"vector-effect: non-scaling-stroke; stroke-miterlimit: 2;\"><path d=\"M152.70834467814785,164.54543138523718L150.41668935629573,174.0908627704744A19.633333333333333,19.633333333333333 0,0,0 159.58331064370427,174.0908627704744L157.29165532185215,164.54543138523718A9.816666666666666,9.816666666666666 0,0,1 152.70834467814785,164.54543138523718Z\" style=\"opacity: 1; stroke-width: 0.5px; fill: rgb(0, 173, 239); fill-opacity: 1; stroke: rgb(255, 255, 255); stroke-opacity: 1;\"/></g></g></g><g class=\"trace bars\" style=\"opacity: 1;\"><g class=\"points\"><g class=\"point\" style=\"vector-effect: non-scaling-stroke; stroke-miterlimit: 2;\"><path d=\"M236.08816901672418,69.5508990947525L256.3602112709052,48.188623868440615A147.25,147.25 0,0,0 196.82125950765266,13.813794040658593L188.45700760612212,42.05103523252687A117.8,117.8 0,0,1 236.08816901672418,69.5508990947525Z\" style=\"opacity: 1; stroke-width: 0.5px; fill: rgb(134, 177, 87); fill-opacity: 1; stroke: rgb(255, 255, 255); stroke-opacity: 1;\"/></g><g class=\"point\" style=\"vector-effect: non-scaling-stroke; stroke-miterlimit: 2;\"><path d=\"M161.87496596555638,126.36370584428842L166.45827660926065,107.27284307381404A49.08333333333333,49.08333333333333 0,0,0 143.54172339073932,107.27284307381404L148.1250340344436,126.36370584428842A29.45,29.45 0,0,1 161.87496596555638,126.36370584428842Z\" style=\"opacity: 1; stroke-width: 0.5px; fill: rgb(134, 177, 87); fill-opacity: 1; stroke: rgb(255, 255, 255); stroke-opacity: 1;\"/></g><g class=\"point\" style=\"vector-effect: non-scaling-stroke; stroke-miterlimit: 2;\"><path d=\"M107.93793134688622,168.94041983588423L98.52551761626344,171.72850380306107A58.9,58.9 0,0,0 112.27544954737627,195.54408450836212L119.3962079561469,188.78673709030176A49.08333333333333,49.08333333333333 0,0,1 107.93793134688622,168.94041983588423Z\" style=\"opacity: 1; stroke-width: 0.5px; fill: rgb(134, 177, 87); fill-opacity: 1; stroke: rgb(255, 255, 255); stroke-opacity: 1;\"/></g><g class=\"point\" style=\"vector-effect: non-scaling-stroke; stroke-miterlimit: 2;\"><path d=\"M197.72455045262376,195.5440845083621L204.84530886139441,202.30143192642242A68.71666666666667,68.71666666666667 0,0,0 220.88689611435933,174.5165877702379L211.47448238373659,171.72850380306105A58.9,58.9 0,0,1 197.72455045262376,195.5440845083621Z\" style=\"opacity: 1; stroke-width: 0.5px; fill: rgb(134, 177, 87); fill-opacity: 1; stroke: rgb(255, 255, 255); stroke-opacity: 1;\"/></g><g class=\"point\" style=\"vector-effect: non-scaling-stroke; stroke-miterlimit: 2;\"><path d=\"M250.4543138523719,177.91655321852136L259.9997452376091,180.2082085403735A107.98333333333333,107.98333333333333 0,0,0 259.9997452376091,129.7917914596265L250.4543138523719,132.08344678147864A98.16666666666666,98.16666666666666 0,0,1 250.4543138523719,177.91655321852136Z\" style=\"opacity: 1; stroke-width: 0.5px; fill: rgb(134, 177, 87); fill-opacity: 1; stroke: rgb(255, 255, 255); stroke-opacity: 1;\"/></g><g class=\"point\" style=\"vector-effect: non-scaling-stroke; stroke-miterlimit: 2;\"><path d=\"M258.53655103685037,124.33107636105473L267.9489647674731,121.54299239387788A117.8,117.8 0,0,0 240.4491009052475,73.91183098327579L233.32834249647686,80.66917840133614A107.98333333333333,107.98333333333333 0,0,1 258.53655103685037,124.33107636105473Z\" style=\"opacity: 1; stroke-width: 0.5px; fill: rgb(134, 177, 87); fill-opacity: 1; stroke: rgb(255, 255, 255); stroke-opacity: 1;\"/></g></g></g><g class=\"trace bars\" style=\"opacity: 1;\"><g class=\"points\"><g class=\"point\" style=\"vector-effect: non-scaling-stroke; stroke-miterlimit: 2;\"><path d=\"M152.21191603282315,145.58758626937725L149.4238320656463,136.17517253875448A19.633333333333333,19.633333333333333 0,0,0 141.4853051638793,140.75848318245875L148.24265258193964,147.87924159122937A9.816666666666666,9.816666666666666 0,0,1 152.21191603282315,145.58758626937725Z\" style=\"opacity: 1; stroke-width: 0.5px; fill: rgb(158, 188, 222); fill-opacity: 1; stroke: rgb(255, 255, 255); stroke-opacity: 1;\"/></g></g></g></g><g class=\"scatterlayer\"/></g><g class=\"polarsublayer angular-line\"><path display=\"none\" style=\"fill: none; stroke: rgb(0, 0, 0); stroke-opacity: 1;\"/></g><g class=\"polarsublayer radial-line\"><line x1=\"0\" y1=\"0\" x2=\"155\" y2=\"0\" transform=\"translate(338.5,215)\" stroke-width=\"1\" style=\"fill: none; stroke: rgb(36, 36, 36); stroke-opacity: 1;\"/></g><g class=\"polarsublayer angular-axis\"/><g class=\"polarsublayer radial-axis\" transform=\"translate(338.5,215)\"><path class=\"xtick ticks\" d=\"M0,0.5v5\" transform=\"\" style=\"stroke: rgb(68, 68, 68); stroke-opacity: 1; stroke-width: 1px;\"/><path class=\"xtick ticks\" d=\"M0,0.5v5\" transform=\"translate(19.63,0)\" style=\"stroke: rgb(68, 68, 68); stroke-opacity: 1; stroke-width: 1px;\"/><path class=\"xtick ticks\" d=\"M0,0.5v5\" transform=\"translate(39.27,0)\" style=\"stroke: rgb(68, 68, 68); stroke-opacity: 1; stroke-width: 1px;\"/><path class=\"xtick ticks\" d=\"M0,0.5v5\" transform=\"translate(58.9,0)\" style=\"stroke: rgb(68, 68, 68); stroke-opacity: 1; stroke-width: 1px;\"/><path class=\"xtick ticks\" d=\"M0,0.5v5\" transform=\"translate(78.53,0)\" style=\"stroke: rgb(68, 68, 68); stroke-opacity: 1; stroke-width: 1px;\"/><path class=\"xtick ticks\" d=\"M0,0.5v5\" transform=\"translate(98.17,0)\" style=\"stroke: rgb(68, 68, 68); stroke-opacity: 1; stroke-width: 1px;\"/><path class=\"xtick ticks\" d=\"M0,0.5v5\" transform=\"translate(117.8,0)\" style=\"stroke: rgb(68, 68, 68); stroke-opacity: 1; stroke-width: 1px;\"/><path class=\"xtick ticks\" d=\"M0,0.5v5\" transform=\"translate(137.43,0)\" style=\"stroke: rgb(68, 68, 68); stroke-opacity: 1; stroke-width: 1px;\"/><g class=\"xtick\"><text text-anchor=\"middle\" x=\"0\" y=\"19.9\" transform=\"\" style=\"font-family: 'Open Sans', verdana, arial, sans-serif; font-size: 12px; fill: rgb(36, 36, 36); fill-opacity: 1; white-space: pre;\">0</text></g><g class=\"xtick\"><text text-anchor=\"middle\" x=\"0\" y=\"19.9\" transform=\"translate(19.63,0)\" style=\"font-family: 'Open Sans', verdana, arial, sans-serif; font-size: 12px; fill: rgb(36, 36, 36); fill-opacity: 1; white-space: pre;\">2</text></g><g class=\"xtick\"><text text-anchor=\"middle\" x=\"0\" y=\"19.9\" transform=\"translate(39.27,0)\" style=\"font-family: 'Open Sans', verdana, arial, sans-serif; font-size: 12px; fill: rgb(36, 36, 36); fill-opacity: 1; white-space: pre;\">4</text></g><g class=\"xtick\"><text text-anchor=\"middle\" x=\"0\" y=\"19.9\" transform=\"translate(58.9,0)\" style=\"font-family: 'Open Sans', verdana, arial, sans-serif; font-size: 12px; fill: rgb(36, 36, 36); fill-opacity: 1; white-space: pre;\">6</text></g><g class=\"xtick\"><text text-anchor=\"middle\" x=\"0\" y=\"19.9\" transform=\"translate(78.53,0)\" style=\"font-family: 'Open Sans', verdana, arial, sans-serif; font-size: 12px; fill: rgb(36, 36, 36); fill-opacity: 1; white-space: pre;\">8</text></g><g class=\"xtick\"><text text-anchor=\"middle\" x=\"0\" y=\"19.9\" transform=\"translate(98.17,0)\" style=\"font-family: 'Open Sans', verdana, arial, sans-serif; font-size: 12px; fill: rgb(36, 36, 36); fill-opacity: 1; white-space: pre;\">10</text></g><g class=\"xtick\"><text text-anchor=\"middle\" x=\"0\" y=\"19.9\" transform=\"translate(117.8,0)\" style=\"font-family: 'Open Sans', verdana, arial, sans-serif; font-size: 12px; fill: rgb(36, 36, 36); fill-opacity: 1; white-space: pre;\">12</text></g><g class=\"xtick\"><text text-anchor=\"middle\" x=\"0\" y=\"19.9\" transform=\"translate(137.43,0)\" style=\"font-family: 'Open Sans', verdana, arial, sans-serif; font-size: 12px; fill: rgb(36, 36, 36); fill-opacity: 1; white-space: pre;\">14</text></g></g></g></g><g class=\"ternarylayer\"/><g class=\"geolayer\"/><g class=\"funnelarealayer\"/><g class=\"pielayer\"/><g class=\"treemaplayer\"/><g class=\"sunburstlayer\"/><g class=\"glimages\"/><defs id=\"topdefs-f78336\"><g class=\"clips\"/><clipPath id=\"legendf78336\"><rect width=\"81\" height=\"159\" x=\"0\" y=\"0\"/></clipPath></defs><g class=\"layer-above\"><g class=\"imagelayer\"/><g class=\"shapelayer\"/></g><g class=\"infolayer\"><g class=\"legend\" pointer-events=\"all\" transform=\"translate(607.34,60)\"><rect class=\"bg\" shape-rendering=\"crispEdges\" width=\"81\" height=\"159\" x=\"0\" y=\"0\" style=\"stroke: rgb(68, 68, 68); stroke-opacity: 1; fill: rgb(255, 255, 255); fill-opacity: 1; stroke-width: 0px;\"/><g class=\"scrollbox\" transform=\"\" clip-path=\"url('#legendf78336')\"><text class=\"legendtitletext\" text-anchor=\"start\" x=\"2\" y=\"15.600000000000001\" style=\"font-family: 'Open Sans', verdana, arial, sans-serif; font-size: 12px; fill: rgb(36, 36, 36); fill-opacity: 1; white-space: pre;\">countyname</text><g class=\"groups\" transform=\"\"><g class=\"traces\" transform=\"translate(0,30.1)\" style=\"opacity: 1;\"><text class=\"legendtext\" text-anchor=\"start\" x=\"40\" y=\"4.680000000000001\" style=\"font-family: 'Open Sans', verdana, arial, sans-serif; font-size: 12px; fill: rgb(36, 36, 36); fill-opacity: 1; white-space: pre;\">高雄市</text><g class=\"layers\" style=\"opacity: 1;\"><g class=\"legendfill\"/><g class=\"legendlines\"/><g class=\"legendsymbols\"><g class=\"legendpoints\"><path class=\"legendundefined\" d=\"M6,6H-6V-6H6Z\" transform=\"translate(20,0)\" style=\"stroke-width: 0.5px; fill: rgb(189, 109, 14); fill-opacity: 1; stroke: rgb(255, 255, 255); stroke-opacity: 1;\"/></g></g></g><rect class=\"legendtoggle\" x=\"0\" y=\"-9.5\" width=\"76\" height=\"19\" style=\"fill: rgb(0, 0, 0); fill-opacity: 0;\"/></g></g><g class=\"groups\" transform=\"\"><g class=\"traces\" transform=\"translate(0,49.1)\" style=\"opacity: 1;\"><text class=\"legendtext\" text-anchor=\"start\" x=\"40\" y=\"4.680000000000001\" style=\"font-family: 'Open Sans', verdana, arial, sans-serif; font-size: 12px; fill: rgb(36, 36, 36); fill-opacity: 1; white-space: pre;\">雲林縣</text><g class=\"layers\" style=\"opacity: 1;\"><g class=\"legendfill\"/><g class=\"legendlines\"/><g class=\"legendsymbols\"><g class=\"legendpoints\"><path class=\"legendundefined\" d=\"M6,6H-6V-6H6Z\" transform=\"translate(20,0)\" style=\"stroke-width: 0.5px; fill: rgb(1, 71, 96); fill-opacity: 1; stroke: rgb(255, 255, 255); stroke-opacity: 1;\"/></g></g></g><rect class=\"legendtoggle\" x=\"0\" y=\"-9.5\" width=\"76\" height=\"19\" style=\"fill: rgb(0, 0, 0); fill-opacity: 0;\"/></g></g><g class=\"groups\" transform=\"\"><g class=\"traces\" transform=\"translate(0,68.1)\" style=\"opacity: 1;\"><text class=\"legendtext\" text-anchor=\"start\" x=\"40\" y=\"4.680000000000001\" style=\"font-family: 'Open Sans', verdana, arial, sans-serif; font-size: 12px; fill: rgb(36, 36, 36); fill-opacity: 1; white-space: pre;\">臺南市</text><g class=\"layers\" style=\"opacity: 1;\"><g class=\"legendfill\"/><g class=\"legendlines\"/><g class=\"legendsymbols\"><g class=\"legendpoints\"><path class=\"legendundefined\" d=\"M6,6H-6V-6H6Z\" transform=\"translate(20,0)\" style=\"stroke-width: 0.5px; fill: rgb(255, 199, 52); fill-opacity: 1; stroke: rgb(255, 255, 255); stroke-opacity: 1;\"/></g></g></g><rect class=\"legendtoggle\" x=\"0\" y=\"-9.5\" width=\"76\" height=\"19\" style=\"fill: rgb(0, 0, 0); fill-opacity: 0;\"/></g></g><g class=\"groups\" transform=\"\"><g class=\"traces\" transform=\"translate(0,87.1)\" style=\"opacity: 1;\"><text class=\"legendtext\" text-anchor=\"start\" x=\"40\" y=\"4.680000000000001\" style=\"font-family: 'Open Sans', verdana, arial, sans-serif; font-size: 12px; fill: rgb(36, 36, 36); fill-opacity: 1; white-space: pre;\">臺中市</text><g class=\"layers\" style=\"opacity: 1;\"><g class=\"legendfill\"/><g class=\"legendlines\"/><g class=\"legendsymbols\"><g class=\"legendpoints\"><path class=\"legendundefined\" d=\"M6,6H-6V-6H6Z\" transform=\"translate(20,0)\" style=\"stroke-width: 0.5px; fill: rgb(241, 90, 35); fill-opacity: 1; stroke: rgb(255, 255, 255); stroke-opacity: 1;\"/></g></g></g><rect class=\"legendtoggle\" x=\"0\" y=\"-9.5\" width=\"76\" height=\"19\" style=\"fill: rgb(0, 0, 0); fill-opacity: 0;\"/></g></g><g class=\"groups\" transform=\"\"><g class=\"traces\" transform=\"translate(0,106.1)\" style=\"opacity: 1;\"><text class=\"legendtext\" text-anchor=\"start\" x=\"40\" y=\"4.680000000000001\" style=\"font-family: 'Open Sans', verdana, arial, sans-serif; font-size: 12px; fill: rgb(36, 36, 36); fill-opacity: 1; white-space: pre;\">彰化縣</text><g class=\"layers\" style=\"opacity: 1;\"><g class=\"legendfill\"/><g class=\"legendlines\"/><g class=\"legendsymbols\"><g class=\"legendpoints\"><path class=\"legendundefined\" d=\"M6,6H-6V-6H6Z\" transform=\"translate(20,0)\" style=\"stroke-width: 0.5px; fill: rgb(0, 173, 239); fill-opacity: 1; stroke: rgb(255, 255, 255); stroke-opacity: 1;\"/></g></g></g><rect class=\"legendtoggle\" x=\"0\" y=\"-9.5\" width=\"76\" height=\"19\" style=\"fill: rgb(0, 0, 0); fill-opacity: 0;\"/></g></g><g class=\"groups\" transform=\"\"><g class=\"traces\" transform=\"translate(0,125.1)\" style=\"opacity: 1;\"><text class=\"legendtext\" text-anchor=\"start\" x=\"40\" y=\"4.680000000000001\" style=\"font-family: 'Open Sans', verdana, arial, sans-serif; font-size: 12px; fill: rgb(36, 36, 36); fill-opacity: 1; white-space: pre;\">屏東縣</text><g class=\"layers\" style=\"opacity: 1;\"><g class=\"legendfill\"/><g class=\"legendlines\"/><g class=\"legendsymbols\"><g class=\"legendpoints\"><path class=\"legendundefined\" d=\"M6,6H-6V-6H6Z\" transform=\"translate(20,0)\" style=\"stroke-width: 0.5px; fill: rgb(134, 177, 87); fill-opacity: 1; stroke: rgb(255, 255, 255); stroke-opacity: 1;\"/></g></g></g><rect class=\"legendtoggle\" x=\"0\" y=\"-9.5\" width=\"76\" height=\"19\" style=\"fill: rgb(0, 0, 0); fill-opacity: 0;\"/></g></g><g class=\"groups\" transform=\"\"><g class=\"traces\" transform=\"translate(0,144.1)\" style=\"opacity: 1;\"><text class=\"legendtext\" text-anchor=\"start\" x=\"40\" y=\"4.680000000000001\" style=\"font-family: 'Open Sans', verdana, arial, sans-serif; font-size: 12px; fill: rgb(36, 36, 36); fill-opacity: 1; white-space: pre;\">嘉義縣</text><g class=\"layers\" style=\"opacity: 1;\"><g class=\"legendfill\"/><g class=\"legendlines\"/><g class=\"legendsymbols\"><g class=\"legendpoints\"><path class=\"legendundefined\" d=\"M6,6H-6V-6H6Z\" transform=\"translate(20,0)\" style=\"stroke-width: 0.5px; fill: rgb(158, 188, 222); fill-opacity: 1; stroke: rgb(255, 255, 255); stroke-opacity: 1;\"/></g></g></g><rect class=\"legendtoggle\" x=\"0\" y=\"-9.5\" width=\"76\" height=\"19\" style=\"fill: rgb(0, 0, 0); fill-opacity: 0;\"/></g></g></g><rect class=\"scrollbar\" rx=\"20\" ry=\"3\" width=\"0\" height=\"0\" x=\"0\" y=\"0\" style=\"fill: rgb(128, 139, 164); fill-opacity: 1;\"/></g><g class=\"g-gtitle\"/><g class=\"g-polartitle\"/></g></svg>"
      ]
     },
     "metadata": {},
     "output_type": "display_data"
    }
   ],
   "source": [
    "import plotly.express as px\n",
    "df_group.loc[:,\"direction\"] = df_group.loc[:, \"sample_date_month\"]*(360/12)  # 將月份轉化為方向\n",
    "df_group.sort_values(by=[\"countyname\"], ascending=[0], inplace=True) # 排序縣市名\n",
    "\n",
    "fig = px.bar_polar(df_group, r=\"count\", theta=\"direction\", hover_name=\"sample_date_month\",\n",
    "                   color=\"countyname\", template=\"simple_white\", \n",
    "                   color_discrete_sequence= my_color_lst\n",
    "                  )\n",
    "\n",
    "fig.update_polars(\n",
    "#     radialaxis_tickfont_size=1,\n",
    "    angularaxis_visible=False,\n",
    "    angularaxis_linewidth=0,\n",
    "#     angularaxis_showline=False,\n",
    "#     angularaxis_showticklabels=False,\n",
    "#     radialaxis_color=\"white\"\n",
    "\n",
    ")\n",
    "# px.colors.qualitative.Alphabet\n",
    "#  px.colors.sequential.Plasma_r\n",
    "# template: https://plotly.com/python/templates/\n",
    "# color_discrete_sequence: https://plotly.com/python/builtin-colorscales/\n",
    "# color_discrete_sequence: https://plotly.com/python/discrete-color/\n",
    "# https://plotly.com/python/reference/layout/polar/\n",
    "\n",
    "fig.show(renderer=\"svg\")\n",
    "fig.write_image(\"Barpolar.svg\") # 黑線部分 可以存成 SVG 用 Figma編輯修掉\n",
    "fig.write_html(\"Barpolar.html\")"
   ]
  },
  {
   "cell_type": "code",
   "execution_count": null,
   "id": "28a2fbe0",
   "metadata": {},
   "outputs": [],
   "source": []
  },
  {
   "cell_type": "markdown",
   "id": "c14dbf13",
   "metadata": {},
   "source": [
    "# ebird"
   ]
  },
  {
   "cell_type": "code",
   "execution_count": 290,
   "id": "a52a84d6",
   "metadata": {},
   "outputs": [
    {
     "name": "stdout",
     "output_type": "stream",
     "text": [
      "<class 'pandas.core.frame.DataFrame'>\n",
      "RangeIndex: 14373 entries, 0 to 14372\n",
      "Data columns (total 27 columns):\n",
      " #   Column            Non-Null Count  Dtype  \n",
      "---  ------            --------------  -----  \n",
      " 0   _id               14373 non-null  object \n",
      " 1   checklistId       14373 non-null  object \n",
      " 2   comName           14373 non-null  object \n",
      " 3   countryCode       14373 non-null  object \n",
      " 4   countryName       14373 non-null  object \n",
      " 5   createdAt         14373 non-null  object \n",
      " 6   firstName         14372 non-null  object \n",
      " 7   hasComments       14373 non-null  bool   \n",
      " 8   hasRichMedia      14373 non-null  bool   \n",
      " 9   howMany           13196 non-null  float64\n",
      " 10  lastName          14372 non-null  object \n",
      " 11  lat               14373 non-null  float64\n",
      " 12  lng               14373 non-null  float64\n",
      " 13  locId             14373 non-null  object \n",
      " 14  locName           14373 non-null  object \n",
      " 15  locationPrivate   14373 non-null  bool   \n",
      " 16  obsDt             14373 non-null  object \n",
      " 17  obsReviewed       14373 non-null  bool   \n",
      " 18  obsValid          14373 non-null  bool   \n",
      " 19  presenceNoted     14373 non-null  bool   \n",
      " 20  sciName           14373 non-null  object \n",
      " 21  speciesCode       14373 non-null  object \n",
      " 22  subId             14373 non-null  object \n",
      " 23  subnational1Code  14373 non-null  object \n",
      " 24  subnational1Name  14373 non-null  object \n",
      " 25  updatedAt         14373 non-null  object \n",
      " 26  userDisplayName   14372 non-null  object \n",
      "dtypes: bool(6), float64(3), object(18)\n",
      "memory usage: 2.4+ MB\n"
     ]
    }
   ],
   "source": [
    "ebird_path = r\"G:\\我的雲端硬碟\\work\\2021\\1.農試所_大禽流感專案\\1.資料\\ebird\\ebirds_risk.json\"\n",
    "df_ebird = pd.read_json(ebird_path,lines=True)\n",
    "df_ebird.info()"
   ]
  },
  {
   "cell_type": "code",
   "execution_count": 300,
   "id": "6e3394da",
   "metadata": {},
   "outputs": [
    {
     "data": {
      "text/html": [
       "<div>\n",
       "<style scoped>\n",
       "    .dataframe tbody tr th:only-of-type {\n",
       "        vertical-align: middle;\n",
       "    }\n",
       "\n",
       "    .dataframe tbody tr th {\n",
       "        vertical-align: top;\n",
       "    }\n",
       "\n",
       "    .dataframe thead th {\n",
       "        text-align: right;\n",
       "    }\n",
       "</style>\n",
       "<table border=\"1\" class=\"dataframe\">\n",
       "  <thead>\n",
       "    <tr style=\"text-align: right;\">\n",
       "      <th></th>\n",
       "      <th>_id</th>\n",
       "      <th>checklistId</th>\n",
       "      <th>comName</th>\n",
       "      <th>countryCode</th>\n",
       "      <th>countryName</th>\n",
       "      <th>createdAt</th>\n",
       "      <th>firstName</th>\n",
       "      <th>hasComments</th>\n",
       "      <th>hasRichMedia</th>\n",
       "      <th>howMany</th>\n",
       "      <th>...</th>\n",
       "      <th>sciName</th>\n",
       "      <th>speciesCode</th>\n",
       "      <th>subId</th>\n",
       "      <th>subnational1Code</th>\n",
       "      <th>subnational1Name</th>\n",
       "      <th>updatedAt</th>\n",
       "      <th>userDisplayName</th>\n",
       "      <th>date</th>\n",
       "      <th>year</th>\n",
       "      <th>month</th>\n",
       "    </tr>\n",
       "  </thead>\n",
       "  <tbody>\n",
       "    <tr>\n",
       "      <th>0</th>\n",
       "      <td>OBS719399449</td>\n",
       "      <td>CL23837</td>\n",
       "      <td>Green-winged Teal</td>\n",
       "      <td>TW</td>\n",
       "      <td>Taiwan</td>\n",
       "      <td>{'$date': '2020-03-26T11:25:50.948Z'}</td>\n",
       "      <td>中華鳥會</td>\n",
       "      <td>False</td>\n",
       "      <td>False</td>\n",
       "      <td>80.0</td>\n",
       "      <td>...</td>\n",
       "      <td>Anas crecca</td>\n",
       "      <td>gnwtea</td>\n",
       "      <td>S53445397</td>\n",
       "      <td>TW-ILA</td>\n",
       "      <td>Yilan County</td>\n",
       "      <td>{'$date': '2020-03-26T11:25:50.948Z'}</td>\n",
       "      <td>中華鳥會 鳥類紀錄資料庫</td>\n",
       "      <td>2020-03-26 11:25:50.948000+00:00</td>\n",
       "      <td>2020</td>\n",
       "      <td>3</td>\n",
       "    </tr>\n",
       "    <tr>\n",
       "      <th>1</th>\n",
       "      <td>OBS719399442</td>\n",
       "      <td>CL23837</td>\n",
       "      <td>Eurasian Coot</td>\n",
       "      <td>TW</td>\n",
       "      <td>Taiwan</td>\n",
       "      <td>{'$date': '2020-03-26T11:25:50.948Z'}</td>\n",
       "      <td>中華鳥會</td>\n",
       "      <td>False</td>\n",
       "      <td>False</td>\n",
       "      <td>60.0</td>\n",
       "      <td>...</td>\n",
       "      <td>Fulica atra</td>\n",
       "      <td>eurcoo</td>\n",
       "      <td>S53445397</td>\n",
       "      <td>TW-ILA</td>\n",
       "      <td>Yilan County</td>\n",
       "      <td>{'$date': '2020-03-26T11:25:50.948Z'}</td>\n",
       "      <td>中華鳥會 鳥類紀錄資料庫</td>\n",
       "      <td>2020-03-26 11:25:50.948000+00:00</td>\n",
       "      <td>2020</td>\n",
       "      <td>3</td>\n",
       "    </tr>\n",
       "    <tr>\n",
       "      <th>2</th>\n",
       "      <td>OBS719398778</td>\n",
       "      <td>CL23837</td>\n",
       "      <td>Mallard</td>\n",
       "      <td>TW</td>\n",
       "      <td>Taiwan</td>\n",
       "      <td>{'$date': '2020-03-26T11:25:50.948Z'}</td>\n",
       "      <td>中華鳥會</td>\n",
       "      <td>False</td>\n",
       "      <td>False</td>\n",
       "      <td>1.0</td>\n",
       "      <td>...</td>\n",
       "      <td>Anas platyrhynchos</td>\n",
       "      <td>mallar3</td>\n",
       "      <td>S53445345</td>\n",
       "      <td>TW-TXG</td>\n",
       "      <td>Taichung City</td>\n",
       "      <td>{'$date': '2020-03-26T11:25:50.948Z'}</td>\n",
       "      <td>中華鳥會 鳥類紀錄資料庫</td>\n",
       "      <td>2020-03-26 11:25:50.948000+00:00</td>\n",
       "      <td>2020</td>\n",
       "      <td>3</td>\n",
       "    </tr>\n",
       "    <tr>\n",
       "      <th>3</th>\n",
       "      <td>OBS725991184</td>\n",
       "      <td>CL23837</td>\n",
       "      <td>Tundra Swan</td>\n",
       "      <td>TW</td>\n",
       "      <td>Taiwan</td>\n",
       "      <td>{'$date': '2020-03-26T11:25:50.948Z'}</td>\n",
       "      <td>中華鳥會</td>\n",
       "      <td>False</td>\n",
       "      <td>False</td>\n",
       "      <td>1.0</td>\n",
       "      <td>...</td>\n",
       "      <td>Cygnus columbianus</td>\n",
       "      <td>tunswa</td>\n",
       "      <td>S53967223</td>\n",
       "      <td>TW-TPQ</td>\n",
       "      <td>New Taipei City</td>\n",
       "      <td>{'$date': '2020-03-26T11:25:50.948Z'}</td>\n",
       "      <td>中華鳥會 鳥類紀錄資料庫</td>\n",
       "      <td>2020-03-26 11:25:50.948000+00:00</td>\n",
       "      <td>2020</td>\n",
       "      <td>3</td>\n",
       "    </tr>\n",
       "    <tr>\n",
       "      <th>4</th>\n",
       "      <td>OBS382595805</td>\n",
       "      <td>CL23837</td>\n",
       "      <td>Green-winged Teal</td>\n",
       "      <td>TW</td>\n",
       "      <td>Taiwan</td>\n",
       "      <td>{'$date': '2020-03-26T11:25:54.206Z'}</td>\n",
       "      <td>Ko</td>\n",
       "      <td>False</td>\n",
       "      <td>False</td>\n",
       "      <td>120.0</td>\n",
       "      <td>...</td>\n",
       "      <td>Anas crecca</td>\n",
       "      <td>gnwtea</td>\n",
       "      <td>S28265042</td>\n",
       "      <td>TW-ILA</td>\n",
       "      <td>Yilan County</td>\n",
       "      <td>{'$date': '2020-03-26T11:25:54.206Z'}</td>\n",
       "      <td>Ko Cheng</td>\n",
       "      <td>2020-03-26 11:25:54.206000+00:00</td>\n",
       "      <td>2020</td>\n",
       "      <td>3</td>\n",
       "    </tr>\n",
       "  </tbody>\n",
       "</table>\n",
       "<p>5 rows × 30 columns</p>\n",
       "</div>"
      ],
      "text/plain": [
       "            _id checklistId            comName countryCode countryName  \\\n",
       "0  OBS719399449     CL23837  Green-winged Teal          TW      Taiwan   \n",
       "1  OBS719399442     CL23837      Eurasian Coot          TW      Taiwan   \n",
       "2  OBS719398778     CL23837            Mallard          TW      Taiwan   \n",
       "3  OBS725991184     CL23837        Tundra Swan          TW      Taiwan   \n",
       "4  OBS382595805     CL23837  Green-winged Teal          TW      Taiwan   \n",
       "\n",
       "                               createdAt firstName  hasComments  hasRichMedia  \\\n",
       "0  {'$date': '2020-03-26T11:25:50.948Z'}      中華鳥會        False         False   \n",
       "1  {'$date': '2020-03-26T11:25:50.948Z'}      中華鳥會        False         False   \n",
       "2  {'$date': '2020-03-26T11:25:50.948Z'}      中華鳥會        False         False   \n",
       "3  {'$date': '2020-03-26T11:25:50.948Z'}      中華鳥會        False         False   \n",
       "4  {'$date': '2020-03-26T11:25:54.206Z'}        Ko        False         False   \n",
       "\n",
       "   howMany  ...             sciName  speciesCode      subId subnational1Code  \\\n",
       "0     80.0  ...         Anas crecca       gnwtea  S53445397           TW-ILA   \n",
       "1     60.0  ...         Fulica atra       eurcoo  S53445397           TW-ILA   \n",
       "2      1.0  ...  Anas platyrhynchos      mallar3  S53445345           TW-TXG   \n",
       "3      1.0  ...  Cygnus columbianus       tunswa  S53967223           TW-TPQ   \n",
       "4    120.0  ...         Anas crecca       gnwtea  S28265042           TW-ILA   \n",
       "\n",
       "  subnational1Name                              updatedAt userDisplayName  \\\n",
       "0     Yilan County  {'$date': '2020-03-26T11:25:50.948Z'}    中華鳥會 鳥類紀錄資料庫   \n",
       "1     Yilan County  {'$date': '2020-03-26T11:25:50.948Z'}    中華鳥會 鳥類紀錄資料庫   \n",
       "2    Taichung City  {'$date': '2020-03-26T11:25:50.948Z'}    中華鳥會 鳥類紀錄資料庫   \n",
       "3  New Taipei City  {'$date': '2020-03-26T11:25:50.948Z'}    中華鳥會 鳥類紀錄資料庫   \n",
       "4     Yilan County  {'$date': '2020-03-26T11:25:54.206Z'}        Ko Cheng   \n",
       "\n",
       "                              date  year  month  \n",
       "0 2020-03-26 11:25:50.948000+00:00  2020      3  \n",
       "1 2020-03-26 11:25:50.948000+00:00  2020      3  \n",
       "2 2020-03-26 11:25:50.948000+00:00  2020      3  \n",
       "3 2020-03-26 11:25:50.948000+00:00  2020      3  \n",
       "4 2020-03-26 11:25:54.206000+00:00  2020      3  \n",
       "\n",
       "[5 rows x 30 columns]"
      ]
     },
     "execution_count": 300,
     "metadata": {},
     "output_type": "execute_result"
    }
   ],
   "source": [
    "df_ebird.head()"
   ]
  },
  {
   "cell_type": "code",
   "execution_count": 296,
   "id": "625487fa",
   "metadata": {},
   "outputs": [],
   "source": [
    "df_ebird.loc[:,\"date\"] = pd.to_datetime(df_ebird.loc[:,\"updatedAt\"].apply(lambda d: d[\"$date\"]))\n",
    "df_ebird.loc[:,\"year\"] = df_ebird.loc[:,\"date\"].dt.year\n",
    "df_ebird.loc[:,\"month\"] = df_ebird.loc[:,\"date\"].dt.month"
   ]
  },
  {
   "cell_type": "code",
   "execution_count": 299,
   "id": "fd7ef9b1",
   "metadata": {},
   "outputs": [
    {
     "data": {
      "text/html": [
       "<div>\n",
       "<style scoped>\n",
       "    .dataframe tbody tr th:only-of-type {\n",
       "        vertical-align: middle;\n",
       "    }\n",
       "\n",
       "    .dataframe tbody tr th {\n",
       "        vertical-align: top;\n",
       "    }\n",
       "\n",
       "    .dataframe thead th {\n",
       "        text-align: right;\n",
       "    }\n",
       "</style>\n",
       "<table border=\"1\" class=\"dataframe\">\n",
       "  <thead>\n",
       "    <tr style=\"text-align: right;\">\n",
       "      <th></th>\n",
       "      <th></th>\n",
       "      <th>howMany</th>\n",
       "    </tr>\n",
       "    <tr>\n",
       "      <th>year</th>\n",
       "      <th>month</th>\n",
       "      <th></th>\n",
       "    </tr>\n",
       "  </thead>\n",
       "  <tbody>\n",
       "    <tr>\n",
       "      <th rowspan=\"10\" valign=\"top\">2020</th>\n",
       "      <th>3</th>\n",
       "      <td>102229.0</td>\n",
       "    </tr>\n",
       "    <tr>\n",
       "      <th>4</th>\n",
       "      <td>576767.0</td>\n",
       "    </tr>\n",
       "    <tr>\n",
       "      <th>5</th>\n",
       "      <td>209.0</td>\n",
       "    </tr>\n",
       "    <tr>\n",
       "      <th>6</th>\n",
       "      <td>134.0</td>\n",
       "    </tr>\n",
       "    <tr>\n",
       "      <th>7</th>\n",
       "      <td>130.0</td>\n",
       "    </tr>\n",
       "    <tr>\n",
       "      <th>8</th>\n",
       "      <td>147.0</td>\n",
       "    </tr>\n",
       "    <tr>\n",
       "      <th>9</th>\n",
       "      <td>35752.0</td>\n",
       "    </tr>\n",
       "    <tr>\n",
       "      <th>10</th>\n",
       "      <td>567.0</td>\n",
       "    </tr>\n",
       "    <tr>\n",
       "      <th>11</th>\n",
       "      <td>1368.0</td>\n",
       "    </tr>\n",
       "    <tr>\n",
       "      <th>12</th>\n",
       "      <td>2005.0</td>\n",
       "    </tr>\n",
       "    <tr>\n",
       "      <th rowspan=\"7\" valign=\"top\">2021</th>\n",
       "      <th>1</th>\n",
       "      <td>2036.0</td>\n",
       "    </tr>\n",
       "    <tr>\n",
       "      <th>2</th>\n",
       "      <td>782.0</td>\n",
       "    </tr>\n",
       "    <tr>\n",
       "      <th>3</th>\n",
       "      <td>751.0</td>\n",
       "    </tr>\n",
       "    <tr>\n",
       "      <th>4</th>\n",
       "      <td>364.0</td>\n",
       "    </tr>\n",
       "    <tr>\n",
       "      <th>5</th>\n",
       "      <td>41.0</td>\n",
       "    </tr>\n",
       "    <tr>\n",
       "      <th>6</th>\n",
       "      <td>23.0</td>\n",
       "    </tr>\n",
       "    <tr>\n",
       "      <th>7</th>\n",
       "      <td>2.0</td>\n",
       "    </tr>\n",
       "  </tbody>\n",
       "</table>\n",
       "</div>"
      ],
      "text/plain": [
       "             howMany\n",
       "year month          \n",
       "2020 3      102229.0\n",
       "     4      576767.0\n",
       "     5         209.0\n",
       "     6         134.0\n",
       "     7         130.0\n",
       "     8         147.0\n",
       "     9       35752.0\n",
       "     10        567.0\n",
       "     11       1368.0\n",
       "     12       2005.0\n",
       "2021 1        2036.0\n",
       "     2         782.0\n",
       "     3         751.0\n",
       "     4         364.0\n",
       "     5          41.0\n",
       "     6          23.0\n",
       "     7           2.0"
      ]
     },
     "execution_count": 299,
     "metadata": {},
     "output_type": "execute_result"
    }
   ],
   "source": [
    "gp_cols = [\"year\",\"month\"]\n",
    "df_ebird[gp_cols+[\"howMany\"]].groupby(gp_cols).sum()"
   ]
  },
  {
   "cell_type": "code",
   "execution_count": null,
   "id": "d337570c",
   "metadata": {},
   "outputs": [],
   "source": []
  },
  {
   "cell_type": "code",
   "execution_count": null,
   "id": "d2f89d50",
   "metadata": {},
   "outputs": [],
   "source": []
  },
  {
   "cell_type": "code",
   "execution_count": 31,
   "id": "e3937b9a",
   "metadata": {},
   "outputs": [
    {
     "data": {
      "image/svg+xml": [
       "<svg class=\"main-svg\" xmlns=\"http://www.w3.org/2000/svg\" xmlns:xlink=\"http://www.w3.org/1999/xlink\" width=\"700\" height=\"450\" style=\"\" viewBox=\"0 0 700 450\"><rect x=\"0\" y=\"0\" width=\"700\" height=\"450\" style=\"fill: rgb(17, 17, 17); fill-opacity: 1;\"/><defs id=\"defs-454c9c\"><g class=\"clips\"><clipPath id=\"clip454c9cpolar-for-traces\"><path d=\"M155,0A155,155 0,1,0 -155,-1.8982025386783973e-14A155,155 0,1,0 155,3.7964050773567946e-14Z\" transform=\"translate(155,155)\"/></clipPath></g><g class=\"gradients\"/></defs><g class=\"bglayer\"/><g class=\"layer-below\"><g class=\"imagelayer\"/><g class=\"shapelayer\"/></g><g class=\"cartesianlayer\"/><g class=\"polarlayer\"><g class=\"polar\"><g class=\"polarsublayer draglayer\"/><g class=\"polarsublayer plotbg\"><path d=\"M155,0A155,155 0,1,0 -155,-1.8982025386783973e-14A155,155 0,1,0 155,3.7964050773567946e-14Z\" transform=\"translate(346.5,215)\" style=\"fill: rgb(17, 17, 17); fill-opacity: 1;\"/></g><g class=\"polarsublayer backplot\"><g class=\"maplayer\"/></g><g class=\"polarsublayer angular-grid\" style=\"fill: none;\"><path class=\"angularaxisgrid\" d=\"M346.5,215L346.5,60\" style=\"stroke: rgb(80, 103, 132); stroke-opacity: 1; stroke-width: 1px;\"/><path class=\"angularaxisgrid\" d=\"M346.5,215L405.81593201658893,71.79867246075057\" style=\"stroke: rgb(80, 103, 132); stroke-opacity: 1; stroke-width: 1px;\"/><path class=\"angularaxisgrid\" d=\"M346.5,215L456.10155108391484,105.39844891608514\" style=\"stroke: rgb(80, 103, 132); stroke-opacity: 1; stroke-width: 1px;\"/><path class=\"angularaxisgrid\" d=\"M346.5,215L489.7013275392494,155.68406798341107\" style=\"stroke: rgb(80, 103, 132); stroke-opacity: 1; stroke-width: 1px;\"/><path class=\"angularaxisgrid\" d=\"M346.5,215L501.5,215\" style=\"stroke: rgb(80, 103, 132); stroke-opacity: 1; stroke-width: 1px;\"/><path class=\"angularaxisgrid\" d=\"M346.5,215L489.7013275392494,274.31593201658893\" style=\"stroke: rgb(80, 103, 132); stroke-opacity: 1; stroke-width: 1px;\"/><path class=\"angularaxisgrid\" d=\"M346.5,215L456.10155108391484,324.60155108391484\" style=\"stroke: rgb(80, 103, 132); stroke-opacity: 1; stroke-width: 1px;\"/><path class=\"angularaxisgrid\" d=\"M346.5,215L405.81593201658893,358.2013275392494\" style=\"stroke: rgb(80, 103, 132); stroke-opacity: 1; stroke-width: 1px;\"/><path class=\"angularaxisgrid\" d=\"M346.5,215L346.5,370\" style=\"stroke: rgb(80, 103, 132); stroke-opacity: 1; stroke-width: 1px;\"/><path class=\"angularaxisgrid\" d=\"M346.5,215L287.18406798341107,358.2013275392494\" style=\"stroke: rgb(80, 103, 132); stroke-opacity: 1; stroke-width: 1px;\"/><path class=\"angularaxisgrid\" d=\"M346.5,215L236.89844891608516,324.60155108391484\" style=\"stroke: rgb(80, 103, 132); stroke-opacity: 1; stroke-width: 1px;\"/><path class=\"angularaxisgrid\" d=\"M346.5,215L203.2986724607506,274.315932016589\" style=\"stroke: rgb(80, 103, 132); stroke-opacity: 1; stroke-width: 1px;\"/><path class=\"angularaxisgrid\" d=\"M346.5,215L191.5,215.00000000000003\" style=\"stroke: rgb(80, 103, 132); stroke-opacity: 1; stroke-width: 1px;\"/><path class=\"angularaxisgrid\" d=\"M346.5,215L203.29867246075057,155.68406798341104\" style=\"stroke: rgb(80, 103, 132); stroke-opacity: 1; stroke-width: 1px;\"/><path class=\"angularaxisgrid\" d=\"M346.5,215L236.8984489160851,105.39844891608514\" style=\"stroke: rgb(80, 103, 132); stroke-opacity: 1; stroke-width: 1px;\"/><path class=\"angularaxisgrid\" d=\"M346.5,215L287.184067983411,71.7986724607506\" style=\"stroke: rgb(80, 103, 132); stroke-opacity: 1; stroke-width: 1px;\"/></g><g class=\"polarsublayer radial-grid\" transform=\"translate(346.5,215)\" style=\"fill: none;\"><path class=\"xgrid\" d=\"M27.27,0A27.27,27.27 0,1,0 -27.27,-3.3396118212748323e-15A27.27,27.27 0,1,0 27.27,6.6792236425496645e-15Z\" style=\"stroke: rgb(80, 103, 132); stroke-opacity: 1; stroke-width: 1px;\"/><path class=\"xgrid\" d=\"M54.54,0A54.54,54.54 0,1,0 -54.54,-6.6792236425496645e-15A54.54,54.54 0,1,0 54.54,1.3358447285099329e-14Z\" style=\"stroke: rgb(80, 103, 132); stroke-opacity: 1; stroke-width: 1px;\"/><path class=\"xgrid\" d=\"M81.81,0A81.81,81.81 0,1,0 -81.81,-1.0018835463824496e-14A81.81,81.81 0,1,0 81.81,2.0037670927648993e-14Z\" style=\"stroke: rgb(80, 103, 132); stroke-opacity: 1; stroke-width: 1px;\"/><path class=\"xgrid\" d=\"M109.07,0A109.07,109.07 0,1,0 -109.07,-1.335722263830018e-14A109.07,109.07 0,1,0 109.07,2.671444527660036e-14Z\" style=\"stroke: rgb(80, 103, 132); stroke-opacity: 1; stroke-width: 1px;\"/><path class=\"xgrid\" d=\"M136.34,0A136.34,136.34 0,1,0 -136.34,-1.6696834459575015e-14A136.34,136.34 0,1,0 136.34,3.339366891915003e-14Z\" style=\"stroke: rgb(80, 103, 132); stroke-opacity: 1; stroke-width: 1px;\"/></g><g class=\"polarsublayer frontplot\" transform=\"translate(191.5,60)\" clip-path=\"url('#clip454c9cpolar-for-traces')\"><g class=\"barlayer\"><g class=\"trace bars\" style=\"opacity: 1;\"><g class=\"points\"><g class=\"point\" style=\"vector-effect: non-scaling-stroke; stroke-miterlimit: 2;\"><path d=\"M155,155L156.19842602871915,148.2890364744798A6.81712962962963,6.81712962962963 0,0,0 153.80157397128085,148.2890364744798L155,155A0,0 0,0,1 155,155Z\" style=\"opacity: 1; stroke-width: 0.5px; fill: rgb(240, 249, 33); fill-opacity: 1; stroke: rgb(17, 17, 17); stroke-opacity: 1;\"/></g><g class=\"point\" style=\"vector-effect: non-scaling-stroke; stroke-miterlimit: 2;\"><path d=\"M155,155L159.4104510027025,148.1101951297376A8.180555555555555,8.180555555555555 0,0,0 156.7531679327127,147.00951244308342L155,155A0,0 0,0,1 155,155Z\" style=\"opacity: 1; stroke-width: 0.5px; fill: rgb(240, 249, 33); fill-opacity: 1; stroke: rgb(17, 17, 17); stroke-opacity: 1;\"/></g><g class=\"point\" style=\"vector-effect: non-scaling-stroke; stroke-miterlimit: 2;\"><path d=\"M155,155L160.5927829888487,151.10204735446686A6.81712962962963,6.81712962962963 0,0,0 158.89795264553314,149.4072170111513L155,155A0,0 0,0,1 155,155Z\" style=\"opacity: 1; stroke-width: 0.5px; fill: rgb(240, 249, 33); fill-opacity: 1; stroke: rgb(17, 17, 17); stroke-opacity: 1;\"/></g><g class=\"point\" style=\"vector-effect: non-scaling-stroke; stroke-miterlimit: 2;\"><path d=\"M155,155L160.32699170461106,153.83122137819151A5.453703703703704,5.453703703703704 0,0,0 159.5932032468416,152.05969933153168L155,155A0,0 0,0,1 155,155Z\" style=\"opacity: 1; stroke-width: 0.5px; fill: rgb(240, 249, 33); fill-opacity: 1; stroke: rgb(17, 17, 17); stroke-opacity: 1;\"/></g><g class=\"point\" style=\"vector-effect: non-scaling-stroke; stroke-miterlimit: 2;\"><path d=\"M155,155L160.36877082041616,155.95874082297533A5.453703703703704,5.453703703703704 0,0,0 160.36877082041616,154.04125917702467L155,155A0,0 0,0,1 155,155Z\" style=\"opacity: 1; stroke-width: 0.5px; fill: rgb(240, 249, 33); fill-opacity: 1; stroke: rgb(17, 17, 17); stroke-opacity: 1;\"/></g><g class=\"point\" style=\"vector-effect: non-scaling-stroke; stroke-miterlimit: 2;\"><path d=\"M155,155L158.4449024351312,157.20522550135124A4.090277777777778,4.090277777777778 0,0,0 158.9952437784583,155.87658396635635L155,155A0,0 0,0,1 155,155Z\" style=\"opacity: 1; stroke-width: 0.5px; fill: rgb(240, 249, 33); fill-opacity: 1; stroke: rgb(17, 17, 17); stroke-opacity: 1;\"/></g><g class=\"point\" style=\"vector-effect: non-scaling-stroke; stroke-miterlimit: 2;\"><path d=\"M155,155L158.1183621164265,159.47422639107896A5.453703703703704,5.453703703703704 0,0,0 159.47422639107896,158.1183621164265L155,155A0,0 0,0,1 155,155Z\" style=\"opacity: 1; stroke-width: 0.5px; fill: rgb(240, 249, 33); fill-opacity: 1; stroke: rgb(17, 17, 17); stroke-opacity: 1;\"/></g><g class=\"point\" style=\"vector-effect: non-scaling-stroke; stroke-miterlimit: 2;\"><path d=\"M155,155L156.16877862180849,160.32699170461106A5.453703703703704,5.453703703703704 0,0,0 157.94030066846832,159.5932032468416L155,155A0,0 0,0,1 155,155Z\" style=\"opacity: 1; stroke-width: 0.5px; fill: rgb(240, 249, 33); fill-opacity: 1; stroke: rgb(17, 17, 17); stroke-opacity: 1;\"/></g><g class=\"point\" style=\"vector-effect: non-scaling-stroke; stroke-miterlimit: 2;\"><path d=\"M155,155L153.56188876553702,163.05315623062427A8.180555555555555,8.180555555555555 0,0,0 156.43811123446298,163.05315623062424L155,155A0,0 0,0,1 155,155Z\" style=\"opacity: 1; stroke-width: 0.5px; fill: rgb(240, 249, 33); fill-opacity: 1; stroke: rgb(17, 17, 17); stroke-opacity: 1;\"/></g><g class=\"point\" style=\"vector-effect: non-scaling-stroke; stroke-miterlimit: 2;\"><path d=\"M155,155L152.05969933153168,159.5932032468416A5.453703703703704,5.453703703703704 0,0,0 153.83122137819151,160.32699170461106L155,155A0,0 0,0,1 155,155Z\" style=\"opacity: 1; stroke-width: 0.5px; fill: rgb(240, 249, 33); fill-opacity: 1; stroke: rgb(17, 17, 17); stroke-opacity: 1;\"/></g><g class=\"point\" style=\"vector-effect: non-scaling-stroke; stroke-miterlimit: 2;\"><path d=\"M155,155L149.4072170111513,158.89795264553314A6.81712962962963,6.81712962962963 0,0,0 151.10204735446686,160.59278298884868L155,155A0,0 0,0,1 155,155Z\" style=\"opacity: 1; stroke-width: 0.5px; fill: rgb(240, 249, 33); fill-opacity: 1; stroke: rgb(17, 17, 17); stroke-opacity: 1;\"/></g><g class=\"point\" style=\"vector-effect: non-scaling-stroke; stroke-miterlimit: 2;\"><path d=\"M155,155L147.00951244308342,156.7531679327127A8.180555555555555,8.180555555555555 0,0,0 148.1101951297376,159.41045100270247L155,155A0,0 0,0,1 155,155Z\" style=\"opacity: 1; stroke-width: 0.5px; fill: rgb(240, 249, 33); fill-opacity: 1; stroke: rgb(17, 17, 17); stroke-opacity: 1;\"/></g><g class=\"point\" style=\"vector-effect: non-scaling-stroke; stroke-miterlimit: 2;\"><path d=\"M155,155L146.94684376937576,153.56188876553702A8.180555555555555,8.180555555555555 0,0,0 146.94684376937576,156.43811123446298L155,155A0,0 0,0,1 155,155Z\" style=\"opacity: 1; stroke-width: 0.5px; fill: rgb(240, 249, 33); fill-opacity: 1; stroke: rgb(17, 17, 17); stroke-opacity: 1;\"/></g><g class=\"point\" style=\"vector-effect: non-scaling-stroke; stroke-miterlimit: 2;\"><path d=\"M155,155L149.258495941448,151.3246241644146A6.81712962962963,6.81712962962963 0,0,0 148.34126036923618,153.5390267227394L155,155A0,0 0,0,1 155,155Z\" style=\"opacity: 1; stroke-width: 0.5px; fill: rgb(240, 249, 33); fill-opacity: 1; stroke: rgb(17, 17, 17); stroke-opacity: 1;\"/></g><g class=\"point\" style=\"vector-effect: non-scaling-stroke; stroke-miterlimit: 2;\"><path d=\"M155,155L151.8816378835735,150.52577360892104A5.453703703703704,5.453703703703704 0,0,0 150.52577360892104,151.8816378835735L155,155A0,0 0,0,1 155,155Z\" style=\"opacity: 1; stroke-width: 0.5px; fill: rgb(240, 249, 33); fill-opacity: 1; stroke: rgb(17, 17, 17); stroke-opacity: 1;\"/></g><g class=\"point\" style=\"vector-effect: non-scaling-stroke; stroke-miterlimit: 2;\"><path d=\"M155,155L154.7078053445479,153.66825207384724A1.363425925925926,1.363425925925926 0,0,0 154.2649248328829,153.8516991882896L155,155A0,0 0,0,1 155,155Z\" style=\"opacity: 1; stroke-width: 0.5px; fill: rgb(240, 249, 33); fill-opacity: 1; stroke: rgb(17, 17, 17); stroke-opacity: 1;\"/></g></g></g><g class=\"trace bars\" style=\"opacity: 1;\"><g class=\"points\"><g class=\"point\" style=\"vector-effect: non-scaling-stroke; stroke-miterlimit: 2;\"><path d=\"M156.19842602871915,148.2890364744798L160.03338932062044,126.81395319281512A28.631944444444446,28.631944444444446 0,0,0 149.96661067937956,126.81395319281512L153.80157397128085,148.2890364744798A6.81712962962963,6.81712962962963 0,0,1 156.19842602871915,148.2890364744798Z\" style=\"opacity: 1; stroke-width: 0.5px; fill: rgb(253, 202, 38); fill-opacity: 1; stroke: rgb(17, 17, 17); stroke-opacity: 1;\"/></g><g class=\"point\" style=\"vector-effect: non-scaling-stroke; stroke-miterlimit: 2;\"><path d=\"M159.4104510027025,148.1101951297376L172.64180401080995,127.4407805189504A32.72222222222222,32.72222222222222 0,0,0 162.01267173085083,123.03804977233368L156.7531679327127,147.00951244308342A8.180555555555555,8.180555555555555 0,0,1 159.4104510027025,148.1101951297376Z\" style=\"opacity: 1; stroke-width: 0.5px; fill: rgb(253, 202, 38); fill-opacity: 1; stroke: rgb(17, 17, 17); stroke-opacity: 1;\"/></g><g class=\"point\" style=\"vector-effect: non-scaling-stroke; stroke-miterlimit: 2;\"><path d=\"M160.5927829888487,151.10204735446686L177.3711319553948,139.40818941786742A27.26851851851852,27.26851851851852 0,0,0 170.59181058213258,132.6288680446052L158.89795264553314,149.4072170111513A6.81712962962963,6.81712962962963 0,0,1 160.5927829888487,151.10204735446686Z\" style=\"opacity: 1; stroke-width: 0.5px; fill: rgb(253, 202, 38); fill-opacity: 1; stroke: rgb(17, 17, 17); stroke-opacity: 1;\"/></g><g class=\"point\" style=\"vector-effect: non-scaling-stroke; stroke-miterlimit: 2;\"><path d=\"M160.32699170461106,153.83122137819151L181.63495852305527,149.15610689095763A27.26851851851852,27.26851851851852 0,0,0 177.96601623420798,140.29849665765838L159.5932032468416,152.05969933153168A5.453703703703704,5.453703703703704 0,0,1 160.32699170461106,153.83122137819151Z\" style=\"opacity: 1; stroke-width: 0.5px; fill: rgb(253, 202, 38); fill-opacity: 1; stroke: rgb(17, 17, 17); stroke-opacity: 1;\"/></g><g class=\"point\" style=\"vector-effect: non-scaling-stroke; stroke-miterlimit: 2;\"><path d=\"M160.36877082041616,155.95874082297533L181.84385410208085,159.79370411487662A27.26851851851852,27.26851851851852 0,0,0 181.84385410208085,150.20629588512338L160.36877082041616,154.04125917702467A5.453703703703704,5.453703703703704 0,0,1 160.36877082041616,155.95874082297533Z\" style=\"opacity: 1; stroke-width: 0.5px; fill: rgb(253, 202, 38); fill-opacity: 1; stroke: rgb(17, 17, 17); stroke-opacity: 1;\"/></g><g class=\"point\" style=\"vector-effect: non-scaling-stroke; stroke-miterlimit: 2;\"><path d=\"M158.4449024351312,157.20522550135124L172.224512175656,166.0261275067562A20.45138888888889,20.45138888888889 0,0,0 174.97621889229146,159.38291983178178L158.9952437784583,155.87658396635635A4.090277777777778,4.090277777777778 0,0,1 158.4449024351312,157.20522550135124Z\" style=\"opacity: 1; stroke-width: 0.5px; fill: rgb(253, 202, 38); fill-opacity: 1; stroke: rgb(17, 17, 17); stroke-opacity: 1;\"/></g><g class=\"point\" style=\"vector-effect: non-scaling-stroke; stroke-miterlimit: 2;\"><path d=\"M158.1183621164265,159.47422639107896L169.81222005302595,176.25257535762506A25.90509259259259,25.90509259259259 0,0,0 176.25257535762506,169.81222005302595L159.47422639107896,158.1183621164265A5.453703703703704,5.453703703703704 0,0,1 158.1183621164265,159.47422639107896Z\" style=\"opacity: 1; stroke-width: 0.5px; fill: rgb(253, 202, 38); fill-opacity: 1; stroke: rgb(17, 17, 17); stroke-opacity: 1;\"/></g><g class=\"point\" style=\"vector-effect: non-scaling-stroke; stroke-miterlimit: 2;\"><path d=\"M156.16877862180849,160.32699170461106L161.13608776449448,182.96670644920803A28.631944444444446,28.631944444444446 0,0,0 170.4365785094587,179.1143170459184L157.94030066846832,159.5932032468416A5.453703703703704,5.453703703703704 0,0,1 156.16877862180849,160.32699170461106Z\" style=\"opacity: 1; stroke-width: 0.5px; fill: rgb(253, 202, 38); fill-opacity: 1; stroke: rgb(17, 17, 17); stroke-opacity: 1;\"/></g><g class=\"point\" style=\"vector-effect: non-scaling-stroke; stroke-miterlimit: 2;\"><path d=\"M153.56188876553702,163.05315623062427L148.28881423917275,192.58139574291317A38.17592592592593,38.17592592592593 0,0,0 161.71118576082728,192.58139574291317L156.43811123446298,163.05315623062424A8.180555555555555,8.180555555555555 0,0,1 153.56188876553702,163.05315623062427Z\" style=\"opacity: 1; stroke-width: 0.5px; fill: rgb(253, 202, 38); fill-opacity: 1; stroke: rgb(17, 17, 17); stroke-opacity: 1;\"/></g><g class=\"point\" style=\"vector-effect: non-scaling-stroke; stroke-miterlimit: 2;\"><path d=\"M152.05969933153168,159.5932032468416L137.35819598919005,182.55921948104958A32.72222222222222,32.72222222222222 0,0,0 147.98732826914917,186.96195022766634L153.83122137819151,160.32699170461106A5.453703703703704,5.453703703703704 0,0,1 152.05969933153168,159.5932032468416Z\" style=\"opacity: 1; stroke-width: 0.5px; fill: rgb(253, 202, 38); fill-opacity: 1; stroke: rgb(17, 17, 17); stroke-opacity: 1;\"/></g><g class=\"point\" style=\"vector-effect: non-scaling-stroke; stroke-miterlimit: 2;\"><path d=\"M149.4072170111513,158.89795264553314L123.6804152624473,176.8285348149856A38.175925925925924,38.175925925925924 0,0,0 133.1714651850144,186.3195847375527L151.10204735446686,160.59278298884868A6.81712962962963,6.81712962962963 0,0,1 149.4072170111513,158.89795264553314Z\" style=\"opacity: 1; stroke-width: 0.5px; fill: rgb(253, 202, 38); fill-opacity: 1; stroke: rgb(17, 17, 17); stroke-opacity: 1;\"/></g><g class=\"point\" style=\"vector-effect: non-scaling-stroke; stroke-miterlimit: 2;\"><path d=\"M147.00951244308342,156.7531679327127L115.04756221541709,163.76583966356353A40.90277777777778,40.90277777777778 0,0,0 120.550975648688,177.05225501351242L148.1101951297376,159.41045100270247A8.180555555555555,8.180555555555555 0,0,1 147.00951244308342,156.7531679327127Z\" style=\"opacity: 1; stroke-width: 0.5px; fill: rgb(253, 202, 38); fill-opacity: 1; stroke: rgb(17, 17, 17); stroke-opacity: 1;\"/></g><g class=\"point\" style=\"vector-effect: non-scaling-stroke; stroke-miterlimit: 2;\"><path d=\"M146.94684376937576,153.56188876553702L116.07641155198277,148.04912903342893A39.539351851851855,39.539351851851855 0,0,0 116.07641155198277,161.9508709665711L146.94684376937576,156.43811123446298A8.180555555555555,8.180555555555555 0,0,1 146.94684376937576,153.56188876553702Z\" style=\"opacity: 1; stroke-width: 0.5px; fill: rgb(253, 202, 38); fill-opacity: 1; stroke: rgb(17, 17, 17); stroke-opacity: 1;\"/></g><g class=\"point\" style=\"vector-effect: non-scaling-stroke; stroke-miterlimit: 2;\"><path d=\"M149.258495941448,151.3246241644146L119.40267483697761,132.21266981937046A42.2662037037037,42.2662037037037 0,0,0 113.71581428926433,145.94196568098434L148.34126036923618,153.5390267227394A6.81712962962963,6.81712962962963 0,0,1 149.258495941448,151.3246241644146Z\" style=\"opacity: 1; stroke-width: 0.5px; fill: rgb(253, 202, 38); fill-opacity: 1; stroke: rgb(17, 17, 17); stroke-opacity: 1;\"/></g><g class=\"point\" style=\"vector-effect: non-scaling-stroke; stroke-miterlimit: 2;\"><path d=\"M151.8816378835735,150.52577360892104L133.95105571412103,124.79897186021702A36.8125,36.8125 0,0,0 124.79897186021702,133.95105571412103L150.52577360892104,151.8816378835735A5.453703703703704,5.453703703703704 0,0,1 151.8816378835735,150.52577360892104Z\" style=\"opacity: 1; stroke-width: 0.5px; fill: rgb(253, 202, 38); fill-opacity: 1; stroke: rgb(17, 17, 17); stroke-opacity: 1;\"/></g><g class=\"point\" style=\"vector-effect: non-scaling-stroke; stroke-miterlimit: 2;\"><path d=\"M154.7078053445479,153.66825207384724L152.37024810093095,143.01426866462512A12.270833333333334,12.270833333333334 0,0,0 148.38432349594626,144.6652926946064L154.2649248328829,153.8516991882896A1.363425925925926,1.363425925925926 0,0,1 154.7078053445479,153.66825207384724Z\" style=\"opacity: 1; stroke-width: 0.5px; fill: rgb(253, 202, 38); fill-opacity: 1; stroke: rgb(17, 17, 17); stroke-opacity: 1;\"/></g></g></g><g class=\"trace bars\" style=\"opacity: 1;\"><g class=\"points\"><g class=\"point\" style=\"vector-effect: non-scaling-stroke; stroke-miterlimit: 2;\"><path d=\"M160.03338932062044,126.81395319281512L162.19055617231493,114.73421884687875A40.90277777777778,40.90277777777778 0,0,0 147.80944382768507,114.73421884687875L149.96661067937956,126.81395319281512A28.631944444444446,28.631944444444446 0,0,1 160.03338932062044,126.81395319281512Z\" style=\"opacity: 1; stroke-width: 0.5px; fill: rgb(251, 159, 58); fill-opacity: 1; stroke: rgb(17, 17, 17); stroke-opacity: 1;\"/></g><g class=\"point\" style=\"vector-effect: non-scaling-stroke; stroke-miterlimit: 2;\"><path d=\"M172.64180401080995,127.4407805189504L182.197781183332,112.51286996671521A50.44675925925926,50.44675925925926 0,0,0 165.81120225172836,105.72532673234775L162.01267173085083,123.03804977233368A32.72222222222222,32.72222222222222 0,0,1 172.64180401080995,127.4407805189504Z\" style=\"opacity: 1; stroke-width: 0.5px; fill: rgb(251, 159, 58); fill-opacity: 1; stroke: rgb(17, 17, 17); stroke-opacity: 1;\"/></g><g class=\"point\" style=\"vector-effect: non-scaling-stroke; stroke-miterlimit: 2;\"><path d=\"M177.3711319553948,139.40818941786742L195.26803751971062,126.93474095216138A49.083333333333336,49.083333333333336 0,0,0 183.06525904783865,114.73196248028938L170.59181058213258,132.6288680446052A27.26851851851852,27.26851851851852 0,0,1 177.3711319553948,139.40818941786742Z\" style=\"opacity: 1; stroke-width: 0.5px; fill: rgb(251, 159, 58); fill-opacity: 1; stroke: rgb(17, 17, 17); stroke-opacity: 1;\"/></g><g class=\"point\" style=\"vector-effect: non-scaling-stroke; stroke-miterlimit: 2;\"><path d=\"M181.63495852305527,149.15610689095763L193.62068985843015,146.52635499188858A39.539351851851855,39.539351851851855 0,0,0 188.3007235396016,133.68282015360464L177.96601623420798,140.29849665765838A27.26851851851852,27.26851851851852 0,0,1 181.63495852305527,149.15610689095763Z\" style=\"opacity: 1; stroke-width: 0.5px; fill: rgb(251, 159, 58); fill-opacity: 1; stroke: rgb(17, 17, 17); stroke-opacity: 1;\"/></g><g class=\"point\" style=\"vector-effect: non-scaling-stroke; stroke-miterlimit: 2;\"><path d=\"M181.84385410208085,159.79370411487662L195.26578115312125,162.19055617231493A40.90277777777778,40.90277777777778 0,0,0 195.26578115312125,147.80944382768507L181.84385410208085,150.20629588512338A27.26851851851852,27.26851851851852 0,0,1 181.84385410208085,159.79370411487662Z\" style=\"opacity: 1; stroke-width: 0.5px; fill: rgb(251, 159, 58); fill-opacity: 1; stroke: rgb(17, 17, 17); stroke-opacity: 1;\"/></g><g class=\"point\" style=\"vector-effect: non-scaling-stroke; stroke-miterlimit: 2;\"><path d=\"M172.224512175656,166.0261275067562L179.1143170459184,170.4365785094587A28.631944444444446,28.631944444444446 0,0,0 182.96670644920803,161.13608776449448L174.97621889229146,159.38291983178178A20.45138888888889,20.45138888888889 0,0,1 172.224512175656,166.0261275067562Z\" style=\"opacity: 1; stroke-width: 0.5px; fill: rgb(251, 159, 58); fill-opacity: 1; stroke: rgb(17, 17, 17); stroke-opacity: 1;\"/></g><g class=\"point\" style=\"vector-effect: non-scaling-stroke; stroke-miterlimit: 2;\"><path d=\"M169.81222005302595,176.25257535762506L174.48976322766572,182.9639149442435A34.08564814814815,34.08564814814815 0,0,0 182.9639149442435,174.48976322766572L176.25257535762506,169.81222005302595A25.90509259259259,25.90509259259259 0,0,1 169.81222005302595,176.25257535762506Z\" style=\"opacity: 1; stroke-width: 0.5px; fill: rgb(251, 159, 58); fill-opacity: 1; stroke: rgb(17, 17, 17); stroke-opacity: 1;\"/></g><g class=\"point\" style=\"vector-effect: non-scaling-stroke; stroke-miterlimit: 2;\"><path d=\"M161.13608776449448,182.96670644920803L163.76583966356353,194.9524377845829A40.90277777777778,40.90277777777778 0,0,0 177.05225501351245,189.449024351312L170.4365785094587,179.1143170459184A28.631944444444446,28.631944444444446 0,0,1 161.13608776449448,182.96670644920803Z\" style=\"opacity: 1; stroke-width: 0.5px; fill: rgb(251, 159, 58); fill-opacity: 1; stroke: rgb(17, 17, 17); stroke-opacity: 1;\"/></g><g class=\"point\" style=\"vector-effect: non-scaling-stroke; stroke-miterlimit: 2;\"><path d=\"M148.28881423917275,192.58139574291317L144.93322135875914,211.37209361436976A57.26388888888889,57.26388888888889 0,0,0 165.0667786412409,211.37209361436976L161.71118576082728,192.58139574291317A38.17592592592593,38.17592592592593 0,0,1 148.28881423917275,192.58139574291317Z\" style=\"opacity: 1; stroke-width: 0.5px; fill: rgb(251, 159, 58); fill-opacity: 1; stroke: rgb(17, 17, 17); stroke-opacity: 1;\"/></g><g class=\"point\" style=\"vector-effect: non-scaling-stroke; stroke-miterlimit: 2;\"><path d=\"M137.35819598919005,182.55921948104958L124.86191814819965,202.08033328012638A55.90046296296296,55.90046296296296 0,0,0 143.02001912646315,209.6016649722633L147.98732826914917,186.96195022766634A32.72222222222222,32.72222222222222 0,0,1 137.35819598919005,182.55921948104958Z\" style=\"opacity: 1; stroke-width: 0.5px; fill: rgb(251, 159, 58); fill-opacity: 1; stroke: rgb(17, 17, 17); stroke-opacity: 1;\"/></g><g class=\"point\" style=\"vector-effect: non-scaling-stroke; stroke-miterlimit: 2;\"><path d=\"M123.6804152624473,176.8285348149856L102.42783990482225,191.64075486801153A64.0810185185185,64.0810185185185 0,0,0 118.35924513198844,207.57216009517774L133.1714651850144,186.3195847375527A38.175925925925924,38.175925925925924 0,0,1 123.6804152624473,176.8285348149856Z\" style=\"opacity: 1; stroke-width: 0.5px; fill: rgb(251, 159, 58); fill-opacity: 1; stroke: rgb(17, 17, 17); stroke-opacity: 1;\"/></g><g class=\"point\" style=\"vector-effect: non-scaling-stroke; stroke-miterlimit: 2;\"><path d=\"M115.04756221541709,163.76583966356353L85.74910784005628,170.1941220835101A70.89814814814815,70.89814814814815 0,0,0 95.28835779105918,193.22390869008822L120.550975648688,177.05225501351242A40.90277777777778,40.90277777777778 0,0,1 115.04756221541709,163.76583966356353Z\" style=\"opacity: 1; stroke-width: 0.5px; fill: rgb(251, 159, 58); fill-opacity: 1; stroke: rgb(17, 17, 17); stroke-opacity: 1;\"/></g><g class=\"point\" style=\"vector-effect: non-scaling-stroke; stroke-miterlimit: 2;\"><path d=\"M116.07641155198277,148.04912903342893L91.91694286011003,143.73479533003996A64.08101851851852,64.08101851851852 0,0,0 91.91694286011003,166.26520466996004L116.07641155198277,161.9508709665711A39.539351851851855,39.539351851851855 0,0,1 116.07641155198277,148.04912903342893Z\" style=\"opacity: 1; stroke-width: 0.5px; fill: rgb(251, 159, 58); fill-opacity: 1; stroke: rgb(17, 17, 17); stroke-opacity: 1;\"/></g><g class=\"point\" style=\"vector-effect: non-scaling-stroke; stroke-miterlimit: 2;\"><path d=\"M119.40267483697761,132.21266981937046L99.88156103790081,119.71639197838007A65.44444444444444,65.44444444444444 0,0,0 91.07609954466736,140.97465653829835L113.71581428926433,145.94196568098434A42.2662037037037,42.2662037037037 0,0,1 119.40267483697761,132.21266981937046Z\" style=\"opacity: 1; stroke-width: 0.5px; fill: rgb(251, 159, 58); fill-opacity: 1; stroke: rgb(17, 17, 17); stroke-opacity: 1;\"/></g><g class=\"point\" style=\"vector-effect: non-scaling-stroke; stroke-miterlimit: 2;\"><path d=\"M133.95105571412103,124.79897186021702L119.9184261902017,104.66495310036171A61.35416666666667,61.35416666666667 0,0,0 104.6649531003617,119.91842619020173L124.79897186021702,133.95105571412103A36.8125,36.8125 0,0,1 133.95105571412103,124.79897186021702Z\" style=\"opacity: 1; stroke-width: 0.5px; fill: rgb(251, 159, 58); fill-opacity: 1; stroke: rgb(17, 17, 17); stroke-opacity: 1;\"/></g><g class=\"point\" style=\"vector-effect: non-scaling-stroke; stroke-miterlimit: 2;\"><path d=\"M152.37024810093095,143.01426866462512L150.032690857314,132.36028525540303A23.178240740740744,23.178240740740744 0,0,0 142.5037221590096,135.4788862009232L148.38432349594626,144.6652926946064A12.270833333333334,12.270833333333334 0,0,1 152.37024810093095,143.01426866462512Z\" style=\"opacity: 1; stroke-width: 0.5px; fill: rgb(251, 159, 58); fill-opacity: 1; stroke: rgb(17, 17, 17); stroke-opacity: 1;\"/></g></g></g><g class=\"trace bars\" style=\"opacity: 1;\"><g class=\"points\"><g class=\"point\" style=\"vector-effect: non-scaling-stroke; stroke-miterlimit: 2;\"><path d=\"M162.19055617231493,114.73421884687875L164.3477230240094,102.65448450094236A53.173611111111114,53.173611111111114 0,0,0 145.65227697599062,102.65448450094236L147.80944382768507,114.73421884687875A40.90277777777778,40.90277777777778 0,0,1 162.19055617231493,114.73421884687875Z\" style=\"opacity: 1; stroke-width: 0.5px; fill: rgb(237, 121, 83); fill-opacity: 1; stroke: rgb(17, 17, 17); stroke-opacity: 1;\"/></g><g class=\"point\" style=\"vector-effect: non-scaling-stroke; stroke-miterlimit: 2;\"><path d=\"M182.197781183332,112.51286996671521L188.0783825202687,103.326463473032A61.35416666666667,61.35416666666667 0,0,0 168.1487594953453,95.07134332312563L165.81120225172836,105.72532673234775A50.44675925925926,50.44675925925926 0,0,1 182.197781183332,112.51286996671521Z\" style=\"opacity: 1; stroke-width: 0.5px; fill: rgb(237, 121, 83); fill-opacity: 1; stroke: rgb(17, 17, 17); stroke-opacity: 1;\"/></g><g class=\"point\" style=\"vector-effect: non-scaling-stroke; stroke-miterlimit: 2;\"><path d=\"M195.26803751971062,126.93474095216138L208.6907166929475,117.57965460288183A65.44444444444444,65.44444444444444 0,0,0 192.42034539711818,101.30928330705251L183.06525904783865,114.73196248028938A49.083333333333336,49.083333333333336 0,0,1 195.26803751971062,126.93474095216138Z\" style=\"opacity: 1; stroke-width: 0.5px; fill: rgb(237, 121, 83); fill-opacity: 1; stroke: rgb(17, 17, 17); stroke-opacity: 1;\"/></g><g class=\"point\" style=\"vector-effect: non-scaling-stroke; stroke-miterlimit: 2;\"><path d=\"M193.62068985843015,146.52635499188858L206.93816911995776,143.6044084373674A53.173611111111114,53.173611111111114 0,0,0 199.78373165670558,126.33206848243383L188.3007235396016,133.68282015360464A39.539351851851855,39.539351851851855 0,0,1 193.62068985843015,146.52635499188858Z\" style=\"opacity: 1; stroke-width: 0.5px; fill: rgb(237, 121, 83); fill-opacity: 1; stroke: rgb(17, 17, 17); stroke-opacity: 1;\"/></g><g class=\"point\" style=\"vector-effect: non-scaling-stroke; stroke-miterlimit: 2;\"><path d=\"M195.26578115312125,162.19055617231493L206.0033227939536,164.10803781826556A51.81018518518518,51.81018518518518 0,0,0 206.0033227939536,145.89196218173444L195.26578115312125,147.80944382768507A40.90277777777778,40.90277777777778 0,0,1 195.26578115312125,162.19055617231493Z\" style=\"opacity: 1; stroke-width: 0.5px; fill: rgb(237, 121, 83); fill-opacity: 1; stroke: rgb(17, 17, 17); stroke-opacity: 1;\"/></g><g class=\"point\" style=\"vector-effect: non-scaling-stroke; stroke-miterlimit: 2;\"><path d=\"M179.1143170459184,170.4365785094587L183.70752029276,173.37687917792704A34.08564814814815,34.08564814814815 0,0,0 188.2936981538191,162.30486638630293L182.96670644920803,161.13608776449448A28.631944444444446,28.631944444444446 0,0,1 179.1143170459184,170.4365785094587Z\" style=\"opacity: 1; stroke-width: 0.5px; fill: rgb(237, 121, 83); fill-opacity: 1; stroke: rgb(17, 17, 17); stroke-opacity: 1;\"/></g><g class=\"point\" style=\"vector-effect: non-scaling-stroke; stroke-miterlimit: 2;\"><path d=\"M174.48976322766572,182.9639149442435L178.38771587319886,188.5566979330922A40.90277777777778,40.90277777777778 0,0,0 188.5566979330922,178.38771587319886L182.9639149442435,174.48976322766572A34.08564814814815,34.08564814814815 0,0,1 174.48976322766572,182.9639149442435Z\" style=\"opacity: 1; stroke-width: 0.5px; fill: rgb(237, 121, 83); fill-opacity: 1; stroke: rgb(17, 17, 17); stroke-opacity: 1;\"/></g><g class=\"point\" style=\"vector-effect: non-scaling-stroke; stroke-miterlimit: 2;\"><path d=\"M163.76583966356353,194.9524377845829L165.22681294082412,201.61117741534673A47.719907407407405,47.719907407407405 0,0,0 180.72763084909786,195.190528409864L177.05225501351245,189.449024351312A40.90277777777778,40.90277777777778 0,0,1 163.76583966356353,194.9524377845829Z\" style=\"opacity: 1; stroke-width: 0.5px; fill: rgb(237, 121, 83); fill-opacity: 1; stroke: rgb(17, 17, 17); stroke-opacity: 1;\"/></g><g class=\"point\" style=\"vector-effect: non-scaling-stroke; stroke-miterlimit: 2;\"><path d=\"M144.93322135875914,211.37209361436976L143.0157397128085,222.10963525520214A68.1712962962963,68.1712962962963 0,0,0 166.98426028719155,222.1096352552021L165.0667786412409,211.37209361436976A57.26388888888889,57.26388888888889 0,0,1 144.93322135875914,211.37209361436976Z\" style=\"opacity: 1; stroke-width: 0.5px; fill: rgb(237, 121, 83); fill-opacity: 1; stroke: rgb(17, 17, 17); stroke-opacity: 1;\"/></g><g class=\"point\" style=\"vector-effect: non-scaling-stroke; stroke-miterlimit: 2;\"><path d=\"M124.86191814819965,202.08033328012638L118.2462416441459,212.41504058552A68.1712962962963,68.1712962962963 0,0,0 140.39026722739408,221.5873963076382L143.02001912646315,209.6016649722633A55.90046296296296,55.90046296296296 0,0,1 124.86191814819965,202.08033328012638Z\" style=\"opacity: 1; stroke-width: 0.5px; fill: rgb(237, 121, 83); fill-opacity: 1; stroke: rgb(17, 17, 17); stroke-opacity: 1;\"/></g><g class=\"point\" style=\"vector-effect: non-scaling-stroke; stroke-miterlimit: 2;\"><path d=\"M102.42783990482225,191.64075486801153L87.88660413381564,201.77543174639771A81.80555555555554,81.80555555555554 0,0,0 108.22456825360226,222.11339586618436L118.35924513198844,207.57216009517774A64.0810185185185,64.0810185185185 0,0,1 102.42783990482225,191.64075486801153Z\" style=\"opacity: 1; stroke-width: 0.5px; fill: rgb(237, 121, 83); fill-opacity: 1; stroke: rgb(17, 17, 17); stroke-opacity: 1;\"/></g><g class=\"point\" style=\"vector-effect: non-scaling-stroke; stroke-miterlimit: 2;\"><path d=\"M85.74910784005628,170.1941220835101L71.09988065237587,173.4082632934834A85.89583333333334,85.89583333333334 0,0,0 82.65704886224479,201.3097355283761L95.28835779105918,193.22390869008822A70.89814814814815,70.89814814814815 0,0,1 85.74910784005628,170.1941220835101Z\" style=\"opacity: 1; stroke-width: 0.5px; fill: rgb(237, 121, 83); fill-opacity: 1; stroke: rgb(17, 17, 17); stroke-opacity: 1;\"/></g><g class=\"point\" style=\"vector-effect: non-scaling-stroke; stroke-miterlimit: 2;\"><path d=\"M91.91694286011003,143.73479533003996L75.81063039886152,140.858572861114A80.44212962962963,80.44212962962963 0,0,0 75.81063039886152,169.14142713888603L91.91694286011003,166.26520466996004A64.08101851851852,64.08101851851852 0,0,1 91.91694286011003,143.73479533003996Z\" style=\"opacity: 1; stroke-width: 0.5px; fill: rgb(237, 121, 83); fill-opacity: 1; stroke: rgb(17, 17, 17); stroke-opacity: 1;\"/></g><g class=\"point\" style=\"vector-effect: non-scaling-stroke; stroke-miterlimit: 2;\"><path d=\"M99.88156103790081,119.71639197838007L86.10195129737602,110.89548997297508A81.80555555555556,81.80555555555556 0,0,0 75.09512443083419,137.46832067287292L91.07609954466736,140.97465653829835A65.44444444444444,65.44444444444444 0,0,1 99.88156103790081,119.71639197838007Z\" style=\"opacity: 1; stroke-width: 0.5px; fill: rgb(237, 121, 83); fill-opacity: 1; stroke: rgb(17, 17, 17); stroke-opacity: 1;\"/></g><g class=\"point\" style=\"vector-effect: non-scaling-stroke; stroke-miterlimit: 2;\"><path d=\"M119.9184261902017,104.66495310036171L109.78374931181551,90.1237173293551A79.07870370370371,79.07870370370371 0,0,0 90.12371732935509,109.78374931181554L104.6649531003617,119.91842619020173A61.35416666666667,61.35416666666667 0,0,1 119.9184261902017,104.66495310036171Z\" style=\"opacity: 1; stroke-width: 0.5px; fill: rgb(237, 121, 83); fill-opacity: 1; stroke: rgb(17, 17, 17); stroke-opacity: 1;\"/></g><g class=\"point\" style=\"vector-effect: non-scaling-stroke; stroke-miterlimit: 2;\"><path d=\"M150.032690857314,132.36028525540303L147.11074430279282,119.04280599387539A36.8125,36.8125 0,0,0 135.15297048783881,123.99587808381919L142.5037221590096,135.4788862009232A23.178240740740744,23.178240740740744 0,0,1 150.032690857314,132.36028525540303Z\" style=\"opacity: 1; stroke-width: 0.5px; fill: rgb(237, 121, 83); fill-opacity: 1; stroke: rgb(17, 17, 17); stroke-opacity: 1;\"/></g></g></g><g class=\"trace bars\" style=\"opacity: 1;\"><g class=\"points\"><g class=\"point\" style=\"vector-effect: non-scaling-stroke; stroke-miterlimit: 2;\"><path d=\"M164.3477230240094,102.65448450094236L165.3064638469847,97.28571368052619A58.62731481481482,58.62731481481482 0,0,0 144.6935361530153,97.28571368052619L145.65227697599062,102.65448450094236A53.173611111111114,53.173611111111114 0,0,1 164.3477230240094,102.65448450094236Z\" style=\"opacity: 1; stroke-width: 0.5px; fill: rgb(216, 87, 107); fill-opacity: 1; stroke: rgb(17, 17, 17); stroke-opacity: 1;\"/></g><g class=\"point\" style=\"vector-effect: non-scaling-stroke; stroke-miterlimit: 2;\"><path d=\"M188.0783825202687,103.326463473032L191.75375835585407,97.58495941448001A68.1712962962963,68.1712962962963 0,0,0 169.6097327726059,88.41260369236181L168.1487594953453,95.07134332312563A61.35416666666667,61.35416666666667 0,0,1 188.0783825202687,103.326463473032Z\" style=\"opacity: 1; stroke-width: 0.5px; fill: rgb(216, 87, 107); fill-opacity: 1; stroke: rgb(17, 17, 17); stroke-opacity: 1;\"/></g><g class=\"point\" style=\"vector-effect: non-scaling-stroke; stroke-miterlimit: 2;\"><path d=\"M208.6907166929475,117.57965460288183L222.1133958661844,108.22456825360229A81.80555555555556,81.80555555555556 0,0,0 201.77543174639774,87.88660413381562L192.42034539711818,101.30928330705251A65.44444444444444,65.44444444444444 0,0,1 208.6907166929475,117.57965460288183Z\" style=\"opacity: 1; stroke-width: 0.5px; fill: rgb(216, 87, 107); fill-opacity: 1; stroke: rgb(17, 17, 17); stroke-opacity: 1;\"/></g><g class=\"point\" style=\"vector-effect: non-scaling-stroke; stroke-miterlimit: 2;\"><path d=\"M206.93816911995776,143.6044084373674L213.5969087507216,142.1434351601068A59.99074074074075,59.99074074074075 0,0,0 205.5252357152576,122.65669264684841L199.78373165670558,126.33206848243383A53.173611111111114,53.173611111111114 0,0,1 206.93816911995776,143.6044084373674Z\" style=\"opacity: 1; stroke-width: 0.5px; fill: rgb(216, 87, 107); fill-opacity: 1; stroke: rgb(17, 17, 17); stroke-opacity: 1;\"/></g><g class=\"point\" style=\"vector-effect: non-scaling-stroke; stroke-miterlimit: 2;\"><path d=\"M206.0033227939536,164.10803781826556L211.37209361436976,165.0667786412409A57.26388888888889,57.26388888888889 0,0,0 211.37209361436976,144.9332213587591L206.0033227939536,145.89196218173444A51.81018518518518,51.81018518518518 0,0,1 206.0033227939536,164.10803781826556Z\" style=\"opacity: 1; stroke-width: 0.5px; fill: rgb(216, 87, 107); fill-opacity: 1; stroke: rgb(17, 17, 17); stroke-opacity: 1;\"/></g><g class=\"point\" style=\"vector-effect: non-scaling-stroke; stroke-miterlimit: 2;\"><path d=\"M183.70752029276,173.37687917792704L186.0041219161808,174.84702951216119A36.8125,36.8125 0,0,0 190.9571940061246,162.88925569720718L188.2936981538191,162.30486638630293A34.08564814814815,34.08564814814815 0,0,1 183.70752029276,173.37687917792704Z\" style=\"opacity: 1; stroke-width: 0.5px; fill: rgb(216, 87, 107); fill-opacity: 1; stroke: rgb(17, 17, 17); stroke-opacity: 1;\"/></g><g class=\"point\" style=\"vector-effect: non-scaling-stroke; stroke-miterlimit: 2;\"><path d=\"M178.38771587319886,188.5566979330922L181.50607798962537,193.03092432417117A46.35648148148148,46.35648148148148 0,0,0 193.03092432417117,181.50607798962537L188.5566979330922,178.38771587319886A40.90277777777778,40.90277777777778 0,0,1 178.38771587319886,188.5566979330922Z\" style=\"opacity: 1; stroke-width: 0.5px; fill: rgb(216, 87, 107); fill-opacity: 1; stroke: rgb(17, 17, 17); stroke-opacity: 1;\"/></g><g class=\"point\" style=\"vector-effect: non-scaling-stroke; stroke-miterlimit: 2;\"><path d=\"M165.22681294082412,201.61117741534673L166.3955915626326,206.9381691199578A53.173611111111114,53.173611111111114 0,0,0 183.6679315175662,199.78373165670558L180.72763084909786,195.190528409864A47.719907407407405,47.719907407407405 0,0,1 165.22681294082412,201.61117741534673Z\" style=\"opacity: 1; stroke-width: 0.5px; fill: rgb(216, 87, 107); fill-opacity: 1; stroke: rgb(17, 17, 17); stroke-opacity: 1;\"/></g><g class=\"point\" style=\"vector-effect: non-scaling-stroke; stroke-miterlimit: 2;\"><path d=\"M143.0157397128085,222.10963525520214L141.33794327260168,231.50498419093043A77.71527777777779,77.71527777777779 0,0,0 168.66205672739835,231.5049841909304L166.98426028719155,222.1096352552021A68.1712962962963,68.1712962962963 0,0,1 143.0157397128085,222.10963525520214Z\" style=\"opacity: 1; stroke-width: 0.5px; fill: rgb(216, 87, 107); fill-opacity: 1; stroke: rgb(17, 17, 17); stroke-opacity: 1;\"/></g><g class=\"point\" style=\"vector-effect: non-scaling-stroke; stroke-miterlimit: 2;\"><path d=\"M118.2462416441459,212.41504058552L113.83579064144342,219.30484545578236A76.35185185185185,76.35185185185185 0,0,0 138.63709929468138,229.57788386455474L140.39026722739408,221.5873963076382A68.1712962962963,68.1712962962963 0,0,1 118.2462416441459,212.41504058552Z\" style=\"opacity: 1; stroke-width: 0.5px; fill: rgb(216, 87, 107); fill-opacity: 1; stroke: rgb(17, 17, 17); stroke-opacity: 1;\"/></g><g class=\"point\" style=\"vector-effect: non-scaling-stroke; stroke-miterlimit: 2;\"><path d=\"M87.88660413381564,201.77543174639771L80.05670794942746,207.2325654501441A91.34953703703702,91.34953703703702 0,0,0 102.76743454985586,229.94329205057255L108.22456825360226,222.11339586618436A81.80555555555554,81.80555555555554 0,0,1 87.88660413381564,201.77543174639771Z\" style=\"opacity: 1; stroke-width: 0.5px; fill: rgb(216, 87, 107); fill-opacity: 1; stroke: rgb(17, 17, 17); stroke-opacity: 1;\"/></g><g class=\"point\" style=\"vector-effect: non-scaling-stroke; stroke-miterlimit: 2;\"><path d=\"M71.09988065237587,173.4082632934834L60.44589724315378,175.74582053710031A96.80324074074075,96.80324074074075 0,0,0 73.47064236856158,207.19033686531276L82.65704886224479,201.3097355283761A85.89583333333334,85.89583333333334 0,0,1 71.09988065237587,173.4082632934834Z\" style=\"opacity: 1; stroke-width: 0.5px; fill: rgb(216, 87, 107); fill-opacity: 1; stroke: rgb(17, 17, 17); stroke-opacity: 1;\"/></g><g class=\"point\" style=\"vector-effect: non-scaling-stroke; stroke-miterlimit: 2;\"><path d=\"M75.81063039886152,140.858572861114L63.73089605292513,138.70140600941951A92.71296296296298,92.71296296296298 0,0,0 63.73089605292513,171.2985939905805L75.81063039886152,169.14142713888603A80.44212962962963,80.44212962962963 0,0,1 75.81063039886152,140.858572861114Z\" style=\"opacity: 1; stroke-width: 0.5px; fill: rgb(216, 87, 107); fill-opacity: 1; stroke: rgb(17, 17, 17); stroke-opacity: 1;\"/></g><g class=\"point\" style=\"vector-effect: non-scaling-stroke; stroke-miterlimit: 2;\"><path d=\"M86.10195129737602,110.89548997297508L74.61894318027203,103.54473830180427A95.43981481481481,95.43981481481481 0,0,0 61.77764516930655,134.54637411835174L75.09512443083419,137.46832067287292A81.80555555555556,81.80555555555556 0,0,1 86.10195129737602,110.89548997297508Z\" style=\"opacity: 1; stroke-width: 0.5px; fill: rgb(216, 87, 107); fill-opacity: 1; stroke: rgb(17, 17, 17); stroke-opacity: 1;\"/></g><g class=\"point\" style=\"vector-effect: non-scaling-stroke; stroke-miterlimit: 2;\"><path d=\"M109.78374931181551,90.1237173293551L101.98784402074924,78.93815135165771A92.71296296296296,92.71296296296296 0,0,0 78.9381513516577,101.98784402074926L90.12371732935509,109.78374931181554A79.07870370370371,79.07870370370371 0,0,1 109.78374931181551,90.1237173293551Z\" style=\"opacity: 1; stroke-width: 0.5px; fill: rgb(216, 87, 107); fill-opacity: 1; stroke: rgb(17, 17, 17); stroke-opacity: 1;\"/></g><g class=\"point\" style=\"vector-effect: non-scaling-stroke; stroke-miterlimit: 2;\"><path d=\"M147.11074430279282,119.04280599387539L145.06538171462802,109.72057051080603A46.35648148148149,46.35648148148149 0,0,0 130.00744431801922,115.9577724018464L135.15297048783881,123.99587808381919A36.8125,36.8125 0,0,1 147.11074430279282,119.04280599387539Z\" style=\"opacity: 1; stroke-width: 0.5px; fill: rgb(216, 87, 107); fill-opacity: 1; stroke: rgb(17, 17, 17); stroke-opacity: 1;\"/></g></g></g><g class=\"trace bars\" style=\"opacity: 1;\"><g class=\"points\"><g class=\"point\" style=\"vector-effect: non-scaling-stroke; stroke-miterlimit: 2;\"><path d=\"M165.3064638469847,97.28571368052619L166.02551946421622,93.25913556521408A62.71759259259259,62.71759259259259 0,0,0 143.97448053578378,93.25913556521408L144.6935361530153,97.28571368052619A58.62731481481482,58.62731481481482 0,0,1 165.3064638469847,97.28571368052619Z\" style=\"opacity: 1; stroke-width: 0.5px; fill: rgb(189, 55, 134); fill-opacity: 1; stroke: rgb(17, 17, 17); stroke-opacity: 1;\"/></g><g class=\"point\" style=\"vector-effect: non-scaling-stroke; stroke-miterlimit: 2;\"><path d=\"M191.75375835585407,97.58495941448001L193.95898385720534,94.14005697934881A72.26157407407408,72.26157407407408 0,0,0 170.48631673896224,84.41735991390354L169.6097327726059,88.41260369236181A68.1712962962963,68.1712962962963 0,0,1 191.75375835585407,97.58495941448001Z\" style=\"opacity: 1; stroke-width: 0.5px; fill: rgb(189, 55, 134); fill-opacity: 1; stroke: rgb(17, 17, 17); stroke-opacity: 1;\"/></g><g class=\"point\" style=\"vector-effect: non-scaling-stroke; stroke-miterlimit: 2;\"><path d=\"M222.1133958661844,108.22456825360229L228.82473545280283,103.54702507896252A89.98611111111111,89.98611111111111 0,0,0 206.4529749210375,81.17526454719719L201.77543174639774,87.88660413381562A81.80555555555556,81.80555555555556 0,0,1 222.1133958661844,108.22456825360229Z\" style=\"opacity: 1; stroke-width: 0.5px; fill: rgb(189, 55, 134); fill-opacity: 1; stroke: rgb(17, 17, 17); stroke-opacity: 1;\"/></g><g class=\"point\" style=\"vector-effect: non-scaling-stroke; stroke-miterlimit: 2;\"><path d=\"M213.5969087507216,142.1434351601068L216.26040460302713,141.55904584920256A62.7175925925926,62.7175925925926 0,0,0 207.8218373386784,121.18654231261425L205.5252357152576,122.65669264684841A59.99074074074075,59.99074074074075 0,0,1 213.5969087507216,142.1434351601068Z\" style=\"opacity: 1; stroke-width: 0.5px; fill: rgb(189, 55, 134); fill-opacity: 1; stroke: rgb(17, 17, 17); stroke-opacity: 1;\"/></g><g class=\"point\" style=\"vector-effect: non-scaling-stroke; stroke-miterlimit: 2;\"><path d=\"M211.37209361436976,165.0667786412409L212.7142863194738,165.3064638469847A58.62731481481482,58.62731481481482 0,0,0 212.7142863194738,144.6935361530153L211.37209361436976,144.9332213587591A57.26388888888889,57.26388888888889 0,0,1 211.37209361436976,165.0667786412409Z\" style=\"opacity: 1; stroke-width: 0.5px; fill: rgb(189, 55, 134); fill-opacity: 1; stroke: rgb(17, 17, 17); stroke-opacity: 1;\"/></g><g class=\"point\" style=\"vector-effect: non-scaling-stroke; stroke-miterlimit: 2;\"><path d=\"M186.0041219161808,174.84702951216119L187.1524227278912,175.58210467927827A38.17592592592593,38.17592592592593 0,0,0 192.2889419322774,163.18145035265928L190.9571940061246,162.88925569720718A36.8125,36.8125 0,0,1 186.0041219161808,174.84702951216119Z\" style=\"opacity: 1; stroke-width: 0.5px; fill: rgb(189, 55, 134); fill-opacity: 1; stroke: rgb(17, 17, 17); stroke-opacity: 1;\"/></g><g class=\"point\" style=\"vector-effect: non-scaling-stroke; stroke-miterlimit: 2;\"><path d=\"M181.50607798962537,193.03092432417117L181.8958732541787,193.59020262305603A47.03819444444444,47.03819444444444 0,0,0 193.59020262305603,181.8958732541787L193.03092432417117,181.50607798962537A46.35648148148148,46.35648148148148 0,0,1 181.50607798962537,193.03092432417117Z\" style=\"opacity: 1; stroke-width: 0.5px; fill: rgb(189, 55, 134); fill-opacity: 1; stroke: rgb(17, 17, 17); stroke-opacity: 1;\"/></g><g class=\"point\" style=\"vector-effect: non-scaling-stroke; stroke-miterlimit: 2;\"><path d=\"M166.3955915626326,206.9381691199578L166.6877862180847,208.26991704611055A54.53703703703704,54.53703703703704 0,0,0 184.40300668468325,200.932032468416L183.6679315175662,199.78373165670558A53.173611111111114,53.173611111111114 0,0,1 166.3955915626326,206.9381691199578Z\" style=\"opacity: 1; stroke-width: 0.5px; fill: rgb(189, 55, 134); fill-opacity: 1; stroke: rgb(17, 17, 17); stroke-opacity: 1;\"/></g><g class=\"point\" style=\"vector-effect: non-scaling-stroke; stroke-miterlimit: 2;\"><path d=\"M141.33794327260168,231.50498419093043L141.09825806685785,232.84717689603445A79.07870370370371,79.07870370370371 0,0,0 168.90174193314218,232.84717689603445L168.66205672739835,231.5049841909304A77.71527777777779,77.71527777777779 0,0,1 141.33794327260168,231.50498419093043Z\" style=\"opacity: 1; stroke-width: 0.5px; fill: rgb(189, 55, 134); fill-opacity: 1; stroke: rgb(17, 17, 17); stroke-opacity: 1;\"/></g><g class=\"point\" style=\"vector-effect: non-scaling-stroke; stroke-miterlimit: 2;\"><path d=\"M113.83579064144342,219.30484545578236L112.36564030720925,221.60144707920318A79.07870370370371,79.07870370370371 0,0,0 138.05270998377713,232.2413797168603L138.63709929468138,229.57788386455474A76.35185185185185,76.35185185185185 0,0,1 113.83579064144342,219.30484545578236Z\" style=\"opacity: 1; stroke-width: 0.5px; fill: rgb(189, 55, 134); fill-opacity: 1; stroke: rgb(17, 17, 17); stroke-opacity: 1;\"/></g><g class=\"point\" style=\"vector-effect: non-scaling-stroke; stroke-miterlimit: 2;\"><path d=\"M80.05670794942746,207.2325654501441L76.70103815611823,209.571337037464A95.43981481481481,95.43981481481481 0,0,0 100.42866296253598,233.29896184388176L102.76743454985586,229.94329205057255A91.34953703703702,91.34953703703702 0,0,1 80.05670794942746,207.2325654501441Z\" style=\"opacity: 1; stroke-width: 0.5px; fill: rgb(189, 55, 134); fill-opacity: 1; stroke: rgb(17, 17, 17); stroke-opacity: 1;\"/></g><g class=\"point\" style=\"vector-effect: non-scaling-stroke; stroke-miterlimit: 2;\"><path d=\"M60.44589724315378,175.74582053710031L55.11890553854272,176.9145991589088A102.25694444444446,102.25694444444446 0,0,0 68.87743912171999,210.13063753378108L73.47064236856158,207.19033686531276A96.80324074074075,96.80324074074075 0,0,1 60.44589724315378,175.74582053710031Z\" style=\"opacity: 1; stroke-width: 0.5px; fill: rgb(189, 55, 134); fill-opacity: 1; stroke: rgb(17, 17, 17); stroke-opacity: 1;\"/></g><g class=\"point\" style=\"vector-effect: non-scaling-stroke; stroke-miterlimit: 2;\"><path d=\"M63.73089605292513,138.70140600941951L51.651161706988745,136.54423915772503A104.98379629629632,104.98379629629632 0,0,0 51.651161706988745,173.45576084227497L63.73089605292513,171.2985939905805A92.71296296296298,92.71296296296298 0,0,1 63.73089605292513,138.70140600941951Z\" style=\"opacity: 1; stroke-width: 0.5px; fill: rgb(189, 55, 134); fill-opacity: 1; stroke: rgb(17, 17, 17); stroke-opacity: 1;\"/></g><g class=\"point\" style=\"vector-effect: non-scaling-stroke; stroke-miterlimit: 2;\"><path d=\"M74.61894318027203,103.54473830180427L64.28423587487842,96.92906179775053A107.71064814814815,107.71064814814815 0,0,0 49.79191383393167,131.91662221928266L61.77764516930655,134.54637411835174A95.43981481481481,95.43981481481481 0,0,1 74.61894318027203,103.54473830180427Z\" style=\"opacity: 1; stroke-width: 0.5px; fill: rgb(189, 55, 134); fill-opacity: 1; stroke: rgb(17, 17, 17); stroke-opacity: 1;\"/></g><g class=\"point\" style=\"vector-effect: non-scaling-stroke; stroke-miterlimit: 2;\"><path d=\"M101.98784402074924,78.93815135165771L94.97152925878957,68.87114197173004A104.9837962962963,104.9837962962963 0,0,0 68.87114197173003,94.97152925878962L78.9381513516577,101.98784402074926A92.71296296296296,92.71296296296296 0,0,1 101.98784402074924,78.93815135165771Z\" style=\"opacity: 1; stroke-width: 0.5px; fill: rgb(189, 55, 134); fill-opacity: 1; stroke: rgb(17, 17, 17); stroke-opacity: 1;\"/></g><g class=\"point\" style=\"vector-effect: non-scaling-stroke; stroke-miterlimit: 2;\"><path d=\"M145.06538171462802,109.72057051080603L144.18879774827167,105.72532673234775A50.44675925925926,50.44675925925926 0,0,0 127.802218816668,112.51286996671519L130.00744431801922,115.9577724018464A46.35648148148149,46.35648148148149 0,0,1 145.06538171462802,109.72057051080603Z\" style=\"opacity: 1; stroke-width: 0.5px; fill: rgb(189, 55, 134); fill-opacity: 1; stroke: rgb(17, 17, 17); stroke-opacity: 1;\"/></g></g></g><g class=\"trace bars\" style=\"opacity: 1;\"><g class=\"points\"><g class=\"point\" style=\"vector-effect: non-scaling-stroke; stroke-miterlimit: 2;\"><path d=\"M166.02551946421622,93.25913556521408L166.50488987570387,90.57475015500599A65.44444444444444,65.44444444444444 0,0,0 143.49511012429613,90.57475015500599L143.97448053578378,93.25913556521408A62.71759259259259,62.71759259259259 0,0,1 166.02551946421622,93.25913556521408Z\" style=\"opacity: 1; stroke-width: 0.5px; fill: rgb(156, 23, 158); fill-opacity: 1; stroke: rgb(17, 17, 17); stroke-opacity: 1;\"/></g><g class=\"point\" style=\"vector-effect: non-scaling-stroke; stroke-miterlimit: 2;\"><path d=\"M193.95898385720534,94.14005697934881L194.6940590243224,92.99175616763841A73.625,73.625 0,0,0 170.77851139441438,83.08561198775077L170.48631673896224,84.41735991390354A72.26157407407408,72.26157407407408 0,0,1 193.95898385720534,94.14005697934881Z\" style=\"opacity: 1; stroke-width: 0.5px; fill: rgb(156, 23, 158); fill-opacity: 1; stroke: rgb(17, 17, 17); stroke-opacity: 1;\"/></g><g class=\"point\" style=\"vector-effect: non-scaling-stroke; stroke-miterlimit: 2;\"><path d=\"M228.82473545280283,103.54702507896252L229.94329205057255,102.76743454985589A91.34953703703702,91.34953703703702 0,0,0 207.23256545014414,80.05670794942746L206.4529749210375,81.17526454719719A89.98611111111111,89.98611111111111 0,0,1 228.82473545280283,103.54702507896252Z\" style=\"opacity: 1; stroke-width: 0.5px; fill: rgb(156, 23, 158); fill-opacity: 1; stroke: rgb(17, 17, 17); stroke-opacity: 1;\"/></g><g class=\"point\" style=\"vector-effect: non-scaling-stroke; stroke-miterlimit: 2;\"><path d=\"M216.26040460302713,141.55904584920256L217.59215252917988,141.26685119375045A64.08101851851852,64.08101851851852 0,0,0 208.9701381503888,120.45146714549718L207.8218373386784,121.18654231261425A62.7175925925926,62.7175925925926 0,0,1 216.26040460302713,141.55904584920256Z\" style=\"opacity: 1; stroke-width: 0.5px; fill: rgb(156, 23, 158); fill-opacity: 1; stroke: rgb(17, 17, 17); stroke-opacity: 1;\"/></g><g class=\"point\" style=\"vector-effect: non-scaling-stroke; stroke-miterlimit: 2;\"><path d=\"M212.7142863194738,165.3064638469847L214.05647902457784,165.54614905272854A59.99074074074073,59.99074074074073 0,0,0 214.05647902457784,144.45385094727146L212.7142863194738,144.6935361530153A58.62731481481482,58.62731481481482 0,0,1 212.7142863194738,165.3064638469847Z\" style=\"opacity: 1; stroke-width: 0.5px; fill: rgb(156, 23, 158); fill-opacity: 1; stroke: rgb(17, 17, 17); stroke-opacity: 1;\"/></g><g class=\"point\" style=\"vector-effect: non-scaling-stroke; stroke-miterlimit: 2;\"><path d=\"M187.1524227278912,175.58210467927827L188.3007235396016,176.31717984639536A39.539351851851855,39.539351851851855 0,0,0 193.62068985843015,163.47364500811142L192.2889419322774,163.18145035265928A38.17592592592593,38.17592592592593 0,0,1 187.1524227278912,175.58210467927827Z\" style=\"opacity: 1; stroke-width: 0.5px; fill: rgb(156, 23, 158); fill-opacity: 1; stroke: rgb(17, 17, 17); stroke-opacity: 1;\"/></g><g class=\"point\" style=\"vector-effect: non-scaling-stroke; stroke-miterlimit: 2;\"><path d=\"M181.8958732541787,193.59020262305603L182.285668518732,194.1494809219409A47.719907407407405,47.719907407407405 0,0,0 194.1494809219409,182.285668518732L193.59020262305603,181.8958732541787A47.03819444444444,47.03819444444444 0,0,1 181.8958732541787,193.59020262305603Z\" style=\"opacity: 1; stroke-width: 0.5px; fill: rgb(156, 23, 158); fill-opacity: 1; stroke: rgb(17, 17, 17); stroke-opacity: 1;\"/></g><g class=\"point\" style=\"vector-effect: non-scaling-stroke; stroke-miterlimit: 2;\"><path d=\"M166.6877862180847,208.26991704611055L166.83388354581078,208.93579100918691A55.21875,55.21875 0,0,0 184.7705442682418,201.5061828742712L184.40300668468325,200.932032468416A54.53703703703704,54.53703703703704 0,0,1 166.6877862180847,208.26991704611055Z\" style=\"opacity: 1; stroke-width: 0.5px; fill: rgb(156, 23, 158); fill-opacity: 1; stroke: rgb(17, 17, 17); stroke-opacity: 1;\"/></g><g class=\"point\" style=\"vector-effect: non-scaling-stroke; stroke-miterlimit: 2;\"><path d=\"M141.09825806685785,232.84717689603445L140.85857286111403,234.18936960113848A80.44212962962962,80.44212962962962 0,0,0 169.141427138886,234.18936960113848L168.90174193314218,232.84717689603445A79.07870370370371,79.07870370370371 0,0,1 141.09825806685785,232.84717689603445Z\" style=\"opacity: 1; stroke-width: 0.5px; fill: rgb(156, 23, 158); fill-opacity: 1; stroke: rgb(17, 17, 17); stroke-opacity: 1;\"/></g><g class=\"point\" style=\"vector-effect: non-scaling-stroke; stroke-miterlimit: 2;\"><path d=\"M112.36564030720925,221.60144707920318L111.99810272365072,222.17559748505838A79.76041666666666,79.76041666666666 0,0,0 137.9066126560511,232.90725367993667L138.05270998377713,232.2413797168603A79.07870370370371,79.07870370370371 0,0,1 112.36564030720925,221.60144707920318Z\" style=\"opacity: 1; stroke-width: 0.5px; fill: rgb(156, 23, 158); fill-opacity: 1; stroke: rgb(17, 17, 17); stroke-opacity: 1;\"/></g><g class=\"point\" style=\"vector-effect: non-scaling-stroke; stroke-miterlimit: 2;\"><path d=\"M76.70103815611823,209.571337037464L74.46392496057875,211.13051809567725A98.16666666666666,98.16666666666666 0,0,0 98.86948190432271,235.53607503942123L100.42866296253598,233.29896184388176A95.43981481481481,95.43981481481481 0,0,1 76.70103815611823,209.571337037464Z\" style=\"opacity: 1; stroke-width: 0.5px; fill: rgb(156, 23, 158); fill-opacity: 1; stroke: rgb(17, 17, 17); stroke-opacity: 1;\"/></g><g class=\"point\" style=\"vector-effect: non-scaling-stroke; stroke-miterlimit: 2;\"><path d=\"M55.11890553854272,176.9145991589088L52.455409686237175,177.49898846981304A104.98379629629632,104.98379629629632 0,0,0 66.58083749829918,211.60078786801526L68.87743912171999,210.13063753378108A102.25694444444446,102.25694444444446 0,0,1 55.11890553854272,176.9145991589088Z\" style=\"opacity: 1; stroke-width: 0.5px; fill: rgb(156, 23, 158); fill-opacity: 1; stroke: rgb(17, 17, 17); stroke-opacity: 1;\"/></g><g class=\"point\" style=\"vector-effect: non-scaling-stroke; stroke-miterlimit: 2;\"><path d=\"M51.651161706988745,136.54423915772503L46.28239088657257,135.58549833474973A110.43750000000003,110.43750000000003 0,0,0 46.28239088657257,174.4145016652503L51.651161706988745,173.45576084227497A104.98379629629632,104.98379629629632 0,0,1 51.651161706988745,136.54423915772503Z\" style=\"opacity: 1; stroke-width: 0.5px; fill: rgb(156, 23, 158); fill-opacity: 1; stroke: rgb(17, 17, 17); stroke-opacity: 1;\"/></g><g class=\"point\" style=\"vector-effect: non-scaling-stroke; stroke-miterlimit: 2;\"><path d=\"M64.28423587487842,96.92906179775053L56.246130192905625,91.78353562793096A117.25462962962963,117.25462962962963 0,0,0 40.46967835086234,129.87125963111785L49.79191383393167,131.91662221928266A107.71064814814815,107.71064814814815 0,0,1 64.28423587487842,96.92906179775053Z\" style=\"opacity: 1; stroke-width: 0.5px; fill: rgb(156, 23, 158); fill-opacity: 1; stroke: rgb(17, 17, 17); stroke-opacity: 1;\"/></g><g class=\"point\" style=\"vector-effect: non-scaling-stroke; stroke-miterlimit: 2;\"><path d=\"M94.97152925878957,68.87114197173004L89.51439555504317,61.041245787341865A114.52777777777779,114.52777777777779 0,0,0 61.041245787341836,89.51439555504321L68.87114197173003,94.97152925878962A104.9837962962963,104.9837962962963 0,0,1 94.97152925878957,68.87114197173004Z\" style=\"opacity: 1; stroke-width: 0.5px; fill: rgb(156, 23, 158); fill-opacity: 1; stroke: rgb(17, 17, 17); stroke-opacity: 1;\"/></g><g class=\"point\" style=\"vector-effect: non-scaling-stroke; stroke-miterlimit: 2;\"><path d=\"M144.18879774827167,105.72532673234775L143.02001912646318,100.39833502773669A55.90046296296297,55.90046296296297 0,0,0 124.86191814819966,107.91966671987359L127.802218816668,112.51286996671519A50.44675925925926,50.44675925925926 0,0,1 144.18879774827167,105.72532673234775Z\" style=\"opacity: 1; stroke-width: 0.5px; fill: rgb(156, 23, 158); fill-opacity: 1; stroke: rgb(17, 17, 17); stroke-opacity: 1;\"/></g></g></g><g class=\"trace bars\" style=\"opacity: 1;\"><g class=\"points\"><g class=\"point\" style=\"vector-effect: non-scaling-stroke; stroke-miterlimit: 2;\"><path d=\"M166.50488987570387,90.57475015500599L166.74457508144772,89.23255744990195A66.80787037037037,66.80787037037037 0,0,0 143.2554249185523,89.23255744990195L143.49511012429613,90.57475015500599A65.44444444444444,65.44444444444444 0,0,1 166.50488987570387,90.57475015500599Z\" style=\"opacity: 1; stroke-width: 0.5px; fill: rgb(114, 1, 168); fill-opacity: 1; stroke: rgb(17, 17, 17); stroke-opacity: 1;\"/></g><g class=\"point\" style=\"vector-effect: non-scaling-stroke; stroke-miterlimit: 2;\"><path d=\"M194.6940590243224,92.99175616763841L195.42913419143946,91.84345535592803A74.98842592592591,74.98842592592591 0,0,0 171.0707060498665,81.75386406159802L170.77851139441438,83.08561198775077A73.625,73.625 0,0,1 194.6940590243224,92.99175616763841Z\" style=\"opacity: 1; stroke-width: 0.5px; fill: rgb(114, 1, 168); fill-opacity: 1; stroke: rgb(17, 17, 17); stroke-opacity: 1;\"/></g><g class=\"point\" style=\"vector-effect: non-scaling-stroke; stroke-miterlimit: 2;\"><path d=\"M229.94329205057255,102.76743454985589L231.06184864834228,101.98784402074926A92.71296296296295,92.71296296296295 0,0,0 208.01215597925076,78.93815135165772L207.23256545014414,80.05670794942746A91.34953703703702,91.34953703703702 0,0,1 229.94329205057255,102.76743454985589Z\" style=\"opacity: 1; stroke-width: 0.5px; fill: rgb(114, 1, 168); fill-opacity: 1; stroke: rgb(17, 17, 17); stroke-opacity: 1;\"/></g><g class=\"point\" style=\"vector-effect: non-scaling-stroke; stroke-miterlimit: 2;\"><path d=\"M217.59215252917988,141.26685119375045L218.92390045533264,140.97465653829835A65.44444444444444,65.44444444444444 0,0,0 210.1184389620992,119.7163919783801L208.9701381503888,120.45146714549718A64.08101851851852,64.08101851851852 0,0,1 217.59215252917988,141.26685119375045Z\" style=\"opacity: 1; stroke-width: 0.5px; fill: rgb(114, 1, 168); fill-opacity: 1; stroke: rgb(17, 17, 17); stroke-opacity: 1;\"/></g><g class=\"point\" style=\"vector-effect: non-scaling-stroke; stroke-miterlimit: 2;\"><path d=\"M214.05647902457784,165.54614905272854L215.3986717296819,165.7858342584724A61.35416666666666,61.35416666666666 0,0,0 215.3986717296819,144.2141657415276L214.05647902457784,144.45385094727146A59.99074074074073,59.99074074074073 0,0,1 214.05647902457784,165.54614905272854Z\" style=\"opacity: 1; stroke-width: 0.5px; fill: rgb(114, 1, 168); fill-opacity: 1; stroke: rgb(17, 17, 17); stroke-opacity: 1;\"/></g><g class=\"point\" style=\"vector-effect: non-scaling-stroke; stroke-miterlimit: 2;\"><path d=\"M188.3007235396016,176.31717984639536L188.87487394545678,176.6847174299539A40.22106481481482,40.22106481481482 0,0,0 194.28656382150655,163.61974233583746L193.62068985843015,163.47364500811142A39.539351851851855,39.539351851851855 0,0,1 188.3007235396016,176.31717984639536Z\" style=\"opacity: 1; stroke-width: 0.5px; fill: rgb(114, 1, 168); fill-opacity: 1; stroke: rgb(17, 17, 17); stroke-opacity: 1;\"/></g><g class=\"point\" style=\"vector-effect: non-scaling-stroke; stroke-miterlimit: 2;\"><path d=\"M182.285668518732,194.1494809219409L182.67546378328532,194.70875922082575A48.40162037037036,48.40162037037036 0,0,0 194.70875922082575,182.6754637832853L194.1494809219409,182.285668518732A47.719907407407405,47.719907407407405 0,0,1 182.285668518732,194.1494809219409Z\" style=\"opacity: 1; stroke-width: 0.5px; fill: rgb(114, 1, 168); fill-opacity: 1; stroke: rgb(17, 17, 17); stroke-opacity: 1;\"/></g><g class=\"point\" style=\"vector-effect: non-scaling-stroke; stroke-miterlimit: 2;\"><path d=\"M166.83388354581078,208.93579100918691L166.97998087353682,209.6016649722633A55.90046296296296,55.90046296296296 0,0,0 185.13808185180034,202.08033328012638L184.7705442682418,201.5061828742712A55.21875,55.21875 0,0,1 166.83388354581078,208.93579100918691Z\" style=\"opacity: 1; stroke-width: 0.5px; fill: rgb(114, 1, 168); fill-opacity: 1; stroke: rgb(17, 17, 17); stroke-opacity: 1;\"/></g><g class=\"point\" style=\"vector-effect: non-scaling-stroke; stroke-miterlimit: 2;\"><path d=\"M140.85857286111403,234.18936960113848L140.73873025824213,234.8604659536905A81.12384259259258,81.12384259259258 0,0,0 169.26126974175793,234.8604659536905L169.141427138886,234.18936960113848A80.44212962962962,80.44212962962962 0,0,1 140.85857286111403,234.18936960113848Z\" style=\"opacity: 1; stroke-width: 0.5px; fill: rgb(114, 1, 168); fill-opacity: 1; stroke: rgb(17, 17, 17); stroke-opacity: 1;\"/></g><g class=\"point\" style=\"vector-effect: non-scaling-stroke; stroke-miterlimit: 2;\"><path d=\"M111.99810272365072,222.17559748505838L111.26302755653364,223.3238982967688A81.12384259259258,81.12384259259258 0,0,0 137.61441800059896,234.2390016060894L137.9066126560511,232.90725367993667A79.76041666666666,79.76041666666666 0,0,1 111.99810272365072,222.17559748505838Z\" style=\"opacity: 1; stroke-width: 0.5px; fill: rgb(114, 1, 168); fill-opacity: 1; stroke: rgb(17, 17, 17); stroke-opacity: 1;\"/></g><g class=\"point\" style=\"vector-effect: non-scaling-stroke; stroke-miterlimit: 2;\"><path d=\"M74.46392496057875,211.13051809567725L73.34536836280903,211.9101086247839A99.53009259259258,99.53009259259258 0,0,0 98.08989137521608,236.65463163719096L98.86948190432271,235.53607503942123A98.16666666666666,98.16666666666666 0,0,1 74.46392496057875,211.13051809567725Z\" style=\"opacity: 1; stroke-width: 0.5px; fill: rgb(114, 1, 168); fill-opacity: 1; stroke: rgb(17, 17, 17); stroke-opacity: 1;\"/></g><g class=\"point\" style=\"vector-effect: non-scaling-stroke; stroke-miterlimit: 2;\"><path d=\"M52.455409686237175,177.49898846981304L51.12366176008443,177.79118312526515A106.34722222222223,106.34722222222223 0,0,0 65.43253668658879,212.33586303513232L66.58083749829918,211.60078786801526A104.98379629629632,104.98379629629632 0,0,1 52.455409686237175,177.49898846981304Z\" style=\"opacity: 1; stroke-width: 0.5px; fill: rgb(114, 1, 168); fill-opacity: 1; stroke: rgb(17, 17, 17); stroke-opacity: 1;\"/></g><g class=\"point\" style=\"vector-effect: non-scaling-stroke; stroke-miterlimit: 2;\"><path d=\"M46.28239088657257,135.58549833474973L34.2026565406362,133.42833148305525A122.70833333333336,122.70833333333336 0,0,0 34.2026565406362,176.57166851694478L46.28239088657257,174.4145016652503A110.43750000000003,110.43750000000003 0,0,1 46.28239088657257,135.58549833474973Z\" style=\"opacity: 1; stroke-width: 0.5px; fill: rgb(114, 1, 168); fill-opacity: 1; stroke: rgb(17, 17, 17); stroke-opacity: 1;\"/></g><g class=\"point\" style=\"vector-effect: non-scaling-stroke; stroke-miterlimit: 2;\"><path d=\"M56.246130192905625,91.78353562793096L30.983512335276842,75.61188195135516A147.25,147.25 0,0,0 11.171223975501533,123.44297721117125L40.46967835086234,129.87125963111785A117.25462962962963,117.25462962962963 0,0,1 56.246130192905625,91.78353562793096Z\" style=\"opacity: 1; stroke-width: 0.5px; fill: rgb(114, 1, 168); fill-opacity: 1; stroke: rgb(17, 17, 17); stroke-opacity: 1;\"/></g><g class=\"point\" style=\"vector-effect: non-scaling-stroke; stroke-miterlimit: 2;\"><path d=\"M89.51439555504317,61.041245787341865L77.82053761844372,44.26289682079576A134.97916666666669,134.97916666666669 0,0,0 44.26289682079573,77.82053761844378L61.041245787341836,89.51439555504321A114.52777777777779,114.52777777777779 0,0,1 89.51439555504317,61.041245787341865Z\" style=\"opacity: 1; stroke-width: 0.5px; fill: rgb(114, 1, 168); fill-opacity: 1; stroke: rgb(17, 17, 17); stroke-opacity: 1;\"/></g><g class=\"point\" style=\"vector-effect: non-scaling-stroke; stroke-miterlimit: 2;\"><path d=\"M143.02001912646318,100.39833502773669L142.43562981555897,97.73483917543115A58.627314814814824,58.627314814814824 0,0,0 123.39176781396552,105.62306509645279L124.86191814819966,107.91966671987359A55.90046296296297,55.90046296296297 0,0,1 143.02001912646318,100.39833502773669Z\" style=\"opacity: 1; stroke-width: 0.5px; fill: rgb(114, 1, 168); fill-opacity: 1; stroke: rgb(17, 17, 17); stroke-opacity: 1;\"/></g></g></g></g><g class=\"scatterlayer\"/></g><g class=\"polarsublayer angular-line\"><path d=\"M155,0A155,155 0,1,0 -155,-1.8982025386783973e-14A155,155 0,1,0 155,3.7964050773567946e-14Z\" transform=\"translate(346.5,215)\" stroke-width=\"1\" style=\"fill: none; stroke: rgb(80, 103, 132); stroke-opacity: 1;\"/></g><g class=\"polarsublayer radial-line\"><line x1=\"0\" y1=\"0\" x2=\"155\" y2=\"0\" transform=\"translate(346.5,215)\" stroke-width=\"1\" style=\"fill: none; stroke: rgb(80, 103, 132); stroke-opacity: 1;\"/></g><g class=\"polarsublayer angular-axis\"><g class=\"angularaxistick\"><text text-anchor=\"middle\" x=\"1.7757378587636624e-16\" y=\"-5.300000000000001\" transform=\"translate(346.5,60)\" style=\"font-family: 'Open Sans', verdana, arial, sans-serif; font-size: 12px; fill: rgb(242, 245, 250); fill-opacity: 1; white-space: pre;\">N</text></g><g class=\"angularaxistick\"><text text-anchor=\"start\" x=\"1.1097819538587608\" y=\"-3.289291106376443\" transform=\"translate(405.81593201658893,71.79867246075057)\" style=\"font-family: 'Open Sans', verdana, arial, sans-serif; font-size: 12px; fill: rgb(242, 245, 250); fill-opacity: 1; white-space: pre;\">NNE</text></g><g class=\"angularaxistick\"><text text-anchor=\"start\" x=\"2.050609665440988\" y=\"-0.7778174593052025\" transform=\"translate(456.10155108391484,105.39844891608514)\" style=\"font-family: 'Open Sans', verdana, arial, sans-serif; font-size: 12px; fill: rgb(242, 245, 250); fill-opacity: 1; white-space: pre;\">NE</text></g><g class=\"angularaxistick\"><text text-anchor=\"start\" x=\"2.6792506442827317\" y=\"1.8520718450124272\" transform=\"translate(489.7013275392494,155.68406798341107)\" style=\"font-family: 'Open Sans', verdana, arial, sans-serif; font-size: 12px; fill: rgb(242, 245, 250); fill-opacity: 1; white-space: pre;\">ENE</text></g><g class=\"angularaxistick\"><text text-anchor=\"start\" x=\"2.9000000000000004\" y=\"4.199999999999999\" transform=\"translate(501.5,215)\" style=\"font-family: 'Open Sans', verdana, arial, sans-serif; font-size: 12px; fill: rgb(242, 245, 250); fill-opacity: 1; white-space: pre;\">E</text></g><g class=\"angularaxistick\"><text text-anchor=\"start\" x=\"2.6792506442827317\" y=\"9.58227717878724\" transform=\"translate(489.7013275392494,274.31593201658893)\" style=\"font-family: 'Open Sans', verdana, arial, sans-serif; font-size: 12px; fill: rgb(242, 245, 250); fill-opacity: 1; white-space: pre;\">ESE</text></g><g class=\"angularaxistick\"><text text-anchor=\"start\" x=\"2.050609665440988\" y=\"13.505739520663056\" transform=\"translate(456.10155108391484,324.60155108391484)\" style=\"font-family: 'Open Sans', verdana, arial, sans-serif; font-size: 12px; fill: rgb(242, 245, 250); fill-opacity: 1; white-space: pre;\">SE</text></g><g class=\"angularaxistick\"><text text-anchor=\"start\" x=\"1.1097819538587608\" y=\"15.37307545035155\" transform=\"translate(405.81593201658893,358.2013275392494)\" style=\"font-family: 'Open Sans', verdana, arial, sans-serif; font-size: 12px; fill: rgb(242, 245, 250); fill-opacity: 1; white-space: pre;\">SSE</text></g><g class=\"angularaxistick\"><text text-anchor=\"middle\" x=\"1.7757378587636624e-16\" y=\"14.9\" transform=\"translate(346.5,370)\" style=\"font-family: 'Open Sans', verdana, arial, sans-serif; font-size: 12px; fill: rgb(242, 245, 250); fill-opacity: 1; white-space: pre;\">S</text></g><g class=\"angularaxistick\"><text text-anchor=\"end\" x=\"-1.1097819538587603\" y=\"15.37307545035155\" transform=\"translate(287.18406798341107,358.2013275392494)\" style=\"font-family: 'Open Sans', verdana, arial, sans-serif; font-size: 12px; fill: rgb(242, 245, 250); fill-opacity: 1; white-space: pre;\">SSW</text></g><g class=\"angularaxistick\"><text text-anchor=\"end\" x=\"-2.0506096654409878\" y=\"13.505739520663058\" transform=\"translate(236.89844891608516,324.60155108391484)\" style=\"font-family: 'Open Sans', verdana, arial, sans-serif; font-size: 12px; fill: rgb(242, 245, 250); fill-opacity: 1; white-space: pre;\">SW</text></g><g class=\"angularaxistick\"><text text-anchor=\"end\" x=\"-2.6792506442827313\" y=\"9.582277178787248\" transform=\"translate(203.2986724607506,274.315932016589)\" style=\"font-family: 'Open Sans', verdana, arial, sans-serif; font-size: 12px; fill: rgb(242, 245, 250); fill-opacity: 1; white-space: pre;\">WSW</text></g><g class=\"angularaxistick\"><text text-anchor=\"end\" x=\"-2.9000000000000004\" y=\"4.200000000000001\" transform=\"translate(191.5,215.00000000000003)\" style=\"font-family: 'Open Sans', verdana, arial, sans-serif; font-size: 12px; fill: rgb(242, 245, 250); fill-opacity: 1; white-space: pre;\">W</text></g><g class=\"angularaxistick\"><text text-anchor=\"end\" x=\"-2.6792506442827317\" y=\"1.8520718450124254\" transform=\"translate(203.29867246075057,155.68406798341104)\" style=\"font-family: 'Open Sans', verdana, arial, sans-serif; font-size: 12px; fill: rgb(242, 245, 250); fill-opacity: 1; white-space: pre;\">WNW</text></g><g class=\"angularaxistick\"><text text-anchor=\"end\" x=\"-2.0506096654409887\" y=\"-0.7778174593052021\" transform=\"translate(236.8984489160851,105.39844891608514)\" style=\"font-family: 'Open Sans', verdana, arial, sans-serif; font-size: 12px; fill: rgb(242, 245, 250); fill-opacity: 1; white-space: pre;\">NW</text></g><g class=\"angularaxistick\"><text text-anchor=\"end\" x=\"-1.109781953858762\" y=\"-3.2892911063764405\" transform=\"translate(287.184067983411,71.7986724607506)\" style=\"font-family: 'Open Sans', verdana, arial, sans-serif; font-size: 12px; fill: rgb(242, 245, 250); fill-opacity: 1; white-space: pre;\">NNW</text></g></g><g class=\"polarsublayer radial-axis\" transform=\"translate(346.5,215)\"><g class=\"xtick\"><text text-anchor=\"middle\" x=\"0\" y=\"14.9\" transform=\"\" style=\"font-family: 'Open Sans', verdana, arial, sans-serif; font-size: 12px; fill: rgb(242, 245, 250); fill-opacity: 1; white-space: pre;\">0</text></g><g class=\"xtick\"><text text-anchor=\"middle\" x=\"0\" y=\"14.9\" transform=\"translate(27.27,0)\" style=\"font-family: 'Open Sans', verdana, arial, sans-serif; font-size: 12px; fill: rgb(242, 245, 250); fill-opacity: 1; white-space: pre;\">2</text></g><g class=\"xtick\"><text text-anchor=\"middle\" x=\"0\" y=\"14.9\" transform=\"translate(54.54,0)\" style=\"font-family: 'Open Sans', verdana, arial, sans-serif; font-size: 12px; fill: rgb(242, 245, 250); fill-opacity: 1; white-space: pre;\">4</text></g><g class=\"xtick\"><text text-anchor=\"middle\" x=\"0\" y=\"14.9\" transform=\"translate(81.81,0)\" style=\"font-family: 'Open Sans', verdana, arial, sans-serif; font-size: 12px; fill: rgb(242, 245, 250); fill-opacity: 1; white-space: pre;\">6</text></g><g class=\"xtick\"><text text-anchor=\"middle\" x=\"0\" y=\"14.9\" transform=\"translate(109.07,0)\" style=\"font-family: 'Open Sans', verdana, arial, sans-serif; font-size: 12px; fill: rgb(242, 245, 250); fill-opacity: 1; white-space: pre;\">8</text></g><g class=\"xtick\"><text text-anchor=\"middle\" x=\"0\" y=\"14.9\" transform=\"translate(136.34,0)\" style=\"font-family: 'Open Sans', verdana, arial, sans-serif; font-size: 12px; fill: rgb(242, 245, 250); fill-opacity: 1; white-space: pre;\">10</text></g></g></g></g><g class=\"ternarylayer\"/><g class=\"geolayer\"/><g class=\"funnelarealayer\"/><g class=\"pielayer\"/><g class=\"treemaplayer\"/><g class=\"sunburstlayer\"/><g class=\"glimages\"/><defs id=\"topdefs-454c9c\"><g class=\"clips\"/><clipPath id=\"legend454c9c\"><rect width=\"64\" height=\"178\" x=\"0\" y=\"0\"/></clipPath></defs><g class=\"layer-above\"><g class=\"imagelayer\"/><g class=\"shapelayer\"/></g><g class=\"infolayer\"><g class=\"legend\" pointer-events=\"all\" transform=\"translate(623.66,60)\"><rect class=\"bg\" shape-rendering=\"crispEdges\" width=\"64\" height=\"178\" x=\"0\" y=\"0\" style=\"stroke: rgb(68, 68, 68); stroke-opacity: 1; fill: rgb(17, 17, 17); fill-opacity: 1; stroke-width: 0px;\"/><g class=\"scrollbox\" transform=\"\" clip-path=\"url('#legend454c9c')\"><text class=\"legendtitletext\" text-anchor=\"start\" x=\"2\" y=\"15.600000000000001\" style=\"font-family: 'Open Sans', verdana, arial, sans-serif; font-size: 12px; fill: rgb(242, 245, 250); fill-opacity: 1; white-space: pre;\">strength</text><g class=\"groups\" transform=\"\"><g class=\"traces\" transform=\"translate(0,30.1)\" style=\"opacity: 1;\"><text class=\"legendtext\" text-anchor=\"start\" x=\"40\" y=\"4.680000000000001\" style=\"font-family: 'Open Sans', verdana, arial, sans-serif; font-size: 12px; fill: rgb(242, 245, 250); fill-opacity: 1; white-space: pre;\">0-1</text><g class=\"layers\" style=\"opacity: 1;\"><g class=\"legendfill\"/><g class=\"legendlines\"/><g class=\"legendsymbols\"><g class=\"legendpoints\"><path class=\"legendundefined\" d=\"M6,6H-6V-6H6Z\" transform=\"translate(20,0)\" style=\"stroke-width: 0.5px; fill: rgb(240, 249, 33); fill-opacity: 1; stroke: rgb(17, 17, 17); stroke-opacity: 1;\"/></g></g></g><rect class=\"legendtoggle\" x=\"0\" y=\"-9.5\" width=\"58.734375\" height=\"19\" style=\"fill: rgb(0, 0, 0); fill-opacity: 0;\"/></g></g><g class=\"groups\" transform=\"\"><g class=\"traces\" transform=\"translate(0,49.1)\" style=\"opacity: 1;\"><text class=\"legendtext\" text-anchor=\"start\" x=\"40\" y=\"4.680000000000001\" style=\"font-family: 'Open Sans', verdana, arial, sans-serif; font-size: 12px; fill: rgb(242, 245, 250); fill-opacity: 1; white-space: pre;\">1-2</text><g class=\"layers\" style=\"opacity: 1;\"><g class=\"legendfill\"/><g class=\"legendlines\"/><g class=\"legendsymbols\"><g class=\"legendpoints\"><path class=\"legendundefined\" d=\"M6,6H-6V-6H6Z\" transform=\"translate(20,0)\" style=\"stroke-width: 0.5px; fill: rgb(253, 202, 38); fill-opacity: 1; stroke: rgb(17, 17, 17); stroke-opacity: 1;\"/></g></g></g><rect class=\"legendtoggle\" x=\"0\" y=\"-9.5\" width=\"58.734375\" height=\"19\" style=\"fill: rgb(0, 0, 0); fill-opacity: 0;\"/></g></g><g class=\"groups\" transform=\"\"><g class=\"traces\" transform=\"translate(0,68.1)\" style=\"opacity: 1;\"><text class=\"legendtext\" text-anchor=\"start\" x=\"40\" y=\"4.680000000000001\" style=\"font-family: 'Open Sans', verdana, arial, sans-serif; font-size: 12px; fill: rgb(242, 245, 250); fill-opacity: 1; white-space: pre;\">2-3</text><g class=\"layers\" style=\"opacity: 1;\"><g class=\"legendfill\"/><g class=\"legendlines\"/><g class=\"legendsymbols\"><g class=\"legendpoints\"><path class=\"legendundefined\" d=\"M6,6H-6V-6H6Z\" transform=\"translate(20,0)\" style=\"stroke-width: 0.5px; fill: rgb(251, 159, 58); fill-opacity: 1; stroke: rgb(17, 17, 17); stroke-opacity: 1;\"/></g></g></g><rect class=\"legendtoggle\" x=\"0\" y=\"-9.5\" width=\"58.734375\" height=\"19\" style=\"fill: rgb(0, 0, 0); fill-opacity: 0;\"/></g></g><g class=\"groups\" transform=\"\"><g class=\"traces\" transform=\"translate(0,87.1)\" style=\"opacity: 1;\"><text class=\"legendtext\" text-anchor=\"start\" x=\"40\" y=\"4.680000000000001\" style=\"font-family: 'Open Sans', verdana, arial, sans-serif; font-size: 12px; fill: rgb(242, 245, 250); fill-opacity: 1; white-space: pre;\">3-4</text><g class=\"layers\" style=\"opacity: 1;\"><g class=\"legendfill\"/><g class=\"legendlines\"/><g class=\"legendsymbols\"><g class=\"legendpoints\"><path class=\"legendundefined\" d=\"M6,6H-6V-6H6Z\" transform=\"translate(20,0)\" style=\"stroke-width: 0.5px; fill: rgb(237, 121, 83); fill-opacity: 1; stroke: rgb(17, 17, 17); stroke-opacity: 1;\"/></g></g></g><rect class=\"legendtoggle\" x=\"0\" y=\"-9.5\" width=\"58.734375\" height=\"19\" style=\"fill: rgb(0, 0, 0); fill-opacity: 0;\"/></g></g><g class=\"groups\" transform=\"\"><g class=\"traces\" transform=\"translate(0,106.1)\" style=\"opacity: 1;\"><text class=\"legendtext\" text-anchor=\"start\" x=\"40\" y=\"4.680000000000001\" style=\"font-family: 'Open Sans', verdana, arial, sans-serif; font-size: 12px; fill: rgb(242, 245, 250); fill-opacity: 1; white-space: pre;\">4-4</text><g class=\"layers\" style=\"opacity: 1;\"><g class=\"legendfill\"/><g class=\"legendlines\"/><g class=\"legendsymbols\"><g class=\"legendpoints\"><path class=\"legendundefined\" d=\"M6,6H-6V-6H6Z\" transform=\"translate(20,0)\" style=\"stroke-width: 0.5px; fill: rgb(216, 87, 107); fill-opacity: 1; stroke: rgb(17, 17, 17); stroke-opacity: 1;\"/></g></g></g><rect class=\"legendtoggle\" x=\"0\" y=\"-9.5\" width=\"58.734375\" height=\"19\" style=\"fill: rgb(0, 0, 0); fill-opacity: 0;\"/></g></g><g class=\"groups\" transform=\"\"><g class=\"traces\" transform=\"translate(0,125.1)\" style=\"opacity: 1;\"><text class=\"legendtext\" text-anchor=\"start\" x=\"40\" y=\"4.680000000000001\" style=\"font-family: 'Open Sans', verdana, arial, sans-serif; font-size: 12px; fill: rgb(242, 245, 250); fill-opacity: 1; white-space: pre;\">4-5</text><g class=\"layers\" style=\"opacity: 1;\"><g class=\"legendfill\"/><g class=\"legendlines\"/><g class=\"legendsymbols\"><g class=\"legendpoints\"><path class=\"legendundefined\" d=\"M6,6H-6V-6H6Z\" transform=\"translate(20,0)\" style=\"stroke-width: 0.5px; fill: rgb(189, 55, 134); fill-opacity: 1; stroke: rgb(17, 17, 17); stroke-opacity: 1;\"/></g></g></g><rect class=\"legendtoggle\" x=\"0\" y=\"-9.5\" width=\"58.734375\" height=\"19\" style=\"fill: rgb(0, 0, 0); fill-opacity: 0;\"/></g></g><g class=\"groups\" transform=\"\"><g class=\"traces\" transform=\"translate(0,144.1)\" style=\"opacity: 1;\"><text class=\"legendtext\" text-anchor=\"start\" x=\"40\" y=\"4.680000000000001\" style=\"font-family: 'Open Sans', verdana, arial, sans-serif; font-size: 12px; fill: rgb(242, 245, 250); fill-opacity: 1; white-space: pre;\">5-6</text><g class=\"layers\" style=\"opacity: 1;\"><g class=\"legendfill\"/><g class=\"legendlines\"/><g class=\"legendsymbols\"><g class=\"legendpoints\"><path class=\"legendundefined\" d=\"M6,6H-6V-6H6Z\" transform=\"translate(20,0)\" style=\"stroke-width: 0.5px; fill: rgb(156, 23, 158); fill-opacity: 1; stroke: rgb(17, 17, 17); stroke-opacity: 1;\"/></g></g></g><rect class=\"legendtoggle\" x=\"0\" y=\"-9.5\" width=\"58.734375\" height=\"19\" style=\"fill: rgb(0, 0, 0); fill-opacity: 0;\"/></g></g><g class=\"groups\" transform=\"\"><g class=\"traces\" transform=\"translate(0,163.1)\" style=\"opacity: 1;\"><text class=\"legendtext\" text-anchor=\"start\" x=\"40\" y=\"4.680000000000001\" style=\"font-family: 'Open Sans', verdana, arial, sans-serif; font-size: 12px; fill: rgb(242, 245, 250); fill-opacity: 1; white-space: pre;\">6+</text><g class=\"layers\" style=\"opacity: 1;\"><g class=\"legendfill\"/><g class=\"legendlines\"/><g class=\"legendsymbols\"><g class=\"legendpoints\"><path class=\"legendundefined\" d=\"M6,6H-6V-6H6Z\" transform=\"translate(20,0)\" style=\"stroke-width: 0.5px; fill: rgb(114, 1, 168); fill-opacity: 1; stroke: rgb(17, 17, 17); stroke-opacity: 1;\"/></g></g></g><rect class=\"legendtoggle\" x=\"0\" y=\"-9.5\" width=\"58.734375\" height=\"19\" style=\"fill: rgb(0, 0, 0); fill-opacity: 0;\"/></g></g></g><rect class=\"scrollbar\" rx=\"20\" ry=\"3\" width=\"0\" height=\"0\" x=\"0\" y=\"0\" style=\"fill: rgb(128, 139, 164); fill-opacity: 1;\"/></g><g class=\"g-gtitle\"/><g class=\"g-polartitle\"/></g></svg>"
      ]
     },
     "metadata": {},
     "output_type": "display_data"
    }
   ],
   "source": [
    "import plotly.express as px\n",
    "df = px.data.wind()\n",
    "fig = px.bar_polar(df, r=\"frequency\", theta=\"direction\", \n",
    "                   color=\"strength\", template=\"plotly_dark\",\n",
    "                   color_discrete_sequence= px.colors.sequential.Plasma_r\n",
    "                  )\n",
    "\n",
    "# color: https://plotly.com/python/builtin-colorscales/\n",
    "fig.show(renderer=\"svg\")\n",
    "# fig.show()"
   ]
  },
  {
   "cell_type": "code",
   "execution_count": 237,
   "id": "d846195b",
   "metadata": {},
   "outputs": [
    {
     "data": {
      "image/svg+xml": [
       "<svg class=\"main-svg\" xmlns=\"http://www.w3.org/2000/svg\" xmlns:xlink=\"http://www.w3.org/1999/xlink\" width=\"700\" height=\"450\" style=\"\" viewBox=\"0 0 700 450\"><rect x=\"0\" y=\"0\" width=\"700\" height=\"450\" style=\"fill: rgb(255, 255, 255); fill-opacity: 1;\"/><defs id=\"defs-feeb31\"><g class=\"clips\"><clipPath id=\"clipfeeb31polar-for-traces\"><path d=\"M135,0A135,135 0,1,0 -135,-1.6532731788489267e-14A135,135 0,1,0 135,3.3065463576978534e-14Z\" transform=\"translate(135,135)\"/></clipPath></g><g class=\"gradients\"/></defs><g class=\"bglayer\"/><g class=\"layer-below\"><g class=\"imagelayer\"/><g class=\"shapelayer\"/></g><g class=\"cartesianlayer\"/><g class=\"polarlayer\"><g class=\"polar\"><g class=\"polarsublayer draglayer\"/><g class=\"polarsublayer plotbg\"><path d=\"M135,0A135,135 0,1,0 -135,-1.6532731788489267e-14A135,135 0,1,0 135,3.3065463576978534e-14Z\" transform=\"translate(319,235)\" style=\"fill: rgb(229, 236, 246); fill-opacity: 1;\"/></g><g class=\"polarsublayer backplot\"><g class=\"maplayer\"/></g><g class=\"polarsublayer angular-grid\" style=\"fill: none;\"/><g class=\"polarsublayer radial-grid\" style=\"fill: none;\" transform=\"translate(319,235)\"><path class=\"xgrid\" d=\"M32.88,0A32.88,32.88 0,1,0 -32.88,-4.026638675596498e-15A32.88,32.88 0,1,0 32.88,8.053277351192995e-15Z\" style=\"stroke: rgb(255, 255, 255); stroke-opacity: 1; stroke-width: 1px;\"/><path class=\"xgrid\" d=\"M65.77,0A65.77,65.77 0,1,0 -65.77,-8.054501997992142e-15A65.77,65.77 0,1,0 65.77,1.6109003995984284e-14Z\" style=\"stroke: rgb(255, 255, 255); stroke-opacity: 1; stroke-width: 1px;\"/><path class=\"xgrid\" d=\"M98.65,0A98.65,98.65 0,1,0 -98.65,-1.208114067358864e-14A98.65,98.65 0,1,0 98.65,2.416228134717728e-14Z\" style=\"stroke: rgb(255, 255, 255); stroke-opacity: 1; stroke-width: 1px;\"/><path class=\"xgrid\" d=\"M131.54,0A131.54,131.54 0,1,0 -131.54,-1.6109003995984284e-14A131.54,131.54 0,1,0 131.54,3.221800799196857e-14Z\" style=\"stroke: rgb(255, 255, 255); stroke-opacity: 1; stroke-width: 1px;\"/></g><g class=\"polarsublayer frontplot\" transform=\"translate(184,100)\" clip-path=\"url('#clipfeeb31polar-for-traces')\"><g class=\"barlayer\"><g class=\"trace bars\" style=\"opacity: 1;\"><g class=\"points\"><g class=\"point\" style=\"vector-effect: non-scaling-stroke; stroke-miterlimit: 2;\"><path d=\"M135,135L113.25729913252277,181.10112236590004A50.97115384615385,50.97115384615385 0,0,0 148.4070044984781,184.17632311169749L135,135A0,0 0,0,1 135,135Z\" style=\"opacity: 1; stroke-width: 0.5px; fill: rgb(106, 81, 163); fill-opacity: 1; stroke: rgb(229, 236, 246); stroke-opacity: 1;\"/></g><g class=\"point\" style=\"vector-effect: non-scaling-stroke; stroke-miterlimit: 2;\"><path d=\"M135,135L151.11277889017788,179.87780634284945A47.68269230769231,47.68269230769231 0,0,0 176.398056933189,158.66093886274382L135,135A0,0 0,0,1 135,135Z\" style=\"opacity: 1; stroke-width: 0.5px; fill: rgb(106, 81, 163); fill-opacity: 1; stroke: rgb(229, 236, 246); stroke-opacity: 1;\"/></g><g class=\"point\" style=\"vector-effect: non-scaling-stroke; stroke-miterlimit: 2;\"><path d=\"M135,135L176.63972342726456,154.6385685254633A46.03846153846154,46.03846153846154 0,0,0 179.41732410088804,122.8904475497617L135,135A0,0 0,0,1 135,135Z\" style=\"opacity: 1; stroke-width: 0.5px; fill: rgb(106, 81, 163); fill-opacity: 1; stroke: rgb(229, 236, 246); stroke-opacity: 1;\"/></g><g class=\"point\" style=\"vector-effect: non-scaling-stroke; stroke-miterlimit: 2;\"><path d=\"M135,135L162.8551901438376,124.99896482678616A29.596153846153847,29.596153846153847 0,0,0 149.68609998377204,109.30465431733097L135,135A0,0 0,0,1 135,135Z\" style=\"opacity: 1; stroke-width: 0.5px; fill: rgb(106, 81, 163); fill-opacity: 1; stroke: rgb(229, 236, 246); stroke-opacity: 1;\"/></g><g class=\"point\" style=\"vector-effect: non-scaling-stroke; stroke-miterlimit: 2;\"><path d=\"M135,135L141.31239702604177,121.61580318409354A14.798076923076923,14.798076923076923 0,0,0 131.10764385528054,120.7230029675717L135,135A0,0 0,0,1 135,135Z\" style=\"opacity: 1; stroke-width: 0.5px; fill: rgb(106, 81, 163); fill-opacity: 1; stroke: rgb(229, 236, 246); stroke-opacity: 1;\"/></g><g class=\"point\" style=\"vector-effect: non-scaling-stroke; stroke-miterlimit: 2;\"><path d=\"M135,135L125.55457789196471,108.69232041970895A27.951923076923077,27.951923076923077 0,0,0 110.7321735219237,121.12979445977085L135,135A0,0 0,0,1 135,135Z\" style=\"opacity: 1; stroke-width: 0.5px; fill: rgb(106, 81, 163); fill-opacity: 1; stroke: rgb(229, 236, 246); stroke-opacity: 1;\"/></g><g class=\"point\" style=\"vector-effect: non-scaling-stroke; stroke-miterlimit: 2;\"><path d=\"M135,135L111.2058723272774,123.77796084259239A26.307692307692307,26.307692307692307 0,0,0 109.61867194234969,141.91974425727904L135,135A0,0 0,0,1 135,135Z\" style=\"opacity: 1; stroke-width: 0.5px; fill: rgb(106, 81, 163); fill-opacity: 1; stroke: rgb(229, 236, 246); stroke-opacity: 1;\"/></g><g class=\"point\" style=\"vector-effect: non-scaling-stroke; stroke-miterlimit: 2;\"><path d=\"M135,135L96.31223591133667,148.8903266294637A41.10576923076923,41.10576923076923 0,0,0 114.6026389114277,170.6879801148181L135,135A0,0 0,0,1 135,135Z\" style=\"opacity: 1; stroke-width: 0.5px; fill: rgb(106, 81, 163); fill-opacity: 1; stroke: rgb(229, 236, 246); stroke-opacity: 1;\"/></g></g></g><g class=\"trace bars\" style=\"opacity: 1;\"><g class=\"points\"><g class=\"point\" style=\"vector-effect: non-scaling-stroke; stroke-miterlimit: 2;\"><path d=\"M113.25729913252277,181.10112236590004L97.12561784374935,215.30518089543878A88.78846153846153,88.78846153846153 0,0,0 158.35413686831671,220.66198219456982L148.4070044984781,184.17632311169749A50.97115384615385,50.97115384615385 0,0,1 113.25729913252277,181.10112236590004Z\" style=\"opacity: 1; stroke-width: 0.5px; fill: rgb(158, 154, 200); fill-opacity: 1; stroke: rgb(229, 236, 246); stroke-opacity: 1;\"/></g><g class=\"point\" style=\"vector-effect: non-scaling-stroke; stroke-miterlimit: 2;\"><path d=\"M151.11277889017788,179.87780634284945L162.2250401937488,210.8280176137801A80.5673076923077,80.5673076923077 0,0,0 204.9484410250435,174.97882773360163L176.398056933189,158.66093886274382A47.68269230769231,47.68269230769231 0,0,1 151.11277889017788,179.87780634284945Z\" style=\"opacity: 1; stroke-width: 0.5px; fill: rgb(158, 154, 200); fill-opacity: 1; stroke: rgb(229, 236, 246); stroke-opacity: 1;\"/></g><g class=\"point\" style=\"vector-effect: non-scaling-stroke; stroke-miterlimit: 2;\"><path d=\"M176.63972342726456,154.6385685254633L203.40811705907748,167.26336257754684A75.63461538461539,75.63461538461539 0,0,0 207.97131816574466,115.1057352603228L179.41732410088804,122.8904475497617A46.03846153846154,46.03846153846154 0,0,1 176.63972342726456,154.6385685254633Z\" style=\"opacity: 1; stroke-width: 0.5px; fill: rgb(158, 154, 200); fill-opacity: 1; stroke: rgb(229, 236, 246); stroke-opacity: 1;\"/></g><g class=\"point\" style=\"vector-effect: non-scaling-stroke; stroke-miterlimit: 2;\"><path d=\"M162.8551901438376,124.99896482678616L184.52033803348905,117.2203819142865A52.61538461538461,52.61538461538461 0,0,0 161.1086221933725,89.31938545303284L149.68609998377204,109.30465431733097A29.596153846153847,29.596153846153847 0,0,1 162.8551901438376,124.99896482678616Z\" style=\"opacity: 1; stroke-width: 0.5px; fill: rgb(158, 154, 200); fill-opacity: 1; stroke: rgb(229, 236, 246); stroke-opacity: 1;\"/></g><g class=\"point\" style=\"vector-effect: non-scaling-stroke; stroke-miterlimit: 2;\"><path d=\"M141.31239702604177,121.61580318409354L146.92341660474557,109.71873934773224A27.951923076923077,27.951923076923077 0,0,0 127.64777172664104,108.03233893874653L131.10764385528054,120.7230029675717A14.798076923076923,14.798076923076923 0,0,1 141.31239702604177,121.61580318409354Z\" style=\"opacity: 1; stroke-width: 0.5px; fill: rgb(158, 154, 200); fill-opacity: 1; stroke: rgb(229, 236, 246); stroke-opacity: 1;\"/></g><g class=\"point\" style=\"vector-effect: non-scaling-stroke; stroke-miterlimit: 2;\"><path d=\"M125.55457789196471,108.69232041970895L120.55406030535778,94.76472534779015A42.75,42.75 0,0,0 97.88450068058918,113.78674446788483L110.7321735219237,121.12979445977085A27.951923076923077,27.951923076923077 0,0,1 125.55457789196471,108.69232041970895Z\" style=\"opacity: 1; stroke-width: 0.5px; fill: rgb(158, 154, 200); fill-opacity: 1; stroke: rgb(229, 236, 246); stroke-opacity: 1;\"/></g><g class=\"point\" style=\"vector-effect: non-scaling-stroke; stroke-miterlimit: 2;\"><path d=\"M111.2058723272774,123.77796084259239L88.89887763409996,113.25729913252277A50.97115384615385,50.97115384615385 0,0,0 85.82367688830251,148.40700449847813L109.61867194234969,141.91974425727904A26.307692307692307,26.307692307692307 0,0,1 111.2058723272774,123.77796084259239Z\" style=\"opacity: 1; stroke-width: 0.5px; fill: rgb(158, 154, 200); fill-opacity: 1; stroke: rgb(229, 236, 246); stroke-opacity: 1;\"/></g><g class=\"point\" style=\"vector-effect: non-scaling-stroke; stroke-miterlimit: 2;\"><path d=\"M96.31223591133667,148.8903266294637L62.26700351331297,161.11381406339171A77.27884615384615,77.27884615384615 0,0,0 96.65296115348411,202.093402615858L114.6026389114277,170.6879801148181A41.10576923076923,41.10576923076923 0,0,1 96.31223591133667,148.8903266294637Z\" style=\"opacity: 1; stroke-width: 0.5px; fill: rgb(158, 154, 200); fill-opacity: 1; stroke: rgb(229, 236, 246); stroke-opacity: 1;\"/></g></g></g><g class=\"trace bars\" style=\"opacity: 1;\"><g class=\"points\"><g class=\"point\" style=\"vector-effect: non-scaling-stroke; stroke-miterlimit: 2;\"><path d=\"M97.12561784374935,215.30518089543878L85.90357868634177,239.0993085681614A115.09615384615384,115.09615384615384 0,0,0 165.27388112559575,246.04331025222012L158.35413686831671,220.66198219456982A88.78846153846153,88.78846153846153 0,0,1 97.12561784374935,215.30518089543878Z\" style=\"opacity: 1; stroke-width: 0.5px; fill: rgb(203, 201, 226); fill-opacity: 1; stroke: rgb(229, 236, 246); stroke-opacity: 1;\"/></g><g class=\"point\" style=\"vector-effect: non-scaling-stroke; stroke-miterlimit: 2;\"><path d=\"M162.2250401937488,210.8280176137801L168.89239697589136,229.39814437633848A100.29807692307692,100.29807692307692 0,0,0 222.07867148015617,184.76956105611632L204.9484410250435,174.97882773360163A80.5673076923077,80.5673076923077 0,0,1 162.2250401937488,210.8280176137801Z\" style=\"opacity: 1; stroke-width: 0.5px; fill: rgb(203, 201, 226); fill-opacity: 1; stroke: rgb(229, 236, 246); stroke-opacity: 1;\"/></g><g class=\"point\" style=\"vector-effect: non-scaling-stroke; stroke-miterlimit: 2;\"><path d=\"M203.40811705907748,167.26336257754684L221.25371281361942,175.67989194560255A95.36538461538461,95.36538461538461 0,0,0 227.0073142089824,109.91592706736353L207.97131816574466,115.1057352603228A75.63461538461539,75.63461538461539 0,0,1 203.40811705907748,167.26336257754684Z\" style=\"opacity: 1; stroke-width: 0.5px; fill: rgb(203, 201, 226); fill-opacity: 1; stroke: rgb(229, 236, 246); stroke-opacity: 1;\"/></g><g class=\"point\" style=\"vector-effect: non-scaling-stroke; stroke-miterlimit: 2;\"><path d=\"M184.52033803348905,117.2203819142865L206.1854859231405,109.44179900178685A75.63461538461539,75.63461538461539 0,0,0 172.53114440297298,69.3341165887347L161.1086221933725,89.31938545303284A52.61538461538461,52.61538461538461 0,0,1 184.52033803348905,117.2203819142865Z\" style=\"opacity: 1; stroke-width: 0.5px; fill: rgb(203, 201, 226); fill-opacity: 1; stroke: rgb(229, 236, 246); stroke-opacity: 1;\"/></g><g class=\"point\" style=\"vector-effect: non-scaling-stroke; stroke-miterlimit: 2;\"><path d=\"M146.92341660474557,109.71873934773224L149.0275489467595,105.25734040909674A32.88461538461539,32.88461538461539 0,0,0 126.35031967840122,103.2733399279371L127.64777172664104,108.03233893874653A27.951923076923077,27.951923076923077 0,0,1 146.92341660474557,109.71873934773224Z\" style=\"opacity: 1; stroke-width: 0.5px; fill: rgb(203, 201, 226); fill-opacity: 1; stroke: rgb(229, 236, 246); stroke-opacity: 1;\"/></g><g class=\"point\" style=\"vector-effect: non-scaling-stroke; stroke-miterlimit: 2;\"><path d=\"M120.55406030535778,94.76472534779015L118.88722110982215,90.12219365715055A47.68269230769231,47.68269230769231 0,0,0 93.601943066811,111.33906113725615L97.88450068058918,113.78674446788483A42.75,42.75 0,0,1 120.55406030535778,94.76472534779015Z\" style=\"opacity: 1; stroke-width: 0.5px; fill: rgb(203, 201, 226); fill-opacity: 1; stroke: rgb(229, 236, 246); stroke-opacity: 1;\"/></g><g class=\"point\" style=\"vector-effect: non-scaling-stroke; stroke-miterlimit: 2;\"><path d=\"M88.89887763409996,113.25729913252277L69.56614890001285,104.1393923171291A72.34615384615384,72.34615384615384 0,0,0 65.20134784146165,154.02929670751735L85.82367688830251,148.40700449847813A50.97115384615385,50.97115384615385 0,0,1 88.89887763409996,113.25729913252277Z\" style=\"opacity: 1; stroke-width: 0.5px; fill: rgb(203, 201, 226); fill-opacity: 1; stroke: rgb(229, 236, 246); stroke-opacity: 1;\"/></g><g class=\"point\" style=\"vector-effect: non-scaling-stroke; stroke-miterlimit: 2;\"><path d=\"M62.26700351331297,161.11381406339171L37.506834496568445,170.00362310624845A103.58653846153847,103.58653846153847 0,0,0 83.59865005679782,224.9337098893416L96.65296115348411,202.093402615858A77.27884615384615,77.27884615384615 0,0,1 62.26700351331297,161.11381406339171Z\" style=\"opacity: 1; stroke-width: 0.5px; fill: rgb(203, 201, 226); fill-opacity: 1; stroke: rgb(229, 236, 246); stroke-opacity: 1;\"/></g></g></g><g class=\"trace bars\" style=\"opacity: 1;\"><g class=\"points\"><g class=\"point\" style=\"vector-effect: non-scaling-stroke; stroke-miterlimit: 2;\"><path d=\"M85.90357868634177,239.0993085681614L80.29255910763797,250.9963724045227A128.25,128.25 0,0,0 168.73375325423527,258.7339742810453L165.27388112559575,246.04331025222012A115.09615384615384,115.09615384615384 0,0,1 85.90357868634177,239.0993085681614Z\" style=\"opacity: 1; stroke-width: 0.5px; fill: rgb(242, 240, 247); fill-opacity: 1; stroke: rgb(229, 236, 246); stroke-opacity: 1;\"/></g><g class=\"point\" style=\"vector-effect: non-scaling-stroke; stroke-miterlimit: 2;\"><path d=\"M168.89239697589136,229.39814437633848L170.55923617142702,234.04067606697808A105.23076923076923,105.23076923076923 0,0,0 226.36122909393436,187.217244386745L222.07867148015617,184.76956105611632A100.29807692307692,100.29807692307692 0,0,1 168.89239697589136,229.39814437633848Z\" style=\"opacity: 1; stroke-width: 0.5px; fill: rgb(242, 240, 247); fill-opacity: 1; stroke: rgb(229, 236, 246); stroke-opacity: 1;\"/></g><g class=\"point\" style=\"vector-effect: non-scaling-stroke; stroke-miterlimit: 2;\"><path d=\"M221.25371281361942,175.67989194560255L230.17651069089038,179.8881566296304A105.23076923076923,105.23076923076923 0,0,0 236.52531223060123,107.3210229708839L227.0073142089824,109.91592706736353A95.36538461538461,95.36538461538461 0,0,1 221.25371281361942,175.67989194560255Z\" style=\"opacity: 1; stroke-width: 0.5px; fill: rgb(242, 240, 247); fill-opacity: 1; stroke: rgb(229, 236, 246); stroke-opacity: 1;\"/></g><g class=\"point\" style=\"vector-effect: non-scaling-stroke; stroke-miterlimit: 2;\"><path d=\"M206.1854859231405,109.44179900178685L220.1130809950593,104.44128141517993A90.4326923076923,90.4326923076923 0,0,0 179.874194394859,56.48644374740019L172.53114440297298,69.3341165887347A75.63461538461539,75.63461538461539 0,0,1 206.1854859231405,109.44179900178685Z\" style=\"opacity: 1; stroke-width: 0.5px; fill: rgb(242, 240, 247); fill-opacity: 1; stroke: rgb(229, 236, 246); stroke-opacity: 1;\"/></g><g class=\"point\" style=\"vector-effect: non-scaling-stroke; stroke-miterlimit: 2;\"><path d=\"M149.0275489467595,105.25734040909674L149.72892639409747,103.77020742955159A34.52884615384615,34.52884615384615 0,0,0 125.9178356623213,101.68700692433396L126.35031967840122,103.2733399279371A32.88461538461539,32.88461538461539 0,0,1 149.0275489467595,105.25734040909674Z\" style=\"opacity: 1; stroke-width: 0.5px; fill: rgb(242, 240, 247); fill-opacity: 1; stroke: rgb(229, 236, 246); stroke-opacity: 1;\"/></g><g class=\"point\" style=\"vector-effect: non-scaling-stroke; stroke-miterlimit: 2;\"><path d=\"M118.88722110982215,90.12219365715055L118.3316080446436,88.57468309360402A49.32692307692307,49.32692307692307 0,0,0 92.17442386221829,110.52316669371326L93.601943066811,111.33906113725615A47.68269230769231,47.68269230769231 0,0,1 118.88722110982215,90.12219365715055Z\" style=\"opacity: 1; stroke-width: 0.5px; fill: rgb(242, 240, 247); fill-opacity: 1; stroke: rgb(229, 236, 246); stroke-opacity: 1;\"/></g><g class=\"point\" style=\"vector-effect: non-scaling-stroke; stroke-miterlimit: 2;\"><path d=\"M69.56614890001285,104.1393923171291L62.130484002287034,100.63250508043922A80.5673076923077,80.5673076923077 0,0,0 57.26968282344592,156.19171678791704L65.20134784146165,154.02929670751735A72.34615384615384,72.34615384615384 0,0,1 69.56614890001285,104.1393923171291Z\" style=\"opacity: 1; stroke-width: 0.5px; fill: rgb(242, 240, 247); fill-opacity: 1; stroke: rgb(229, 236, 246); stroke-opacity: 1;\"/></g><g class=\"point\" style=\"vector-effect: non-scaling-stroke; stroke-miterlimit: 2;\"><path d=\"M37.506834496568445,170.00362310624845L23.579239424649643,175.00414069285537A118.38461538461539,118.38461538461539 0,0,0 76.25560006491182,237.7813827306761L83.59865005679782,224.9337098893416A103.58653846153847,103.58653846153847 0,0,1 37.506834496568445,170.00362310624845Z\" style=\"opacity: 1; stroke-width: 0.5px; fill: rgb(242, 240, 247); fill-opacity: 1; stroke: rgb(229, 236, 246); stroke-opacity: 1;\"/></g></g></g></g><g class=\"scatterlayer\"/></g><g class=\"polarsublayer angular-line\"><path display=\"none\" style=\"fill: none; stroke: rgb(0, 0, 0); stroke-opacity: 1;\"/></g><g class=\"polarsublayer radial-line\"><line style=\"fill: none; stroke: rgb(255, 255, 255); stroke-opacity: 1;\" x1=\"0\" y1=\"0\" x2=\"135\" y2=\"0\" transform=\"translate(319,235)\" stroke-width=\"1\"/></g><g class=\"polarsublayer angular-axis\"/><g class=\"polarsublayer radial-axis\" transform=\"translate(319,235)\"><g class=\"xtick\"><text text-anchor=\"middle\" x=\"0\" y=\"1.7\" transform=\"\" style=\"font-family: 'Open Sans', verdana, arial, sans-serif; font-size: 1px; fill: rgb(255, 255, 255); fill-opacity: 1; white-space: pre;\">0%</text></g><g class=\"xtick\"><text text-anchor=\"middle\" x=\"0\" y=\"1.7\" transform=\"translate(32.88,0)\" style=\"font-family: 'Open Sans', verdana, arial, sans-serif; font-size: 1px; fill: rgb(255, 255, 255); fill-opacity: 1; white-space: pre;\">50%</text></g><g class=\"xtick\"><text text-anchor=\"middle\" x=\"0\" y=\"1.7\" transform=\"translate(65.77,0)\" style=\"font-family: 'Open Sans', verdana, arial, sans-serif; font-size: 1px; fill: rgb(255, 255, 255); fill-opacity: 1; white-space: pre;\">100%</text></g><g class=\"xtick\"><text text-anchor=\"middle\" x=\"0\" y=\"1.7\" transform=\"translate(98.65,0)\" style=\"font-family: 'Open Sans', verdana, arial, sans-serif; font-size: 1px; fill: rgb(255, 255, 255); fill-opacity: 1; white-space: pre;\">150%</text></g><g class=\"xtick\"><text text-anchor=\"middle\" x=\"0\" y=\"1.7\" transform=\"translate(131.54,0)\" style=\"font-family: 'Open Sans', verdana, arial, sans-serif; font-size: 1px; fill: rgb(255, 255, 255); fill-opacity: 1; white-space: pre;\">200%</text></g></g></g></g><g class=\"ternarylayer\"/><g class=\"geolayer\"/><g class=\"funnelarealayer\"/><g class=\"pielayer\"/><g class=\"treemaplayer\"/><g class=\"sunburstlayer\"/><g class=\"glimages\"/><defs id=\"topdefs-feeb31\"><g class=\"clips\"/><clipPath id=\"legendfeeb31\"><rect width=\"120\" height=\"106\" x=\"0\" y=\"0\"/></clipPath></defs><g class=\"layer-above\"><g class=\"imagelayer\"/><g class=\"shapelayer\"/></g><g class=\"infolayer\"><g class=\"legend\" pointer-events=\"all\" transform=\"translate(567.56,100)\"><rect class=\"bg\" shape-rendering=\"crispEdges\" width=\"120\" height=\"106\" x=\"0\" y=\"0\" style=\"stroke: rgb(68, 68, 68); stroke-opacity: 1; fill: rgb(255, 255, 255); fill-opacity: 1; stroke-width: 0px;\"/><g class=\"scrollbox\" transform=\"\" clip-path=\"url('#legendfeeb31')\"><g class=\"groups\"><g class=\"traces\" transform=\"translate(0,16.9)\" style=\"opacity: 1;\"><text class=\"legendtext\" text-anchor=\"start\" x=\"40\" y=\"6.24\" style=\"font-family: 'Open Sans', verdana, arial, sans-serif; font-size: 16px; fill: rgb(42, 63, 95); fill-opacity: 1; white-space: pre;\">11-14 m/s</text><g class=\"layers\" style=\"opacity: 1;\"><g class=\"legendfill\"/><g class=\"legendlines\"/><g class=\"legendsymbols\"><g class=\"legendpoints\"><path class=\"legendundefined\" d=\"M6,6H-6V-6H6Z\" transform=\"translate(20,0)\" style=\"stroke-width: 0.5px; fill: rgb(106, 81, 163); fill-opacity: 1; stroke: rgb(229, 236, 246); stroke-opacity: 1;\"/></g></g></g><rect class=\"legendtoggle\" x=\"0\" y=\"-11.9\" width=\"114.65625\" height=\"23.8\" style=\"fill: rgb(0, 0, 0); fill-opacity: 0;\"/></g><g class=\"traces\" transform=\"translate(0,40.7)\" style=\"opacity: 1;\"><text class=\"legendtext\" text-anchor=\"start\" x=\"40\" y=\"6.24\" style=\"font-family: 'Open Sans', verdana, arial, sans-serif; font-size: 16px; fill: rgb(42, 63, 95); fill-opacity: 1; white-space: pre;\">8-11 m/s</text><g class=\"layers\" style=\"opacity: 1;\"><g class=\"legendfill\"/><g class=\"legendlines\"/><g class=\"legendsymbols\"><g class=\"legendpoints\"><path class=\"legendundefined\" d=\"M6,6H-6V-6H6Z\" transform=\"translate(20,0)\" style=\"stroke-width: 0.5px; fill: rgb(158, 154, 200); fill-opacity: 1; stroke: rgb(229, 236, 246); stroke-opacity: 1;\"/></g></g></g><rect class=\"legendtoggle\" x=\"0\" y=\"-11.9\" width=\"114.65625\" height=\"23.8\" style=\"fill: rgb(0, 0, 0); fill-opacity: 0;\"/></g><g class=\"traces\" transform=\"translate(0,64.5)\" style=\"opacity: 1;\"><text class=\"legendtext\" text-anchor=\"start\" x=\"40\" y=\"6.24\" style=\"font-family: 'Open Sans', verdana, arial, sans-serif; font-size: 16px; fill: rgb(42, 63, 95); fill-opacity: 1; white-space: pre;\">5-8 m/s</text><g class=\"layers\" style=\"opacity: 1;\"><g class=\"legendfill\"/><g class=\"legendlines\"/><g class=\"legendsymbols\"><g class=\"legendpoints\"><path class=\"legendundefined\" d=\"M6,6H-6V-6H6Z\" transform=\"translate(20,0)\" style=\"stroke-width: 0.5px; fill: rgb(203, 201, 226); fill-opacity: 1; stroke: rgb(229, 236, 246); stroke-opacity: 1;\"/></g></g></g><rect class=\"legendtoggle\" x=\"0\" y=\"-11.9\" width=\"114.65625\" height=\"23.8\" style=\"fill: rgb(0, 0, 0); fill-opacity: 0;\"/></g><g class=\"traces\" transform=\"translate(0,88.30000000000001)\" style=\"opacity: 1;\"><text class=\"legendtext\" text-anchor=\"start\" x=\"40\" y=\"6.24\" style=\"font-family: 'Open Sans', verdana, arial, sans-serif; font-size: 16px; fill: rgb(42, 63, 95); fill-opacity: 1; white-space: pre;\">&#60; 5 m/s</text><g class=\"layers\" style=\"opacity: 1;\"><g class=\"legendfill\"/><g class=\"legendlines\"/><g class=\"legendsymbols\"><g class=\"legendpoints\"><path class=\"legendundefined\" d=\"M6,6H-6V-6H6Z\" transform=\"translate(20,0)\" style=\"stroke-width: 0.5px; fill: rgb(242, 240, 247); fill-opacity: 1; stroke: rgb(229, 236, 246); stroke-opacity: 1;\"/></g></g></g><rect class=\"legendtoggle\" x=\"0\" y=\"-11.9\" width=\"114.65625\" height=\"23.8\" style=\"fill: rgb(0, 0, 0); fill-opacity: 0;\"/></g></g></g><rect class=\"scrollbar\" rx=\"20\" ry=\"3\" width=\"0\" height=\"0\" x=\"0\" y=\"0\" style=\"fill: rgb(128, 139, 164); fill-opacity: 1;\"/></g><g class=\"g-gtitle\"><text class=\"gtitle\" x=\"35\" y=\"50\" text-anchor=\"start\" dy=\"0em\" style=\"font-family: 'Open Sans', verdana, arial, sans-serif; font-size: 22px; fill: rgb(42, 63, 95); opacity: 1; font-weight: normal; white-space: pre;\">Wind Speed Distribution in Laurel, NE</text></g><g class=\"g-polartitle\"/></g></svg>"
      ]
     },
     "metadata": {},
     "output_type": "display_data"
    }
   ],
   "source": [
    "import plotly.graph_objects as go\n",
    "\n",
    "fig = go.Figure()\n",
    "\n",
    "fig.add_trace(go.Barpolar(\n",
    "    r=[77.5, 72.5, 70.0, 45.0, 22.5, 42.5, 40.0, 62.5],\n",
    "    name='11-14 m/s',\n",
    "    marker_color='rgb(106,81,163)'\n",
    "))\n",
    "fig.add_trace(go.Barpolar(\n",
    "    r=[57.5, 50.0, 45.0, 35.0, 20.0, 22.5, 37.5, 55.0],\n",
    "    name='8-11 m/s',\n",
    "    marker_color='rgb(158,154,200)'\n",
    "))\n",
    "fig.add_trace(go.Barpolar(\n",
    "    r=[40.0, 30.0, 30.0, 35.0, 7.5, 7.5, 32.5, 40.0],\n",
    "    name='5-8 m/s',\n",
    "    marker_color='rgb(203,201,226)'\n",
    "))\n",
    "fig.add_trace(go.Barpolar(\n",
    "    r=[20.0, 7.5, 15.0, 22.5, 2.5, 2.5, 12.5, 22.5],\n",
    "    name='< 5 m/s',\n",
    "    marker_color='rgb(242,240,247)'\n",
    "))\n",
    "\n",
    "fig.update_traces(text=['North', 'N-E', 'East', 'S-E', 'South', 'S-W', 'West', 'N-W'])\n",
    "fig.update_layout(\n",
    "    title='Wind Speed Distribution in Laurel, NE',\n",
    "    font_size=16,\n",
    "    legend_font_size=16,\n",
    "    polar_radialaxis_ticksuffix='%',\n",
    "    polar_angularaxis_rotation=90,\n",
    "\n",
    ")\n",
    "\n",
    "\n",
    "\n",
    "fig.show(renderer=\"svg\")"
   ]
  },
  {
   "cell_type": "code",
   "execution_count": 256,
   "id": "846a3e28",
   "metadata": {
    "jupyter": {
     "source_hidden": true
    }
   },
   "outputs": [
    {
     "data": {
      "image/png": "[encoded data removed]",
      "text/plain": [
       "<Figure size 576x576 with 1 Axes>"
      ]
     },
     "metadata": {
      "needs_background": "light"
     },
     "output_type": "display_data"
    }
   ],
   "source": [
    "# https://stackoverflow.com/questions/46874689/\n",
    "# getting-labels-on-top-of-bar-in-polar-radial-bar-chart-in-matplotlib-python3\n",
    "from matplotlib import pyplot as plt\n",
    "import numpy as np\n",
    "\n",
    "lObjectsALLcnts = [1, 1, 1, 2, 2, 3, 5, 14, 15, 20, 32, 33, 51, 1, 1, 2, 2, 3, 3, 3, 3, \n",
    "                   3, 4, 6, 7, 7, 10, 10, 14, 14, 14, 17, 1, 1, 1, 1, 2, 2, 2, 2, 3, 3, \n",
    "                   5, 5, 6, 14, 14, 27, 27, 1, 1, 2, 3, 4, 4, 5]\n",
    "\n",
    "lObjectsALLlbls = ['DuctPipe', 'Column', 'Protrusion', 'Tree', 'Pole', 'Bar', 'Undefined', \n",
    "                   'EarthingConductor', 'Grooves', 'UtilityPipe', 'Cables', 'RainPipe', 'Moulding', \n",
    "                   'Intrusion', 'PowerPlug', 'UtilityBox', 'Balcony', 'Lighting', 'Lock', 'Doorbell', \n",
    "                   'Alarm', 'LetterBox', 'Grate', 'Undefined', 'CableBox', 'Canopy', 'Vent', 'PowerBox', \n",
    "                   'UtilityHole', 'Recess', 'Protrusion', 'Shutter', 'Handrail', 'Lock', 'Mirror', \n",
    "                   'SecuritySpike', 'Bench', 'Intrusion', 'Picture', 'Showcase', 'Camera', \n",
    "                   'Undefined', 'Stair', 'Protrusion', 'Alarm', 'Graffiti', 'Lighting', 'Ornaments', \n",
    "                   'SecurityBar', \n",
    "                   'Grate', 'Vent', 'Lighting', 'UtilityHole', 'Intrusion', 'Undefined', 'Protrusion']\n",
    "\n",
    "iN = len(lObjectsALLcnts)\n",
    "arrCnts = np.array(lObjectsALLcnts)\n",
    "\n",
    "theta=np.arange(0,2*np.pi,2*np.pi/iN)\n",
    "width = (2*np.pi)/iN *0.9\n",
    "bottom = 50\n",
    "\n",
    "rotations = np.rad2deg(theta)\n",
    "y0,y1 = ax.get_ylim()\n",
    "\n",
    "fig = plt.figure(figsize=(8,8))\n",
    "ax = fig.add_axes([0.1, 0.1, 0.75, 0.75], polar=True)\n",
    "bars = ax.bar(theta, arrCnts, width=width, bottom=bottom)\n",
    "\n",
    "plt.axis('off')\n",
    "\n",
    "for x, bar, rotation, label in zip(theta, bars, rotations, lObjectsALLlbls):\n",
    "     offset = (bottom+bar.get_height())/(y1-y0)\n",
    "     lab = ax.text(0, 0, label, transform=None, \n",
    "             ha='center', va='center')\n",
    "     renderer = ax.figure.canvas.get_renderer()\n",
    "     bbox = lab.get_window_extent(renderer=renderer)\n",
    "     invb = ax.transData.inverted().transform([[0,0],[bbox.width,0] ])\n",
    "     lab.set_position((x,offset+(invb[1][0]-invb[0][0])/2.*2.7 ) )\n",
    "     lab.set_transform(ax.get_xaxis_transform())\n",
    "     lab.set_rotation(rotation)  \n",
    "plt.show()"
   ]
  },
  {
   "cell_type": "markdown",
   "id": "05cb67f7",
   "metadata": {},
   "source": [
    "# 地圖 "
   ]
  },
  {
   "cell_type": "code",
   "execution_count": 7,
   "id": "c78749ca",
   "metadata": {},
   "outputs": [],
   "source": [
    "import pandas as pd\n",
    "import matplotlib.pyplot as plt\n",
    "import geopandas as gpd"
   ]
  },
  {
   "cell_type": "code",
   "execution_count": 70,
   "id": "87681de3",
   "metadata": {},
   "outputs": [],
   "source": [
    "# https://datacatalog.worldbank.org/dataset/world-bank-official-boundaries\n",
    "path = r\"G:\\我的雲端硬碟\\python\\地理圖資\\WB_countries_Admin0_10m\\WB_countries_Admin0_10m.shp\"\n",
    "WB_gdf = gpd.read_file(path)"
   ]
  },
  {
   "cell_type": "code",
   "execution_count": 8,
   "id": "f1d46944",
   "metadata": {},
   "outputs": [],
   "source": [
    "# WB_gdf.head()"
   ]
  },
  {
   "cell_type": "code",
   "execution_count": 72,
   "id": "2083e0e4",
   "metadata": {},
   "outputs": [],
   "source": [
    "# WB_gdf.columns"
   ]
  },
  {
   "cell_type": "code",
   "execution_count": 73,
   "id": "9a4887e4",
   "metadata": {},
   "outputs": [],
   "source": [
    "# WB_gdf[\"REGION_WB\"].unique()"
   ]
  },
  {
   "cell_type": "code",
   "execution_count": 74,
   "id": "030f4374",
   "metadata": {},
   "outputs": [],
   "source": [
    "# WB_gdf.crs"
   ]
  },
  {
   "cell_type": "code",
   "execution_count": 75,
   "id": "1e5a4837",
   "metadata": {},
   "outputs": [],
   "source": [
    "# WB_gdf[WB_gdf[\"REGION_WB\"].isin([\"East Asia & Pacific\"])][\"NAME_EN\"].unique()"
   ]
  },
  {
   "cell_type": "code",
   "execution_count": 324,
   "id": "76b21c70",
   "metadata": {},
   "outputs": [
    {
     "data": {
      "text/plain": [
       "<AxesSubplot:>"
      ]
     },
     "execution_count": 324,
     "metadata": {},
     "output_type": "execute_result"
    },
    {
     "data": {
      "image/png": "[encoded data removed]",
      "text/plain": [
       "<Figure size 432x288 with 1 Axes>"
      ]
     },
     "metadata": {
      "needs_background": "light"
     },
     "output_type": "display_data"
    }
   ],
   "source": [
    "WB_gdf[WB_gdf[\"NAME_EN\"].isin([\"People's Republic of China\"])].plot() # FUCK"
   ]
  },
  {
   "cell_type": "code",
   "execution_count": 76,
   "id": "65a4545a",
   "metadata": {},
   "outputs": [],
   "source": [
    "OIE_case = {\n",
    "# 'Indonesia':0,\n",
    "#  'Malaysia':0,\n",
    " \"People's Republic of China\":12,\n",
    " 'South Korea':24,\n",
    " 'North Korea':0,\n",
    " 'Mongolia':0,\n",
    " 'Vietnam':37,\n",
    " 'Cambodia':2,\n",
    " 'Laos':2,\n",
    " 'Hong Kong':3,\n",
    " 'Philippines':8,\n",
    " 'Japan':26,\n",
    " 'Singapore':0,\n",
    "}"
   ]
  },
  {
   "cell_type": "code",
   "execution_count": 77,
   "id": "dfb004f4",
   "metadata": {},
   "outputs": [],
   "source": [
    "# WB_gdf[WB_gdf[\"NAME_EN\"].isin(OIE_case.keys())].plot()"
   ]
  },
  {
   "cell_type": "code",
   "execution_count": 78,
   "id": "44516146",
   "metadata": {},
   "outputs": [],
   "source": [
    "WB_gdf.loc[:,\"OIE_case\"] = WB_gdf.loc[:,\"NAME_EN\"].apply(\n",
    "                    lambda c: OIE_case[c] if c in OIE_case.keys() else np.nan)"
   ]
  },
  {
   "cell_type": "code",
   "execution_count": 81,
   "id": "57c96d37",
   "metadata": {},
   "outputs": [
    {
     "data": {
      "image/png": "[encoded data removed]",
      "text/plain": [
       "<Figure size 720x432 with 2 Axes>"
      ]
     },
     "metadata": {
      "needs_background": "light"
     },
     "output_type": "display_data"
    }
   ],
   "source": [
    "# set a variable that will call whatever column we want to visualise on the map\n",
    "variable = \"OIE_case\"\n",
    "# set the range for the choropleth\n",
    "vmin, vmax = 120, 220\n",
    "# create figure and axes for Matplotlib\n",
    "fig, ax = plt.subplots(1, figsize=(10, 6))\n",
    "\n",
    "WB_gdf[WB_gdf[\"NAME_EN\"].isin(OIE_case.keys())].plot(column=variable, cmap=\"pink_r\", linewidth=0.8, ax=ax, edgecolor=\"#EFEFEF\")\n",
    "\n",
    "# Create colorbar as a legend\n",
    "sm = plt.cm.ScalarMappable(cmap=\"pink_r\", norm=plt.Normalize(vmin=WB_gdf.loc[:,\"OIE_case\"].min(), vmax=WB_gdf.loc[:,\"OIE_case\"].max()))\n",
    "# empty array for the data range\n",
    "sm._A = []\n",
    "# add the colorbar to the figure\n",
    "cbar = fig.colorbar(sm)\n",
    "#saving our map as .png file.\n",
    "fig.savefig(\"Asia_map.svg\")"
   ]
  },
  {
   "cell_type": "markdown",
   "id": "567f18fc",
   "metadata": {},
   "source": [
    "## 台灣縣市界、鄉鎮區界(去除外島)"
   ]
  },
  {
   "cell_type": "code",
   "execution_count": 21,
   "id": "18437243",
   "metadata": {},
   "outputs": [],
   "source": [
    "# # 縣市界圖\n",
    "# taiwan_COUNTY_gdf = gpd.read_file(r'G:\\我的雲端硬碟\\python\\地理圖資\\0.縣市界圖\\COUNTY_MOI_1090820.shp', \n",
    "#                       encoding='utf-8', \n",
    "#                      )"
   ]
  },
  {
   "cell_type": "code",
   "execution_count": 10,
   "id": "ab3fc411",
   "metadata": {},
   "outputs": [],
   "source": [
    "# 鄉鎮市區界界圖 \n",
    "taiwan_TOWN_gdf = gpd.read_file(r'G:\\我的雲端硬碟\\python\\地理圖資\\1.鄉鎮市區界線(TWD97經緯度)\\TOWN_MOI_1091016.shp', \n",
    "                      encoding='utf-8', \n",
    "                     )"
   ]
  },
  {
   "cell_type": "code",
   "execution_count": 19,
   "id": "3603fbe9",
   "metadata": {},
   "outputs": [
    {
     "data": {
      "text/html": [
       "<div>\n",
       "<style scoped>\n",
       "    .dataframe tbody tr th:only-of-type {\n",
       "        vertical-align: middle;\n",
       "    }\n",
       "\n",
       "    .dataframe tbody tr th {\n",
       "        vertical-align: top;\n",
       "    }\n",
       "\n",
       "    .dataframe thead th {\n",
       "        text-align: right;\n",
       "    }\n",
       "</style>\n",
       "<table border=\"1\" class=\"dataframe\">\n",
       "  <thead>\n",
       "    <tr style=\"text-align: right;\">\n",
       "      <th></th>\n",
       "      <th>TOWNID</th>\n",
       "      <th>TOWNCODE</th>\n",
       "      <th>COUNTYNAME</th>\n",
       "      <th>TOWNNAME</th>\n",
       "      <th>TOWNENG</th>\n",
       "      <th>COUNTYID</th>\n",
       "      <th>COUNTYCODE</th>\n",
       "      <th>geometry</th>\n",
       "    </tr>\n",
       "  </thead>\n",
       "  <tbody>\n",
       "    <tr>\n",
       "      <th>0</th>\n",
       "      <td>V02</td>\n",
       "      <td>10014020</td>\n",
       "      <td>臺東縣</td>\n",
       "      <td>成功鎮</td>\n",
       "      <td>Chenggong Township</td>\n",
       "      <td>V</td>\n",
       "      <td>10014</td>\n",
       "      <td>POLYGON ((121.40982 23.21369, 121.40984 23.213...</td>\n",
       "    </tr>\n",
       "    <tr>\n",
       "      <th>1</th>\n",
       "      <td>T21</td>\n",
       "      <td>10013210</td>\n",
       "      <td>屏東縣</td>\n",
       "      <td>佳冬鄉</td>\n",
       "      <td>Jiadong Township</td>\n",
       "      <td>T</td>\n",
       "      <td>10013</td>\n",
       "      <td>POLYGON ((120.54846 22.46067, 120.54853 22.460...</td>\n",
       "    </tr>\n",
       "    <tr>\n",
       "      <th>2</th>\n",
       "      <td>P13</td>\n",
       "      <td>10009130</td>\n",
       "      <td>雲林縣</td>\n",
       "      <td>麥寮鄉</td>\n",
       "      <td>Mailiao Township</td>\n",
       "      <td>P</td>\n",
       "      <td>10009</td>\n",
       "      <td>POLYGON ((120.30198 23.81625, 120.30197 23.815...</td>\n",
       "    </tr>\n",
       "    <tr>\n",
       "      <th>3</th>\n",
       "      <td>V11</td>\n",
       "      <td>10014110</td>\n",
       "      <td>臺東縣</td>\n",
       "      <td>綠島鄉</td>\n",
       "      <td>Ludao Township</td>\n",
       "      <td>V</td>\n",
       "      <td>10014</td>\n",
       "      <td>MULTIPOLYGON (((121.49155 22.67746, 121.49185 ...</td>\n",
       "    </tr>\n",
       "    <tr>\n",
       "      <th>4</th>\n",
       "      <td>V16</td>\n",
       "      <td>10014160</td>\n",
       "      <td>臺東縣</td>\n",
       "      <td>蘭嶼鄉</td>\n",
       "      <td>Lanyu Township</td>\n",
       "      <td>V</td>\n",
       "      <td>10014</td>\n",
       "      <td>MULTIPOLYGON (((121.61180 21.94290, 121.61133 ...</td>\n",
       "    </tr>\n",
       "  </tbody>\n",
       "</table>\n",
       "</div>"
      ],
      "text/plain": [
       "  TOWNID  TOWNCODE COUNTYNAME TOWNNAME             TOWNENG COUNTYID  \\\n",
       "0    V02  10014020        臺東縣      成功鎮  Chenggong Township        V   \n",
       "1    T21  10013210        屏東縣      佳冬鄉    Jiadong Township        T   \n",
       "2    P13  10009130        雲林縣      麥寮鄉    Mailiao Township        P   \n",
       "3    V11  10014110        臺東縣      綠島鄉      Ludao Township        V   \n",
       "4    V16  10014160        臺東縣      蘭嶼鄉      Lanyu Township        V   \n",
       "\n",
       "  COUNTYCODE                                           geometry  \n",
       "0      10014  POLYGON ((121.40982 23.21369, 121.40984 23.213...  \n",
       "1      10013  POLYGON ((120.54846 22.46067, 120.54853 22.460...  \n",
       "2      10009  POLYGON ((120.30198 23.81625, 120.30197 23.815...  \n",
       "3      10014  MULTIPOLYGON (((121.49155 22.67746, 121.49185 ...  \n",
       "4      10014  MULTIPOLYGON (((121.61180 21.94290, 121.61133 ...  "
      ]
     },
     "execution_count": 19,
     "metadata": {},
     "output_type": "execute_result"
    }
   ],
   "source": [
    "# taiwan_COUNTY_gdf.head()\n",
    "taiwan_TOWN_gdf.head()"
   ]
  },
  {
   "cell_type": "code",
   "execution_count": 502,
   "id": "e10cad2b",
   "metadata": {},
   "outputs": [
    {
     "data": {
      "text/plain": [
       "array(['嘉義縣', '屏東縣', '彰化縣', '臺中市', '臺南市', '雲林縣', '高雄市'], dtype=object)"
      ]
     },
     "execution_count": 502,
     "metadata": {},
     "output_type": "execute_result"
    }
   ],
   "source": [
    "# df_group[\"countyname\"].unique()"
   ]
  },
  {
   "cell_type": "code",
   "execution_count": 12,
   "id": "f0ec2c3a",
   "metadata": {},
   "outputs": [
    {
     "data": {
      "text/plain": [
       "<AxesSubplot:>"
      ]
     },
     "execution_count": 12,
     "metadata": {},
     "output_type": "execute_result"
    },
    {
     "data": {
      "image/png": "[encoded data removed]",
      "text/plain": [
       "<Figure size 432x288 with 1 Axes>"
      ]
     },
     "metadata": {
      "needs_background": "light"
     },
     "output_type": "display_data"
    }
   ],
   "source": [
    "# 剔除 外島區域\n",
    "mask = (~taiwan_TOWN_gdf['COUNTYNAME'].isin([\"澎湖縣\",\"金門縣\",\"連江縣\"])) & (~taiwan_TOWN_gdf['TOWNNAME'].isin(['旗津區',\"綠島鄉\",\"蘭嶼鄉\",\"頭城鎮\"]))\n",
    "taiwan_TOWN_gdf[mask].plot()"
   ]
  },
  {
   "cell_type": "code",
   "execution_count": null,
   "id": "ecbab991",
   "metadata": {
    "collapsed": true,
    "jupyter": {
     "outputs_hidden": true,
     "source_hidden": true
    }
   },
   "outputs": [
    {
     "name": "stderr",
     "output_type": "stream",
     "text": [
      "<ipython-input-519-8f3402b0b20e>:2: UserWarning:\n",
      "\n",
      "CRS mismatch between the CRS of left geometries and the CRS of right geometries.\n",
      "Use `to_crs()` to reproject one of the input geometries to match the CRS of the other.\n",
      "\n",
      "Left CRS: EPSG:3824\n",
      "Right CRS: None\n",
      "\n",
      "\n"
     ]
    }
   ],
   "source": [
    "# 方法一 Clip 跑太久\n",
    "# taiwan_COUNTY_gdf_clip = gpd.clip(taiwan_COUNTY_gdf, taiwan_TOWN_gdf[mask])\n",
    "\n",
    "# # Ignore missing/empty geometries\n",
    "# taiwan_COUNTY_gdf_clip = taiwan_COUNTY_gdf_clip[~taiwan_COUNTY_gdf_clip.is_empty]\n",
    "\n",
    "# print(\"The clipped data have fewer line objects (represented by rows):\",\n",
    "#       taiwan_COUNTY_gdf_clip.shape, taiwan_COUNTY_gdf.shape)"
   ]
  },
  {
   "cell_type": "code",
   "execution_count": null,
   "id": "53884c84",
   "metadata": {},
   "outputs": [],
   "source": []
  },
  {
   "cell_type": "code",
   "execution_count": 20,
   "id": "ebc1b06f",
   "metadata": {},
   "outputs": [
    {
     "data": {
      "text/plain": [
       "<AxesSubplot:>"
      ]
     },
     "execution_count": 20,
     "metadata": {},
     "output_type": "execute_result"
    },
    {
     "data": {
      "image/png": "[encoded data removed]",
      "text/plain": [
       "<Figure size 432x288 with 1 Axes>"
      ]
     },
     "metadata": {
      "needs_background": "light"
     },
     "output_type": "display_data"
    }
   ],
   "source": [
    "# 方法二 dissolve 跑一陣子\n",
    "taiwan_TOWN_gdf_disslove = taiwan_TOWN_gdf[mask].dissolve(by='COUNTYNAME', aggfunc='sum')\n",
    "taiwan_TOWN_gdf_disslove.plot()"
   ]
  },
  {
   "cell_type": "code",
   "execution_count": 48,
   "id": "ba4586aa",
   "metadata": {},
   "outputs": [
    {
     "data": {
      "text/plain": [
       "array(['南投縣', '嘉義市', '嘉義縣', '基隆市', '宜蘭縣', '屏東縣', '彰化縣', '新北市', '新竹市',\n",
       "       '新竹縣', '桃園市', '臺中市', '臺北市', '臺南市', '臺東縣', '花蓮縣', '苗栗縣', '雲林縣',\n",
       "       '高雄市', nan], dtype=object)"
      ]
     },
     "execution_count": 48,
     "metadata": {},
     "output_type": "execute_result"
    }
   ],
   "source": [
    "taiwan_TOWN_gdf_disslove[\"COUNTYNAME\"].unique()"
   ]
  },
  {
   "cell_type": "code",
   "execution_count": 61,
   "id": "6c1e94c3",
   "metadata": {},
   "outputs": [],
   "source": [
    "# taiwan_TOWN_gdf_disslove[taiwan_TOWN_gdf_disslove[\"COUNTYNAME\"].isin(['臺北市'])].plot()"
   ]
  },
  {
   "cell_type": "code",
   "execution_count": 22,
   "id": "3ededf47",
   "metadata": {},
   "outputs": [],
   "source": [
    "# # 另存 shp 僅本島的縣市界圖\n",
    "# taiwan_TOWN_gdf_disslove.to_file(\"taiwan_COUNTY_noFarIsland.shp\")"
   ]
  },
  {
   "cell_type": "code",
   "execution_count": 23,
   "id": "020867fd",
   "metadata": {},
   "outputs": [
    {
     "name": "stderr",
     "output_type": "stream",
     "text": [
      "C:\\Users\\EMCT_Jeff\\anaconda3\\lib\\site-packages\\pandas\\core\\indexing.py:1667: SettingWithCopyWarning: \n",
      "A value is trying to be set on a copy of a slice from a DataFrame.\n",
      "Try using .loc[row_indexer,col_indexer] = value instead\n",
      "\n",
      "See the caveats in the documentation: https://pandas.pydata.org/pandas-docs/stable/user_guide/indexing.html#returning-a-view-versus-a-copy\n",
      "  self.obj[key] = value\n"
     ]
    }
   ],
   "source": [
    "# df 區分3個Wave\n",
    "wave_month = {\n",
    "    1:\"Wave1\",\n",
    "    2:\"Wave1\",\n",
    "    3:\"Wave1\",\n",
    "    4:\"Wave1\",\n",
    "    5:\"Wave2\",\n",
    "    6:\"Wave2\",\n",
    "    7:\"Wave2\",\n",
    "    8:\"Wave2\",\n",
    "    9:\"Wave2\",\n",
    "    11:\"Wave3\",\n",
    "    12:\"Wave3\",\n",
    "             }\n",
    "\n",
    "df_pic.loc[:,\"Wave\"] = df_pic.loc[:,\"sample_date_month\"].map(wave_month)\n",
    "# # df to gdf\n",
    "gdf_pic = gpd.GeoDataFrame(\n",
    "    df_pic, geometry=gpd.points_from_xy(df_pic[\"lng\"], df_pic[\"lat\"]))"
   ]
  },
  {
   "cell_type": "code",
   "execution_count": 56,
   "id": "bdf42fda",
   "metadata": {},
   "outputs": [],
   "source": [
    "# 區別有發生案例紀錄的鄉鎮\n",
    "# taiwan_TOWN_gdf_disslove = taiwan_TOWN_gdf_disslove.reset_index()\n",
    "taiwan_TOWN_gdf_disslove.loc[:,\"is_case\"] = taiwan_TOWN_gdf_disslove.loc[: ,\"COUNTYNAME\"].apply(lambda c:True if c in df_group[\"countyname\"].unique() else False)\n",
    "taiwan_TOWN_gdf_disslove.loc[:,\"color\"] = taiwan_TOWN_gdf_disslove.loc[: ,\"is_case\"].apply(lambda TF: \"#D6D6CA\" if TF else \"#E7E7DF\")"
   ]
  },
  {
   "cell_type": "code",
   "execution_count": 85,
   "id": "2e234c59",
   "metadata": {},
   "outputs": [
    {
     "name": "stderr",
     "output_type": "stream",
     "text": [
      "C:\\Users\\EMCT_Jeff\\anaconda3\\lib\\site-packages\\geopandas\\plotting.py:641: UserWarning: Only specify one of 'column' or 'color'. Using 'color'.\n",
      "  warnings.warn(\n",
      "C:\\Users\\EMCT_Jeff\\anaconda3\\lib\\site-packages\\geopandas\\plotting.py:641: UserWarning: Only specify one of 'column' or 'color'. Using 'color'.\n",
      "  warnings.warn(\n"
     ]
    },
    {
     "data": {
      "image/png": "[encoded data removed]",
      "text/plain": [
       "<Figure size 1440x1440 with 1 Axes>"
      ]
     },
     "metadata": {
      "needs_background": "light"
     },
     "output_type": "display_data"
    }
   ],
   "source": [
    "# set a variable that will call whatever column we want to visualise on the map\n",
    "variable = \"is_case\"\n",
    "\n",
    "# create figure and axes for Matplotlib\n",
    "fig, ax = plt.subplots(1, figsize=(20, 20))\n",
    "\n",
    "taiwan_TOWN_gdf_disslove.plot(\n",
    "                                                    column=variable, \n",
    "                                                    color = taiwan_TOWN_gdf_disslove[\"color\"],\n",
    "#                                                      cmap=, \n",
    "                                                     linewidth=1, \n",
    "                                                     ax=ax, \n",
    "                                                     edgecolor=\"#EFEFEF\"\n",
    "                                                    )\n",
    "\n",
    "gdf_pic[\"color\"] = gdf_pic[\"Wave\"].map({\"Wave1\":\"#F69494\",\"Wave2\":\"#FBD294\",\"Wave3\":\"#9EB9FC\",})\n",
    "gdf_pic.plot(column=\"Wave\", ax=ax,color=gdf_pic[\"color\"],markersize=100)\n",
    "\n",
    "#saving our map as .png file.\n",
    "fig.savefig(\"taiwan_map.svg\")"
   ]
  },
  {
   "cell_type": "code",
   "execution_count": null,
   "id": "d387ee63",
   "metadata": {},
   "outputs": [],
   "source": []
  }
 ],
 "metadata": {
  "kernelspec": {
   "display_name": "Python 3",
   "language": "python",
   "name": "python3"
  },
  "language_info": {
   "codemirror_mode": {
    "name": "ipython",
    "version": 3
   },
   "file_extension": ".py",
   "mimetype": "text/x-python",
   "name": "python",
   "nbconvert_exporter": "python",
   "pygments_lexer": "ipython3",
   "version": "3.8.3"
  }
 },
 "nbformat": 4,
 "nbformat_minor": 5
}
