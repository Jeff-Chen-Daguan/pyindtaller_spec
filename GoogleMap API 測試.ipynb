{
 "cells": [
  {
   "cell_type": "markdown",
   "id": "6d1e11cb",
   "metadata": {},
   "source": [
    "2021.10.14 GoogleMap API 測試"
   ]
  },
  {
   "cell_type": "markdown",
   "id": "0c819f25",
   "metadata": {},
   "source": [
    "- Maps SDK for Android\n",
    "- Maps SDK for iOS\n",
    "- Dynamic Map\n",
    "- Directions Advanced\n",
    "- Roads-Route Traveled\n",
    "- key是：\n",
    "- Only for SBIR智慧車隊，請勿另作其他用途"
   ]
  },
  {
   "cell_type": "markdown",
   "id": "5953b86c",
   "metadata": {},
   "source": [
    "- 文件: https://developers.google.com/maps/documentation\n",
    "- 關於編碼: \n",
    "    - https://stackoverflow.com/questions/9217274/how-to-decode-the-google-directions-api-polylines-field-into-lat-long-points-in\n",
    "    - https://developers.google.com/maps/documentation/utilities/polylinealgorithm\n",
    "    - python 套件: https://pypi.org/project/polyline/"
   ]
  },
  {
   "cell_type": "markdown",
   "id": "63db155e",
   "metadata": {},
   "source": [
    "# Directions Advanced"
   ]
  },
  {
   "cell_type": "code",
   "execution_count": 14,
   "id": "a9554253",
   "metadata": {},
   "outputs": [
    {
     "data": {
      "text/plain": [
       "{'geocoded_waypoints': [{'geocoder_status': 'OK',\n",
       "   'place_id': 'ChIJa147K9HX3IAR-lwiGIQv9i4',\n",
       "   'types': ['amusement_park',\n",
       "    'establishment',\n",
       "    'point_of_interest',\n",
       "    'tourist_attraction']},\n",
       "  {'geocoder_status': 'OK',\n",
       "   'place_id': 'ChIJzzgyJU--woARcZqceSdQ3dM',\n",
       "   'types': ['amusement_park',\n",
       "    'establishment',\n",
       "    'point_of_interest',\n",
       "    'tourist_attraction']}],\n",
       " 'routes': [{'bounds': {'northeast': {'lat': 34.1358593, 'lng': -117.922066},\n",
       "    'southwest': {'lat': 33.815582, 'lng': -118.3516991}},\n",
       "   'copyrights': 'Map data ©2021',\n",
       "   'legs': [{'distance': {'text': '35.1 英里', 'value': 56536},\n",
       "     'duration': {'text': '48 分鐘', 'value': 2885},\n",
       "     'end_address': '100 Universal City Plaza, Universal City, CA 91608美國',\n",
       "     'end_location': {'lat': 34.1358593, 'lng': -118.3511633},\n",
       "     'start_address': '1313 Disneyland Dr, Anaheim, CA 92802美國',\n",
       "     'start_location': {'lat': 33.8160897, 'lng': -117.9225226},\n",
       "     'steps': [{'distance': {'text': '10 英尺', 'value': 3},\n",
       "       'duration': {'text': '1 分鐘', 'value': 0},\n",
       "       'end_location': {'lat': 33.8160679, 'lng': -117.9225314},\n",
       "       'html_instructions': '往<b>西南</b>',\n",
       "       'polyline': {'points': 'qukmEvvvnUB@'},\n",
       "       'start_location': {'lat': 33.8160897, 'lng': -117.9225226},\n",
       "       'travel_mode': 'DRIVING'},\n",
       "      {'distance': {'text': '0.1 英里', 'value': 164},\n",
       "       'duration': {'text': '1 分鐘', 'value': 16},\n",
       "       'end_location': {'lat': 33.815582, 'lng': -117.9240573},\n",
       "       'html_instructions': '靠<b>右</b>',\n",
       "       'maneuver': 'keep-right',\n",
       "       'polyline': {'points': 'mukmExvvnUZPLJLLBBFJFLHPBPBL@N?L?J@l@?p@?j@'},\n",
       "       'start_location': {'lat': 33.8160679, 'lng': -117.9225314},\n",
       "       'travel_mode': 'DRIVING'},\n",
       "      {'distance': {'text': '289 英尺', 'value': 88},\n",
       "       'duration': {'text': '1 分鐘', 'value': 35},\n",
       "       'end_location': {'lat': 33.816278, 'lng': -117.9242395},\n",
       "       'html_instructions': '向<b>右</b>轉，朝<b>Southwest Pl</b>/<wbr/><b>West Pl</b>前進<div style=\"font-size:0.9em\">部分路段限制通行的道路</div>',\n",
       "       'maneuver': 'turn-right',\n",
       "       'polyline': {'points': 'krkmEj`wnUOF?F?DABABCBC?C@A?C?eB?'},\n",
       "       'start_location': {'lat': 33.815582, 'lng': -117.9240573},\n",
       "       'travel_mode': 'DRIVING'},\n",
       "      {'distance': {'text': '0.1 英里', 'value': 207},\n",
       "       'duration': {'text': '1 分鐘', 'value': 76},\n",
       "       'end_location': {'lat': 33.8179984, 'lng': -117.9240946},\n",
       "       'html_instructions': '向<b>右</b>轉進入<b>Southwest Pl</b>/<wbr/><b>West Pl</b><div style=\"font-size:0.9em\">部分路段限制通行的道路</div>',\n",
       "       'maneuver': 'turn-right',\n",
       "       'polyline': {'points': 'wvkmEnawnUEe@O?[BI?C?MEY?c@@E?G?EBKDk@?Q?_@?mAA'},\n",
       "       'start_location': {'lat': 33.816278, 'lng': -117.9242395},\n",
       "       'travel_mode': 'DRIVING'},\n",
       "      {'distance': {'text': '0.1 英里', 'value': 163},\n",
       "       'duration': {'text': '1 分鐘', 'value': 44},\n",
       "       'end_location': {'lat': 33.8179846, 'lng': -117.9223305},\n",
       "       'html_instructions': '向<b>右</b>轉進入<b>W Ball Rd</b><div style=\"font-size:0.9em\">經過Staybridge Suites Anaheim at the Park, an IHG Hotel(位於右手邊)</div>',\n",
       "       'maneuver': 'turn-right',\n",
       "       'polyline': {'points': 'oalmEp`wnU?iB?k@@iA@_C'},\n",
       "       'start_location': {'lat': 33.8179984, 'lng': -117.9240946},\n",
       "       'travel_mode': 'DRIVING'},\n",
       "      {'distance': {'text': '0.2 英里', 'value': 352},\n",
       "       'duration': {'text': '1 分鐘', 'value': 57},\n",
       "       'end_location': {'lat': 33.8207878, 'lng': -117.9230963},\n",
       "       'html_instructions': '向<b>左</b>轉進入<b>Disneyland Dr</b>',\n",
       "       'maneuver': 'turn-left',\n",
       "       'polyline': {'points': 'kalmEpuvnUAs@_@Bk@HA?UFKBa@JuCp@{@T_@LYLKJUJc@LEBeAX'},\n",
       "       'start_location': {'lat': 33.8179846, 'lng': -117.9223305},\n",
       "       'travel_mode': 'DRIVING'},\n",
       "      {'distance': {'text': '2.6 英里', 'value': 4183},\n",
       "       'duration': {'text': '3 分鐘', 'value': 151},\n",
       "       'end_location': {'lat': 33.8437993, 'lng': -117.9557998},\n",
       "       'html_instructions': '靠<b>右</b>行駛，走<b>I-5 N</b>，朝<b>Los Angeles</b>前進',\n",
       "       'maneuver': 'ramp-right',\n",
       "       'polyline': {'points': '}rlmEjzvnUi@MICEASIcA]{@[C?SGSGMEMEC?KCSAEAMAO?E?]@C?E@E?MBE@I@IBKBA@UJE@EBIDGDKF{AtAs@l@y@r@y@r@_At@WTs@l@qAjA_@\\\\]p@}ApAg@b@iAdA}BbCSTYXw@z@[ZyB`Cs@v@ST]^CDyBdCw@x@qBtB}@~@_AbA{@|@s@x@KLEBEDSPGF_BhCa@r@Wh@Wf@Sf@c@jAOb@K^ITW`AMd@]xAWpAU`Bo@hEGn@a@pCu@hFOv@GXWlAMh@e@|AM`@M^KX{@vBuAzCSd@aGrMwDvISd@aEjJgB|DsBtEaF~KMVm@rAWn@i@jAg@fA[p@[l@aAdBe@x@'},\n",
       "       'start_location': {'lat': 33.8207878, 'lng': -117.9230963},\n",
       "       'travel_mode': 'DRIVING'},\n",
       "      {'distance': {'text': '4.8 英里', 'value': 7776},\n",
       "       'duration': {'text': '7 分鐘', 'value': 402},\n",
       "       'end_location': {'lat': 33.8823716, 'lng': -118.0255065},\n",
       "       'html_instructions': '靠<b>左</b>以繼續行駛<b>I-5 N</b>',\n",
       "       'maneuver': 'keep-left',\n",
       "       'polyline': {'points': 'wbqmEvf}nUm@fA}@|AQZYd@[h@U`@QZ[l@c@|@_@v@{@rBUn@m@~AEHs@lBk@|AsB~EaC~F_A`C_@~@Uf@[t@aChGQf@{CjHyAjDiAhCoAxCmDhIkApCkAdCEFoA|BaA|AaBbCg@p@W^a@j@GHgAtAu@dAiCpDY\\\\aB|Be@|@ABINKRA@?@GJ?@Sd@_@~@Sh@Oh@WfAADAFGZ[rAYzAKb@EVETS~@U|@k@vB[lACF_AzE?@YlAMl@ADWbAOn@}@hCQh@k@~Am@xAu@dBYp@Wh@INgAzBc@x@QZgBzC_BpC[f@c@t@a@p@qB`ESb@ABQ^g@fASb@Sf@c@`AoAtCe@fAaBtDg@hAy@jBsAbD}@nBOZKV]v@oArCSb@Q`@?@Sb@aBpDi@hAy@lBKVsAnCABGHGNINEJCJGJGRc@`A[t@c@`AoAlCmBjEMZ]t@_@z@w@bBe@|@c@r@OTOTA@SZCBc@r@a@h@g@n@e@j@Y^_@^URs@p@y@t@IJGJc@h@]`@_FzGs@jA_@j@IJKTA@Wd@a@p@mAzB_CrFeAnCYz@Wz@ENKXoAzDeB|E]`ACHEJ?@ITELA@Yx@ENKTkApCe@fAOZIRs@~A{@lBQb@Yp@}@rBaAzBIN?BSb@IPSb@u@fBiBdE'},\n",
       "       'start_location': {'lat': 33.8437993, 'lng': -117.9557998},\n",
       "       'travel_mode': 'DRIVING'},\n",
       "      {'distance': {'text': '12.6 英里', 'value': 20358},\n",
       "       'duration': {'text': '13 分鐘', 'value': 784},\n",
       "       'end_location': {'lat': 34.0151967, 'lng': -118.1701571},\n",
       "       'html_instructions': '靠<b>左</b>以繼續行駛<b>I-5 N</b>',\n",
       "       'maneuver': 'keep-left',\n",
       "       'polyline': {'points': 'ysxmElzjoUsAdDiAtB_BxCaAfBuAjCGJUd@w@bBQ^GLGNy@tB_@dAA@IVq@zAgA~BCFCBgBjD[f@GLELIREJsA`Dc@bASj@y@rBa@~@aA|B[x@Qd@Qb@Sd@ITc@bAqAhDABsCbHSb@?@O`@g@jAABm@vAsA`DoB~EIPwC~GiF|Ky@`BGJmBvD{AzCsFxKQ\\\\yC`Gw@fBQPQ^m@rAeAfCYl@s@|A}B~EmCvGs@xAKR_@x@Q`@[p@KTKToApCu@zAaAdBc@r@a@r@kAnBmAnBaB~BW\\\\qAdBi@p@m@r@EDgBnBA@mBvBQNmChCEBeAfAuCrCgAdAKJmBlBeBdBqApAwA~As@z@EDIJa@h@u@bAaBrCk@~@i@bA_AzBOZw@bBu@bBs@xAq@zAg@bAs@rAs@jASXSVmBfC_BzBcApA{A~A{A~Ak@h@o@j@cAr@]\\\\]ZcDvBw@d@w@d@}CnBi@^y@f@w@d@KFIFOJOJEDQJEB[PsDzBi@\\\\}@j@{ClB{@j@YP_Al@{ChBaBbA_@TyA~@A?{BtAA@[RA?]TMFwA|@WN]RA@}@h@}BrAwA~@{BvAg@Ze@\\\\kC`BYTy@f@aEjCiBnAoAp@_@TcC`BcAp@s@d@e@\\\\kBtAcAn@SL[RQJA@]Tu@d@uAv@]RwCdB{@f@]TwBlAGBoBjA}BrAKFGDu@b@YN{@b@WNcAl@_@Ta@TqAx@}A|@wCbBcAn@}@h@sBhAe@VSLQH[RMF_@Ru@b@GDm@\\\\yAz@SJc@VeAn@q@`@}A|@sBjA}@h@KFQJa@T}A~@c@Vw@b@SLcAl@ID}@h@wCdB_@T_@T_Ap@y@n@g@b@i@f@_@^a@`@UXm@r@_@b@a@j@QVwAvBk@|@A@W^cA~AeA`B{BhDgAbBg@t@uAxBg@t@uCnEgA`Bg@v@e@t@k@|@eA`BqAlBW^y@pASZu@hAiIhMW^uBbDW^_@l@OTILKNe@r@CDe@n@MNOR_AdAk@h@m@j@c@^SJyAdAs@b@o@\\\\e@Ve@REBMF[Js@Vu@T_B`@qCj@c@JSDWFsB`@}@PmAXE@s@NWDw@Pk@LODc@Hk@Lw@NC@]HaAPi@Ls@Nc@Jg@JgAZi@Nu@XiAd@gAh@eAl@MHKFe@TOHc@Xe@\\\\g@ZONa@ZcAr@_C~A[PeAr@SNyB|AYVEDWRk@f@qAnAoApA_A|@{A|AYX_A~@}@|@eAbAs@t@uBtBoBpBmAlA{AzAm@j@YZ]\\\\kAhAeAhAa@^QTOPs@|@a@n@QXq@fA{@vAkArBGLm@bAg@v@_AjACDA?YXYXGFo@l@WVCBKJA@MN_@\\\\k@j@GD}@|@YXoAnA}@x@A@[Z[XA@{@v@a@`@i@f@MJq@p@g@d@{DtDkBhBiAdA{CtCgBbBONwArAOLm@h@YVONEBWV[Z[Zw@t@u@p@URq@h@o@f@q@^c@Ve@TOHw@`@u@^s@\\\\SL_@R]TC@e@X}@t@_@\\\\EDs@n@aA|@}AxAy@v@kBdBWRk@j@YVWViB`BiA`ASPu@r@aA`Am@j@c@h@cE~EeBrBUVCB_CnCw@bAeAdBGFWb@i@|@Q^Wf@Ud@O\\\\[j@m@fAKPMP[f@c@h@YZ]^_@^i@h@UTs@l@s@n@_Az@y@p@OLED]\\\\m@n@m@n@a@h@ILa@l@[h@OXOT_@t@iAxCYz@KTCHIPWt@Od@MZCFy@dCw@xBOb@e@tAaAnCY|@eAtCg@xAKZM`@WbACLAHCFc@pBy@lE'},\n",
       "       'start_location': {'lat': 33.8823716, 'lng': -118.0255065},\n",
       "       'travel_mode': 'DRIVING'},\n",
       "      {'distance': {'text': '1.4 英里', 'value': 2317},\n",
       "       'duration': {'text': '2 分鐘', 'value': 108},\n",
       "       'end_location': {'lat': 34.02057509999999, 'lng': -118.1937522},\n",
       "       'html_instructions': '靠<b>右</b>以繼續行駛<b>I-5 N</b>',\n",
       "       'maneuver': 'keep-right',\n",
       "       'polyline': {'points': '_rrnEnbgpUc@hBMd@AD[bAYr@KVg@bAq@pAOXKP?@A@?@Ub@OZ?@GJGNCF?B[t@CDADi@~AQl@CHCDIVWp@k@zAY`Ag@vAW~@kCrHa@hA?@A?ENs@lBe@vAYbAK`@ABU~@CLABKp@c@nCIf@MrAMrA?@Cd@AXCd@Cp@E\\\\?~@At@@lCArGBtIA`@?p@BP?Z@\\\\?hBAbD@lEA`D?@Ap@ABEjAC`@C`@Gt@MrAE^ETEZALGZ'},\n",
       "       'start_location': {'lat': 34.0151967, 'lng': -118.1701571},\n",
       "       'travel_mode': 'DRIVING'},\n",
       "      {'distance': {'text': '0.8 英里', 'value': 1258},\n",
       "       'duration': {'text': '1 分鐘', 'value': 82},\n",
       "       'end_location': {'lat': 34.0256221, 'lng': -118.2059515},\n",
       "       'html_instructions': '靠<b>左</b>以繼續行駛<b>I-5 N</b>',\n",
       "       'maneuver': 'keep-left',\n",
       "       'polyline': {'points': 'sssnE|ukpUo@fDQr@Mf@Y`ASl@Sj@aBbFiAfD{@jCOb@M`@m@fBMb@{AnEAFwAfEyAnEM^K\\\\y@dCwA|DMb@]nAMj@K^CLIZK`@'},\n",
       "       'start_location': {'lat': 34.02057509999999, 'lng': -118.1937522},\n",
       "       'travel_mode': 'DRIVING'},\n",
       "      {'distance': {'text': '11.7 英里', 'value': 18765},\n",
       "       'duration': {'text': '18 分鐘', 'value': 1058},\n",
       "       'end_location': {'lat': 34.1291624, 'lng': -118.3472425},\n",
       "       'html_instructions': '分岔路口靠<b>左</b>繼續走<b>US-101 N</b>，沿著<b>Los Angeles N</b>/<wbr/><b>Civic Ctr</b>的路標走<div style=\"font-size:0.9em\">這條道路可能會在特定時間或日期部分封閉</div>',\n",
       "       'maneuver': 'fork-left',\n",
       "       'polyline': {'points': 'cstnEdbnpU?b@CPCNg@xBW`AMf@Od@Ut@cArCmAnDKXIXSj@o@lBQd@_CzGwAfEIPM\\\\CP[z@[|@_AlCKZYz@c@hACF]|@a@fAK\\\\KRu@fBO\\\\S`@]p@IPCDGLMTOZ]j@]h@QX]b@MPORIJKNUVCBEFQPa@b@sArAWXa@V[Zs@h@m@`@]TKDQLQF[NEBSJE@KDMDiAXC@]JWDg@FOB]Dy@DU?_@@u@As@EoBWy@Gs@Em@?GAW?_@@[BmAFy@Fa@@U@a@?W?a@Aa@CC?]C]Cu@KeC_@}BY}CU]Ak@Ae@?wA@iB@oC@k@?}AF]@K?aAHS@k@Di@Hm@Fm@JyAXi@L_Bd@C@_AZc@PsAh@UHeAh@GBE@C@_A^OFc@Pe@R}@\\\\{An@WNUNA?MLOJOLMLKLMRQVA@GHABIJQ^[z@A??BEJOd@CLAHCJAHCP?HCNAPARAb@Er@?HAF?DAJ?DADG^AJC^AFATCJ?DAJOnAU~BKhAEZC`@CNMrAKpAQzBMtAOzBCRGbAAJK|ACRAT?TCv@ARCVEZIdAGbA?BCZEbACj@CdAAz@Bv@@J@PDbA?j@At@Ab@C\\\\Gp@CNGZG\\\\I^GPCJUl@Wn@CHCDIPOZOVa@v@_@n@MVS\\\\QZGLYh@S^QZCDCDGLILINwAlCk@fA_@p@k@dAS`@o@jA]n@QZ]n@_@p@KNs@lAMRKP]h@w@pAMLy@hA{BtCST_@`@i@h@g@d@g@b@UPURu@n@yAjAyAlAo@f@UPw@l@CDi@b@GD]XEDUPURGD_@ZYXSRONY\\\\QTY`@UZW^g@x@]h@GHq@dASXW`@[`@S\\\\e@p@o@`AGJINe@p@U`@m@|@A@cA~Aa@p@OXg@`AMXYl@Q`@O\\\\Wr@O^GPGR[~@ELMd@?@K\\\\YhAEJ?B[nAUz@WfAe@dBaAxD[pAYhAABs@pCAD_@|AMf@AFm@~BCNELIXABI\\\\Oj@EPQj@Oh@EPIRGTIVKVcAxCQh@c@nAc@nAADa@lA_@fAABQd@a@hACL[|@IT]jAY~@_@fAAHGNADENADyAvEUl@M\\\\CFCHIRCFq@bBg@lAc@hAM\\\\K\\\\IVELm@nBa@|AYdAERGVCH_AzEk@zCWjAu@~DMn@G\\\\K`@m@`DOz@?@CHAJMn@I`@I`@If@YjB]`CO`A?@Kr@?DCP_@nCe@~CG^QpAAJQdACTETc@fDMjAShBKlACPGh@Ij@Ij@Mx@[hBId@Ot@c@hBCJMj@Qj@c@lAKZUj@CDO^GLSb@Yr@CDSb@S`@MZEJYr@KRYn@eAhCO^}@dC}@`Cm@dBQd@y@|BsArDSh@g@rAEHSb@_@x@?Ba@t@KRSb@Wd@CD]n@KPYf@U^Wd@c@t@e@r@_@l@ILILABMTKPMPqBfD{AbCu@hAOVmAjBQTILg@l@g@n@i@f@k@j@k@d@e@^w@l@]VSLg@X]TC@wAt@iEtB_@R_Af@YNEBq@\\\\i@XWNYP_@To@d@URa@`@i@h@UXe@l@OVQTMR_@n@i@`AGL]n@o@lAaAfBc@v@aAjBg@|@o@hAq@`AILORg@r@e@l@QREFa@^_@^KHYV[Tq@h@YPe@`@_Ah@EDwAt@k@VoAn@}GhDwAp@c@Tg@Ve@Tu@^s@b@]T]X]VSRURYZg@l@UVOTU\\\\g@~@i@fA]|@Y~@g@zBG\\\\Mv@E`@E\\\\Gx@A@?RCXC|@A^?h@?^?T?^@v@?F?ZAz@AXARCh@C`@G~@CLCPE^E\\\\ERABEVEPAHK`@K^Ql@g@xAQ^Wj@Wh@]l@u@vAu@vAOZEFU`@]r@?@sAjC[j@OXS`@qB~Ds@xAgAvBm@jAINCHkA|B[p@KNCFQ\\\\EH[j@KL[f@U\\\\GHY\\\\[^c@b@GFCD]XMJm@f@w@h@w@`@IDGDIBKDQHg@PODgAZODg@L_@HSDcAVc@JE@}@ReAV}@RC@c@JWFk@N]F[HaARe@HG@A?eATMBMB_@Fa@H{@NsB\\\\sAZwAf@iA`@kAd@gAh@cAl@aAj@gAv@{@n@]Ve@`@m@j@{@x@u@v@MPKNMPm@t@]`@kB~BSR{@fAcAnAY\\\\ABWXA@[b@SVA@WZe@f@g@f@ONi@b@CBA?CBOLg@ZGFs@b@A?IFeB`ASL[RYRWPQLQL_@\\\\MLQPg@h@gBhBCDIDOPGFOPONKLGDw@x@_A~@'},\n",
       "       'start_location': {'lat': 34.0256221, 'lng': -118.2059515},\n",
       "       'travel_mode': 'DRIVING'},\n",
       "      {'distance': {'text': '0.1 英里', 'value': 221},\n",
       "       'duration': {'text': '1 分鐘', 'value': 12},\n",
       "       'end_location': {'lat': 34.1307998, 'lng': -118.3485738},\n",
       "       'html_instructions': '在<b>11B</b>出口下交流道，朝<b>Universal Studios Bl</b>前進',\n",
       "       'maneuver': 'ramp-right',\n",
       "       'polyline': {'points': 'gzhoEfuiqUWDEBw@r@A?MJSR[VA@IHc@`@]XUTKJIFKJQJCBUD'},\n",
       "       'start_location': {'lat': 34.1291624, 'lng': -118.3472425},\n",
       "       'travel_mode': 'DRIVING'},\n",
       "      {'distance': {'text': '0.3 英里', 'value': 447},\n",
       "       'duration': {'text': '1 分鐘', 'value': 31},\n",
       "       'end_location': {'lat': 34.1338819, 'lng': -118.3515888},\n",
       "       'html_instructions': '走<b>W.C. Fields Dr</b>',\n",
       "       'maneuver': 'merge',\n",
       "       'polyline': {'points': 'odioEp}iqUMLSLYNEBYNe@Xk@^]T]TQLMH_@Tm@l@[b@U\\\\S\\\\CDQZGLKNGLGFCFEDCBCBCBC@EDEBEBC@EDCBEBEBCB?@CBC@CBEFCBCDEDEFINUd@'},\n",
       "       'start_location': {'lat': 34.1307998, 'lng': -118.3485738},\n",
       "       'travel_mode': 'DRIVING'},\n",
       "      {'distance': {'text': '0.1 英里', 'value': 234},\n",
       "       'duration': {'text': '1 分鐘', 'value': 29},\n",
       "       'end_location': {'lat': 34.1358593, 'lng': -118.3511633},\n",
       "       'html_instructions': '向<b>右</b>轉進入<b>Universal Studios Blvd</b><div style=\"font-size:0.9em\">目的地在右邊</div>',\n",
       "       'maneuver': 'turn-right',\n",
       "       'polyline': {'points': 'wwioElpjqUQNA@A@A?A@C?C?A?A?A?C?CAA?CAAAA??AA?CAEAC?A?A?A?A?A?A?OQCAAAECUMGCGCECGCGCICICICGAECKACAGAIAGAGAG?IAQAMAI?IAI?K?I@O@IA'},\n",
       "       'start_location': {'lat': 34.1338819, 'lng': -118.3515888},\n",
       "       'travel_mode': 'DRIVING'}],\n",
       "     'traffic_speed_entry': [],\n",
       "     'via_waypoint': []}],\n",
       "   'overview_polyline': {'points': 'qukmEvvvnUz@l@\\\\n@H|@@vCQXMHE?eB?Ee@k@BM?qACeAHq@?mAA?iB@uB?sDcBT_GvA{Ar@i@PeAXi@MOEwAg@gBk@cBUqAJkAf@{KlJqBhB]p@}ApAqBhBqCxCgFrFiBrB}O~Pg@b@qDnGsAvDmAvEuEzZyAvFkDlIab@v_A}BfFaDlGaGhK{CvG}BfGuPfb@gVdk@yFfJiBfCaHjJiC~DsAzC}@`D_ArEmC|KgBxIgBbGaDhIcCfF}FbKsEpIkFrLwKzViNvZmE~JyDxIqCjF}DpFsF|FqItLo@hAoBlDeEbKcA`DmFvOyDjJeHfPgB`E}DjJiDnGuDdHyA`DgF|LqCnFgCdGqF`NsRte@cMjXoMjWuFzKaEfJeLhWsEhJ_FfIuFtH}CjDcQbQ}JdKeBvBmFzI}D~IaElIiEdGcDlEwD~D}DfDqH~EyH|EoBnAcb@nWwJ~FcU|N}IxFiGjEqHrE}WnOqZhQgYnPoL`HkElDeCnCuH~KmSf[w]ri@{AxBiCrCeBvAcF~CuAj@{IzBiKxBwGtA{J|BmGvCoAp@cKdHmFxD{CpC}N~NaQ`QiCpCyCnE}D|GmBhCsCpCcNvM}]r\\\\uH|GaIdEgBdAwChC{LdL}FhFwIvJ_G~G}CtEoEnIgB~B}B~BuG|FgCvC}AfCeExKuGjRiDpKoCnMcAtCmCjF_AzB_Lh\\\\_D~JQbAiA~IUlHDxZCrUu@jJkAdGoAbE}Kx\\\\mJdY{@hDU|@Ct@qArFwD~KmIhVsExMuDfJmC~E}BzCmCpCiCvBqDrBkEbA}BNuA?cD]cDOaDLsCJ_BEwFs@eJs@kPNkDZuDl@mEpAsEnBkDtAgElBo@f@oAbBkAhDg@nG{BpV_B`VQpEDpC@hEWzBsAhE_D~F}KvSgEjH{F~HeCfCcKlIgDnCgDfD{EjHuEbHqFhJoCfH_AlDgKva@qE~NmI~VoCpIoDjJoB`HqApGyEtVoE`ZiBbNk@rF}@zFaApEoA`EwB`F}DjJeKbYsC~F_E~GoEnHoFpIkB`CgDxCqClBcMrGmCxAgCpBuBhCiBzCuI~OsE`GsG~E{SlKmDnBeBxAgBvBeCbFwApGUzBIjGKpGi@lE_@|AcBrEkF`KgQr]iAjBsAdBmAjAkD~ByDrAwG|A}OhDeHrAuHxCiG`EmD~CiHvIeFpGgDdDiFbDsDnCwE|E{A|AwAdA}@v@_Av@mAfAw@t@y@b@}D`C}@l@mAbAq@`Ai@~@c@r@e@d@c@\\\\e@h@s@fAIBWCOGM?cAo@eCk@mBC'},\n",
       "   'summary': 'I-5 N和US-101 N',\n",
       "   'warnings': [],\n",
       "   'waypoint_order': []}],\n",
       " 'status': 'OK'}"
      ]
     },
     "execution_count": 14,
     "metadata": {},
     "output_type": "execute_result"
    }
   ],
   "source": [
    "import requests as rs\n",
    "key = \n",
    "url = f\"https://maps.googleapis.com/maps/api/directions/json?language=zh-TW&origin=Disneyland&destination=Universal+Studios+Hollywood&key={key}\"\n",
    "\n",
    "r = rs.get(url, auth=('user', 'pass'))\n",
    "result = r.json()\n",
    "result"
   ]
  },
  {
   "cell_type": "code",
   "execution_count": 35,
   "id": "1f3aa68b",
   "metadata": {},
   "outputs": [
    {
     "name": "stdout",
     "output_type": "stream",
     "text": [
      "15\n"
     ]
    },
    {
     "data": {
      "text/plain": [
       "'wbqmEvf}nUm@fA}@|AQZYd@[h@U`@QZ[l@c@|@_@v@{@rBUn@m@~AEHs@lBk@|AsB~EaC~F_A`C_@~@Uf@[t@aChGQf@{CjHyAjDiAhCoAxCmDhIkApCkAdCEFoA|BaA|AaBbCg@p@W^a@j@GHgAtAu@dAiCpDY\\\\aB|Be@|@ABINKRA@?@GJ?@Sd@_@~@Sh@Oh@WfAADAFGZ[rAYzAKb@EVETS~@U|@k@vB[lACF_AzE?@YlAMl@ADWbAOn@}@hCQh@k@~Am@xAu@dBYp@Wh@INgAzBc@x@QZgBzC_BpC[f@c@t@a@p@qB`ESb@ABQ^g@fASb@Sf@c@`AoAtCe@fAaBtDg@hAy@jBsAbD}@nBOZKV]v@oArCSb@Q`@?@Sb@aBpDi@hAy@lBKVsAnCABGHGNINEJCJGJGRc@`A[t@c@`AoAlCmBjEMZ]t@_@z@w@bBe@|@c@r@OTOTA@SZCBc@r@a@h@g@n@e@j@Y^_@^URs@p@y@t@IJGJc@h@]`@_FzGs@jA_@j@IJKTA@Wd@a@p@mAzB_CrFeAnCYz@Wz@ENKXoAzDeB|E]`ACHEJ?@ITELA@Yx@ENKTkApCe@fAOZIRs@~A{@lBQb@Yp@}@rBaAzBIN?BSb@IPSb@u@fBiBdE'"
      ]
     },
     "execution_count": 35,
     "metadata": {},
     "output_type": "execute_result"
    }
   ],
   "source": [
    "print(len(result[\"routes\"][0][\"legs\"][0][\"steps\"]))\n",
    "encode_points = result[\"routes\"][0][\"legs\"][0][\"steps\"][7][\"polyline\"][\"points\"]\n",
    "encode_points"
   ]
  },
  {
   "cell_type": "code",
   "execution_count": 37,
   "id": "dda1673f",
   "metadata": {},
   "outputs": [
    {
     "data": {
      "text/plain": [
       "[(33.8438, -117.9558),\n",
       " (33.84403, -117.95616),\n",
       " (33.84434, -117.95663),\n",
       " (33.84443, -117.95677),\n",
       " (33.84456, -117.95696),\n",
       " (33.8447, -117.95717),\n",
       " (33.84481, -117.95734),\n",
       " (33.8449, -117.95748),\n",
       " (33.84504, -117.95771),\n",
       " (33.84522, -117.95802),\n",
       " (33.84538, -117.9583),\n",
       " (33.84568, -117.95888),\n",
       " (33.84579, -117.95912),\n",
       " (33.84602, -117.9596),\n",
       " (33.84605, -117.95965),\n",
       " (33.84631, -117.9602),\n",
       " (33.84653, -117.96067),\n",
       " (33.84711, -117.96179),\n",
       " (33.84776, -117.96307),\n",
       " (33.84808, -117.96372),\n",
       " (33.84824, -117.96404),\n",
       " (33.84835, -117.96424),\n",
       " (33.84849, -117.96451),\n",
       " (33.84914, -117.96584),\n",
       " (33.84923, -117.96604),\n",
       " (33.85001, -117.96754),\n",
       " (33.85046, -117.9684),\n",
       " (33.85083, -117.96909),\n",
       " (33.85123, -117.96986),\n",
       " (33.8521, -117.97151),\n",
       " (33.85248, -117.97224),\n",
       " (33.85286, -117.97291),\n",
       " (33.85289, -117.97295),\n",
       " (33.85329, -117.97358),\n",
       " (33.85362, -117.97405),\n",
       " (33.85411, -117.97471),\n",
       " (33.85431, -117.97496),\n",
       " (33.85443, -117.97512),\n",
       " (33.8546, -117.97534),\n",
       " (33.85464, -117.97539),\n",
       " (33.855, -117.97582),\n",
       " (33.85527, -117.97617),\n",
       " (33.85596, -117.97706),\n",
       " (33.85609, -117.97721),\n",
       " (33.85658, -117.97784),\n",
       " (33.85677, -117.97815),\n",
       " (33.85678, -117.97817),\n",
       " (33.85683, -117.97825),\n",
       " (33.85689, -117.97835),\n",
       " (33.8569, -117.97836),\n",
       " (33.8569, -117.97837),\n",
       " (33.85694, -117.97843),\n",
       " (33.85694, -117.97844),\n",
       " (33.85704, -117.97863),\n",
       " (33.8572, -117.97895),\n",
       " (33.8573, -117.97916),\n",
       " (33.85738, -117.97937),\n",
       " (33.8575, -117.97973),\n",
       " (33.85751, -117.97976),\n",
       " (33.85752, -117.9798),\n",
       " (33.85756, -117.97994),\n",
       " (33.8577, -117.98036),\n",
       " (33.85783, -117.98082),\n",
       " (33.85789, -117.981),\n",
       " (33.85792, -117.98112),\n",
       " (33.85795, -117.98123),\n",
       " (33.85805, -117.98155),\n",
       " (33.85816, -117.98186),\n",
       " (33.85838, -117.98246),\n",
       " (33.85852, -117.98285),\n",
       " (33.85854, -117.98289),\n",
       " (33.85886, -117.98399),\n",
       " (33.85886, -117.984),\n",
       " (33.85899, -117.98439),\n",
       " (33.85906, -117.98462),\n",
       " (33.85907, -117.98465),\n",
       " (33.85919, -117.98499),\n",
       " (33.85927, -117.98523),\n",
       " (33.85958, -117.98592),\n",
       " (33.85967, -117.98613),\n",
       " (33.85989, -117.98661),\n",
       " (33.86012, -117.98706),\n",
       " (33.86039, -117.98757),\n",
       " (33.86052, -117.98782),\n",
       " (33.86064, -117.98803),\n",
       " (33.86069, -117.98811),\n",
       " (33.86105, -117.98873),\n",
       " (33.86123, -117.98902),\n",
       " (33.86132, -117.98916),\n",
       " (33.86184, -117.98994),\n",
       " (33.86232, -117.99067),\n",
       " (33.86246, -117.99087),\n",
       " (33.86264, -117.99114),\n",
       " (33.86281, -117.99139),\n",
       " (33.86338, -117.99236),\n",
       " (33.86348, -117.99254),\n",
       " (33.86349, -117.99256),\n",
       " (33.86358, -117.99272),\n",
       " (33.86378, -117.99308),\n",
       " (33.86388, -117.99326),\n",
       " (33.86398, -117.99346),\n",
       " (33.86416, -117.99379),\n",
       " (33.86456, -117.99454),\n",
       " (33.86475, -117.9949),\n",
       " (33.86524, -117.99581),\n",
       " (33.86544, -117.99618),\n",
       " (33.86573, -117.99672),\n",
       " (33.86615, -117.99754),\n",
       " (33.86646, -117.9981),\n",
       " (33.86654, -117.99824),\n",
       " (33.8666, -117.99836),\n",
       " (33.86675, -117.99864),\n",
       " (33.86715, -117.99938),\n",
       " (33.86725, -117.99956),\n",
       " (33.86734, -117.99973),\n",
       " (33.86734, -117.99974),\n",
       " (33.86744, -117.99992),\n",
       " (33.86793, -118.00081),\n",
       " (33.86814, -118.00118),\n",
       " (33.86843, -118.00173),\n",
       " (33.86849, -118.00185),\n",
       " (33.86891, -118.00257),\n",
       " (33.86892, -118.00259),\n",
       " (33.86896, -118.00264),\n",
       " (33.869, -118.00272),\n",
       " (33.86905, -118.0028),\n",
       " (33.86908, -118.00286),\n",
       " (33.8691, -118.00292),\n",
       " (33.86914, -118.00298),\n",
       " (33.86918, -118.00308),\n",
       " (33.86936, -118.00341),\n",
       " (33.8695, -118.00368),\n",
       " (33.86968, -118.00401),\n",
       " (33.87008, -118.00472),\n",
       " (33.87063, -118.00574),\n",
       " (33.8707, -118.00588),\n",
       " (33.87085, -118.00615),\n",
       " (33.87101, -118.00645),\n",
       " (33.87129, -118.00695),\n",
       " (33.87148, -118.00726),\n",
       " (33.87166, -118.00752),\n",
       " (33.87174, -118.00763),\n",
       " (33.87182, -118.00774),\n",
       " (33.87183, -118.00775),\n",
       " (33.87193, -118.00789),\n",
       " (33.87195, -118.00791),\n",
       " (33.87213, -118.00817),\n",
       " (33.8723, -118.00838),\n",
       " (33.8725, -118.00862),\n",
       " (33.87269, -118.00884),\n",
       " (33.87282, -118.009),\n",
       " (33.87298, -118.00916),\n",
       " (33.87309, -118.00926),\n",
       " (33.87335, -118.00951),\n",
       " (33.87364, -118.00978),\n",
       " (33.87369, -118.00984),\n",
       " (33.87373, -118.0099),\n",
       " (33.87391, -118.01011),\n",
       " (33.87406, -118.01028),\n",
       " (33.87518, -118.0117),\n",
       " (33.87544, -118.01208),\n",
       " (33.8756, -118.0123),\n",
       " (33.87565, -118.01236),\n",
       " (33.87571, -118.01247),\n",
       " (33.87572, -118.01248),\n",
       " (33.87584, -118.01267),\n",
       " (33.87601, -118.01292),\n",
       " (33.8764, -118.01354),\n",
       " (33.87704, -118.01476),\n",
       " (33.87739, -118.01548),\n",
       " (33.87752, -118.01578),\n",
       " (33.87764, -118.01608),\n",
       " (33.87767, -118.01616),\n",
       " (33.87773, -118.01629),\n",
       " (33.87813, -118.01723),\n",
       " (33.87864, -118.01834),\n",
       " (33.87879, -118.01867),\n",
       " (33.87881, -118.01872),\n",
       " (33.87884, -118.01878),\n",
       " (33.87884, -118.01879),\n",
       " (33.87889, -118.0189),\n",
       " (33.87892, -118.01897),\n",
       " (33.87893, -118.01898),\n",
       " (33.87906, -118.01927),\n",
       " (33.87909, -118.01935),\n",
       " (33.87915, -118.01946),\n",
       " (33.87953, -118.02019),\n",
       " (33.87972, -118.02055),\n",
       " (33.8798, -118.02069),\n",
       " (33.87985, -118.02079),\n",
       " (33.88011, -118.02127),\n",
       " (33.88041, -118.02182),\n",
       " (33.8805, -118.022),\n",
       " (33.88063, -118.02225),\n",
       " (33.88094, -118.02283),\n",
       " (33.88127, -118.02345),\n",
       " (33.88132, -118.02353),\n",
       " (33.88132, -118.02355),\n",
       " (33.88142, -118.02373),\n",
       " (33.88147, -118.02382),\n",
       " (33.88157, -118.024),\n",
       " (33.88184, -118.02452),\n",
       " (33.88237, -118.02551)]"
      ]
     },
     "execution_count": 37,
     "metadata": {},
     "output_type": "execute_result"
    }
   ],
   "source": [
    "import polyline\n",
    "decode_points = polyline.decode(encode_points)\n",
    "decode_points"
   ]
  },
  {
   "cell_type": "code",
   "execution_count": 42,
   "id": "3d97f335",
   "metadata": {},
   "outputs": [
    {
     "data": {
      "text/html": [
       "<div style=\"width:100%;\"><div style=\"position:relative;width:100%;height:0;padding-bottom:60%;\"><span style=\"color:#565656\">Make this Notebook Trusted to load map: File -> Trust Notebook</span><iframe src=\"about:blank\" style=\"position:absolute;width:100%;height:100%;left:0;top:0;border:none !important;\" data-html=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 onload=\"this.contentDocument.open();this.contentDocument.write(atob(this.getAttribute('data-html')));this.contentDocument.close();\" allowfullscreen webkitallowfullscreen mozallowfullscreen></iframe></div></div>"
      ],
      "text/plain": [
       "<folium.folium.Map at 0x256a9c9c520>"
      ]
     },
     "execution_count": 42,
     "metadata": {},
     "output_type": "execute_result"
    }
   ],
   "source": [
    "import folium\n",
    "\n",
    "m = folium.Map(location=[33.86843, -118.024],\n",
    "               zoom_start=13)\n",
    "\n",
    "folium.PolyLine(decode_points).add_to(m)\n",
    "\n",
    "m"
   ]
  },
  {
   "cell_type": "code",
   "execution_count": null,
   "id": "3da7a72e",
   "metadata": {},
   "outputs": [],
   "source": []
  },
  {
   "cell_type": "markdown",
   "id": "9c844d0c",
   "metadata": {},
   "source": [
    "# Roads-Route Traveled"
   ]
  },
  {
   "cell_type": "markdown",
   "id": "fc90b870",
   "metadata": {},
   "source": [
    "- 文件: https://developers.google.com/maps/documentation/roads/overview\n",
    "- Snap to Roads: https://developers.google.com/maps/documentation/roads/snap\n"
   ]
  },
  {
   "cell_type": "code",
   "execution_count": 91,
   "id": "6b42e3d6",
   "metadata": {},
   "outputs": [
    {
     "data": {
      "text/plain": [
       "[(-35.27801, 149.12958),\n",
       " (-35.28032, 149.12907),\n",
       " (-35.28099, 149.12929),\n",
       " (-35.28144, 149.12984),\n",
       " (-35.28194, 149.13003),\n",
       " (-35.28282, 149.12956),\n",
       " (-35.28302, 149.12881),\n",
       " (-35.28473, 149.12836)]"
      ]
     },
     "execution_count": 91,
     "metadata": {},
     "output_type": "execute_result"
    }
   ],
   "source": [
    "path_points = \"-35.27801%2C149.12958%7C-35.28032%2C149.12907%7C-35.28099%2C149.12929%7C-35.28144%2C149.12984%7C-35.28194%2C149.13003%7C-35.28282%2C149.12956%7C-35.28302%2C149.12881%7C-35.28473%2C149.12836\"\n",
    "path_points_org = path_points.replace(\"%2C\",\",\").split(\"%7C\")\n",
    "path_points_org_lst = [tuple(element.split(\",\")) for element in path_points_org]\n",
    "path_points_org_new = []\n",
    "for l in path_points_org_lst:\n",
    "    path_points_org_new.append(tuple([float(l[0]),float(l[1])]))\n",
    "path_points_org_new"
   ]
  },
  {
   "cell_type": "code",
   "execution_count": 69,
   "id": "98f09a7f",
   "metadata": {},
   "outputs": [],
   "source": [
    "# , = %2C\n",
    "# | = %7C\n",
    "url = f\"https://roads.googleapis.com/v1/snapToRoads?path={path_points}&interpolate=true&key={key}\"\n",
    "\n",
    "response = rs.get(url)\n",
    "\n",
    "# print(response.text)"
   ]
  },
  {
   "cell_type": "code",
   "execution_count": 96,
   "id": "8913e044",
   "metadata": {},
   "outputs": [
    {
     "name": "stdout",
     "output_type": "stream",
     "text": [
      "94\n"
     ]
    }
   ],
   "source": [
    "print(len(response.json()[\"snappedPoints\"]))\n",
    "snap_point_lst = [tuple([xy[\"location\"][\"latitude\"], xy[\"location\"][\"longitude\"]]) for xy in response.json()[\"snappedPoints\"]]\n",
    "# snap_point_lst"
   ]
  },
  {
   "cell_type": "code",
   "execution_count": 95,
   "id": "0772628c",
   "metadata": {},
   "outputs": [
    {
     "data": {
      "text/html": [
       "<div style=\"width:100%;\"><div style=\"position:relative;width:100%;height:0;padding-bottom:60%;\"><span style=\"color:#565656\">Make this Notebook Trusted to load map: File -> Trust Notebook</span><iframe src=\"about:blank\" style=\"position:absolute;width:100%;height:100%;left:0;top:0;border:none !important;\" data-html=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 onload=\"this.contentDocument.open();this.contentDocument.write(atob(this.getAttribute('data-html')));this.contentDocument.close();\" allowfullscreen webkitallowfullscreen mozallowfullscreen></iframe></div></div>"
      ],
      "text/plain": [
       "<folium.folium.Map at 0x256aa2529d0>"
      ]
     },
     "execution_count": 95,
     "metadata": {},
     "output_type": "execute_result"
    }
   ],
   "source": [
    "import folium\n",
    "\n",
    "m = folium.Map(location=[-35.2840205, 149.1284124],\n",
    "               zoom_start=16)\n",
    "\n",
    "folium.PolyLine(path_points_org_new, color='blue').add_to(m) # 原始\n",
    "folium.PolyLine(snap_point_lst, color='red').add_to(m) #snap後\n",
    "\n",
    "\n",
    "m"
   ]
  },
  {
   "cell_type": "code",
   "execution_count": null,
   "id": "d66d7e11",
   "metadata": {},
   "outputs": [],
   "source": []
  }
 ],
 "metadata": {
  "kernelspec": {
   "display_name": "Python 3",
   "language": "python",
   "name": "python3"
  },
  "language_info": {
   "codemirror_mode": {
    "name": "ipython",
    "version": 3
   },
   "file_extension": ".py",
   "mimetype": "text/x-python",
   "name": "python",
   "nbconvert_exporter": "python",
   "pygments_lexer": "ipython3",
   "version": "3.8.3"
  }
 },
 "nbformat": 4,
 "nbformat_minor": 5
}
