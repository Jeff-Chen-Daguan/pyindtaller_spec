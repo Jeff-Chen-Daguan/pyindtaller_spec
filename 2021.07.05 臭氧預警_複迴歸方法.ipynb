{
 "cells": [
  {
   "cell_type": "markdown",
   "id": "6907af70",
   "metadata": {},
   "source": [
    "2021.07.05 臭氧預警 複迴歸方法"
   ]
  },
  {
   "cell_type": "markdown",
   "id": "01bd34f8",
   "metadata": {},
   "source": [
    "1. 讀取sample data(2018~2020，冷熱季)\n",
    "    - 北: 新店、板橋、古亭\n",
    "    - 中: 南投、竹山、埔里\n",
    "    - 南: 屏東、潮州、小港\n",
    "2. 變數(y=O3八小每日最大值)\n",
    "    - x=O3小時值每日最大值 + 當日0點CO小時值(OR 當日0\\~7點CO累積值 OR 當日0\\~3 vs 5~7點CO提升比率)\n",
    "    - (ex:南投站) x=O3小時值每日最大值 + 彰化、線西、沙鹿、大里站的O3小時值、O3前3小時平均?\n",
    "    - (未來)+光化測站資料\n",
    "3. Model (單變數v.s.多元線性迴歸)\n",
    "    - sklearn.linear_model\n",
    "4. 驗證\n",
    "    - 每日預測y超過橘警71的最初時間、小時數\n",
    "    \n",
    "- 更細緻的冷熱季管理>> "
   ]
  },
  {
   "cell_type": "code",
   "execution_count": 48,
   "id": "3d2f7af3",
   "metadata": {},
   "outputs": [],
   "source": [
    "import pandas as pd  \n",
    "import numpy as np  \n",
    "\n",
    "# from sklearn.model_selection import train_test_split \n",
    "from sklearn.linear_model import LinearRegression\n",
    "from sklearn.metrics import r2_score\n",
    "from sklearn import metrics\n",
    "\n",
    "import sys\n",
    "sys.path.append('G:\\我的雲端硬碟\\python')\n",
    "from polib.CsvEngn import *\n",
    "\n",
    "import seaborn as sns\n",
    "sns.set(style=\"darkgrid\")\n",
    "\n",
    "import matplotlib.pyplot as plt\n",
    "%matplotlib inline\n",
    "\n",
    "from pylab import mpl\n",
    "mpl.rcParams['font.sans-serif'] = ['Microsoft YaHei']  \n",
    "mpl.rcParams['axes.unicode_minus'] = False\n",
    "\n",
    "import datetime"
   ]
  },
  {
   "cell_type": "markdown",
   "id": "71d16542",
   "metadata": {},
   "source": [
    "# EDA"
   ]
  },
  {
   "cell_type": "markdown",
   "id": "f80cf670",
   "metadata": {},
   "source": [
    "## 讀檔"
   ]
  },
  {
   "cell_type": "code",
   "execution_count": 2,
   "id": "59b6af58",
   "metadata": {},
   "outputs": [
    {
     "name": "stdout",
     "output_type": "stream",
     "text": [
      "  >> 讀取:: G:\\我的雲端硬碟\\python\\output\\0705\\AQI_rowdata_20210705_11.21.18.pkl\n"
     ]
    }
   ],
   "source": [
    "bak_file_path = r\"G:\\我的雲端硬碟\\python\\output\\0705\\AQI_rowdata_20210705_11.21.18.pkl\"\n",
    "df = read_data_dir_fPathExt(bak_file_path)\n",
    "# df.head()"
   ]
  },
  {
   "cell_type": "code",
   "execution_count": 3,
   "id": "99cb2dac",
   "metadata": {},
   "outputs": [
    {
     "name": "stdout",
     "output_type": "stream",
     "text": [
      "<class 'pandas.core.frame.DataFrame'>\n",
      "RangeIndex: 244152 entries, 0 to 244151\n",
      "Data columns (total 27 columns):\n",
      " #   Column            Non-Null Count   Dtype         \n",
      "---  ------            --------------   -----         \n",
      " 0   index             244152 non-null  int64         \n",
      " 1   SiteName          244152 non-null  object        \n",
      " 2   County            244152 non-null  object        \n",
      " 3   AQI               240758 non-null  float64       \n",
      " 4   Pollutant         129506 non-null  object        \n",
      " 5   Status            243914 non-null  object        \n",
      " 6   SO2               237985 non-null  float64       \n",
      " 7   CO                239670 non-null  float64       \n",
      " 8   O3                239046 non-null  float64       \n",
      " 9   O3_8hr            241872 non-null  float64       \n",
      " 10  PM10              237085 non-null  float64       \n",
      " 11  PM2.5             233989 non-null  float64       \n",
      " 12  NO2               236667 non-null  float64       \n",
      " 13  NOx               236668 non-null  float64       \n",
      " 14  NO                236628 non-null  float64       \n",
      " 15  WindSpeed         241556 non-null  float64       \n",
      " 16  WindDirec         241565 non-null  float64       \n",
      " 17  DataCreationDate  244152 non-null  datetime64[ns]\n",
      " 18  Unit              0 non-null       object        \n",
      " 19  CO_8hr            242458 non-null  float64       \n",
      " 20  PM2.5_AVG         240797 non-null  float64       \n",
      " 21  PM10_AVG          239490 non-null  float64       \n",
      " 22  SO2_AVG           240405 non-null  float64       \n",
      " 23  Longitude         225943 non-null  float64       \n",
      " 24  Latitude          225943 non-null  float64       \n",
      " 25  SiteId            123651 non-null  float64       \n",
      " 26  date              244152 non-null  object        \n",
      "dtypes: datetime64[ns](1), float64(19), int64(1), object(6)\n",
      "memory usage: 50.3+ MB\n"
     ]
    }
   ],
   "source": [
    "# 篩選測站 & 篩選年分\n",
    "site_lst = [\"新店\", \"板橋\", \"古亭\", \"南投\",\"竹山\",\"埔里\", \"屏東\",\"潮州\",\"小港\"]\n",
    "year_min_max = [2018,2020]\n",
    "pic_mask = (df[\"SiteName\"].isin(site_lst)) & (df[\"DataCreationDate\"].dt.year>=year_min_max[0]) & (df[\"DataCreationDate\"].dt.year<=year_min_max[1])\n",
    "df_pic = df[pic_mask].reset_index(drop=True)\n",
    "df_pic.info()"
   ]
  },
  {
   "cell_type": "code",
   "execution_count": 4,
   "id": "d0025c2d",
   "metadata": {},
   "outputs": [],
   "source": [
    "# 移除遺漏值\n",
    "df_pic.dropna(subset=[\"O3_8hr\", \"O3\"], inplace=True)"
   ]
  },
  {
   "cell_type": "code",
   "execution_count": 5,
   "id": "92286e92",
   "metadata": {},
   "outputs": [],
   "source": [
    "# 合併 冷熱季 欄位\n"
   ]
  },
  {
   "cell_type": "markdown",
   "id": "a47bfd8a",
   "metadata": {},
   "source": [
    "## 變數"
   ]
  },
  {
   "cell_type": "code",
   "execution_count": 6,
   "id": "8c90e3bd",
   "metadata": {},
   "outputs": [],
   "source": [
    "#定義實際超標門檻值\n",
    "exceed_value_real = 71 #實際超標門檻值(臭氧橘警71)\n",
    "df_pic.loc[:,\"O3_8hr_max\"] = df_pic.loc[:,[\"SiteName\",\"date\",\"O3_8hr\"]].groupby(by=[\"SiteName\",\"date\"]).transform(max).values\n",
    "df_pic.loc[:,\"is_exceed_date\"] = df_pic.loc[:,\"O3_8hr_max\"] >= exceed_value_real\n",
    "\n",
    "# 抓出超標時間點，合併回df_pic\n",
    "df_pic_real_exceed_time = df_pic[df_pic[\"O3_8hr\"]>=exceed_value_real][[\"SiteName\",\"date\",\"DataCreationDate\"]].groupby(\n",
    "                                                            [\"SiteName\",\"date\"], as_index=False).min()\n",
    "df_pic_real_exceed_time.loc[:,\"real_exceed_hour\"] = df_pic_real_exceed_time.loc[:,\"DataCreationDate\"].dt.hour\n",
    "df_pic = df_pic.merge(df_pic_real_exceed_time[[\"SiteName\",\"date\",\"real_exceed_hour\"]], how=\"left\", on=[\"SiteName\",\"date\"])"
   ]
  },
  {
   "cell_type": "code",
   "execution_count": 7,
   "id": "0d47a3e6",
   "metadata": {},
   "outputs": [],
   "source": [
    "# 計算每日O3_8hr、O3最大值\n",
    "cols = [\"O3_8hr\",\"O3\"]\n",
    "gp_cols = [\"SiteName\",\"date\"]\n",
    "df_daily_max = df_pic[gp_cols+cols].groupby(by=gp_cols, as_index=False).max()\n",
    "df_daily_max.rename(columns={\"O3_8hr\":\"O3_8hr_max\", \"O3\":\"O3_max\"}, inplace=True)"
   ]
  },
  {
   "cell_type": "code",
   "execution_count": 8,
   "id": "96d71218",
   "metadata": {},
   "outputs": [
    {
     "data": {
      "text/plain": [
       "1094"
      ]
     },
     "execution_count": 8,
     "metadata": {},
     "output_type": "execute_result"
    }
   ],
   "source": [
    "df_daily_max[\"date\"].nunique()"
   ]
  },
  {
   "cell_type": "code",
   "execution_count": 9,
   "id": "e206cf37",
   "metadata": {},
   "outputs": [
    {
     "data": {
      "text/html": [
       "<div>\n",
       "<style scoped>\n",
       "    .dataframe tbody tr th:only-of-type {\n",
       "        vertical-align: middle;\n",
       "    }\n",
       "\n",
       "    .dataframe tbody tr th {\n",
       "        vertical-align: top;\n",
       "    }\n",
       "\n",
       "    .dataframe thead th {\n",
       "        text-align: right;\n",
       "    }\n",
       "</style>\n",
       "<table border=\"1\" class=\"dataframe\">\n",
       "  <thead>\n",
       "    <tr style=\"text-align: right;\">\n",
       "      <th></th>\n",
       "      <th>O3_8hr_max</th>\n",
       "      <th>O3_max</th>\n",
       "    </tr>\n",
       "  </thead>\n",
       "  <tbody>\n",
       "    <tr>\n",
       "      <th>O3_8hr_max</th>\n",
       "      <td>1.000000</td>\n",
       "      <td>0.939707</td>\n",
       "    </tr>\n",
       "    <tr>\n",
       "      <th>O3_max</th>\n",
       "      <td>0.939707</td>\n",
       "      <td>1.000000</td>\n",
       "    </tr>\n",
       "  </tbody>\n",
       "</table>\n",
       "</div>"
      ],
      "text/plain": [
       "            O3_8hr_max    O3_max\n",
       "O3_8hr_max    1.000000  0.939707\n",
       "O3_max        0.939707  1.000000"
      ]
     },
     "execution_count": 9,
     "metadata": {},
     "output_type": "execute_result"
    }
   ],
   "source": [
    "# 相關性\n",
    "df_daily_max.corr(method ='pearson')"
   ]
  },
  {
   "cell_type": "code",
   "execution_count": 10,
   "id": "93fe5353",
   "metadata": {},
   "outputs": [],
   "source": [
    "# df_result\n",
    "df_result = df_daily_max.copy(deep=True)"
   ]
  },
  {
   "cell_type": "markdown",
   "id": "e2ca14fd",
   "metadata": {},
   "source": [
    "### 監測因子相關"
   ]
  },
  {
   "cell_type": "markdown",
   "id": "61c80a7d",
   "metadata": {},
   "source": [
    "#### 每日0點 小時值"
   ]
  },
  {
   "cell_type": "code",
   "execution_count": 11,
   "id": "9c3cdb22",
   "metadata": {},
   "outputs": [],
   "source": [
    "object_lst = [\"CO\", \"NOx\",\"NO\",\"NO2\",\"SO2\"]"
   ]
  },
  {
   "cell_type": "code",
   "execution_count": 12,
   "id": "23125f18",
   "metadata": {},
   "outputs": [
    {
     "data": {
      "text/html": [
       "<div>\n",
       "<style scoped>\n",
       "    .dataframe tbody tr th:only-of-type {\n",
       "        vertical-align: middle;\n",
       "    }\n",
       "\n",
       "    .dataframe tbody tr th {\n",
       "        vertical-align: top;\n",
       "    }\n",
       "\n",
       "    .dataframe thead th {\n",
       "        text-align: right;\n",
       "    }\n",
       "</style>\n",
       "<table border=\"1\" class=\"dataframe\">\n",
       "  <thead>\n",
       "    <tr style=\"text-align: right;\">\n",
       "      <th></th>\n",
       "      <th>SiteName</th>\n",
       "      <th>date</th>\n",
       "      <th>O3_8hr_max</th>\n",
       "      <th>O3_max</th>\n",
       "      <th>CO_at0</th>\n",
       "      <th>NOx_at0</th>\n",
       "      <th>NO_at0</th>\n",
       "      <th>NO2_at0</th>\n",
       "      <th>SO2_at0</th>\n",
       "    </tr>\n",
       "  </thead>\n",
       "  <tbody>\n",
       "    <tr>\n",
       "      <th>0</th>\n",
       "      <td>南投</td>\n",
       "      <td>2018-01-01</td>\n",
       "      <td>45.0</td>\n",
       "      <td>58.0</td>\n",
       "      <td>0.0</td>\n",
       "      <td>18.0</td>\n",
       "      <td>0.0</td>\n",
       "      <td>18.0</td>\n",
       "      <td>1.0</td>\n",
       "    </tr>\n",
       "    <tr>\n",
       "      <th>1</th>\n",
       "      <td>南投</td>\n",
       "      <td>2018-01-02</td>\n",
       "      <td>41.0</td>\n",
       "      <td>54.0</td>\n",
       "      <td>0.0</td>\n",
       "      <td>26.0</td>\n",
       "      <td>2.0</td>\n",
       "      <td>24.0</td>\n",
       "      <td>2.0</td>\n",
       "    </tr>\n",
       "    <tr>\n",
       "      <th>2</th>\n",
       "      <td>南投</td>\n",
       "      <td>2018-01-03</td>\n",
       "      <td>53.0</td>\n",
       "      <td>79.0</td>\n",
       "      <td>0.0</td>\n",
       "      <td>22.0</td>\n",
       "      <td>2.0</td>\n",
       "      <td>20.0</td>\n",
       "      <td>2.0</td>\n",
       "    </tr>\n",
       "    <tr>\n",
       "      <th>3</th>\n",
       "      <td>南投</td>\n",
       "      <td>2018-01-04</td>\n",
       "      <td>30.0</td>\n",
       "      <td>45.0</td>\n",
       "      <td>0.0</td>\n",
       "      <td>33.0</td>\n",
       "      <td>3.0</td>\n",
       "      <td>30.0</td>\n",
       "      <td>5.0</td>\n",
       "    </tr>\n",
       "    <tr>\n",
       "      <th>4</th>\n",
       "      <td>南投</td>\n",
       "      <td>2018-01-05</td>\n",
       "      <td>7.0</td>\n",
       "      <td>15.0</td>\n",
       "      <td>0.0</td>\n",
       "      <td>20.0</td>\n",
       "      <td>1.0</td>\n",
       "      <td>18.0</td>\n",
       "      <td>4.0</td>\n",
       "    </tr>\n",
       "  </tbody>\n",
       "</table>\n",
       "</div>"
      ],
      "text/plain": [
       "  SiteName        date  O3_8hr_max  O3_max  CO_at0  NOx_at0  NO_at0  NO2_at0  \\\n",
       "0       南投  2018-01-01        45.0    58.0     0.0     18.0     0.0     18.0   \n",
       "1       南投  2018-01-02        41.0    54.0     0.0     26.0     2.0     24.0   \n",
       "2       南投  2018-01-03        53.0    79.0     0.0     22.0     2.0     20.0   \n",
       "3       南投  2018-01-04        30.0    45.0     0.0     33.0     3.0     30.0   \n",
       "4       南投  2018-01-05         7.0    15.0     0.0     20.0     1.0     18.0   \n",
       "\n",
       "   SO2_at0  \n",
       "0      1.0  \n",
       "1      2.0  \n",
       "2      2.0  \n",
       "3      5.0  \n",
       "4      4.0  "
      ]
     },
     "execution_count": 12,
     "metadata": {},
     "output_type": "execute_result"
    }
   ],
   "source": [
    "time = 0\n",
    "\n",
    "# df_result 重置\n",
    "df_result = df_daily_max.copy(deep=True)\n",
    "\n",
    "# 取每日0點 CO小時值\n",
    "mask = (df_pic[\"DataCreationDate\"].dt.hour==time)\n",
    "\n",
    "# 合併 df_result\n",
    "for obj in object_lst:\n",
    "    df_result = df_result.merge(df_pic.loc[mask, [\"SiteName\",\"date\", obj]], how=\"left\", on=[\"SiteName\",\"date\"])\n",
    "    df_result.rename(columns={obj:f\"{obj}_at{time}\"}, inplace=True)\n",
    "df_result.head()"
   ]
  },
  {
   "cell_type": "code",
   "execution_count": 13,
   "id": "fc84a72a",
   "metadata": {},
   "outputs": [
    {
     "data": {
      "text/plain": [
       "Index(['index', 'SiteName', 'County', 'AQI', 'Pollutant', 'Status', 'SO2',\n",
       "       'CO', 'O3', 'O3_8hr', 'PM10', 'PM2.5', 'NO2', 'NOx', 'NO', 'WindSpeed',\n",
       "       'WindDirec', 'DataCreationDate', 'Unit', 'CO_8hr', 'PM2.5_AVG',\n",
       "       'PM10_AVG', 'SO2_AVG', 'Longitude', 'Latitude', 'SiteId', 'date',\n",
       "       'O3_8hr_max', 'is_exceed_date', 'real_exceed_hour', 'O3_max', 'CO_at0',\n",
       "       'NOx_at0', 'NO_at0', 'NO2_at0', 'SO2_at0'],\n",
       "      dtype='object')"
      ]
     },
     "execution_count": 13,
     "metadata": {},
     "output_type": "execute_result"
    }
   ],
   "source": [
    "# 整合成 df_pic1\n",
    "df_pic_1 = df_pic.merge(df_result.drop(columns=[\"O3_8hr_max\"]), how=\"left\", on=[\"SiteName\",\"date\"])\n",
    "df_pic_1.columns"
   ]
  },
  {
   "cell_type": "code",
   "execution_count": 14,
   "id": "20c59fe6",
   "metadata": {},
   "outputs": [
    {
     "name": "stdout",
     "output_type": "stream",
     "text": [
      "O3_8hr_max    1.000000\n",
      "CO_at0       -0.041006\n",
      "NOx_at0      -0.016676\n",
      "NO_at0       -0.116529\n",
      "NO2_at0       0.036449\n",
      "SO2_at0       0.003666\n",
      "Name: O3_8hr_max, dtype: float64\n"
     ]
    },
    {
     "data": {
      "text/plain": [
       "<AxesSubplot:>"
      ]
     },
     "execution_count": 14,
     "metadata": {},
     "output_type": "execute_result"
    },
    {
     "data": {
      "image/png": "[encoded data removed]",
      "text/plain": [
       "<Figure size 432x288 with 2 Axes>"
      ]
     },
     "metadata": {},
     "output_type": "display_data"
    }
   ],
   "source": [
    "# 相關性 每日0點  相關性太低 \n",
    "corr = df_result.drop(columns=[\"O3_max\"]).corr(method ='pearson')\n",
    "print(corr[\"O3_8hr_max\"])\n",
    "\n",
    "mask = np.triu(np.ones_like(corr, dtype=bool))\n",
    "\n",
    "sns.set_theme(style=\"white\")\n",
    "cmap = sns.diverging_palette(230, 20, as_cmap=True)\n",
    "sns.heatmap(corr, mask=mask, cmap=cmap, vmax=1, center=0, vmin=-1,\n",
    "            square=True, linewidths=.5, cbar_kws={\"shrink\": .5})"
   ]
  },
  {
   "cell_type": "code",
   "execution_count": 15,
   "id": "e5804c7d",
   "metadata": {},
   "outputs": [
    {
     "data": {
      "image/png": "[encoded data removed]",
      "text/plain": [
       "<Figure size 1080x360 with 5 Axes>"
      ]
     },
     "metadata": {},
     "output_type": "display_data"
    }
   ],
   "source": [
    "# 畫出直方圖\n",
    "\n",
    "# set a grey background (use sns.set_theme() if seaborn version 0.11.0 or above) \n",
    "sns.set(style=\"darkgrid\")\n",
    "\n",
    "fig, axs = plt.subplots(1, len(object_lst), figsize=(15, 5))\n",
    "\n",
    "for idx, col in enumerate(object_lst):\n",
    "    sns.histplot(data=df_result, x=f\"{col}_at{time}\", kde=False, color=\"skyblue\", ax=axs[idx])\n",
    "\n",
    "plt.show()"
   ]
  },
  {
   "cell_type": "markdown",
   "id": "30b2de07",
   "metadata": {},
   "source": [
    "#### 每日7點 平均值"
   ]
  },
  {
   "cell_type": "code",
   "execution_count": 16,
   "id": "3bd5c77b",
   "metadata": {},
   "outputs": [],
   "source": [
    "objectAVG_lst = [\"CO_8hr\",\"SO2_AVG\"]"
   ]
  },
  {
   "cell_type": "code",
   "execution_count": 17,
   "id": "3b3fe9de",
   "metadata": {},
   "outputs": [
    {
     "data": {
      "text/html": [
       "<div>\n",
       "<style scoped>\n",
       "    .dataframe tbody tr th:only-of-type {\n",
       "        vertical-align: middle;\n",
       "    }\n",
       "\n",
       "    .dataframe tbody tr th {\n",
       "        vertical-align: top;\n",
       "    }\n",
       "\n",
       "    .dataframe thead th {\n",
       "        text-align: right;\n",
       "    }\n",
       "</style>\n",
       "<table border=\"1\" class=\"dataframe\">\n",
       "  <thead>\n",
       "    <tr style=\"text-align: right;\">\n",
       "      <th></th>\n",
       "      <th>SiteName</th>\n",
       "      <th>date</th>\n",
       "      <th>O3_8hr_max</th>\n",
       "      <th>O3_max</th>\n",
       "      <th>CO_8hr_at7</th>\n",
       "      <th>SO2_AVG_at7</th>\n",
       "    </tr>\n",
       "  </thead>\n",
       "  <tbody>\n",
       "    <tr>\n",
       "      <th>0</th>\n",
       "      <td>南投</td>\n",
       "      <td>2018-01-01</td>\n",
       "      <td>45.0</td>\n",
       "      <td>58.0</td>\n",
       "      <td>0.0</td>\n",
       "      <td>2.0</td>\n",
       "    </tr>\n",
       "    <tr>\n",
       "      <th>1</th>\n",
       "      <td>南投</td>\n",
       "      <td>2018-01-02</td>\n",
       "      <td>41.0</td>\n",
       "      <td>54.0</td>\n",
       "      <td>0.0</td>\n",
       "      <td>2.0</td>\n",
       "    </tr>\n",
       "    <tr>\n",
       "      <th>2</th>\n",
       "      <td>南投</td>\n",
       "      <td>2018-01-03</td>\n",
       "      <td>53.0</td>\n",
       "      <td>79.0</td>\n",
       "      <td>0.0</td>\n",
       "      <td>4.0</td>\n",
       "    </tr>\n",
       "    <tr>\n",
       "      <th>3</th>\n",
       "      <td>南投</td>\n",
       "      <td>2018-01-04</td>\n",
       "      <td>30.0</td>\n",
       "      <td>45.0</td>\n",
       "      <td>0.0</td>\n",
       "      <td>4.0</td>\n",
       "    </tr>\n",
       "    <tr>\n",
       "      <th>4</th>\n",
       "      <td>南投</td>\n",
       "      <td>2018-01-05</td>\n",
       "      <td>7.0</td>\n",
       "      <td>15.0</td>\n",
       "      <td>NaN</td>\n",
       "      <td>NaN</td>\n",
       "    </tr>\n",
       "  </tbody>\n",
       "</table>\n",
       "</div>"
      ],
      "text/plain": [
       "  SiteName        date  O3_8hr_max  O3_max  CO_8hr_at7  SO2_AVG_at7\n",
       "0       南投  2018-01-01        45.0    58.0         0.0          2.0\n",
       "1       南投  2018-01-02        41.0    54.0         0.0          2.0\n",
       "2       南投  2018-01-03        53.0    79.0         0.0          4.0\n",
       "3       南投  2018-01-04        30.0    45.0         0.0          4.0\n",
       "4       南投  2018-01-05         7.0    15.0         NaN          NaN"
      ]
     },
     "execution_count": 17,
     "metadata": {},
     "output_type": "execute_result"
    }
   ],
   "source": [
    "time = 7\n",
    "\n",
    "# df_result 重置\n",
    "df_result = df_daily_max.copy(deep=True)\n",
    "\n",
    "# 取每日7點 CO小時值\n",
    "mask = (df_pic[\"DataCreationDate\"].dt.hour==time)\n",
    "\n",
    "# 合併 df_result\n",
    "for obj in objectAVG_lst:\n",
    "    df_result = df_result.merge(df_pic.loc[mask, [\"SiteName\",\"date\", obj]], how=\"left\", on=[\"SiteName\",\"date\"])\n",
    "    df_result.rename(columns={obj:f\"{obj}_at{time}\"}, inplace=True)\n",
    "df_result.head()"
   ]
  },
  {
   "cell_type": "code",
   "execution_count": 18,
   "id": "317757e2",
   "metadata": {},
   "outputs": [
    {
     "data": {
      "text/plain": [
       "Index(['index', 'SiteName', 'County', 'AQI', 'Pollutant', 'Status', 'SO2',\n",
       "       'CO', 'O3', 'O3_8hr', 'PM10', 'PM2.5', 'NO2', 'NOx', 'NO', 'WindSpeed',\n",
       "       'WindDirec', 'DataCreationDate', 'Unit', 'CO_8hr', 'PM2.5_AVG',\n",
       "       'PM10_AVG', 'SO2_AVG', 'Longitude', 'Latitude', 'SiteId', 'date',\n",
       "       'O3_8hr_max', 'is_exceed_date', 'real_exceed_hour', 'O3_max',\n",
       "       'CO_8hr_at7', 'SO2_AVG_at7'],\n",
       "      dtype='object')"
      ]
     },
     "execution_count": 18,
     "metadata": {},
     "output_type": "execute_result"
    }
   ],
   "source": [
    "# 整合成 df_pic2\n",
    "df_pic_2 = df_pic.merge(df_result.drop(columns=[\"O3_8hr_max\"]), how=\"left\", on=[\"SiteName\",\"date\"])\n",
    "df_pic_2.columns"
   ]
  },
  {
   "cell_type": "code",
   "execution_count": 19,
   "id": "9a7aa8d5",
   "metadata": {},
   "outputs": [
    {
     "name": "stdout",
     "output_type": "stream",
     "text": [
      "O3_8hr_max     1.000000\n",
      "CO_8hr_at7    -0.027344\n",
      "SO2_AVG_at7    0.010200\n",
      "Name: O3_8hr_max, dtype: float64\n"
     ]
    },
    {
     "data": {
      "text/plain": [
       "<AxesSubplot:>"
      ]
     },
     "execution_count": 19,
     "metadata": {},
     "output_type": "execute_result"
    },
    {
     "data": {
      "image/png": "[encoded data removed]",
      "text/plain": [
       "<Figure size 432x288 with 2 Axes>"
      ]
     },
     "metadata": {},
     "output_type": "display_data"
    }
   ],
   "source": [
    "# 相關性 每日7點 CO_8hr 相關性太低 \n",
    "corr = df_result.drop(columns=[\"O3_max\"]).corr(method ='pearson')\n",
    "print(corr[\"O3_8hr_max\"])\n",
    "\n",
    "mask = np.triu(np.ones_like(corr, dtype=bool))\n",
    "\n",
    "sns.set_theme(style=\"white\")\n",
    "cmap = sns.diverging_palette(230, 20, as_cmap=True)\n",
    "sns.heatmap(corr, mask=mask, cmap=cmap, vmax=1, center=0, vmin=-1,\n",
    "            square=True, linewidths=.5, cbar_kws={\"shrink\": .5})"
   ]
  },
  {
   "cell_type": "code",
   "execution_count": 20,
   "id": "8223d52a",
   "metadata": {},
   "outputs": [
    {
     "data": {
      "image/png": "[encoded data removed]",
      "text/plain": [
       "<Figure size 1080x360 with 2 Axes>"
      ]
     },
     "metadata": {},
     "output_type": "display_data"
    }
   ],
   "source": [
    "# 畫出直方圖\n",
    "\n",
    "# set a grey background (use sns.set_theme() if seaborn version 0.11.0 or above) \n",
    "sns.set(style=\"darkgrid\")\n",
    "\n",
    "fig, axs = plt.subplots(1, len(objectAVG_lst), figsize=(15, 5))\n",
    "\n",
    "for idx, col in enumerate(objectAVG_lst):\n",
    "    sns.histplot(data=df_result, x=f\"{col}_at{time}\", kde=False, color=\"skyblue\", ax=axs[idx])\n",
    "\n",
    "plt.show()"
   ]
  },
  {
   "cell_type": "markdown",
   "id": "813bb2ae",
   "metadata": {},
   "source": [
    "#### 每日0~7點 提升量(gradian)"
   ]
  },
  {
   "cell_type": "code",
   "execution_count": 21,
   "id": "8da6b4f1",
   "metadata": {},
   "outputs": [],
   "source": [
    "objectGradian_lst = [\"O3\",\"CO\", \"NOx\",\"NO\",\"NO2\",\"SO2\"]"
   ]
  },
  {
   "cell_type": "code",
   "execution_count": 22,
   "id": "7fe3669e",
   "metadata": {},
   "outputs": [
    {
     "data": {
      "text/html": [
       "<div>\n",
       "<style scoped>\n",
       "    .dataframe tbody tr th:only-of-type {\n",
       "        vertical-align: middle;\n",
       "    }\n",
       "\n",
       "    .dataframe tbody tr th {\n",
       "        vertical-align: top;\n",
       "    }\n",
       "\n",
       "    .dataframe thead th {\n",
       "        text-align: right;\n",
       "    }\n",
       "</style>\n",
       "<table border=\"1\" class=\"dataframe\">\n",
       "  <thead>\n",
       "    <tr style=\"text-align: right;\">\n",
       "      <th></th>\n",
       "      <th>SiteName</th>\n",
       "      <th>date</th>\n",
       "      <th>O3_8hr_max</th>\n",
       "      <th>O3_max</th>\n",
       "      <th>O3_gradian_diff_0to7</th>\n",
       "      <th>CO_gradian_diff_0to7</th>\n",
       "      <th>NOx_gradian_diff_0to7</th>\n",
       "      <th>NO_gradian_diff_0to7</th>\n",
       "      <th>NO2_gradian_diff_0to7</th>\n",
       "      <th>SO2_gradian_diff_0to7</th>\n",
       "    </tr>\n",
       "  </thead>\n",
       "  <tbody>\n",
       "    <tr>\n",
       "      <th>0</th>\n",
       "      <td>南投</td>\n",
       "      <td>2018-01-01</td>\n",
       "      <td>45.0</td>\n",
       "      <td>58.0</td>\n",
       "      <td>-6.0</td>\n",
       "      <td>0.0</td>\n",
       "      <td>3.0</td>\n",
       "      <td>1.0</td>\n",
       "      <td>1.0</td>\n",
       "      <td>0.0</td>\n",
       "    </tr>\n",
       "    <tr>\n",
       "      <th>1</th>\n",
       "      <td>南投</td>\n",
       "      <td>2018-01-02</td>\n",
       "      <td>41.0</td>\n",
       "      <td>54.0</td>\n",
       "      <td>-2.0</td>\n",
       "      <td>0.0</td>\n",
       "      <td>4.0</td>\n",
       "      <td>15.0</td>\n",
       "      <td>-11.0</td>\n",
       "      <td>-1.0</td>\n",
       "    </tr>\n",
       "    <tr>\n",
       "      <th>2</th>\n",
       "      <td>南投</td>\n",
       "      <td>2018-01-03</td>\n",
       "      <td>53.0</td>\n",
       "      <td>79.0</td>\n",
       "      <td>-3.0</td>\n",
       "      <td>0.0</td>\n",
       "      <td>-1.0</td>\n",
       "      <td>0.0</td>\n",
       "      <td>-2.0</td>\n",
       "      <td>-2.0</td>\n",
       "    </tr>\n",
       "    <tr>\n",
       "      <th>3</th>\n",
       "      <td>南投</td>\n",
       "      <td>2018-01-04</td>\n",
       "      <td>30.0</td>\n",
       "      <td>45.0</td>\n",
       "      <td>0.0</td>\n",
       "      <td>0.0</td>\n",
       "      <td>-5.0</td>\n",
       "      <td>6.0</td>\n",
       "      <td>-12.0</td>\n",
       "      <td>-5.0</td>\n",
       "    </tr>\n",
       "    <tr>\n",
       "      <th>4</th>\n",
       "      <td>南投</td>\n",
       "      <td>2018-01-05</td>\n",
       "      <td>7.0</td>\n",
       "      <td>15.0</td>\n",
       "      <td>NaN</td>\n",
       "      <td>NaN</td>\n",
       "      <td>NaN</td>\n",
       "      <td>NaN</td>\n",
       "      <td>NaN</td>\n",
       "      <td>NaN</td>\n",
       "    </tr>\n",
       "  </tbody>\n",
       "</table>\n",
       "</div>"
      ],
      "text/plain": [
       "  SiteName        date  O3_8hr_max  O3_max  O3_gradian_diff_0to7  \\\n",
       "0       南投  2018-01-01        45.0    58.0                  -6.0   \n",
       "1       南投  2018-01-02        41.0    54.0                  -2.0   \n",
       "2       南投  2018-01-03        53.0    79.0                  -3.0   \n",
       "3       南投  2018-01-04        30.0    45.0                   0.0   \n",
       "4       南投  2018-01-05         7.0    15.0                   NaN   \n",
       "\n",
       "   CO_gradian_diff_0to7  NOx_gradian_diff_0to7  NO_gradian_diff_0to7  \\\n",
       "0                   0.0                    3.0                   1.0   \n",
       "1                   0.0                    4.0                  15.0   \n",
       "2                   0.0                   -1.0                   0.0   \n",
       "3                   0.0                   -5.0                   6.0   \n",
       "4                   NaN                    NaN                   NaN   \n",
       "\n",
       "   NO2_gradian_diff_0to7  SO2_gradian_diff_0to7  \n",
       "0                    1.0                    0.0  \n",
       "1                  -11.0                   -1.0  \n",
       "2                   -2.0                   -2.0  \n",
       "3                  -12.0                   -5.0  \n",
       "4                    NaN                    NaN  "
      ]
     },
     "execution_count": 22,
     "metadata": {},
     "output_type": "execute_result"
    }
   ],
   "source": [
    "time_start = 0\n",
    "time_end = 7\n",
    "\n",
    "# df_result 重置\n",
    "df_result = df_daily_max.copy(deep=True)\n",
    "\n",
    "# 取每日0、7點 小時值\n",
    "mask_start = (df_pic[\"DataCreationDate\"].dt.hour==time_start)\n",
    "mask_end = (df_pic[\"DataCreationDate\"].dt.hour==time_end)\n",
    "\n",
    "# 計算差值、百分比 gradian\n",
    "for obj in objectGradian_lst:\n",
    "    df_gradian = df_pic.loc[mask_start, [\"SiteName\",\"date\", obj]].merge(\n",
    "                        df_pic.loc[mask_end, [\"SiteName\",\"date\", obj]], how=\"left\", on=[\"SiteName\",\"date\"])\n",
    "    df_gradian.rename(columns={f\"{obj}_x\":f\"{obj}_at{time_start}\", f\"{obj}_y\":f\"{obj}_at{time_end}\"}, inplace=True)\n",
    "    \n",
    "#     計算\n",
    "    df_gradian.loc[:,f\"{obj}_gradian_diff_{time_start}to{time_end}\"] = df_gradian.loc[:,f\"{obj}_at{time_end}\"] - df_gradian.loc[:,f\"{obj}_at{time_start}\"]\n",
    "#     df_gradian.loc[:,f\"{obj}_gradian_ratio\"] = (df_gradian.loc[:,f\"{obj}_gradian_diff\"] / df_gradian.loc[:,f\"{obj}_at{time_end}\"])*100\n",
    "#     去除重複 (因取兩個時間點，在串資料時會*2)\n",
    "    df_gradian.drop_duplicates(keep=\"first\", inplace=True)\n",
    "    df_result = df_result.merge(df_gradian[[\"SiteName\",\"date\",f\"{obj}_gradian_diff_{time_start}to{time_end}\"]], how=\"left\", on=[\"SiteName\",\"date\"])\n",
    "df_result.head()"
   ]
  },
  {
   "cell_type": "code",
   "execution_count": 23,
   "id": "ba9c2a60",
   "metadata": {},
   "outputs": [
    {
     "data": {
      "text/plain": [
       "Index(['index', 'SiteName', 'County', 'AQI', 'Pollutant', 'Status', 'SO2',\n",
       "       'CO', 'O3', 'O3_8hr', 'PM10', 'PM2.5', 'NO2', 'NOx', 'NO', 'WindSpeed',\n",
       "       'WindDirec', 'DataCreationDate', 'Unit', 'CO_8hr', 'PM2.5_AVG',\n",
       "       'PM10_AVG', 'SO2_AVG', 'Longitude', 'Latitude', 'SiteId', 'date',\n",
       "       'O3_8hr_max', 'is_exceed_date', 'real_exceed_hour'],\n",
       "      dtype='object')"
      ]
     },
     "execution_count": 23,
     "metadata": {},
     "output_type": "execute_result"
    }
   ],
   "source": [
    "df_pic.columns"
   ]
  },
  {
   "cell_type": "code",
   "execution_count": 24,
   "id": "ed686914",
   "metadata": {},
   "outputs": [
    {
     "name": "stdout",
     "output_type": "stream",
     "text": [
      "<class 'pandas.core.frame.DataFrame'>\n",
      "Int64Index: 238667 entries, 0 to 238666\n",
      "Data columns (total 36 columns):\n",
      " #   Column                 Non-Null Count   Dtype         \n",
      "---  ------                 --------------   -----         \n",
      " 0   index                  238667 non-null  int64         \n",
      " 1   SiteName               238667 non-null  object        \n",
      " 2   County                 238667 non-null  object        \n",
      " 3   AQI                    237189 non-null  float64       \n",
      " 4   Pollutant              127659 non-null  object        \n",
      " 5   Status                 238667 non-null  object        \n",
      " 6   SO2                    235984 non-null  float64       \n",
      " 7   CO                     237436 non-null  float64       \n",
      " 8   O3                     238667 non-null  float64       \n",
      " 9   O3_8hr                 238667 non-null  float64       \n",
      " 10  PM10                   234747 non-null  float64       \n",
      " 11  PM2.5                  231601 non-null  float64       \n",
      " 12  NO2                    234718 non-null  float64       \n",
      " 13  NOx                    234718 non-null  float64       \n",
      " 14  NO                     234688 non-null  float64       \n",
      " 15  WindSpeed              238316 non-null  float64       \n",
      " 16  WindDirec              238324 non-null  float64       \n",
      " 17  DataCreationDate       238667 non-null  datetime64[ns]\n",
      " 18  Unit                   0 non-null       object        \n",
      " 19  CO_8hr                 238508 non-null  float64       \n",
      " 20  PM2.5_AVG              236940 non-null  float64       \n",
      " 21  PM10_AVG               235756 non-null  float64       \n",
      " 22  SO2_AVG                236852 non-null  float64       \n",
      " 23  Longitude              220776 non-null  float64       \n",
      " 24  Latitude               220776 non-null  float64       \n",
      " 25  SiteId                 121052 non-null  float64       \n",
      " 26  date                   238667 non-null  object        \n",
      " 27  O3_8hr_max             238667 non-null  float64       \n",
      " 28  is_exceed_date         238667 non-null  bool          \n",
      " 29  real_exceed_hour       29647 non-null   float64       \n",
      " 30  O3_gradian_diff_0to7   235513 non-null  float64       \n",
      " 31  CO_gradian_diff_0to7   235210 non-null  float64       \n",
      " 32  NOx_gradian_diff_0to7  232798 non-null  float64       \n",
      " 33  NO_gradian_diff_0to7   232753 non-null  float64       \n",
      " 34  NO2_gradian_diff_0to7  232798 non-null  float64       \n",
      " 35  SO2_gradian_diff_0to7  233036 non-null  float64       \n",
      "dtypes: bool(1), datetime64[ns](1), float64(27), int64(1), object(6)\n",
      "memory usage: 65.8+ MB\n"
     ]
    }
   ],
   "source": [
    "# 整合成 df_pic3\n",
    "df_pic_3 = df_pic.merge(df_result.drop(columns=[\"O3_8hr_max\",\"O3_max\"]), how=\"left\", on=[\"SiteName\",\"date\"])\n",
    "df_pic_3.info()"
   ]
  },
  {
   "cell_type": "code",
   "execution_count": 25,
   "id": "762c6128",
   "metadata": {},
   "outputs": [
    {
     "name": "stdout",
     "output_type": "stream",
     "text": [
      "O3_8hr_max               1.000000\n",
      "O3_gradian_diff_0to7    -0.373161\n",
      "CO_gradian_diff_0to7     0.041500\n",
      "NOx_gradian_diff_0to7    0.041349\n",
      "NO_gradian_diff_0to7     0.024120\n",
      "NO2_gradian_diff_0to7    0.041825\n",
      "SO2_gradian_diff_0to7   -0.017341\n",
      "Name: O3_8hr_max, dtype: float64\n"
     ]
    },
    {
     "data": {
      "text/plain": [
       "<AxesSubplot:>"
      ]
     },
     "execution_count": 25,
     "metadata": {},
     "output_type": "execute_result"
    },
    {
     "data": {
      "image/png": "[encoded data removed]",
      "text/plain": [
       "<Figure size 432x288 with 2 Axes>"
      ]
     },
     "metadata": {},
     "output_type": "display_data"
    }
   ],
   "source": [
    "# 相關性 每日gradian 相關性太低 \n",
    "corr = df_result.drop(columns=[\"O3_max\"]).corr(method ='pearson')\n",
    "print(corr[\"O3_8hr_max\"])\n",
    "\n",
    "mask = np.triu(np.ones_like(corr, dtype=bool))\n",
    "\n",
    "sns.set_theme(style=\"white\")\n",
    "cmap = sns.diverging_palette(230, 20, as_cmap=True)\n",
    "sns.heatmap(corr, mask=mask, cmap=cmap, vmax=1, center=0, vmin=-1,\n",
    "            square=True, linewidths=.5, cbar_kws={\"shrink\": .5})"
   ]
  },
  {
   "cell_type": "code",
   "execution_count": 26,
   "id": "6e1c7c7c",
   "metadata": {},
   "outputs": [
    {
     "data": {
      "image/png": "[encoded data removed]",
      "text/plain": [
       "<Figure size 1080x360 with 6 Axes>"
      ]
     },
     "metadata": {},
     "output_type": "display_data"
    }
   ],
   "source": [
    "# 畫出直方圖\n",
    "# set a grey background (use sns.set_theme() if seaborn version 0.11.0 or above) \n",
    "sns.set(style=\"darkgrid\")\n",
    "\n",
    "fig, axs = plt.subplots(1, len(objectGradian_lst), figsize=(15, 5))\n",
    "\n",
    "for idx, col in enumerate(objectGradian_lst):\n",
    "    sns.histplot(data=df_result, x=f\"{col}_gradian_diff_{time_start}to{time_end}\", kde=False, color=\"skyblue\", ax=axs[idx])\n",
    "\n",
    "plt.show()"
   ]
  },
  {
   "cell_type": "markdown",
   "id": "080fb947",
   "metadata": {},
   "source": [
    "#### 每日7~12點 提升量(gradian)"
   ]
  },
  {
   "cell_type": "code",
   "execution_count": 27,
   "id": "c5e12b5d",
   "metadata": {},
   "outputs": [],
   "source": [
    "objectGradian_lst = [\"O3\",\"CO\", \"NOx\",\"NO\",\"NO2\",\"SO2\"]"
   ]
  },
  {
   "cell_type": "code",
   "execution_count": 28,
   "id": "83185ab9",
   "metadata": {},
   "outputs": [
    {
     "data": {
      "text/html": [
       "<div>\n",
       "<style scoped>\n",
       "    .dataframe tbody tr th:only-of-type {\n",
       "        vertical-align: middle;\n",
       "    }\n",
       "\n",
       "    .dataframe tbody tr th {\n",
       "        vertical-align: top;\n",
       "    }\n",
       "\n",
       "    .dataframe thead th {\n",
       "        text-align: right;\n",
       "    }\n",
       "</style>\n",
       "<table border=\"1\" class=\"dataframe\">\n",
       "  <thead>\n",
       "    <tr style=\"text-align: right;\">\n",
       "      <th></th>\n",
       "      <th>SiteName</th>\n",
       "      <th>date</th>\n",
       "      <th>O3_8hr_max</th>\n",
       "      <th>O3_max</th>\n",
       "      <th>O3_gradian_diff_7to12</th>\n",
       "      <th>CO_gradian_diff_7to12</th>\n",
       "      <th>NOx_gradian_diff_7to12</th>\n",
       "      <th>NO_gradian_diff_7to12</th>\n",
       "      <th>NO2_gradian_diff_7to12</th>\n",
       "      <th>SO2_gradian_diff_7to12</th>\n",
       "    </tr>\n",
       "  </thead>\n",
       "  <tbody>\n",
       "    <tr>\n",
       "      <th>0</th>\n",
       "      <td>南投</td>\n",
       "      <td>2018-01-01</td>\n",
       "      <td>45.0</td>\n",
       "      <td>58.0</td>\n",
       "      <td>22.0</td>\n",
       "      <td>0.0</td>\n",
       "      <td>0.0</td>\n",
       "      <td>3.0</td>\n",
       "      <td>-2.0</td>\n",
       "      <td>1.0</td>\n",
       "    </tr>\n",
       "    <tr>\n",
       "      <th>1</th>\n",
       "      <td>南投</td>\n",
       "      <td>2018-01-02</td>\n",
       "      <td>41.0</td>\n",
       "      <td>54.0</td>\n",
       "      <td>38.0</td>\n",
       "      <td>0.0</td>\n",
       "      <td>-6.0</td>\n",
       "      <td>-12.0</td>\n",
       "      <td>6.0</td>\n",
       "      <td>3.0</td>\n",
       "    </tr>\n",
       "    <tr>\n",
       "      <th>2</th>\n",
       "      <td>南投</td>\n",
       "      <td>2018-01-03</td>\n",
       "      <td>53.0</td>\n",
       "      <td>79.0</td>\n",
       "      <td>NaN</td>\n",
       "      <td>NaN</td>\n",
       "      <td>NaN</td>\n",
       "      <td>NaN</td>\n",
       "      <td>NaN</td>\n",
       "      <td>NaN</td>\n",
       "    </tr>\n",
       "    <tr>\n",
       "      <th>3</th>\n",
       "      <td>南投</td>\n",
       "      <td>2018-01-04</td>\n",
       "      <td>30.0</td>\n",
       "      <td>45.0</td>\n",
       "      <td>32.0</td>\n",
       "      <td>0.0</td>\n",
       "      <td>-4.0</td>\n",
       "      <td>-6.0</td>\n",
       "      <td>3.0</td>\n",
       "      <td>2.0</td>\n",
       "    </tr>\n",
       "    <tr>\n",
       "      <th>4</th>\n",
       "      <td>南投</td>\n",
       "      <td>2018-01-05</td>\n",
       "      <td>7.0</td>\n",
       "      <td>15.0</td>\n",
       "      <td>NaN</td>\n",
       "      <td>NaN</td>\n",
       "      <td>NaN</td>\n",
       "      <td>NaN</td>\n",
       "      <td>NaN</td>\n",
       "      <td>NaN</td>\n",
       "    </tr>\n",
       "  </tbody>\n",
       "</table>\n",
       "</div>"
      ],
      "text/plain": [
       "  SiteName        date  O3_8hr_max  O3_max  O3_gradian_diff_7to12  \\\n",
       "0       南投  2018-01-01        45.0    58.0                   22.0   \n",
       "1       南投  2018-01-02        41.0    54.0                   38.0   \n",
       "2       南投  2018-01-03        53.0    79.0                    NaN   \n",
       "3       南投  2018-01-04        30.0    45.0                   32.0   \n",
       "4       南投  2018-01-05         7.0    15.0                    NaN   \n",
       "\n",
       "   CO_gradian_diff_7to12  NOx_gradian_diff_7to12  NO_gradian_diff_7to12  \\\n",
       "0                    0.0                     0.0                    3.0   \n",
       "1                    0.0                    -6.0                  -12.0   \n",
       "2                    NaN                     NaN                    NaN   \n",
       "3                    0.0                    -4.0                   -6.0   \n",
       "4                    NaN                     NaN                    NaN   \n",
       "\n",
       "   NO2_gradian_diff_7to12  SO2_gradian_diff_7to12  \n",
       "0                    -2.0                     1.0  \n",
       "1                     6.0                     3.0  \n",
       "2                     NaN                     NaN  \n",
       "3                     3.0                     2.0  \n",
       "4                     NaN                     NaN  "
      ]
     },
     "execution_count": 28,
     "metadata": {},
     "output_type": "execute_result"
    }
   ],
   "source": [
    "time_start = 7\n",
    "time_end = 12\n",
    "\n",
    "# df_result 重置\n",
    "df_result = df_daily_max.copy(deep=True)\n",
    "\n",
    "# 取每日0、7點 小時值\n",
    "mask_start = (df_pic[\"DataCreationDate\"].dt.hour==time_start)\n",
    "mask_end = (df_pic[\"DataCreationDate\"].dt.hour==time_end)\n",
    "\n",
    "# 計算差值、百分比 gradian\n",
    "for obj in objectGradian_lst:\n",
    "    df_gradian = df_pic.loc[mask_start, [\"SiteName\",\"date\", obj]].merge(\n",
    "                        df_pic.loc[mask_end, [\"SiteName\",\"date\", obj]], how=\"left\", on=[\"SiteName\",\"date\"])\n",
    "    df_gradian.rename(columns={f\"{obj}_x\":f\"{obj}_at{time_start}\", f\"{obj}_y\":f\"{obj}_at{time_end}\"}, inplace=True)\n",
    "    \n",
    "#     計算\n",
    "    df_gradian.loc[:,f\"{obj}_gradian_diff_{time_start}to{time_end}\"] = df_gradian.loc[:,f\"{obj}_at{time_end}\"] - df_gradian.loc[:,f\"{obj}_at{time_start}\"]\n",
    "#     df_gradian.loc[:,f\"{obj}_gradian_ratio\"] = (df_gradian.loc[:,f\"{obj}_gradian_diff\"] / df_gradian.loc[:,f\"{obj}_at{time_end}\"])*100\n",
    "#     去除重複 (因取兩個時間點，在串資料時會*2)\n",
    "    df_gradian.drop_duplicates(keep=\"first\", inplace=True)\n",
    "    df_result = df_result.merge(df_gradian[[\"SiteName\",\"date\",f\"{obj}_gradian_diff_{time_start}to{time_end}\"]], how=\"left\", on=[\"SiteName\",\"date\"])\n",
    "df_result.head()"
   ]
  },
  {
   "cell_type": "code",
   "execution_count": 29,
   "id": "425344c4",
   "metadata": {},
   "outputs": [
    {
     "name": "stdout",
     "output_type": "stream",
     "text": [
      "<class 'pandas.core.frame.DataFrame'>\n",
      "Int64Index: 238667 entries, 0 to 238666\n",
      "Data columns (total 36 columns):\n",
      " #   Column                  Non-Null Count   Dtype         \n",
      "---  ------                  --------------   -----         \n",
      " 0   index                   238667 non-null  int64         \n",
      " 1   SiteName                238667 non-null  object        \n",
      " 2   County                  238667 non-null  object        \n",
      " 3   AQI                     237189 non-null  float64       \n",
      " 4   Pollutant               127659 non-null  object        \n",
      " 5   Status                  238667 non-null  object        \n",
      " 6   SO2                     235984 non-null  float64       \n",
      " 7   CO                      237436 non-null  float64       \n",
      " 8   O3                      238667 non-null  float64       \n",
      " 9   O3_8hr                  238667 non-null  float64       \n",
      " 10  PM10                    234747 non-null  float64       \n",
      " 11  PM2.5                   231601 non-null  float64       \n",
      " 12  NO2                     234718 non-null  float64       \n",
      " 13  NOx                     234718 non-null  float64       \n",
      " 14  NO                      234688 non-null  float64       \n",
      " 15  WindSpeed               238316 non-null  float64       \n",
      " 16  WindDirec               238324 non-null  float64       \n",
      " 17  DataCreationDate        238667 non-null  datetime64[ns]\n",
      " 18  Unit                    0 non-null       object        \n",
      " 19  CO_8hr                  238508 non-null  float64       \n",
      " 20  PM2.5_AVG               236940 non-null  float64       \n",
      " 21  PM10_AVG                235756 non-null  float64       \n",
      " 22  SO2_AVG                 236852 non-null  float64       \n",
      " 23  Longitude               220776 non-null  float64       \n",
      " 24  Latitude                220776 non-null  float64       \n",
      " 25  SiteId                  121052 non-null  float64       \n",
      " 26  date                    238667 non-null  object        \n",
      " 27  O3_8hr_max              238667 non-null  float64       \n",
      " 28  is_exceed_date          238667 non-null  bool          \n",
      " 29  real_exceed_hour        29647 non-null   float64       \n",
      " 30  O3_gradian_diff_7to12   227268 non-null  float64       \n",
      " 31  CO_gradian_diff_7to12   224097 non-null  float64       \n",
      " 32  NOx_gradian_diff_7to12  219461 non-null  float64       \n",
      " 33  NO_gradian_diff_7to12   219461 non-null  float64       \n",
      " 34  NO2_gradian_diff_7to12  219461 non-null  float64       \n",
      " 35  SO2_gradian_diff_7to12  221661 non-null  float64       \n",
      "dtypes: bool(1), datetime64[ns](1), float64(27), int64(1), object(6)\n",
      "memory usage: 65.8+ MB\n"
     ]
    }
   ],
   "source": [
    "# 整合成 df_pic4\n",
    "df_pic_4 = df_pic.merge(df_result.drop(columns=[\"O3_8hr_max\",\"O3_max\"]), how=\"left\", on=[\"SiteName\",\"date\"])\n",
    "df_pic_4.info()"
   ]
  },
  {
   "cell_type": "code",
   "execution_count": 30,
   "id": "512d75ce",
   "metadata": {},
   "outputs": [
    {
     "name": "stdout",
     "output_type": "stream",
     "text": [
      "O3_8hr_max                1.000000\n",
      "O3_gradian_diff_7to12     0.688322\n",
      "CO_gradian_diff_7to12    -0.046524\n",
      "NOx_gradian_diff_7to12   -0.236128\n",
      "NO_gradian_diff_7to12    -0.159044\n",
      "NO2_gradian_diff_7to12   -0.225948\n",
      "SO2_gradian_diff_7to12    0.109203\n",
      "Name: O3_8hr_max, dtype: float64\n"
     ]
    },
    {
     "data": {
      "text/plain": [
       "<AxesSubplot:>"
      ]
     },
     "execution_count": 30,
     "metadata": {},
     "output_type": "execute_result"
    },
    {
     "data": {
      "image/png": "[encoded data removed]",
      "text/plain": [
       "<Figure size 432x288 with 2 Axes>"
      ]
     },
     "metadata": {},
     "output_type": "display_data"
    }
   ],
   "source": [
    "# 相關性 每日gradian 相關性太低 \n",
    "corr = df_result.drop(columns=[\"O3_max\"]).corr(method ='pearson')\n",
    "print(corr[\"O3_8hr_max\"])\n",
    "\n",
    "mask = np.triu(np.ones_like(corr, dtype=bool))\n",
    "\n",
    "sns.set_theme(style=\"white\")\n",
    "cmap = sns.diverging_palette(230, 20, as_cmap=True)\n",
    "sns.heatmap(corr, mask=mask, cmap=cmap, vmax=1, center=0, vmin=-1,\n",
    "            square=True, linewidths=.5, cbar_kws={\"shrink\": .5})"
   ]
  },
  {
   "cell_type": "code",
   "execution_count": 31,
   "id": "1eb7ed86",
   "metadata": {},
   "outputs": [
    {
     "data": {
      "image/png": "[encoded data removed]",
      "text/plain": [
       "<Figure size 1080x360 with 6 Axes>"
      ]
     },
     "metadata": {},
     "output_type": "display_data"
    }
   ],
   "source": [
    "# 畫出直方圖\n",
    "# set a grey background (use sns.set_theme() if seaborn version 0.11.0 or above) \n",
    "sns.set(style=\"darkgrid\")\n",
    "\n",
    "fig, axs = plt.subplots(1, len(objectGradian_lst), figsize=(15, 5))\n",
    "\n",
    "for idx, col in enumerate(objectGradian_lst):\n",
    "    sns.histplot(data=df_result, x=f\"{col}_gradian_diff_{time_start}to{time_end}\", kde=False, color=\"skyblue\", ax=axs[idx])\n",
    "\n",
    "plt.show()"
   ]
  },
  {
   "cell_type": "markdown",
   "id": "87944a24",
   "metadata": {},
   "source": [
    "### 上風處測站相關"
   ]
  },
  {
   "cell_type": "markdown",
   "id": "9c0ddf16",
   "metadata": {},
   "source": [
    "- 中: 沙鹿、線西、 彰化、員林 > 南投"
   ]
  },
  {
   "cell_type": "code",
   "execution_count": 32,
   "id": "8f2fe7ed",
   "metadata": {},
   "outputs": [
    {
     "name": "stdout",
     "output_type": "stream",
     "text": [
      "<class 'pandas.core.frame.DataFrame'>\n",
      "RangeIndex: 219951 entries, 0 to 219950\n",
      "Data columns (total 27 columns):\n",
      " #   Column            Non-Null Count   Dtype         \n",
      "---  ------            --------------   -----         \n",
      " 0   index             219951 non-null  int64         \n",
      " 1   SiteName          219951 non-null  object        \n",
      " 2   County            219951 non-null  object        \n",
      " 3   AQI               217235 non-null  float64       \n",
      " 4   Pollutant         112354 non-null  object        \n",
      " 5   Status            219810 non-null  object        \n",
      " 6   SO2               214631 non-null  float64       \n",
      " 7   CO                216169 non-null  float64       \n",
      " 8   O3                215623 non-null  float64       \n",
      " 9   O3_8hr            218108 non-null  float64       \n",
      " 10  PM10              213080 non-null  float64       \n",
      " 11  PM2.5             211361 non-null  float64       \n",
      " 12  NO2               213636 non-null  float64       \n",
      " 13  NOx               213639 non-null  float64       \n",
      " 14  NO                213583 non-null  float64       \n",
      " 15  WindSpeed         217896 non-null  float64       \n",
      " 16  WindDirec         217900 non-null  float64       \n",
      " 17  DataCreationDate  219951 non-null  datetime64[ns]\n",
      " 18  Unit              0 non-null       object        \n",
      " 19  CO_8hr            218617 non-null  float64       \n",
      " 20  PM2.5_AVG         217325 non-null  float64       \n",
      " 21  PM10_AVG          215874 non-null  float64       \n",
      " 22  SO2_AVG           216636 non-null  float64       \n",
      " 23  Longitude         203767 non-null  float64       \n",
      " 24  Latitude          203767 non-null  float64       \n",
      " 25  SiteId            112861 non-null  float64       \n",
      " 26  date              219951 non-null  object        \n",
      "dtypes: datetime64[ns](1), float64(19), int64(1), object(6)\n",
      "memory usage: 45.3+ MB\n"
     ]
    }
   ],
   "source": [
    "# 篩選測站 & 篩選年分\n",
    "site_lst = [\"南投\", \"沙鹿\",\"西屯\",\"忠明\",\"豐原\", \"線西\", \"彰化\",\"彰化(員林)\",\"二林\"]\n",
    "year_min_max = [2018,2020]\n",
    "pic_mask = (df[\"SiteName\"].isin(site_lst)) & (df[\"DataCreationDate\"].dt.year>=year_min_max[0]) & (df[\"DataCreationDate\"].dt.year<=year_min_max[1])\n",
    "df_pic_for_fornt = df[pic_mask].reset_index(drop=True)\n",
    "df_pic_for_fornt.info()"
   ]
  },
  {
   "cell_type": "code",
   "execution_count": 33,
   "id": "4ce186f2",
   "metadata": {},
   "outputs": [],
   "source": [
    "target_site = site_lst[0]\n",
    "front_site_lst = site_lst[1:]\n",
    "y = \"O3_8hr\"\n",
    "x = \"O3\""
   ]
  },
  {
   "cell_type": "code",
   "execution_count": 34,
   "id": "e505f5c8",
   "metadata": {},
   "outputs": [],
   "source": [
    "mask_y = df_pic_for_fornt[\"SiteName\"].isin([target_site])\n",
    "datay = df_pic_for_fornt.loc[mask_y, y].reset_index(drop=True)\n",
    "# datay.head()"
   ]
  },
  {
   "cell_type": "code",
   "execution_count": 35,
   "id": "43ff52df",
   "metadata": {},
   "outputs": [],
   "source": [
    "def crosscorr(datax, datay, lag=0):\n",
    "    \"\"\" Lag-N cross correlation. \n",
    "    Parameters\n",
    "    ----------\n",
    "    lag : int, default 0\n",
    "    datax, datay : pandas.Series objects of equal length\n",
    "\n",
    "    Returns\n",
    "    ----------\n",
    "    crosscorr : float\n",
    "    \"\"\"\n",
    "    return datay.corr(datax.shift(-lag)) # x往前推"
   ]
  },
  {
   "cell_type": "code",
   "execution_count": 36,
   "id": "3168a20e",
   "metadata": {},
   "outputs": [],
   "source": [
    "front = 7\n",
    "range_setting = range(front,1,-1)"
   ]
  },
  {
   "cell_type": "code",
   "execution_count": 37,
   "id": "e3ef335a",
   "metadata": {},
   "outputs": [
    {
     "name": "stdout",
     "output_type": "stream",
     "text": [
      "沙鹿\n",
      "[0.4273921221922654, 0.42830862379096096, 0.4108577423650703, 0.37242222284465637, 0.31658430428548984, 0.24961443652522913]\n",
      "西屯\n",
      "[-0.1257673633267589, -0.08922760671892997, -0.026403476441387113, 0.06115541426662743, 0.17061513293997058, 0.2973927672075268]\n",
      "忠明\n",
      "[-0.13794524062704078, -0.12593501402010643, -0.09494491814519986, -0.038903666749278094, 0.043479758295585216, 0.14953585100340086]\n",
      "豐原\n",
      "[-0.10041617137236225, -0.06541204332759483, -0.00878069137150634, 0.07403073000105936, 0.17732515170602497, 0.29543697036105704]\n",
      "線西\n",
      "[-0.07066488653030105, -0.027594627669991236, 0.03932954848645017, 0.12093679132577821, 0.21913371964272882, 0.32840492700777224]\n",
      "彰化\n",
      "[-0.08868228447625083, -0.050946011795515625, 0.015056571467230065, 0.09862013641280065, 0.20078754028997806, 0.3101901615618162]\n",
      "彰化(員林)\n",
      "[-0.033733191494596394, -0.0013580213635714321, 0.04053212813580412, 0.1011979927996178, 0.18721809034141007, 0.25911346046192907]\n",
      "二林\n",
      "[-0.1423830270828658, -0.10395730755737886, -0.034476328465909166, 0.054288163006728556, 0.1644462378431412, 0.28727249560604257]\n"
     ]
    }
   ],
   "source": [
    "plot_dict = {}\n",
    "for f in front_site_lst:\n",
    "    mask_x = df_pic_for_fornt[\"SiteName\"].isin([f])\n",
    "    print(f)\n",
    "    datax = df_pic_for_fornt.loc[mask_x, x].reset_index(drop=True)\n",
    "    a = [crosscorr(datax, datay, lag=i) for i in range_setting]\n",
    "    print(a)\n",
    "    plot_dict[f] = a"
   ]
  },
  {
   "cell_type": "code",
   "execution_count": 53,
   "id": "93135aeb",
   "metadata": {},
   "outputs": [
    {
     "data": {
      "text/plain": [
       "Text(0.5, 1.0, '南投站 周遭測站 O3小時值 時間相關性')"
      ]
     },
     "execution_count": 53,
     "metadata": {},
     "output_type": "execute_result"
    },
    {
     "data": {
      "image/png": "[encoded data removed]",
      "text/plain": [
       "<Figure size 432x288 with 1 Axes>"
      ]
     },
     "metadata": {
      "needs_background": "light"
     },
     "output_type": "display_data"
    }
   ],
   "source": [
    "g = sns.lineplot(data=plot_dict)\n",
    "g.set_xticks(range(front-1)) # <--- set the ticks first\n",
    "g.set_xticklabels([f\"front_{i-1}hr\" for i in range_setting])\n",
    "g.legend(bbox_to_anchor=(1.02, 1), loc='upper left', borderaxespad=0)\n",
    "g.set_title(f\"{target_site}站 周遭測站 O3小時值 時間相關性\")"
   ]
  },
  {
   "cell_type": "markdown",
   "id": "3587e0fb",
   "metadata": {},
   "source": [
    ">可嘗試以 **沙鹿測站**作為**南投測站**的有效上風測站(先行指標)"
   ]
  },
  {
   "cell_type": "markdown",
   "id": "d2a84680",
   "metadata": {},
   "source": [
    "# Model"
   ]
  },
  {
   "cell_type": "markdown",
   "id": "3aca1da7",
   "metadata": {},
   "source": [
    "以2018年建模(train)、2019年驗證(test)"
   ]
  },
  {
   "cell_type": "markdown",
   "id": "58a7869d",
   "metadata": {},
   "source": [
    "## (原)單變數迴歸"
   ]
  },
  {
   "cell_type": "code",
   "execution_count": 39,
   "id": "748cbdb7",
   "metadata": {},
   "outputs": [
    {
     "data": {
      "text/plain": [
       "array(['南投'], dtype=object)"
      ]
     },
     "execution_count": 39,
     "metadata": {},
     "output_type": "execute_result"
    }
   ],
   "source": [
    "df_result[\"SiteName\"].unique()[0:1]"
   ]
  },
  {
   "cell_type": "code",
   "execution_count": 49,
   "id": "d8d43a39",
   "metadata": {},
   "outputs": [
    {
     "name": "stdout",
     "output_type": "stream",
     "text": [
      ">> Mean Absolute Error: 3.5014867701450427\n",
      ">> Root Mean Squared Error: 4.62753151800335\n"
     ]
    },
    {
     "data": {
      "image/png": "[encoded data removed]",
      "text/plain": [
       "<Figure size 720x360 with 2 Axes>"
      ]
     },
     "metadata": {
      "needs_background": "light"
     },
     "output_type": "display_data"
    }
   ],
   "source": [
    "for s in df_result[\"SiteName\"].unique()[0:1]:\n",
    "    # mask\n",
    "    mask_train = (df_result[\"SiteName\"].isin([s])) & (df_result[\"date\"].apply(lambda d: d.year)==2018)\n",
    "    mask_test_self = (df_pic[\"SiteName\"].isin([s])) & (df_pic[\"date\"].apply(lambda d: d.year)==2018)\n",
    "    mask_test_next = (df_pic[\"SiteName\"].isin([s])) & (df_pic[\"date\"].apply(lambda d: d.year)==2019)\n",
    "    \n",
    "    #split dataset\n",
    "    #     for model\n",
    "    X_train = df_result[mask_train]['O3_max'].values.reshape(-1,1) \n",
    "    y_train = df_result[mask_train]['O3_8hr_max'].values.reshape(-1,1) \n",
    "\n",
    "    #  for test_self\n",
    "    X_test_self = df_pic[mask_test_self]['O3'].values.reshape(-1,1) \n",
    "    y_test_self = df_pic[mask_test_self]['O3_8hr'].values.reshape(-1,1)\n",
    "    \n",
    "    # for test_next\n",
    "    X_test_next = df_pic[mask_test_next]['O3'].values.reshape(-1,1) \n",
    "    y_test_next = df_pic[mask_test_next]['O3_8hr'].values.reshape(-1,1)\n",
    "    \n",
    "    # model\n",
    "    reg = LinearRegression(fit_intercept=True)  \n",
    "    reg.fit(X_train, y_train) # 訓練模型\n",
    "    y_train_pred = reg.predict(X_train) # 預測\n",
    "    \n",
    "    # Plot outputs\n",
    "    fig, axes = plt.subplots(1, 2, sharex=False, figsize=(10,5))\n",
    "    fig.suptitle(f'{s}站 單變數迴歸\\n\\n\\n')\n",
    "    \n",
    "    axes[0].scatter(X_train, y_train,  color='g')\n",
    "    axes[0].plot(X_train, y_train_pred, color='k', linewidth=2)\n",
    "    axes[0].set_xlim(0, X_train.max()+10)\n",
    "    axes[0].set_xlabel('O3_max')\n",
    "    axes[0].set_ylabel('O3_8hr_max')\n",
    "    axes[0].set_title(f\"slope:{round(reg.coef_[0][0],3)}； intercept: {round(reg.intercept_[0],3)}；r2_score: {round(r2_score(y_train, y_train_pred),3)}\")\n",
    "    \n",
    "    # diff hist()\n",
    "    single_reg_diff = pd.DataFrame({'Actual': y_train.flatten(), 'Predicted': y_train_pred.flatten()})\n",
    "    single_reg_diff.loc[:, \"diff\"] = single_reg_diff.loc[: ,\"Predicted\"] - single_reg_diff.loc[: ,\"Actual\"]\n",
    "    sns.histplot(data=single_reg_diff, x=\"diff\", kde=True, ax=axes[1])\n",
    "    axes[1].set_xlim(single_reg_diff.loc[:, \"diff\"].min(), single_reg_diff.loc[:, \"diff\"].max())\n",
    "    axes[1].set_title(f\"預測差距 (Pre-Actul) 直方圖\")\n",
    "    \n",
    "    print('>> Mean Absolute Error:', metrics.mean_absolute_error(y_train, y_train_pred))  \n",
    "#     print('>> Mean Squared Error:', metrics.mean_squared_error(y_train, y_train_pred))  \n",
    "    print('>> Root Mean Squared Error:', np.sqrt(metrics.mean_squared_error(y_train, y_train_pred)))"
   ]
  },
  {
   "cell_type": "markdown",
   "id": "8bfbbef9",
   "metadata": {},
   "source": [
    "### 當年度驗證 self"
   ]
  },
  {
   "cell_type": "code",
   "execution_count": 41,
   "id": "3d950ad9",
   "metadata": {},
   "outputs": [
    {
     "name": "stdout",
     "output_type": "stream",
     "text": [
      ">>預測目標門檻值: 71\n",
      "\n",
      ">> TN: 353\n",
      ">> FP: 1\n",
      ">> FN: 6\n",
      ">> TP: 4\n",
      "\n",
      ">> 預警成功率: 0.4\n",
      ">> 假警報率: 0.2\n",
      "\n",
      ">> 預警成功 發布時間點 統計:\n",
      "時間點   次數\n",
      "14    4\n",
      "Name: DataCreationDate, dtype: int64\n",
      ">> 預警成功 提早時數 統計:\n",
      "提早時數   次數\n",
      "2.0    3\n",
      "4.0    1\n",
      "dtype: int64\n"
     ]
    }
   ],
   "source": [
    "# 以模型預測每小時資料\n",
    "y_test_self_pred = reg.predict(X_test_self)\n",
    "\n",
    "# 定義預測超標門檻值\n",
    "exceed_value_pred = 71 # 預測超標門檻值\n",
    "\n",
    "# 取用小時值資料\n",
    "df_self = df_pic[mask_test_self].reset_index(drop=True).copy(deep=True)\n",
    "df_self.loc[:,\"y_pred\"] = y_test_self_pred\n",
    "df_self.loc[:,f\"is_y_pred_ge_{exceed_value_pred}\"] = (y_test_self_pred>=exceed_value_pred)\n",
    "\n",
    "# 挑選出每天最早預測超標的小時資料、若皆無預測超標，則會為0時的資料\n",
    "df_self = df_self.sort_values(\n",
    "            by=[\"date\", f\"is_y_pred_ge_{exceed_value_pred}\", \"DataCreationDate\"],\n",
    "                ascending=[1,0,1]).drop_duplicates(subset=[\"date\"], keep=\"first\")\n",
    "\n",
    "\n",
    "# 驗證對錯>>混淆矩陣\n",
    "# metrics.confusion_matrix(y_true, y_pred)\n",
    "# (tn, fp, fn, tp)\n",
    "cm = metrics.confusion_matrix(df_self[\"is_exceed_date\"].values, df_self[f\"is_y_pred_ge_{exceed_value_pred}\"].values).ravel()\n",
    "\n",
    "print(f\">>預測目標門檻值: {exceed_value_pred}\\n\")\n",
    "print(f\">> TN: {cm[0]}\\n>> FP: {cm[1]}\\n>> FN: {cm[2]}\\n>> TP: {cm[3]}\\n\")\n",
    "print(f\">> 預警成功率: {round((cm[3]/(cm[2]+cm[3])),3)}\\n>> 假警報率: {round((cm[1]/(cm[1]+cm[3])),3)}\\n\")\n",
    "\n",
    "\n",
    "# 計算 TP  預警時間、提早時數\n",
    "mask_TP = (df_self[\"is_exceed_date\"].isin([True])) &(df_self[f\"is_y_pred_ge_{exceed_value_pred}\"].isin([True]))\n",
    "\n",
    "print(f\">> 預警成功 發布時間點 統計:\\n時間點   次數\\n{df_self[mask_TP]['DataCreationDate'].dt.hour.value_counts()}\")\n",
    "print(f\">> 預警成功 提早時數 統計:\\n提早時數   次數\\n{((df_self[mask_TP]['real_exceed_hour']) -(df_self[mask_TP]['DataCreationDate'].dt.hour)).value_counts()}\")"
   ]
  },
  {
   "cell_type": "markdown",
   "id": "831d33df",
   "metadata": {},
   "source": [
    "### 下年度驗證 next"
   ]
  },
  {
   "cell_type": "code",
   "execution_count": 42,
   "id": "4a96b1bd",
   "metadata": {},
   "outputs": [
    {
     "name": "stdout",
     "output_type": "stream",
     "text": [
      ">>預測目標門檻值: 71\n",
      "\n",
      ">> TN: 330\n",
      ">> FP: 1\n",
      ">> FN: 11\n",
      ">> TP: 11\n",
      "\n",
      ">> 預警成功率: 0.5\n",
      ">> 假警報率: 0.083\n",
      "\n",
      ">> 預警成功 發布時間點 統計:\n",
      "時間點   次數\n",
      "14    4\n",
      "13    3\n",
      "15    3\n",
      "12    1\n",
      "Name: DataCreationDate, dtype: int64\n",
      ">> 預警成功 提早時數 統計:\n",
      "提早時數   次數\n",
      "2.0    5\n",
      "3.0    4\n",
      "4.0    2\n",
      "dtype: int64\n"
     ]
    }
   ],
   "source": [
    "# 以模型預測每小時資料\n",
    "y_test_next_pred = reg.predict(X_test_next)\n",
    "\n",
    "# 定義預測超標門檻值\n",
    "exceed_value_pred = 71 # 預測超標門檻值\n",
    "\n",
    "# 取用小時值資料\n",
    "df_next = df_pic[mask_test_next].reset_index(drop=True).copy(deep=True)\n",
    "df_next.loc[:,\"y_pred\"] = y_test_next_pred\n",
    "df_next.loc[:,f\"is_y_pred_ge_{exceed_value_pred}\"] = (y_test_next_pred>=exceed_value_pred)\n",
    "\n",
    "# 挑選出每天最早預測超標的小時資料、若皆無預測超標，則會為0時的資料\n",
    "df_next = df_next.sort_values(\n",
    "            by=[\"date\", f\"is_y_pred_ge_{exceed_value_pred}\", \"DataCreationDate\"],\n",
    "                ascending=[1,0,1]).drop_duplicates(subset=[\"date\"], keep=\"first\")\n",
    "\n",
    "# 驗證對錯>>混淆矩陣\n",
    "# metrics.confusion_matrix(y_true, y_pred)\n",
    "# (tn, fp, fn, tp)\n",
    "cm = metrics.confusion_matrix(df_next[\"is_exceed_date\"].values, df_next[f\"is_y_pred_ge_{exceed_value_pred}\"].values).ravel()\n",
    "\n",
    "print(f\">>預測目標門檻值: {exceed_value_pred}\\n\")\n",
    "print(f\">> TN: {cm[0]}\\n>> FP: {cm[1]}\\n>> FN: {cm[2]}\\n>> TP: {cm[3]}\\n\")\n",
    "print(f\">> 預警成功率: {round((cm[3]/(cm[2]+cm[3])),3)}\\n>> 假警報率: {round((cm[1]/(cm[1]+cm[3])),3)}\\n\")\n",
    "\n",
    "# 計算 TP  預警時間、提早時數\n",
    "mask_TP = (df_next[\"is_exceed_date\"].isin([True])) &(df_next[f\"is_y_pred_ge_{exceed_value_pred}\"].isin([True]))\n",
    "\n",
    "print(f\">> 預警成功 發布時間點 統計:\\n時間點   次數\\n{df_next[mask_TP]['DataCreationDate'].dt.hour.value_counts()}\")\n",
    "print(f\">> 預警成功 提早時數 統計:\\n提早時數   次數\\n{((df_next[mask_TP]['real_exceed_hour']) -(df_next[mask_TP]['DataCreationDate'].dt.hour)).value_counts()}\")"
   ]
  },
  {
   "cell_type": "markdown",
   "id": "dc7e4a40",
   "metadata": {},
   "source": [
    "## 複迴歸測試"
   ]
  },
  {
   "cell_type": "markdown",
   "id": "6f3d7890",
   "metadata": {},
   "source": [
    "### 參數設定"
   ]
  },
  {
   "cell_type": "code",
   "execution_count": 50,
   "id": "704e6f23",
   "metadata": {},
   "outputs": [],
   "source": [
    "# 變數設定\n",
    "X_col_model = ['O3_max',\"O3_gradian_diff_7to12\"]\n",
    "X_col_test = ['O3',\"O3_gradian_diff_7to12\"]\n",
    "df_pic_for_model = df_pic_4.copy(deep=True)"
   ]
  },
  {
   "cell_type": "code",
   "execution_count": 51,
   "id": "55f02887",
   "metadata": {},
   "outputs": [
    {
     "name": "stdout",
     "output_type": "stream",
     "text": [
      ">> 刪除row數: 11399\n"
     ]
    },
    {
     "data": {
      "text/plain": [
       "Index(['index', 'SiteName', 'County', 'AQI', 'Pollutant', 'Status', 'SO2',\n",
       "       'CO', 'O3', 'O3_8hr', 'PM10', 'PM2.5', 'NO2', 'NOx', 'NO', 'WindSpeed',\n",
       "       'WindDirec', 'DataCreationDate', 'Unit', 'CO_8hr', 'PM2.5_AVG',\n",
       "       'PM10_AVG', 'SO2_AVG', 'Longitude', 'Latitude', 'SiteId', 'date',\n",
       "       'O3_8hr_max', 'is_exceed_date', 'real_exceed_hour',\n",
       "       'O3_gradian_diff_7to12', 'CO_gradian_diff_7to12',\n",
       "       'NOx_gradian_diff_7to12', 'NO_gradian_diff_7to12',\n",
       "       'NO2_gradian_diff_7to12', 'SO2_gradian_diff_7to12'],\n",
       "      dtype='object')"
      ]
     },
     "execution_count": 51,
     "metadata": {},
     "output_type": "execute_result"
    }
   ],
   "source": [
    "# 刪除遺漏值\n",
    "df_result.dropna(how='any', inplace=True)\n",
    "\n",
    "print(f\">> 刪除row數: {len(df_pic_for_model) - len(df_pic_for_model.dropna(subset=X_col_test, how='any'))}\")\n",
    "df_pic_for_model.dropna(subset=X_col_test, how='any', inplace=True)\n",
    "\n",
    "df_pic_for_model.columns"
   ]
  },
  {
   "cell_type": "code",
   "execution_count": 52,
   "id": "d45125cd",
   "metadata": {},
   "outputs": [
    {
     "name": "stdout",
     "output_type": "stream",
     "text": [
      ">> X:['O3_max', 'O3_gradian_diff_7to12']\n",
      ">> slope:[[0.69352921 0.11493844]]\n",
      ">> intercept: 1.548\n",
      ">> r2_score: 0.905\n",
      "\n",
      ">> Mean Absolute Error: 3.3951601647948815\n",
      ">> Root Mean Squared Error: 4.461839900600448\n"
     ]
    },
    {
     "data": {
      "image/png": "[encoded data removed]",
      "text/plain": [
       "<Figure size 432x288 with 1 Axes>"
      ]
     },
     "metadata": {
      "needs_background": "light"
     },
     "output_type": "display_data"
    }
   ],
   "source": [
    "for s in df_result[\"SiteName\"].unique()[0:1]:\n",
    "    # mask\n",
    "    mask_train = (df_result[\"SiteName\"].isin([s])) & (df_result[\"date\"].apply(lambda d: d.year)==2018)\n",
    "    mask_test_self = (df_pic_for_model[\"SiteName\"].isin([s])) & (df_pic_for_model[\"date\"].apply(lambda d: d.year)==2018)\n",
    "    mask_test_next = (df_pic_for_model[\"SiteName\"].isin([s])) & (df_pic_for_model[\"date\"].apply(lambda d: d.year)==2019)\n",
    "    \n",
    "    #split dataset\n",
    "    #     for model\n",
    "    X_train = df_result[mask_train][X_col_model].values\n",
    "    y_train = df_result[mask_train]['O3_8hr_max'].values.reshape(-1,1) \n",
    "\n",
    "    #  for test_self\n",
    "    X_test_self = df_pic_for_model[mask_test_self][X_col_test].values\n",
    "    y_test_self = df_pic_for_model[mask_test_self]['O3_8hr'].values.reshape(-1,1)\n",
    "    \n",
    "    # for test_next\n",
    "    X_test_next = df_pic_for_model[mask_test_next][X_col_test].values\n",
    "    y_test_next = df_pic_for_model[mask_test_next]['O3_8hr'].values.reshape(-1,1)\n",
    "    \n",
    "    # model\n",
    "    reg = LinearRegression(fit_intercept=True)  \n",
    "    reg.fit(X_train, y_train) # 訓練模型\n",
    "    y_train_pred = reg.predict(X_train) # 預測\n",
    "    \n",
    "    # Print outputs\n",
    "    print(f\">> X:{X_col_model}\")\n",
    "    print(f\">> slope:{reg.coef_}\")\n",
    "    print(f\">> intercept: {round(reg.intercept_[0],3)}\")\n",
    "    print(f\">> r2_score: {round(r2_score(y_train, y_train_pred),3)}\\n\")\n",
    "    \n",
    "    \n",
    "    # 單變數迴歸 diff: single_reg_diff\n",
    "    \n",
    "    # 複迴歸 diff: mutil_reg_diff\n",
    "    mutil_reg_diff = pd.DataFrame({'Actual': y_train.flatten(), 'Predicted': y_train_pred.flatten()})\n",
    "    mutil_reg_diff.loc[:, \"diff\"] = mutil_reg_diff.loc[: ,\"Predicted\"] - mutil_reg_diff.loc[: ,\"Actual\"]\n",
    "\n",
    "    # 疊圖\n",
    "    fig, ax = plt.subplots()\n",
    "    for idx, d in enumerate([mutil_reg_diff, single_reg_diff]):\n",
    "        if idx==1:\n",
    "            color = 'r'\n",
    "            label = \"複迴歸\"\n",
    "        else:\n",
    "            color = 'b'\n",
    "            label = \"單迴歸\"\n",
    "            \n",
    "        sns.histplot(data=d, x=\"diff\" ,ax=ax, kde=True, color=color, label=label)\n",
    "    ax.set_xlim(mutil_reg_diff.loc[:, \"diff\"].min()-5, mutil_reg_diff.loc[:, \"diff\"].max()+5)\n",
    "    ax.legend()\n",
    "    ax.set_title(f\"預測差距 (Pre-Actul) 直方圖\")\n",
    "    \n",
    "    print('>> Mean Absolute Error:', metrics.mean_absolute_error(y_train, y_train_pred))  \n",
    "#     print('>> Mean Squared Error:', metrics.mean_squared_error(y_train, y_train_pred))  \n",
    "    print('>> Root Mean Squared Error:', np.sqrt(metrics.mean_squared_error(y_train, y_train_pred)))"
   ]
  },
  {
   "cell_type": "markdown",
   "id": "69aa5ef4",
   "metadata": {},
   "source": [
    "### 當年度驗證 self "
   ]
  },
  {
   "cell_type": "code",
   "execution_count": 46,
   "id": "222e6a83",
   "metadata": {},
   "outputs": [
    {
     "name": "stdout",
     "output_type": "stream",
     "text": [
      ">>預測目標門檻值: 71\n",
      "\n",
      ">> TN: 334\n",
      ">> FP: 0\n",
      ">> FN: 6\n",
      ">> TP: 4\n",
      "\n",
      ">> 預警成功率: 0.4\n",
      ">> 假警報率: 0.0\n",
      "\n",
      ">> 預警成功 發布時間點 統計:\n",
      "時間點   次數\n",
      "14    4\n",
      "Name: DataCreationDate, dtype: int64\n",
      ">> 預警成功 提早時數 統計:\n",
      "提早時數   次數\n",
      "2.0    3\n",
      "4.0    1\n",
      "dtype: int64\n"
     ]
    }
   ],
   "source": [
    "# 當年度驗證\n",
    "\n",
    "# 以模型預測每小時資料\n",
    "y_test_self_pred = reg.predict(X_test_self)\n",
    "\n",
    "# 定義預測超標門檻值\n",
    "exceed_value_pred = 71 # 預測超標門檻值\n",
    "\n",
    "# 取用小時值資料\n",
    "df_self = df_pic_for_model[mask_test_self].reset_index(drop=True).copy(deep=True)\n",
    "df_self.loc[:,\"y_pred\"] = y_test_self_pred\n",
    "df_self.loc[:,f\"is_y_pred_ge_{exceed_value_pred}\"] = (y_test_self_pred>=exceed_value_pred)\n",
    "\n",
    "# 挑選出每天最早預測超標的小時資料、若皆無預測超標，則會為0時的資料\n",
    "df_self = df_self.sort_values(\n",
    "            by=[\"date\", f\"is_y_pred_ge_{exceed_value_pred}\", \"DataCreationDate\"],\n",
    "                ascending=[1,0,1]).drop_duplicates(subset=[\"date\"], keep=\"first\")\n",
    "\n",
    "# 驗證對錯>>混淆矩陣\n",
    "# metrics.confusion_matrix(y_true, y_pred)\n",
    "# (tn, fp, fn, tp)\n",
    "cm = metrics.confusion_matrix(df_self[\"is_exceed_date\"].values, df_self[f\"is_y_pred_ge_{exceed_value_pred}\"].values).ravel()\n",
    "print(f\">>預測目標門檻值: {exceed_value_pred}\\n\")\n",
    "print(f\">> TN: {cm[0]}\\n>> FP: {cm[1]}\\n>> FN: {cm[2]}\\n>> TP: {cm[3]}\\n\")\n",
    "print(f\">> 預警成功率: {round((cm[3]/(cm[2]+cm[3])),3)}\\n>> 假警報率: {round((cm[1]/(cm[1]+cm[3])),3)}\\n\")\n",
    "\n",
    "# 計算 TP  預警時間、提早時數\n",
    "mask_TP = (df_self[\"is_exceed_date\"].isin([True])) &(df_self[f\"is_y_pred_ge_{exceed_value_pred}\"].isin([True]))\n",
    "\n",
    "print(f\">> 預警成功 發布時間點 統計:\\n時間點   次數\\n{df_self[mask_TP]['DataCreationDate'].dt.hour.value_counts()}\")\n",
    "print(f\">> 預警成功 提早時數 統計:\\n提早時數   次數\\n{((df_self[mask_TP]['real_exceed_hour']) -(df_self[mask_TP]['DataCreationDate'].dt.hour)).value_counts()}\")"
   ]
  },
  {
   "cell_type": "markdown",
   "id": "ac7b646a",
   "metadata": {},
   "source": [
    "### 下年度驗證 next "
   ]
  },
  {
   "cell_type": "code",
   "execution_count": 47,
   "id": "0d72a759",
   "metadata": {},
   "outputs": [
    {
     "name": "stdout",
     "output_type": "stream",
     "text": [
      ">>預測目標門檻值: 71\n",
      "\n",
      ">> TN: 316\n",
      ">> FP: 1\n",
      ">> FN: 10\n",
      ">> TP: 10\n",
      "\n",
      ">> 預警成功率: 0.5\n",
      ">> 假警報率: 0.091\n",
      "\n",
      ">> 預警成功 發布時間點 統計:\n",
      "時間點   次數\n",
      "14    4\n",
      "13    3\n",
      "12    2\n",
      "15    1\n",
      "Name: DataCreationDate, dtype: int64\n",
      ">> 預警成功 提早時數 統計:\n",
      "提早時數   次數\n",
      "3.0    5\n",
      "4.0    3\n",
      "2.0    2\n",
      "dtype: int64\n"
     ]
    }
   ],
   "source": [
    "# 下年度驗證\n",
    "\n",
    "# 以模型預測每小時資料\n",
    "y_test_next_pred = reg.predict(X_test_next)\n",
    "\n",
    "# 定義預測超標門檻值\n",
    "exceed_value_pred = 71 # 預測超標門檻值\n",
    "\n",
    "# 取用小時值資料\n",
    "df_next = df_pic_for_model[mask_test_next].reset_index(drop=True).copy(deep=True)\n",
    "df_next.loc[:,\"y_pred\"] = y_test_next_pred\n",
    "df_next.loc[:,f\"is_y_pred_ge_{exceed_value_pred}\"] = (y_test_next_pred>=exceed_value_pred)\n",
    "\n",
    "# 挑選出每天最早預測超標的小時資料、若皆無預測超標，則會為0時的資料\n",
    "df_next = df_next.sort_values(\n",
    "            by=[\"date\", f\"is_y_pred_ge_{exceed_value_pred}\", \"DataCreationDate\"],\n",
    "                ascending=[1,0,1]).drop_duplicates(subset=[\"date\"], keep=\"first\")\n",
    "\n",
    "# 驗證對錯>>混淆矩陣\n",
    "# metrics.confusion_matrix(y_true, y_pred)\n",
    "# (tn, fp, fn, tp)\n",
    "cm = metrics.confusion_matrix(df_next[\"is_exceed_date\"].values, df_next[f\"is_y_pred_ge_{exceed_value_pred}\"].values).ravel()\n",
    "\n",
    "print(f\">>預測目標門檻值: {exceed_value_pred}\\n\")\n",
    "print(f\">> TN: {cm[0]}\\n>> FP: {cm[1]}\\n>> FN: {cm[2]}\\n>> TP: {cm[3]}\\n\")\n",
    "print(f\">> 預警成功率: {round((cm[3]/(cm[2]+cm[3])),3)}\\n>> 假警報率: {round((cm[1]/(cm[1]+cm[3])),3)}\\n\")\n",
    "\n",
    "# 計算 TP  預警時間、提早時數\n",
    "mask_TP = (df_next[\"is_exceed_date\"].isin([True])) &(df_next[f\"is_y_pred_ge_{exceed_value_pred}\"].isin([True]))\n",
    "\n",
    "print(f\">> 預警成功 發布時間點 統計:\\n時間點   次數\\n{df_next[mask_TP]['DataCreationDate'].dt.hour.value_counts()}\")\n",
    "print(f\">> 預警成功 提早時數 統計:\\n提早時數   次數\\n{((df_next[mask_TP]['real_exceed_hour']) -(df_next[mask_TP]['DataCreationDate'].dt.hour)).value_counts()}\")"
   ]
  },
  {
   "cell_type": "code",
   "execution_count": null,
   "id": "dfb1e263",
   "metadata": {},
   "outputs": [],
   "source": []
  }
 ],
 "metadata": {
  "kernelspec": {
   "display_name": "Python 3",
   "language": "python",
   "name": "python3"
  },
  "language_info": {
   "codemirror_mode": {
    "name": "ipython",
    "version": 3
   },
   "file_extension": ".py",
   "mimetype": "text/x-python",
   "name": "python",
   "nbconvert_exporter": "python",
   "pygments_lexer": "ipython3",
   "version": "3.8.3"
  },
  "toc-autonumbering": true
 },
 "nbformat": 4,
 "nbformat_minor": 5
}
