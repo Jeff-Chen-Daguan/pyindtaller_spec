{
 "cells": [
  {
   "cell_type": "markdown",
   "metadata": {},
   "source": [
    "# 2020.11.20 空品小時值爬蟲"
   ]
  },
  {
   "cell_type": "markdown",
   "metadata": {},
   "source": [
    "1. 確認目標網站([https://data.epa.gov.tw/dataset/aqx_p_15](https://data.epa.gov.tw/dataset/aqx_p_15))，評估爬蟲方法(爬蟲下載) (2020.11.20)\n",
    "2. 撰寫爬蟲腳本\n",
    "3. 存入SQLite\n",
    "4. 檢查資料品質，特殊處理，變數製作 如8小時移動平均"
   ]
  },
  {
   "cell_type": "markdown",
   "metadata": {},
   "source": [
    "- 目標網站:\n",
    "    - 空品小時值: https://data.epa.gov.tw/dataset/aqx_p_15\n",
    "    - AQI小時值(有算各污染物的平均值): https://data.epa.gov.tw/dataset/aqx_p_488\n",
    "    - 空品日均值: https://data.epa.gov.tw/dataset/aqx_p_19"
   ]
  },
  {
   "cell_type": "markdown",
   "metadata": {},
   "source": [
    "## 1. 取得檔案名稱列表與下載連結"
   ]
  },
  {
   "cell_type": "code",
   "execution_count": 1,
   "metadata": {},
   "outputs": [],
   "source": [
    "import requests as rs\n",
    "from bs4 import BeautifulSoup as BS\n",
    "import urllib\n",
    "from lxml import etree\n",
    "\n",
    "from glob import glob\n",
    "from zipfile import ZipFile\n",
    "import io\n",
    "\n",
    "from tqdm import tqdm\n",
    "from datetime import date\n",
    "from time import process_time\n",
    "\n",
    "from sqlalchemy import create_engine\n",
    "\n",
    "import sys\n",
    "sys.path.append('G:\\我的雲端硬碟\\python')\n",
    "from polib.CsvEngn import *\n",
    "import numpy as np"
   ]
  },
  {
   "cell_type": "code",
   "execution_count": 2,
   "metadata": {},
   "outputs": [],
   "source": [
    "dicHeaders = {\"User-Agent\": \"Mozilla/5.0 (Windows NT 6.1; Win64; x64) AppleWebKit/537.36 (KHTML, like Gecko) Chrome/75.0.3770.142 Safari/537.36\"}\n",
    "# url_object = 'https://data.epa.gov.tw/dataset/aqx_p_15'\n",
    "url_object = 'https://data.epa.gov.tw/dataset/aqx_p_488'"
   ]
  },
  {
   "cell_type": "code",
   "execution_count": 3,
   "metadata": {},
   "outputs": [],
   "source": [
    "sssn = rs.session()\n",
    "sssn.headers = dicHeaders\n",
    "sssn.stream = True\n",
    "sssn.verify = False"
   ]
  },
  {
   "cell_type": "code",
   "execution_count": 4,
   "metadata": {},
   "outputs": [],
   "source": [
    "# 關閉連線警告\n",
    "import requests.packages.urllib3\n",
    "requests.packages.urllib3.disable_warnings()"
   ]
  },
  {
   "cell_type": "code",
   "execution_count": 5,
   "metadata": {},
   "outputs": [
    {
     "name": "stdout",
     "output_type": "stream",
     "text": [
      ">> 網頁訪問成功!!\n"
     ]
    }
   ],
   "source": [
    "response = sssn.get(url_object, verify=False)\n",
    "# response.status_code # 回傳狀態 200,404,...\n",
    "if response.status_code == 200:\n",
    "    print('>> 網頁訪問成功!!')"
   ]
  },
  {
   "cell_type": "code",
   "execution_count": 6,
   "metadata": {},
   "outputs": [],
   "source": [
    "# 解析內容 (轉為string)\n",
    "content = response.content.decode()\n",
    "# 把string轉為hmtl node tree，回傳根節點\n",
    "html = etree.HTML(content)"
   ]
  },
  {
   "cell_type": "code",
   "execution_count": 8,
   "metadata": {},
   "outputs": [],
   "source": [
    "# content"
   ]
  },
  {
   "cell_type": "markdown",
   "metadata": {},
   "source": [
    "暫時性輸出最新月份資料"
   ]
  },
  {
   "cell_type": "code",
   "execution_count": 17,
   "metadata": {},
   "outputs": [
    {
     "name": "stdout",
     "output_type": "stream",
     "text": [
      "空氣品質指標(AQI)(歷史資料)\n"
     ]
    }
   ],
   "source": [
    "# # title = html.xpath(\"//*[@id='dataset-resources']/div/table/tbody/tr[*]/td[1]/a/span//@title\")\n",
    "# title = html.xpath(\"//*[@id='dataset-resources']/div/table/tbody/tr[*]/td[1]/a/span/text()\")\n",
    "# title_lst = [' '.join(t.split()) for t in title]\n",
    "# title_pic = title_lst[0] # 選取要加入的月份\n",
    "# print(title_pic)\n",
    "\n",
    "# download = html.xpath(\"//*[@id='dataset-resources']/div/table/tbody/tr[*]/td[2]/a//@href\")\n",
    "# download = download[:1] # 選取要加入的月份\n",
    "\n",
    "# date_col_name = \"DataCreationDate\""
   ]
  },
  {
   "cell_type": "code",
   "execution_count": 22,
   "metadata": {},
   "outputs": [],
   "source": [
    "# df_result = pd.DataFrame()\n",
    "# # zip url 讀取\n",
    "# for zip_file_url in download:\n",
    "#     r = rs.get(zip_file_url,verify=False)\n",
    "#     z = ZipFile(io.BytesIO(r.content))\n",
    "#     print(f\">> {zip_file_url.split('/')[-1]}\")\n",
    "    \n",
    "#     # zip中每個csv 讀取\n",
    "#     for f_name in tqdm(sorted(z.namelist())):\n",
    "#         df_tmp = pd.read_csv(z.open(f_name), parse_dates=[date_col_name])\n",
    "#         df_tmp_s = df_tmp.reset_index()\n",
    "#         df_result = pd.concat([df_result,df_tmp_s])"
   ]
  },
  {
   "cell_type": "code",
   "execution_count": 21,
   "metadata": {},
   "outputs": [],
   "source": [
    "# formtoCsv(df_result, \"AQI_2月至25_am9資料\")"
   ]
  },
  {
   "cell_type": "markdown",
   "metadata": {},
   "source": [
    "暫時性輸出最新月份資料_ OVER"
   ]
  },
  {
   "cell_type": "code",
   "execution_count": 11,
   "metadata": {},
   "outputs": [
    {
     "data": {
      "text/plain": [
       "['空氣品質指標(AQI)(歷史資料) (2021/05)',\n",
       " '空氣品質指標(AQI)(歷史資料) (2021/04)',\n",
       " '空氣品質指標(AQI)(歷史資料) (2021/03)',\n",
       " '空氣品質指標(AQI)(歷史資料) (2021/02)']"
      ]
     },
     "execution_count": 11,
     "metadata": {},
     "output_type": "execute_result"
    }
   ],
   "source": [
    "# title = html.xpath(\"//*[@id='dataset-resources']/div/table/tbody/tr[*]/td[1]/a/span//@title\")\n",
    "title = html.xpath(\"//*[@id='dataset-resources']/div/table/tbody/tr[*]/td[1]/a/span/text()\")\n",
    "title_lst = [' '.join(t.split()) for t in title]\n",
    "title_pic = title_lst[1:5] # 選取要加入的月份\n",
    "title_pic"
   ]
  },
  {
   "cell_type": "code",
   "execution_count": 12,
   "metadata": {},
   "outputs": [
    {
     "data": {
      "text/plain": [
       "['https://opendata2.epa.gov.tw/data/aqx_p_488/aqx_p_488_2021-05.zip',\n",
       " 'https://opendata2.epa.gov.tw/data/aqx_p_488/aqx_p_488_2021-04.zip',\n",
       " 'https://opendata2.epa.gov.tw/data/aqx_p_488/aqx_p_488_2021-03.zip',\n",
       " 'https://opendata2.epa.gov.tw/data/aqx_p_488/aqx_p_488_2021-02.zip']"
      ]
     },
     "execution_count": 12,
     "metadata": {},
     "output_type": "execute_result"
    }
   ],
   "source": [
    "download = html.xpath(\"//*[@id='dataset-resources']/div/table/tbody/tr[*]/td[2]/a//@href\")\n",
    "download = download[1:5] # 選取要加入的月份\n",
    "download"
   ]
  },
  {
   "cell_type": "markdown",
   "metadata": {},
   "source": [
    "可參考這篇往下做: https://stackoverflow.com/questions/9419162/download-returned-zip-file-from-url"
   ]
  },
  {
   "cell_type": "code",
   "execution_count": 13,
   "metadata": {},
   "outputs": [
    {
     "name": "stdout",
     "output_type": "stream",
     "text": [
      ">>> DB 成功連線!!\n",
      "\n"
     ]
    }
   ],
   "source": [
    "# 建立資料庫連線\n",
    "db_name = \"air_monitor\"\n",
    "table_name = \"AQI\"\n",
    "\n",
    "db_path = f'D:\\\\SQLiteDBs\\\\{db_name}.db'\n",
    "\n",
    "db_path_ready = db_path.replace('\\/' , '/')\n",
    "db_engine = create_engine(f'sqlite:///{db_path_ready}', echo=False)\n",
    "print('>>> DB 成功連線!!\\n')"
   ]
  },
  {
   "cell_type": "code",
   "execution_count": 14,
   "metadata": {},
   "outputs": [],
   "source": [
    "if table_name==\"air_monitor\":\n",
    "    date_col_name = \"MonitorDate\"\n",
    "    \n",
    "if table_name==\"AQI\":\n",
    "    date_col_name = \"DataCreationDate\""
   ]
  },
  {
   "cell_type": "code",
   "execution_count": 15,
   "metadata": {},
   "outputs": [
    {
     "name": "stderr",
     "output_type": "stream",
     "text": [
      "  0%|                                                                                           | 0/29 [00:00<?, ?it/s]"
     ]
    },
    {
     "name": "stdout",
     "output_type": "stream",
     "text": [
      ">> aqx_p_488_2021-05.zip\n"
     ]
    },
    {
     "name": "stderr",
     "output_type": "stream",
     "text": [
      "100%|██████████████████████████████████████████████████████████████████████████████████| 29/29 [00:07<00:00,  3.98it/s]\n",
      "  0%|                                                                                           | 0/30 [00:00<?, ?it/s]"
     ]
    },
    {
     "name": "stdout",
     "output_type": "stream",
     "text": [
      ">> aqx_p_488_2021-04.zip\n"
     ]
    },
    {
     "name": "stderr",
     "output_type": "stream",
     "text": [
      "100%|██████████████████████████████████████████████████████████████████████████████████| 30/30 [00:09<00:00,  3.15it/s]\n",
      "  0%|                                                                                           | 0/31 [00:00<?, ?it/s]"
     ]
    },
    {
     "name": "stdout",
     "output_type": "stream",
     "text": [
      ">> aqx_p_488_2021-03.zip\n"
     ]
    },
    {
     "name": "stderr",
     "output_type": "stream",
     "text": [
      "100%|██████████████████████████████████████████████████████████████████████████████████| 31/31 [00:07<00:00,  3.94it/s]\n",
      "  0%|                                                                                           | 0/28 [00:00<?, ?it/s]"
     ]
    },
    {
     "name": "stdout",
     "output_type": "stream",
     "text": [
      ">> aqx_p_488_2021-02.zip\n"
     ]
    },
    {
     "name": "stderr",
     "output_type": "stream",
     "text": [
      "100%|██████████████████████████████████████████████████████████████████████████████████| 28/28 [00:09<00:00,  2.94it/s]"
     ]
    },
    {
     "name": "stdout",
     "output_type": "stream",
     "text": [
      ">>> 資料儲存完成!!\n",
      "\n",
      "\n"
     ]
    },
    {
     "name": "stderr",
     "output_type": "stream",
     "text": [
      "\n"
     ]
    }
   ],
   "source": [
    "# zip url 讀取\n",
    "for zip_file_url in download:\n",
    "    r = rs.get(zip_file_url,verify=False)\n",
    "    z = ZipFile(io.BytesIO(r.content))\n",
    "    print(f\">> {zip_file_url.split('/')[-1]}\")\n",
    "    \n",
    "    # zip中每個csv 讀取\n",
    "    for f_name in tqdm(sorted(z.namelist())):\n",
    "        df_tmp = pd.read_csv(z.open(f_name), parse_dates=[date_col_name])\n",
    "        \n",
    "        # 資料處理 轉置為以小時為row\n",
    "        if table_name==\"air_monitor\":\n",
    "            df_tmp.set_index(df_tmp.columns.to_list()[:7], inplace=True)\n",
    "            df_tmp_s = df_tmp.stack().reset_index()\n",
    "            df_tmp_s.rename(columns={0:'MonitorValue'}, inplace=True)\n",
    "            df_tmp_s.loc[:,date_col_name] = df_tmp_s.loc[:,[date_col_name, 'level_7']].apply(lambda row: row[date_col_name].replace(hour=int(row['level_7'][-2:]\\\n",
    "                                                                                                        if type(row[date_col_name]) is pd.Timestamp \\\n",
    "                                                                                                        else np.nan)), axis=1)\n",
    "            df_tmp_s.drop(columns=['level_7'], inplace=True)\n",
    "            \n",
    "        if table_name==\"AQI\":\n",
    "            df_tmp_s = df_tmp.reset_index()\n",
    "        \n",
    "        \n",
    "        # 存入資料庫\n",
    "        df_tmp_s.to_sql(table_name, db_engine, if_exists='append', index=False)\n",
    "        \n",
    "\n",
    "print('>>> 資料儲存完成!!\\n\\n')\n",
    "del df_tmp\n",
    "del df_tmp_s"
   ]
  },
  {
   "cell_type": "markdown",
   "metadata": {},
   "source": [
    "## 2. 從SQLite中讀取"
   ]
  },
  {
   "cell_type": "code",
   "execution_count": 2,
   "metadata": {},
   "outputs": [
    {
     "name": "stdout",
     "output_type": "stream",
     "text": [
      ">>> DB 成功連線!!\n",
      "\n"
     ]
    }
   ],
   "source": [
    "# 建立資料庫連線\n",
    "db_path = r'D:\\SQLiteDBs\\air_monitor.db'\n",
    "\n",
    "db_path_ready = db_path.replace('\\/' , '/')\n",
    "db_engine = create_engine(f'sqlite:///{db_path_ready}', echo=False)\n",
    "print('>>> DB 成功連線!!\\n')"
   ]
  },
  {
   "cell_type": "code",
   "execution_count": 5,
   "metadata": {},
   "outputs": [],
   "source": [
    "# df['ItemEngName'].unique()"
   ]
  },
  {
   "cell_type": "markdown",
   "metadata": {},
   "source": [
    "### (參數) 選擇處理項目與時間"
   ]
  },
  {
   "cell_type": "code",
   "execution_count": 3,
   "metadata": {},
   "outputs": [],
   "source": [
    "# select_item"
   ]
  },
  {
   "cell_type": "code",
   "execution_count": 3,
   "metadata": {},
   "outputs": [],
   "source": [
    "# 1.選擇項目\n",
    "table_name = \"AQI\"\n",
    "# select_item = \"O3\"\n",
    "# select_item = [\"PM2.5\", \"PM2.5_AVG\", \"O3\"]\n",
    "select_item = [\"O3\", \"O3_8hr\", \"CO\",\"CO_8hr\", \"NOx\",\"NO\",\"NO2\",\"SO2\",\"PM10\",\"WindSpeed\",\"WindDirec\",\"SO2_AVG\",\"PM2.5\",\"PM2.5_AVG\",\"PM10_AVG\"]\n",
    "\n",
    "# 2.選擇時間_從...至今\n",
    "# date_after='2009-12-31'  #範例格式: 2017-12-31\n",
    "# date_after='2016-12-31'  #範例格式: 2017-12-31  (計算冷熱季需要更長的時間，目前用近10年: 2010~2020)\n",
    "date_after='2000-1-1' # 全都要\n",
    "# date_after='2021-03-01' # test"
   ]
  },
  {
   "cell_type": "markdown",
   "metadata": {},
   "source": [
    "### SQL指令"
   ]
  },
  {
   "cell_type": "code",
   "execution_count": 6,
   "metadata": {},
   "outputs": [],
   "source": [
    "# df['ItemName'].unique()"
   ]
  },
  {
   "cell_type": "code",
   "execution_count": 4,
   "metadata": {},
   "outputs": [
    {
     "name": "stdout",
     "output_type": "stream",
     "text": [
      ">> 開始執行 SQL:SELECT * FROM AQI WHERE Date(DataCreationDate)>='2000-1-1' \n",
      "\n",
      "<class 'pandas.core.frame.DataFrame'>\n",
      "RangeIndex: 3522511 entries, 0 to 3522510\n",
      "Data columns (total 26 columns):\n",
      " #   Column            Dtype  \n",
      "---  ------            -----  \n",
      " 0   index             int64  \n",
      " 1   SiteName          object \n",
      " 2   County            object \n",
      " 3   AQI               float64\n",
      " 4   Pollutant         object \n",
      " 5   Status            object \n",
      " 6   SO2               object \n",
      " 7   CO                object \n",
      " 8   O3                object \n",
      " 9   O3_8hr            object \n",
      " 10  PM10              object \n",
      " 11  PM2.5             object \n",
      " 12  NO2               object \n",
      " 13  NOx               object \n",
      " 14  NO                object \n",
      " 15  WindSpeed         object \n",
      " 16  WindDirec         object \n",
      " 17  DataCreationDate  object \n",
      " 18  Unit              object \n",
      " 19  CO_8hr            object \n",
      " 20  PM2.5_AVG         object \n",
      " 21  PM10_AVG          object \n",
      " 22  SO2_AVG           object \n",
      " 23  Longitude         float64\n",
      " 24  Latitude          float64\n",
      " 25  SiteId            float64\n",
      "dtypes: float64(4), int64(1), object(21)\n",
      "memory usage: 698.7+ MB\n",
      ">> SQL 讀取完成!! 耗時:75.4375秒\n",
      "None\n"
     ]
    }
   ],
   "source": [
    "# sql 指令\n",
    "# sql_cmd = \"SELECT * FROM air_monitor LIMIT 1000\" #測試模式\n",
    "# sql_cmd = f\"SELECT * FROM {table_name} WHERE ItemEngName ='{select_item}' and Date(MonitorDate)>='{date_after}' \"\n",
    "sql_cmd = f\"SELECT * FROM {table_name} WHERE Date(DataCreationDate)>='{date_after}' \"\n",
    "\n",
    "print(f'>> 開始執行 SQL:{sql_cmd}\\n')\n",
    "a= process_time()\n",
    "df = pd.read_sql(sql=sql_cmd, con=db_engine)\n",
    "b = process_time()\n",
    "print(f'>> SQL 讀取完成!! 耗時:{b-a}秒\\n{df.info()}')"
   ]
  },
  {
   "cell_type": "code",
   "execution_count": 19,
   "metadata": {},
   "outputs": [],
   "source": [
    "# formtoCsv(df,\"AQI_2021M3\")"
   ]
  },
  {
   "cell_type": "markdown",
   "metadata": {},
   "source": [
    "資料清理"
   ]
  },
  {
   "cell_type": "code",
   "execution_count": 6,
   "metadata": {},
   "outputs": [
    {
     "data": {
      "text/plain": [
       "Index(['index', 'SiteName', 'County', 'AQI', 'Pollutant', 'Status', 'SO2',\n",
       "       'CO', 'O3', 'O3_8hr', 'PM10', 'PM2.5', 'NO2', 'NOx', 'NO', 'WindSpeed',\n",
       "       'WindDirec', 'DataCreationDate', 'Unit', 'CO_8hr', 'PM2.5_AVG',\n",
       "       'PM10_AVG', 'SO2_AVG', 'Longitude', 'Latitude', 'SiteId'],\n",
       "      dtype='object')"
      ]
     },
     "execution_count": 6,
     "metadata": {},
     "output_type": "execute_result"
    }
   ],
   "source": [
    "df.columns"
   ]
  },
  {
   "cell_type": "code",
   "execution_count": 5,
   "metadata": {},
   "outputs": [
    {
     "name": "stderr",
     "output_type": "stream",
     "text": [
      "  0%|                                                                                           | 0/15 [00:00<?, ?it/s]"
     ]
    },
    {
     "name": "stdout",
     "output_type": "stream",
     "text": [
      "['O3', 'O3_8hr', 'CO', 'CO_8hr', 'NOx', 'NO', 'NO2', 'SO2', 'PM10', 'WindSpeed', 'WindDirec', 'SO2_AVG', 'PM2.5', 'PM2.5_AVG', 'PM10_AVG']\n"
     ]
    },
    {
     "name": "stderr",
     "output_type": "stream",
     "text": [
      "100%|██████████████████████████████████████████████████████████████████████████████████| 15/15 [01:10<00:00,  4.68s/it]\n"
     ]
    }
   ],
   "source": [
    "# 清理指定欄位的雜值\n",
    "def cleaner(v):\n",
    "    try:\n",
    "        v=int(float(v))\n",
    "        if v<0:\n",
    "            return np.nan\n",
    "        return v\n",
    "    except:\n",
    "            return np.nan\n",
    "\n",
    "print(select_item)\n",
    "for col in tqdm(select_item):\n",
    "    df.loc[:, col] = df.loc[:, col].apply(cleaner)"
   ]
  },
  {
   "cell_type": "code",
   "execution_count": 6,
   "metadata": {},
   "outputs": [
    {
     "data": {
      "text/html": [
       "<div>\n",
       "<style scoped>\n",
       "    .dataframe tbody tr th:only-of-type {\n",
       "        vertical-align: middle;\n",
       "    }\n",
       "\n",
       "    .dataframe tbody tr th {\n",
       "        vertical-align: top;\n",
       "    }\n",
       "\n",
       "    .dataframe thead th {\n",
       "        text-align: right;\n",
       "    }\n",
       "</style>\n",
       "<table border=\"1\" class=\"dataframe\">\n",
       "  <thead>\n",
       "    <tr style=\"text-align: right;\">\n",
       "      <th></th>\n",
       "      <th>O3</th>\n",
       "      <th>O3_8hr</th>\n",
       "      <th>CO</th>\n",
       "      <th>CO_8hr</th>\n",
       "      <th>NOx</th>\n",
       "      <th>NO</th>\n",
       "      <th>NO2</th>\n",
       "      <th>SO2</th>\n",
       "      <th>PM10</th>\n",
       "      <th>WindSpeed</th>\n",
       "      <th>WindDirec</th>\n",
       "      <th>SO2_AVG</th>\n",
       "      <th>PM2.5</th>\n",
       "      <th>PM2.5_AVG</th>\n",
       "      <th>PM10_AVG</th>\n",
       "    </tr>\n",
       "  </thead>\n",
       "  <tbody>\n",
       "    <tr>\n",
       "      <th>count</th>\n",
       "      <td>3.363530e+06</td>\n",
       "      <td>3.393540e+06</td>\n",
       "      <td>3.409821e+06</td>\n",
       "      <td>3.439579e+06</td>\n",
       "      <td>3.407467e+06</td>\n",
       "      <td>3.407105e+06</td>\n",
       "      <td>3.410543e+06</td>\n",
       "      <td>3.434573e+06</td>\n",
       "      <td>3.418893e+06</td>\n",
       "      <td>3.322801e+06</td>\n",
       "      <td>3.322999e+06</td>\n",
       "      <td>2.934272e+06</td>\n",
       "      <td>3.369115e+06</td>\n",
       "      <td>3.473393e+06</td>\n",
       "      <td>3.450463e+06</td>\n",
       "    </tr>\n",
       "    <tr>\n",
       "      <th>mean</th>\n",
       "      <td>3.119491e+01</td>\n",
       "      <td>3.140911e+01</td>\n",
       "      <td>3.313429e-02</td>\n",
       "      <td>3.053891e-02</td>\n",
       "      <td>1.610587e+01</td>\n",
       "      <td>3.520117e+00</td>\n",
       "      <td>1.215461e+01</td>\n",
       "      <td>2.014569e+00</td>\n",
       "      <td>3.925882e+01</td>\n",
       "      <td>1.910428e+00</td>\n",
       "      <td>1.615622e+02</td>\n",
       "      <td>2.380595e+00</td>\n",
       "      <td>1.936349e+01</td>\n",
       "      <td>1.903836e+01</td>\n",
       "      <td>3.926471e+01</td>\n",
       "    </tr>\n",
       "    <tr>\n",
       "      <th>std</th>\n",
       "      <td>1.879150e+01</td>\n",
       "      <td>1.614222e+01</td>\n",
       "      <td>2.067527e-01</td>\n",
       "      <td>1.926338e-01</td>\n",
       "      <td>1.630244e+01</td>\n",
       "      <td>9.404468e+00</td>\n",
       "      <td>9.352587e+00</td>\n",
       "      <td>1.909195e+00</td>\n",
       "      <td>2.656921e+01</td>\n",
       "      <td>1.758538e+00</td>\n",
       "      <td>1.164133e+02</td>\n",
       "      <td>1.187535e+00</td>\n",
       "      <td>1.392718e+01</td>\n",
       "      <td>1.265409e+01</td>\n",
       "      <td>2.400333e+01</td>\n",
       "    </tr>\n",
       "    <tr>\n",
       "      <th>min</th>\n",
       "      <td>0.000000e+00</td>\n",
       "      <td>0.000000e+00</td>\n",
       "      <td>0.000000e+00</td>\n",
       "      <td>0.000000e+00</td>\n",
       "      <td>0.000000e+00</td>\n",
       "      <td>0.000000e+00</td>\n",
       "      <td>0.000000e+00</td>\n",
       "      <td>0.000000e+00</td>\n",
       "      <td>0.000000e+00</td>\n",
       "      <td>0.000000e+00</td>\n",
       "      <td>0.000000e+00</td>\n",
       "      <td>0.000000e+00</td>\n",
       "      <td>0.000000e+00</td>\n",
       "      <td>1.000000e+00</td>\n",
       "      <td>0.000000e+00</td>\n",
       "    </tr>\n",
       "    <tr>\n",
       "      <th>25%</th>\n",
       "      <td>1.700000e+01</td>\n",
       "      <td>1.900000e+01</td>\n",
       "      <td>0.000000e+00</td>\n",
       "      <td>0.000000e+00</td>\n",
       "      <td>7.000000e+00</td>\n",
       "      <td>0.000000e+00</td>\n",
       "      <td>5.000000e+00</td>\n",
       "      <td>1.000000e+00</td>\n",
       "      <td>2.100000e+01</td>\n",
       "      <td>1.000000e+00</td>\n",
       "      <td>5.200000e+01</td>\n",
       "      <td>2.000000e+00</td>\n",
       "      <td>9.000000e+00</td>\n",
       "      <td>1.000000e+01</td>\n",
       "      <td>2.200000e+01</td>\n",
       "    </tr>\n",
       "    <tr>\n",
       "      <th>50%</th>\n",
       "      <td>2.900000e+01</td>\n",
       "      <td>3.000000e+01</td>\n",
       "      <td>0.000000e+00</td>\n",
       "      <td>0.000000e+00</td>\n",
       "      <td>1.200000e+01</td>\n",
       "      <td>1.000000e+00</td>\n",
       "      <td>1.000000e+01</td>\n",
       "      <td>2.000000e+00</td>\n",
       "      <td>3.300000e+01</td>\n",
       "      <td>1.000000e+00</td>\n",
       "      <td>1.430000e+02</td>\n",
       "      <td>2.000000e+00</td>\n",
       "      <td>1.600000e+01</td>\n",
       "      <td>1.600000e+01</td>\n",
       "      <td>3.400000e+01</td>\n",
       "    </tr>\n",
       "    <tr>\n",
       "      <th>75%</th>\n",
       "      <td>4.300000e+01</td>\n",
       "      <td>4.200000e+01</td>\n",
       "      <td>0.000000e+00</td>\n",
       "      <td>0.000000e+00</td>\n",
       "      <td>2.000000e+01</td>\n",
       "      <td>3.000000e+00</td>\n",
       "      <td>1.700000e+01</td>\n",
       "      <td>3.000000e+00</td>\n",
       "      <td>5.200000e+01</td>\n",
       "      <td>3.000000e+00</td>\n",
       "      <td>2.720000e+02</td>\n",
       "      <td>3.000000e+00</td>\n",
       "      <td>2.600000e+01</td>\n",
       "      <td>2.600000e+01</td>\n",
       "      <td>5.200000e+01</td>\n",
       "    </tr>\n",
       "    <tr>\n",
       "      <th>max</th>\n",
       "      <td>4.100000e+02</td>\n",
       "      <td>1.250000e+02</td>\n",
       "      <td>1.700000e+01</td>\n",
       "      <td>2.600000e+01</td>\n",
       "      <td>4.310000e+02</td>\n",
       "      <td>3.910000e+02</td>\n",
       "      <td>3.510000e+02</td>\n",
       "      <td>1.800000e+02</td>\n",
       "      <td>1.407000e+03</td>\n",
       "      <td>4.100000e+01</td>\n",
       "      <td>9.900000e+02</td>\n",
       "      <td>6.000000e+01</td>\n",
       "      <td>1.000000e+03</td>\n",
       "      <td>2.450000e+02</td>\n",
       "      <td>7.650000e+02</td>\n",
       "    </tr>\n",
       "  </tbody>\n",
       "</table>\n",
       "</div>"
      ],
      "text/plain": [
       "                 O3        O3_8hr            CO        CO_8hr           NOx  \\\n",
       "count  3.363530e+06  3.393540e+06  3.409821e+06  3.439579e+06  3.407467e+06   \n",
       "mean   3.119491e+01  3.140911e+01  3.313429e-02  3.053891e-02  1.610587e+01   \n",
       "std    1.879150e+01  1.614222e+01  2.067527e-01  1.926338e-01  1.630244e+01   \n",
       "min    0.000000e+00  0.000000e+00  0.000000e+00  0.000000e+00  0.000000e+00   \n",
       "25%    1.700000e+01  1.900000e+01  0.000000e+00  0.000000e+00  7.000000e+00   \n",
       "50%    2.900000e+01  3.000000e+01  0.000000e+00  0.000000e+00  1.200000e+01   \n",
       "75%    4.300000e+01  4.200000e+01  0.000000e+00  0.000000e+00  2.000000e+01   \n",
       "max    4.100000e+02  1.250000e+02  1.700000e+01  2.600000e+01  4.310000e+02   \n",
       "\n",
       "                 NO           NO2           SO2          PM10     WindSpeed  \\\n",
       "count  3.407105e+06  3.410543e+06  3.434573e+06  3.418893e+06  3.322801e+06   \n",
       "mean   3.520117e+00  1.215461e+01  2.014569e+00  3.925882e+01  1.910428e+00   \n",
       "std    9.404468e+00  9.352587e+00  1.909195e+00  2.656921e+01  1.758538e+00   \n",
       "min    0.000000e+00  0.000000e+00  0.000000e+00  0.000000e+00  0.000000e+00   \n",
       "25%    0.000000e+00  5.000000e+00  1.000000e+00  2.100000e+01  1.000000e+00   \n",
       "50%    1.000000e+00  1.000000e+01  2.000000e+00  3.300000e+01  1.000000e+00   \n",
       "75%    3.000000e+00  1.700000e+01  3.000000e+00  5.200000e+01  3.000000e+00   \n",
       "max    3.910000e+02  3.510000e+02  1.800000e+02  1.407000e+03  4.100000e+01   \n",
       "\n",
       "          WindDirec       SO2_AVG         PM2.5     PM2.5_AVG      PM10_AVG  \n",
       "count  3.322999e+06  2.934272e+06  3.369115e+06  3.473393e+06  3.450463e+06  \n",
       "mean   1.615622e+02  2.380595e+00  1.936349e+01  1.903836e+01  3.926471e+01  \n",
       "std    1.164133e+02  1.187535e+00  1.392718e+01  1.265409e+01  2.400333e+01  \n",
       "min    0.000000e+00  0.000000e+00  0.000000e+00  1.000000e+00  0.000000e+00  \n",
       "25%    5.200000e+01  2.000000e+00  9.000000e+00  1.000000e+01  2.200000e+01  \n",
       "50%    1.430000e+02  2.000000e+00  1.600000e+01  1.600000e+01  3.400000e+01  \n",
       "75%    2.720000e+02  3.000000e+00  2.600000e+01  2.600000e+01  5.200000e+01  \n",
       "max    9.900000e+02  6.000000e+01  1.000000e+03  2.450000e+02  7.650000e+02  "
      ]
     },
     "execution_count": 6,
     "metadata": {},
     "output_type": "execute_result"
    }
   ],
   "source": [
    "df.loc[:, select_item].describe()\n",
    "# df.loc[:, select_item].min()"
   ]
  },
  {
   "cell_type": "code",
   "execution_count": 7,
   "metadata": {},
   "outputs": [],
   "source": [
    "df.loc[:,\"DataCreationDate\"] = pd.to_datetime(df.loc[:,\"DataCreationDate\"])\n",
    "df.loc[:,\"date\"] = df.loc[:,\"DataCreationDate\"].dt.date"
   ]
  },
  {
   "cell_type": "markdown",
   "metadata": {},
   "source": [
    "PM2.5客製 3小時移動平均(X)、日平均(Y)"
   ]
  },
  {
   "cell_type": "code",
   "execution_count": 22,
   "metadata": {},
   "outputs": [
    {
     "data": {
      "text/html": [
       "<div>\n",
       "<style scoped>\n",
       "    .dataframe tbody tr th:only-of-type {\n",
       "        vertical-align: middle;\n",
       "    }\n",
       "\n",
       "    .dataframe tbody tr th {\n",
       "        vertical-align: top;\n",
       "    }\n",
       "\n",
       "    .dataframe thead th {\n",
       "        text-align: right;\n",
       "    }\n",
       "</style>\n",
       "<table border=\"1\" class=\"dataframe\">\n",
       "  <thead>\n",
       "    <tr style=\"text-align: right;\">\n",
       "      <th></th>\n",
       "      <th>index</th>\n",
       "      <th>SiteName</th>\n",
       "      <th>County</th>\n",
       "      <th>AQI</th>\n",
       "      <th>Pollutant</th>\n",
       "      <th>Status</th>\n",
       "      <th>SO2</th>\n",
       "      <th>CO</th>\n",
       "      <th>O3</th>\n",
       "      <th>O3_8hr</th>\n",
       "      <th>...</th>\n",
       "      <th>WindDirec</th>\n",
       "      <th>DataCreationDate</th>\n",
       "      <th>Unit</th>\n",
       "      <th>CO_8hr</th>\n",
       "      <th>PM2.5_AVG</th>\n",
       "      <th>PM10_AVG</th>\n",
       "      <th>SO2_AVG</th>\n",
       "      <th>Longitude</th>\n",
       "      <th>Latitude</th>\n",
       "      <th>SiteId</th>\n",
       "    </tr>\n",
       "  </thead>\n",
       "  <tbody>\n",
       "    <tr>\n",
       "      <th>3009307</th>\n",
       "      <td>26</td>\n",
       "      <td>三義</td>\n",
       "      <td>苗栗縣</td>\n",
       "      <td>19.0</td>\n",
       "      <td>None</td>\n",
       "      <td>良好</td>\n",
       "      <td>1.6</td>\n",
       "      <td>0.23</td>\n",
       "      <td>43.0</td>\n",
       "      <td>22.0</td>\n",
       "      <td>...</td>\n",
       "      <td>46.0</td>\n",
       "      <td>2016-11-25 13:00:00.000000</td>\n",
       "      <td>None</td>\n",
       "      <td>0.23</td>\n",
       "      <td>2.0</td>\n",
       "      <td>15</td>\n",
       "      <td>None</td>\n",
       "      <td>NaN</td>\n",
       "      <td>NaN</td>\n",
       "      <td>NaN</td>\n",
       "    </tr>\n",
       "    <tr>\n",
       "      <th>3009410</th>\n",
       "      <td>129</td>\n",
       "      <td>三義</td>\n",
       "      <td>苗栗縣</td>\n",
       "      <td>24.0</td>\n",
       "      <td>None</td>\n",
       "      <td>良好</td>\n",
       "      <td>1.5</td>\n",
       "      <td>0.26</td>\n",
       "      <td>57.0</td>\n",
       "      <td>28.0</td>\n",
       "      <td>...</td>\n",
       "      <td>35.0</td>\n",
       "      <td>2016-11-25 14:00:00.000000</td>\n",
       "      <td>None</td>\n",
       "      <td>0.23</td>\n",
       "      <td>2.0</td>\n",
       "      <td>15</td>\n",
       "      <td>None</td>\n",
       "      <td>NaN</td>\n",
       "      <td>NaN</td>\n",
       "      <td>NaN</td>\n",
       "    </tr>\n",
       "    <tr>\n",
       "      <th>3009551</th>\n",
       "      <td>270</td>\n",
       "      <td>三義</td>\n",
       "      <td>苗栗縣</td>\n",
       "      <td>30.0</td>\n",
       "      <td>None</td>\n",
       "      <td>良好</td>\n",
       "      <td>1.7</td>\n",
       "      <td>0.29</td>\n",
       "      <td>66.0</td>\n",
       "      <td>35.0</td>\n",
       "      <td>...</td>\n",
       "      <td>55.0</td>\n",
       "      <td>2016-11-25 15:00:00.000000</td>\n",
       "      <td>None</td>\n",
       "      <td>0.24</td>\n",
       "      <td>3.0</td>\n",
       "      <td>16</td>\n",
       "      <td>None</td>\n",
       "      <td>NaN</td>\n",
       "      <td>NaN</td>\n",
       "      <td>NaN</td>\n",
       "    </tr>\n",
       "    <tr>\n",
       "      <th>3009626</th>\n",
       "      <td>345</td>\n",
       "      <td>三義</td>\n",
       "      <td>苗栗縣</td>\n",
       "      <td>34.0</td>\n",
       "      <td>None</td>\n",
       "      <td>良好</td>\n",
       "      <td>2.0</td>\n",
       "      <td>0.31</td>\n",
       "      <td>46.0</td>\n",
       "      <td>40.0</td>\n",
       "      <td>...</td>\n",
       "      <td>32.0</td>\n",
       "      <td>2016-11-25 16:00:00.000000</td>\n",
       "      <td>None</td>\n",
       "      <td>0.25</td>\n",
       "      <td>3.0</td>\n",
       "      <td>17</td>\n",
       "      <td>None</td>\n",
       "      <td>NaN</td>\n",
       "      <td>NaN</td>\n",
       "      <td>NaN</td>\n",
       "    </tr>\n",
       "    <tr>\n",
       "      <th>3009772</th>\n",
       "      <td>491</td>\n",
       "      <td>三義</td>\n",
       "      <td>苗栗縣</td>\n",
       "      <td>36.0</td>\n",
       "      <td>None</td>\n",
       "      <td>良好</td>\n",
       "      <td>2.0</td>\n",
       "      <td>0.34</td>\n",
       "      <td>40.0</td>\n",
       "      <td>42.0</td>\n",
       "      <td>...</td>\n",
       "      <td>71.0</td>\n",
       "      <td>2016-11-25 17:00:00.000000</td>\n",
       "      <td>None</td>\n",
       "      <td>0.26</td>\n",
       "      <td>4.0</td>\n",
       "      <td>18</td>\n",
       "      <td>None</td>\n",
       "      <td>NaN</td>\n",
       "      <td>NaN</td>\n",
       "      <td>NaN</td>\n",
       "    </tr>\n",
       "  </tbody>\n",
       "</table>\n",
       "<p>5 rows × 26 columns</p>\n",
       "</div>"
      ],
      "text/plain": [
       "         index SiteName County   AQI Pollutant Status  SO2    CO    O3 O3_8hr  \\\n",
       "3009307     26       三義    苗栗縣  19.0      None     良好  1.6  0.23  43.0   22.0   \n",
       "3009410    129       三義    苗栗縣  24.0      None     良好  1.5  0.26  57.0   28.0   \n",
       "3009551    270       三義    苗栗縣  30.0      None     良好  1.7  0.29  66.0   35.0   \n",
       "3009626    345       三義    苗栗縣  34.0      None     良好  2.0  0.31  46.0   40.0   \n",
       "3009772    491       三義    苗栗縣  36.0      None     良好  2.0  0.34  40.0   42.0   \n",
       "\n",
       "         ... WindDirec            DataCreationDate  Unit CO_8hr PM2.5_AVG  \\\n",
       "3009307  ...      46.0  2016-11-25 13:00:00.000000  None   0.23       2.0   \n",
       "3009410  ...      35.0  2016-11-25 14:00:00.000000  None   0.23       2.0   \n",
       "3009551  ...      55.0  2016-11-25 15:00:00.000000  None   0.24       3.0   \n",
       "3009626  ...      32.0  2016-11-25 16:00:00.000000  None   0.25       3.0   \n",
       "3009772  ...      71.0  2016-11-25 17:00:00.000000  None   0.26       4.0   \n",
       "\n",
       "        PM10_AVG SO2_AVG Longitude Latitude SiteId  \n",
       "3009307       15    None       NaN      NaN    NaN  \n",
       "3009410       15    None       NaN      NaN    NaN  \n",
       "3009551       16    None       NaN      NaN    NaN  \n",
       "3009626       17    None       NaN      NaN    NaN  \n",
       "3009772       18    None       NaN      NaN    NaN  \n",
       "\n",
       "[5 rows x 26 columns]"
      ]
     },
     "execution_count": 22,
     "metadata": {},
     "output_type": "execute_result"
    }
   ],
   "source": [
    "select_item = [\"PM2.5\"]\n",
    "# 排序\n",
    "df.sort_values(by=[\"SiteName\", \"DataCreationDate\"], ascending=[1,1], inplace=True)\n",
    "df.head()"
   ]
  },
  {
   "cell_type": "code",
   "execution_count": 23,
   "metadata": {},
   "outputs": [],
   "source": [
    "# 3小時移動平均(X)，可容忍3缺1筆\n",
    "for col in select_item:\n",
    "    col_name = col+\"_MA3\"\n",
    "    df.loc[:, col_name] = df.sort_values(by=[\"SiteName\", \"DataCreationDate\"], ascending=[1,1]).groupby(\n",
    "                                'SiteName')[col].rolling(\n",
    "                                window=3,min_periods=2).mean().reset_index().set_index(\"level_1\")[col].apply(\n",
    "                                lambda m: int(m) if pd.notna(m) else np.nan )"
   ]
  },
  {
   "cell_type": "code",
   "execution_count": 24,
   "metadata": {},
   "outputs": [],
   "source": [
    "# 24小時移動平均(y)，可容忍24缺12筆\n",
    "for col in select_item:\n",
    "    col_name = col+\"_MA24\"\n",
    "    \n",
    "    df.loc[:, col_name] = df.sort_values(by=[\"SiteName\", \"DataCreationDate\"], ascending=[1,1]).groupby(\n",
    "                                'SiteName')[col].rolling(\n",
    "                                window=24,min_periods=12).mean().reset_index().set_index(\"level_1\")[col].apply(\n",
    "                                lambda m: int(m) if pd.notna(m) else np.nan )"
   ]
  },
  {
   "cell_type": "code",
   "execution_count": 9,
   "metadata": {},
   "outputs": [],
   "source": [
    "# 日平均值\n",
    "df_PM25_DateAvg = df.loc[:, [\"SiteName\",\"date\", \"PM2.5\"]].groupby([\"SiteName\",\"date\"], as_index=False).mean()\n",
    "df_PM25_DateAvg.rename(columns={\"PM2.5\":\"PM2.5_DateAvg\"}, inplace=True)\n",
    "df_PM25_DateAvg.loc[:,\"PM2.5_DateAvg\"]=df_PM25_DateAvg.loc[:,\"PM2.5_DateAvg\"].apply(\n",
    "                                    lambda m: int(m) if pd.notna(m) else np.nan )\n",
    "df = df.merge(df_PM25_DateAvg, how=\"left\", on=['SiteName', \"date\"])"
   ]
  },
  {
   "cell_type": "code",
   "execution_count": 26,
   "metadata": {},
   "outputs": [],
   "source": [
    "# (option)\n",
    "\n",
    "## 0~6點平均值\n",
    "# mask_0to6 = df.loc[:,\"DataCreationDate\"].dt.hour <=6\n",
    "# df_PM25_DateAvg_0to6 = df.loc[mask_0to6, [\"SiteName\",\"date\", \"PM2.5\"]].groupby([\"SiteName\",\"date\"], as_index=False).mean()\n",
    "# df_PM25_DateAvg_0to6.rename(columns={\"PM2.5\":\"PM2.5_DateAvg_0to6\"}, inplace=True)\n",
    "# df_PM25_DateAvg_0to6.loc[:,\"PM2.5_DateAvg_0to6\"]=df_PM25_DateAvg_0to6.loc[:,\"PM2.5_DateAvg_0to6\"].apply(\n",
    "#                                     lambda m: int(m) if pd.notna(m) else np.nan )\n",
    "# df = df.merge(df_PM25_DateAvg_0to6, how=\"left\", on=['SiteName', \"date\"])\n",
    "\n",
    "# # 0~11點平均值\n",
    "# mask_0to11 = df.loc[:,\"DataCreationDate\"].dt.hour <=11\n",
    "# df_PM25_DateAvg_0to11 = df.loc[mask_0to11, [\"SiteName\",\"date\", \"PM2.5\"]].groupby([\"SiteName\",\"date\"], as_index=False).mean()\n",
    "# df_PM25_DateAvg_0to11.rename(columns={\"PM2.5\":\"PM2.5_DateAvg_0to11\"}, inplace=True)\n",
    "# df_PM25_DateAvg_0to11.loc[:,\"PM2.5_DateAvg_0to11\"]=df_PM25_DateAvg_0to11.loc[:,\"PM2.5_DateAvg_0to11\"].apply(\n",
    "#                                     lambda m: int(m) if pd.notna(m) else np.nan )\n",
    "# df = df.merge(df_PM25_DateAvg_0to11, how=\"left\", on=['SiteName', \"date\"])\n",
    "\n",
    "# # 每日小時值最大值\n",
    "# df_PM25_daliy_max = df.loc[:, [\"SiteName\",\"date\", \"PM2.5\"]].groupby([\"SiteName\",\"date\"], as_index=False).max()\n",
    "# df_PM25_daliy_max.rename(columns={\"PM2.5\":\"PM2.5_max\"}, inplace=True)\n",
    "# df_PM25_daliy_max.loc[:,\"PM2.5_max\"]=df_PM25_daliy_max.loc[:,\"PM2.5_max\"].apply(\n",
    "#                                     lambda m: int(m) if pd.notna(m) else np.nan )\n",
    "# df = df.merge(df_PM25_daliy_max, how=\"left\", on=['SiteName', \"date\"])\n",
    "\n",
    "\n",
    "# # 4+12每日最大值\n",
    "# df_PM25_avg_max = df.loc[:, [\"SiteName\",\"date\", \"PM2.5_AVG\"]].groupby([\"SiteName\",\"date\"], as_index=False).max()\n",
    "# df_PM25_avg_max.rename(columns={\"PM2.5_AVG\":\"PM2.5_AVG_max\"}, inplace=True)\n",
    "# df_PM25_avg_max.loc[:,\"PM2.5_AVG_max\"]=df_PM25_avg_max.loc[:,\"PM2.5_AVG_max\"].apply(\n",
    "#                                     lambda m: int(m) if pd.notna(m) else np.nan )\n",
    "# df = df.merge(df_PM25_avg_max, how=\"left\", on=['SiteName', \"date\"])\n",
    "\n",
    "# # MA3每日最大值\n",
    "# df_PM25_MA3_max = df.loc[:, [\"SiteName\",\"date\", \"PM2.5_MA3\"]].groupby([\"SiteName\",\"date\"], as_index=False).max()\n",
    "# df_PM25_MA3_max.rename(columns={\"PM2.5_MA3\":\"PM2.5_MA3_max\"}, inplace=True)\n",
    "# df_PM25_MA3_max.loc[:,\"PM2.5_MA3_max\"]=df_PM25_MA3_max.loc[:,\"PM2.5_MA3_max\"].apply(\n",
    "#                                     lambda m: int(m) if pd.notna(m) else np.nan )\n",
    "# df = df.merge(df_PM25_MA3_max, how=\"left\", on=['SiteName', \"date\"])\n",
    "\n",
    "# # MA24每日最大值\n",
    "# df_PM25_MA24_max = df.loc[:, [\"SiteName\",\"date\", \"PM2.5_MA24\"]].groupby([\"SiteName\",\"date\"], as_index=False).max()\n",
    "# df_PM25_MA24_max.rename(columns={\"PM2.5_MA24\":\"PM2.5_MA24_max\"}, inplace=True)\n",
    "# df_PM25_MA24_max.loc[:,\"PM2.5_MA24\"]=df_PM25_MA24_max.loc[:,\"PM2.5_MA24_max\"].apply(\n",
    "#                                     lambda m: int(m) if pd.notna(m) else np.nan )\n",
    "# df = df.merge(df_PM25_MA24_max, how=\"left\", on=['SiteName', \"date\"])"
   ]
  },
  {
   "cell_type": "code",
   "execution_count": 27,
   "metadata": {},
   "outputs": [
    {
     "data": {
      "text/plain": [
       "Index(['index', 'SiteName', 'County', 'AQI', 'Pollutant', 'Status', 'SO2',\n",
       "       'CO', 'O3', 'O3_8hr', 'PM10', 'PM2.5', 'NO2', 'NOx', 'NO', 'WindSpeed',\n",
       "       'WindDirec', 'DataCreationDate', 'Unit', 'CO_8hr', 'PM2.5_AVG',\n",
       "       'PM10_AVG', 'SO2_AVG', 'Longitude', 'Latitude', 'SiteId', 'PM2.5_MA3',\n",
       "       'PM2.5_MA24', 'date', 'PM2.5_DateAvg'],\n",
       "      dtype='object')"
      ]
     },
     "execution_count": 27,
     "metadata": {},
     "output_type": "execute_result"
    }
   ],
   "source": [
    "df.columns"
   ]
  },
  {
   "cell_type": "code",
   "execution_count": 28,
   "metadata": {},
   "outputs": [],
   "source": [
    "# df.drop(columns=[\"PM2.5_DateAvg_0to6_x\",\"PM2.5_DateAvg_0to11_x\"], inplace=True)\n",
    "# df.rename(columns={\"PM2.5_DateAvg_0to6_y\":\"PM2.5_DateAvg_0to6\",\"PM2.5_DateAvg_0to11_y\":\"PM2.5_DateAvg_0to11\"}, inplace=True)"
   ]
  },
  {
   "cell_type": "code",
   "execution_count": 30,
   "metadata": {},
   "outputs": [],
   "source": [
    "# # 相關係數圖 1\n",
    "# df_for_plot = df[[\"PM2.5\",\"PM2.5_DateAvg_0to6\",\"PM2.5_DateAvg_0to11\", \"PM2.5_MA3\", \"PM2.5_AVG\",\"PM2.5_MA24\", \"PM2.5_DateAvg\"]].copy(deep=True)\n",
    "# df_for_plot.rename(columns={\"PM2.5_AVG\":\"PM2.5_4+12\"}, inplace=True)\n",
    "# corr = df_for_plot.corr()\n",
    "# corr.style.background_gradient(cmap='coolwarm')"
   ]
  },
  {
   "cell_type": "code",
   "execution_count": 31,
   "metadata": {},
   "outputs": [],
   "source": [
    "# # 相關係數圖 2\n",
    "# df_for_plot_2 = df[[\"PM2.5_max\", \"PM2.5_MA3_max\", \"PM2.5_AVG_max\",\"PM2.5_MA24_max\", \"PM2.5_DateAvg\"]].copy(deep=True)\n",
    "# df_for_plot_2.rename(columns={\"PM2.5_AVG_max\":\"PM2.5_4+12_max\"}, inplace=True)\n",
    "# corr = df_for_plot_2.corr()\n",
    "# corr.style.background_gradient(cmap='coolwarm')"
   ]
  },
  {
   "cell_type": "code",
   "execution_count": 34,
   "metadata": {},
   "outputs": [],
   "source": [
    "# df[[\"PM2.5\", \"PM2.5_AVG\", \"PM2.5_MA3\", \"PM2.5_MA24\", \"PM2.5_DateAvg\"]].tail()"
   ]
  },
  {
   "cell_type": "code",
   "execution_count": 15,
   "metadata": {},
   "outputs": [
    {
     "name": "stdout",
     "output_type": "stream",
     "text": [
      "<class 'pandas.core.frame.DataFrame'>\n",
      "RangeIndex: 3522511 entries, 0 to 3522510\n",
      "Data columns (total 27 columns):\n",
      " #   Column            Dtype         \n",
      "---  ------            -----         \n",
      " 0   index             int64         \n",
      " 1   SiteName          object        \n",
      " 2   County            object        \n",
      " 3   AQI               float64       \n",
      " 4   Pollutant         object        \n",
      " 5   Status            object        \n",
      " 6   SO2               object        \n",
      " 7   CO                float64       \n",
      " 8   O3                float64       \n",
      " 9   O3_8hr            float64       \n",
      " 10  PM10              object        \n",
      " 11  PM2.5             object        \n",
      " 12  NO2               object        \n",
      " 13  NOx               float64       \n",
      " 14  NO                object        \n",
      " 15  WindSpeed         object        \n",
      " 16  WindDirec         object        \n",
      " 17  DataCreationDate  datetime64[ns]\n",
      " 18  Unit              object        \n",
      " 19  CO_8hr            float64       \n",
      " 20  PM2.5_AVG         object        \n",
      " 21  PM10_AVG          object        \n",
      " 22  SO2_AVG           object        \n",
      " 23  Longitude         float64       \n",
      " 24  Latitude          float64       \n",
      " 25  SiteId            float64       \n",
      " 26  date              object        \n",
      "dtypes: datetime64[ns](1), float64(9), int64(1), object(16)\n",
      "memory usage: 725.6+ MB\n"
     ]
    }
   ],
   "source": [
    "df.info()"
   ]
  },
  {
   "cell_type": "code",
   "execution_count": 36,
   "metadata": {},
   "outputs": [
    {
     "name": "stdout",
     "output_type": "stream",
     "text": [
      "2021-05-29 \n",
      " 2016-11-25\n"
     ]
    }
   ],
   "source": [
    "print(df.date.max(), \"\\n\", df.date.min())"
   ]
  },
  {
   "cell_type": "code",
   "execution_count": 10,
   "metadata": {},
   "outputs": [
    {
     "data": {
      "text/html": [
       "<div>\n",
       "<style scoped>\n",
       "    .dataframe tbody tr th:only-of-type {\n",
       "        vertical-align: middle;\n",
       "    }\n",
       "\n",
       "    .dataframe tbody tr th {\n",
       "        vertical-align: top;\n",
       "    }\n",
       "\n",
       "    .dataframe thead th {\n",
       "        text-align: right;\n",
       "    }\n",
       "</style>\n",
       "<table border=\"1\" class=\"dataframe\">\n",
       "  <thead>\n",
       "    <tr style=\"text-align: right;\">\n",
       "      <th></th>\n",
       "      <th>index</th>\n",
       "      <th>SiteName</th>\n",
       "      <th>County</th>\n",
       "      <th>AQI</th>\n",
       "      <th>Pollutant</th>\n",
       "      <th>Status</th>\n",
       "      <th>SO2</th>\n",
       "      <th>CO</th>\n",
       "      <th>O3</th>\n",
       "      <th>O3_8hr</th>\n",
       "      <th>...</th>\n",
       "      <th>DataCreationDate</th>\n",
       "      <th>Unit</th>\n",
       "      <th>CO_8hr</th>\n",
       "      <th>PM2.5_AVG</th>\n",
       "      <th>PM10_AVG</th>\n",
       "      <th>SO2_AVG</th>\n",
       "      <th>Longitude</th>\n",
       "      <th>Latitude</th>\n",
       "      <th>SiteId</th>\n",
       "      <th>date</th>\n",
       "    </tr>\n",
       "  </thead>\n",
       "  <tbody>\n",
       "    <tr>\n",
       "      <th>0</th>\n",
       "      <td>0</td>\n",
       "      <td>基隆</td>\n",
       "      <td>基隆市</td>\n",
       "      <td>38.0</td>\n",
       "      <td>None</td>\n",
       "      <td>良好</td>\n",
       "      <td>1.7</td>\n",
       "      <td>0.0</td>\n",
       "      <td>34.0</td>\n",
       "      <td>34.0</td>\n",
       "      <td>...</td>\n",
       "      <td>2021-01-01 04:00:00</td>\n",
       "      <td>None</td>\n",
       "      <td>0.2</td>\n",
       "      <td>12.0</td>\n",
       "      <td>26</td>\n",
       "      <td>2.0</td>\n",
       "      <td>121.760056</td>\n",
       "      <td>25.129167</td>\n",
       "      <td>1.0</td>\n",
       "      <td>2021-01-01</td>\n",
       "    </tr>\n",
       "    <tr>\n",
       "      <th>1</th>\n",
       "      <td>1</td>\n",
       "      <td>汐止</td>\n",
       "      <td>新北市</td>\n",
       "      <td>50.0</td>\n",
       "      <td>None</td>\n",
       "      <td>良好</td>\n",
       "      <td>0.5</td>\n",
       "      <td>0.0</td>\n",
       "      <td>23.0</td>\n",
       "      <td>25.0</td>\n",
       "      <td>...</td>\n",
       "      <td>2021-01-01 04:00:00</td>\n",
       "      <td>None</td>\n",
       "      <td>0.3</td>\n",
       "      <td>15.0</td>\n",
       "      <td>25</td>\n",
       "      <td>1.0</td>\n",
       "      <td>121.642300</td>\n",
       "      <td>25.067131</td>\n",
       "      <td>2.0</td>\n",
       "      <td>2021-01-01</td>\n",
       "    </tr>\n",
       "    <tr>\n",
       "      <th>2</th>\n",
       "      <td>2</td>\n",
       "      <td>萬里</td>\n",
       "      <td>新北市</td>\n",
       "      <td>56.0</td>\n",
       "      <td>懸浮微粒</td>\n",
       "      <td>普通</td>\n",
       "      <td>1.2</td>\n",
       "      <td>0.0</td>\n",
       "      <td>NaN</td>\n",
       "      <td>NaN</td>\n",
       "      <td>...</td>\n",
       "      <td>2021-01-01 04:00:00</td>\n",
       "      <td>None</td>\n",
       "      <td>0.2</td>\n",
       "      <td>16.0</td>\n",
       "      <td>62</td>\n",
       "      <td>3.0</td>\n",
       "      <td>121.689881</td>\n",
       "      <td>25.179667</td>\n",
       "      <td>3.0</td>\n",
       "      <td>2021-01-01</td>\n",
       "    </tr>\n",
       "    <tr>\n",
       "      <th>3</th>\n",
       "      <td>3</td>\n",
       "      <td>新店</td>\n",
       "      <td>新北市</td>\n",
       "      <td>42.0</td>\n",
       "      <td>None</td>\n",
       "      <td>良好</td>\n",
       "      <td>1.6</td>\n",
       "      <td>0.0</td>\n",
       "      <td>29.0</td>\n",
       "      <td>24.0</td>\n",
       "      <td>...</td>\n",
       "      <td>2021-01-01 04:00:00</td>\n",
       "      <td>None</td>\n",
       "      <td>0.3</td>\n",
       "      <td>13.0</td>\n",
       "      <td>23</td>\n",
       "      <td>2.0</td>\n",
       "      <td>121.537778</td>\n",
       "      <td>24.977222</td>\n",
       "      <td>4.0</td>\n",
       "      <td>2021-01-01</td>\n",
       "    </tr>\n",
       "    <tr>\n",
       "      <th>4</th>\n",
       "      <td>4</td>\n",
       "      <td>土城</td>\n",
       "      <td>新北市</td>\n",
       "      <td>46.0</td>\n",
       "      <td>None</td>\n",
       "      <td>良好</td>\n",
       "      <td>1.1</td>\n",
       "      <td>0.0</td>\n",
       "      <td>28.0</td>\n",
       "      <td>25.0</td>\n",
       "      <td>...</td>\n",
       "      <td>2021-01-01 04:00:00</td>\n",
       "      <td>None</td>\n",
       "      <td>0.3</td>\n",
       "      <td>14.0</td>\n",
       "      <td>24</td>\n",
       "      <td>2.0</td>\n",
       "      <td>121.451861</td>\n",
       "      <td>24.982528</td>\n",
       "      <td>5.0</td>\n",
       "      <td>2021-01-01</td>\n",
       "    </tr>\n",
       "  </tbody>\n",
       "</table>\n",
       "<p>5 rows × 27 columns</p>\n",
       "</div>"
      ],
      "text/plain": [
       "   index SiteName County   AQI Pollutant Status  SO2   CO    O3  O3_8hr  ...  \\\n",
       "0      0       基隆    基隆市  38.0      None     良好  1.7  0.0  34.0    34.0  ...   \n",
       "1      1       汐止    新北市  50.0      None     良好  0.5  0.0  23.0    25.0  ...   \n",
       "2      2       萬里    新北市  56.0      懸浮微粒     普通  1.2  0.0   NaN     NaN  ...   \n",
       "3      3       新店    新北市  42.0      None     良好  1.6  0.0  29.0    24.0  ...   \n",
       "4      4       土城    新北市  46.0      None     良好  1.1  0.0  28.0    25.0  ...   \n",
       "\n",
       "     DataCreationDate  Unit CO_8hr  PM2.5_AVG PM10_AVG SO2_AVG   Longitude  \\\n",
       "0 2021-01-01 04:00:00  None    0.2       12.0       26     2.0  121.760056   \n",
       "1 2021-01-01 04:00:00  None    0.3       15.0       25     1.0  121.642300   \n",
       "2 2021-01-01 04:00:00  None    0.2       16.0       62     3.0  121.689881   \n",
       "3 2021-01-01 04:00:00  None    0.3       13.0       23     2.0  121.537778   \n",
       "4 2021-01-01 04:00:00  None    0.3       14.0       24     2.0  121.451861   \n",
       "\n",
       "    Latitude SiteId        date  \n",
       "0  25.129167    1.0  2021-01-01  \n",
       "1  25.067131    2.0  2021-01-01  \n",
       "2  25.179667    3.0  2021-01-01  \n",
       "3  24.977222    4.0  2021-01-01  \n",
       "4  24.982528    5.0  2021-01-01  \n",
       "\n",
       "[5 rows x 27 columns]"
      ]
     },
     "execution_count": 10,
     "metadata": {},
     "output_type": "execute_result"
    }
   ],
   "source": [
    "df.head()"
   ]
  },
  {
   "cell_type": "code",
   "execution_count": 8,
   "metadata": {},
   "outputs": [
    {
     "name": "stdout",
     "output_type": "stream",
     "text": [
      " ==輸出備份pkl== ::: AQI_rowdata_20210705_11.21.18.pkl\n"
     ]
    }
   ],
   "source": [
    "# 保存\n",
    "formtoPkl(df, 'AQI_rowdata')\n",
    "\n",
    "# 讀取\n",
    "# raw_path = r'G:\\我的雲端硬碟\\python\\output\\0209\\AQI_rowdata_20210209_14.02.56.pkl'\n",
    "# df = read_data_dir_fPathExt(raw_path)"
   ]
  },
  {
   "cell_type": "markdown",
   "metadata": {},
   "source": [
    "# 3.資料處理(AQI不用)"
   ]
  },
  {
   "cell_type": "markdown",
   "metadata": {},
   "source": [
    "#### 照日期排序、刪除重複"
   ]
  },
  {
   "cell_type": "code",
   "execution_count": 9,
   "metadata": {},
   "outputs": [],
   "source": [
    "date_col = \"DataCreationDate\"\n",
    "# 'MonitorDate'\n",
    "df.sort_values(by=['SiteName',date_col], inplace=True)\n",
    "df.drop_duplicates(keep=\"first\", inplace=True)\n",
    "df.reset_index(drop=True, inplace=True)\n",
    "# df.tail()"
   ]
  },
  {
   "cell_type": "markdown",
   "metadata": {},
   "source": [
    "#### 篩選需要的欄位"
   ]
  },
  {
   "cell_type": "code",
   "execution_count": 12,
   "metadata": {},
   "outputs": [],
   "source": [
    "df_pic = df.loc[:,['SiteName', 'MonitorDate', 'MonitorValue']].copy(deep=True)\n",
    "df_pic.rename(columns={'MonitorValue':select_item}, inplace=True)\n",
    "# df_pic.head()"
   ]
  },
  {
   "cell_type": "markdown",
   "metadata": {},
   "source": [
    "#### (累積) 清理數值"
   ]
  },
  {
   "cell_type": "code",
   "execution_count": 105,
   "metadata": {},
   "outputs": [],
   "source": [
    "bad_lst = ['x']\n",
    "df_pic.loc[:,select_item] = df_pic.loc[:,select_item].apply(lambda v: np.nan if v in bad_lst else float(v) )"
   ]
  },
  {
   "cell_type": "markdown",
   "metadata": {},
   "source": [
    "#### (個別處理) 製作平均值指標"
   ]
  },
  {
   "cell_type": "markdown",
   "metadata": {},
   "source": [
    "1. O3_8hr = O3前8小時移動平均值 (不含當下小時值)\n",
    "2. PM25_avg = 0.5 × 前 12 小時平均 + 0.5 × 前 4 小時平均 (不含當下小時值)"
   ]
  },
  {
   "cell_type": "markdown",
   "metadata": {},
   "source": [
    "#### (遺漏值補植)新增欄位 針對小時值遺漏值進行線性差補(最多連續5個nan) ex: 1,nan,nan,7 >> 1,3,5,7"
   ]
  },
  {
   "cell_type": "code",
   "execution_count": 106,
   "metadata": {},
   "outputs": [],
   "source": [
    "times = pd.date_range(start=df_pic.MonitorDate.min(), end=df_pic.MonitorDate.max(), freq='H')\n",
    "df_times = pd.DataFrame(times, columns=['MonitorDate'])\n",
    "\n",
    "if select_item=='O3':\n",
    "\n",
    "    df_O3_8hr = pd.DataFrame()\n",
    "    for s in df_pic['SiteName'].unique():\n",
    "    # for s in ['三義']:\n",
    "    #     填補缺漏的日期紀錄\n",
    "        df_tmp = df_pic.loc[df_pic['SiteName'].isin([s]),['MonitorDate', 'O3']].copy(deep=True)\n",
    "        df_tmp = df_times.merge(df_tmp, how='left', on='MonitorDate').set_index('MonitorDate')\n",
    "\n",
    "    # #     非數值轉換為np.nan\n",
    "        df_tmp.loc[:,'O3'] = df_tmp.loc[:,'O3'].apply(lambda v: v if isinstance(v, (int,float)) else np.nan)\n",
    "        \n",
    "#         (遺漏值補植)針對小時值遺漏值進行線性差補 ex: 1,nan,nan,7 >> 1,3,5,7\n",
    "        df_tmp['O3_interp']  = df_tmp['O3'].interpolate(limit=5)\n",
    "        \n",
    "    # #     取前8hr平均，不包含自己(shift 1 格)\n",
    "        df_tmp = df_tmp.shift(1).rolling(8).mean() \n",
    "        df_tmp['SiteName'] = s\n",
    "        df_tmp.reset_index(inplace=True)\n",
    "        df_O3_8hr = pd.concat([df_O3_8hr,df_tmp])\n",
    "\n",
    "    df_O3_8hr.rename(columns={'O3':'O3_8hr', 'O3_interp':'O3_interp_8hr'}, inplace=True)\n",
    "    \n",
    "    \n",
    "if select_item=='PM2.5':\n",
    " \n",
    "    df_PM25_avg = pd.DataFrame()\n",
    "    for s in df_pic['SiteName'].unique():\n",
    "    # for s in ['三義']:\n",
    "    #     填補缺漏的日期紀錄\n",
    "        df_tmp = df_pic.loc[df_pic['SiteName'].isin([s]),['MonitorDate', 'PM2.5']].copy(deep=True)\n",
    "        df_tmp = df_times.merge(df_tmp, how='left', on='MonitorDate').set_index('MonitorDate')\n",
    "\n",
    "    # #     非數值轉換為np.nan\n",
    "        df_tmp.loc[:,'PM2.5'] = df_tmp.loc[:,'PM2.5'].apply(lambda v: v if isinstance(v, (int,float)) else np.nan)\n",
    "        \n",
    "#         (遺漏值補植)針對小時值遺漏值進行線性差補 ex: 1,nan,nan,7 >> 1,3,5,7\n",
    "        df_tmp['PM2.5_interp']  = df_tmp['PM2.5'].interpolate(limit=5)\n",
    "    \n",
    "#     取前12hr平均、前4hr平均，各佔50%，不包含自己(shift 1 格)\n",
    "        df_tmp_12hr = df_tmp.shift(1).rolling(12).mean()\n",
    "        df_tmp_4hr = df_tmp.shift(1).rolling(4).mean()\n",
    "        df_tmp_all = (df_tmp_12hr*0.5) +  (df_tmp_4hr*0.5)\n",
    "        df_tmp_all['SiteName'] = s\n",
    "        df_tmp_all.reset_index(inplace=True)\n",
    "        df_PM25_avg = pd.concat([df_PM25_avg, df_tmp_all])\n",
    "\n",
    "    df_PM25_avg.rename(columns={'PM2.5':'PM2.5_avg', 'PM2.5_interp':'PM2.5_interp_avg'}, inplace=True)"
   ]
  },
  {
   "cell_type": "code",
   "execution_count": 107,
   "metadata": {},
   "outputs": [],
   "source": [
    "# (遺漏值補植) 補回 小時值本身的插植結果 (最多連續5個nan)\n",
    "if select_item=='O3':\n",
    "    df_pic['O3_interp']  = df_pic['O3'].interpolate(limit=5)\n",
    "if select_item=='PM2.5':\n",
    "    df_pic['PM2.5_interp']  = df_pic['PM2.5'].interpolate()"
   ]
  },
  {
   "cell_type": "code",
   "execution_count": 108,
   "metadata": {},
   "outputs": [],
   "source": [
    "key_cols = ['SiteName', 'MonitorDate']\n",
    "#統一時間長度\n",
    "if select_item=='O3':\n",
    "    df_pic = df_O3_8hr[key_cols].merge(df_pic, how='left',on=key_cols)\n",
    "    df_result = df_pic.merge(df_O3_8hr, how='left', on=key_cols)\n",
    "    \n",
    "if select_item=='PM2.5':\n",
    "    df_pic = df_PM25_avg[key_cols].merge(df_pic, how='left',on=key_cols)\n",
    "    df_result = df_pic.merge(df_PM25_avg, how='left', on=key_cols)"
   ]
  },
  {
   "cell_type": "code",
   "execution_count": 109,
   "metadata": {},
   "outputs": [
    {
     "data": {
      "text/html": [
       "<div>\n",
       "<style scoped>\n",
       "    .dataframe tbody tr th:only-of-type {\n",
       "        vertical-align: middle;\n",
       "    }\n",
       "\n",
       "    .dataframe tbody tr th {\n",
       "        vertical-align: top;\n",
       "    }\n",
       "\n",
       "    .dataframe thead th {\n",
       "        text-align: right;\n",
       "    }\n",
       "</style>\n",
       "<table border=\"1\" class=\"dataframe\">\n",
       "  <thead>\n",
       "    <tr style=\"text-align: right;\">\n",
       "      <th></th>\n",
       "      <th>SiteName</th>\n",
       "      <th>MonitorDate</th>\n",
       "      <th>PM2.5</th>\n",
       "      <th>PM2.5_interp</th>\n",
       "      <th>PM2.5_avg</th>\n",
       "      <th>PM2.5_interp_avg</th>\n",
       "    </tr>\n",
       "  </thead>\n",
       "  <tbody>\n",
       "    <tr>\n",
       "      <th>0</th>\n",
       "      <td>三義</td>\n",
       "      <td>2009-12-31 00:00:00</td>\n",
       "      <td>42.0</td>\n",
       "      <td>42.0</td>\n",
       "      <td>NaN</td>\n",
       "      <td>NaN</td>\n",
       "    </tr>\n",
       "    <tr>\n",
       "      <th>1</th>\n",
       "      <td>三義</td>\n",
       "      <td>2009-12-31 01:00:00</td>\n",
       "      <td>46.0</td>\n",
       "      <td>46.0</td>\n",
       "      <td>NaN</td>\n",
       "      <td>NaN</td>\n",
       "    </tr>\n",
       "    <tr>\n",
       "      <th>2</th>\n",
       "      <td>三義</td>\n",
       "      <td>2009-12-31 02:00:00</td>\n",
       "      <td>51.0</td>\n",
       "      <td>51.0</td>\n",
       "      <td>NaN</td>\n",
       "      <td>NaN</td>\n",
       "    </tr>\n",
       "    <tr>\n",
       "      <th>3</th>\n",
       "      <td>三義</td>\n",
       "      <td>2009-12-31 03:00:00</td>\n",
       "      <td>50.0</td>\n",
       "      <td>50.0</td>\n",
       "      <td>NaN</td>\n",
       "      <td>NaN</td>\n",
       "    </tr>\n",
       "    <tr>\n",
       "      <th>4</th>\n",
       "      <td>三義</td>\n",
       "      <td>2009-12-31 04:00:00</td>\n",
       "      <td>52.0</td>\n",
       "      <td>52.0</td>\n",
       "      <td>NaN</td>\n",
       "      <td>NaN</td>\n",
       "    </tr>\n",
       "  </tbody>\n",
       "</table>\n",
       "</div>"
      ],
      "text/plain": [
       "  SiteName         MonitorDate  PM2.5  PM2.5_interp  PM2.5_avg  \\\n",
       "0       三義 2009-12-31 00:00:00   42.0          42.0        NaN   \n",
       "1       三義 2009-12-31 01:00:00   46.0          46.0        NaN   \n",
       "2       三義 2009-12-31 02:00:00   51.0          51.0        NaN   \n",
       "3       三義 2009-12-31 03:00:00   50.0          50.0        NaN   \n",
       "4       三義 2009-12-31 04:00:00   52.0          52.0        NaN   \n",
       "\n",
       "   PM2.5_interp_avg  \n",
       "0               NaN  \n",
       "1               NaN  \n",
       "2               NaN  \n",
       "3               NaN  \n",
       "4               NaN  "
      ]
     },
     "execution_count": 109,
     "metadata": {},
     "output_type": "execute_result"
    }
   ],
   "source": [
    "df_result.head()"
   ]
  },
  {
   "cell_type": "code",
   "execution_count": 112,
   "metadata": {},
   "outputs": [
    {
     "data": {
      "text/plain": [
       "77"
      ]
     },
     "execution_count": 112,
     "metadata": {},
     "output_type": "execute_result"
    }
   ],
   "source": [
    "df_result['SiteName'].nunique()"
   ]
  },
  {
   "cell_type": "markdown",
   "metadata": {},
   "source": [
    "#### 存檔"
   ]
  },
  {
   "cell_type": "code",
   "execution_count": 75,
   "metadata": {},
   "outputs": [],
   "source": [
    "# mask = (df_result['SiteName'].isin(['三義'])) & (df_result['MonitorDate'].dt.date.isin([date(2020, 1, 15)]))\n",
    "# df_result[mask].sort_values(by=['MonitorDate'])"
   ]
  },
  {
   "cell_type": "code",
   "execution_count": 110,
   "metadata": {},
   "outputs": [
    {
     "name": "stdout",
     "output_type": "stream",
     "text": [
      " ==輸出備份csv==::: PM2.5小時值_2009-12-31to2021-01-31_20210204_16.36.14.csv\n"
     ]
    }
   ],
   "source": [
    "if select_item=='O3':\n",
    "    name = f\"O3小時值_{df_result['MonitorDate'].dt.date.min()}to{df_result['MonitorDate'].dt.date.max()}\"\n",
    "    formtoCsv(df_result, name)\n",
    "    \n",
    "if select_item=='PM2.5':\n",
    "    name = f\"PM2.5小時值_{df_result['MonitorDate'].dt.date.min()}to{df_result['MonitorDate'].dt.date.max()}\"\n",
    "    formtoCsv(df_result, name)"
   ]
  },
  {
   "cell_type": "code",
   "execution_count": null,
   "metadata": {},
   "outputs": [],
   "source": []
  }
 ],
 "metadata": {
  "kernelspec": {
   "display_name": "Python 3",
   "language": "python",
   "name": "python3"
  },
  "language_info": {
   "codemirror_mode": {
    "name": "ipython",
    "version": 3
   },
   "file_extension": ".py",
   "mimetype": "text/x-python",
   "name": "python",
   "nbconvert_exporter": "python",
   "pygments_lexer": "ipython3",
   "version": "3.8.3"
  }
 },
 "nbformat": 4,
 "nbformat_minor": 4
}
