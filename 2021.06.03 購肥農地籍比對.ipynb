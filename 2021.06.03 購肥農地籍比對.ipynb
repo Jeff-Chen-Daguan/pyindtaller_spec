{
 "cells": [
  {
   "cell_type": "markdown",
   "id": "753ca372",
   "metadata": {},
   "source": [
    "**2021.06.03 購肥農地籍比對**"
   ]
  },
  {
   "cell_type": "markdown",
   "id": "7d86f4e7",
   "metadata": {},
   "source": [
    "亭君的說明 on [clickup](https://sharing.clickup.com/t/h/91wy0e/OC7YPYEK2W9LLU4)\n",
    "- 要清理的資料：舊農識系統匯出的農民與農地資料(2021/5/13)\n",
    "- 比對資料來源 (農委會的地籍系統): 農委會地籍資料-僅農牧用地(版本:109Dec)\n",
    "    - 註1: [欄位名稱](https://drive.google.com/file/d/1n5fJwcaxgEXrAwjA0W9pMwqJltymLZbj/view)、[代碼對照表](https://docs.google.com/spreadsheets/d/1myjAgbzqQhul3BK5LmycNzQCR0BgDskg/edit#gid=1896828860)\n",
    "    - 註2: 登記面積是\"平方公尺\"，農識系統的面積都是\"公頃\" \n",
    "    - 單位換算: 1平方公尺=0.0001公頃\n",
    "- 比對的條件\n",
    "    - FullLandNo正確 且 舊系統的面積小於等於農委會的即可\n",
    "    - 若FullLandNo無法對應，則進一步比對縣市、鄉鎮、地段、地號 (篩出有問題的地籍)\n",
    "- 無法對應的FullLandNo可能有以下類型\n",
    "    1. 非農牧用地\n",
    "        - 處理方式：去農委會GIS地籍系統下載其他非農牧用地的地籍\n",
    "            - (問題1: 地籍系統被入侵目前關閉中)\n",
    "            - (問題2: 農委會不願意一次提供全部的地籍，需要分縣市或分條件下載)\n",
    "    2. 河川地\n",
    "        - 處理方式：因為農委會地籍系統中沒有河川地籍，要另外比對河川局提供的地籍清單 \n",
    "            - (問題1: 河川局沒有FullLandNo，農識系統中的FullLandNo是農識工程師自己編的 😞 )\n",
    "                - 可嘗試：6/3在農識系統找到原本的河川地地號(尚未被農識工程師污染的形式)，或許可嘗試比對 \n",
    "    3. 舊版的地籍資料\n",
    "        - 處理方式：不確定農委會是否有提供新舊版地籍比對功能？(先擱置)\n",
    "    4. 未知因素導致的地籍錯誤\n",
    "        - 處理方式：先看數量有多少，再跟農糧署承辦討論是否將這些不合格的資料全部捨棄(?)，或「將錯就錯」直接認列(?)"
   ]
  },
  {
   "cell_type": "code",
   "execution_count": 1,
   "id": "e1dd3e51",
   "metadata": {},
   "outputs": [],
   "source": [
    "import pandas as pd\n",
    "import numpy as np\n",
    "import re\n",
    "from polib.CsvEngn import *"
   ]
  },
  {
   "cell_type": "markdown",
   "id": "29f62f4c",
   "metadata": {},
   "source": [
    "# 資料匯入"
   ]
  },
  {
   "cell_type": "markdown",
   "id": "271d659d",
   "metadata": {},
   "source": [
    "## 舊農地購肥資料"
   ]
  },
  {
   "cell_type": "code",
   "execution_count": 17,
   "id": "c0eee55b",
   "metadata": {
    "collapsed": true,
    "jupyter": {
     "outputs_hidden": true,
     "source_hidden": true
    }
   },
   "outputs": [
    {
     "name": "stdout",
     "output_type": "stream",
     "text": [
      " >>> 建立今天的工作區: 0604\n",
      " ==輸出備份pkl== ::: old_農民農地資料_20210513_20210604_09.11.05.pkl\n"
     ]
    }
   ],
   "source": [
    "# old_path = r\"G:\\我的雲端硬碟\\work\\2021\\99.其他交辦\\7.農地籍比對\\農民農地資料_20210513(解鎖).xlsx\"\n",
    "# old_df = pd.read_excel(old_path, sheet_name=\"Rawdata\")\n",
    "\n",
    "# # 轉存 pkl\n",
    "# formtoPkl(old_df, \"old_農民農地資料_20210513\")"
   ]
  },
  {
   "cell_type": "code",
   "execution_count": 2,
   "id": "73947a92",
   "metadata": {},
   "outputs": [
    {
     "name": "stdout",
     "output_type": "stream",
     "text": [
      "  >> 讀取:: G:\\我的雲端硬碟\\python\\output\\0604\\old_農民農地資料_20210513_20210604_09.11.05.pkl\n",
      "<class 'pandas.core.frame.DataFrame'>\n",
      "RangeIndex: 802228 entries, 0 to 802227\n",
      "Data columns (total 18 columns):\n",
      " #   Column          Non-Null Count   Dtype  \n",
      "---  ------          --------------   -----  \n",
      " 0   欄位1             802225 non-null  float64\n",
      " 1   欄位2             802225 non-null  float64\n",
      " 2   欄位3             802225 non-null  float64\n",
      " 3   FarmerIDCardNo  802228 non-null  object \n",
      " 4   CountyName      802225 non-null  object \n",
      " 5   TownshipName    802225 non-null  object \n",
      " 6   TownshipCode    802222 non-null  float64\n",
      " 7   CountyCode      802225 non-null  object \n",
      " 8   Section         802225 non-null  object \n",
      " 9   Code            802225 non-null  object \n",
      " 10  LandNo          802225 non-null  object \n",
      " 11  RegArea         802225 non-null  object \n",
      " 12  FullLandNo      802225 non-null  object \n",
      " 13  CreateDate      802225 non-null  object \n",
      " 14  UpdateDate      802225 non-null  object \n",
      " 15  UserIP          779069 non-null  object \n",
      " 16  IsDel           802222 non-null  float64\n",
      " 17  CropTypeNm      802222 non-null  object \n",
      "dtypes: float64(5), object(13)\n",
      "memory usage: 110.2+ MB\n"
     ]
    }
   ],
   "source": [
    "# 讀檔\n",
    "old_pkl_path = r\"G:\\我的雲端硬碟\\python\\output\\0604\\old_農民農地資料_20210513_20210604_09.11.05.pkl\"\n",
    "old_df = read_data_dir_fPathExt(old_pkl_path)\n",
    "old_df.info()"
   ]
  },
  {
   "cell_type": "code",
   "execution_count": 3,
   "id": "c17da918",
   "metadata": {},
   "outputs": [
    {
     "name": "stdout",
     "output_type": "stream",
     "text": [
      ">> FullLandNo 缺值數量: 3\n",
      ">> RegArea 缺值數量: 3\n"
     ]
    }
   ],
   "source": [
    "# 檢查 FullLandNo、RegArea 缺值數量\n",
    "print(f\">> FullLandNo 缺值數量: {old_df.FullLandNo.isna().sum()}\")\n",
    "print(f\">> RegArea 缺值數量: {old_df.RegArea.isna().sum()}\")"
   ]
  },
  {
   "cell_type": "code",
   "execution_count": 4,
   "id": "e30d17f5",
   "metadata": {},
   "outputs": [
    {
     "name": "stdout",
     "output_type": "stream",
     "text": [
      ">> 符合農地條件的FullLandNo數量:\n",
      "True     795017\n",
      "False      7208\n",
      "Name: is_FullLandNo_pattern_farm, dtype: int64\n",
      "\n",
      ">> 符合河川條件的FullLandNo數量:\n",
      "False    795343\n",
      "True       6882\n",
      "Name: is_FullLandNo_pattern_river, dtype: int64\n",
      "\n",
      ">> 符合農地或河川條件的FullLandNo數量:\n",
      "True     801899\n",
      "False       329\n",
      "Name: is_FullLandNo_pattern_OK, dtype: int64\n",
      "\n"
     ]
    }
   ],
   "source": [
    "# 檢查 FullLandNo 是否皆符合: (農地) 前2大寫英 後12數字 的規則 or (河川地) 前2大寫英 後5數字 1大寫R 後7數字 的規則\n",
    "FullLandNo_pattern_farm = re.compile(\"^[A-Z]{2}\\d{12}\")\n",
    "FullLandNo_pattern_river = re.compile(\"^[A-Z]{2}\\d{5}R\\d{7}\")\n",
    "\n",
    "#貼標\n",
    "old_df.loc[:, \"is_FullLandNo_pattern_farm\"] = old_df.FullLandNo.str.match(FullLandNo_pattern_farm)\n",
    "print(f\">> 符合農地條件的FullLandNo數量:\\n{old_df.loc[:, 'is_FullLandNo_pattern_farm'].value_counts()}\\n\")\n",
    "\n",
    "old_df.loc[:, \"is_FullLandNo_pattern_river\"] = old_df.FullLandNo.str.match(FullLandNo_pattern_river)\n",
    "print(f\">> 符合河川條件的FullLandNo數量:\\n{old_df.loc[:, 'is_FullLandNo_pattern_river'].value_counts()}\\n\")\n",
    "\n",
    "# 是農地或河川地\n",
    "old_df.loc[:, \"is_FullLandNo_pattern_OK\"] = old_df.loc[:, \"is_FullLandNo_pattern_farm\"] | old_df.loc[:, \"is_FullLandNo_pattern_river\"]\n",
    "print(f\">> 符合農地或河川條件的FullLandNo數量:\\n{old_df.loc[:, 'is_FullLandNo_pattern_OK'].value_counts()}\\n\")"
   ]
  },
  {
   "cell_type": "code",
   "execution_count": 1,
   "id": "ad1218a1",
   "metadata": {
    "jupyter": {
     "source_hidden": true
    }
   },
   "outputs": [],
   "source": [
    "# old_df[old_df[\"is_FullLandNo_pattern_OK\"].isin([False])].head(3)"
   ]
  },
  {
   "cell_type": "code",
   "execution_count": 5,
   "id": "8dd88ce4",
   "metadata": {},
   "outputs": [
    {
     "name": "stdout",
     "output_type": "stream",
     "text": [
      ">> RegArea 無法轉換成數值的數量: 6\n"
     ]
    }
   ],
   "source": [
    "# 檢查 RegArea 格式\n",
    "old_df.loc[:,\"RegArea_number\"] = pd.to_numeric(old_df.loc[:,\"RegArea\"],errors='coerce')\n",
    "print(f\">> RegArea 無法轉換成數值的數量: {old_df.loc[:,'RegArea_number'].isna().sum()}\")\n",
    "#貼標\n",
    "old_df.rename(columns={\"RegArea\":\"RegArea_org\", \"RegArea_number\":\"RegArea\"}, inplace=True)\n",
    "old_df.loc[:,\"is_RegArea_OK\"] = old_df.loc[:,'RegArea'].notna()"
   ]
  },
  {
   "cell_type": "code",
   "execution_count": 6,
   "id": "259c93cf",
   "metadata": {},
   "outputs": [
    {
     "name": "stdout",
     "output_type": "stream",
     "text": [
      ">> old_df 符合規則的 資料筆數: 801899\n"
     ]
    }
   ],
   "source": [
    "# 挑出 FullLandNo、RegArea 都正常的資料做下一步比對\n",
    "mask_OK = ((old_df.loc[:, \"is_FullLandNo_pattern_OK\"].isin([True])) & (old_df.loc[:, \"is_RegArea_OK\"].isin([True])))\n",
    "print(f\">> old_df 符合規則的 資料筆數: {len(old_df[mask_OK])}\")"
   ]
  },
  {
   "cell_type": "markdown",
   "id": "552cf8e7",
   "metadata": {},
   "source": [
    "## 109年農牧地籍資料"
   ]
  },
  {
   "cell_type": "code",
   "execution_count": 7,
   "id": "886296eb",
   "metadata": {
    "jupyter": {
     "source_hidden": true
    }
   },
   "outputs": [],
   "source": [
    "new_df_column_name = [\n",
    "  'OID'\n",
    "  ,'宗地母號'\n",
    "  ,'宗地子號'\n",
    "  ,'段碼'\n",
    "  ,'段延伸碼'\n",
    "  ,'段號'\n",
    "  ,'地號'\n",
    "  ,'登記日期'\n",
    "  ,'地目碼'\n",
    "  ,'等則碼'\n",
    "  ,'登記面積_平方公尺'\n",
    "  ,'使用分區碼'\n",
    "  ,'使用類別碼'\n",
    "  ,'縣市碼'\n",
    "  ,'鄉鎮碼'\n",
    "  ,'段小段碼'\n",
    "  ,'使用分區'\n",
    "  ,'使用類別'\n",
    "  ,'地目'\n",
    "  ,'段'\n",
    "  ,'小段'\n",
    "  ,'縣市'\n",
    "  ,'鄉鎮'\n",
    "  ,'Shape_Length'\n",
    "  ,'Shape_Area'\n",
    "]"
   ]
  },
  {
   "cell_type": "code",
   "execution_count": 7,
   "id": "16e1dcc3",
   "metadata": {
    "collapsed": true,
    "jupyter": {
     "outputs_hidden": true,
     "source_hidden": true
    }
   },
   "outputs": [
    {
     "name": "stdout",
     "output_type": "stream",
     "text": [
      " ==輸出備份pkl== ::: new_GPL0_農牧用地_109Dec_20210604_14.33.54.pkl\n"
     ]
    }
   ],
   "source": [
    "# new_path = r\"G:\\我的雲端硬碟\\work\\2021\\99.其他交辦\\7.農地籍比對\\GPL0_農牧用地_109Dec.csv\"\n",
    "# new_df = pd.read_csv(new_path, header=None, prefix=\"col_\", skiprows=1)\n",
    "# new_df.columns =  new_df_column_name\n",
    "\n",
    "# # 轉存 pkl\n",
    "# formtoPkl(new_df, \"new_GPL0_農牧用地_109Dec\")"
   ]
  },
  {
   "cell_type": "code",
   "execution_count": 7,
   "id": "513583ea",
   "metadata": {},
   "outputs": [
    {
     "name": "stdout",
     "output_type": "stream",
     "text": [
      "  >> 讀取:: G:\\我的雲端硬碟\\python\\output\\0604\\new_GPL0_農牧用地_109Dec_20210604_14.33.54.pkl\n",
      ">> new_df 資料筆數: 2995079\n"
     ]
    }
   ],
   "source": [
    "# 讀檔\n",
    "new_pkl_path = r\"G:\\我的雲端硬碟\\python\\output\\0604\\new_GPL0_農牧用地_109Dec_20210604_14.33.54.pkl\"\n",
    "new_df = read_data_dir_fPathExt(new_pkl_path)\n",
    "print(f\">> new_df 資料筆數: {len(new_df)}\")"
   ]
  },
  {
   "cell_type": "code",
   "execution_count": 10,
   "id": "d94edb0d",
   "metadata": {},
   "outputs": [
    {
     "name": "stdout",
     "output_type": "stream",
     "text": [
      "<class 'pandas.core.frame.DataFrame'>\n",
      "RangeIndex: 2995079 entries, 0 to 2995078\n",
      "Data columns (total 25 columns):\n",
      " #   Column        Dtype  \n",
      "---  ------        -----  \n",
      " 0   OID           int64  \n",
      " 1   宗地母號          int64  \n",
      " 2   宗地子號          int64  \n",
      " 3   段碼            int64  \n",
      " 4   段延伸碼          object \n",
      " 5   FullLandNo    object \n",
      " 6   地號            int64  \n",
      " 7   登記日期          object \n",
      " 8   地目碼           object \n",
      " 9   等則碼           object \n",
      " 10  RegArea_m2    float64\n",
      " 11  使用分區碼         object \n",
      " 12  使用類別碼         object \n",
      " 13  縣市碼           object \n",
      " 14  鄉鎮碼           int64  \n",
      " 15  段小段碼          object \n",
      " 16  使用分區          object \n",
      " 17  使用類別          object \n",
      " 18  地目            object \n",
      " 19  段             object \n",
      " 20  小段            object \n",
      " 21  縣市            object \n",
      " 22  鄉鎮            object \n",
      " 23  Shape_Length  float64\n",
      " 24  Shape_Area    float64\n",
      "dtypes: float64(3), int64(6), object(16)\n",
      "memory usage: 571.3+ MB\n"
     ]
    }
   ],
   "source": [
    "new_df.rename(columns={\"段號\":\"FullLandNo\", \"登記面積_平方公尺\":\"RegArea_m2\"}, inplace=True)\n",
    "\n",
    "new_df.info()"
   ]
  },
  {
   "cell_type": "code",
   "execution_count": 11,
   "id": "ea60d38f",
   "metadata": {},
   "outputs": [
    {
     "name": "stdout",
     "output_type": "stream",
     "text": [
      ">> new_df 完全重複的row數: 0\n"
     ]
    }
   ],
   "source": [
    "# 檢查是否有完全重複的 row\n",
    "new_nodup_df = new_df.drop_duplicates(keep=\"first\")\n",
    "print(f\">> new_df 完全重複的row數: {len(new_df)-len(new_nodup_df)}\")"
   ]
  },
  {
   "cell_type": "code",
   "execution_count": 12,
   "id": "ef6468f1",
   "metadata": {},
   "outputs": [
    {
     "name": "stdout",
     "output_type": "stream",
     "text": [
      ">> FullLandNo 缺值數量: 0\n",
      ">> RegArea_m2 缺值數量: 0\n"
     ]
    }
   ],
   "source": [
    "# 檢查 FullLandNo、RegArea 缺值數量\n",
    "print(f\">> FullLandNo 缺值數量: {new_df.FullLandNo.isna().sum()}\")\n",
    "print(f\">> RegArea_m2 缺值數量: {new_df.RegArea_m2.isna().sum()}\")"
   ]
  },
  {
   "cell_type": "code",
   "execution_count": 13,
   "id": "b447569e",
   "metadata": {},
   "outputs": [],
   "source": [
    "# RegArea 單位轉換 (1平方公尺=0.0001公頃)\n",
    "new_df.loc[:,\"RegArea\"] = (new_df.loc[:,\"RegArea_m2\"] * 0.0001).round(4)"
   ]
  },
  {
   "cell_type": "code",
   "execution_count": 14,
   "id": "be741ec6",
   "metadata": {},
   "outputs": [
    {
     "data": {
      "text/plain": [
       "True    2995079\n",
       "Name: is_FullLandNo_pattern_farm, dtype: int64"
      ]
     },
     "execution_count": 14,
     "metadata": {},
     "output_type": "execute_result"
    }
   ],
   "source": [
    "# 檢查 FullLandNo 是否皆符合: (農地) 前2大寫英 後12數字 的規則\n",
    "new_df.loc[:, \"is_FullLandNo_pattern_farm\"] = new_df.FullLandNo.str.match(FullLandNo_pattern_farm)\n",
    "new_df.loc[:, \"is_FullLandNo_pattern_farm\"].value_counts()"
   ]
  },
  {
   "cell_type": "code",
   "execution_count": 15,
   "id": "91ea7d88",
   "metadata": {},
   "outputs": [
    {
     "name": "stdout",
     "output_type": "stream",
     "text": [
      ">>  FullLandNo、RegArea  皆唯一對應\n"
     ]
    }
   ],
   "source": [
    "# 檢查 FullLandNo、RegArea  是否 唯一對應\n",
    "new_FullLandNo_count_RegArea = new_df[[\"FullLandNo\",\"RegArea\"]].drop_duplicates(\n",
    "                                                                keep=\"first\").groupby(\n",
    "                                                                    \"FullLandNo\", as_index=False).count()\n",
    "new_FullLandNo_count_RegArea[new_FullLandNo_count_RegArea.RegArea>1]\n",
    "print(\">>  FullLandNo、RegArea  皆唯一對應\")"
   ]
  },
  {
   "cell_type": "code",
   "execution_count": 16,
   "id": "1869d5b6",
   "metadata": {},
   "outputs": [],
   "source": [
    "# 製作 比對字典 key: FullLandNo, value:RegArea\n",
    "new_match_dict = pd.Series(new_df.RegArea.values, index=new_df.FullLandNo).to_dict()\n",
    "# new_match_dict"
   ]
  },
  {
   "cell_type": "markdown",
   "id": "4984ba29",
   "metadata": {},
   "source": [
    "## 河川地籍資料"
   ]
  },
  {
   "cell_type": "code",
   "execution_count": 17,
   "id": "cd800020",
   "metadata": {},
   "outputs": [
    {
     "name": "stdout",
     "output_type": "stream",
     "text": [
      "<class 'pandas.core.frame.DataFrame'>\n",
      "RangeIndex: 65535 entries, 0 to 65534\n",
      "Data columns (total 13 columns):\n",
      " #   Column      Non-Null Count  Dtype  \n",
      "---  ------      --------------  -----  \n",
      " 0   項次          65535 non-null  int64  \n",
      " 1   姓名          65534 non-null  object \n",
      " 2   身分證字號       65534 non-null  object \n",
      " 3   縣市          65535 non-null  object \n",
      " 4   鄉鎮          65535 non-null  object \n",
      " 5   地段          65535 non-null  object \n",
      " 6   小段          4163 non-null   object \n",
      " 7   地號          0 non-null      float64\n",
      " 8   LandNo      65535 non-null  object \n",
      " 9   RegArea     65535 non-null  float64\n",
      " 10  種植種類        65534 non-null  object \n",
      " 11  使用期限(迄)     65528 non-null  object \n",
      " 12  FullLandNo  65535 non-null  object \n",
      "dtypes: float64(2), int64(1), object(10)\n",
      "memory usage: 6.5+ MB\n"
     ]
    }
   ],
   "source": [
    "river_path = r\"G:\\我的雲端硬碟\\work\\2021\\99.其他交辦\\7.農地籍比對\\河川地籍\\河川地109_原始資料.csv\"\n",
    "river_df = pd.read_csv(river_path)\n",
    "river_df.info()"
   ]
  },
  {
   "cell_type": "code",
   "execution_count": 18,
   "id": "6a405bdc",
   "metadata": {},
   "outputs": [
    {
     "name": "stdout",
     "output_type": "stream",
     "text": [
      ">> river_df 完全重複的row數: 0\n"
     ]
    }
   ],
   "source": [
    "# 檢查是否有完全重複的 row\n",
    "river_nodup_df = river_df.drop_duplicates(keep=\"first\")\n",
    "print(f\">> river_df 完全重複的row數: {len(river_df)-len(river_nodup_df)}\")"
   ]
  },
  {
   "cell_type": "code",
   "execution_count": 19,
   "id": "14fa3ccd",
   "metadata": {},
   "outputs": [
    {
     "name": "stdout",
     "output_type": "stream",
     "text": [
      ">> FullLandNo 缺值數量: 0\n",
      ">> RegArea 缺值數量: 0\n"
     ]
    }
   ],
   "source": [
    "# 檢查 FullLandNo、RegArea 缺值數量\n",
    "print(f\">> FullLandNo 缺值數量: {river_df.FullLandNo.isna().sum()}\")\n",
    "print(f\">> RegArea 缺值數量: {river_df.RegArea.isna().sum()}\")"
   ]
  },
  {
   "cell_type": "code",
   "execution_count": 20,
   "id": "118e217f",
   "metadata": {},
   "outputs": [],
   "source": [
    "# 取 RegArea 到小數點後第4位\n",
    "river_df.RegArea = river_df.RegArea.round(4)"
   ]
  },
  {
   "cell_type": "code",
   "execution_count": 21,
   "id": "64cd730b",
   "metadata": {},
   "outputs": [
    {
     "data": {
      "text/plain": [
       "True     55918\n",
       "False     9617\n",
       "Name: is_FullLandNo_pattern_river, dtype: int64"
      ]
     },
     "execution_count": 21,
     "metadata": {},
     "output_type": "execute_result"
    }
   ],
   "source": [
    "# 檢查 FullLandNo 是否皆符合: (河川地) 前2大寫英 後5數字 1大寫R 後7數字 的規則\n",
    "river_df.loc[:, \"is_FullLandNo_pattern_river\"] = river_df.FullLandNo.str.match(FullLandNo_pattern_river)\n",
    "river_df.loc[:, \"is_FullLandNo_pattern_river\"].value_counts()"
   ]
  },
  {
   "cell_type": "code",
   "execution_count": 22,
   "id": "69a55c2c",
   "metadata": {},
   "outputs": [
    {
     "data": {
      "text/plain": [
       "0    DH8280127800000\n",
       "1    DH8280130800000\n",
       "6    QB8299442000000\n",
       "Name: FullLandNo, dtype: object"
      ]
     },
     "execution_count": 22,
     "metadata": {},
     "output_type": "execute_result"
    }
   ],
   "source": [
    "river_df[river_df[\"is_FullLandNo_pattern_river\"].isin([False])]['FullLandNo'].head(3) # TODO 河川地籍可能有其他規則?"
   ]
  },
  {
   "cell_type": "code",
   "execution_count": 23,
   "id": "ec5ce6e6",
   "metadata": {},
   "outputs": [
    {
     "name": "stdout",
     "output_type": "stream",
     "text": [
      ">>  river_check_match_not_unique:   8781\n"
     ]
    },
    {
     "data": {
      "text/plain": [
       "37    BD82270R1010000\n",
       "44    BD82270R1090000\n",
       "45    BD82270R1100000\n",
       "46    BD82270R1110000\n",
       "47    BD82270R1120000\n",
       "Name: FullLandNo, dtype: object"
      ]
     },
     "execution_count": 23,
     "metadata": {},
     "output_type": "execute_result"
    }
   ],
   "source": [
    "# 檢查 FullLandNo、RegArea  是否 唯一對應\n",
    "river_FullLandNo_count_RegArea = river_df[[\"FullLandNo\",\"RegArea\"]].drop_duplicates(\n",
    "                                                                keep=\"first\").groupby(\n",
    "                                                                    \"FullLandNo\", as_index=False).count()\n",
    "river_check_match_not_unique = river_FullLandNo_count_RegArea[river_FullLandNo_count_RegArea.RegArea>1]\n",
    "print(f\">>  river_check_match_not_unique:   {len(river_check_match_not_unique)}\")\n",
    "river_check_match_not_unique.FullLandNo.head()"
   ]
  },
  {
   "cell_type": "code",
   "execution_count": 24,
   "id": "56bc0aab",
   "metadata": {},
   "outputs": [
    {
     "name": "stdout",
     "output_type": "stream",
     "text": [
      ">> 差異來自: 同一塊地: 不同人、不同時間、不同作物、不同面積，如何整合RegArea?\n"
     ]
    },
    {
     "data": {
      "text/html": [
       "<div>\n",
       "<style scoped>\n",
       "    .dataframe tbody tr th:only-of-type {\n",
       "        vertical-align: middle;\n",
       "    }\n",
       "\n",
       "    .dataframe tbody tr th {\n",
       "        vertical-align: top;\n",
       "    }\n",
       "\n",
       "    .dataframe thead th {\n",
       "        text-align: right;\n",
       "    }\n",
       "</style>\n",
       "<table border=\"1\" class=\"dataframe\">\n",
       "  <thead>\n",
       "    <tr style=\"text-align: right;\">\n",
       "      <th></th>\n",
       "      <th>項次</th>\n",
       "      <th>姓名</th>\n",
       "      <th>身分證字號</th>\n",
       "      <th>縣市</th>\n",
       "      <th>鄉鎮</th>\n",
       "      <th>地段</th>\n",
       "      <th>小段</th>\n",
       "      <th>地號</th>\n",
       "      <th>LandNo</th>\n",
       "      <th>RegArea</th>\n",
       "      <th>種植種類</th>\n",
       "      <th>使用期限(迄)</th>\n",
       "      <th>FullLandNo</th>\n",
       "      <th>is_FullLandNo_pattern_river</th>\n",
       "    </tr>\n",
       "  </thead>\n",
       "  <tbody>\n",
       "    <tr>\n",
       "      <th>6711</th>\n",
       "      <td>6712</td>\n",
       "      <td>洪崇裕</td>\n",
       "      <td>N121699081</td>\n",
       "      <td>臺中市</td>\n",
       "      <td>后里區</td>\n",
       "      <td>金城段</td>\n",
       "      <td>NaN</td>\n",
       "      <td>NaN</td>\n",
       "      <td>R101-0</td>\n",
       "      <td>0.9541</td>\n",
       "      <td>稻</td>\n",
       "      <td>108/12/31</td>\n",
       "      <td>BD82270R1010000</td>\n",
       "      <td>True</td>\n",
       "    </tr>\n",
       "    <tr>\n",
       "      <th>6712</th>\n",
       "      <td>6713</td>\n",
       "      <td>洪崇裕</td>\n",
       "      <td>N121699081</td>\n",
       "      <td>臺中市</td>\n",
       "      <td>后里區</td>\n",
       "      <td>金城段</td>\n",
       "      <td>NaN</td>\n",
       "      <td>NaN</td>\n",
       "      <td>R101-0</td>\n",
       "      <td>0.9555</td>\n",
       "      <td>低莖作物</td>\n",
       "      <td>113/12/31</td>\n",
       "      <td>BD82270R1010000</td>\n",
       "      <td>True</td>\n",
       "    </tr>\n",
       "  </tbody>\n",
       "</table>\n",
       "</div>"
      ],
      "text/plain": [
       "        項次   姓名       身分證字號   縣市   鄉鎮   地段   小段  地號  LandNo  RegArea  種植種類  \\\n",
       "6711  6712  洪崇裕  N121699081  臺中市  后里區  金城段  NaN NaN  R101-0   0.9541     稻   \n",
       "6712  6713  洪崇裕  N121699081  臺中市  后里區  金城段  NaN NaN  R101-0   0.9555  低莖作物   \n",
       "\n",
       "        使用期限(迄)       FullLandNo  is_FullLandNo_pattern_river  \n",
       "6711  108/12/31  BD82270R1010000                         True  \n",
       "6712  113/12/31  BD82270R1010000                         True  "
      ]
     },
     "execution_count": 24,
     "metadata": {},
     "output_type": "execute_result"
    }
   ],
   "source": [
    "# 檢查\n",
    "check_No = \"BD82270R1010000\"\n",
    "print(\">> 差異來自: 同一塊地: 不同人、不同時間、不同作物、不同面積，如何整合RegArea?\")\n",
    "river_df[river_df[\"FullLandNo\"].isin([check_No])]"
   ]
  },
  {
   "cell_type": "code",
   "execution_count": 25,
   "id": "1a676c1a",
   "metadata": {},
   "outputs": [
    {
     "data": {
      "text/plain": [
       "count    8781.000000\n",
       "mean        1.041056\n",
       "std        70.090973\n",
       "min         0.000100\n",
       "25%         0.009900\n",
       "50%         0.057700\n",
       "75%         0.239500\n",
       "max      6560.557000\n",
       "Name: RegArea_diff, dtype: float64"
      ]
     },
     "execution_count": 25,
     "metadata": {},
     "output_type": "execute_result"
    }
   ],
   "source": [
    "# 計算 FullLandNo(有2種以上的RegArea) RegArea最大值與最小值\n",
    "mask_river_dup_RegArea = river_df.loc[:, \"FullLandNo\"].isin(river_check_match_not_unique.FullLandNo.to_list())\n",
    "river_dup_RegAreariver_gp = river_df[mask_river_dup_RegArea][[\"FullLandNo\", \"RegArea\"]].groupby(\n",
    "                                                    \"FullLandNo\", as_index=False).agg(\n",
    "                                                                        {'RegArea':['min', 'max', lambda x: x.max() - x.min()]})\n",
    "river_dup_RegAreariver_gp.columns = [\"FullLandNo\",\"RegArea_min\", \"RegArea_max\", \"RegArea_diff\"]\n",
    "river_dup_RegAreariver_gp[\"RegArea_diff\"].describe() # 面積差異最大 6560!?，平均差異1 >> 選擇min當代表比較保險"
   ]
  },
  {
   "cell_type": "code",
   "execution_count": 26,
   "id": "e9d18718",
   "metadata": {},
   "outputs": [
    {
     "data": {
      "text/plain": [
       "<AxesSubplot:>"
      ]
     },
     "execution_count": 26,
     "metadata": {},
     "output_type": "execute_result"
    },
    {
     "data": {
      "image/png": "[encoded data removed]",
      "text/plain": [
       "<Figure size 432x288 with 1 Axes>"
      ]
     },
     "metadata": {
      "needs_background": "light"
     },
     "output_type": "display_data"
    }
   ],
   "source": [
    "river_dup_RegAreariver_gp[\"RegArea_diff\"].plot.box()"
   ]
  },
  {
   "cell_type": "code",
   "execution_count": 27,
   "id": "3c0814bc",
   "metadata": {},
   "outputs": [],
   "source": [
    "# 製作 比對字典 key: FullLandNo, value:RegArea_min\n",
    "river_match_dict = pd.Series(river_dup_RegAreariver_gp.RegArea_min.values, index=river_dup_RegAreariver_gp.FullLandNo).to_dict()\n",
    "# river_match_dict"
   ]
  },
  {
   "cell_type": "markdown",
   "id": "14f5874e",
   "metadata": {},
   "source": [
    "# 比對邏輯"
   ]
  },
  {
   "cell_type": "markdown",
   "id": "c5fa22db",
   "metadata": {},
   "source": [
    "## 比對 new_match_dict"
   ]
  },
  {
   "cell_type": "code",
   "execution_count": 28,
   "id": "bb606847",
   "metadata": {},
   "outputs": [
    {
     "name": "stdout",
     "output_type": "stream",
     "text": [
      ">> old(OK) FullLandNo 能對應到 new 的數量:\n",
      "True     575100\n",
      "False    226799\n",
      "Name: is_FullLandNo_match_new, dtype: int64\n",
      "\n"
     ]
    }
   ],
   "source": [
    "# old_df[mask_OK] v.s. new_match_dict\n",
    "old_df.loc[mask_OK ,\"is_FullLandNo_match_new\"] = old_df.loc[mask_OK ,\"FullLandNo\"].isin(list(new_match_dict.keys()))\n",
    "old_df.loc[mask_OK ,\"new_RegArea\"] = old_df.loc[mask_OK ,\"FullLandNo\"].map(new_match_dict)\n",
    "print(f\">> old(OK) FullLandNo 能對應到 new 的數量:\\n{old_df['is_FullLandNo_match_new'].value_counts()}\\n\")"
   ]
  },
  {
   "cell_type": "code",
   "execution_count": 29,
   "id": "f3e2df1e",
   "metadata": {},
   "outputs": [
    {
     "name": "stdout",
     "output_type": "stream",
     "text": [
      ">> diff_RegArea_old describe:\n",
      "count    575100.000000\n",
      "mean         -0.104518\n",
      "std           2.455411\n",
      "min        -257.199800\n",
      "25%          -0.000100\n",
      "50%           0.000000\n",
      "75%           0.000000\n",
      "max           4.441900\n",
      "Name: diff_RegArea_old_minus_new, dtype: float64\n",
      "\n",
      ">> is_RegArea_old_gt_new :\n",
      "False    800281\n",
      "True       1618\n",
      "Name: is_RegArea_old_gt_new, dtype: int64\n",
      "\n"
     ]
    }
   ],
   "source": [
    "# 計算RegArea差距，判斷 old RegArea 是否 大於 new RegArea\n",
    "old_df.loc[mask_OK ,\"diff_RegArea_old_minus_new\"] = old_df.loc[mask_OK ,\"RegArea\"] - old_df.loc[mask_OK ,\"new_RegArea\"]\n",
    "old_df.loc[mask_OK ,\"is_RegArea_old_gt_new\"] = old_df.loc[mask_OK ,\"RegArea\"] > old_df.loc[mask_OK ,\"new_RegArea\"]\n",
    "print(f\">> diff_RegArea_old describe:\\n{old_df['diff_RegArea_old_minus_new'].describe()}\\n\")\n",
    "print(f\">> is_RegArea_old_gt_new :\\n{old_df['is_RegArea_old_gt_new'].value_counts()}\\n\") #1618筆  old有比對到但是面積比new大"
   ]
  },
  {
   "cell_type": "code",
   "execution_count": 30,
   "id": "7fcfb8ae",
   "metadata": {},
   "outputs": [
    {
     "data": {
      "text/plain": [
       "<AxesSubplot:>"
      ]
     },
     "execution_count": 30,
     "metadata": {},
     "output_type": "execute_result"
    },
    {
     "data": {
      "image/png": "[encoded data removed]",
      "text/plain": [
       "<Figure size 432x288 with 1 Axes>"
      ]
     },
     "metadata": {
      "needs_background": "light"
     },
     "output_type": "display_data"
    }
   ],
   "source": [
    "old_df['diff_RegArea_old_minus_new'].plot.box()"
   ]
  },
  {
   "cell_type": "markdown",
   "id": "b14b08fa",
   "metadata": {},
   "source": [
    "## 比對 river_match_dict"
   ]
  },
  {
   "cell_type": "code",
   "execution_count": 32,
   "id": "d6d73ea2",
   "metadata": {},
   "outputs": [
    {
     "name": "stdout",
     "output_type": "stream",
     "text": [
      ">> old(OK) FullLandNo 能對應到 river 的數量:\n",
      "False    799564\n",
      "True       2335\n",
      "Name: is_FullLandNo_match_river, dtype: int64\n",
      "\n"
     ]
    }
   ],
   "source": [
    "# old_df[mask_OK] v.s. river_match_dict\n",
    "old_df.loc[mask_OK ,\"is_FullLandNo_match_river\"] = old_df.loc[mask_OK ,\"FullLandNo\"].isin(list(river_match_dict.keys()))\n",
    "old_df.loc[mask_OK ,\"river_RegArea\"] = old_df.loc[mask_OK ,\"FullLandNo\"].map(river_match_dict)\n",
    "print(f\">> old(OK) FullLandNo 能對應到 river 的數量:\\n{old_df['is_FullLandNo_match_river'].value_counts()}\\n\")"
   ]
  },
  {
   "cell_type": "code",
   "execution_count": 33,
   "id": "50070833",
   "metadata": {},
   "outputs": [
    {
     "name": "stdout",
     "output_type": "stream",
     "text": [
      ">> diff_RegArea_old describe:\n",
      "count    2335.000000\n",
      "mean        0.148484\n",
      "std         0.443119\n",
      "min        -2.422000\n",
      "25%         0.000000\n",
      "50%         0.003900\n",
      "75%         0.109850\n",
      "max         4.876900\n",
      "Name: diff_RegArea_old_minus_river, dtype: float64\n",
      "\n",
      ">> is_RegArea_old_gt_river :\n",
      "False    800592\n",
      "True       1307\n",
      "Name: is_RegArea_old_gt_river, dtype: int64\n",
      "\n"
     ]
    }
   ],
   "source": [
    "# 計算RegArea差距，判斷 old RegArea 是否 大於 river RegArea\n",
    "old_df.loc[mask_OK ,\"diff_RegArea_old_minus_river\"] = old_df.loc[mask_OK ,\"RegArea\"] - old_df.loc[mask_OK ,\"river_RegArea\"]\n",
    "old_df.loc[mask_OK ,\"is_RegArea_old_gt_river\"] = old_df.loc[mask_OK ,\"RegArea\"] > old_df.loc[mask_OK ,\"river_RegArea\"]\n",
    "print(f\">> diff_RegArea_old describe:\\n{old_df['diff_RegArea_old_minus_river'].describe()}\\n\")\n",
    "print(f\">> is_RegArea_old_gt_river :\\n{old_df['is_RegArea_old_gt_river'].value_counts()}\\n\") #1307筆  old有比對到但是面積比river大"
   ]
  },
  {
   "cell_type": "code",
   "execution_count": 34,
   "id": "80ce007a",
   "metadata": {},
   "outputs": [
    {
     "data": {
      "text/plain": [
       "<AxesSubplot:>"
      ]
     },
     "execution_count": 34,
     "metadata": {},
     "output_type": "execute_result"
    },
    {
     "data": {
      "image/png": "[encoded data removed]",
      "text/plain": [
       "<Figure size 432x288 with 1 Axes>"
      ]
     },
     "metadata": {
      "needs_background": "light"
     },
     "output_type": "display_data"
    }
   ],
   "source": [
    "old_df['diff_RegArea_old_minus_river'].plot.box()"
   ]
  },
  {
   "cell_type": "markdown",
   "id": "d92f3e27",
   "metadata": {},
   "source": [
    "## 彙總"
   ]
  },
  {
   "cell_type": "code",
   "execution_count": 55,
   "id": "23df67e8",
   "metadata": {},
   "outputs": [
    {
     "data": {
      "text/plain": [
       "欄位1                                  3\n",
       "欄位2                                  3\n",
       "欄位3                                  3\n",
       "FarmerIDCardNo                       0\n",
       "CountyName                           3\n",
       "TownshipName                         3\n",
       "TownshipCode                         6\n",
       "CountyCode                           3\n",
       "Section                              3\n",
       "Code                                 3\n",
       "LandNo                               3\n",
       "RegArea_org                          3\n",
       "FullLandNo                           3\n",
       "CreateDate                           3\n",
       "UpdateDate                           3\n",
       "UserIP                           23159\n",
       "IsDel                                6\n",
       "CropTypeNm                           6\n",
       "is_FullLandNo_pattern_farm           3\n",
       "is_FullLandNo_pattern_river          3\n",
       "is_FullLandNo_pattern_OK             0\n",
       "RegArea                              6\n",
       "is_RegArea_OK                        0\n",
       "is_FullLandNo_match_new            329\n",
       "new_RegArea                     227128\n",
       "diff_RegArea_old_minus_new      227128\n",
       "is_RegArea_old_gt_new              329\n",
       "is_FullLandNo_match_river          329\n",
       "river_RegArea                   799893\n",
       "diff_RegArea_old_minus_river    799893\n",
       "is_RegArea_old_gt_river            329\n",
       "_idx                                 0\n",
       "dtype: int64"
      ]
     },
     "execution_count": 55,
     "metadata": {},
     "output_type": "execute_result"
    }
   ],
   "source": [
    "# 邏輯欄位 缺值狀況\n",
    "old_df.isnull().sum()"
   ]
  },
  {
   "cell_type": "code",
   "execution_count": 58,
   "id": "491779d1",
   "metadata": {},
   "outputs": [
    {
     "data": {
      "text/html": [
       "<div>\n",
       "<style scoped>\n",
       "    .dataframe tbody tr th:only-of-type {\n",
       "        vertical-align: middle;\n",
       "    }\n",
       "\n",
       "    .dataframe tbody tr th {\n",
       "        vertical-align: top;\n",
       "    }\n",
       "\n",
       "    .dataframe thead th {\n",
       "        text-align: right;\n",
       "    }\n",
       "</style>\n",
       "<table border=\"1\" class=\"dataframe\">\n",
       "  <thead>\n",
       "    <tr style=\"text-align: right;\">\n",
       "      <th></th>\n",
       "      <th>欄位1</th>\n",
       "      <th>欄位2</th>\n",
       "      <th>欄位3</th>\n",
       "      <th>FarmerIDCardNo</th>\n",
       "      <th>CountyName</th>\n",
       "      <th>TownshipName</th>\n",
       "      <th>TownshipCode</th>\n",
       "      <th>CountyCode</th>\n",
       "      <th>Section</th>\n",
       "      <th>Code</th>\n",
       "      <th>...</th>\n",
       "      <th>is_RegArea_OK</th>\n",
       "      <th>is_FullLandNo_match_new</th>\n",
       "      <th>new_RegArea</th>\n",
       "      <th>diff_RegArea_old_minus_new</th>\n",
       "      <th>is_RegArea_old_gt_new</th>\n",
       "      <th>is_FullLandNo_match_river</th>\n",
       "      <th>river_RegArea</th>\n",
       "      <th>diff_RegArea_old_minus_river</th>\n",
       "      <th>is_RegArea_old_gt_river</th>\n",
       "      <th>_idx</th>\n",
       "    </tr>\n",
       "  </thead>\n",
       "  <tbody>\n",
       "    <tr>\n",
       "      <th>13174</th>\n",
       "      <td>NaN</td>\n",
       "      <td>NaN</td>\n",
       "      <td>NaN</td>\n",
       "      <td>11</td>\n",
       "      <td>B</td>\n",
       "      <td>武陵</td>\n",
       "      <td>NaN</td>\n",
       "      <td>3654</td>\n",
       "      <td>00820000</td>\n",
       "      <td>BE365400820000</td>\n",
       "      <td>...</td>\n",
       "      <td>False</td>\n",
       "      <td>NaN</td>\n",
       "      <td>NaN</td>\n",
       "      <td>NaN</td>\n",
       "      <td>NaN</td>\n",
       "      <td>NaN</td>\n",
       "      <td>NaN</td>\n",
       "      <td>NaN</td>\n",
       "      <td>NaN</td>\n",
       "      <td>13174</td>\n",
       "    </tr>\n",
       "    <tr>\n",
       "      <th>13175</th>\n",
       "      <td>17576.0</td>\n",
       "      <td>1.0</td>\n",
       "      <td>760.0</td>\n",
       "      <td>L121398729</td>\n",
       "      <td>臺中市</td>\n",
       "      <td>大甲區</td>\n",
       "      <td>11.0</td>\n",
       "      <td>B</td>\n",
       "      <td>武陵</td>\n",
       "      <td>3654</td>\n",
       "      <td>...</td>\n",
       "      <td>True</td>\n",
       "      <td>False</td>\n",
       "      <td>NaN</td>\n",
       "      <td>NaN</td>\n",
       "      <td>False</td>\n",
       "      <td>False</td>\n",
       "      <td>NaN</td>\n",
       "      <td>NaN</td>\n",
       "      <td>False</td>\n",
       "      <td>13175</td>\n",
       "    </tr>\n",
       "  </tbody>\n",
       "</table>\n",
       "<p>2 rows × 32 columns</p>\n",
       "</div>"
      ],
      "text/plain": [
       "           欄位1  欄位2    欄位3 FarmerIDCardNo CountyName TownshipName  \\\n",
       "13174      NaN  NaN    NaN             11          B           武陵   \n",
       "13175  17576.0  1.0  760.0     L121398729        臺中市          大甲區   \n",
       "\n",
       "       TownshipCode CountyCode   Section            Code  ... is_RegArea_OK  \\\n",
       "13174           NaN       3654  00820000  BE365400820000  ...         False   \n",
       "13175          11.0          B        武陵            3654  ...          True   \n",
       "\n",
       "      is_FullLandNo_match_new new_RegArea diff_RegArea_old_minus_new  \\\n",
       "13174                     NaN         NaN                        NaN   \n",
       "13175                   False         NaN                        NaN   \n",
       "\n",
       "      is_RegArea_old_gt_new is_FullLandNo_match_river  river_RegArea  \\\n",
       "13174                   NaN                       NaN            NaN   \n",
       "13175                 False                     False            NaN   \n",
       "\n",
       "      diff_RegArea_old_minus_river is_RegArea_old_gt_river   _idx  \n",
       "13174                          NaN                     NaN  13174  \n",
       "13175                          NaN                   False  13175  \n",
       "\n",
       "[2 rows x 32 columns]"
      ]
     },
     "execution_count": 58,
     "metadata": {},
     "output_type": "execute_result"
    }
   ],
   "source": [
    "old_df[13174:13176]"
   ]
  },
  {
   "cell_type": "code",
   "execution_count": 65,
   "id": "325de9bc",
   "metadata": {},
   "outputs": [],
   "source": [
    "# 針對 邏輯欄位缺值 補 False\n",
    "old_df.loc[:,[c for c in old_df.columns if \"is\" in c]] = old_df.loc[:,[c for c in old_df.columns if \"is\" in c]].fillna(False)"
   ]
  },
  {
   "cell_type": "markdown",
   "id": "171e05a7",
   "metadata": {},
   "source": [
    "## 邏輯欄位說明"
   ]
  },
  {
   "cell_type": "markdown",
   "id": "1967f7c8",
   "metadata": {},
   "source": [
    "|編號|名稱|說明|\n",
    "|:---|:---|:---|\n",
    "|1. |is_FullLandNo_pattern_farm |判斷old FullLandNo 的格式 是否符合 農地籍規則|\n",
    "|2. |is_FullLandNo_pattern_river| 判斷old FullLandNo 的格式 是否符合 河川地籍規則|\n",
    "|3. |is_FullLandNo_pattern_OK|判斷old FullLandNo 的格式 是否符合 農地籍 **或** 河川地籍 規則|\n",
    "|4. |is_RegArea_OK|判斷old RegArea 的格式 是否為 浮點數格式|\n",
    "|5. |is_FullLandNo_match_new|判斷old FullLandNo (前提條件:3、4為True) 是否能在 new 資料中找到相同的FullLandNo|\n",
    "|6. |is_RegArea_old_gt_new|判斷old RegArea  是否**大於**  new 資料中對應的RegArea (old前提條件:3、4為True)|\n",
    "|7. |is_FullLandNo_match_river|判斷old FullLandNo  是否能在 river 資料中找到相同的FullLandNo (old前提條件:3、4為True)|\n",
    "|8. |is_RegArea_old_gt_river|判斷old RegArea  是否**大於**  river 資料中對應的RegArea (old前提條件:3、4為True)|"
   ]
  },
  {
   "cell_type": "code",
   "execution_count": 66,
   "id": "c41af869",
   "metadata": {},
   "outputs": [
    {
     "data": {
      "text/plain": [
       "欄位1                                  3\n",
       "欄位2                                  3\n",
       "欄位3                                  3\n",
       "FarmerIDCardNo                       0\n",
       "CountyName                           3\n",
       "TownshipName                         3\n",
       "TownshipCode                         6\n",
       "CountyCode                           3\n",
       "Section                              3\n",
       "Code                                 3\n",
       "LandNo                               3\n",
       "RegArea_org                          3\n",
       "FullLandNo                           3\n",
       "CreateDate                           3\n",
       "UpdateDate                           3\n",
       "UserIP                           23159\n",
       "IsDel                                6\n",
       "CropTypeNm                           6\n",
       "is_FullLandNo_pattern_farm           0\n",
       "is_FullLandNo_pattern_river          0\n",
       "is_FullLandNo_pattern_OK             0\n",
       "RegArea                              6\n",
       "is_RegArea_OK                        0\n",
       "is_FullLandNo_match_new              0\n",
       "new_RegArea                     227128\n",
       "diff_RegArea_old_minus_new      227128\n",
       "is_RegArea_old_gt_new                0\n",
       "is_FullLandNo_match_river            0\n",
       "river_RegArea                   799893\n",
       "diff_RegArea_old_minus_river    799893\n",
       "is_RegArea_old_gt_river              0\n",
       "_idx                                 0\n",
       "dtype: int64"
      ]
     },
     "execution_count": 66,
     "metadata": {},
     "output_type": "execute_result"
    }
   ],
   "source": [
    "# 邏輯欄位 缺值狀況\n",
    "old_df.isnull().sum()"
   ]
  },
  {
   "cell_type": "markdown",
   "id": "b8bfad96",
   "metadata": {},
   "source": [
    "# 結果匯出"
   ]
  },
  {
   "cell_type": "code",
   "execution_count": 44,
   "id": "177980b6",
   "metadata": {},
   "outputs": [
    {
     "data": {
      "text/html": [
       "<div>\n",
       "<style scoped>\n",
       "    .dataframe tbody tr th:only-of-type {\n",
       "        vertical-align: middle;\n",
       "    }\n",
       "\n",
       "    .dataframe tbody tr th {\n",
       "        vertical-align: top;\n",
       "    }\n",
       "\n",
       "    .dataframe thead th {\n",
       "        text-align: right;\n",
       "    }\n",
       "</style>\n",
       "<table border=\"1\" class=\"dataframe\">\n",
       "  <thead>\n",
       "    <tr style=\"text-align: right;\">\n",
       "      <th></th>\n",
       "      <th>欄位1</th>\n",
       "      <th>欄位2</th>\n",
       "      <th>欄位3</th>\n",
       "      <th>FarmerIDCardNo</th>\n",
       "      <th>CountyName</th>\n",
       "      <th>TownshipName</th>\n",
       "      <th>TownshipCode</th>\n",
       "      <th>CountyCode</th>\n",
       "      <th>Section</th>\n",
       "      <th>Code</th>\n",
       "      <th>...</th>\n",
       "      <th>RegArea</th>\n",
       "      <th>is_RegArea_OK</th>\n",
       "      <th>is_FullLandNo_match_new</th>\n",
       "      <th>new_RegArea</th>\n",
       "      <th>diff_RegArea_old_minus_new</th>\n",
       "      <th>is_RegArea_old_gt_new</th>\n",
       "      <th>is_FullLandNo_match_river</th>\n",
       "      <th>river_RegArea</th>\n",
       "      <th>diff_RegArea_old_minus_river</th>\n",
       "      <th>is_RegArea_old_gt_river</th>\n",
       "    </tr>\n",
       "  </thead>\n",
       "  <tbody>\n",
       "    <tr>\n",
       "      <th>0</th>\n",
       "      <td>744399.0</td>\n",
       "      <td>4.0</td>\n",
       "      <td>2554.0</td>\n",
       "      <td>p121462147</td>\n",
       "      <td>雲林縣</td>\n",
       "      <td>東勢鄉</td>\n",
       "      <td>14.0</td>\n",
       "      <td>P</td>\n",
       "      <td>西安</td>\n",
       "      <td>1108</td>\n",
       "      <td>...</td>\n",
       "      <td>0.2610</td>\n",
       "      <td>True</td>\n",
       "      <td>True</td>\n",
       "      <td>0.2613</td>\n",
       "      <td>-0.0003</td>\n",
       "      <td>False</td>\n",
       "      <td>False</td>\n",
       "      <td>NaN</td>\n",
       "      <td>NaN</td>\n",
       "      <td>False</td>\n",
       "    </tr>\n",
       "    <tr>\n",
       "      <th>1</th>\n",
       "      <td>744400.0</td>\n",
       "      <td>1.0</td>\n",
       "      <td>1907.0</td>\n",
       "      <td>F226747855</td>\n",
       "      <td>彰化縣</td>\n",
       "      <td>和美鎮</td>\n",
       "      <td>3.0</td>\n",
       "      <td>N</td>\n",
       "      <td>犁盛</td>\n",
       "      <td>0296</td>\n",
       "      <td>...</td>\n",
       "      <td>0.1940</td>\n",
       "      <td>True</td>\n",
       "      <td>True</td>\n",
       "      <td>0.1940</td>\n",
       "      <td>0.0000</td>\n",
       "      <td>False</td>\n",
       "      <td>False</td>\n",
       "      <td>NaN</td>\n",
       "      <td>NaN</td>\n",
       "      <td>False</td>\n",
       "    </tr>\n",
       "    <tr>\n",
       "      <th>2</th>\n",
       "      <td>744401.0</td>\n",
       "      <td>5.0</td>\n",
       "      <td>537.0</td>\n",
       "      <td>s121986369</td>\n",
       "      <td>高雄市</td>\n",
       "      <td>六龜區</td>\n",
       "      <td>32.0</td>\n",
       "      <td>E</td>\n",
       "      <td>新發</td>\n",
       "      <td>3615</td>\n",
       "      <td>...</td>\n",
       "      <td>0.1451</td>\n",
       "      <td>True</td>\n",
       "      <td>True</td>\n",
       "      <td>0.1452</td>\n",
       "      <td>-0.0001</td>\n",
       "      <td>False</td>\n",
       "      <td>False</td>\n",
       "      <td>NaN</td>\n",
       "      <td>NaN</td>\n",
       "      <td>False</td>\n",
       "    </tr>\n",
       "    <tr>\n",
       "      <th>3</th>\n",
       "      <td>744402.0</td>\n",
       "      <td>5.0</td>\n",
       "      <td>537.0</td>\n",
       "      <td>s121986369</td>\n",
       "      <td>高雄市</td>\n",
       "      <td>六龜區</td>\n",
       "      <td>32.0</td>\n",
       "      <td>E</td>\n",
       "      <td>新發</td>\n",
       "      <td>3615</td>\n",
       "      <td>...</td>\n",
       "      <td>0.1630</td>\n",
       "      <td>True</td>\n",
       "      <td>True</td>\n",
       "      <td>0.1631</td>\n",
       "      <td>-0.0001</td>\n",
       "      <td>False</td>\n",
       "      <td>False</td>\n",
       "      <td>NaN</td>\n",
       "      <td>NaN</td>\n",
       "      <td>False</td>\n",
       "    </tr>\n",
       "    <tr>\n",
       "      <th>4</th>\n",
       "      <td>744403.0</td>\n",
       "      <td>4.0</td>\n",
       "      <td>1961.0</td>\n",
       "      <td>s121915075</td>\n",
       "      <td>高雄市</td>\n",
       "      <td>美濃區</td>\n",
       "      <td>31.0</td>\n",
       "      <td>E</td>\n",
       "      <td>龍肚</td>\n",
       "      <td>3511</td>\n",
       "      <td>...</td>\n",
       "      <td>0.1700</td>\n",
       "      <td>True</td>\n",
       "      <td>True</td>\n",
       "      <td>0.1700</td>\n",
       "      <td>0.0000</td>\n",
       "      <td>False</td>\n",
       "      <td>False</td>\n",
       "      <td>NaN</td>\n",
       "      <td>NaN</td>\n",
       "      <td>False</td>\n",
       "    </tr>\n",
       "  </tbody>\n",
       "</table>\n",
       "<p>5 rows × 31 columns</p>\n",
       "</div>"
      ],
      "text/plain": [
       "        欄位1  欄位2     欄位3 FarmerIDCardNo CountyName TownshipName  TownshipCode  \\\n",
       "0  744399.0  4.0  2554.0     p121462147        雲林縣          東勢鄉          14.0   \n",
       "1  744400.0  1.0  1907.0     F226747855        彰化縣          和美鎮           3.0   \n",
       "2  744401.0  5.0   537.0     s121986369        高雄市          六龜區          32.0   \n",
       "3  744402.0  5.0   537.0     s121986369        高雄市          六龜區          32.0   \n",
       "4  744403.0  4.0  1961.0     s121915075        高雄市          美濃區          31.0   \n",
       "\n",
       "  CountyCode Section  Code  ... RegArea is_RegArea_OK is_FullLandNo_match_new  \\\n",
       "0          P      西安  1108  ...  0.2610          True                    True   \n",
       "1          N      犁盛  0296  ...  0.1940          True                    True   \n",
       "2          E      新發  3615  ...  0.1451          True                    True   \n",
       "3          E      新發  3615  ...  0.1630          True                    True   \n",
       "4          E      龍肚  3511  ...  0.1700          True                    True   \n",
       "\n",
       "  new_RegArea diff_RegArea_old_minus_new is_RegArea_old_gt_new  \\\n",
       "0      0.2613                    -0.0003                 False   \n",
       "1      0.1940                     0.0000                 False   \n",
       "2      0.1452                    -0.0001                 False   \n",
       "3      0.1631                    -0.0001                 False   \n",
       "4      0.1700                     0.0000                 False   \n",
       "\n",
       "   is_FullLandNo_match_river river_RegArea diff_RegArea_old_minus_river  \\\n",
       "0                      False           NaN                          NaN   \n",
       "1                      False           NaN                          NaN   \n",
       "2                      False           NaN                          NaN   \n",
       "3                      False           NaN                          NaN   \n",
       "4                      False           NaN                          NaN   \n",
       "\n",
       "  is_RegArea_old_gt_river  \n",
       "0                   False  \n",
       "1                   False  \n",
       "2                   False  \n",
       "3                   False  \n",
       "4                   False  \n",
       "\n",
       "[5 rows x 31 columns]"
      ]
     },
     "execution_count": 44,
     "metadata": {},
     "output_type": "execute_result"
    }
   ],
   "source": [
    "old_df.head()"
   ]
  },
  {
   "cell_type": "code",
   "execution_count": 46,
   "id": "bcd1e054",
   "metadata": {},
   "outputs": [
    {
     "name": "stdout",
     "output_type": "stream",
     "text": [
      " ==輸出備份xlsx== ::: 大冠比對結果V1_20210604_16.33.52.xlsx\n"
     ]
    }
   ],
   "source": [
    "formtoXlsx(old_df, \"大冠比對結果V1\") # 輸出請耐心等待"
   ]
  }
 ],
 "metadata": {
  "kernelspec": {
   "display_name": "Python 3",
   "language": "python",
   "name": "python3"
  },
  "language_info": {
   "codemirror_mode": {
    "name": "ipython",
    "version": 3
   },
   "file_extension": ".py",
   "mimetype": "text/x-python",
   "name": "python",
   "nbconvert_exporter": "python",
   "pygments_lexer": "ipython3",
   "version": "3.8.3"
  },
  "toc-autonumbering": true
 },
 "nbformat": 4,
 "nbformat_minor": 5
}
