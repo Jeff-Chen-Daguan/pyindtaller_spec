{
 "cells": [
  {
   "cell_type": "markdown",
   "metadata": {},
   "source": [
    "- 冠錞要求的格式:\n",
    "    1. sample_date格式是m/d/yy (文字) i.e. 2/9/21 = 2021年2月9日\n",
    "    2. judge_date跟kill_date是民國 i.e. 110.02.13 (文字)"
   ]
  },
  {
   "cell_type": "code",
   "execution_count": 1,
   "metadata": {},
   "outputs": [],
   "source": [
    "import pandas as pd\n",
    "import numpy as np\n",
    "from datetime import datetime"
   ]
  },
  {
   "cell_type": "code",
   "execution_count": 2,
   "metadata": {},
   "outputs": [
    {
     "data": {
      "text/html": [
       "<div>\n",
       "<style scoped>\n",
       "    .dataframe tbody tr th:only-of-type {\n",
       "        vertical-align: middle;\n",
       "    }\n",
       "\n",
       "    .dataframe tbody tr th {\n",
       "        vertical-align: top;\n",
       "    }\n",
       "\n",
       "    .dataframe thead th {\n",
       "        text-align: right;\n",
       "    }\n",
       "</style>\n",
       "<table border=\"1\" class=\"dataframe\">\n",
       "  <thead>\n",
       "    <tr style=\"text-align: right;\">\n",
       "      <th></th>\n",
       "      <th>sample_date</th>\n",
       "      <th>judge_date</th>\n",
       "      <th>kill_date</th>\n",
       "    </tr>\n",
       "  </thead>\n",
       "  <tbody>\n",
       "    <tr>\n",
       "      <th>1</th>\n",
       "      <td>01/07/15</td>\n",
       "      <td>104.01.11</td>\n",
       "      <td>104.01.11</td>\n",
       "    </tr>\n",
       "    <tr>\n",
       "      <th>2</th>\n",
       "      <td>01/08/15</td>\n",
       "      <td>104.01.11</td>\n",
       "      <td>104.01.11</td>\n",
       "    </tr>\n",
       "    <tr>\n",
       "      <th>3</th>\n",
       "      <td>01/08/15</td>\n",
       "      <td>104.01.11</td>\n",
       "      <td>104.01.11</td>\n",
       "    </tr>\n",
       "  </tbody>\n",
       "</table>\n",
       "</div>"
      ],
      "text/plain": [
       "  sample_date judge_date  kill_date\n",
       "1    01/07/15  104.01.11  104.01.11\n",
       "2    01/08/15  104.01.11  104.01.11\n",
       "3    01/08/15  104.01.11  104.01.11"
      ]
     },
     "execution_count": 2,
     "metadata": {},
     "output_type": "execute_result"
    }
   ],
   "source": [
    "file_path = r\"G:\\我的雲端硬碟\\work\\2021\\1.農試所_大禽流感專案\\1.資料\\案例場資料_高博提供\\20210520 確診案例 for EMCT.xlsx\"\n",
    "df = pd.read_excel(file_path, parse_dates=True ,usecols = \"A:Y\" ,engine='openpyxl')\n",
    "\n",
    "# 拿掉中文欄位名稱\n",
    "df.drop(df.index[0], inplace=True) \n",
    "\n",
    "\n",
    "# 日期格式轉換\n",
    "df.loc[:,\"sample_date\"] = df.loc[:,\"sample_date\"].apply(\n",
    "                                                    lambda d: d.strftime(\"%m/%d/%y\") \n",
    "                                                                if isinstance(d, datetime) else np.nan)\n",
    "for col in [\"judge_date\", \"kill_date\"]:\n",
    "    df.loc[:,col] = df.loc[:,col].apply(lambda d: str(d.year-1911) + d.strftime(\".%m.%d\") \n",
    "                                                    if isinstance(d, datetime) else np.nan)\n",
    "# 檢查\n",
    "df.loc[:,[\"sample_date\", \"judge_date\", \"kill_date\"]].head(3)"
   ]
  },
  {
   "cell_type": "code",
   "execution_count": 3,
   "metadata": {},
   "outputs": [],
   "source": [
    "# 換行符號、空白拿掉\n",
    "replace_to_nothing_lst = ['\\n', '\\r', ' ', '　']\n",
    "for col in df.columns:\n",
    "    for re_s in replace_to_nothing_lst:\n",
    "        df.loc[:,col] = df.loc[:,col].apply(lambda s: s.replace(re_s,\"\") \n",
    "                                            if isinstance(s, str) else s)"
   ]
  },
  {
   "cell_type": "code",
   "execution_count": 4,
   "metadata": {},
   "outputs": [
    {
     "name": "stdout",
     "output_type": "stream",
     "text": [
      "1596\n",
      "1596\n"
     ]
    }
   ],
   "source": [
    "#空值列拿掉\n",
    "print(len(df))\n",
    "df.dropna(how='all', inplace=True)\n",
    "print(len(df))\n",
    "# df.reset_index(drop=True, inplace=True) #可有可無"
   ]
  },
  {
   "cell_type": "code",
   "execution_count": 15,
   "metadata": {},
   "outputs": [],
   "source": [
    "# df.tail()"
   ]
  },
  {
   "cell_type": "code",
   "execution_count": 7,
   "metadata": {},
   "outputs": [
    {
     "name": "stdout",
     "output_type": "stream",
     "text": [
      "<class 'pandas.core.frame.DataFrame'>\n",
      "Int64Index: 1596 entries, 1 to 1596\n",
      "Data columns (total 25 columns):\n",
      " #   Column          Non-Null Count  Dtype  \n",
      "---  ------          --------------  -----  \n",
      " 0   Epi_Pre_Num     195 non-null    object \n",
      " 1   FarmName        1355 non-null   object \n",
      " 2   Owner           1591 non-null   object \n",
      " 3   sample_date     1596 non-null   object \n",
      " 4   countyname      1596 non-null   object \n",
      " 5   townname        1596 non-null   object \n",
      " 6   case_source     1596 non-null   object \n",
      " 7   avian_species   1596 non-null   object \n",
      " 8   judge_date      1596 non-null   object \n",
      " 9   virus_isolated  1 non-null      object \n",
      " 10  AI_2            1544 non-null   object \n",
      " 11  AI_2_general    1542 non-null   object \n",
      " 12  AI_2_others     54 non-null     object \n",
      " 13  AI_1            1596 non-null   object \n",
      " 14  kill_date       1476 non-null   object \n",
      " 15  kill_num        1495 non-null   float64\n",
      " 16  lat             1588 non-null   object \n",
      " 17  lng             1588 non-null   float64\n",
      " 18  farm_type       1595 non-null   object \n",
      " 19  case_type       1596 non-null   object \n",
      " 20  sick_eek_age    560 non-null    object \n",
      " 21  半徑1km 內禽場數      23 non-null     float64\n",
      " 22  半徑1-3km 內禽場數    23 non-null     float64\n",
      " 23  mix_type        17 non-null     object \n",
      " 24  memo            101 non-null    object \n",
      "dtypes: float64(4), object(21)\n",
      "memory usage: 324.2+ KB\n"
     ]
    }
   ],
   "source": [
    "# 輸出\n",
    "output_name = \"禽流感案例_20210520版\"\n",
    "output_path = r\"G:\\我的雲端硬碟\\work\\2021\\1.農試所_大禽流感專案\\1.資料\\案例場資料_高博提供\\大冠清理\\/\" + output_name + \".csv\"\n",
    "df.to_csv(output_path, index=False)\n",
    "df.info()"
   ]
  },
  {
   "cell_type": "markdown",
   "metadata": {},
   "source": [
    "## TEST"
   ]
  },
  {
   "cell_type": "code",
   "execution_count": 34,
   "metadata": {},
   "outputs": [],
   "source": [
    "# mask = (df[\"judge_date\"]>\"110.01.01\") & (df[\"AI_1\"].isin([\"HPAI\"]))\n",
    "# df[mask]"
   ]
  },
  {
   "cell_type": "code",
   "execution_count": 33,
   "metadata": {},
   "outputs": [],
   "source": [
    "df.loc[:,\"sample_date_dt\"] = pd.to_datetime(df[\"sample_date\"] ,format=\"%m/%d/%y\" , errors='coerce')"
   ]
  },
  {
   "cell_type": "code",
   "execution_count": 35,
   "metadata": {},
   "outputs": [
    {
     "name": "stdout",
     "output_type": "stream",
     "text": [
      "10\n"
     ]
    }
   ],
   "source": [
    "mask = (df[\"sample_date_dt\"] >= datetime(2021, 1, 1)) & (df[\"AI_1\"].isin([\"HPAI\"]))\n",
    "print(len(df[mask]))"
   ]
  },
  {
   "cell_type": "code",
   "execution_count": 36,
   "metadata": {},
   "outputs": [
    {
     "data": {
      "text/plain": [
       "肉鵝      4\n",
       "種鵝      3\n",
       "黑羽土雞    2\n",
       "紅羽土雞    1\n",
       "Name: avian_species, dtype: int64"
      ]
     },
     "execution_count": 36,
     "metadata": {},
     "output_type": "execute_result"
    }
   ],
   "source": [
    "df[mask][\"avian_species\"].value_counts()"
   ]
  },
  {
   "cell_type": "code",
   "execution_count": 38,
   "metadata": {},
   "outputs": [],
   "source": [
    "# df[mask]"
   ]
  },
  {
   "cell_type": "markdown",
   "metadata": {},
   "source": [
    "## POST 案例資料"
   ]
  },
  {
   "cell_type": "markdown",
   "metadata": {},
   "source": [
    "- [如何更新案例場資料](https://hackmd.io/@daguanting/HJErpKn5u)"
   ]
  }
 ],
 "metadata": {
  "kernelspec": {
   "display_name": "Python 3",
   "language": "python",
   "name": "python3"
  },
  "language_info": {
   "codemirror_mode": {
    "name": "ipython",
    "version": 3
   },
   "file_extension": ".py",
   "mimetype": "text/x-python",
   "name": "python",
   "nbconvert_exporter": "python",
   "pygments_lexer": "ipython3",
   "version": "3.8.3"
  }
 },
 "nbformat": 4,
 "nbformat_minor": 4
}
