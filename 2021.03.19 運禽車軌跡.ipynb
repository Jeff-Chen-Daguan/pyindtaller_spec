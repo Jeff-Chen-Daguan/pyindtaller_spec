{
 "cells": [
  {
   "cell_type": "markdown",
   "metadata": {},
   "source": [
    "2021.03.19 運禽車軌跡"
   ]
  },
  {
   "cell_type": "code",
   "execution_count": 53,
   "metadata": {},
   "outputs": [],
   "source": [
    "import pandas as pd\n",
    "import numpy as np\n",
    "import geopandas as gpd\n",
    "from shapely.geometry import Point, LineString, shape\n",
    "import folium\n",
    "from folium import plugins\n",
    "import datetime\n",
    "# from polib.CsvEngn import *\n",
    "%matplotlib inline"
   ]
  },
  {
   "cell_type": "markdown",
   "metadata": {},
   "source": [
    "# 讀入 單一車輛/司機 資料"
   ]
  },
  {
   "cell_type": "code",
   "execution_count": 6,
   "metadata": {},
   "outputs": [],
   "source": [
    "path = r\"G:\\我的雲端硬碟\\work\\2021\\1.農試所_大禽流感專案\\1.資料\\車軌資料、家禽健康證明書\\漢名_運禽車資料\\行駛軌跡(025-H9)-210528160826.xls\"\n",
    "df = pd.read_excel(path, parse_dates=True ,usecols = \"A:I\" , skiprows=3)"
   ]
  },
  {
   "cell_type": "code",
   "execution_count": 7,
   "metadata": {},
   "outputs": [
    {
     "data": {
      "text/html": [
       "<div>\n",
       "<style scoped>\n",
       "    .dataframe tbody tr th:only-of-type {\n",
       "        vertical-align: middle;\n",
       "    }\n",
       "\n",
       "    .dataframe tbody tr th {\n",
       "        vertical-align: top;\n",
       "    }\n",
       "\n",
       "    .dataframe thead th {\n",
       "        text-align: right;\n",
       "    }\n",
       "</style>\n",
       "<table border=\"1\" class=\"dataframe\">\n",
       "  <thead>\n",
       "    <tr style=\"text-align: right;\">\n",
       "      <th></th>\n",
       "      <th>車 號</th>\n",
       "      <th>車 機</th>\n",
       "      <th>司 機</th>\n",
       "      <th>GPS時間</th>\n",
       "      <th>經 度</th>\n",
       "      <th>緯 度</th>\n",
       "      <th>位 置</th>\n",
       "      <th>車 速</th>\n",
       "      <th>狀 態</th>\n",
       "    </tr>\n",
       "  </thead>\n",
       "  <tbody>\n",
       "    <tr>\n",
       "      <th>0</th>\n",
       "      <td>025-H9</td>\n",
       "      <td>359841083374516</td>\n",
       "      <td>江祈安</td>\n",
       "      <td>2021/05/26 00:00:12</td>\n",
       "      <td>120.480687</td>\n",
       "      <td>23.667058</td>\n",
       "      <td>630台灣雲林縣斗南鎮信義路186-230號</td>\n",
       "      <td>0</td>\n",
       "      <td>熄火</td>\n",
       "    </tr>\n",
       "    <tr>\n",
       "      <th>1</th>\n",
       "      <td>025-H9</td>\n",
       "      <td>359841083374516</td>\n",
       "      <td>江祈安</td>\n",
       "      <td>2021/05/26 00:06:12</td>\n",
       "      <td>120.480652</td>\n",
       "      <td>23.667013</td>\n",
       "      <td>630台灣雲林縣斗南鎮信義路186-230號</td>\n",
       "      <td>0</td>\n",
       "      <td>熄火</td>\n",
       "    </tr>\n",
       "    <tr>\n",
       "      <th>2</th>\n",
       "      <td>025-H9</td>\n",
       "      <td>359841083374516</td>\n",
       "      <td>江祈安</td>\n",
       "      <td>2021/05/26 00:12:12</td>\n",
       "      <td>120.480688</td>\n",
       "      <td>23.667048</td>\n",
       "      <td>630台灣雲林縣斗南鎮信義路186-230號</td>\n",
       "      <td>0</td>\n",
       "      <td>熄火</td>\n",
       "    </tr>\n",
       "    <tr>\n",
       "      <th>3</th>\n",
       "      <td>025-H9</td>\n",
       "      <td>359841083374516</td>\n",
       "      <td>江祈安</td>\n",
       "      <td>2021/05/26 00:18:12</td>\n",
       "      <td>120.480673</td>\n",
       "      <td>23.667065</td>\n",
       "      <td>630台灣雲林縣斗南鎮信義路186-230號</td>\n",
       "      <td>0</td>\n",
       "      <td>熄火</td>\n",
       "    </tr>\n",
       "    <tr>\n",
       "      <th>4</th>\n",
       "      <td>025-H9</td>\n",
       "      <td>359841083374516</td>\n",
       "      <td>江祈安</td>\n",
       "      <td>2021/05/26 00:24:12</td>\n",
       "      <td>120.480677</td>\n",
       "      <td>23.667083</td>\n",
       "      <td>630台灣雲林縣斗南鎮信義路186-230號</td>\n",
       "      <td>0</td>\n",
       "      <td>熄火</td>\n",
       "    </tr>\n",
       "  </tbody>\n",
       "</table>\n",
       "</div>"
      ],
      "text/plain": [
       "      車 號              車 機  司 機                GPS時間         經 度        緯 度  \\\n",
       "0  025-H9  359841083374516  江祈安  2021/05/26 00:00:12  120.480687  23.667058   \n",
       "1  025-H9  359841083374516  江祈安  2021/05/26 00:06:12  120.480652  23.667013   \n",
       "2  025-H9  359841083374516  江祈安  2021/05/26 00:12:12  120.480688  23.667048   \n",
       "3  025-H9  359841083374516  江祈安  2021/05/26 00:18:12  120.480673  23.667065   \n",
       "4  025-H9  359841083374516  江祈安  2021/05/26 00:24:12  120.480677  23.667083   \n",
       "\n",
       "                      位 置  車 速 狀 態  \n",
       "0  630台灣雲林縣斗南鎮信義路186-230號    0  熄火  \n",
       "1  630台灣雲林縣斗南鎮信義路186-230號    0  熄火  \n",
       "2  630台灣雲林縣斗南鎮信義路186-230號    0  熄火  \n",
       "3  630台灣雲林縣斗南鎮信義路186-230號    0  熄火  \n",
       "4  630台灣雲林縣斗南鎮信義路186-230號    0  熄火  "
      ]
     },
     "execution_count": 7,
     "metadata": {},
     "output_type": "execute_result"
    }
   ],
   "source": [
    "df.head()"
   ]
  },
  {
   "cell_type": "code",
   "execution_count": 14,
   "metadata": {},
   "outputs": [],
   "source": [
    "df.rename(columns={\"經 度\":\"X\",\n",
    "                   \"緯 度\":\"Y\",\n",
    "                   \"GPS時間\":\"GPSDATETIME\"\n",
    "                  }, inplace=True)"
   ]
  },
  {
   "cell_type": "code",
   "execution_count": 11,
   "metadata": {},
   "outputs": [
    {
     "name": "stderr",
     "output_type": "stream",
     "text": [
      "C:\\Users\\EMCT_Jeff\\anaconda3\\lib\\site-packages\\pyproj\\crs\\crs.py:53: FutureWarning: '+init=<authority>:<code>' syntax is deprecated. '<authority>:<code>' is the preferred initialization method. When making the change, be mindful of axis order changes: https://pyproj4.github.io/pyproj/stable/gotchas.html#axis-order-changes-in-proj-6\n",
      "  return _prepare_from_string(\" \".join(pjargs))\n"
     ]
    }
   ],
   "source": [
    "wgs84 = {'init': 'epsg:4326'}\n",
    "gdf = gpd.GeoDataFrame(\n",
    "    df, geometry=gpd.points_from_xy(df.X, df.Y), crs=wgs84)"
   ]
  },
  {
   "cell_type": "code",
   "execution_count": 12,
   "metadata": {},
   "outputs": [
    {
     "data": {
      "text/plain": [
       "<AxesSubplot:>"
      ]
     },
     "execution_count": 12,
     "metadata": {},
     "output_type": "execute_result"
    },
    {
     "data": {
      "image/png": "[encoded data removed]",
      "text/plain": [
       "<Figure size 432x288 with 1 Axes>"
      ]
     },
     "metadata": {
      "needs_background": "light"
     },
     "output_type": "display_data"
    }
   ],
   "source": [
    "# 總行車軌跡\n",
    "gdf.plot()"
   ]
  },
  {
   "cell_type": "code",
   "execution_count": 15,
   "metadata": {},
   "outputs": [],
   "source": [
    "gdf.loc[:,\"GPSDATETIME\"] = pd.to_datetime(gdf.loc[:,\"GPSDATETIME\"])\n",
    "gdf.loc[:,\"date\"] = gdf.loc[:,\"GPSDATETIME\"].dt.date"
   ]
  },
  {
   "cell_type": "code",
   "execution_count": 16,
   "metadata": {},
   "outputs": [
    {
     "data": {
      "text/plain": [
       "array([datetime.date(2021, 5, 26), datetime.date(2021, 5, 27)],\n",
       "      dtype=object)"
      ]
     },
     "execution_count": 16,
     "metadata": {},
     "output_type": "execute_result"
    }
   ],
   "source": [
    "gdf.loc[:,\"date\"].unique()"
   ]
  },
  {
   "cell_type": "markdown",
   "metadata": {},
   "source": [
    "## 挑出有移動行為的日期"
   ]
  },
  {
   "cell_type": "code",
   "execution_count": 17,
   "metadata": {},
   "outputs": [
    {
     "data": {
      "text/html": [
       "<div>\n",
       "<style scoped>\n",
       "    .dataframe tbody tr th:only-of-type {\n",
       "        vertical-align: middle;\n",
       "    }\n",
       "\n",
       "    .dataframe tbody tr th {\n",
       "        vertical-align: top;\n",
       "    }\n",
       "\n",
       "    .dataframe thead th {\n",
       "        text-align: right;\n",
       "    }\n",
       "</style>\n",
       "<table border=\"1\" class=\"dataframe\">\n",
       "  <thead>\n",
       "    <tr style=\"text-align: right;\">\n",
       "      <th></th>\n",
       "      <th>date</th>\n",
       "      <th>X</th>\n",
       "    </tr>\n",
       "  </thead>\n",
       "  <tbody>\n",
       "    <tr>\n",
       "      <th>0</th>\n",
       "      <td>2021-05-26</td>\n",
       "      <td>197</td>\n",
       "    </tr>\n",
       "    <tr>\n",
       "      <th>1</th>\n",
       "      <td>2021-05-27</td>\n",
       "      <td>216</td>\n",
       "    </tr>\n",
       "  </tbody>\n",
       "</table>\n",
       "</div>"
      ],
      "text/plain": [
       "         date    X\n",
       "0  2021-05-26  197\n",
       "1  2021-05-27  216"
      ]
     },
     "execution_count": 17,
     "metadata": {},
     "output_type": "execute_result"
    }
   ],
   "source": [
    "# 以X座標的變化來判斷當天是否有出車\n",
    "date_X_nuniq_df = gdf[[\"date\", \"X\"]].groupby(\"date\").X.nunique().reset_index()\n",
    "date_X_nuniq_df"
   ]
  },
  {
   "cell_type": "markdown",
   "metadata": {},
   "source": [
    "## 判斷為有值勤的日期: 當日不重複X座標大於100個"
   ]
  },
  {
   "cell_type": "code",
   "execution_count": 18,
   "metadata": {},
   "outputs": [
    {
     "data": {
      "text/plain": [
       "0    2021-05-26\n",
       "1    2021-05-27\n",
       "Name: date, dtype: object"
      ]
     },
     "execution_count": 18,
     "metadata": {},
     "output_type": "execute_result"
    }
   ],
   "source": [
    "move_date_lst = date_X_nuniq_df.loc[date_X_nuniq_df.X>100, \"date\"]\n",
    "move_date_lst"
   ]
  },
  {
   "cell_type": "markdown",
   "metadata": {},
   "source": [
    "## 挑選日期"
   ]
  },
  {
   "cell_type": "code",
   "execution_count": 19,
   "metadata": {},
   "outputs": [],
   "source": [
    "# mask = gdf.loc[:,\"date\"].isin([datetime.date(2020, 10, 9)]) \n",
    "\n",
    "#觀察每一天\n",
    "mask = gdf.loc[:,\"date\"].isin(move_date_lst)\n",
    "gdf_pic = gdf[mask].reset_index(drop=True)"
   ]
  },
  {
   "cell_type": "markdown",
   "metadata": {},
   "source": [
    "計算點位之間的時間差、距離差"
   ]
  },
  {
   "cell_type": "code",
   "execution_count": 20,
   "metadata": {},
   "outputs": [
    {
     "name": "stderr",
     "output_type": "stream",
     "text": [
      "<ipython-input-20-b5c245ac6972>:3: UserWarning: Geometry is in a geographic CRS. Results from 'distance' are likely incorrect. Use 'GeoSeries.to_crs()' to re-project geometries to a projected CRS before this operation.\n",
      "\n",
      "  gdf_pic.loc[:,\"position_lag1_diff\"] = gdf_pic[\"geometry\"].distance(gdf_pic[\"position_lag1\"])\n",
      "<ipython-input-20-b5c245ac6972>:3: UserWarning: CRS mismatch between the CRS of left geometries and the CRS of right geometries.\n",
      "Use `to_crs()` to reproject one of the input geometries to match the CRS of the other.\n",
      "\n",
      "Left CRS: +init=epsg:4326 +type=crs\n",
      "Right CRS: None\n",
      "\n",
      "  gdf_pic.loc[:,\"position_lag1_diff\"] = gdf_pic[\"geometry\"].distance(gdf_pic[\"position_lag1\"])\n"
     ]
    },
    {
     "data": {
      "text/plain": [
       "count    504.000000\n",
       "mean       0.014837\n",
       "std        0.027611\n",
       "min        0.000005\n",
       "25%        0.000051\n",
       "50%        0.000154\n",
       "75%        0.015558\n",
       "max        0.212489\n",
       "Name: position_lag1_diff, dtype: float64"
      ]
     },
     "execution_count": 20,
     "metadata": {},
     "output_type": "execute_result"
    }
   ],
   "source": [
    "gdf_pic.loc[:,\"position_lag1\"] = gdf_pic.loc[:,\"geometry\"].shift(periods=1)\n",
    "gdf_pic.to_crs('EPSG:5234')\n",
    "gdf_pic.loc[:,\"position_lag1_diff\"] = gdf_pic[\"geometry\"].distance(gdf_pic[\"position_lag1\"])\n",
    "gdf_pic.loc[:,\"position_lag1_diff\"].describe()"
   ]
  },
  {
   "cell_type": "code",
   "execution_count": 21,
   "metadata": {},
   "outputs": [
    {
     "data": {
      "text/plain": [
       "count                          504\n",
       "mean     0 days 00:05:42.704365079\n",
       "std      0 days 00:01:56.261727003\n",
       "min                0 days 00:05:00\n",
       "25%                0 days 00:05:01\n",
       "50%                0 days 00:06:00\n",
       "75%                0 days 00:06:00\n",
       "max                0 days 00:46:04\n",
       "Name: time_diff, dtype: object"
      ]
     },
     "execution_count": 21,
     "metadata": {},
     "output_type": "execute_result"
    }
   ],
   "source": [
    "gdf_pic.loc[:,\"time_lag1\"] = gdf_pic.loc[:,\"GPSDATETIME\"].shift(periods=1)\n",
    "gdf_pic.loc[:,\"time_diff\"] = (gdf_pic.loc[:,\"GPSDATETIME\"] - gdf_pic.loc[:,\"time_lag1\"])\n",
    "gdf_pic.loc[:,\"time_diff\"].describe()"
   ]
  },
  {
   "cell_type": "code",
   "execution_count": 23,
   "metadata": {},
   "outputs": [
    {
     "data": {
      "text/plain": [
       "count    504.000000\n",
       "mean       0.014837\n",
       "std        0.027611\n",
       "min        0.000005\n",
       "25%        0.000051\n",
       "50%        0.000154\n",
       "75%        0.015558\n",
       "max        0.212489\n",
       "Name: position_lag1_diff, dtype: float64"
      ]
     },
     "execution_count": 23,
     "metadata": {},
     "output_type": "execute_result"
    }
   ],
   "source": [
    "# 運禽車的移動\n",
    "gdf_pic.loc[:,\"position_lag1_diff\"].describe()"
   ]
  },
  {
   "cell_type": "code",
   "execution_count": 32,
   "metadata": {},
   "outputs": [
    {
     "data": {
      "text/plain": [
       "array(['熄火', '停留', '行駛中', '怠速', '超速', '國道超速'], dtype=object)"
      ]
     },
     "execution_count": 32,
     "metadata": {},
     "output_type": "execute_result"
    }
   ],
   "source": [
    "gdf_pic[\"狀 態\"].unique()"
   ]
  },
  {
   "cell_type": "code",
   "execution_count": 76,
   "metadata": {},
   "outputs": [
    {
     "data": {
      "text/plain": [
       "count                           63\n",
       "mean     0 days 00:05:05.317460317\n",
       "std      0 days 00:00:11.033417563\n",
       "min                0 days 00:05:00\n",
       "25%                0 days 00:05:00\n",
       "50%                0 days 00:05:01\n",
       "75%                0 days 00:05:03\n",
       "max                0 days 00:05:50\n",
       "Name: time_sum, dtype: object"
      ]
     },
     "execution_count": 76,
     "metadata": {},
     "output_type": "execute_result"
    }
   ],
   "source": [
    "# 運禽車的每個點位的停留時間\n",
    "mask_stay = gdf_pic[\"狀 態\"].isin(['停留'])\n",
    "gdf_pic.loc[mask_stay,\"geometry_str\"] = gdf_pic.loc[mask_stay,\"geometry\"].astype(str)\n",
    "point_time_sum_df = gdf_pic.loc[mask_stay, [\"geometry_str\",\"time_diff\"]].fillna(pd.Timedelta(seconds=0)).groupby(\"geometry_str\",as_index=False).sum()\n",
    "point_time_sum_df.loc[:, \"X\"] = point_time_sum_df.loc[:,\"geometry_str\"].apply(lambda p:\n",
    "                                                                             float(p.split(\" \")[1].replace(\"(\",\"\")))\n",
    "point_time_sum_df.loc[:, \"Y\"] = point_time_sum_df.loc[:,\"geometry_str\"].apply(lambda p:\n",
    "                                                                             float(p.split(\" \")[2].replace(\")\",\"\")))\n",
    "point_time_sum_df.rename(columns={\"time_diff\":\"time_sum\"}, inplace=True)\n",
    "point_time_sum_df['time_sum'].describe()"
   ]
  },
  {
   "cell_type": "code",
   "execution_count": 77,
   "metadata": {},
   "outputs": [],
   "source": [
    "# (option)計算每個點位最大/最小的時間\n",
    "point_time_range_gp = gdf_pic.loc[mask_stay,[\"geometry_str\",\"GPSDATETIME\"]].groupby(\"geometry_str\",as_index=False)\n",
    "#min\n",
    "point_time_min_df = point_time_range_gp.min()\n",
    "point_time_min_df.rename(columns={\"GPSDATETIME\":\"start_time\"}, inplace=True)\n",
    "#Max\n",
    "point_time_max_df = point_time_range_gp.max()\n",
    "point_time_max_df.rename(columns={\"GPSDATETIME\":\"end_time\"}, inplace=True)\n",
    "\n",
    "# 合併\n",
    "point_time_sum_maxmin_df = point_time_sum_df.merge(point_time_min_df, how=\"left\", on=\"geometry_str\")\n",
    "point_time_sum_maxmin_df = point_time_sum_maxmin_df.merge(point_time_max_df, how=\"left\", on=\"geometry_str\")\n",
    "point_time_sum_df = point_time_sum_maxmin_df.copy(deep=True)"
   ]
  },
  {
   "cell_type": "code",
   "execution_count": 78,
   "metadata": {},
   "outputs": [],
   "source": [
    "# Timestamp -> formated str\n",
    "point_time_sum_df.loc[:,\"start_time\"] = point_time_sum_df.loc[:,\"start_time\"].dt.strftime(\"%Y/%m/%d, %H:%M:%S\")\n",
    "point_time_sum_df.loc[:,\"end_time\"] = point_time_sum_df.loc[:,\"end_time\"].dt.strftime(\"%Y/%m/%d, %H:%M:%S\")"
   ]
  },
  {
   "cell_type": "code",
   "execution_count": 79,
   "metadata": {},
   "outputs": [
    {
     "name": "stderr",
     "output_type": "stream",
     "text": [
      "C:\\Users\\EMCT_Jeff\\anaconda3\\lib\\site-packages\\pyproj\\crs\\crs.py:53: FutureWarning: '+init=<authority>:<code>' syntax is deprecated. '<authority>:<code>' is the preferred initialization method. When making the change, be mindful of axis order changes: https://pyproj4.github.io/pyproj/stable/gotchas.html#axis-order-changes-in-proj-6\n",
      "  return _prepare_from_string(\" \".join(pjargs))\n"
     ]
    }
   ],
   "source": [
    "point_time_sum_gdf = gpd.GeoDataFrame(\n",
    "    point_time_sum_df, geometry=gpd.points_from_xy(point_time_sum_df.X, point_time_sum_df.Y), crs=wgs84)"
   ]
  },
  {
   "cell_type": "markdown",
   "metadata": {},
   "source": [
    "### 停留點條件篩選: 停留5分鐘以上，2小時以下"
   ]
  },
  {
   "cell_type": "code",
   "execution_count": 80,
   "metadata": {},
   "outputs": [
    {
     "data": {
      "text/plain": [
       "count                           63\n",
       "mean     0 days 00:05:05.317460317\n",
       "std      0 days 00:00:11.033417563\n",
       "min                0 days 00:05:00\n",
       "25%                0 days 00:05:00\n",
       "50%                0 days 00:05:01\n",
       "75%                0 days 00:05:03\n",
       "max                0 days 00:05:50\n",
       "Name: time_sum, dtype: object"
      ]
     },
     "execution_count": 80,
     "metadata": {},
     "output_type": "execute_result"
    }
   ],
   "source": [
    "point_time_sum_gdf.time_sum.describe()"
   ]
  },
  {
   "cell_type": "code",
   "execution_count": 89,
   "metadata": {},
   "outputs": [],
   "source": [
    "# 篩選條件 停留5分鐘以上，2小時以下\n",
    "mask = (point_time_sum_gdf[\"time_sum\"]>= datetime.timedelta(seconds=10, minutes=5, hours=0)) \\\n",
    "                & (point_time_sum_gdf[\"time_sum\"]< datetime.timedelta(seconds=0, minutes=0, hours=2))"
   ]
  },
  {
   "cell_type": "code",
   "execution_count": 90,
   "metadata": {},
   "outputs": [
    {
     "data": {
      "text/plain": [
       "10"
      ]
     },
     "execution_count": 90,
     "metadata": {},
     "output_type": "execute_result"
    }
   ],
   "source": [
    "len(point_time_sum_gdf[mask])"
   ]
  },
  {
   "cell_type": "markdown",
   "metadata": {},
   "source": [
    "## 畫圖"
   ]
  },
  {
   "cell_type": "code",
   "execution_count": 83,
   "metadata": {},
   "outputs": [],
   "source": [
    "locations = point_time_sum_gdf[mask][['Y', 'X']]\n",
    "locationlist = locations.values.tolist()"
   ]
  },
  {
   "cell_type": "code",
   "execution_count": 84,
   "metadata": {},
   "outputs": [],
   "source": [
    "time_sums = point_time_sum_gdf[mask]['time_sum'].apply(lambda t: str(t).split(\"days\")[1].split(\".\")[0])\n",
    "time_sumslist = time_sums.values.tolist()"
   ]
  },
  {
   "cell_type": "code",
   "execution_count": 85,
   "metadata": {},
   "outputs": [],
   "source": [
    "# (option)時間動畫\n",
    "\n",
    "features = [{\n",
    "    'geometry': {\n",
    "        'coordinates': list(row['geometry'].coords)[0],\n",
    "        'type': 'Point'\n",
    "    },\n",
    "    'properties': {\n",
    "        'icon': 'marker',\n",
    "        'iconstyle': {\n",
    "            'iconSize': [40, 40],\n",
    "            'iconUrl':\n",
    "            'https://www.flaticon.com/svg/vstatic/svg/664/664468.svg?token=exp=1616138018~hmac=c04c6983e10730773e5f5f124f7b42e5'\n",
    "        },\n",
    "        'id': 'house',\n",
    "        'popup': 1,\n",
    "        'times': [row[\"start_time\"],row[\"end_time\"]]\n",
    "    },\n",
    "    'type': 'Feature'\n",
    "}\n",
    "    for idx,row in point_time_sum_gdf.iterrows()\n",
    "]"
   ]
  },
  {
   "cell_type": "code",
   "execution_count": 86,
   "metadata": {},
   "outputs": [
    {
     "data": {
      "text/html": [
       "<div style=\"width:100%;\"><div style=\"position:relative;width:100%;height:0;padding-bottom:60%;\"><span style=\"color:#565656\">Make this Notebook Trusted to load map: File -> Trust Notebook</span><iframe src=\"about:blank\" style=\"position:absolute;width:100%;height:100%;left:0;top:0;border:none !important;\" data-html=PCFET0NUWVBFIGh0bWw+CjxoZWFkPiAgICAKICAgIDxtZXRhIGh0dHAtZXF1aXY9ImNvbnRlbnQtdHlwZSIgY29udGVudD0idGV4dC9odG1sOyBjaGFyc2V0PVVURi04IiAvPgogICAgCiAgICAgICAgPHNjcmlwdD4KICAgICAgICAgICAgTF9OT19UT1VDSCA9IGZhbHNlOwogICAgICAgICAgICBMX0RJU0FCTEVfM0QgPSBmYWxzZTsKICAgICAgICA8L3NjcmlwdD4KICAgIAogICAgPHNjcmlwdCBzcmM9Imh0dHBzOi8vY2RuLmpzZGVsaXZyLm5ldC9ucG0vbGVhZmxldEAxLjYuMC9kaXN0L2xlYWZsZXQuanMiPjwvc2NyaXB0PgogICAgPHNjcmlwdCBzcmM9Imh0dHBzOi8vY29kZS5qcXVlcnkuY29tL2pxdWVyeS0xLjEyLjQubWluLmpzIj48L3NjcmlwdD4KICAgIDxzY3JpcHQgc3JjPSJodHRwczovL21heGNkbi5ib290c3RyYXBjZG4uY29tL2Jvb3RzdHJhcC8zLjIuMC9qcy9ib290c3RyYXAubWluLmpzIj48L3NjcmlwdD4KICAgIDxzY3JpcHQgc3JjPSJodHRwczovL2NkbmpzLmNsb3VkZmxhcmUuY29tL2FqYXgvbGlicy9MZWFmbGV0LmF3ZXNvbWUtbWFya2Vycy8yLjAuMi9sZWFmbGV0LmF3ZXNvbWUtbWFya2Vycy5qcyI+PC9zY3JpcHQ+CiAgICA8bGluayByZWw9InN0eWxlc2hlZXQiIGhyZWY9Imh0dHBzOi8vY2RuLmpzZGVsaXZyLm5ldC9ucG0vbGVhZmxldEAxLjYuMC9kaXN0L2xlYWZsZXQuY3NzIi8+CiAgICA8bGluayByZWw9InN0eWxlc2hlZXQiIGhyZWY9Imh0dHBzOi8vbWF4Y2RuLmJvb3RzdHJhcGNkbi5jb20vYm9vdHN0cmFwLzMuMi4wL2Nzcy9ib290c3RyYXAubWluLmNzcyIvPgogICAgPGxpbmsgcmVsPSJzdHlsZXNoZWV0IiBocmVmPSJodHRwczovL21heGNkbi5ib290c3RyYXBjZG4uY29tL2Jvb3RzdHJhcC8zLjIuMC9jc3MvYm9vdHN0cmFwLXRoZW1lLm1pbi5jc3MiLz4KICAgIDxsaW5rIHJlbD0ic3R5bGVzaGVldCIgaHJlZj0iaHR0cHM6Ly9tYXhjZG4uYm9vdHN0cmFwY2RuLmNvbS9mb250LWF3ZXNvbWUvNC42LjMvY3NzL2ZvbnQtYXdlc29tZS5taW4uY3NzIi8+CiAgICA8bGluayByZWw9InN0eWxlc2hlZXQiIGhyZWY9Imh0dHBzOi8vY2RuanMuY2xvdWRmbGFyZS5jb20vYWpheC9saWJzL0xlYWZsZXQuYXdlc29tZS1tYXJrZXJzLzIuMC4yL2xlYWZsZXQuYXdlc29tZS1tYXJrZXJzLmNzcyIvPgogICAgPGxpbmsgcmVsPSJzdHlsZXNoZWV0IiBocmVmPSJodHRwczovL3Jhd2Nkbi5naXRoYWNrLmNvbS9weXRob24tdmlzdWFsaXphdGlvbi9mb2xpdW0vbWFzdGVyL2ZvbGl1bS90ZW1wbGF0ZXMvbGVhZmxldC5hd2Vzb21lLnJvdGF0ZS5jc3MiLz4KICAgIDxzdHlsZT5odG1sLCBib2R5IHt3aWR0aDogMTAwJTtoZWlnaHQ6IDEwMCU7bWFyZ2luOiAwO3BhZGRpbmc6IDA7fTwvc3R5bGU+CiAgICA8c3R5bGU+I21hcCB7cG9zaXRpb246YWJzb2x1dGU7dG9wOjA7Ym90dG9tOjA7cmlnaHQ6MDtsZWZ0OjA7fTwvc3R5bGU+CiAgICAKICAgICAgICAgICAgPG1ldGEgbmFtZT0idmlld3BvcnQiIGNvbnRlbnQ9IndpZHRoPWRldmljZS13aWR0aCwKICAgICAgICAgICAgICAgIGluaXRpYWwtc2NhbGU9MS4wLCBtYXhpbXVtLXNjYWxlPTEuMCwgdXNlci1zY2FsYWJsZT1ubyIgLz4KICAgICAgICAgICAgPHN0eWxlPgogICAgICAgICAgICAgICAgI21hcF84ZjE3ZGJhYjVlZjU0ZTU4OGI1ODVhOGQ0YTk4YTk5ZCB7CiAgICAgICAgICAgICAgICAgICAgcG9zaXRpb246IHJlbGF0aXZlOwogICAgICAgICAgICAgICAgICAgIHdpZHRoOiAxMDAuMCU7CiAgICAgICAgICAgICAgICAgICAgaGVpZ2h0OiAxMDAuMCU7CiAgICAgICAgICAgICAgICAgICAgbGVmdDogMC4wJTsKICAgICAgICAgICAgICAgICAgICB0b3A6IDAuMCU7CiAgICAgICAgICAgICAgICB9CiAgICAgICAgICAgIDwvc3R5bGU+CiAgICAgICAgCiAgICA8c2NyaXB0IHNyYz0iaHR0cHM6Ly9jZG5qcy5jbG91ZGZsYXJlLmNvbS9hamF4L2xpYnMvanF1ZXJ5LzIuMC4wL2pxdWVyeS5taW4uanMiPjwvc2NyaXB0PgogICAgPHNjcmlwdCBzcmM9Imh0dHBzOi8vY2RuanMuY2xvdWRmbGFyZS5jb20vYWpheC9saWJzL2pxdWVyeXVpLzEuMTAuMi9qcXVlcnktdWkubWluLmpzIj48L3NjcmlwdD4KICAgIDxzY3JpcHQgc3JjPSJodHRwczovL3Jhd2Nkbi5naXRoYWNrLmNvbS9uZXphc2EvaXNvODYwMS1qcy1wZXJpb2QvbWFzdGVyL2lzbzg2MDEubWluLmpzIj48L3NjcmlwdD4KICAgIDxzY3JpcHQgc3JjPSJodHRwczovL3Jhd2Nkbi5naXRoYWNrLmNvbS9zb2NpYi9MZWFmbGV0LlRpbWVEaW1lbnNpb24vbWFzdGVyL2Rpc3QvbGVhZmxldC50aW1lZGltZW5zaW9uLm1pbi5qcyI+PC9zY3JpcHQ+CiAgICA8bGluayByZWw9InN0eWxlc2hlZXQiIGhyZWY9Imh0dHBzOi8vY2RuanMuY2xvdWRmbGFyZS5jb20vYWpheC9saWJzL2hpZ2hsaWdodC5qcy84LjQvc3R5bGVzL2RlZmF1bHQubWluLmNzcyIvPgogICAgPGxpbmsgcmVsPSJzdHlsZXNoZWV0IiBocmVmPSJodHRwczovL3Jhd2Nkbi5naXRoYWNrLmNvbS9zb2NpYi9MZWFmbGV0LlRpbWVEaW1lbnNpb24vbWFzdGVyL2Rpc3QvbGVhZmxldC50aW1lZGltZW5zaW9uLmNvbnRyb2wubWluLmNzcyIvPgogICAgPHNjcmlwdCBzcmM9Imh0dHBzOi8vY2RuanMuY2xvdWRmbGFyZS5jb20vYWpheC9saWJzL21vbWVudC5qcy8yLjE4LjEvbW9tZW50Lm1pbi5qcyI+PC9zY3JpcHQ+CjwvaGVhZD4KPGJvZHk+ICAgIAogICAgCiAgICAgICAgICAgIDxkaXYgY2xhc3M9ImZvbGl1bS1tYXAiIGlkPSJtYXBfOGYxN2RiYWI1ZWY1NGU1ODhiNTg1YThkNGE5OGE5OWQiID48L2Rpdj4KICAgICAgICAKPC9ib2R5Pgo8c2NyaXB0PiAgICAKICAgIAogICAgICAgICAgICB2YXIgbWFwXzhmMTdkYmFiNWVmNTRlNTg4YjU4NWE4ZDRhOThhOTlkID0gTC5tYXAoCiAgICAgICAgICAgICAgICAibWFwXzhmMTdkYmFiNWVmNTRlNTg4YjU4NWE4ZDRhOThhOTlkIiwKICAgICAgICAgICAgICAgIHsKICAgICAgICAgICAgICAgICAgICBjZW50ZXI6IFsyMy43NjI0ODUsIDEyMC44MjczMjNdLAogICAgICAgICAgICAgICAgICAgIGNyczogTC5DUlMuRVBTRzM4NTcsCiAgICAgICAgICAgICAgICAgICAgem9vbTogOCwKICAgICAgICAgICAgICAgICAgICB6b29tQ29udHJvbDogdHJ1ZSwKICAgICAgICAgICAgICAgICAgICBwcmVmZXJDYW52YXM6IGZhbHNlLAogICAgICAgICAgICAgICAgfQogICAgICAgICAgICApOwoKICAgICAgICAgICAgCgogICAgICAgIAogICAgCiAgICAgICAgICAgIHZhciB0aWxlX2xheWVyX2ZlY2MyZDE4NWIzODQwM2JiNDEwOGM4NmZkOTc5NzExID0gTC50aWxlTGF5ZXIoCiAgICAgICAgICAgICAgICAiaHR0cDovL3RpbGUuc3RhbWVuLmNvbS90b25lci97en0ve3h9L3t5fS5wbmciLAogICAgICAgICAgICAgICAgeyJhdHRyaWJ1dGlvbiI6ICJodHRwczovL3N0YWNrb3ZlcmZsb3cuY29tL3F1ZXN0aW9ucy80ODMxODUzOC9mb2xpdW0tY3VzdG9tLW1hcC10aWxlcyIsICJkZXRlY3RSZXRpbmEiOiBmYWxzZSwgIm1heE5hdGl2ZVpvb20iOiAxOCwgIm1heFpvb20iOiAxOCwgIm1pblpvb20iOiAwLCAibm9XcmFwIjogZmFsc2UsICJvcGFjaXR5IjogMSwgInN1YmRvbWFpbnMiOiAiYWJjIiwgInRtcyI6IGZhbHNlfQogICAgICAgICAgICApLmFkZFRvKG1hcF84ZjE3ZGJhYjVlZjU0ZTU4OGI1ODVhOGQ0YTk4YTk5ZCk7CiAgICAgICAgCiAgICAKICAgICAgICAgICAgdmFyIGNpcmNsZV9tYXJrZXJfNzlhNDgyODJiNTJmNDNkMjkyNzNlMDliM2UzY2FjOTMgPSBMLmNpcmNsZU1hcmtlcigKICAgICAgICAgICAgICAgIFsyMy41MTAzNTgsIDEyMC4yNTczOTNdLAogICAgICAgICAgICAgICAgeyJidWJibGluZ01vdXNlRXZlbnRzIjogdHJ1ZSwgImNvbG9yIjogIiMzMTg2Y2MiLCAiZGFzaEFycmF5IjogbnVsbCwgImRhc2hPZmZzZXQiOiBudWxsLCAiZmlsbCI6IHRydWUsICJmaWxsQ29sb3IiOiAiIzMxODZjYyIsICJmaWxsT3BhY2l0eSI6IDAuMiwgImZpbGxSdWxlIjogImV2ZW5vZGQiLCAibGluZUNhcCI6ICJyb3VuZCIsICJsaW5lSm9pbiI6ICJyb3VuZCIsICJvcGFjaXR5IjogMS4wLCAicmFkaXVzIjogMTAsICJzdHJva2UiOiB0cnVlLCAid2VpZ2h0IjogM30KICAgICAgICAgICAgKS5hZGRUbyhtYXBfOGYxN2RiYWI1ZWY1NGU1ODhiNTg1YThkNGE5OGE5OWQpOwogICAgICAgIAogICAgCiAgICAgICAgdmFyIHBvcHVwXzQ4M2NlNzVlNjA0MjRmYTdiYzNhOTY2YzRiYTJiM2YyID0gTC5wb3B1cCh7Im1heFdpZHRoIjogIjEwMCUifSk7CgogICAgICAgIAogICAgICAgICAgICB2YXIgaHRtbF9iN2IyMGM5Y2YwNWY0YjdlOGE2OTM0ZTAwNGNlM2NlZCA9ICQoYDxkaXYgaWQ9Imh0bWxfYjdiMjBjOWNmMDVmNGI3ZThhNjkzNGUwMDRjZTNjZWQiIHN0eWxlPSJ3aWR0aDogMTAwLjAlOyBoZWlnaHQ6IDEwMC4wJTsiPiAwMDowNTozMjwvZGl2PmApWzBdOwogICAgICAgICAgICBwb3B1cF80ODNjZTc1ZTYwNDI0ZmE3YmMzYTk2NmM0YmEyYjNmMi5zZXRDb250ZW50KGh0bWxfYjdiMjBjOWNmMDVmNGI3ZThhNjkzNGUwMDRjZTNjZWQpOwogICAgICAgIAoKICAgICAgICBjaXJjbGVfbWFya2VyXzc5YTQ4MjgyYjUyZjQzZDI5MjczZTA5YjNlM2NhYzkzLmJpbmRQb3B1cChwb3B1cF80ODNjZTc1ZTYwNDI0ZmE3YmMzYTk2NmM0YmEyYjNmMikKICAgICAgICA7CgogICAgICAgIAogICAgCiAgICAKICAgICAgICAgICAgdmFyIGNpcmNsZV9tYXJrZXJfOGU5NDJhYTQzMDA1NGQ1YWI2ZTk0MzdlMDRhZWE4N2MgPSBMLmNpcmNsZU1hcmtlcigKICAgICAgICAgICAgICAgIFsyMy41MzE4NTMsIDEyMC4yNTc0MjddLAogICAgICAgICAgICAgICAgeyJidWJibGluZ01vdXNlRXZlbnRzIjogdHJ1ZSwgImNvbG9yIjogIiMzMTg2Y2MiLCAiZGFzaEFycmF5IjogbnVsbCwgImRhc2hPZmZzZXQiOiBudWxsLCAiZmlsbCI6IHRydWUsICJmaWxsQ29sb3IiOiAiIzMxODZjYyIsICJmaWxsT3BhY2l0eSI6IDAuMiwgImZpbGxSdWxlIjogImV2ZW5vZGQiLCAibGluZUNhcCI6ICJyb3VuZCIsICJsaW5lSm9pbiI6ICJyb3VuZCIsICJvcGFjaXR5IjogMS4wLCAicmFkaXVzIjogMTAsICJzdHJva2UiOiB0cnVlLCAid2VpZ2h0IjogM30KICAgICAgICAgICAgKS5hZGRUbyhtYXBfOGYxN2RiYWI1ZWY1NGU1ODhiNTg1YThkNGE5OGE5OWQpOwogICAgICAgIAogICAgCiAgICAgICAgdmFyIHBvcHVwX2UyZTRkOTRmOWM2MjQ0YjA5YjQ3OWI3MzNlNDc0NmEwID0gTC5wb3B1cCh7Im1heFdpZHRoIjogIjEwMCUifSk7CgogICAgICAgIAogICAgICAgICAgICB2YXIgaHRtbF8yN2EwMzJjYTVkMzg0NGUyYWQzMDA3MjAxMjM3NTU1OCA9ICQoYDxkaXYgaWQ9Imh0bWxfMjdhMDMyY2E1ZDM4NDRlMmFkMzAwNzIwMTIzNzU1NTgiIHN0eWxlPSJ3aWR0aDogMTAwLjAlOyBoZWlnaHQ6IDEwMC4wJTsiPiAwMDowNToxODwvZGl2PmApWzBdOwogICAgICAgICAgICBwb3B1cF9lMmU0ZDk0ZjljNjI0NGIwOWI0NzliNzMzZTQ3NDZhMC5zZXRDb250ZW50KGh0bWxfMjdhMDMyY2E1ZDM4NDRlMmFkMzAwNzIwMTIzNzU1NTgpOwogICAgICAgIAoKICAgICAgICBjaXJjbGVfbWFya2VyXzhlOTQyYWE0MzAwNTRkNWFiNmU5NDM3ZTA0YWVhODdjLmJpbmRQb3B1cChwb3B1cF9lMmU0ZDk0ZjljNjI0NGIwOWI0NzliNzMzZTQ3NDZhMCkKICAgICAgICA7CgogICAgICAgIAogICAgCiAgICAKICAgICAgICAgICAgdmFyIGNpcmNsZV9tYXJrZXJfMjgyNDQ0ZDIyNjA4NDZlMTgwNzlmYzk0Y2RhNTAwZmIgPSBMLmNpcmNsZU1hcmtlcigKICAgICAgICAgICAgICAgIFsyMy41MzE2NTIsIDEyMC4yNTc1OTNdLAogICAgICAgICAgICAgICAgeyJidWJibGluZ01vdXNlRXZlbnRzIjogdHJ1ZSwgImNvbG9yIjogIiMzMTg2Y2MiLCAiZGFzaEFycmF5IjogbnVsbCwgImRhc2hPZmZzZXQiOiBudWxsLCAiZmlsbCI6IHRydWUsICJmaWxsQ29sb3IiOiAiIzMxODZjYyIsICJmaWxsT3BhY2l0eSI6IDAuMiwgImZpbGxSdWxlIjogImV2ZW5vZGQiLCAibGluZUNhcCI6ICJyb3VuZCIsICJsaW5lSm9pbiI6ICJyb3VuZCIsICJvcGFjaXR5IjogMS4wLCAicmFkaXVzIjogMTAsICJzdHJva2UiOiB0cnVlLCAid2VpZ2h0IjogM30KICAgICAgICAgICAgKS5hZGRUbyhtYXBfOGYxN2RiYWI1ZWY1NGU1ODhiNTg1YThkNGE5OGE5OWQpOwogICAgICAgIAogICAgCiAgICAgICAgdmFyIHBvcHVwXzE5NDc5ZWEwN2I5YTQzMDM4MDZlOWFhNjJkMjNlMjhkID0gTC5wb3B1cCh7Im1heFdpZHRoIjogIjEwMCUifSk7CgogICAgICAgIAogICAgICAgICAgICB2YXIgaHRtbF8zMDU5MTBlN2M2OTM0ZWU5OTA2ZTkzYjFjZjc5YzM0MSA9ICQoYDxkaXYgaWQ9Imh0bWxfMzA1OTEwZTdjNjkzNGVlOTkwNmU5M2IxY2Y3OWMzNDEiIHN0eWxlPSJ3aWR0aDogMTAwLjAlOyBoZWlnaHQ6IDEwMC4wJTsiPiAwMDowNToxMjwvZGl2PmApWzBdOwogICAgICAgICAgICBwb3B1cF8xOTQ3OWVhMDdiOWE0MzAzODA2ZTlhYTYyZDIzZTI4ZC5zZXRDb250ZW50KGh0bWxfMzA1OTEwZTdjNjkzNGVlOTkwNmU5M2IxY2Y3OWMzNDEpOwogICAgICAgIAoKICAgICAgICBjaXJjbGVfbWFya2VyXzI4MjQ0NGQyMjYwODQ2ZTE4MDc5ZmM5NGNkYTUwMGZiLmJpbmRQb3B1cChwb3B1cF8xOTQ3OWVhMDdiOWE0MzAzODA2ZTlhYTYyZDIzZTI4ZCkKICAgICAgICA7CgogICAgICAgIAogICAgCiAgICAKICAgICAgICAgICAgdmFyIGNpcmNsZV9tYXJrZXJfNzA5YWQ4NGI0ZTNjNDcwMGFkOTliMWI2MDUxODRlMjMgPSBMLmNpcmNsZU1hcmtlcigKICAgICAgICAgICAgICAgIFsyMy41MzE3NCwgMTIwLjI1NzYwN10sCiAgICAgICAgICAgICAgICB7ImJ1YmJsaW5nTW91c2VFdmVudHMiOiB0cnVlLCAiY29sb3IiOiAiIzMxODZjYyIsICJkYXNoQXJyYXkiOiBudWxsLCAiZGFzaE9mZnNldCI6IG51bGwsICJmaWxsIjogdHJ1ZSwgImZpbGxDb2xvciI6ICIjMzE4NmNjIiwgImZpbGxPcGFjaXR5IjogMC4yLCAiZmlsbFJ1bGUiOiAiZXZlbm9kZCIsICJsaW5lQ2FwIjogInJvdW5kIiwgImxpbmVKb2luIjogInJvdW5kIiwgIm9wYWNpdHkiOiAxLjAsICJyYWRpdXMiOiAxMCwgInN0cm9rZSI6IHRydWUsICJ3ZWlnaHQiOiAzfQogICAgICAgICAgICApLmFkZFRvKG1hcF84ZjE3ZGJhYjVlZjU0ZTU4OGI1ODVhOGQ0YTk4YTk5ZCk7CiAgICAgICAgCiAgICAKICAgICAgICB2YXIgcG9wdXBfMzJkZjVjMzhhZWQxNDE4Njk0YmZmYWU1YmI4M2EwMGQgPSBMLnBvcHVwKHsibWF4V2lkdGgiOiAiMTAwJSJ9KTsKCiAgICAgICAgCiAgICAgICAgICAgIHZhciBodG1sXzRlYzI2NThjZDVkODQyZTFhNzg4ZjFkNjU0YWU1NTQ2ID0gJChgPGRpdiBpZD0iaHRtbF80ZWMyNjU4Y2Q1ZDg0MmUxYTc4OGYxZDY1NGFlNTU0NiIgc3R5bGU9IndpZHRoOiAxMDAuMCU7IGhlaWdodDogMTAwLjAlOyI+IDAwOjA1OjIzPC9kaXY+YClbMF07CiAgICAgICAgICAgIHBvcHVwXzMyZGY1YzM4YWVkMTQxODY5NGJmZmFlNWJiODNhMDBkLnNldENvbnRlbnQoaHRtbF80ZWMyNjU4Y2Q1ZDg0MmUxYTc4OGYxZDY1NGFlNTU0Nik7CiAgICAgICAgCgogICAgICAgIGNpcmNsZV9tYXJrZXJfNzA5YWQ4NGI0ZTNjNDcwMGFkOTliMWI2MDUxODRlMjMuYmluZFBvcHVwKHBvcHVwXzMyZGY1YzM4YWVkMTQxODY5NGJmZmFlNWJiODNhMDBkKQogICAgICAgIDsKCiAgICAgICAgCiAgICAKICAgIAogICAgICAgICAgICB2YXIgY2lyY2xlX21hcmtlcl9kMmEwYzY3ZDEzNTk0NzYyYmNlNGRjNmY0ZWU3NWM1MiA9IEwuY2lyY2xlTWFya2VyKAogICAgICAgICAgICAgICAgWzIzLjUzMTczLCAxMjAuMjU3NjIzXSwKICAgICAgICAgICAgICAgIHsiYnViYmxpbmdNb3VzZUV2ZW50cyI6IHRydWUsICJjb2xvciI6ICIjMzE4NmNjIiwgImRhc2hBcnJheSI6IG51bGwsICJkYXNoT2Zmc2V0IjogbnVsbCwgImZpbGwiOiB0cnVlLCAiZmlsbENvbG9yIjogIiMzMTg2Y2MiLCAiZmlsbE9wYWNpdHkiOiAwLjIsICJmaWxsUnVsZSI6ICJldmVub2RkIiwgImxpbmVDYXAiOiAicm91bmQiLCAibGluZUpvaW4iOiAicm91bmQiLCAib3BhY2l0eSI6IDEuMCwgInJhZGl1cyI6IDEwLCAic3Ryb2tlIjogdHJ1ZSwgIndlaWdodCI6IDN9CiAgICAgICAgICAgICkuYWRkVG8obWFwXzhmMTdkYmFiNWVmNTRlNTg4YjU4NWE4ZDRhOThhOTlkKTsKICAgICAgICAKICAgIAogICAgICAgIHZhciBwb3B1cF83MzA2MWViNjVmYzI0NmNiOTc0ZjVhNmE5MWJiMjZkMyA9IEwucG9wdXAoeyJtYXhXaWR0aCI6ICIxMDAlIn0pOwoKICAgICAgICAKICAgICAgICAgICAgdmFyIGh0bWxfYmNlNTFjNzdiMDdhNDcwZDg0Y2UxMDcxZDI5MjdlNTkgPSAkKGA8ZGl2IGlkPSJodG1sX2JjZTUxYzc3YjA3YTQ3MGQ4NGNlMTA3MWQyOTI3ZTU5IiBzdHlsZT0id2lkdGg6IDEwMC4wJTsgaGVpZ2h0OiAxMDAuMCU7Ij4gMDA6MDU6NDc8L2Rpdj5gKVswXTsKICAgICAgICAgICAgcG9wdXBfNzMwNjFlYjY1ZmMyNDZjYjk3NGY1YTZhOTFiYjI2ZDMuc2V0Q29udGVudChodG1sX2JjZTUxYzc3YjA3YTQ3MGQ4NGNlMTA3MWQyOTI3ZTU5KTsKICAgICAgICAKCiAgICAgICAgY2lyY2xlX21hcmtlcl9kMmEwYzY3ZDEzNTk0NzYyYmNlNGRjNmY0ZWU3NWM1Mi5iaW5kUG9wdXAocG9wdXBfNzMwNjFlYjY1ZmMyNDZjYjk3NGY1YTZhOTFiYjI2ZDMpCiAgICAgICAgOwoKICAgICAgICAKICAgIAogICAgCiAgICAgICAgICAgIHZhciBjaXJjbGVfbWFya2VyXzM5NjMwNGM0ZTRjNjQ3OWNiNzllMWQyZWE3MzgzMWI3ID0gTC5jaXJjbGVNYXJrZXIoCiAgICAgICAgICAgICAgICBbMjMuNjY3MDk3LCAxMjAuNDgwNjY3XSwKICAgICAgICAgICAgICAgIHsiYnViYmxpbmdNb3VzZUV2ZW50cyI6IHRydWUsICJjb2xvciI6ICIjMzE4NmNjIiwgImRhc2hBcnJheSI6IG51bGwsICJkYXNoT2Zmc2V0IjogbnVsbCwgImZpbGwiOiB0cnVlLCAiZmlsbENvbG9yIjogIiMzMTg2Y2MiLCAiZmlsbE9wYWNpdHkiOiAwLjIsICJmaWxsUnVsZSI6ICJldmVub2RkIiwgImxpbmVDYXAiOiAicm91bmQiLCAibGluZUpvaW4iOiAicm91bmQiLCAib3BhY2l0eSI6IDEuMCwgInJhZGl1cyI6IDEwLCAic3Ryb2tlIjogdHJ1ZSwgIndlaWdodCI6IDN9CiAgICAgICAgICAgICkuYWRkVG8obWFwXzhmMTdkYmFiNWVmNTRlNTg4YjU4NWE4ZDRhOThhOTlkKTsKICAgICAgICAKICAgIAogICAgICAgIHZhciBwb3B1cF9mMjNiMDMzZGJhM2U0YjQ4OGZlMTFiMDE1NTE0YWJiNyA9IEwucG9wdXAoeyJtYXhXaWR0aCI6ICIxMDAlIn0pOwoKICAgICAgICAKICAgICAgICAgICAgdmFyIGh0bWxfMjZhZmY2NWUxMjY0NDM2YWI5YjBjYjA5NzMxMmM1OGMgPSAkKGA8ZGl2IGlkPSJodG1sXzI2YWZmNjVlMTI2NDQzNmFiOWIwY2IwOTczMTJjNThjIiBzdHlsZT0id2lkdGg6IDEwMC4wJTsgaGVpZ2h0OiAxMDAuMCU7Ij4gMDA6MDU6NTA8L2Rpdj5gKVswXTsKICAgICAgICAgICAgcG9wdXBfZjIzYjAzM2RiYTNlNGI0ODhmZTExYjAxNTUxNGFiYjcuc2V0Q29udGVudChodG1sXzI2YWZmNjVlMTI2NDQzNmFiOWIwY2IwOTczMTJjNThjKTsKICAgICAgICAKCiAgICAgICAgY2lyY2xlX21hcmtlcl8zOTYzMDRjNGU0YzY0NzljYjc5ZTFkMmVhNzM4MzFiNy5iaW5kUG9wdXAocG9wdXBfZjIzYjAzM2RiYTNlNGI0ODhmZTExYjAxNTUxNGFiYjcpCiAgICAgICAgOwoKICAgICAgICAKICAgIAogICAgCiAgICAgICAgICAgIHZhciBjaXJjbGVfbWFya2VyX2UzYTIxZDEwOWZjNDQ5Y2U4ODQyNDM4ZjNkOWFmMGJmID0gTC5jaXJjbGVNYXJrZXIoCiAgICAgICAgICAgICAgICBbMjMuNjgzODkyLCAxMjAuNDgxMTUzXSwKICAgICAgICAgICAgICAgIHsiYnViYmxpbmdNb3VzZUV2ZW50cyI6IHRydWUsICJjb2xvciI6ICIjMzE4NmNjIiwgImRhc2hBcnJheSI6IG51bGwsICJkYXNoT2Zmc2V0IjogbnVsbCwgImZpbGwiOiB0cnVlLCAiZmlsbENvbG9yIjogIiMzMTg2Y2MiLCAiZmlsbE9wYWNpdHkiOiAwLjIsICJmaWxsUnVsZSI6ICJldmVub2RkIiwgImxpbmVDYXAiOiAicm91bmQiLCAibGluZUpvaW4iOiAicm91bmQiLCAib3BhY2l0eSI6IDEuMCwgInJhZGl1cyI6IDEwLCAic3Ryb2tlIjogdHJ1ZSwgIndlaWdodCI6IDN9CiAgICAgICAgICAgICkuYWRkVG8obWFwXzhmMTdkYmFiNWVmNTRlNTg4YjU4NWE4ZDRhOThhOTlkKTsKICAgICAgICAKICAgIAogICAgICAgIHZhciBwb3B1cF8wZTc5NjZiYmNkNTI0YjQ0OGQ1YjNjN2YwNmFlYjUzZCA9IEwucG9wdXAoeyJtYXhXaWR0aCI6ICIxMDAlIn0pOwoKICAgICAgICAKICAgICAgICAgICAgdmFyIGh0bWxfMzk2MzZlZWIzMjZmNDg0ZWIxOWE4MjZlNDU5MmU0M2IgPSAkKGA8ZGl2IGlkPSJodG1sXzM5NjM2ZWViMzI2ZjQ4NGViMTlhODI2ZTQ1OTJlNDNiIiBzdHlsZT0id2lkdGg6IDEwMC4wJTsgaGVpZ2h0OiAxMDAuMCU7Ij4gMDA6MDU6MTA8L2Rpdj5gKVswXTsKICAgICAgICAgICAgcG9wdXBfMGU3OTY2YmJjZDUyNGI0NDhkNWIzYzdmMDZhZWI1M2Quc2V0Q29udGVudChodG1sXzM5NjM2ZWViMzI2ZjQ4NGViMTlhODI2ZTQ1OTJlNDNiKTsKICAgICAgICAKCiAgICAgICAgY2lyY2xlX21hcmtlcl9lM2EyMWQxMDlmYzQ0OWNlODg0MjQzOGYzZDlhZjBiZi5iaW5kUG9wdXAocG9wdXBfMGU3OTY2YmJjZDUyNGI0NDhkNWIzYzdmMDZhZWI1M2QpCiAgICAgICAgOwoKICAgICAgICAKICAgIAogICAgCiAgICAgICAgICAgIHZhciBjaXJjbGVfbWFya2VyX2VkYTE4ODczZmQ2NDRkNGRiMzFlNjUzNTI3N2M1M2NmID0gTC5jaXJjbGVNYXJrZXIoCiAgICAgICAgICAgICAgICBbMjMuNjUwMzE4LCAxMjAuNTA4OTA1XSwKICAgICAgICAgICAgICAgIHsiYnViYmxpbmdNb3VzZUV2ZW50cyI6IHRydWUsICJjb2xvciI6ICIjMzE4NmNjIiwgImRhc2hBcnJheSI6IG51bGwsICJkYXNoT2Zmc2V0IjogbnVsbCwgImZpbGwiOiB0cnVlLCAiZmlsbENvbG9yIjogIiMzMTg2Y2MiLCAiZmlsbE9wYWNpdHkiOiAwLjIsICJmaWxsUnVsZSI6ICJldmVub2RkIiwgImxpbmVDYXAiOiAicm91bmQiLCAibGluZUpvaW4iOiAicm91bmQiLCAib3BhY2l0eSI6IDEuMCwgInJhZGl1cyI6IDEwLCAic3Ryb2tlIjogdHJ1ZSwgIndlaWdodCI6IDN9CiAgICAgICAgICAgICkuYWRkVG8obWFwXzhmMTdkYmFiNWVmNTRlNTg4YjU4NWE4ZDRhOThhOTlkKTsKICAgICAgICAKICAgIAogICAgICAgIHZhciBwb3B1cF9mYmRiNDc1NGUxZDQ0OGVmOTg5ZGE0MTlhYjg2MDEyMyA9IEwucG9wdXAoeyJtYXhXaWR0aCI6ICIxMDAlIn0pOwoKICAgICAgICAKICAgICAgICAgICAgdmFyIGh0bWxfZDkxNGM5MDM2NTExNDRiNWE4OGY5MDk1ZmQyNzM4M2QgPSAkKGA8ZGl2IGlkPSJodG1sX2Q5MTRjOTAzNjUxMTQ0YjVhODhmOTA5NWZkMjczODNkIiBzdHlsZT0id2lkdGg6IDEwMC4wJTsgaGVpZ2h0OiAxMDAuMCU7Ij4gMDA6MDU6MzE8L2Rpdj5gKVswXTsKICAgICAgICAgICAgcG9wdXBfZmJkYjQ3NTRlMWQ0NDhlZjk4OWRhNDE5YWI4NjAxMjMuc2V0Q29udGVudChodG1sX2Q5MTRjOTAzNjUxMTQ0YjVhODhmOTA5NWZkMjczODNkKTsKICAgICAgICAKCiAgICAgICAgY2lyY2xlX21hcmtlcl9lZGExODg3M2ZkNjQ0ZDRkYjMxZTY1MzUyNzdjNTNjZi5iaW5kUG9wdXAocG9wdXBfZmJkYjQ3NTRlMWQ0NDhlZjk4OWRhNDE5YWI4NjAxMjMpCiAgICAgICAgOwoKICAgICAgICAKICAgIAogICAgCiAgICAgICAgICAgIHZhciBjaXJjbGVfbWFya2VyXzA2YjZmMzk1NjY3NTRlNzliMTM0YTAxMjQzM2E3MmEwID0gTC5jaXJjbGVNYXJrZXIoCiAgICAgICAgICAgICAgICBbMjUuMDI5NjQ1LCAxMjEuNDg4ODA4XSwKICAgICAgICAgICAgICAgIHsiYnViYmxpbmdNb3VzZUV2ZW50cyI6IHRydWUsICJjb2xvciI6ICIjMzE4NmNjIiwgImRhc2hBcnJheSI6IG51bGwsICJkYXNoT2Zmc2V0IjogbnVsbCwgImZpbGwiOiB0cnVlLCAiZmlsbENvbG9yIjogIiMzMTg2Y2MiLCAiZmlsbE9wYWNpdHkiOiAwLjIsICJmaWxsUnVsZSI6ICJldmVub2RkIiwgImxpbmVDYXAiOiAicm91bmQiLCAibGluZUpvaW4iOiAicm91bmQiLCAib3BhY2l0eSI6IDEuMCwgInJhZGl1cyI6IDEwLCAic3Ryb2tlIjogdHJ1ZSwgIndlaWdodCI6IDN9CiAgICAgICAgICAgICkuYWRkVG8obWFwXzhmMTdkYmFiNWVmNTRlNTg4YjU4NWE4ZDRhOThhOTlkKTsKICAgICAgICAKICAgIAogICAgICAgIHZhciBwb3B1cF8xMmYwYTIzYjkwOWI0YmJhYjEzYjNjMzBjOWIxODAyZSA9IEwucG9wdXAoeyJtYXhXaWR0aCI6ICIxMDAlIn0pOwoKICAgICAgICAKICAgICAgICAgICAgdmFyIGh0bWxfZTVjY2I2Y2NkMjQ5NDdhZjlmY2E0NzdkZTBjN2I0NTAgPSAkKGA8ZGl2IGlkPSJodG1sX2U1Y2NiNmNjZDI0OTQ3YWY5ZmNhNDc3ZGUwYzdiNDUwIiBzdHlsZT0id2lkdGg6IDEwMC4wJTsgaGVpZ2h0OiAxMDAuMCU7Ij4gMDA6MDU6MzA8L2Rpdj5gKVswXTsKICAgICAgICAgICAgcG9wdXBfMTJmMGEyM2I5MDliNGJiYWIxM2IzYzMwYzliMTgwMmUuc2V0Q29udGVudChodG1sX2U1Y2NiNmNjZDI0OTQ3YWY5ZmNhNDc3ZGUwYzdiNDUwKTsKICAgICAgICAKCiAgICAgICAgY2lyY2xlX21hcmtlcl8wNmI2ZjM5NTY2NzU0ZTc5YjEzNGEwMTI0MzNhNzJhMC5iaW5kUG9wdXAocG9wdXBfMTJmMGEyM2I5MDliNGJiYWIxM2IzYzMwYzliMTgwMmUpCiAgICAgICAgOwoKICAgICAgICAKICAgIAogICAgCiAgICAgICAgICAgIHZhciBjaXJjbGVfbWFya2VyX2UwNTBlNzZjMTI0NjRhOTI5NmQwNDYxYTY3OTQ3MDlmID0gTC5jaXJjbGVNYXJrZXIoCiAgICAgICAgICAgICAgICBbMjUuMDI5NzEyLCAxMjEuNDg5MzNdLAogICAgICAgICAgICAgICAgeyJidWJibGluZ01vdXNlRXZlbnRzIjogdHJ1ZSwgImNvbG9yIjogIiMzMTg2Y2MiLCAiZGFzaEFycmF5IjogbnVsbCwgImRhc2hPZmZzZXQiOiBudWxsLCAiZmlsbCI6IHRydWUsICJmaWxsQ29sb3IiOiAiIzMxODZjYyIsICJmaWxsT3BhY2l0eSI6IDAuMiwgImZpbGxSdWxlIjogImV2ZW5vZGQiLCAibGluZUNhcCI6ICJyb3VuZCIsICJsaW5lSm9pbiI6ICJyb3VuZCIsICJvcGFjaXR5IjogMS4wLCAicmFkaXVzIjogMTAsICJzdHJva2UiOiB0cnVlLCAid2VpZ2h0IjogM30KICAgICAgICAgICAgKS5hZGRUbyhtYXBfOGYxN2RiYWI1ZWY1NGU1ODhiNTg1YThkNGE5OGE5OWQpOwogICAgICAgIAogICAgCiAgICAgICAgdmFyIHBvcHVwX2UwM2NjMzQzZjIyYjQwMDNiY2ExZWEzOTRhMGFhOWEyID0gTC5wb3B1cCh7Im1heFdpZHRoIjogIjEwMCUifSk7CgogICAgICAgIAogICAgICAgICAgICB2YXIgaHRtbF8zZDkxZjQyYzg0ZDQ0NDFhOGMyNDJmNTdhN2U3OGNkMCA9ICQoYDxkaXYgaWQ9Imh0bWxfM2Q5MWY0MmM4NGQ0NDQxYThjMjQyZjU3YTdlNzhjZDAiIHN0eWxlPSJ3aWR0aDogMTAwLjAlOyBoZWlnaHQ6IDEwMC4wJTsiPiAwMDowNToyMjwvZGl2PmApWzBdOwogICAgICAgICAgICBwb3B1cF9lMDNjYzM0M2YyMmI0MDAzYmNhMWVhMzk0YTBhYTlhMi5zZXRDb250ZW50KGh0bWxfM2Q5MWY0MmM4NGQ0NDQxYThjMjQyZjU3YTdlNzhjZDApOwogICAgICAgIAoKICAgICAgICBjaXJjbGVfbWFya2VyX2UwNTBlNzZjMTI0NjRhOTI5NmQwNDYxYTY3OTQ3MDlmLmJpbmRQb3B1cChwb3B1cF9lMDNjYzM0M2YyMmI0MDAzYmNhMWVhMzk0YTBhYTlhMikKICAgICAgICA7CgogICAgICAgIAogICAgCiAgICAKICAgICAgICAgICAgdmFyIGNob3JvcGxldGhfNTA0ZTI2MWIxMDRkNDhkOTgyNWMzNjk2ZGNlMjg1ZDIgPSBMLmZlYXR1cmVHcm91cCgKICAgICAgICAgICAgICAgIHt9CiAgICAgICAgICAgICkuYWRkVG8obWFwXzhmMTdkYmFiNWVmNTRlNTg4YjU4NWE4ZDRhOThhOTlkKTsKICAgICAgICAKICAgIAogICAgICAgIGZ1bmN0aW9uIGdlb19qc29uX2ZkMmYxZGZlM2EyZjQ2Njk4MDAyMzIxZDcwNzZmZWUyX3N0eWxlcihmZWF0dXJlKSB7CiAgICAgICAgICAgIHN3aXRjaChmZWF0dXJlLmlkKSB7CiAgICAgICAgICAgICAgICBkZWZhdWx0OgogICAgICAgICAgICAgICAgICAgIHJldHVybiB7ImNvbG9yIjogIiM2NkIzRkYiLCAiZmlsbENvbG9yIjogImJsdWUiLCAiZmlsbE9wYWNpdHkiOiAwLjYsICJvcGFjaXR5IjogMSwgIndlaWdodCI6IDN9OwogICAgICAgICAgICB9CiAgICAgICAgfQogICAgICAgIGZ1bmN0aW9uIGdlb19qc29uX2ZkMmYxZGZlM2EyZjQ2Njk4MDAyMzIxZDcwNzZmZWUyX29uRWFjaEZlYXR1cmUoZmVhdHVyZSwgbGF5ZXIpIHsKICAgICAgICAgICAgbGF5ZXIub24oewogICAgICAgICAgICAgICAgY2xpY2s6IGZ1bmN0aW9uKGUpIHsKICAgICAgICAgICAgICAgICAgICBtYXBfOGYxN2RiYWI1ZWY1NGU1ODhiNTg1YThkNGE5OGE5OWQuZml0Qm91bmRzKGUudGFyZ2V0LmdldEJvdW5kcygpKTsKICAgICAgICAgICAgICAgIH0KICAgICAgICAgICAgfSk7CiAgICAgICAgfTsKICAgICAgICB2YXIgZ2VvX2pzb25fZmQyZjFkZmUzYTJmNDY2OTgwMDIzMjFkNzA3NmZlZTIgPSBMLmdlb0pzb24obnVsbCwgewogICAgICAgICAgICAgICAgb25FYWNoRmVhdHVyZTogZ2VvX2pzb25fZmQyZjFkZmUzYTJmNDY2OTgwMDIzMjFkNzA3NmZlZTJfb25FYWNoRmVhdHVyZSwKICAgICAgICAgICAgCiAgICAgICAgICAgICAgICBzdHlsZTogZ2VvX2pzb25fZmQyZjFkZmUzYTJmNDY2OTgwMDIzMjFkNzA3NmZlZTJfc3R5bGVyLAogICAgICAgIH0pLmFkZFRvKGNob3JvcGxldGhfNTA0ZTI2MWIxMDRkNDhkOTgyNWMzNjk2ZGNlMjg1ZDIpOwoKICAgICAgICBmdW5jdGlvbiBnZW9fanNvbl9mZDJmMWRmZTNhMmY0NjY5ODAwMjMyMWQ3MDc2ZmVlMl9hZGQgKGRhdGEpIHsKICAgICAgICAgICAgZ2VvX2pzb25fZmQyZjFkZmUzYTJmNDY2OTgwMDIzMjFkNzA3NmZlZTIuYWRkRGF0YShkYXRhKTsKICAgICAgICB9CiAgICAgICAgICAgIGdlb19qc29uX2ZkMmYxZGZlM2EyZjQ2Njk4MDAyMzIxZDcwNzZmZWUyX2FkZCh7ImZlYXR1cmVzIjogW3siZ2VvbWV0cnkiOiB7ImNvb3JkaW5hdGVzIjogW1sxMjAuNDgwNjg3LCAyMy42NjcwNThdLCBbMTIwLjQ4MDY1MiwgMjMuNjY3MDEzXSwgWzEyMC40ODA2ODgsIDIzLjY2NzA0OF0sIFsxMjAuNDgwNjczLCAyMy42NjcwNjVdLCBbMTIwLjQ4MDY3NywgMjMuNjY3MDgzXSwgWzEyMC40ODA3MzcsIDIzLjY2NzA5NV0sIFsxMjAuNDgwNzM3LCAyMy42NjcwNThdLCBbMTIwLjQ4MDcyNSwgMjMuNjY3MTEzXSwgWzEyMC40ODA2NTcsIDIzLjY2NzAxN10sIFsxMjAuNDgwNjY4LCAyMy42NjcwMTJdLCBbMTIwLjQ4MDYyMywgMjMuNjY3MTg1XSwgWzEyMC40ODA2ODUsIDIzLjY2Njk3N10sIFsxMjAuNDgwNjUsIDIzLjY2NzA3NV0sIFsxMjAuNDgwNjQ3LCAyMy42NjcwODVdLCBbMTIwLjQ4MDYzOCwgMjMuNjY3MDY4XSwgWzEyMC40ODA2NiwgMjMuNjY3MDY1XSwgWzEyMC40ODA2ODcsIDIzLjY2NzA3XSwgWzEyMC40ODA2MTIsIDIzLjY2NzAzNV0sIFsxMjAuNDgwNjE1LCAyMy42NjcxMDJdLCBbMTIwLjQ4MDYzLCAyMy42NjcwOTddLCBbMTIwLjQ4MDY3OCwgMjMuNjY3MDMzXSwgWzEyMC40ODA2NjgsIDIzLjY2NzA5OF0sIFsxMjAuNDgwNTc3LCAyMy42NjcwMTVdLCBbMTIwLjQ4MDY0NSwgMjMuNjY3MDU3XSwgWzEyMC40ODA3MDMsIDIzLjY2NzAyM10sIFsxMjAuNDgwNTksIDIzLjY2NzAyM10sIFsxMjAuNDgwNTk3LCAyMy42NjcwNjVdLCBbMTIwLjQ4MDY0OCwgMjMuNjY3MDRdLCBbMTIwLjQ4MDYwMiwgMjMuNjY3MDUzXSwgWzEyMC40ODA2NzMsIDIzLjY2NzA1XSwgWzEyMC40ODA2NDcsIDIzLjY2NzA5Ml0sIFsxMjAuNDgwNjk1LCAyMy42NjcwMjddLCBbMTIwLjQ4MDY5LCAyMy42NjcwNV0sIFsxMjAuNDgwNjg4LCAyMy42NjcwODVdLCBbMTIwLjQ4MDY1LCAyMy42NjcwNjhdLCBbMTIwLjQ4MDYzOCwgMjMuNjY3MDg1XSwgWzEyMC40ODA2NjIsIDIzLjY2NzA3M10sIFsxMjAuNDgwNjYzLCAyMy42NjcwOTNdLCBbMTIwLjQ4MDY5LCAyMy42NjcwNjNdLCBbMTIwLjQ4MDY0OCwgMjMuNjY3MDg3XSwgWzEyMC40ODA2MTgsIDIzLjY2NzE0OF0sIFsxMjAuNDgwNjY4LCAyMy42NjcwMjJdLCBbMTIwLjQ4MDY1NSwgMjMuNjY3MDc1XSwgWzEyMC40ODA2NzIsIDIzLjY2NzA3N10sIFsxMjAuNDgwNjk3LCAyMy42NjcwNjhdLCBbMTIwLjQ4MDY2NSwgMjMuNjY3MDk1XSwgWzEyMC40ODA2NTUsIDIzLjY2NzA2XSwgWzEyMC40ODA2MTgsIDIzLjY2NzA3XSwgWzEyMC40ODA1NzIsIDIzLjY2NzA4OF0sIFsxMjAuNDgwNjQsIDIzLjY2NzE2M10sIFsxMjAuNDgwNjQsIDIzLjY2NzEyXSwgWzEyMC40ODA2MjcsIDIzLjY2NzA4M10sIFsxMjAuNDgwNjgsIDIzLjY2NzAwN10sIFsxMjAuNDgwNjI4LCAyMy42NjcwODNdLCBbMTIwLjQ4MDU3LCAyMy42NjcwMjJdLCBbMTIwLjQ4MDYxOCwgMjMuNjY3MDQ4XSwgWzEyMC40ODA2MjMsIDIzLjY2NzExOF0sIFsxMjAuNDgwNTk4LCAyMy42NjcwNzhdLCBbMTIwLjQ4MDY2NSwgMjMuNjY3MTA1XSwgWzEyMC40ODA2MywgMjMuNjY3MV0sIFsxMjAuNDgwNTg1LCAyMy42NjcwODJdLCBbMTIwLjQ4MDY4MywgMjMuNjY3MTQ1XSwgWzEyMC40ODA2MjgsIDIzLjY2NzA3XSwgWzEyMC40ODA1ODMsIDIzLjY2NzA4XSwgWzEyMC40ODA2MjUsIDIzLjY2NzExMl0sIFsxMjAuNDgwNzA1LCAyMy42NjcxMzhdLCBbMTIwLjQ4MDcwNSwgMjMuNjY3MTE3XSwgWzEyMC40ODA2OTcsIDIzLjY2NzAzNV0sIFsxMjAuNDgwNzAzLCAyMy42NjcwN10sIFsxMjAuNDgwNzEyLCAyMy42NjcwNzVdLCBbMTIwLjQ4MDc0NSwgMjMuNjY3MTYzXSwgWzEyMC40ODA3MjgsIDIzLjY2NzA5OF0sIFsxMjAuNDgwNzUsIDIzLjY2NzEwM10sIFsxMjAuNDgwNzUyLCAyMy42NjcxNzJdLCBbMTIwLjQ4MDY3LCAyMy42NjcwOV0sIFsxMjAuNDgwNjY4LCAyMy42NjcwNl0sIFsxMjAuNDgwNzUzLCAyMy42NjcxMTNdLCBbMTIwLjQ4MDc5NSwgMjMuNjY3MDkzXSwgWzEyMC40ODA2ODIsIDIzLjY2NzAyMl0sIFsxMjAuNDgwNjk1LCAyMy42NjcwOF0sIFsxMjAuNDgwNjQzLCAyMy42NjcwNjNdLCBbMTIwLjQ4MDcwNSwgMjMuNjY3MDgzXSwgWzEyMC40ODA2OSwgMjMuNjY3MDY3XSwgWzEyMC40ODA2NzcsIDIzLjY2NzA4NV0sIFsxMjAuNDgwNjkzLCAyMy42NjcwNDddLCBbMTIwLjQ4MDY2OCwgMjMuNjY3MDg4XSwgWzEyMC40ODA2NDcsIDIzLjY2NzA2Ml0sIFsxMjAuNDgwNjI4LCAyMy42NjcwOV0sIFsxMjAuNDgwNjUsIDIzLjY2NzA3XSwgWzEyMC40ODA2MzgsIDIzLjY2NzEyM10sIFsxMjAuNDgwNjMzLCAyMy42NjcxMDhdLCBbMTIwLjQ4MDY3LCAyMy42NjcxMjddLCBbMTIwLjQ4MDYyNywgMjMuNjY3MDg3XSwgWzEyMC40ODA2NTUsIDIzLjY2NzA4N10sIFsxMjAuNDgwNjU3LCAyMy42NjcxMV0sIFsxMjAuNDgwNjczLCAyMy42NjcwODddLCBbMTIwLjQ4MDY1LCAyMy42NjcwNDddLCBbMTIwLjQ4MDY5OCwgMjMuNjY3MDUzXSwgWzEyMC40ODA2NTcsIDIzLjY2NzAyOF0sIFsxMjAuNDgwNjk3LCAyMy42NjcwMzVdLCBbMTIwLjQ4MDY2MywgMjMuNjY3MDQyXSwgWzEyMC40ODA3MiwgMjMuNjY3MTIzXSwgWzEyMC40ODA2NzUsIDIzLjY2NzA3OF0sIFsxMjAuNDgwNjc3LCAyMy42NjcwNzJdLCBbMTIwLjQ4MDYzNywgMjMuNjY3MDYzXSwgWzEyMC40ODA2NzUsIDIzLjY2NzExOF0sIFsxMjAuNDgwNjc4LCAyMy42NjcxMjVdLCBbMTIwLjQ4MDY3MywgMjMuNjY3MDg3XSwgWzEyMC40ODA2NywgMjMuNjY3MDk3XSwgWzEyMC40ODA2NiwgMjMuNjY3MDgyXSwgWzEyMC40ODA2ODMsIDIzLjY2NzA4Ml0sIFsxMjAuNDgwNjEyLCAyMy42NjcwM10sIFsxMjAuNDgwNjMsIDIzLjY2NzAyN10sIFsxMjAuNDgwNjMzLCAyMy42NjcwNV0sIFsxMjAuNDgwNjQ3LCAyMy42NjcwODJdLCBbMTIwLjQ4MDY2NSwgMjMuNjY3MDczXSwgWzEyMC40ODA2OCwgMjMuNjY3MTI1XSwgWzEyMC40ODA1OSwgMjMuNjY3Ml0sIFsxMjAuNDg4MTU1LCAyMy42NjUwMzVdLCBbMTIwLjUwODYwMiwgMjMuNjUwMDM3XSwgWzEyMC41MDkwNDIsIDIzLjY1MDM5NV0sIFsxMjAuNTA4OTI3LCAyMy42NTAzM10sIFsxMjAuNTA2NjY4LCAyMy42NTIwOTJdLCBbMTIwLjQ4MTQ0LCAyMy42NjQ0MThdLCBbMTIwLjQ2NzQyOCwgMjMuNjcwOTY1XSwgWzEyMC40NjcwMTIsIDIzLjY3MDhdLCBbMTIwLjQ2Njk0NywgMjMuNjcwODFdLCBbMTIwLjQ1ODM2OCwgMjMuNjc3ODVdLCBbMTIwLjQxOTM1NSwgMjMuNjgxMTMyXSwgWzEyMC4zOTU1MywgMjMuNjc3MjgyXSwgWzEyMC4zMzUzMTIsIDIzLjYyODc2XSwgWzEyMC4zMjE4NDcsIDIzLjU5NTIzNV0sIFsxMjAuMjk4NDUzLCAyMy41ODAzMDVdLCBbMTIwLjI5NjA5NywgMjMuNTU2MzkzXSwgWzEyMC4yNzU0NDIsIDIzLjUyODc4XSwgWzEyMC4yNTY2NDcsIDIzLjUxMTA4Ml0sIFsxMjAuMjU3MTkyLCAyMy41MTA3MjddLCBbMTIwLjI2NTAyNSwgMjMuNTI0NDg4XSwgWzEyMC4yNTc2MDcsIDIzLjUzMTc0XSwgWzEyMC4yNTc1NjUsIDIzLjUzMTY2OF0sIFsxMjAuMjU3NTc4LCAyMy41MzE1ODNdLCBbMTIwLjI1NzU1NywgMjMuNTMxNDEzXSwgWzEyMC4yNTczMDUsIDIzLjUzMTM3M10sIFsxMjAuMjU3MTA1LCAyMy41MzE1MDddLCBbMTIwLjI1NzUzOCwgMjMuNTMxNzI4XSwgWzEyMC4yNTc2NzUsIDIzLjUzMTQ4OF0sIFsxMjAuMjU3NjI1LCAyMy41MzE1Ml0sIFsxMjAuMjU3NjU1LCAyMy41MzE1MThdLCBbMTIwLjI1NzY0NywgMjMuNTMxNDgyXSwgWzEyMC4yNTc3MTIsIDIzLjUzMTUzXSwgWzEyMC4yNTc4NCwgMjMuNTMxNDcyXSwgWzEyMC4yNTc4MzMsIDIzLjUzMTQ2N10sIFsxMjAuMjU3NjUyLCAyMy41MzE1MTddLCBbMTIwLjI1NzY2NywgMjMuNTMxMzEzXSwgWzEyMC4yNTc1MjMsIDIzLjUzMTY3Ml0sIFsxMjAuMjU3NzMzLCAyMy41MzE3NV0sIFsxMjAuMjU3NTkzLCAyMy41MzE2NTJdLCBbMTIwLjI1NzU4LCAyMy41MzEyMDVdLCBbMTIwLjI1NzY4NSwgMjMuNTMxNzMzXSwgWzEyMC4yNTc4OTIsIDIzLjUzMjE1NV0sIFsxMjAuMjU3ODMyLCAyMy41MzE5NjNdLCBbMTIwLjI1NzU1MiwgMjMuNTMxNjAzXSwgWzEyMC4yNTc3OSwgMjMuNTMxNjc1XSwgWzEyMC4yNTc1OTIsIDIzLjUzMTY2XSwgWzEyMC4yNTc1MjMsIDIzLjUzMTY1XSwgWzEyMC4yNTc1NDgsIDIzLjUzMTY5Ml0sIFsxMjAuMjU3Njg1LCAyMy41MzE1NjVdLCBbMTIwLjI1NzQsIDIzLjUzMTU2Ml0sIFsxMjAuMjU3NDE1LCAyMy41MzE1OThdLCBbMTIwLjI1NzQ3LCAyMy41MzE2NzddLCBbMTIwLjI1NzE2NywgMjMuNTMxOTg3XSwgWzEyMC4yNjMyMiwgMjMuNTE0NjU4XSwgWzEyMC4yNTk2MDcsIDIzLjUxNjIzMl0sIFsxMjAuMjk0NDEsIDIzLjU0NzgxNV0sIFsxMjAuMjk3OTgzLCAyMy41Nzg1MjJdLCBbMTIwLjMyNzEyMiwgMjMuNTk4NTRdLCBbMTIwLjMzNzkyNywgMjMuNjM1MTYyXSwgWzEyMC4zODA0LCAyMy42Njc1NDJdLCBbMTIwLjM5NTkwNSwgMjMuNjc5MTUyXSwgWzEyMC40MjUyOTIsIDIzLjY4MDM2NV0sIFsxMjAuNDYxMTg4LCAyMy42Nzc2MjddLCBbMTIwLjQ2NjYwNywgMjMuNjcwNDldLCBbMTIwLjQ2NzA3LCAyMy42NzA4NTddLCBbMTIwLjQ2NzA4OCwgMjMuNjcwNzRdLCBbMTIwLjQ2NzA2NSwgMjMuNjcwNzRdLCBbMTIwLjQ2NzM4OCwgMjMuNjcwOTUzXSwgWzEyMC40NzIwMDUsIDIzLjY5MTcwNV0sIFsxMjAuNDc0OTg1LCAyMy43MjI5OTJdLCBbMTIwLjQ3ODc0LCAyMy43ODg0NjddLCBbMTIwLjQ4MDE4LCAyMy43ODkyNDNdLCBbMTIwLjQ4MDIzOCwgMjMuNzg4OTQyXSwgWzEyMC40ODAzLCAyMy43ODg3MzNdLCBbMTIwLjQ4MDI4MiwgMjMuNzg4ODk4XSwgWzEyMC40ODQ1MTIsIDIzLjgzNjkzOF0sIFsxMjAuNDk1MTM1LCAyMy44OTQyNDVdLCBbMTIwLjUwNjM4MywgMjMuOTY0ODEzXSwgWzEyMC41MjE3NzIsIDI0LjAzNjIwOF0sIFsxMjAuNTQ0Nzk1LCAyNC4wOTc3MjhdLCBbMTIwLjYxMDMwOCwgMjQuMTEzODYzXSwgWzEyMC42MzM0MjIsIDI0LjE3OTAxOF0sIFsxMjAuNjgzMjE4LCAyNC4yMjQ0NF0sIFsxMjAuNjk2MzY1LCAyNC4yOTcyMjJdLCBbMTIwLjczNDQ3NywgMjQuMzU1OTY3XSwgWzEyMC43NjU0MDUsIDI0LjQwMzE0M10sIFsxMjAuNzgyNjAyLCAyNC40ODMxMDNdLCBbMTIwLjgzOTgwNywgMjQuNTUyMDYyXSwgWzEyMC44NjcxMTgsIDI0LjYzMDIyMl0sIFsxMjAuODk3MTcsIDI0LjY3MzMwNV0sIFsxMjAuOTU3OTMzLCAyNC43MjgwNDhdLCBbMTIxLjAwNSwgMjQuNzg4NjddLCBbMTIxLjAxNTMwMiwgMjQuODUxODhdLCBbMTIxLjA3MjYwNSwgMjQuODgxNDEzXSwgWzEyMS4xNjQyMjcsIDI0LjkwNzk5OF0sIFsxMjEuMjEyNDgzLCAyNC45NjY2NjJdLCBbMTIxLjI3NTg0LCAyNS4wMjA2NThdLCBbMTIxLjM2NDQyLCAyNS4wNjQ4MDVdLCBbMTIxLjQzNTQwMywgMjUuMDY4MTcyXSwgWzEyMS40NDY0NTMsIDI1LjA2MzI3M10sIFsxMjEuNDQ1OTUyLCAyNS4wNjI3NThdLCBbMTIxLjQ0NTg5NSwgMjUuMDYyODE1XSwgWzEyMS40NDU3MywgMjUuMDYyOTc4XSwgWzEyMS40NDYwMjcsIDI1LjA2Mjg4XSwgWzEyMS40NDU5ODIsIDI1LjA2MjddLCBbMTIxLjQ0NTY4NywgMjUuMDYyNzk4XSwgWzEyMS40NDU0NjUsIDI1LjA2MjcyM10sIFsxMjEuNDQ1OTMsIDI1LjA2Mjk4M10sIFsxMjEuNDQ1NTcyLCAyNS4wNjI2NDVdLCBbMTIxLjQ1MDUwNSwgMjUuMDYwNDQzXSwgWzEyMS40NjQ0ODcsIDI1LjA2MDcwM10sIFsxMjEuNTA0MTc3LCAyNS4wNDk5MTVdLCBbMTIxLjQ5MTU0LCAyNS4wMzI0MDddLCBbMTIxLjQ4OTc1NSwgMjUuMDI5MTFdLCBbMTIxLjQ4OTIwNywgMjUuMDI5MTU4XSwgWzEyMS40ODkzODUsIDI1LjAyOTA5NV0sIFsxMjEuNDg5NjE3LCAyNS4wMjk0N10sIFsxMjEuNDg5MDkyLCAyNS4wMjkzMzNdLCBbMTIxLjQ4OTIxMiwgMjUuMDI5MzAyXSwgWzEyMS40ODkxMjMsIDI1LjAyOTQzNV0sIFsxMjEuNDg5MzIzLCAyNS4wMjk4NzhdLCBbMTIxLjQ4OTE2OCwgMjUuMDI5MzY3XSwgWzEyMS40ODk0MSwgMjUuMDI5NTMyXSwgWzEyMS40ODkzLCAyNS4wMjkzNDddLCBbMTIxLjQ4OTU0OCwgMjUuMDI5NjZdLCBbMTIxLjQ4OTMzLCAyNS4wMjk3MTJdLCBbMTIxLjQ4OTMxOCwgMjUuMDI5ODQ4XSwgWzEyMS40ODg5OTMsIDI1LjAyODQ3OF0sIFsxMjEuNDY3MjgyLCAyNS4wNjQ4MjNdLCBbMTIxLjQzNDI0OCwgMjUuMTA3NDEzXSwgWzEyMS40MzIxMjUsIDI1LjEwNTczM10sIFsxMjEuNDMyMTA1LCAyNS4xMDU4MDddLCBbMTIxLjQzMjIsIDI1LjEwNTc5M10sIFsxMjEuNDMyMTcsIDI1LjEwNTc4M10sIFsxMjEuNDMyMTg1LCAyNS4xMDU3NDhdLCBbMTIxLjQzMjE0NSwgMjUuMTA1NzQzXSwgWzEyMS40MzIyMzgsIDI1LjEwNTgxOF0sIFsxMjEuNDMyMzEyLCAyNS4xMDU3OTddLCBbMTIxLjQzMjEyMywgMjUuMTA1NzQ3XSwgWzEyMS40MzIxNDUsIDI1LjEwNTc1M10sIFsxMjEuNDMyNTUsIDI1LjEwNTYwN10sIFsxMjEuNDMyNTkzLCAyNS4xMDU2MzVdLCBbMTIxLjQzMjUxLCAyNS4xMDU1NjVdLCBbMTIxLjQzMjUxMywgMjUuMTA1NTRdLCBbMTIxLjQzMjU1MywgMjUuMTA1NTE1XSwgWzEyMS40MzI1NTIsIDI1LjEwNTUyNV0sIFsxMjEuNDMyNTM1LCAyNS4xMDU1NTNdLCBbMTIxLjQzMTQ5LCAyNS4xMDYyNjhdLCBbMTIxLjQzMTEyLCAyNS4xMDg3MTJdLCBbMTIxLjQ1MDQ5NywgMjUuMDk2ODYzXSwgWzEyMS40MTM1MjMsIDI1LjA2MDQ1XSwgWzEyMS4zNDYyMzcsIDI1LjA2NTQ1Ml0sIFsxMjEuMjg4MzE1LCAyNS4wMzE2ODVdLCBbMTIxLjIyOTg3NSwgMjQuOTgxNDg4XSwgWzEyMS4xNzc5MjUsIDI0LjkyOTk1M10sIFsxMjEuMTE4NzE3LCAyNC44OTMwNzhdLCBbMTIxLjA0MjI2MiwgMjQuODc3MTcyXSwgWzEyMS4wMTkxNDIsIDI0LjgyNjczN10sIFsxMjAuOTkzNDA4LCAyNC43NjFdLCBbMTIwLjkzMTc5OCwgMjQuNzIwMTg1XSwgWzEyMC44ODM2OSwgMjQuNjY1MTEzXSwgWzEyMC44NjA2NTgsIDI0LjU5NTgwOF0sIFsxMjAuODI3OTE4LCAyNC41MzMyMThdLCBbMTIwLjc4MjAwOCwgMjQuNDg0MTEzXSwgWzEyMC43NzYwNTMsIDI0LjQyMTU1OF0sIFsxMjAuNzM0Mzc3LCAyNC4zNTYxNzddLCBbMTIwLjY5NTA0MywgMjQuMjg5ODk4XSwgWzEyMC42Nzk0MjUsIDI0LjIxOTgzOF0sIFsxMjAuNjI3Mjg3LCAyNC4xNzEzMDddLCBbMTIwLjU5ODUzNywgMjQuMTEyNDc3XSwgWzEyMC41MzM1ODgsIDI0LjA5MjI3M10sIFsxMjAuNTE1NTUzLCAyNC4wMTg5MjNdLCBbMTIwLjUwNTgxLCAyMy45NDkzODJdLCBbMTIwLjQ5MDY0MywgMjMuODc3NjcyXSwgWzEyMC40ODM4MTcsIDIzLjgwNjgwMl0sIFsxMjAuNDY5Njk1LCAyMy43MzczMDNdLCBbMTIwLjQ3MjkxNSwgMjMuNjkyODIzXSwgWzEyMC40ODEwMjgsIDIzLjY3OTk5Ml0sIFsxMjAuNDgxNDE3LCAyMy42NzkxNTddLCBbMTIwLjQ4MDY1NSwgMjMuNjY3MTQ3XSwgWzEyMC40ODA2NDgsIDIzLjY2NzEyN10sIFsxMjAuNDgwNjczLCAyMy42NjcxMTddLCBbMTIwLjQ4MDY5NywgMjMuNjY3MDczXSwgWzEyMC40ODA2NTIsIDIzLjY2NzA4XSwgWzEyMC40ODA2NDgsIDIzLjY2NzA2N10sIFsxMjAuNDgwNjU1LCAyMy42NjcwNzhdLCBbMTIwLjQ4MDY2OCwgMjMuNjY3MDZdLCBbMTIwLjQ4MDY1OCwgMjMuNjY3MTAyXSwgWzEyMC40ODA2NzUsIDIzLjY2NzA3N10sIFsxMjAuNDgwNTUyLCAyMy42NjcwODNdLCBbMTIwLjQ4MDY0MywgMjMuNjY3MTQ3XSwgWzEyMC40ODA1NzIsIDIzLjY2NzE5NV0sIFsxMjAuNDgwNjAyLCAyMy42NjcxMTJdLCBbMTIwLjQ4MDcwMywgMjMuNjY2OTIyXSwgWzEyMC40ODA2NDUsIDIzLjY2NzA3OF0sIFsxMjAuNDgwMzk4LCAyMy42NjcwMjddLCBbMTIwLjQ4MDQ5NywgMjMuNjY3MDE1XSwgWzEyMC40ODA1NjgsIDIzLjY2NzA1M10sIFsxMjAuNDgwNTUyLCAyMy42NjcxNDNdLCBbMTIwLjQ4MDU5OCwgMjMuNjY3MTEyXSwgWzEyMC40ODA2MiwgMjMuNjY3MTE4XSwgWzEyMC40ODA2LCAyMy42NjcwMzNdLCBbMTIwLjQ4MDYzNywgMjMuNjY3MTY1XSwgWzEyMC40ODA2NDgsIDIzLjY2NzE3N10sIFsxMjAuNDgwNzY4LCAyMy42NjcxNDJdLCBbMTIwLjQ4MDU1NywgMjMuNjY3MTIyXSwgWzEyMC40ODA2MjgsIDIzLjY2NzE0Ml0sIFsxMjAuNDgwNjU3LCAyMy42NjcwOTVdLCBbMTIwLjQ4MDY1LCAyMy42NjcxNjddLCBbMTIwLjQ4MDcxMywgMjMuNjY3MTMzXSwgWzEyMC40ODA2ODUsIDIzLjY2NzE2XSwgWzEyMC40ODA2NDUsIDIzLjY2NzE0N10sIFsxMjAuNDgwNjkyLCAyMy42NjcxMDhdLCBbMTIwLjQ4MDc1NywgMjMuNjY3MDQ4XSwgWzEyMC40ODA3MTMsIDIzLjY2NzA5M10sIFsxMjAuNDgwNzM3LCAyMy42NjcxMjhdLCBbMTIwLjQ4MDYyNywgMjMuNjY3MTUzXSwgWzEyMC40ODA3MjgsIDIzLjY2NzE2Ml0sIFsxMjAuNDgwODUsIDIzLjY2NzA4M10sIFsxMjAuNDgwNzM4LCAyMy42NjcwNzVdLCBbMTIwLjQ4MDcxOCwgMjMuNjY3MDg1XSwgWzEyMC40ODA3MywgMjMuNjY3MDg4XSwgWzEyMC40ODA2OTMsIDIzLjY2NzA5N10sIFsxMjAuNDgwNzMzLCAyMy42NjY5NzhdLCBbMTIwLjQ4MDY3MywgMjMuNjY3MDQzXSwgWzEyMC40ODA2NDUsIDIzLjY2NzAzM10sIFsxMjAuNDgwNjgsIDIzLjY2N10sIFsxMjAuNDgwNjcyLCAyMy42NjcwMjddLCBbMTIwLjQ4MDY1NywgMjMuNjY3MTI4XSwgWzEyMC40ODA2NDcsIDIzLjY2NzEwM10sIFsxMjAuNDgwNjczLCAyMy42NjcxMzJdLCBbMTIwLjQ4MDY1NSwgMjMuNjY3MDc3XSwgWzEyMC40ODA2NCwgMjMuNjY3MTJdLCBbMTIwLjQ4MDY0NywgMjMuNjY3MTQyXSwgWzEyMC40ODA2MjcsIDIzLjY2NzEzXSwgWzEyMC40ODA2NTcsIDIzLjY2NzAzNV0sIFsxMjAuNDgwNjYyLCAyMy42NjcxMDhdLCBbMTIwLjQ4MDY4LCAyMy42NjcxNTJdLCBbMTIwLjQ4MDY0NywgMjMuNjY3MDNdLCBbMTIwLjQ4MDcwMiwgMjMuNjY3MDQzXSwgWzEyMC40ODA3MzUsIDIzLjY2NzExXSwgWzEyMC40ODA3NSwgMjMuNjY3MDE3XSwgWzEyMC40ODA2NzgsIDIzLjY2NzA4M10sIFsxMjAuNDgwNjgsIDIzLjY2NzA3N10sIFsxMjAuNDgwNzE3LCAyMy42NjcwMzVdLCBbMTIwLjQ4MDcxLCAyMy42NjcwNzddLCBbMTIwLjQ4MDY1NywgMjMuNjY3MTU4XSwgWzEyMC40ODA2NzUsIDIzLjY2NzExNV0sIFsxMjAuNDgwNzEzLCAyMy42NjcwODJdLCBbMTIwLjQ4MDY2NywgMjMuNjY3MTA1XSwgWzEyMC40ODA2MjgsIDIzLjY2NzA1OF0sIFsxMjAuNDgwNjksIDIzLjY2NzA1OF0sIFsxMjAuNDgwNjQ3LCAyMy42NjcwNTNdLCBbMTIwLjQ4MDYzOCwgMjMuNjY3MDQzXSwgWzEyMC40ODA2NjIsIDIzLjY2NzAxNV0sIFsxMjAuNDgwNjQ3LCAyMy42NjcwMzJdLCBbMTIwLjQ4MDY0MiwgMjMuNjY3MDRdLCBbMTIwLjQ4MDY0MiwgMjMuNjY3MDkzXSwgWzEyMC40ODA3NzcsIDIzLjY2NzEwM10sIFsxMjAuNDgwNjg4LCAyMy42NjcxMTNdLCBbMTIwLjQ4MDY5LCAyMy42NjcxNDNdLCBbMTIwLjQ4MDY1MiwgMjMuNjY3MV0sIFsxMjAuNDgwNjUsIDIzLjY2NzA4NV0sIFsxMjAuNDgwNjY1LCAyMy42NjcwNzhdLCBbMTIwLjQ4MDY2NSwgMjMuNjY3MDczXSwgWzEyMC40ODA2OTIsIDIzLjY2NzEzXSwgWzEyMC40ODA3MTIsIDIzLjY2NzE0Ml0sIFsxMjAuNDgwNjk1LCAyMy42NjcwMzVdLCBbMTIwLjQ4MDY5OCwgMjMuNjY3MTA3XSwgWzEyMC40ODA3MDMsIDIzLjY2NzE0XSwgWzEyMC40ODA2NjcsIDIzLjY2NzA5N10sIFsxMjAuNDgwNjQsIDIzLjY2NzAwMl0sIFsxMjAuNTAzMzgzLCAyMy42NTY3MTNdLCBbMTIwLjUwODkwNSwgMjMuNjUwMzE4XSwgWzEyMC41MDkwMDMsIDIzLjY1MDQzOF0sIFsxMjAuNTA5MDQ3LCAyMy42NTA0NjNdLCBbMTIwLjUwOTM3OCwgMjMuNjUxMDg4XSwgWzEyMC40OTk2MTUsIDIzLjY1OTk2M10sIFsxMjAuNDY5MDY1LCAyMy42NzE2NDJdLCBbMTIwLjQ2NjkzNSwgMjMuNjcwNzUzXSwgWzEyMC40NjUyNDcsIDIzLjY2NDk1XSwgWzEyMC40NjY4ODcsIDIzLjY1OTU3XSwgWzEyMC40MTUyMzMsIDIzLjY4OTYwOF0sIFsxMjAuNDEwNTc3LCAyMy42ODYwNTVdLCBbMTIwLjM4NTUxNSwgMjMuNjcwNDI1XSwgWzEyMC4zNDAzMDUsIDIzLjYzNzA2Ml0sIFsxMjAuMzI0MTEyLCAyMy41OTYyMTVdLCBbMTIwLjI5ODE4NywgMjMuNTgxMzE3XSwgWzEyMC4yOTE3MTUsIDIzLjU2MTY0OF0sIFsxMjAuMjgyMTUzLCAyMy41MzA3MTNdLCBbMTIwLjI1Njg3NywgMjMuNTA5NTc3XSwgWzEyMC4yNTczOTMsIDIzLjUxMDM1OF0sIFsxMjAuMjU1NDUsIDIzLjUzMDc0XSwgWzEyMC4yNTc1MTMsIDIzLjUzMTk3XSwgWzEyMC4yNTcxODMsIDIzLjUzMjFdLCBbMTIwLjI1NzI5MiwgMjMuNTMyMDA3XSwgWzEyMC4yNTczODIsIDIzLjUzMTk4XSwgWzEyMC4yNTczNCwgMjMuNTMxOTMzXSwgWzEyMC4yNTczMywgMjMuNTMxOTEyXSwgWzEyMC4yNTc0MjUsIDIzLjUzMjAwMl0sIFsxMjAuMjU3NDI3LCAyMy41MzE4NTNdLCBbMTIwLjI1NzcwNywgMjMuNTMxMzkyXSwgWzEyMC4yNTc0NCwgMjMuNTMxMTc4XSwgWzEyMC4yNTc5NDgsIDIzLjUzMTg2XSwgWzEyMC4yNTc3NTIsIDIzLjUzMTUxN10sIFsxMjAuMjU3NTM4LCAyMy41MzE0MDVdLCBbMTIwLjI1NzU1NSwgMjMuNTMxMzg1XSwgWzEyMC4yNTczNzUsIDIzLjUzMTIzOF0sIFsxMjAuMjU3Njc4LCAyMy41MzEzOThdLCBbMTIwLjI1NzUxOCwgMjMuNTMxMjY1XSwgWzEyMC4yNTc0NDIsIDIzLjUzMTM2N10sIFsxMjAuMjU3NjcyLCAyMy41MzE2N10sIFsxMjAuMjU3NjQsIDIzLjUzMTcyMl0sIFsxMjAuMjU3Njg1LCAyMy41MzE1NzhdLCBbMTIwLjI1NzYyMywgMjMuNTMxNzNdLCBbMTIwLjI1NzQxNywgMjMuNTMxNjY4XSwgWzEyMC4yNTc0NDIsIDIzLjUzMTczNV0sIFsxMjAuMjU3NTkzLCAyMy41MzE3MTNdLCBbMTIwLjI1NzUxOCwgMjMuNTMxNzkzXSwgWzEyMC4yNjUzOTgsIDIzLjUyNzM3OF0sIFsxMjAuMjU3MjA3LCAyMy41MTA2MThdLCBbMTIwLjI4MTIyNywgMjMuNTM2Mjk3XSwgWzEyMC4yOTI0MjIsIDIzLjU3MTQ4M10sIFsxMjAuMjk5MzMyLCAyMy41ODM1MDVdLCBbMTIwLjMzMzUwMywgMjMuNjEyNjE3XSwgWzEyMC4zNTExOTcsIDIzLjY1MDI0M10sIFsxMjAuMzk1NjkyLCAyMy42NzI1MDhdLCBbMTIwLjQwNzQzOCwgMjMuNjgxMjk1XSwgWzEyMC40Mzk3NjUsIDIzLjY3ODM5XSwgWzEyMC40NjU4NjcsIDIzLjY2OTk1Ml0sIFsxMjAuNDY2OTAyLCAyMy42NzA0NTVdLCBbMTIwLjQ2NzQ5LCAyMy42NzA0MzJdLCBbMTIwLjQ4MTE1MywgMjMuNjgzODkyXSwgWzEyMC40ODAwNTUsIDIzLjY5MjYxM10sIFsxMjAuNDc0NTY4LCAyMy42OTI5NzhdLCBbMTIwLjQ3NDcsIDIzLjY5MzA4XSwgWzEyMC40NzQ3MTUsIDIzLjY5MzE0N10sIFsxMjAuNDc0NjM4LCAyMy42OTMxODhdLCBbMTIwLjQ3Mjk0LCAyMy42OTYwMl0sIFsxMjAuNDcwMjUsIDIzLjc2OTA2Ml0sIFsxMjAuNDg0NDYsIDIzLjg0MzAwN10sIFsxMjAuNDk3NTkyLCAyMy45MjA1MzddLCBbMTIwLjUxNDM0LCAyNC4wMTMwNzddLCBbMTIwLjUzMTAzNywgMjQuMDg5NTEyXSwgWzEyMC42MDYyLCAyNC4xMTE5MzhdLCBbMTIwLjY5ODEyNywgMjQuMzAzNTEzXSwgWzEyMC43MzY4NSwgMjQuMzU4NjM3XSwgWzEyMC43NzQ1NjMsIDI0LjQxNDU2OF0sIFsxMjAuNzgyODMyLCAyNC40OTMwNDddLCBbMTIwLjg0MDU3NywgMjQuNTU0MjY1XSwgWzEyMC44NjcyMjgsIDI0LjYyOTYwOF0sIFsxMjAuOTIwMjI4LCAyNC42OTQzNTNdLCBbMTIwLjk3MzYwMywgMjQuNzQwNzIyXSwgWzEyMS4wMjk0ODUsIDI0Ljc1NzUxM10sIFsxMjEuMDk2NTEsIDI0Ljc3NzY5N10sIFsxMjEuMTYyODg1LCAyNC44MDU2ODNdLCBbMTIxLjE5OTcwOCwgMjQuODMxNDA1XSwgWzEyMS4yMzQxMjgsIDI0Ljg2NTI4OF0sIFsxMjEuMjg1NTYsIDI0LjkwNzcwMl0sIFsxMjEuMzQ4MDIzLCAyNC45MzQ1ODJdLCBbMTIxLjQxOTQzLCAyNC45NTUxNjddLCBbMTIxLjQ3ODc0MywgMjQuOTg3NzNdLCBbMTIxLjQ3MTEwNywgMjUuMDE4NzQ4XSwgWzEyMS40ODU0MzcsIDI1LjAyODU2XSwgWzEyMS40ODc0NjcsIDI1LjAyOTUzNV0sIFsxMjEuNDg4NTYyLCAyNS4wMjkzOTVdLCBbMTIxLjQ4ODkyOCwgMjUuMDI4NjU1XSwgWzEyMS40ODg5ODgsIDI1LjAyOTU1OF0sIFsxMjEuNDg5MzMyLCAyNS4wMjg5M10sIFsxMjEuNDg4NzYsIDI1LjAzMDA5OF0sIFsxMjEuNDg4Njk1LCAyNS4wMjk0NThdLCBbMTIxLjQ4ODU0LCAyNS4wMzAzMzddLCBbMTIxLjQ4ODk3LCAyNS4wMjk0ODhdLCBbMTIxLjQ4ODY5NywgMjUuMDI5NTldLCBbMTIxLjQ4OTMwMywgMjUuMDI5NDddLCBbMTIxLjQ4ODY1MywgMjUuMDI5MjAzXSwgWzEyMS40ODg4MzUsIDI1LjAyOTc3XSwgWzEyMS40ODkwOTgsIDI1LjAyOTA3N10sIFsxMjEuNDg5MzMsIDI1LjAyOTI3NV0sIFsxMjEuNDg4ODA4LCAyNS4wMjk2NDVdLCBbMTIxLjQ4ODc1OCwgMjUuMDI5Mjc3XSwgWzEyMS40ODk3MjgsIDI1LjAyOTQ5N10sIFsxMjEuNDg5NTYzLCAyNS4wMjk0OTVdLCBbMTIxLjQ4OTQyMywgMjUuMDI5MzQ3XSwgWzEyMS40NzgzNDMsIDI1LjA0MjUzOF0sIFsxMjEuNDQwODQyLCAyNS4wODIwNF0sIFsxMjEuNDQ1MDg1LCAyNS4wNzA5MjddXSwgInR5cGUiOiAiTGluZVN0cmluZyJ9LCAiaWQiOiAiMCIsICJ0eXBlIjogIkZlYXR1cmUifV0sICJ0eXBlIjogIkZlYXR1cmVDb2xsZWN0aW9uIn0pOwogICAgICAgIAogICAgCiAgICAgICAgICAgIEwuQ29udHJvbC5UaW1lRGltZW5zaW9uQ3VzdG9tID0gTC5Db250cm9sLlRpbWVEaW1lbnNpb24uZXh0ZW5kKHsKICAgICAgICAgICAgICAgIF9nZXREaXNwbGF5RGF0ZUZvcm1hdDogZnVuY3Rpb24oZGF0ZSl7CiAgICAgICAgICAgICAgICAgICAgdmFyIG5ld2RhdGUgPSBuZXcgbW9tZW50KGRhdGUpOwogICAgICAgICAgICAgICAgICAgIGNvbnNvbGUubG9nKG5ld2RhdGUpCiAgICAgICAgICAgICAgICAgICAgcmV0dXJuIG5ld2RhdGUuZm9ybWF0KCJZWVlZL01NL0REIEhIOm1tOnNzIik7CiAgICAgICAgICAgICAgICB9CiAgICAgICAgICAgIH0pOwogICAgICAgICAgICBtYXBfOGYxN2RiYWI1ZWY1NGU1ODhiNTg1YThkNGE5OGE5OWQudGltZURpbWVuc2lvbiA9IEwudGltZURpbWVuc2lvbigKICAgICAgICAgICAgICAgIHsKICAgICAgICAgICAgICAgICAgICBwZXJpb2Q6ICJQVDJIIiwKICAgICAgICAgICAgICAgIH0KICAgICAgICAgICAgKTsKICAgICAgICAgICAgdmFyIHRpbWVEaW1lbnNpb25Db250cm9sID0gbmV3IEwuQ29udHJvbC5UaW1lRGltZW5zaW9uQ3VzdG9tKAogICAgICAgICAgICAgICAgeyJhdXRvUGxheSI6IHRydWUsICJsb29wQnV0dG9uIjogdHJ1ZSwgIm1heFNwZWVkIjogMSwgIm1pblNwZWVkIjogMC4xLCAicGxheWVyT3B0aW9ucyI6IHsibG9vcCI6IGZhbHNlLCAic3RhcnRPdmVyIjogdHJ1ZSwgInRyYW5zaXRpb25UaW1lIjogMjAwfSwgInBvc2l0aW9uIjogImJvdHRvbWxlZnQiLCAidGltZVNsaWRlckRyYWdVcGRhdGUiOiB0cnVlfQogICAgICAgICAgICApOwogICAgICAgICAgICBtYXBfOGYxN2RiYWI1ZWY1NGU1ODhiNTg1YThkNGE5OGE5OWQuYWRkQ29udHJvbCh0aGlzLnRpbWVEaW1lbnNpb25Db250cm9sKTsKCiAgICAgICAgICAgIHZhciBnZW9Kc29uTGF5ZXIgPSBMLmdlb0pzb24oeyJ0eXBlIjogIkZlYXR1cmVDb2xsZWN0aW9uIiwgImZlYXR1cmVzIjogW3siZ2VvbWV0cnkiOiB7ImNvb3JkaW5hdGVzIjogWzEyMC4yNTY2NDcsIDIzLjUxMTA4Ml0sICJ0eXBlIjogIlBvaW50In0sICJwcm9wZXJ0aWVzIjogeyJpY29uIjogIm1hcmtlciIsICJpY29uc3R5bGUiOiB7Imljb25TaXplIjogWzQwLCA0MF0sICJpY29uVXJsIjogImh0dHBzOi8vd3d3LmZsYXRpY29uLmNvbS9zdmcvdnN0YXRpYy9zdmcvNjY0LzY2NDQ2OC5zdmc/dG9rZW49ZXhwPTE2MTYxMzgwMTh+aG1hYz1jMDRjNjk4M2UxMDczMDc3M2U1ZjVmMTI0ZjdiNDJlNSJ9LCAiaWQiOiAiaG91c2UiLCAicG9wdXAiOiAxLCAidGltZXMiOiBbIjIwMjEvMDUvMjYsIDEzOjE2OjExIiwgIjIwMjEvMDUvMjYsIDEzOjE2OjExIl19LCAidHlwZSI6ICJGZWF0dXJlIn0sIHsiZ2VvbWV0cnkiOiB7ImNvb3JkaW5hdGVzIjogWzEyMC4yNTY4NzcsIDIzLjUwOTU3N10sICJ0eXBlIjogIlBvaW50In0sICJwcm9wZXJ0aWVzIjogeyJpY29uIjogIm1hcmtlciIsICJpY29uc3R5bGUiOiB7Imljb25TaXplIjogWzQwLCA0MF0sICJpY29uVXJsIjogImh0dHBzOi8vd3d3LmZsYXRpY29uLmNvbS9zdmcvdnN0YXRpYy9zdmcvNjY0LzY2NDQ2OC5zdmc/dG9rZW49ZXhwPTE2MTYxMzgwMTh+aG1hYz1jMDRjNjk4M2UxMDczMDc3M2U1ZjVmMTI0ZjdiNDJlNSJ9LCAiaWQiOiAiaG91c2UiLCAicG9wdXAiOiAxLCAidGltZXMiOiBbIjIwMjEvMDUvMjcsIDE0OjI4OjI0IiwgIjIwMjEvMDUvMjcsIDE0OjI4OjI0Il19LCAidHlwZSI6ICJGZWF0dXJlIn0sIHsiZ2VvbWV0cnkiOiB7ImNvb3JkaW5hdGVzIjogWzEyMC4yNTcxMDUsIDIzLjUzMTUwN10sICJ0eXBlIjogIlBvaW50In0sICJwcm9wZXJ0aWVzIjogeyJpY29uIjogIm1hcmtlciIsICJpY29uc3R5bGUiOiB7Imljb25TaXplIjogWzQwLCA0MF0sICJpY29uVXJsIjogImh0dHBzOi8vd3d3LmZsYXRpY29uLmNvbS9zdmcvdnN0YXRpYy9zdmcvNjY0LzY2NDQ2OC5zdmc/dG9rZW49ZXhwPTE2MTYxMzgwMTh+aG1hYz1jMDRjNjk4M2UxMDczMDc3M2U1ZjVmMTI0ZjdiNDJlNSJ9LCAiaWQiOiAiaG91c2UiLCAicG9wdXAiOiAxLCAidGltZXMiOiBbIjIwMjEvMDUvMjYsIDEzOjU2OjQ2IiwgIjIwMjEvMDUvMjYsIDEzOjU2OjQ2Il19LCAidHlwZSI6ICJGZWF0dXJlIn0sIHsiZ2VvbWV0cnkiOiB7ImNvb3JkaW5hdGVzIjogWzEyMC4yNTcxOTIsIDIzLjUxMDcyN10sICJ0eXBlIjogIlBvaW50In0sICJwcm9wZXJ0aWVzIjogeyJpY29uIjogIm1hcmtlciIsICJpY29uc3R5bGUiOiB7Imljb25TaXplIjogWzQwLCA0MF0sICJpY29uVXJsIjogImh0dHBzOi8vd3d3LmZsYXRpY29uLmNvbS9zdmcvdnN0YXRpYy9zdmcvNjY0LzY2NDQ2OC5zdmc/dG9rZW49ZXhwPTE2MTYxMzgwMTh+aG1hYz1jMDRjNjk4M2UxMDczMDc3M2U1ZjVmMTI0ZjdiNDJlNSJ9LCAiaWQiOiAiaG91c2UiLCAicG9wdXAiOiAxLCAidGltZXMiOiBbIjIwMjEvMDUvMjYsIDEzOjIxOjExIiwgIjIwMjEvMDUvMjYsIDEzOjIxOjExIl19LCAidHlwZSI6ICJGZWF0dXJlIn0sIHsiZ2VvbWV0cnkiOiB7ImNvb3JkaW5hdGVzIjogWzEyMC4yNTcyMDcsIDIzLjUxMDYxOF0sICJ0eXBlIjogIlBvaW50In0sICJwcm9wZXJ0aWVzIjogeyJpY29uIjogIm1hcmtlciIsICJpY29uc3R5bGUiOiB7Imljb25TaXplIjogWzQwLCA0MF0sICJpY29uVXJsIjogImh0dHBzOi8vd3d3LmZsYXRpY29uLmNvbS9zdmcvdnN0YXRpYy9zdmcvNjY0LzY2NDQ2OC5zdmc/dG9rZW49ZXhwPTE2MTYxMzgwMTh+aG1hYz1jMDRjNjk4M2UxMDczMDc3M2U1ZjVmMTI0ZjdiNDJlNSJ9LCAiaWQiOiAiaG91c2UiLCAicG9wdXAiOiAxLCAidGltZXMiOiBbIjIwMjEvMDUvMjcsIDE3OjE5OjQ1IiwgIjIwMjEvMDUvMjcsIDE3OjE5OjQ1Il19LCAidHlwZSI6ICJGZWF0dXJlIn0sIHsiZ2VvbWV0cnkiOiB7ImNvb3JkaW5hdGVzIjogWzEyMC4yNTczMDUsIDIzLjUzMTM3M10sICJ0eXBlIjogIlBvaW50In0sICJwcm9wZXJ0aWVzIjogeyJpY29uIjogIm1hcmtlciIsICJpY29uc3R5bGUiOiB7Imljb25TaXplIjogWzQwLCA0MF0sICJpY29uVXJsIjogImh0dHBzOi8vd3d3LmZsYXRpY29uLmNvbS9zdmcvdnN0YXRpYy9zdmcvNjY0LzY2NDQ2OC5zdmc/dG9rZW49ZXhwPTE2MTYxMzgwMTh+aG1hYz1jMDRjNjk4M2UxMDczMDc3M2U1ZjVmMTI0ZjdiNDJlNSJ9LCAiaWQiOiAiaG91c2UiLCAicG9wdXAiOiAxLCAidGltZXMiOiBbIjIwMjEvMDUvMjYsIDEzOjUxOjQ1IiwgIjIwMjEvMDUvMjYsIDEzOjUxOjQ1Il19LCAidHlwZSI6ICJGZWF0dXJlIn0sIHsiZ2VvbWV0cnkiOiB7ImNvb3JkaW5hdGVzIjogWzEyMC4yNTczOTMsIDIzLjUxMDM1OF0sICJ0eXBlIjogIlBvaW50In0sICJwcm9wZXJ0aWVzIjogeyJpY29uIjogIm1hcmtlciIsICJpY29uc3R5bGUiOiB7Imljb25TaXplIjogWzQwLCA0MF0sICJpY29uVXJsIjogImh0dHBzOi8vd3d3LmZsYXRpY29uLmNvbS9zdmcvdnN0YXRpYy9zdmcvNjY0LzY2NDQ2OC5zdmc/dG9rZW49ZXhwPTE2MTYxMzgwMTh+aG1hYz1jMDRjNjk4M2UxMDczMDc3M2U1ZjVmMTI0ZjdiNDJlNSJ9LCAiaWQiOiAiaG91c2UiLCAicG9wdXAiOiAxLCAidGltZXMiOiBbIjIwMjEvMDUvMjcsIDE0OjMzOjU2IiwgIjIwMjEvMDUvMjcsIDE0OjMzOjU2Il19LCAidHlwZSI6ICJGZWF0dXJlIn0sIHsiZ2VvbWV0cnkiOiB7ImNvb3JkaW5hdGVzIjogWzEyMC4yNTc0LCAyMy41MzE1NjJdLCAidHlwZSI6ICJQb2ludCJ9LCAicHJvcGVydGllcyI6IHsiaWNvbiI6ICJtYXJrZXIiLCAiaWNvbnN0eWxlIjogeyJpY29uU2l6ZSI6IFs0MCwgNDBdLCAiaWNvblVybCI6ICJodHRwczovL3d3dy5mbGF0aWNvbi5jb20vc3ZnL3ZzdGF0aWMvc3ZnLzY2NC82NjQ0Njguc3ZnP3Rva2VuPWV4cD0xNjE2MTM4MDE4fmhtYWM9YzA0YzY5ODNlMTA3MzA3NzNlNWY1ZjEyNGY3YjQyZTUifSwgImlkIjogImhvdXNlIiwgInBvcHVwIjogMSwgInRpbWVzIjogWyIyMDIxLzA1LzI2LCAxNjoyMjozNiIsICIyMDIxLzA1LzI2LCAxNjoyMjozNiJdfSwgInR5cGUiOiAiRmVhdHVyZSJ9LCB7Imdlb21ldHJ5IjogeyJjb29yZGluYXRlcyI6IFsxMjAuMjU3NDE1LCAyMy41MzE1OThdLCAidHlwZSI6ICJQb2ludCJ9LCAicHJvcGVydGllcyI6IHsiaWNvbiI6ICJtYXJrZXIiLCAiaWNvbnN0eWxlIjogeyJpY29uU2l6ZSI6IFs0MCwgNDBdLCAiaWNvblVybCI6ICJodHRwczovL3d3dy5mbGF0aWNvbi5jb20vc3ZnL3ZzdGF0aWMvc3ZnLzY2NC82NjQ0Njguc3ZnP3Rva2VuPWV4cD0xNjE2MTM4MDE4fmhtYWM9YzA0YzY5ODNlMTA3MzA3NzNlNWY1ZjEyNGY3YjQyZTUifSwgImlkIjogImhvdXNlIiwgInBvcHVwIjogMSwgInRpbWVzIjogWyIyMDIxLzA1LzI2LCAxNjoyNzozNyIsICIyMDIxLzA1LzI2LCAxNjoyNzozNyJdfSwgInR5cGUiOiAiRmVhdHVyZSJ9LCB7Imdlb21ldHJ5IjogeyJjb29yZGluYXRlcyI6IFsxMjAuMjU3NDE3LCAyMy41MzE2NjhdLCAidHlwZSI6ICJQb2ludCJ9LCAicHJvcGVydGllcyI6IHsiaWNvbiI6ICJtYXJrZXIiLCAiaWNvbnN0eWxlIjogeyJpY29uU2l6ZSI6IFs0MCwgNDBdLCAiaWNvblVybCI6ICJodHRwczovL3d3dy5mbGF0aWNvbi5jb20vc3ZnL3ZzdGF0aWMvc3ZnLzY2NC82NjQ0Njguc3ZnP3Rva2VuPWV4cD0xNjE2MTM4MDE4fmhtYWM9YzA0YzY5ODNlMTA3MzA3NzNlNWY1ZjEyNGY3YjQyZTUifSwgImlkIjogImhvdXNlIiwgInBvcHVwIjogMSwgInRpbWVzIjogWyIyMDIxLzA1LzI3LCAxNjo1NDozNiIsICIyMDIxLzA1LzI3LCAxNjo1NDozNiJdfSwgInR5cGUiOiAiRmVhdHVyZSJ9LCB7Imdlb21ldHJ5IjogeyJjb29yZGluYXRlcyI6IFsxMjAuMjU3NDI3LCAyMy41MzE4NTNdLCAidHlwZSI6ICJQb2ludCJ9LCAicHJvcGVydGllcyI6IHsiaWNvbiI6ICJtYXJrZXIiLCAiaWNvbnN0eWxlIjogeyJpY29uU2l6ZSI6IFs0MCwgNDBdLCAiaWNvblVybCI6ICJodHRwczovL3d3dy5mbGF0aWNvbi5jb20vc3ZnL3ZzdGF0aWMvc3ZnLzY2NC82NjQ0Njguc3ZnP3Rva2VuPWV4cD0xNjE2MTM4MDE4fmhtYWM9YzA0YzY5ODNlMTA3MzA3NzNlNWY1ZjEyNGY3YjQyZTUifSwgImlkIjogImhvdXNlIiwgInBvcHVwIjogMSwgInRpbWVzIjogWyIyMDIxLzA1LzI3LCAxNToyNDo0NiIsICIyMDIxLzA1LzI3LCAxNToyNDo0NiJdfSwgInR5cGUiOiAiRmVhdHVyZSJ9LCB7Imdlb21ldHJ5IjogeyJjb29yZGluYXRlcyI6IFsxMjAuMjU3NTEzLCAyMy41MzE5N10sICJ0eXBlIjogIlBvaW50In0sICJwcm9wZXJ0aWVzIjogeyJpY29uIjogIm1hcmtlciIsICJpY29uc3R5bGUiOiB7Imljb25TaXplIjogWzQwLCA0MF0sICJpY29uVXJsIjogImh0dHBzOi8vd3d3LmZsYXRpY29uLmNvbS9zdmcvdnN0YXRpYy9zdmcvNjY0LzY2NDQ2OC5zdmc/dG9rZW49ZXhwPTE2MTYxMzgwMTh+aG1hYz1jMDRjNjk4M2UxMDczMDc3M2U1ZjVmMTI0ZjdiNDJlNSJ9LCAiaWQiOiAiaG91c2UiLCAicG9wdXAiOiAxLCAidGltZXMiOiBbIjIwMjEvMDUvMjcsIDE0OjQzOjU4IiwgIjIwMjEvMDUvMjcsIDE0OjQzOjU4Il19LCAidHlwZSI6ICJGZWF0dXJlIn0sIHsiZ2VvbWV0cnkiOiB7ImNvb3JkaW5hdGVzIjogWzEyMC4yNTc1MzgsIDIzLjUzMTcyOF0sICJ0eXBlIjogIlBvaW50In0sICJwcm9wZXJ0aWVzIjogeyJpY29uIjogIm1hcmtlciIsICJpY29uc3R5bGUiOiB7Imljb25TaXplIjogWzQwLCA0MF0sICJpY29uVXJsIjogImh0dHBzOi8vd3d3LmZsYXRpY29uLmNvbS9zdmcvdnN0YXRpYy9zdmcvNjY0LzY2NDQ2OC5zdmc/dG9rZW49ZXhwPTE2MTYxMzgwMTh+aG1hYz1jMDRjNjk4M2UxMDczMDc3M2U1ZjVmMTI0ZjdiNDJlNSJ9LCAiaWQiOiAiaG91c2UiLCAicG9wdXAiOiAxLCAidGltZXMiOiBbIjIwMjEvMDUvMjYsIDE0OjAxOjQ3IiwgIjIwMjEvMDUvMjYsIDE0OjAxOjQ3Il19LCAidHlwZSI6ICJGZWF0dXJlIn0sIHsiZ2VvbWV0cnkiOiB7ImNvb3JkaW5hdGVzIjogWzEyMC4yNTc1NjUsIDIzLjUzMTY2OF0sICJ0eXBlIjogIlBvaW50In0sICJwcm9wZXJ0aWVzIjogeyJpY29uIjogIm1hcmtlciIsICJpY29uc3R5bGUiOiB7Imljb25TaXplIjogWzQwLCA0MF0sICJpY29uVXJsIjogImh0dHBzOi8vd3d3LmZsYXRpY29uLmNvbS9zdmcvdnN0YXRpYy9zdmcvNjY0LzY2NDQ2OC5zdmc/dG9rZW49ZXhwPTE2MTYxMzgwMTh+aG1hYz1jMDRjNjk4M2UxMDczMDc3M2U1ZjVmMTI0ZjdiNDJlNSJ9LCAiaWQiOiAiaG91c2UiLCAicG9wdXAiOiAxLCAidGltZXMiOiBbIjIwMjEvMDUvMjYsIDEzOjM2OjQ1IiwgIjIwMjEvMDUvMjYsIDEzOjM2OjQ1Il19LCAidHlwZSI6ICJGZWF0dXJlIn0sIHsiZ2VvbWV0cnkiOiB7ImNvb3JkaW5hdGVzIjogWzEyMC4yNTc1OTIsIDIzLjUzMTY2XSwgInR5cGUiOiAiUG9pbnQifSwgInByb3BlcnRpZXMiOiB7Imljb24iOiAibWFya2VyIiwgImljb25zdHlsZSI6IHsiaWNvblNpemUiOiBbNDAsIDQwXSwgImljb25VcmwiOiAiaHR0cHM6Ly93d3cuZmxhdGljb24uY29tL3N2Zy92c3RhdGljL3N2Zy82NjQvNjY0NDY4LnN2Zz90b2tlbj1leHA9MTYxNjEzODAxOH5obWFjPWMwNGM2OTgzZTEwNzMwNzczZTVmNWYxMjRmN2I0MmU1In0sICJpZCI6ICJob3VzZSIsICJwb3B1cCI6IDEsICJ0aW1lcyI6IFsiMjAyMS8wNS8yNiwgMTU6NTk6MDQiLCAiMjAyMS8wNS8yNiwgMTU6NTk6MDQiXX0sICJ0eXBlIjogIkZlYXR1cmUifSwgeyJnZW9tZXRyeSI6IHsiY29vcmRpbmF0ZXMiOiBbMTIwLjI1NzU5MywgMjMuNTMxNjUyXSwgInR5cGUiOiAiUG9pbnQifSwgInByb3BlcnRpZXMiOiB7Imljb24iOiAibWFya2VyIiwgImljb25zdHlsZSI6IHsiaWNvblNpemUiOiBbNDAsIDQwXSwgImljb25VcmwiOiAiaHR0cHM6Ly93d3cuZmxhdGljb24uY29tL3N2Zy92c3RhdGljL3N2Zy82NjQvNjY0NDY4LnN2Zz90b2tlbj1leHA9MTYxNjEzODAxOH5obWFjPWMwNGM2OTgzZTEwNzMwNzczZTVmNWYxMjRmN2I0MmU1In0sICJpZCI6ICJob3VzZSIsICJwb3B1cCI6IDEsICJ0aW1lcyI6IFsiMjAyMS8wNS8yNiwgMTU6MTc6MDEiLCAiMjAyMS8wNS8yNiwgMTU6MTc6MDEiXX0sICJ0eXBlIjogIkZlYXR1cmUifSwgeyJnZW9tZXRyeSI6IHsiY29vcmRpbmF0ZXMiOiBbMTIwLjI1NzYwNywgMjMuNTMxNzRdLCAidHlwZSI6ICJQb2ludCJ9LCAicHJvcGVydGllcyI6IHsiaWNvbiI6ICJtYXJrZXIiLCAiaWNvbnN0eWxlIjogeyJpY29uU2l6ZSI6IFs0MCwgNDBdLCAiaWNvblVybCI6ICJodHRwczovL3d3dy5mbGF0aWNvbi5jb20vc3ZnL3ZzdGF0aWMvc3ZnLzY2NC82NjQ0Njguc3ZnP3Rva2VuPWV4cD0xNjE2MTM4MDE4fmhtYWM9YzA0YzY5ODNlMTA3MzA3NzNlNWY1ZjEyNGY3YjQyZTUifSwgImlkIjogImhvdXNlIiwgInBvcHVwIjogMSwgInRpbWVzIjogWyIyMDIxLzA1LzI2LCAxMzozMTo0NCIsICIyMDIxLzA1LzI2LCAxMzozMTo0NCJdfSwgInR5cGUiOiAiRmVhdHVyZSJ9LCB7Imdlb21ldHJ5IjogeyJjb29yZGluYXRlcyI6IFsxMjAuMjU3NjIzLCAyMy41MzE3M10sICJ0eXBlIjogIlBvaW50In0sICJwcm9wZXJ0aWVzIjogeyJpY29uIjogIm1hcmtlciIsICJpY29uc3R5bGUiOiB7Imljb25TaXplIjogWzQwLCA0MF0sICJpY29uVXJsIjogImh0dHBzOi8vd3d3LmZsYXRpY29uLmNvbS9zdmcvdnN0YXRpYy9zdmcvNjY0LzY2NDQ2OC5zdmc/dG9rZW49ZXhwPTE2MTYxMzgwMTh+aG1hYz1jMDRjNjk4M2UxMDczMDc3M2U1ZjVmMTI0ZjdiNDJlNSJ9LCAiaWQiOiAiaG91c2UiLCAicG9wdXAiOiAxLCAidGltZXMiOiBbIjIwMjEvMDUvMjcsIDE2OjQ5OjM2IiwgIjIwMjEvMDUvMjcsIDE2OjQ5OjM2Il19LCAidHlwZSI6ICJGZWF0dXJlIn0sIHsiZ2VvbWV0cnkiOiB7ImNvb3JkaW5hdGVzIjogWzEyMC4yOTgxODcsIDIzLjU4MTMxN10sICJ0eXBlIjogIlBvaW50In0sICJwcm9wZXJ0aWVzIjogeyJpY29uIjogIm1hcmtlciIsICJpY29uc3R5bGUiOiB7Imljb25TaXplIjogWzQwLCA0MF0sICJpY29uVXJsIjogImh0dHBzOi8vd3d3LmZsYXRpY29uLmNvbS9zdmcvdnN0YXRpYy9zdmcvNjY0LzY2NDQ2OC5zdmc/dG9rZW49ZXhwPTE2MTYxMzgwMTh+aG1hYz1jMDRjNjk4M2UxMDczMDc3M2U1ZjVmMTI0ZjdiNDJlNSJ9LCAiaWQiOiAiaG91c2UiLCAicG9wdXAiOiAxLCAidGltZXMiOiBbIjIwMjEvMDUvMjcsIDE0OjEyOjQ3IiwgIjIwMjEvMDUvMjcsIDE0OjEyOjQ3Il19LCAidHlwZSI6ICJGZWF0dXJlIn0sIHsiZ2VvbWV0cnkiOiB7ImNvb3JkaW5hdGVzIjogWzEyMC40MTA1NzcsIDIzLjY4NjA1NV0sICJ0eXBlIjogIlBvaW50In0sICJwcm9wZXJ0aWVzIjogeyJpY29uIjogIm1hcmtlciIsICJpY29uc3R5bGUiOiB7Imljb25TaXplIjogWzQwLCA0MF0sICJpY29uVXJsIjogImh0dHBzOi8vd3d3LmZsYXRpY29uLmNvbS9zdmcvdnN0YXRpYy9zdmcvNjY0LzY2NDQ2OC5zdmc/dG9rZW49ZXhwPTE2MTYxMzgwMTh+aG1hYz1jMDRjNjk4M2UxMDczMDc3M2U1ZjVmMTI0ZjdiNDJlNSJ9LCAiaWQiOiAiaG91c2UiLCAicG9wdXAiOiAxLCAidGltZXMiOiBbIjIwMjEvMDUvMjcsIDEzOjUyOjQwIiwgIjIwMjEvMDUvMjcsIDEzOjUyOjQwIl19LCAidHlwZSI6ICJGZWF0dXJlIn0sIHsiZ2VvbWV0cnkiOiB7ImNvb3JkaW5hdGVzIjogWzEyMC40NjY2MDcsIDIzLjY3MDQ5XSwgInR5cGUiOiAiUG9pbnQifSwgInByb3BlcnRpZXMiOiB7Imljb24iOiAibWFya2VyIiwgImljb25zdHlsZSI6IHsiaWNvblNpemUiOiBbNDAsIDQwXSwgImljb25VcmwiOiAiaHR0cHM6Ly93d3cuZmxhdGljb24uY29tL3N2Zy92c3RhdGljL3N2Zy82NjQvNjY0NDY4LnN2Zz90b2tlbj1leHA9MTYxNjEzODAxOH5obWFjPWMwNGM2OTgzZTEwNzMwNzczZTVmNWYxMjRmN2I0MmU1In0sICJpZCI6ICJob3VzZSIsICJwb3B1cCI6IDEsICJ0aW1lcyI6IFsiMjAyMS8wNS8yNiwgMTc6MzM6NTYiLCAiMjAyMS8wNS8yNiwgMTc6MzM6NTYiXX0sICJ0eXBlIjogIkZlYXR1cmUifSwgeyJnZW9tZXRyeSI6IHsiY29vcmRpbmF0ZXMiOiBbMTIwLjQ2NjkwMiwgMjMuNjcwNDU1XSwgInR5cGUiOiAiUG9pbnQifSwgInByb3BlcnRpZXMiOiB7Imljb24iOiAibWFya2VyIiwgImljb25zdHlsZSI6IHsiaWNvblNpemUiOiBbNDAsIDQwXSwgImljb25VcmwiOiAiaHR0cHM6Ly93d3cuZmxhdGljb24uY29tL3N2Zy92c3RhdGljL3N2Zy82NjQvNjY0NDY4LnN2Zz90b2tlbj1leHA9MTYxNjEzODAxOH5obWFjPWMwNGM2OTgzZTEwNzMwNzczZTVmNWYxMjRmN2I0MmU1In0sICJpZCI6ICJob3VzZSIsICJwb3B1cCI6IDEsICJ0aW1lcyI6IFsiMjAyMS8wNS8yNywgMTg6MTA6MDEiLCAiMjAyMS8wNS8yNywgMTg6MTA6MDEiXX0sICJ0eXBlIjogIkZlYXR1cmUifSwgeyJnZW9tZXRyeSI6IHsiY29vcmRpbmF0ZXMiOiBbMTIwLjQ2NjkzNSwgMjMuNjcwNzUzXSwgInR5cGUiOiAiUG9pbnQifSwgInByb3BlcnRpZXMiOiB7Imljb24iOiAibWFya2VyIiwgImljb25zdHlsZSI6IHsiaWNvblNpemUiOiBbNDAsIDQwXSwgImljb25VcmwiOiAiaHR0cHM6Ly93d3cuZmxhdGljb24uY29tL3N2Zy92c3RhdGljL3N2Zy82NjQvNjY0NDY4LnN2Zz90b2tlbj1leHA9MTYxNjEzODAxOH5obWFjPWMwNGM2OTgzZTEwNzMwNzczZTVmNWYxMjRmN2I0MmU1In0sICJpZCI6ICJob3VzZSIsICJwb3B1cCI6IDEsICJ0aW1lcyI6IFsiMjAyMS8wNS8yNywgMTM6MzI6MzciLCAiMjAyMS8wNS8yNywgMTM6MzI6MzciXX0sICJ0eXBlIjogIkZlYXR1cmUifSwgeyJnZW9tZXRyeSI6IHsiY29vcmRpbmF0ZXMiOiBbMTIwLjQ2Njk0NywgMjMuNjcwODFdLCAidHlwZSI6ICJQb2ludCJ9LCAicHJvcGVydGllcyI6IHsiaWNvbiI6ICJtYXJrZXIiLCAiaWNvbnN0eWxlIjogeyJpY29uU2l6ZSI6IFs0MCwgNDBdLCAiaWNvblVybCI6ICJodHRwczovL3d3dy5mbGF0aWNvbi5jb20vc3ZnL3ZzdGF0aWMvc3ZnLzY2NC82NjQ0Njguc3ZnP3Rva2VuPWV4cD0xNjE2MTM4MDE4fmhtYWM9YzA0YzY5ODNlMTA3MzA3NzNlNWY1ZjEyNGY3YjQyZTUifSwgImlkIjogImhvdXNlIiwgInBvcHVwIjogMSwgInRpbWVzIjogWyIyMDIxLzA1LzI2LCAxMjoyNTo1NyIsICIyMDIxLzA1LzI2LCAxMjoyNTo1NyJdfSwgInR5cGUiOiAiRmVhdHVyZSJ9LCB7Imdlb21ldHJ5IjogeyJjb29yZGluYXRlcyI6IFsxMjAuNDY3MDEyLCAyMy42NzA4XSwgInR5cGUiOiAiUG9pbnQifSwgInByb3BlcnRpZXMiOiB7Imljb24iOiAibWFya2VyIiwgImljb25zdHlsZSI6IHsiaWNvblNpemUiOiBbNDAsIDQwXSwgImljb25VcmwiOiAiaHR0cHM6Ly93d3cuZmxhdGljb24uY29tL3N2Zy92c3RhdGljL3N2Zy82NjQvNjY0NDY4LnN2Zz90b2tlbj1leHA9MTYxNjEzODAxOH5obWFjPWMwNGM2OTgzZTEwNzMwNzczZTVmNWYxMjRmN2I0MmU1In0sICJpZCI6ICJob3VzZSIsICJwb3B1cCI6IDEsICJ0aW1lcyI6IFsiMjAyMS8wNS8yNiwgMTI6MjA6NTQiLCAiMjAyMS8wNS8yNiwgMTI6MjA6NTQiXX0sICJ0eXBlIjogIkZlYXR1cmUifSwgeyJnZW9tZXRyeSI6IHsiY29vcmRpbmF0ZXMiOiBbMTIwLjQ2NzA2NSwgMjMuNjcwNzRdLCAidHlwZSI6ICJQb2ludCJ9LCAicHJvcGVydGllcyI6IHsiaWNvbiI6ICJtYXJrZXIiLCAiaWNvbnN0eWxlIjogeyJpY29uU2l6ZSI6IFs0MCwgNDBdLCAiaWNvblVybCI6ICJodHRwczovL3d3dy5mbGF0aWNvbi5jb20vc3ZnL3ZzdGF0aWMvc3ZnLzY2NC82NjQ0Njguc3ZnP3Rva2VuPWV4cD0xNjE2MTM4MDE4fmhtYWM9YzA0YzY5ODNlMTA3MzA3NzNlNWY1ZjEyNGY3YjQyZTUifSwgImlkIjogImhvdXNlIiwgInBvcHVwIjogMSwgInRpbWVzIjogWyIyMDIxLzA1LzI2LCAxNzo0ODo1OCIsICIyMDIxLzA1LzI2LCAxNzo0ODo1OCJdfSwgInR5cGUiOiAiRmVhdHVyZSJ9LCB7Imdlb21ldHJ5IjogeyJjb29yZGluYXRlcyI6IFsxMjAuNDY3MDcsIDIzLjY3MDg1N10sICJ0eXBlIjogIlBvaW50In0sICJwcm9wZXJ0aWVzIjogeyJpY29uIjogIm1hcmtlciIsICJpY29uc3R5bGUiOiB7Imljb25TaXplIjogWzQwLCA0MF0sICJpY29uVXJsIjogImh0dHBzOi8vd3d3LmZsYXRpY29uLmNvbS9zdmcvdnN0YXRpYy9zdmcvNjY0LzY2NDQ2OC5zdmc/dG9rZW49ZXhwPTE2MTYxMzgwMTh+aG1hYz1jMDRjNjk4M2UxMDczMDc3M2U1ZjVmMTI0ZjdiNDJlNSJ9LCAiaWQiOiAiaG91c2UiLCAicG9wdXAiOiAxLCAidGltZXMiOiBbIjIwMjEvMDUvMjYsIDE3OjM4OjU2IiwgIjIwMjEvMDUvMjYsIDE3OjM4OjU2Il19LCAidHlwZSI6ICJGZWF0dXJlIn0sIHsiZ2VvbWV0cnkiOiB7ImNvb3JkaW5hdGVzIjogWzEyMC40NzQ1NjgsIDIzLjY5Mjk3OF0sICJ0eXBlIjogIlBvaW50In0sICJwcm9wZXJ0aWVzIjogeyJpY29uIjogIm1hcmtlciIsICJpY29uc3R5bGUiOiB7Imljb25TaXplIjogWzQwLCA0MF0sICJpY29uVXJsIjogImh0dHBzOi8vd3d3LmZsYXRpY29uLmNvbS9zdmcvdnN0YXRpYy9zdmcvNjY0LzY2NDQ2OC5zdmc/dG9rZW49ZXhwPTE2MTYxMzgwMTh+aG1hYz1jMDRjNjk4M2UxMDczMDc3M2U1ZjVmMTI0ZjdiNDJlNSJ9LCAiaWQiOiAiaG91c2UiLCAicG9wdXAiOiAxLCAidGltZXMiOiBbIjIwMjEvMDUvMjcsIDE4OjMwOjM1IiwgIjIwMjEvMDUvMjcsIDE4OjMwOjM1Il19LCAidHlwZSI6ICJGZWF0dXJlIn0sIHsiZ2VvbWV0cnkiOiB7ImNvb3JkaW5hdGVzIjogWzEyMC40NzQ3LCAyMy42OTMwOF0sICJ0eXBlIjogIlBvaW50In0sICJwcm9wZXJ0aWVzIjogeyJpY29uIjogIm1hcmtlciIsICJpY29uc3R5bGUiOiB7Imljb25TaXplIjogWzQwLCA0MF0sICJpY29uVXJsIjogImh0dHBzOi8vd3d3LmZsYXRpY29uLmNvbS9zdmcvdnN0YXRpYy9zdmcvNjY0LzY2NDQ2OC5zdmc/dG9rZW49ZXhwPTE2MTYxMzgwMTh+aG1hYz1jMDRjNjk4M2UxMDczMDc3M2U1ZjVmMTI0ZjdiNDJlNSJ9LCAiaWQiOiAiaG91c2UiLCAicG9wdXAiOiAxLCAidGltZXMiOiBbIjIwMjEvMDUvMjcsIDE4OjM1OjM1IiwgIjIwMjEvMDUvMjcsIDE4OjM1OjM1Il19LCAidHlwZSI6ICJGZWF0dXJlIn0sIHsiZ2VvbWV0cnkiOiB7ImNvb3JkaW5hdGVzIjogWzEyMC40ODAxOCwgMjMuNzg5MjQzXSwgInR5cGUiOiAiUG9pbnQifSwgInByb3BlcnRpZXMiOiB7Imljb24iOiAibWFya2VyIiwgImljb25zdHlsZSI6IHsiaWNvblNpemUiOiBbNDAsIDQwXSwgImljb25VcmwiOiAiaHR0cHM6Ly93d3cuZmxhdGljb24uY29tL3N2Zy92c3RhdGljL3N2Zy82NjQvNjY0NDY4LnN2Zz90b2tlbj1leHA9MTYxNjEzODAxOH5obWFjPWMwNGM2OTgzZTEwNzMwNzczZTVmNWYxMjRmN2I0MmU1In0sICJpZCI6ICJob3VzZSIsICJwb3B1cCI6IDEsICJ0aW1lcyI6IFsiMjAyMS8wNS8yNiwgMTg6MTQ6MDEiLCAiMjAyMS8wNS8yNiwgMTg6MTQ6MDEiXX0sICJ0eXBlIjogIkZlYXR1cmUifSwgeyJnZW9tZXRyeSI6IHsiY29vcmRpbmF0ZXMiOiBbMTIwLjQ4MDIzOCwgMjMuNzg4OTQyXSwgInR5cGUiOiAiUG9pbnQifSwgInByb3BlcnRpZXMiOiB7Imljb24iOiAibWFya2VyIiwgImljb25zdHlsZSI6IHsiaWNvblNpemUiOiBbNDAsIDQwXSwgImljb25VcmwiOiAiaHR0cHM6Ly93d3cuZmxhdGljb24uY29tL3N2Zy92c3RhdGljL3N2Zy82NjQvNjY0NDY4LnN2Zz90b2tlbj1leHA9MTYxNjEzODAxOH5obWFjPWMwNGM2OTgzZTEwNzMwNzczZTVmNWYxMjRmN2I0MmU1In0sICJpZCI6ICJob3VzZSIsICJwb3B1cCI6IDEsICJ0aW1lcyI6IFsiMjAyMS8wNS8yNiwgMTg6MTk6MDQiLCAiMjAyMS8wNS8yNiwgMTg6MTk6MDQiXX0sICJ0eXBlIjogIkZlYXR1cmUifSwgeyJnZW9tZXRyeSI6IHsiY29vcmRpbmF0ZXMiOiBbMTIwLjQ4MDMsIDIzLjc4ODczM10sICJ0eXBlIjogIlBvaW50In0sICJwcm9wZXJ0aWVzIjogeyJpY29uIjogIm1hcmtlciIsICJpY29uc3R5bGUiOiB7Imljb25TaXplIjogWzQwLCA0MF0sICJpY29uVXJsIjogImh0dHBzOi8vd3d3LmZsYXRpY29uLmNvbS9zdmcvdnN0YXRpYy9zdmcvNjY0LzY2NDQ2OC5zdmc/dG9rZW49ZXhwPTE2MTYxMzgwMTh+aG1hYz1jMDRjNjk4M2UxMDczMDc3M2U1ZjVmMTI0ZjdiNDJlNSJ9LCAiaWQiOiAiaG91c2UiLCAicG9wdXAiOiAxLCAidGltZXMiOiBbIjIwMjEvMDUvMjYsIDE4OjI0OjA0IiwgIjIwMjEvMDUvMjYsIDE4OjI0OjA0Il19LCAidHlwZSI6ICJGZWF0dXJlIn0sIHsiZ2VvbWV0cnkiOiB7ImNvb3JkaW5hdGVzIjogWzEyMC40ODA1OSwgMjMuNjY3Ml0sICJ0eXBlIjogIlBvaW50In0sICJwcm9wZXJ0aWVzIjogeyJpY29uIjogIm1hcmtlciIsICJpY29uc3R5bGUiOiB7Imljb25TaXplIjogWzQwLCA0MF0sICJpY29uVXJsIjogImh0dHBzOi8vd3d3LmZsYXRpY29uLmNvbS9zdmcvdnN0YXRpYy9zdmcvNjY0LzY2NDQ2OC5zdmc/dG9rZW49ZXhwPTE2MTYxMzgwMTh+aG1hYz1jMDRjNjk4M2UxMDczMDc3M2U1ZjVmMTI0ZjdiNDJlNSJ9LCAiaWQiOiAiaG91c2UiLCAicG9wdXAiOiAxLCAidGltZXMiOiBbIjIwMjEvMDUvMjYsIDExOjQwOjQzIiwgIjIwMjEvMDUvMjYsIDExOjQwOjQzIl19LCAidHlwZSI6ICJGZWF0dXJlIn0sIHsiZ2VvbWV0cnkiOiB7ImNvb3JkaW5hdGVzIjogWzEyMC40ODA2NCwgMjMuNjY3MDAyXSwgInR5cGUiOiAiUG9pbnQifSwgInByb3BlcnRpZXMiOiB7Imljb24iOiAibWFya2VyIiwgImljb25zdHlsZSI6IHsiaWNvblNpemUiOiBbNDAsIDQwXSwgImljb25VcmwiOiAiaHR0cHM6Ly93d3cuZmxhdGljb24uY29tL3N2Zy92c3RhdGljL3N2Zy82NjQvNjY0NDY4LnN2Zz90b2tlbj1leHA9MTYxNjEzODAxOH5obWFjPWMwNGM2OTgzZTEwNzMwNzczZTVmNWYxMjRmN2I0MmU1In0sICJpZCI6ICJob3VzZSIsICJwb3B1cCI6IDEsICJ0aW1lcyI6IFsiMjAyMS8wNS8yNywgMTI6NTE6NTYiLCAiMjAyMS8wNS8yNywgMTI6NTE6NTYiXX0sICJ0eXBlIjogIkZlYXR1cmUifSwgeyJnZW9tZXRyeSI6IHsiY29vcmRpbmF0ZXMiOiBbMTIwLjQ4MDY1NSwgMjMuNjY3MTQ3XSwgInR5cGUiOiAiUG9pbnQifSwgInByb3BlcnRpZXMiOiB7Imljb24iOiAibWFya2VyIiwgImljb25zdHlsZSI6IHsiaWNvblNpemUiOiBbNDAsIDQwXSwgImljb25VcmwiOiAiaHR0cHM6Ly93d3cuZmxhdGljb24uY29tL3N2Zy92c3RhdGljL3N2Zy82NjQvNjY0NDY4LnN2Zz90b2tlbj1leHA9MTYxNjEzODAxOH5obWFjPWMwNGM2OTgzZTEwNzMwNzczZTVmNWYxMjRmN2I0MmU1In0sICJpZCI6ICJob3VzZSIsICJwb3B1cCI6IDEsICJ0aW1lcyI6IFsiMjAyMS8wNS8yNywgMDM6NDA6MTUiLCAiMjAyMS8wNS8yNywgMDM6NDA6MTUiXX0sICJ0eXBlIjogIkZlYXR1cmUifSwgeyJnZW9tZXRyeSI6IHsiY29vcmRpbmF0ZXMiOiBbMTIwLjQ4MDY2NywgMjMuNjY3MDk3XSwgInR5cGUiOiAiUG9pbnQifSwgInByb3BlcnRpZXMiOiB7Imljb24iOiAibWFya2VyIiwgImljb25zdHlsZSI6IHsiaWNvblNpemUiOiBbNDAsIDQwXSwgImljb25VcmwiOiAiaHR0cHM6Ly93d3cuZmxhdGljb24uY29tL3N2Zy92c3RhdGljL3N2Zy82NjQvNjY0NDY4LnN2Zz90b2tlbj1leHA9MTYxNjEzODAxOH5obWFjPWMwNGM2OTgzZTEwNzMwNzczZTVmNWYxMjRmN2I0MmU1In0sICJpZCI6ICJob3VzZSIsICJwb3B1cCI6IDEsICJ0aW1lcyI6IFsiMjAyMS8wNS8yNywgMTI6NDY6NTQiLCAiMjAyMS8wNS8yNywgMTI6NDY6NTQiXX0sICJ0eXBlIjogIkZlYXR1cmUifSwgeyJnZW9tZXRyeSI6IHsiY29vcmRpbmF0ZXMiOiBbMTIwLjQ4MDY4LCAyMy42NjcxMjVdLCAidHlwZSI6ICJQb2ludCJ9LCAicHJvcGVydGllcyI6IHsiaWNvbiI6ICJtYXJrZXIiLCAiaWNvbnN0eWxlIjogeyJpY29uU2l6ZSI6IFs0MCwgNDBdLCAiaWNvblVybCI6ICJodHRwczovL3d3dy5mbGF0aWNvbi5jb20vc3ZnL3ZzdGF0aWMvc3ZnLzY2NC82NjQ0Njguc3ZnP3Rva2VuPWV4cD0xNjE2MTM4MDE4fmhtYWM9YzA0YzY5ODNlMTA3MzA3NzNlNWY1ZjEyNGY3YjQyZTUifSwgImlkIjogImhvdXNlIiwgInBvcHVwIjogMSwgInRpbWVzIjogWyIyMDIxLzA1LzI2LCAxMTozNTo0MyIsICIyMDIxLzA1LzI2LCAxMTozNTo0MyJdfSwgInR5cGUiOiAiRmVhdHVyZSJ9LCB7Imdlb21ldHJ5IjogeyJjb29yZGluYXRlcyI6IFsxMjAuNDgxMDI4LCAyMy42Nzk5OTJdLCAidHlwZSI6ICJQb2ludCJ9LCAicHJvcGVydGllcyI6IHsiaWNvbiI6ICJtYXJrZXIiLCAiaWNvbnN0eWxlIjogeyJpY29uU2l6ZSI6IFs0MCwgNDBdLCAiaWNvblVybCI6ICJodHRwczovL3d3dy5mbGF0aWNvbi5jb20vc3ZnL3ZzdGF0aWMvc3ZnLzY2NC82NjQ0Njguc3ZnP3Rva2VuPWV4cD0xNjE2MTM4MDE4fmhtYWM9YzA0YzY5ODNlMTA3MzA3NzNlNWY1ZjEyNGY3YjQyZTUifSwgImlkIjogImhvdXNlIiwgInBvcHVwIjogMSwgInRpbWVzIjogWyIyMDIxLzA1LzI3LCAwMzozMDoxMiIsICIyMDIxLzA1LzI3LCAwMzozMDoxMiJdfSwgInR5cGUiOiAiRmVhdHVyZSJ9LCB7Imdlb21ldHJ5IjogeyJjb29yZGluYXRlcyI6IFsxMjAuNDgxMTUzLCAyMy42ODM4OTJdLCAidHlwZSI6ICJQb2ludCJ9LCAicHJvcGVydGllcyI6IHsiaWNvbiI6ICJtYXJrZXIiLCAiaWNvbnN0eWxlIjogeyJpY29uU2l6ZSI6IFs0MCwgNDBdLCAiaWNvblVybCI6ICJodHRwczovL3d3dy5mbGF0aWNvbi5jb20vc3ZnL3ZzdGF0aWMvc3ZnLzY2NC82NjQ0Njguc3ZnP3Rva2VuPWV4cD0xNjE2MTM4MDE4fmhtYWM9YzA0YzY5ODNlMTA3MzA3NzNlNWY1ZjEyNGY3YjQyZTUifSwgImlkIjogImhvdXNlIiwgInBvcHVwIjogMSwgInRpbWVzIjogWyIyMDIxLzA1LzI3LCAxODoyMDoxMSIsICIyMDIxLzA1LzI3LCAxODoyMDoxMSJdfSwgInR5cGUiOiAiRmVhdHVyZSJ9LCB7Imdlb21ldHJ5IjogeyJjb29yZGluYXRlcyI6IFsxMjAuNTA4OTA1LCAyMy42NTAzMThdLCAidHlwZSI6ICJQb2ludCJ9LCAicHJvcGVydGllcyI6IHsiaWNvbiI6ICJtYXJrZXIiLCAiaWNvbnN0eWxlIjogeyJpY29uU2l6ZSI6IFs0MCwgNDBdLCAiaWNvblVybCI6ICJodHRwczovL3d3dy5mbGF0aWNvbi5jb20vc3ZnL3ZzdGF0aWMvc3ZnLzY2NC82NjQ0Njguc3ZnP3Rva2VuPWV4cD0xNjE2MTM4MDE4fmhtYWM9YzA0YzY5ODNlMTA3MzA3NzNlNWY1ZjEyNGY3YjQyZTUifSwgImlkIjogImhvdXNlIiwgInBvcHVwIjogMSwgInRpbWVzIjogWyIyMDIxLzA1LzI3LCAxMzowMjozMSIsICIyMDIxLzA1LzI3LCAxMzowMjozMSJdfSwgInR5cGUiOiAiRmVhdHVyZSJ9LCB7Imdlb21ldHJ5IjogeyJjb29yZGluYXRlcyI6IFsxMjAuNTA4OTI3LCAyMy42NTAzM10sICJ0eXBlIjogIlBvaW50In0sICJwcm9wZXJ0aWVzIjogeyJpY29uIjogIm1hcmtlciIsICJpY29uc3R5bGUiOiB7Imljb25TaXplIjogWzQwLCA0MF0sICJpY29uVXJsIjogImh0dHBzOi8vd3d3LmZsYXRpY29uLmNvbS9zdmcvdnN0YXRpYy9zdmcvNjY0LzY2NDQ2OC5zdmc/dG9rZW49ZXhwPTE2MTYxMzgwMTh+aG1hYz1jMDRjNjk4M2UxMDczMDc3M2U1ZjVmMTI0ZjdiNDJlNSJ9LCAiaWQiOiAiaG91c2UiLCAicG9wdXAiOiAxLCAidGltZXMiOiBbIjIwMjEvMDUvMjYsIDEyOjAwOjUwIiwgIjIwMjEvMDUvMjYsIDEyOjAwOjUwIl19LCAidHlwZSI6ICJGZWF0dXJlIn0sIHsiZ2VvbWV0cnkiOiB7ImNvb3JkaW5hdGVzIjogWzEyMC41MDkwMDMsIDIzLjY1MDQzOF0sICJ0eXBlIjogIlBvaW50In0sICJwcm9wZXJ0aWVzIjogeyJpY29uIjogIm1hcmtlciIsICJpY29uc3R5bGUiOiB7Imljb25TaXplIjogWzQwLCA0MF0sICJpY29uVXJsIjogImh0dHBzOi8vd3d3LmZsYXRpY29uLmNvbS9zdmcvdnN0YXRpYy9zdmcvNjY0LzY2NDQ2OC5zdmc/dG9rZW49ZXhwPTE2MTYxMzgwMTh+aG1hYz1jMDRjNjk4M2UxMDczMDc3M2U1ZjVmMTI0ZjdiNDJlNSJ9LCAiaWQiOiAiaG91c2UiLCAicG9wdXAiOiAxLCAidGltZXMiOiBbIjIwMjEvMDUvMjcsIDEzOjA3OjMxIiwgIjIwMjEvMDUvMjcsIDEzOjA3OjMxIl19LCAidHlwZSI6ICJGZWF0dXJlIn0sIHsiZ2VvbWV0cnkiOiB7ImNvb3JkaW5hdGVzIjogWzEyMC41MDkwNDIsIDIzLjY1MDM5NV0sICJ0eXBlIjogIlBvaW50In0sICJwcm9wZXJ0aWVzIjogeyJpY29uIjogIm1hcmtlciIsICJpY29uc3R5bGUiOiB7Imljb25TaXplIjogWzQwLCA0MF0sICJpY29uVXJsIjogImh0dHBzOi8vd3d3LmZsYXRpY29uLmNvbS9zdmcvdnN0YXRpYy9zdmcvNjY0LzY2NDQ2OC5zdmc/dG9rZW49ZXhwPTE2MTYxMzgwMTh+aG1hYz1jMDRjNjk4M2UxMDczMDc3M2U1ZjVmMTI0ZjdiNDJlNSJ9LCAiaWQiOiAiaG91c2UiLCAicG9wdXAiOiAxLCAidGltZXMiOiBbIjIwMjEvMDUvMjYsIDExOjU1OjQ4IiwgIjIwMjEvMDUvMjYsIDExOjU1OjQ4Il19LCAidHlwZSI6ICJGZWF0dXJlIn0sIHsiZ2VvbWV0cnkiOiB7ImNvb3JkaW5hdGVzIjogWzEyMC41MDkzNzgsIDIzLjY1MTA4OF0sICJ0eXBlIjogIlBvaW50In0sICJwcm9wZXJ0aWVzIjogeyJpY29uIjogIm1hcmtlciIsICJpY29uc3R5bGUiOiB7Imljb25TaXplIjogWzQwLCA0MF0sICJpY29uVXJsIjogImh0dHBzOi8vd3d3LmZsYXRpY29uLmNvbS9zdmcvdnN0YXRpYy9zdmcvNjY0LzY2NDQ2OC5zdmc/dG9rZW49ZXhwPTE2MTYxMzgwMTh+aG1hYz1jMDRjNjk4M2UxMDczMDc3M2U1ZjVmMTI0ZjdiNDJlNSJ9LCAiaWQiOiAiaG91c2UiLCAicG9wdXAiOiAxLCAidGltZXMiOiBbIjIwMjEvMDUvMjcsIDEzOjE3OjMyIiwgIjIwMjEvMDUvMjcsIDEzOjE3OjMyIl19LCAidHlwZSI6ICJGZWF0dXJlIn0sIHsiZ2VvbWV0cnkiOiB7ImNvb3JkaW5hdGVzIjogWzEyMS40MzExMiwgMjUuMTA4NzEyXSwgInR5cGUiOiAiUG9pbnQifSwgInByb3BlcnRpZXMiOiB7Imljb24iOiAibWFya2VyIiwgImljb25zdHlsZSI6IHsiaWNvblNpemUiOiBbNDAsIDQwXSwgImljb25VcmwiOiAiaHR0cHM6Ly93d3cuZmxhdGljb24uY29tL3N2Zy92c3RhdGljL3N2Zy82NjQvNjY0NDY4LnN2Zz90b2tlbj1leHA9MTYxNjEzODAxOH5obWFjPWMwNGM2OTgzZTEwNzMwNzczZTVmNWYxMjRmN2I0MmU1In0sICJpZCI6ICJob3VzZSIsICJwb3B1cCI6IDEsICJ0aW1lcyI6IFsiMjAyMS8wNS8yNywgMDE6MDM6MTAiLCAiMjAyMS8wNS8yNywgMDE6MDM6MTAiXX0sICJ0eXBlIjogIkZlYXR1cmUifSwgeyJnZW9tZXRyeSI6IHsiY29vcmRpbmF0ZXMiOiBbMTIxLjQzMjEwNSwgMjUuMTA1ODA3XSwgInR5cGUiOiAiUG9pbnQifSwgInByb3BlcnRpZXMiOiB7Imljb24iOiAibWFya2VyIiwgImljb25zdHlsZSI6IHsiaWNvblNpemUiOiBbNDAsIDQwXSwgImljb25VcmwiOiAiaHR0cHM6Ly93d3cuZmxhdGljb24uY29tL3N2Zy92c3RhdGljL3N2Zy82NjQvNjY0NDY4LnN2Zz90b2tlbj1leHA9MTYxNjEzODAxOH5obWFjPWMwNGM2OTgzZTEwNzMwNzczZTVmNWYxMjRmN2I0MmU1In0sICJpZCI6ICJob3VzZSIsICJwb3B1cCI6IDEsICJ0aW1lcyI6IFsiMjAyMS8wNS8yNiwgMjM6Mzc6NTAiLCAiMjAyMS8wNS8yNiwgMjM6Mzc6NTAiXX0sICJ0eXBlIjogIkZlYXR1cmUifSwgeyJnZW9tZXRyeSI6IHsiY29vcmRpbmF0ZXMiOiBbMTIxLjQzMjEyNSwgMjUuMTA1NzMzXSwgInR5cGUiOiAiUG9pbnQifSwgInByb3BlcnRpZXMiOiB7Imljb24iOiAibWFya2VyIiwgImljb25zdHlsZSI6IHsiaWNvblNpemUiOiBbNDAsIDQwXSwgImljb25VcmwiOiAiaHR0cHM6Ly93d3cuZmxhdGljb24uY29tL3N2Zy92c3RhdGljL3N2Zy82NjQvNjY0NDY4LnN2Zz90b2tlbj1leHA9MTYxNjEzODAxOH5obWFjPWMwNGM2OTgzZTEwNzMwNzczZTVmNWYxMjRmN2I0MmU1In0sICJpZCI6ICJob3VzZSIsICJwb3B1cCI6IDEsICJ0aW1lcyI6IFsiMjAyMS8wNS8yNiwgMjM6MzI6NDkiLCAiMjAyMS8wNS8yNiwgMjM6MzI6NDkiXX0sICJ0eXBlIjogIkZlYXR1cmUifSwgeyJnZW9tZXRyeSI6IHsiY29vcmRpbmF0ZXMiOiBbMTIxLjQzMjIzOCwgMjUuMTA1ODE4XSwgInR5cGUiOiAiUG9pbnQifSwgInByb3BlcnRpZXMiOiB7Imljb24iOiAibWFya2VyIiwgImljb25zdHlsZSI6IHsiaWNvblNpemUiOiBbNDAsIDQwXSwgImljb25VcmwiOiAiaHR0cHM6Ly93d3cuZmxhdGljb24uY29tL3N2Zy92c3RhdGljL3N2Zy82NjQvNjY0NDY4LnN2Zz90b2tlbj1leHA9MTYxNjEzODAxOH5obWFjPWMwNGM2OTgzZTEwNzMwNzczZTVmNWYxMjRmN2I0MmU1In0sICJpZCI6ICJob3VzZSIsICJwb3B1cCI6IDEsICJ0aW1lcyI6IFsiMjAyMS8wNS8yNywgMDA6MDI6NTYiLCAiMjAyMS8wNS8yNywgMDA6MDI6NTYiXX0sICJ0eXBlIjogIkZlYXR1cmUifSwgeyJnZW9tZXRyeSI6IHsiY29vcmRpbmF0ZXMiOiBbMTIxLjQzMjMxMiwgMjUuMTA1Nzk3XSwgInR5cGUiOiAiUG9pbnQifSwgInByb3BlcnRpZXMiOiB7Imljb24iOiAibWFya2VyIiwgImljb25zdHlsZSI6IHsiaWNvblNpemUiOiBbNDAsIDQwXSwgImljb25VcmwiOiAiaHR0cHM6Ly93d3cuZmxhdGljb24uY29tL3N2Zy92c3RhdGljL3N2Zy82NjQvNjY0NDY4LnN2Zz90b2tlbj1leHA9MTYxNjEzODAxOH5obWFjPWMwNGM2OTgzZTEwNzMwNzczZTVmNWYxMjRmN2I0MmU1In0sICJpZCI6ICJob3VzZSIsICJwb3B1cCI6IDEsICJ0aW1lcyI6IFsiMjAyMS8wNS8yNywgMDA6MDc6NTciLCAiMjAyMS8wNS8yNywgMDA6MDc6NTciXX0sICJ0eXBlIjogIkZlYXR1cmUifSwgeyJnZW9tZXRyeSI6IHsiY29vcmRpbmF0ZXMiOiBbMTIxLjQ0NTA4NSwgMjUuMDcwOTI3XSwgInR5cGUiOiAiUG9pbnQifSwgInByb3BlcnRpZXMiOiB7Imljb24iOiAibWFya2VyIiwgImljb25zdHlsZSI6IHsiaWNvblNpemUiOiBbNDAsIDQwXSwgImljb25VcmwiOiAiaHR0cHM6Ly93d3cuZmxhdGljb24uY29tL3N2Zy92c3RhdGljL3N2Zy82NjQvNjY0NDY4LnN2Zz90b2tlbj1leHA9MTYxNjEzODAxOH5obWFjPWMwNGM2OTgzZTEwNzMwNzczZTVmNWYxMjRmN2I0MmU1In0sICJpZCI6ICJob3VzZSIsICJwb3B1cCI6IDEsICJ0aW1lcyI6IFsiMjAyMS8wNS8yNywgMjM6NTg6NTUiLCAiMjAyMS8wNS8yNywgMjM6NTg6NTUiXX0sICJ0eXBlIjogIkZlYXR1cmUifSwgeyJnZW9tZXRyeSI6IHsiY29vcmRpbmF0ZXMiOiBbMTIxLjQ0NTQ2NSwgMjUuMDYyNzIzXSwgInR5cGUiOiAiUG9pbnQifSwgInByb3BlcnRpZXMiOiB7Imljb24iOiAibWFya2VyIiwgImljb25zdHlsZSI6IHsiaWNvblNpemUiOiBbNDAsIDQwXSwgImljb25VcmwiOiAiaHR0cHM6Ly93d3cuZmxhdGljb24uY29tL3N2Zy92c3RhdGljL3N2Zy82NjQvNjY0NDY4LnN2Zz90b2tlbj1leHA9MTYxNjEzODAxOH5obWFjPWMwNGM2OTgzZTEwNzMwNzczZTVmNWYxMjRmN2I0MmU1In0sICJpZCI6ICJob3VzZSIsICJwb3B1cCI6IDEsICJ0aW1lcyI6IFsiMjAyMS8wNS8yNiwgMjE6MTU6MzgiLCAiMjAyMS8wNS8yNiwgMjE6MTU6MzgiXX0sICJ0eXBlIjogIkZlYXR1cmUifSwgeyJnZW9tZXRyeSI6IHsiY29vcmRpbmF0ZXMiOiBbMTIxLjQ0NTU3MiwgMjUuMDYyNjQ1XSwgInR5cGUiOiAiUG9pbnQifSwgInByb3BlcnRpZXMiOiB7Imljb24iOiAibWFya2VyIiwgImljb25zdHlsZSI6IHsiaWNvblNpemUiOiBbNDAsIDQwXSwgImljb25VcmwiOiAiaHR0cHM6Ly93d3cuZmxhdGljb24uY29tL3N2Zy92c3RhdGljL3N2Zy82NjQvNjY0NDY4LnN2Zz90b2tlbj1leHA9MTYxNjEzODAxOH5obWFjPWMwNGM2OTgzZTEwNzMwNzczZTVmNWYxMjRmN2I0MmU1In0sICJpZCI6ICJob3VzZSIsICJwb3B1cCI6IDEsICJ0aW1lcyI6IFsiMjAyMS8wNS8yNiwgMjE6Mjc6MTAiLCAiMjAyMS8wNS8yNiwgMjE6Mjc6MTAiXX0sICJ0eXBlIjogIkZlYXR1cmUifSwgeyJnZW9tZXRyeSI6IHsiY29vcmRpbmF0ZXMiOiBbMTIxLjQ0NTY4NywgMjUuMDYyNzk4XSwgInR5cGUiOiAiUG9pbnQifSwgInByb3BlcnRpZXMiOiB7Imljb24iOiAibWFya2VyIiwgImljb25zdHlsZSI6IHsiaWNvblNpemUiOiBbNDAsIDQwXSwgImljb25VcmwiOiAiaHR0cHM6Ly93d3cuZmxhdGljb24uY29tL3N2Zy92c3RhdGljL3N2Zy82NjQvNjY0NDY4LnN2Zz90b2tlbj1leHA9MTYxNjEzODAxOH5obWFjPWMwNGM2OTgzZTEwNzMwNzczZTVmNWYxMjRmN2I0MmU1In0sICJpZCI6ICJob3VzZSIsICJwb3B1cCI6IDEsICJ0aW1lcyI6IFsiMjAyMS8wNS8yNiwgMjE6MTA6MzciLCAiMjAyMS8wNS8yNiwgMjE6MTA6MzciXX0sICJ0eXBlIjogIkZlYXR1cmUifSwgeyJnZW9tZXRyeSI6IHsiY29vcmRpbmF0ZXMiOiBbMTIxLjQ0NjQ1MywgMjUuMDYzMjczXSwgInR5cGUiOiAiUG9pbnQifSwgInByb3BlcnRpZXMiOiB7Imljb24iOiAibWFya2VyIiwgImljb25zdHlsZSI6IHsiaWNvblNpemUiOiBbNDAsIDQwXSwgImljb25VcmwiOiAiaHR0cHM6Ly93d3cuZmxhdGljb24uY29tL3N2Zy92c3RhdGljL3N2Zy82NjQvNjY0NDY4LnN2Zz90b2tlbj1leHA9MTYxNjEzODAxOH5obWFjPWMwNGM2OTgzZTEwNzMwNzczZTVmNWYxMjRmN2I0MmU1In0sICJpZCI6ICJob3VzZSIsICJwb3B1cCI6IDEsICJ0aW1lcyI6IFsiMjAyMS8wNS8yNiwgMjA6Mzc6MDEiLCAiMjAyMS8wNS8yNiwgMjA6Mzc6MDEiXX0sICJ0eXBlIjogIkZlYXR1cmUifSwgeyJnZW9tZXRyeSI6IHsiY29vcmRpbmF0ZXMiOiBbMTIxLjQ2NDQ4NywgMjUuMDYwNzAzXSwgInR5cGUiOiAiUG9pbnQifSwgInByb3BlcnRpZXMiOiB7Imljb24iOiAibWFya2VyIiwgImljb25zdHlsZSI6IHsiaWNvblNpemUiOiBbNDAsIDQwXSwgImljb25VcmwiOiAiaHR0cHM6Ly93d3cuZmxhdGljb24uY29tL3N2Zy92c3RhdGljL3N2Zy82NjQvNjY0NDY4LnN2Zz90b2tlbj1leHA9MTYxNjEzODAxOH5obWFjPWMwNGM2OTgzZTEwNzMwNzczZTVmNWYxMjRmN2I0MmU1In0sICJpZCI6ICJob3VzZSIsICJwb3B1cCI6IDEsICJ0aW1lcyI6IFsiMjAyMS8wNS8yNiwgMjE6Mzc6MTQiLCAiMjAyMS8wNS8yNiwgMjE6Mzc6MTQiXX0sICJ0eXBlIjogIkZlYXR1cmUifSwgeyJnZW9tZXRyeSI6IHsiY29vcmRpbmF0ZXMiOiBbMTIxLjQ4NzQ2NywgMjUuMDI5NTM1XSwgInR5cGUiOiAiUG9pbnQifSwgInByb3BlcnRpZXMiOiB7Imljb24iOiAibWFya2VyIiwgImljb25zdHlsZSI6IHsiaWNvblNpemUiOiBbNDAsIDQwXSwgImljb25VcmwiOiAiaHR0cHM6Ly93d3cuZmxhdGljb24uY29tL3N2Zy92c3RhdGljL3N2Zy82NjQvNjY0NDY4LnN2Zz90b2tlbj1leHA9MTYxNjEzODAxOH5obWFjPWMwNGM2OTgzZTEwNzMwNzczZTVmNWYxMjRmN2I0MmU1In0sICJpZCI6ICJob3VzZSIsICJwb3B1cCI6IDEsICJ0aW1lcyI6IFsiMjAyMS8wNS8yNywgMjE6MTI6NTkiLCAiMjAyMS8wNS8yNywgMjE6MTI6NTkiXX0sICJ0eXBlIjogIkZlYXR1cmUifSwgeyJnZW9tZXRyeSI6IHsiY29vcmRpbmF0ZXMiOiBbMTIxLjQ4ODgwOCwgMjUuMDI5NjQ1XSwgInR5cGUiOiAiUG9pbnQifSwgInByb3BlcnRpZXMiOiB7Imljb24iOiAibWFya2VyIiwgImljb25zdHlsZSI6IHsiaWNvblNpemUiOiBbNDAsIDQwXSwgImljb25VcmwiOiAiaHR0cHM6Ly93d3cuZmxhdGljb24uY29tL3N2Zy92c3RhdGljL3N2Zy82NjQvNjY0NDY4LnN2Zz90b2tlbj1leHA9MTYxNjEzODAxOH5obWFjPWMwNGM2OTgzZTEwNzMwNzczZTVmNWYxMjRmN2I0MmU1In0sICJpZCI6ICJob3VzZSIsICJwb3B1cCI6IDEsICJ0aW1lcyI6IFsiMjAyMS8wNS8yNywgMjM6MjM6MTciLCAiMjAyMS8wNS8yNywgMjM6MjM6MTciXX0sICJ0eXBlIjogIkZlYXR1cmUifSwgeyJnZW9tZXRyeSI6IHsiY29vcmRpbmF0ZXMiOiBbMTIxLjQ4ODk5MywgMjUuMDI4NDc4XSwgInR5cGUiOiAiUG9pbnQifSwgInByb3BlcnRpZXMiOiB7Imljb24iOiAibWFya2VyIiwgImljb25zdHlsZSI6IHsiaWNvblNpemUiOiBbNDAsIDQwXSwgImljb25VcmwiOiAiaHR0cHM6Ly93d3cuZmxhdGljb24uY29tL3N2Zy92c3RhdGljL3N2Zy82NjQvNjY0NDY4LnN2Zz90b2tlbj1leHA9MTYxNjEzODAxOH5obWFjPWMwNGM2OTgzZTEwNzMwNzczZTVmNWYxMjRmN2I0MmU1In0sICJpZCI6ICJob3VzZSIsICJwb3B1cCI6IDEsICJ0aW1lcyI6IFsiMjAyMS8wNS8yNiwgMjM6MTY6MTMiLCAiMjAyMS8wNS8yNiwgMjM6MTY6MTMiXX0sICJ0eXBlIjogIkZlYXR1cmUifSwgeyJnZW9tZXRyeSI6IHsiY29vcmRpbmF0ZXMiOiBbMTIxLjQ4OTMxOCwgMjUuMDI5ODQ4XSwgInR5cGUiOiAiUG9pbnQifSwgInByb3BlcnRpZXMiOiB7Imljb24iOiAibWFya2VyIiwgImljb25zdHlsZSI6IHsiaWNvblNpemUiOiBbNDAsIDQwXSwgImljb25VcmwiOiAiaHR0cHM6Ly93d3cuZmxhdGljb24uY29tL3N2Zy92c3RhdGljL3N2Zy82NjQvNjY0NDY4LnN2Zz90b2tlbj1leHA9MTYxNjEzODAxOH5obWFjPWMwNGM2OTgzZTEwNzMwNzczZTVmNWYxMjRmN2I0MmU1In0sICJpZCI6ICJob3VzZSIsICJwb3B1cCI6IDEsICJ0aW1lcyI6IFsiMjAyMS8wNS8yNiwgMjM6MTE6MTMiLCAiMjAyMS8wNS8yNiwgMjM6MTE6MTMiXX0sICJ0eXBlIjogIkZlYXR1cmUifSwgeyJnZW9tZXRyeSI6IHsiY29vcmRpbmF0ZXMiOiBbMTIxLjQ4OTMzLCAyNS4wMjk3MTJdLCAidHlwZSI6ICJQb2ludCJ9LCAicHJvcGVydGllcyI6IHsiaWNvbiI6ICJtYXJrZXIiLCAiaWNvbnN0eWxlIjogeyJpY29uU2l6ZSI6IFs0MCwgNDBdLCAiaWNvblVybCI6ICJodHRwczovL3d3dy5mbGF0aWNvbi5jb20vc3ZnL3ZzdGF0aWMvc3ZnLzY2NC82NjQ0Njguc3ZnP3Rva2VuPWV4cD0xNjE2MTM4MDE4fmhtYWM9YzA0YzY5ODNlMTA3MzA3NzNlNWY1ZjEyNGY3YjQyZTUifSwgImlkIjogImhvdXNlIiwgInBvcHVwIjogMSwgInRpbWVzIjogWyIyMDIxLzA1LzI2LCAyMzowNjoxMyIsICIyMDIxLzA1LzI2LCAyMzowNjoxMyJdfSwgInR5cGUiOiAiRmVhdHVyZSJ9LCB7Imdlb21ldHJ5IjogeyJjb29yZGluYXRlcyI6IFsxMjEuNDg5NTYzLCAyNS4wMjk0OTVdLCAidHlwZSI6ICJQb2ludCJ9LCAicHJvcGVydGllcyI6IHsiaWNvbiI6ICJtYXJrZXIiLCAiaWNvbnN0eWxlIjogeyJpY29uU2l6ZSI6IFs0MCwgNDBdLCAiaWNvblVybCI6ICJodHRwczovL3d3dy5mbGF0aWNvbi5jb20vc3ZnL3ZzdGF0aWMvc3ZnLzY2NC82NjQ0Njguc3ZnP3Rva2VuPWV4cD0xNjE2MTM4MDE4fmhtYWM9YzA0YzY5ODNlMTA3MzA3NzNlNWY1ZjEyNGY3YjQyZTUifSwgImlkIjogImhvdXNlIiwgInBvcHVwIjogMSwgInRpbWVzIjogWyIyMDIxLzA1LzI3LCAyMzozODoyMCIsICIyMDIxLzA1LzI3LCAyMzozODoyMCJdfSwgInR5cGUiOiAiRmVhdHVyZSJ9LCB7Imdlb21ldHJ5IjogeyJjb29yZGluYXRlcyI6IFsxMjEuNDg5NzI4LCAyNS4wMjk0OTddLCAidHlwZSI6ICJQb2ludCJ9LCAicHJvcGVydGllcyI6IHsiaWNvbiI6ICJtYXJrZXIiLCAiaWNvbnN0eWxlIjogeyJpY29uU2l6ZSI6IFs0MCwgNDBdLCAiaWNvblVybCI6ICJodHRwczovL3d3dy5mbGF0aWNvbi5jb20vc3ZnL3ZzdGF0aWMvc3ZnLzY2NC82NjQ0Njguc3ZnP3Rva2VuPWV4cD0xNjE2MTM4MDE4fmhtYWM9YzA0YzY5ODNlMTA3MzA3NzNlNWY1ZjEyNGY3YjQyZTUifSwgImlkIjogImhvdXNlIiwgInBvcHVwIjogMSwgInRpbWVzIjogWyIyMDIxLzA1LzI3LCAyMzozMzoyMCIsICIyMDIxLzA1LzI3LCAyMzozMzoyMCJdfSwgInR5cGUiOiAiRmVhdHVyZSJ9LCB7Imdlb21ldHJ5IjogeyJjb29yZGluYXRlcyI6IFsxMjEuNDg5NzU1LCAyNS4wMjkxMV0sICJ0eXBlIjogIlBvaW50In0sICJwcm9wZXJ0aWVzIjogeyJpY29uIjogIm1hcmtlciIsICJpY29uc3R5bGUiOiB7Imljb25TaXplIjogWzQwLCA0MF0sICJpY29uVXJsIjogImh0dHBzOi8vd3d3LmZsYXRpY29uLmNvbS9zdmcvdnN0YXRpYy9zdmcvNjY0LzY2NDQ2OC5zdmc/dG9rZW49ZXhwPTE2MTYxMzgwMTh+aG1hYz1jMDRjNjk4M2UxMDczMDc3M2U1ZjVmMTI0ZjdiNDJlNSJ9LCAiaWQiOiAiaG91c2UiLCAicG9wdXAiOiAxLCAidGltZXMiOiBbIjIwMjEvMDUvMjYsIDIxOjUyOjE3IiwgIjIwMjEvMDUvMjYsIDIxOjUyOjE3Il19LCAidHlwZSI6ICJGZWF0dXJlIn1dfSwgewogICAgICAgICAgICAgICAgICAgIHBvaW50VG9MYXllcjogZnVuY3Rpb24gKGZlYXR1cmUsIGxhdExuZykgewogICAgICAgICAgICAgICAgICAgICAgICBpZiAoZmVhdHVyZS5wcm9wZXJ0aWVzLmljb24gPT0gJ21hcmtlcicpIHsKICAgICAgICAgICAgICAgICAgICAgICAgICAgIGlmKGZlYXR1cmUucHJvcGVydGllcy5pY29uc3R5bGUpewogICAgICAgICAgICAgICAgICAgICAgICAgICAgICAgIHJldHVybiBuZXcgTC5NYXJrZXIobGF0TG5nLCB7CiAgICAgICAgICAgICAgICAgICAgICAgICAgICAgICAgICAgIGljb246IEwuaWNvbihmZWF0dXJlLnByb3BlcnRpZXMuaWNvbnN0eWxlKX0pOwogICAgICAgICAgICAgICAgICAgICAgICAgICAgfQogICAgICAgICAgICAgICAgICAgICAgICAgICAgLy9lbHNlCiAgICAgICAgICAgICAgICAgICAgICAgICAgICByZXR1cm4gbmV3IEwuTWFya2VyKGxhdExuZyk7CiAgICAgICAgICAgICAgICAgICAgICAgIH0KICAgICAgICAgICAgICAgICAgICAgICAgaWYgKGZlYXR1cmUucHJvcGVydGllcy5pY29uID09ICdjaXJjbGUnKSB7CiAgICAgICAgICAgICAgICAgICAgICAgICAgICBpZiAoZmVhdHVyZS5wcm9wZXJ0aWVzLmljb25zdHlsZSkgewogICAgICAgICAgICAgICAgICAgICAgICAgICAgICAgIHJldHVybiBuZXcgTC5jaXJjbGVNYXJrZXIobGF0TG5nLCBmZWF0dXJlLnByb3BlcnRpZXMuaWNvbnN0eWxlKQogICAgICAgICAgICAgICAgICAgICAgICAgICAgICAgIH07CiAgICAgICAgICAgICAgICAgICAgICAgICAgICAvL2Vsc2UKICAgICAgICAgICAgICAgICAgICAgICAgICAgIHJldHVybiBuZXcgTC5jaXJjbGVNYXJrZXIobGF0TG5nKTsKICAgICAgICAgICAgICAgICAgICAgICAgfQogICAgICAgICAgICAgICAgICAgICAgICAvL2Vsc2UKCiAgICAgICAgICAgICAgICAgICAgICAgIHJldHVybiBuZXcgTC5NYXJrZXIobGF0TG5nKTsKICAgICAgICAgICAgICAgICAgICB9LAogICAgICAgICAgICAgICAgICAgIHN0eWxlOiBmdW5jdGlvbiAoZmVhdHVyZSkgewogICAgICAgICAgICAgICAgICAgICAgICByZXR1cm4gZmVhdHVyZS5wcm9wZXJ0aWVzLnN0eWxlOwogICAgICAgICAgICAgICAgICAgIH0sCiAgICAgICAgICAgICAgICAgICAgb25FYWNoRmVhdHVyZTogZnVuY3Rpb24oZmVhdHVyZSwgbGF5ZXIpIHsKICAgICAgICAgICAgICAgICAgICAgICAgaWYgKGZlYXR1cmUucHJvcGVydGllcy5wb3B1cCkgewogICAgICAgICAgICAgICAgICAgICAgICBsYXllci5iaW5kUG9wdXAoZmVhdHVyZS5wcm9wZXJ0aWVzLnBvcHVwKTsKICAgICAgICAgICAgICAgICAgICAgICAgfQogICAgICAgICAgICAgICAgICAgIH0KICAgICAgICAgICAgICAgIH0pCgogICAgICAgICAgICB2YXIgdGltZXN0YW1wZWRfZ2VvX2pzb25fOGM3OWExOWJmN2Q4NGQ0ZGJiMWI5MGMyODE3YzhiNzEgPSBMLnRpbWVEaW1lbnNpb24ubGF5ZXIuZ2VvSnNvbigKICAgICAgICAgICAgICAgIGdlb0pzb25MYXllciwKICAgICAgICAgICAgICAgIHsKICAgICAgICAgICAgICAgICAgICB1cGRhdGVUaW1lRGltZW5zaW9uOiB0cnVlLAogICAgICAgICAgICAgICAgICAgIGFkZGxhc3RQb2ludDogZmFsc2UsCiAgICAgICAgICAgICAgICAgICAgZHVyYXRpb246ICJQVDFNIiwKICAgICAgICAgICAgICAgIH0KICAgICAgICAgICAgKS5hZGRUbyhtYXBfOGYxN2RiYWI1ZWY1NGU1ODhiNTg1YThkNGE5OGE5OWQpOwogICAgICAgIAogICAgCiAgICAgICAgICAgIHZhciB0aWxlX2xheWVyXzViZjM2YzBhOWM0MzQ1MTBhZWQzYTBlNmY1N2JkZGVjID0gTC50aWxlTGF5ZXIoCiAgICAgICAgICAgICAgICAiaHR0cHM6Ly93bXRzLm5sc2MuZ292LnR3L3dtdHMvUEhPVE8yL2RlZmF1bHQvR29vZ2xlTWFwc0NvbXBhdGlibGUve3p9L3t5fS97eH0iLAogICAgICAgICAgICAgICAgeyJhdHRyaWJ1dGlvbiI6ICJcdTU3MGJcdTU3MWZcdTZlMmNcdTdlNmFcdTU3MTZcdThjYzdcdTY3MGRcdTUyZDlcdTk2ZjIiLCAiZGV0ZWN0UmV0aW5hIjogZmFsc2UsICJtYXhOYXRpdmVab29tIjogMTksICJtYXhab29tIjogMTksICJtaW5ab29tIjogMCwgIm5vV3JhcCI6IGZhbHNlLCAib3BhY2l0eSI6IDEsICJzdWJkb21haW5zIjogImFiYyIsICJ0bXMiOiBmYWxzZX0KICAgICAgICAgICAgKS5hZGRUbyhtYXBfOGYxN2RiYWI1ZWY1NGU1ODhiNTg1YThkNGE5OGE5OWQpOwogICAgICAgIAogICAgCiAgICAgICAgICAgIHZhciB0aWxlX2xheWVyXzZmZjk1NDBlYjhmNDRiMDFiN2Y5YWE3YmQxMjQzM2RmID0gTC50aWxlTGF5ZXIoCiAgICAgICAgICAgICAgICAiaHR0cHM6Ly93bXRzLm5sc2MuZ292LnR3L3dtdHMvRU1BUDIvZGVmYXVsdC9Hb29nbGVNYXBzQ29tcGF0aWJsZS97en0ve3l9L3t4fSIsCiAgICAgICAgICAgICAgICB7ImF0dHJpYnV0aW9uIjogIlx1NTcwYlx1NTcxZlx1NmUyY1x1N2U2YVx1NTcxNlx1OGNjN1x1NjcwZFx1NTJkOVx1OTZmMiIsICJkZXRlY3RSZXRpbmEiOiBmYWxzZSwgIm1heE5hdGl2ZVpvb20iOiAxOSwgIm1heFpvb20iOiAxOSwgIm1pblpvb20iOiAwLCAibm9XcmFwIjogZmFsc2UsICJvcGFjaXR5IjogMSwgInN1YmRvbWFpbnMiOiAiYWJjIiwgInRtcyI6IGZhbHNlfQogICAgICAgICAgICApLmFkZFRvKG1hcF84ZjE3ZGJhYjVlZjU0ZTU4OGI1ODVhOGQ0YTk4YTk5ZCk7CiAgICAgICAgCiAgICAKICAgICAgICAgICAgdmFyIGxheWVyX2NvbnRyb2xfYjdhNTk3NzY3NTc0NDZhMmI5NTM4MmJhODc5ZGZjNjYgPSB7CiAgICAgICAgICAgICAgICBiYXNlX2xheWVycyA6IHsKICAgICAgICAgICAgICAgICAgICAiaHR0cDovL3RpbGUuc3RhbWVuLmNvbS90b25lci97en0ve3h9L3t5fS5wbmciIDogdGlsZV9sYXllcl9mZWNjMmQxODViMzg0MDNiYjQxMDhjODZmZDk3OTcxMSwKICAgICAgICAgICAgICAgICAgICAiXHU2YjYzXHU1YzA0XHU1ZjcxXHU1MGNmXHU1NzE2KFx1OTAxYVx1NzUyOFx1NzI0OCkiIDogdGlsZV9sYXllcl81YmYzNmMwYTljNDM0NTEwYWVkM2EwZTZmNTdiZGRlYywKICAgICAgICAgICAgICAgIH0sCiAgICAgICAgICAgICAgICBvdmVybGF5cyA6ICB7CiAgICAgICAgICAgICAgICAgICAgIlx1ODg0Y1x1OGVjYVx1OGVjY1x1OGRlMSIgOiBjaG9yb3BsZXRoXzUwNGUyNjFiMTA0ZDQ4ZDk4MjVjMzY5NmRjZTI4NWQyLAogICAgICAgICAgICAgICAgICAgICJcdTgxZmFcdTcwNjNcdTkwMWFcdTc1MjhcdTk2ZmJcdTViNTBcdTU3MzBcdTU3MTZcdTkwMGZcdTY2MGUiIDogdGlsZV9sYXllcl82ZmY5NTQwZWI4ZjQ0YjAxYjdmOWFhN2JkMTI0MzNkZiwKICAgICAgICAgICAgICAgIH0sCiAgICAgICAgICAgIH07CiAgICAgICAgICAgIEwuY29udHJvbC5sYXllcnMoCiAgICAgICAgICAgICAgICBsYXllcl9jb250cm9sX2I3YTU5Nzc2NzU3NDQ2YTJiOTUzODJiYTg3OWRmYzY2LmJhc2VfbGF5ZXJzLAogICAgICAgICAgICAgICAgbGF5ZXJfY29udHJvbF9iN2E1OTc3Njc1NzQ0NmEyYjk1MzgyYmE4NzlkZmM2Ni5vdmVybGF5cywKICAgICAgICAgICAgICAgIHsiYXV0b1pJbmRleCI6IHRydWUsICJjb2xsYXBzZWQiOiB0cnVlLCAicG9zaXRpb24iOiAidG9wcmlnaHQifQogICAgICAgICAgICApLmFkZFRvKG1hcF84ZjE3ZGJhYjVlZjU0ZTU4OGI1ODVhOGQ0YTk4YTk5ZCk7CiAgICAgICAgICAgIHRpbGVfbGF5ZXJfNWJmMzZjMGE5YzQzNDUxMGFlZDNhMGU2ZjU3YmRkZWMucmVtb3ZlKCk7CiAgICAgICAgICAgIHRpbGVfbGF5ZXJfNmZmOTU0MGViOGY0NGIwMWI3ZjlhYTdiZDEyNDMzZGYucmVtb3ZlKCk7CiAgICAgICAgCjwvc2NyaXB0Pg== onload=\"this.contentDocument.open();this.contentDocument.write(atob(this.getAttribute('data-html')));this.contentDocument.close();\" allowfullscreen webkitallowfullscreen mozallowfullscreen></iframe></div></div>"
      ],
      "text/plain": [
       "<folium.folium.Map at 0x1b3dd4c3bb0>"
      ]
     },
     "execution_count": 86,
     "metadata": {},
     "output_type": "execute_result"
    }
   ],
   "source": [
    "map = folium.Map(location=[23.762485, 120.827323], \n",
    "                 zoom_start=8, \n",
    "                 tiles='http://tile.stamen.com/toner/{z}/{x}/{y}.png', \n",
    "                 attr=\"https://stackoverflow.com/questions/48318538/folium-custom-map-tiles\"\n",
    "                )\n",
    "\n",
    "# 停留點聚合(如果太多)\n",
    "# marker_cluster = plugins.MarkerCluster().add_to(map)\n",
    "\n",
    "# 目標的停留時間 點位\n",
    "for point in range(0, len(locationlist)):\n",
    "    folium.CircleMarker(locationlist[point],\n",
    "                        radius=10,\n",
    "                        color='#3186cc',\n",
    "                        fill=True,\n",
    "                        popup=time_sumslist[point],\n",
    "                        fill_color='#3186cc'\n",
    "#                        ).add_to(marker_cluster)\n",
    "                       ).add_to(map)\n",
    "\n",
    "# 運禽車完整路線\n",
    "folium.Choropleth(\n",
    "    LineString(gdf_pic['geometry'].to_list()),\n",
    "    line_weight=3,\n",
    "    line_color='#66B3FF',\n",
    "    name=\"行車軌跡\"\n",
    ").add_to(map)\n",
    "    \n",
    "    \n",
    "# (option)加入時間\n",
    "plugins.TimestampedGeoJson(\n",
    "        {'type': 'FeatureCollection',\n",
    "        'features': features}\n",
    "        , period='PT2H' \n",
    "        , duration='PT1M'\n",
    "        , add_last_point=False\n",
    "        , auto_play=True\n",
    "        , loop=False\n",
    "        , max_speed=1\n",
    "        , loop_button=True\n",
    "        , date_options='YYYY/MM/DD HH:mm:ss'\n",
    "        , time_slider_drag_update=True\n",
    "    ).add_to(map)\n",
    "\n",
    "# 加入底圖\n",
    "folium.raster_layers.TileLayer(\n",
    "    tiles = \"https://wmts.nlsc.gov.tw/wmts/PHOTO2/default/GoogleMapsCompatible/{z}/{y}/{x}\",                 \n",
    "    attr = \"國土測繪圖資服務雲\",\n",
    "    name=\"正射影像圖(通用版)\",\n",
    "#     overlay=True,\n",
    "    min_zoom=0,\n",
    "    max_zoom=19,\n",
    "    ).add_to(map)\n",
    "# folium.LayerControl().add_to(map)\n",
    "\n",
    "folium.raster_layers.TileLayer(\n",
    "    tiles = \"https://wmts.nlsc.gov.tw/wmts/EMAP2/default/GoogleMapsCompatible/{z}/{y}/{x}\",                 \n",
    "    attr = \"國土測繪圖資服務雲\",\n",
    "    name=\"臺灣通用電子地圖透明\",\n",
    "    show=False,\n",
    "    overlay=True,\n",
    "    min_zoom=0,\n",
    "    max_zoom=19,\n",
    "    ).add_to(map)\n",
    "folium.LayerControl().add_to(map)\n",
    "\n",
    "map"
   ]
  },
  {
   "cell_type": "code",
   "execution_count": null,
   "metadata": {},
   "outputs": [],
   "source": []
  }
 ],
 "metadata": {
  "kernelspec": {
   "display_name": "Python 3",
   "language": "python",
   "name": "python3"
  },
  "language_info": {
   "codemirror_mode": {
    "name": "ipython",
    "version": 3
   },
   "file_extension": ".py",
   "mimetype": "text/x-python",
   "name": "python",
   "nbconvert_exporter": "python",
   "pygments_lexer": "ipython3",
   "version": "3.8.3"
  }
 },
 "nbformat": 4,
 "nbformat_minor": 4
}
