{
 "cells": [
  {
   "cell_type": "markdown",
   "metadata": {},
   "source": [
    "- 2021.03.19 運禽車軌跡\n",
    "- 2021.06.18 更新:車軌鄰近禽場\n",
    "- 2021.06.22 更新: 車軌鄰近禽場、停留點計算"
   ]
  },
  {
   "cell_type": "markdown",
   "metadata": {},
   "source": [
    "# 車軌鄰近禽場 (從運禽車軌跡找 **接觸禽場**) "
   ]
  },
  {
   "cell_type": "code",
   "execution_count": 1,
   "metadata": {},
   "outputs": [],
   "source": [
    "import pandas as pd\n",
    "import numpy as np\n",
    "import geopandas as gpd\n",
    "from shapely.geometry import Point, LineString, shape, Polygon\n",
    "import folium\n",
    "from folium import plugins\n",
    "import datetime\n",
    "\n",
    "# import sys\n",
    "# sys.path.append('G:\\我的雲端硬碟\\python')\n",
    "# import numpy as np\n",
    "# from polib.MapToolkit import *\n",
    "%matplotlib inline"
   ]
  },
  {
   "cell_type": "markdown",
   "metadata": {},
   "source": [
    "## 讀入 禽場資料"
   ]
  },
  {
   "cell_type": "code",
   "execution_count": 2,
   "metadata": {},
   "outputs": [
    {
     "name": "stdout",
     "output_type": "stream",
     "text": [
      "<class 'pandas.core.frame.DataFrame'>\n",
      "RangeIndex: 16115 entries, 0 to 16114\n",
      "Data columns (total 31 columns):\n",
      " #   Column             Non-Null Count  Dtype \n",
      "---  ------             --------------  ----- \n",
      " 0   FarmID             16115 non-null  int64 \n",
      " 1   field2             16115 non-null  object\n",
      " 2   Epi_Pre_Num        16115 non-null  object\n",
      " 3   field4             16115 non-null  object\n",
      " 4   countyname         16115 non-null  object\n",
      " 5   townname           16115 non-null  object\n",
      " 6   VillageName        16115 non-null  object\n",
      " 7   Address            16115 non-null  object\n",
      " 8   FarmName           16115 non-null  object\n",
      " 9   Owner              16115 non-null  object\n",
      " 10  OwnerTEL           16115 non-null  object\n",
      " 11  FarmStatus         16115 non-null  object\n",
      " 12  NativeChicken      16115 non-null  int64 \n",
      " 13  BreederForNC       16115 non-null  int64 \n",
      " 14  Broiler            16115 non-null  int64 \n",
      " 15  BreederForBroiler  16115 non-null  int64 \n",
      " 16  Layer              16115 non-null  int64 \n",
      " 17  BreederForHen      16115 non-null  int64 \n",
      " 18  ChickenInEgg       16115 non-null  int64 \n",
      " 19  Ostrich            16115 non-null  int64 \n",
      " 20  MeatDuck           16115 non-null  int64 \n",
      " 21  LayerDuck          16115 non-null  int64 \n",
      " 22  BreederForDuck     16115 non-null  int64 \n",
      " 23  Turkey             16115 non-null  int64 \n",
      " 24  MeatGoose          16115 non-null  int64 \n",
      " 25  BreederForGoose    16115 non-null  int64 \n",
      " 26  OtherPoultry       16115 non-null  int64 \n",
      " 27  PoultryTotal       16115 non-null  int64 \n",
      " 28  lat                16115 non-null  object\n",
      " 29  lng                16115 non-null  object\n",
      " 30  BreedingPoultry    16115 non-null  object\n",
      "dtypes: int64(17), object(14)\n",
      "memory usage: 3.8+ MB\n",
      "None\n"
     ]
    },
    {
     "data": {
      "text/html": [
       "<div>\n",
       "<style scoped>\n",
       "    .dataframe tbody tr th:only-of-type {\n",
       "        vertical-align: middle;\n",
       "    }\n",
       "\n",
       "    .dataframe tbody tr th {\n",
       "        vertical-align: top;\n",
       "    }\n",
       "\n",
       "    .dataframe thead th {\n",
       "        text-align: right;\n",
       "    }\n",
       "</style>\n",
       "<table border=\"1\" class=\"dataframe\">\n",
       "  <thead>\n",
       "    <tr style=\"text-align: right;\">\n",
       "      <th></th>\n",
       "      <th>FarmName</th>\n",
       "      <th>lat</th>\n",
       "      <th>lng</th>\n",
       "    </tr>\n",
       "  </thead>\n",
       "  <tbody>\n",
       "    <tr>\n",
       "      <th>0</th>\n",
       "      <td>林照成</td>\n",
       "      <td></td>\n",
       "      <td></td>\n",
       "    </tr>\n",
       "    <tr>\n",
       "      <th>1</th>\n",
       "      <td>永成牧場</td>\n",
       "      <td>24.32885800</td>\n",
       "      <td>120.60480700</td>\n",
       "    </tr>\n",
       "    <tr>\n",
       "      <th>2</th>\n",
       "      <td>蔡農家畜禽飼養場</td>\n",
       "      <td>24.32967000</td>\n",
       "      <td>120.60452900</td>\n",
       "    </tr>\n",
       "    <tr>\n",
       "      <th>3</th>\n",
       "      <td>振昇畜牧場</td>\n",
       "      <td>24.37435800</td>\n",
       "      <td>120.66589100</td>\n",
       "    </tr>\n",
       "    <tr>\n",
       "      <th>4</th>\n",
       "      <td>元益牧場</td>\n",
       "      <td>24.42578100</td>\n",
       "      <td>120.63230700</td>\n",
       "    </tr>\n",
       "  </tbody>\n",
       "</table>\n",
       "</div>"
      ],
      "text/plain": [
       "   FarmName          lat           lng\n",
       "0       林照成                           \n",
       "1      永成牧場  24.32885800  120.60480700\n",
       "2  蔡農家畜禽飼養場  24.32967000  120.60452900\n",
       "3     振昇畜牧場  24.37435800  120.66589100\n",
       "4      元益牧場  24.42578100  120.63230700"
      ]
     },
     "execution_count": 2,
     "metadata": {},
     "output_type": "execute_result"
    }
   ],
   "source": [
    "farm_path = r\"G:\\我的雲端硬碟\\work\\2021\\1.農試所_大禽流感專案\\1.資料\\畜牧場資料\\Farms.json\"\n",
    "farm_df = pd.read_json(farm_path)\n",
    "print(farm_df.info())\n",
    "farm_df[[\"FarmName\",\"lat\",\"lng\"]].head()"
   ]
  },
  {
   "cell_type": "markdown",
   "metadata": {},
   "source": [
    "## 移除座標有缺值的禽場"
   ]
  },
  {
   "cell_type": "code",
   "execution_count": 3,
   "metadata": {},
   "outputs": [],
   "source": [
    "# string -> float\n",
    "farm_df.loc[:,\"lat\"] = pd.to_numeric(farm_df.loc[:,\"lat\"], errors='coerce')\n",
    "farm_df.loc[:,\"lng\"] = pd.to_numeric(farm_df.loc[:,\"lng\"], errors='coerce')"
   ]
  },
  {
   "cell_type": "code",
   "execution_count": 4,
   "metadata": {},
   "outputs": [
    {
     "data": {
      "text/plain": [
       "lat    4496\n",
       "lng    4496\n",
       "dtype: int64"
      ]
     },
     "execution_count": 4,
     "metadata": {},
     "output_type": "execute_result"
    }
   ],
   "source": [
    "farm_df.loc[:,[\"lat\",\"lng\"]].isnull().sum()"
   ]
  },
  {
   "cell_type": "code",
   "execution_count": 5,
   "metadata": {},
   "outputs": [
    {
     "name": "stdout",
     "output_type": "stream",
     "text": [
      ">> 原資料數: 16115\n",
      ">> 後資料數: 11619\n"
     ]
    }
   ],
   "source": [
    "print(f\">> 原資料數: {len(farm_df)}\")\n",
    "farm_df.dropna(subset=[\"lat\",\"lng\"], how=\"any\", inplace=True)\n",
    "print(f\">> 後資料數: {len(farm_df)}\")"
   ]
  },
  {
   "cell_type": "markdown",
   "metadata": {},
   "source": [
    "## 建立禽場 gdf"
   ]
  },
  {
   "cell_type": "code",
   "execution_count": 6,
   "metadata": {},
   "outputs": [],
   "source": [
    "wgs84 = 'epsg:4326'\n",
    "farm_gdf = gpd.GeoDataFrame(\n",
    "    farm_df, geometry=gpd.points_from_xy(farm_df.lng, farm_df.lat)\n",
    "    , crs=wgs84\n",
    ")"
   ]
  },
  {
   "cell_type": "code",
   "execution_count": 2,
   "metadata": {},
   "outputs": [],
   "source": [
    "# plot_points_on_folium(farm_gdf)"
   ]
  },
  {
   "cell_type": "markdown",
   "metadata": {},
   "source": [
    "## 讀入 運禽車 資料"
   ]
  },
  {
   "cell_type": "code",
   "execution_count": 8,
   "metadata": {},
   "outputs": [],
   "source": [
    "car_path = r\"G:\\我的雲端硬碟\\python\\output\\0621\\運禽車_TCP_0615to0617_20210621_15.47.45.pkl\"\n",
    "car_df = pd.read_pickle(car_path)"
   ]
  },
  {
   "cell_type": "code",
   "execution_count": 9,
   "metadata": {},
   "outputs": [],
   "source": [
    "# 製作 日期 欄位\n",
    "car_df.loc[:,\"date\"] = car_df.loc[:,\"time\"].dt.date"
   ]
  },
  {
   "cell_type": "code",
   "execution_count": 10,
   "metadata": {},
   "outputs": [
    {
     "data": {
      "text/plain": [
       "130"
      ]
     },
     "execution_count": 10,
     "metadata": {},
     "output_type": "execute_result"
    }
   ],
   "source": [
    "# 獨立車牌數\n",
    "car_df[\"licensePlate\"].nunique()"
   ]
  },
  {
   "cell_type": "code",
   "execution_count": 11,
   "metadata": {},
   "outputs": [
    {
     "data": {
      "text/plain": [
       "array([datetime.date(2021, 6, 15), datetime.date(2021, 6, 16),\n",
       "       datetime.date(2021, 6, 17)], dtype=object)"
      ]
     },
     "execution_count": 11,
     "metadata": {},
     "output_type": "execute_result"
    }
   ],
   "source": [
    "car_df[\"date\"].unique()"
   ]
  },
  {
   "cell_type": "markdown",
   "metadata": {},
   "source": [
    "**只選用carStatus=1的資料作軌跡**"
   ]
  },
  {
   "cell_type": "code",
   "execution_count": 12,
   "metadata": {},
   "outputs": [
    {
     "name": "stdout",
     "output_type": "stream",
     "text": [
      "0    97738\n",
      "1    88745\n",
      "Name: carStatus, dtype: int64\n"
     ]
    }
   ],
   "source": [
    "# 篩選 carStatus=1 (車在動的時候->30秒左右蒐集一次點位->比較不會有位置跳動過大的問題)\n",
    "print(car_df[\"carStatus\"].value_counts())\n",
    "car_df = car_df[car_df[\"carStatus\"].isin([1])].reset_index(drop=True)"
   ]
  },
  {
   "cell_type": "code",
   "execution_count": 13,
   "metadata": {},
   "outputs": [
    {
     "name": "stdout",
     "output_type": "stream",
     "text": [
      "035-H9\n",
      "2021-06-16\n",
      "105\n"
     ]
    },
    {
     "data": {
      "text/html": [
       "<div>\n",
       "<style scoped>\n",
       "    .dataframe tbody tr th:only-of-type {\n",
       "        vertical-align: middle;\n",
       "    }\n",
       "\n",
       "    .dataframe tbody tr th {\n",
       "        vertical-align: top;\n",
       "    }\n",
       "\n",
       "    .dataframe thead th {\n",
       "        text-align: right;\n",
       "    }\n",
       "</style>\n",
       "<table border=\"1\" class=\"dataframe\">\n",
       "  <thead>\n",
       "    <tr style=\"text-align: right;\">\n",
       "      <th></th>\n",
       "      <th>carStatus</th>\n",
       "      <th>time</th>\n",
       "      <th>lat</th>\n",
       "      <th>lon</th>\n",
       "      <th>speed</th>\n",
       "      <th>direction</th>\n",
       "      <th>licensePlate</th>\n",
       "      <th>date</th>\n",
       "    </tr>\n",
       "  </thead>\n",
       "  <tbody>\n",
       "    <tr>\n",
       "      <th>0</th>\n",
       "      <td>1</td>\n",
       "      <td>2021-06-16 14:42:06</td>\n",
       "      <td>23.199959</td>\n",
       "      <td>120.217720</td>\n",
       "      <td>0</td>\n",
       "      <td>232</td>\n",
       "      <td>035-H9</td>\n",
       "      <td>2021-06-16</td>\n",
       "    </tr>\n",
       "    <tr>\n",
       "      <th>1</th>\n",
       "      <td>1</td>\n",
       "      <td>2021-06-16 14:42:37</td>\n",
       "      <td>23.199753</td>\n",
       "      <td>120.218292</td>\n",
       "      <td>22</td>\n",
       "      <td>128</td>\n",
       "      <td>035-H9</td>\n",
       "      <td>2021-06-16</td>\n",
       "    </tr>\n",
       "    <tr>\n",
       "      <th>2</th>\n",
       "      <td>1</td>\n",
       "      <td>2021-06-16 14:43:07</td>\n",
       "      <td>23.197720</td>\n",
       "      <td>120.219185</td>\n",
       "      <td>35</td>\n",
       "      <td>178</td>\n",
       "      <td>035-H9</td>\n",
       "      <td>2021-06-16</td>\n",
       "    </tr>\n",
       "    <tr>\n",
       "      <th>3</th>\n",
       "      <td>1</td>\n",
       "      <td>2021-06-16 14:43:38</td>\n",
       "      <td>23.194216</td>\n",
       "      <td>120.219505</td>\n",
       "      <td>46</td>\n",
       "      <td>176</td>\n",
       "      <td>035-H9</td>\n",
       "      <td>2021-06-16</td>\n",
       "    </tr>\n",
       "    <tr>\n",
       "      <th>4</th>\n",
       "      <td>1</td>\n",
       "      <td>2021-06-16 14:44:08</td>\n",
       "      <td>23.191982</td>\n",
       "      <td>120.219307</td>\n",
       "      <td>12</td>\n",
       "      <td>288</td>\n",
       "      <td>035-H9</td>\n",
       "      <td>2021-06-16</td>\n",
       "    </tr>\n",
       "  </tbody>\n",
       "</table>\n",
       "</div>"
      ],
      "text/plain": [
       "   carStatus                time        lat         lon  speed  direction  \\\n",
       "0          1 2021-06-16 14:42:06  23.199959  120.217720      0        232   \n",
       "1          1 2021-06-16 14:42:37  23.199753  120.218292     22        128   \n",
       "2          1 2021-06-16 14:43:07  23.197720  120.219185     35        178   \n",
       "3          1 2021-06-16 14:43:38  23.194216  120.219505     46        176   \n",
       "4          1 2021-06-16 14:44:08  23.191982  120.219307     12        288   \n",
       "\n",
       "  licensePlate        date  \n",
       "0       035-H9  2021-06-16  \n",
       "1       035-H9  2021-06-16  \n",
       "2       035-H9  2021-06-16  \n",
       "3       035-H9  2021-06-16  \n",
       "4       035-H9  2021-06-16  "
      ]
     },
     "execution_count": 13,
     "metadata": {},
     "output_type": "execute_result"
    }
   ],
   "source": [
    "# 讀取其中一筆車牌\n",
    "for driver in car_df[\"licensePlate\"].unique()[3:4]: # 取1筆測試\n",
    "    print(driver)\n",
    "    # 讀取其中一天\n",
    "    for date in car_df[\"date\"].unique()[1:2]: # 取1筆測試\n",
    "        print(date)\n",
    "        mask = (car_df[\"licensePlate\"].isin([driver])) & (car_df[\"date\"].isin([date]))\n",
    "        driver_df = car_df.loc[mask,:].reset_index(drop=True)\n",
    "        print(len(driver_df))\n",
    "driver_df.head()"
   ]
  },
  {
   "cell_type": "code",
   "execution_count": 14,
   "metadata": {},
   "outputs": [
    {
     "name": "stderr",
     "output_type": "stream",
     "text": [
      "C:\\Users\\EMCT_Jeff\\anaconda3\\lib\\site-packages\\pyproj\\crs\\crs.py:53: FutureWarning: '+init=<authority>:<code>' syntax is deprecated. '<authority>:<code>' is the preferred initialization method. When making the change, be mindful of axis order changes: https://pyproj4.github.io/pyproj/stable/gotchas.html#axis-order-changes-in-proj-6\n",
      "  return _prepare_from_string(\" \".join(pjargs))\n"
     ]
    }
   ],
   "source": [
    "wgs84 = {'init': 'epsg:4326'}\n",
    "driver_gdf = gpd.GeoDataFrame(\n",
    "    driver_df, geometry=gpd.points_from_xy(driver_df.lon, driver_df.lat), crs=wgs84)"
   ]
  },
  {
   "cell_type": "code",
   "execution_count": 3,
   "metadata": {},
   "outputs": [],
   "source": [
    "# # 總行車軌跡點位\n",
    "# plot_points_on_folium(driver_gdf)"
   ]
  },
  {
   "cell_type": "markdown",
   "metadata": {},
   "source": [
    "## 車軌 Buffer 100M"
   ]
  },
  {
   "cell_type": "code",
   "execution_count": 16,
   "metadata": {},
   "outputs": [],
   "source": [
    "driver_geom = driver_gdf.sort_values(by=[\"time\"])[\"geometry\"].copy(deep=True)"
   ]
  },
  {
   "cell_type": "markdown",
   "metadata": {},
   "source": [
    "### 車軌 需先轉換成 TWD97 121分帶 EPSG:3826 (單位: 公尺)"
   ]
  },
  {
   "cell_type": "code",
   "execution_count": 17,
   "metadata": {},
   "outputs": [
    {
     "name": "stdout",
     "output_type": "stream",
     "text": [
      "+init=epsg:4326 +type=crs\n",
      "EPSG:3826\n"
     ]
    }
   ],
   "source": [
    "print(driver_geom.crs)\n",
    "driver_geom_twd97 = driver_geom.to_crs(\"EPSG:3826\")\n",
    "print(driver_geom_twd97.crs)"
   ]
  },
  {
   "cell_type": "markdown",
   "metadata": {},
   "source": [
    "### 將 車軌 從 點 轉換成 線"
   ]
  },
  {
   "cell_type": "code",
   "execution_count": 18,
   "metadata": {},
   "outputs": [
    {
     "data": {
      "image/svg+xml": [
       "<svg xmlns=\"http://www.w3.org/2000/svg\" xmlns:xlink=\"http://www.w3.org/1999/xlink\" width=\"300\" height=\"300\" viewBox=\"166650.02408203608 2563833.4259879477 4778.322922260326 7946.9276829101145\" preserveAspectRatio=\"xMinYMin meet\"><g transform=\"matrix(1,0,0,-1,0,5135613.779658806)\"><polyline fill=\"none\" stroke=\"#66cc99\" stroke-width=\"52.97951788606743\" points=\"169923.5763647151,2566640.789195369 169982.02877776645,2566617.66190456 170072.19712127693,2566392.0049209557 170102.91763131734,2566003.8082353533 170081.28337147017,2565756.572618683 170056.5121175698,2565798.1068777232 170268.07221302105,2565777.750685496 170716.59888862932,2565814.2225880814 171074.9238147679,2565779.5785010466 171033.7545023949,2565527.7985668937 170969.66620795144,2565225.8674721373 170776.82952151517,2564949.757198211 170568.9993156075,2564939.4573763413 170535.56009456416,2564967.306925964 171097.13948695373,2564370.1309900973 171081.60886089114,2564387.534117755 171095.6130415023,2564376.898442593 171134.0163493738,2564400.986630039 170880.38518136885,2564298.828229841 170520.62182902475,2564216.884124183 170205.49747990342,2564156.8887226908 170123.3203035097,2564127.75664287 170122.28344496555,2564371.522495623 170155.50557985454,2564740.3646891606 170168.65379104705,2565153.2506565894 170192.17967613167,2565462.1555278013 170155.2254323499,2565562.477099329 170163.43228896245,2565636.363979663 170138.24653206734,2565746.3391833976 170115.916156218,2566097.313921162 169961.29550062318,2566393.023160806 170152.48288991838,2566362.001754424 170080.79053462425,2566392.3812531796 169936.47231785013,2566424.6301026097 169854.43440702982,2566564.273013974 169806.4126351975,2566638.8850976215 169670.77608532566,2566687.3547014184 169640.03671735676,2566780.2512787986 169506.77263922303,2566978.2616929603 169119.82599787228,2567057.8813528265 168886.97374174435,2567180.3956876653 168821.05086697565,2567408.2521290584 168638.7291028687,2567772.3561268556 168406.10016782105,2568217.6407242846 168192.36419099243,2568687.7512271004 167947.21975901115,2568982.5041639423 167948.9528323601,2569013.545853856 168023.6549255252,2569248.8699172707 167987.1958108963,2569717.585980602 167950.7909034914,2570195.5964359874 167874.35604880628,2570494.0688413735 167514.80396979576,2570708.3498065164 167297.22313435236,2570756.2417543014 167173.21272013074,2571201.3685213965 166944.3547369587,2571465.2100776276 166991.95580836645,2571460.5081111984 167009.10639100175,2571455.7651413707 167020.79997597664,2571452.5313098626 166999.90612473682,2571486.0230159354 166995.89025306902,2571465.9782142397 166982.51360160188,2571447.464358932 166984.90543389294,2571456.3228252586 167028.69125950936,2571467.484853886 167016.28654816726,2571483.1854630364 167004.44665935665,2571460.2270890377 166994.81917416252,2571414.0206128242 167003.44641435292,2571420.943137391 167007.44576519332,2571438.0307552894 166998.81027560978,2571429.6296361843 166998.86692205459,2571439.7685558107 167017.61443340278,2571441.3536971635 167001.2575654415,2571448.4157969374 166991.0912584375,2571445.515321262 166977.82790524396,2571447.279309989 166972.34965086554,2571444.986350961 166977.0530548311,2571448.339810742 166977.8444314056,2571450.2364950315 166970.80939497825,2571448.7971731345 166977.8397096433,2571449.3915850185 166987.7416326427,2571404.9770928426 166960.02408473662,2571474.839251411 167043.2330212135,2571415.017595797 167087.4059350521,2571355.6254722765 167211.58909414842,2571222.4892592547 167306.7648825754,2571067.7585099777 167341.52418521576,2570859.7110460885 167376.54176770555,2570697.9224943887 167480.20756193215,2570665.0277426355 167803.0616896334,2570733.156800852 167907.78325761767,2570608.583905295 167936.88663591217,2570222.9222906213 167942.91547346982,2569900.547038299 167902.24319286228,2569605.467564287 167944.15701113234,2569418.083625947 168211.30234319688,2569149.402093849 168408.12310949108,2568728.812630199 168553.6301128198,2568347.7964724866 168751.13291165227,2568191.249385351 168873.38529897097,2568555.591785291 168899.29669222346,2567435.2856952166 169040.31311589747,2567085.3513268633 169753.79545438796,2566875.114276263 169825.2021547665,2566647.233153244 169934.3751851495,2566615.59457226 169972.76122222358,2566637.1450105095\" opacity=\"0.8\" /></g></svg>"
      ],
      "text/plain": [
       "<shapely.geometry.linestring.LineString at 0x22244538e80>"
      ]
     },
     "execution_count": 18,
     "metadata": {},
     "output_type": "execute_result"
    }
   ],
   "source": [
    "driver_geom_line = LineString(driver_geom_twd97.to_list())\n",
    "\n",
    "driver_geom_line"
   ]
  },
  {
   "cell_type": "code",
   "execution_count": 19,
   "metadata": {},
   "outputs": [
    {
     "name": "stderr",
     "output_type": "stream",
     "text": [
      "C:\\Users\\EMCT_Jeff\\anaconda3\\lib\\site-packages\\pyproj\\crs\\crs.py:53: FutureWarning: '+init=<authority>:<code>' syntax is deprecated. '<authority>:<code>' is the preferred initialization method. When making the change, be mindful of axis order changes: https://pyproj4.github.io/pyproj/stable/gotchas.html#axis-order-changes-in-proj-6\n",
      "  return _prepare_from_string(\" \".join(pjargs))\n"
     ]
    }
   ],
   "source": [
    "driver_geom_line_buffer_100m = driver_geom_line.buffer(100)\n",
    "# 需先將series 轉換回df 才能做交集\n",
    "twd97 = {'init': 'epsg:3826'}\n",
    "\n",
    "driver_geom_line_buffer_100m_df = gpd.GeoDataFrame(\n",
    "    {'geometry': driver_geom_line_buffer_100m, \n",
    "     'temp':[True]}, \n",
    "     crs=twd97)"
   ]
  },
  {
   "cell_type": "code",
   "execution_count": 20,
   "metadata": {},
   "outputs": [
    {
     "data": {
      "text/html": [
       "<div>\n",
       "<style scoped>\n",
       "    .dataframe tbody tr th:only-of-type {\n",
       "        vertical-align: middle;\n",
       "    }\n",
       "\n",
       "    .dataframe tbody tr th {\n",
       "        vertical-align: top;\n",
       "    }\n",
       "\n",
       "    .dataframe thead th {\n",
       "        text-align: right;\n",
       "    }\n",
       "</style>\n",
       "<table border=\"1\" class=\"dataframe\">\n",
       "  <thead>\n",
       "    <tr style=\"text-align: right;\">\n",
       "      <th></th>\n",
       "      <th>geometry</th>\n",
       "      <th>temp</th>\n",
       "    </tr>\n",
       "  </thead>\n",
       "  <tbody>\n",
       "    <tr>\n",
       "      <th>0</th>\n",
       "      <td>POLYGON ((167285.670 2570656.391, 167275.727 2...</td>\n",
       "      <td>True</td>\n",
       "    </tr>\n",
       "  </tbody>\n",
       "</table>\n",
       "</div>"
      ],
      "text/plain": [
       "                                            geometry  temp\n",
       "0  POLYGON ((167285.670 2570656.391, 167275.727 2...  True"
      ]
     },
     "execution_count": 20,
     "metadata": {},
     "output_type": "execute_result"
    }
   ],
   "source": [
    "driver_geom_line_buffer_100m_df"
   ]
  },
  {
   "cell_type": "markdown",
   "metadata": {},
   "source": [
    "### 禽場 需先轉換成 TWD97 121分帶 EPSG:3826 (單位: 公尺)"
   ]
  },
  {
   "cell_type": "code",
   "execution_count": 21,
   "metadata": {},
   "outputs": [
    {
     "data": {
      "text/html": [
       "<div>\n",
       "<style scoped>\n",
       "    .dataframe tbody tr th:only-of-type {\n",
       "        vertical-align: middle;\n",
       "    }\n",
       "\n",
       "    .dataframe tbody tr th {\n",
       "        vertical-align: top;\n",
       "    }\n",
       "\n",
       "    .dataframe thead th {\n",
       "        text-align: right;\n",
       "    }\n",
       "</style>\n",
       "<table border=\"1\" class=\"dataframe\">\n",
       "  <thead>\n",
       "    <tr style=\"text-align: right;\">\n",
       "      <th></th>\n",
       "      <th>geometry</th>\n",
       "      <th>lat</th>\n",
       "      <th>lng</th>\n",
       "    </tr>\n",
       "  </thead>\n",
       "  <tbody>\n",
       "    <tr>\n",
       "      <th>1</th>\n",
       "      <td>POINT (209895.055 2691500.973)</td>\n",
       "      <td>24.328858</td>\n",
       "      <td>120.604807</td>\n",
       "    </tr>\n",
       "    <tr>\n",
       "      <th>2</th>\n",
       "      <td>POINT (209867.098 2691590.985)</td>\n",
       "      <td>24.329670</td>\n",
       "      <td>120.604529</td>\n",
       "    </tr>\n",
       "    <tr>\n",
       "      <th>3</th>\n",
       "      <td>POINT (216106.144 2696524.004)</td>\n",
       "      <td>24.374358</td>\n",
       "      <td>120.665891</td>\n",
       "    </tr>\n",
       "    <tr>\n",
       "      <th>4</th>\n",
       "      <td>POINT (212714.268 2702227.942)</td>\n",
       "      <td>24.425781</td>\n",
       "      <td>120.632307</td>\n",
       "    </tr>\n",
       "    <tr>\n",
       "      <th>5</th>\n",
       "      <td>POINT (211045.967 2694838.996)</td>\n",
       "      <td>24.359026</td>\n",
       "      <td>120.616057</td>\n",
       "    </tr>\n",
       "  </tbody>\n",
       "</table>\n",
       "</div>"
      ],
      "text/plain": [
       "                         geometry        lat         lng\n",
       "1  POINT (209895.055 2691500.973)  24.328858  120.604807\n",
       "2  POINT (209867.098 2691590.985)  24.329670  120.604529\n",
       "3  POINT (216106.144 2696524.004)  24.374358  120.665891\n",
       "4  POINT (212714.268 2702227.942)  24.425781  120.632307\n",
       "5  POINT (211045.967 2694838.996)  24.359026  120.616057"
      ]
     },
     "execution_count": 21,
     "metadata": {},
     "output_type": "execute_result"
    }
   ],
   "source": [
    "farm_gdf_twd97 = farm_gdf.to_crs(\"EPSG:3826\")\n",
    "farm_gdf_twd97[[\"geometry\",\"lat\",\"lng\"]].head()"
   ]
  },
  {
   "cell_type": "markdown",
   "metadata": {},
   "source": [
    "### 車軌 Buffer 與禽場點位取交集"
   ]
  },
  {
   "cell_type": "code",
   "execution_count": 22,
   "metadata": {},
   "outputs": [
    {
     "name": "stdout",
     "output_type": "stream",
     "text": [
      ">> 交集禽場數: 9\n",
      "\n"
     ]
    }
   ],
   "source": [
    "# 只允許 gdf之間做交集\n",
    "intersection_farms = gpd.overlay(farm_gdf_twd97, driver_geom_line_buffer_100m_df ,  how='intersection')\n",
    "print(f\">> 交集禽場數: {len(intersection_farms)}\\n\")"
   ]
  },
  {
   "cell_type": "markdown",
   "metadata": {},
   "source": [
    "## 畫圖"
   ]
  },
  {
   "cell_type": "code",
   "execution_count": 23,
   "metadata": {},
   "outputs": [],
   "source": [
    "# 經 緯\n",
    "locationlist = [[point.xy[1][0], point.xy[0][0]] for point in intersection_farms.to_crs('EPSG:4326').geometry ]"
   ]
  },
  {
   "cell_type": "code",
   "execution_count": 24,
   "metadata": {},
   "outputs": [
    {
     "data": {
      "text/html": [
       "<div style=\"width:100%;\"><div style=\"position:relative;width:100%;height:0;padding-bottom:60%;\"><span style=\"color:#565656\">Make this Notebook Trusted to load map: File -> Trust Notebook</span><iframe src=\"about:blank\" style=\"position:absolute;width:100%;height:100%;left:0;top:0;border:none !important;\" data-html=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 onload=\"this.contentDocument.open();this.contentDocument.write(atob(this.getAttribute('data-html')));this.contentDocument.close();\" allowfullscreen webkitallowfullscreen mozallowfullscreen></iframe></div></div>"
      ],
      "text/plain": [
       "<folium.folium.Map at 0x222443fcdc0>"
      ]
     },
     "execution_count": 24,
     "metadata": {},
     "output_type": "execute_result"
    }
   ],
   "source": [
    "map = folium.Map(location=[23.762485, 120.827323], \n",
    "                 zoom_start=8, \n",
    "                 tiles='http://tile.stamen.com/toner/{z}/{x}/{y}.png', \n",
    "                 attr=\"https://stackoverflow.com/questions/48318538/folium-custom-map-tiles\"\n",
    "                )\n",
    "\n",
    "\n",
    "# 運禽車完整路線Buffer\n",
    "folium.Choropleth(\n",
    "    driver_geom_line_buffer_100m_df,\n",
    "    line_weight=3,\n",
    "    line_color='#66B3FF',\n",
    "    name=\"行車軌跡Buffer\"\n",
    ").add_to(map)\n",
    "\n",
    "# # 交集禽場聚合(如果太多)\n",
    "marker_cluster = plugins.MarkerCluster().add_to(map)\n",
    "\n",
    "# (交集) 禽場 點位\n",
    "for point in range(0, len(locationlist)):\n",
    "    folium.CircleMarker(locationlist[point],\n",
    "                        radius=7,\n",
    "                        color='#808080',\n",
    "                        fill=True,\n",
    "                        fill_color='#3186cc'\n",
    "                       ).add_to(marker_cluster)\n",
    "\n",
    "\n",
    "\n",
    "# 加入底圖\n",
    "folium.raster_layers.TileLayer(\n",
    "    tiles = \"https://wmts.nlsc.gov.tw/wmts/PHOTO2/default/GoogleMapsCompatible/{z}/{y}/{x}\",                 \n",
    "    attr = \"國土測繪圖資服務雲\",\n",
    "    name=\"正射影像圖(通用版)\",\n",
    "#     overlay=True,\n",
    "    min_zoom=0,\n",
    "    max_zoom=19,\n",
    "    ).add_to(map)\n",
    "# folium.LayerControl().add_to(map)\n",
    "\n",
    "folium.raster_layers.TileLayer(\n",
    "    tiles = \"https://wmts.nlsc.gov.tw/wmts/EMAP2/default/GoogleMapsCompatible/{z}/{y}/{x}\",                 \n",
    "    attr = \"國土測繪圖資服務雲\",\n",
    "    name=\"臺灣通用電子地圖透明\",\n",
    "    show=False,\n",
    "    overlay=True,\n",
    "    min_zoom=0,\n",
    "    max_zoom=19,\n",
    "    ).add_to(map)\n",
    "folium.LayerControl().add_to(map)\n",
    "\n",
    "# map.save('從運禽車軌跡找接觸禽場.html')\n",
    "map"
   ]
  },
  {
   "cell_type": "markdown",
   "metadata": {},
   "source": [
    "# 停留點計算 (從運禽車軌跡找 **停留點**)"
   ]
  },
  {
   "cell_type": "markdown",
   "metadata": {},
   "source": [
    "## 讀入 運禽車 資料"
   ]
  },
  {
   "cell_type": "code",
   "execution_count": 25,
   "metadata": {},
   "outputs": [],
   "source": [
    "car_path = r\"G:\\我的雲端硬碟\\python\\output\\0621\\運禽車_TCP_0615to0617_20210621_15.47.45.pkl\"\n",
    "car_df = pd.read_pickle(car_path)"
   ]
  },
  {
   "cell_type": "code",
   "execution_count": 26,
   "metadata": {},
   "outputs": [],
   "source": [
    "# 製作 日期 欄位\n",
    "car_df.loc[:,\"date\"] = car_df.loc[:,\"time\"].dt.date"
   ]
  },
  {
   "cell_type": "code",
   "execution_count": 27,
   "metadata": {},
   "outputs": [
    {
     "data": {
      "text/plain": [
       "130"
      ]
     },
     "execution_count": 27,
     "metadata": {},
     "output_type": "execute_result"
    }
   ],
   "source": [
    "# 獨立車牌數\n",
    "car_df[\"licensePlate\"].nunique()"
   ]
  },
  {
   "cell_type": "code",
   "execution_count": 28,
   "metadata": {},
   "outputs": [
    {
     "data": {
      "text/plain": [
       "array([datetime.date(2021, 6, 15), datetime.date(2021, 6, 16),\n",
       "       datetime.date(2021, 6, 17)], dtype=object)"
      ]
     },
     "execution_count": 28,
     "metadata": {},
     "output_type": "execute_result"
    }
   ],
   "source": [
    "car_df[\"date\"].unique()"
   ]
  },
  {
   "cell_type": "code",
   "execution_count": 30,
   "metadata": {},
   "outputs": [
    {
     "data": {
      "text/plain": [
       "['025-H9', '028-X6', '029-X6', '033-T6']\n",
       "Categories (130, object): ['025-H9', '028-X6', '029-X6', '033-T6', ..., 'KLF-8237', 'KLG-5189', 'KLG-5355', 'UV-993']"
      ]
     },
     "execution_count": 30,
     "metadata": {},
     "output_type": "execute_result"
    }
   ],
   "source": [
    "car_df[\"licensePlate\"].unique()[:4]"
   ]
  },
  {
   "cell_type": "code",
   "execution_count": 31,
   "metadata": {},
   "outputs": [
    {
     "data": {
      "text/html": [
       "<div>\n",
       "<style scoped>\n",
       "    .dataframe tbody tr th:only-of-type {\n",
       "        vertical-align: middle;\n",
       "    }\n",
       "\n",
       "    .dataframe tbody tr th {\n",
       "        vertical-align: top;\n",
       "    }\n",
       "\n",
       "    .dataframe thead th {\n",
       "        text-align: right;\n",
       "    }\n",
       "</style>\n",
       "<table border=\"1\" class=\"dataframe\">\n",
       "  <thead>\n",
       "    <tr style=\"text-align: right;\">\n",
       "      <th></th>\n",
       "      <th>carStatus</th>\n",
       "      <th>time</th>\n",
       "      <th>lat</th>\n",
       "      <th>lon</th>\n",
       "      <th>speed</th>\n",
       "      <th>direction</th>\n",
       "      <th>licensePlate</th>\n",
       "      <th>date</th>\n",
       "    </tr>\n",
       "  </thead>\n",
       "  <tbody>\n",
       "    <tr>\n",
       "      <th>0</th>\n",
       "      <td>0</td>\n",
       "      <td>2021-06-15 14:52:26</td>\n",
       "      <td>23.596823</td>\n",
       "      <td>120.281693</td>\n",
       "      <td>0</td>\n",
       "      <td>290</td>\n",
       "      <td>029-X6</td>\n",
       "      <td>2021-06-15</td>\n",
       "    </tr>\n",
       "    <tr>\n",
       "      <th>1</th>\n",
       "      <td>0</td>\n",
       "      <td>2021-06-15 14:55:26</td>\n",
       "      <td>23.596817</td>\n",
       "      <td>120.281662</td>\n",
       "      <td>0</td>\n",
       "      <td>0</td>\n",
       "      <td>029-X6</td>\n",
       "      <td>2021-06-15</td>\n",
       "    </tr>\n",
       "    <tr>\n",
       "      <th>2</th>\n",
       "      <td>0</td>\n",
       "      <td>2021-06-15 14:58:26</td>\n",
       "      <td>23.596754</td>\n",
       "      <td>120.281654</td>\n",
       "      <td>0</td>\n",
       "      <td>0</td>\n",
       "      <td>029-X6</td>\n",
       "      <td>2021-06-15</td>\n",
       "    </tr>\n",
       "    <tr>\n",
       "      <th>3</th>\n",
       "      <td>0</td>\n",
       "      <td>2021-06-15 15:01:26</td>\n",
       "      <td>23.596754</td>\n",
       "      <td>120.281624</td>\n",
       "      <td>0</td>\n",
       "      <td>132</td>\n",
       "      <td>029-X6</td>\n",
       "      <td>2021-06-15</td>\n",
       "    </tr>\n",
       "    <tr>\n",
       "      <th>4</th>\n",
       "      <td>0</td>\n",
       "      <td>2021-06-15 15:04:26</td>\n",
       "      <td>23.596724</td>\n",
       "      <td>120.281715</td>\n",
       "      <td>0</td>\n",
       "      <td>122</td>\n",
       "      <td>029-X6</td>\n",
       "      <td>2021-06-15</td>\n",
       "    </tr>\n",
       "  </tbody>\n",
       "</table>\n",
       "</div>"
      ],
      "text/plain": [
       "   carStatus                time        lat         lon  speed  direction  \\\n",
       "0          0 2021-06-15 14:52:26  23.596823  120.281693      0        290   \n",
       "1          0 2021-06-15 14:55:26  23.596817  120.281662      0          0   \n",
       "2          0 2021-06-15 14:58:26  23.596754  120.281654      0          0   \n",
       "3          0 2021-06-15 15:01:26  23.596754  120.281624      0        132   \n",
       "4          0 2021-06-15 15:04:26  23.596724  120.281715      0        122   \n",
       "\n",
       "  licensePlate        date  \n",
       "0       029-X6  2021-06-15  \n",
       "1       029-X6  2021-06-15  \n",
       "2       029-X6  2021-06-15  \n",
       "3       029-X6  2021-06-15  \n",
       "4       029-X6  2021-06-15  "
      ]
     },
     "execution_count": 31,
     "metadata": {},
     "output_type": "execute_result"
    }
   ],
   "source": [
    "# 讀取其中一筆車牌\n",
    "driver = \"029-X6\" # 取1筆測試\n",
    "mask = (car_df[\"licensePlate\"].isin([driver]))\n",
    "driver_df = car_df.loc[mask,:].reset_index(drop=True)\n",
    "driver_df.head()"
   ]
  },
  {
   "cell_type": "code",
   "execution_count": 32,
   "metadata": {},
   "outputs": [
    {
     "name": "stderr",
     "output_type": "stream",
     "text": [
      "C:\\Users\\EMCT_Jeff\\anaconda3\\lib\\site-packages\\pyproj\\crs\\crs.py:53: FutureWarning: '+init=<authority>:<code>' syntax is deprecated. '<authority>:<code>' is the preferred initialization method. When making the change, be mindful of axis order changes: https://pyproj4.github.io/pyproj/stable/gotchas.html#axis-order-changes-in-proj-6\n",
      "  return _prepare_from_string(\" \".join(pjargs))\n"
     ]
    }
   ],
   "source": [
    "wgs84 = {'init': 'epsg:4326'}\n",
    "driver_gdf = gpd.GeoDataFrame(\n",
    "    driver_df, geometry=gpd.points_from_xy(driver_df.lon, driver_df.lat), crs=wgs84)"
   ]
  },
  {
   "cell_type": "markdown",
   "metadata": {},
   "source": [
    "## 挑出有移動行為的日期"
   ]
  },
  {
   "cell_type": "code",
   "execution_count": 33,
   "metadata": {},
   "outputs": [
    {
     "data": {
      "text/html": [
       "<div>\n",
       "<style scoped>\n",
       "    .dataframe tbody tr th:only-of-type {\n",
       "        vertical-align: middle;\n",
       "    }\n",
       "\n",
       "    .dataframe tbody tr th {\n",
       "        vertical-align: top;\n",
       "    }\n",
       "\n",
       "    .dataframe thead th {\n",
       "        text-align: right;\n",
       "    }\n",
       "</style>\n",
       "<table border=\"1\" class=\"dataframe\">\n",
       "  <thead>\n",
       "    <tr style=\"text-align: right;\">\n",
       "      <th></th>\n",
       "      <th>date</th>\n",
       "      <th>lon</th>\n",
       "    </tr>\n",
       "  </thead>\n",
       "  <tbody>\n",
       "    <tr>\n",
       "      <th>0</th>\n",
       "      <td>2021-06-15</td>\n",
       "      <td>36</td>\n",
       "    </tr>\n",
       "    <tr>\n",
       "      <th>1</th>\n",
       "      <td>2021-06-16</td>\n",
       "      <td>118</td>\n",
       "    </tr>\n",
       "    <tr>\n",
       "      <th>2</th>\n",
       "      <td>2021-06-17</td>\n",
       "      <td>42</td>\n",
       "    </tr>\n",
       "  </tbody>\n",
       "</table>\n",
       "</div>"
      ],
      "text/plain": [
       "         date  lon\n",
       "0  2021-06-15   36\n",
       "1  2021-06-16  118\n",
       "2  2021-06-17   42"
      ]
     },
     "execution_count": 33,
     "metadata": {},
     "output_type": "execute_result"
    }
   ],
   "source": [
    "# 以X座標的變化來判斷當天是否有出車\n",
    "date_X_nuniq_df = driver_df[[\"date\", \"lon\"]].groupby(\"date\").lon.nunique().reset_index()\n",
    "date_X_nuniq_df"
   ]
  },
  {
   "cell_type": "markdown",
   "metadata": {},
   "source": [
    "## 判斷為有值勤的日期: 當日不重複X座標大於100個"
   ]
  },
  {
   "cell_type": "code",
   "execution_count": 34,
   "metadata": {},
   "outputs": [
    {
     "data": {
      "text/plain": [
       "1    2021-06-16\n",
       "Name: date, dtype: object"
      ]
     },
     "execution_count": 34,
     "metadata": {},
     "output_type": "execute_result"
    }
   ],
   "source": [
    "move_date_lst = date_X_nuniq_df.loc[date_X_nuniq_df.lon>100, \"date\"]\n",
    "move_date_lst"
   ]
  },
  {
   "cell_type": "markdown",
   "metadata": {},
   "source": [
    "## 挑選日期"
   ]
  },
  {
   "cell_type": "code",
   "execution_count": 35,
   "metadata": {},
   "outputs": [],
   "source": [
    "move_date = datetime.date(2021, 6, 16)\n",
    "mask = driver_gdf.loc[:,\"date\"].isin([move_date])\n",
    "driver_gdf_pic = driver_gdf[mask].reset_index(drop=True)"
   ]
  },
  {
   "cell_type": "markdown",
   "metadata": {},
   "source": [
    "## 計算 每個獨立點位的停留時間"
   ]
  },
  {
   "cell_type": "code",
   "execution_count": 40,
   "metadata": {},
   "outputs": [],
   "source": [
    "driver_gdf_pic.loc[:,\"geometry_str\"] = driver_gdf_pic.loc[:,\"geometry\"].astype(str)"
   ]
  },
  {
   "cell_type": "markdown",
   "metadata": {},
   "source": [
    "計算各點位當日的時間的Max、Min"
   ]
  },
  {
   "cell_type": "code",
   "execution_count": 41,
   "metadata": {},
   "outputs": [],
   "source": [
    "# 計算每個點位最大/最小的時間\n",
    "point_time_range_gp = driver_gdf_pic.loc[:,[\"geometry_str\",\"time\"]].groupby(\"geometry_str\",as_index=False)\n",
    "#min\n",
    "point_time_min_df = point_time_range_gp.min()\n",
    "point_time_min_df.rename(columns={\"time\":\"start_time\"}, inplace=True)\n",
    "#Max\n",
    "point_time_max_df = point_time_range_gp.max()\n",
    "point_time_max_df.rename(columns={\"time\":\"end_time\"}, inplace=True)\n",
    "\n",
    "# 合併\n",
    "point_time_sum_maxmin_df = driver_gdf_pic.merge(point_time_min_df, how=\"left\", on=\"geometry_str\")\n",
    "point_time_sum_maxmin_df = point_time_sum_maxmin_df.merge(point_time_max_df, how=\"left\", on=\"geometry_str\")\n",
    "point_time_sum_df = point_time_sum_maxmin_df.copy(deep=True)"
   ]
  },
  {
   "cell_type": "code",
   "execution_count": 42,
   "metadata": {},
   "outputs": [],
   "source": [
    "# 計算停留時間\n",
    "point_time_sum_df.loc[:,\"stay_time\"] = point_time_sum_df.loc[:,\"end_time\"] - point_time_sum_df.loc[:,\"start_time\"]"
   ]
  },
  {
   "cell_type": "code",
   "execution_count": 43,
   "metadata": {},
   "outputs": [],
   "source": [
    "# Timestamp -> formated str\n",
    "point_time_sum_df.loc[:,\"start_time\"] = point_time_sum_df.loc[:,\"start_time\"].dt.strftime(\"%Y/%m/%d, %H:%M:%S\")\n",
    "point_time_sum_df.loc[:,\"end_time\"] = point_time_sum_df.loc[:,\"end_time\"].dt.strftime(\"%Y/%m/%d, %H:%M:%S\")"
   ]
  },
  {
   "cell_type": "code",
   "execution_count": 44,
   "metadata": {},
   "outputs": [
    {
     "name": "stderr",
     "output_type": "stream",
     "text": [
      "C:\\Users\\EMCT_Jeff\\anaconda3\\lib\\site-packages\\pyproj\\crs\\crs.py:53: FutureWarning: '+init=<authority>:<code>' syntax is deprecated. '<authority>:<code>' is the preferred initialization method. When making the change, be mindful of axis order changes: https://pyproj4.github.io/pyproj/stable/gotchas.html#axis-order-changes-in-proj-6\n",
      "  return _prepare_from_string(\" \".join(pjargs))\n"
     ]
    }
   ],
   "source": [
    "point_time_sum_gdf = gpd.GeoDataFrame(\n",
    "    point_time_sum_df, geometry=gpd.points_from_xy(point_time_sum_df.lon, point_time_sum_df.lat), crs=wgs84)"
   ]
  },
  {
   "cell_type": "markdown",
   "metadata": {},
   "source": [
    "## 停留點條件篩選: **停留5分鐘以上，2小時以下**"
   ]
  },
  {
   "cell_type": "code",
   "execution_count": 45,
   "metadata": {},
   "outputs": [
    {
     "data": {
      "text/plain": [
       "count                          554\n",
       "mean     0 days 00:39:15.034296028\n",
       "std      0 days 02:50:22.093921583\n",
       "min                0 days 00:00:00\n",
       "25%                0 days 00:00:00\n",
       "50%                0 days 00:00:00\n",
       "75%                0 days 00:00:00\n",
       "max                0 days 22:07:14\n",
       "Name: stay_time, dtype: object"
      ]
     },
     "execution_count": 45,
     "metadata": {},
     "output_type": "execute_result"
    }
   ],
   "source": [
    "point_time_sum_gdf.stay_time.describe()"
   ]
  },
  {
   "cell_type": "code",
   "execution_count": 46,
   "metadata": {},
   "outputs": [],
   "source": [
    "# 篩選條件 停留5分鐘以上，2小時以下\n",
    "mask = (point_time_sum_gdf[\"stay_time\"]>= datetime.timedelta(seconds=0, minutes=5, hours=0)) \\\n",
    "                & (point_time_sum_gdf[\"stay_time\"]< datetime.timedelta(seconds=0, minutes=0, hours=2))"
   ]
  },
  {
   "cell_type": "code",
   "execution_count": 47,
   "metadata": {},
   "outputs": [
    {
     "name": "stdout",
     "output_type": "stream",
     "text": [
      ">> 停留點數量: 10\n",
      "\n"
     ]
    }
   ],
   "source": [
    "print(f\">> 停留點數量: {len(point_time_sum_gdf[mask])}\\n\")"
   ]
  },
  {
   "cell_type": "code",
   "execution_count": 48,
   "metadata": {},
   "outputs": [
    {
     "data": {
      "text/html": [
       "<div>\n",
       "<style scoped>\n",
       "    .dataframe tbody tr th:only-of-type {\n",
       "        vertical-align: middle;\n",
       "    }\n",
       "\n",
       "    .dataframe tbody tr th {\n",
       "        vertical-align: top;\n",
       "    }\n",
       "\n",
       "    .dataframe thead th {\n",
       "        text-align: right;\n",
       "    }\n",
       "</style>\n",
       "<table border=\"1\" class=\"dataframe\">\n",
       "  <thead>\n",
       "    <tr style=\"text-align: right;\">\n",
       "      <th></th>\n",
       "      <th>carStatus</th>\n",
       "      <th>time</th>\n",
       "      <th>lat</th>\n",
       "      <th>lon</th>\n",
       "      <th>speed</th>\n",
       "      <th>direction</th>\n",
       "      <th>licensePlate</th>\n",
       "      <th>date</th>\n",
       "      <th>geometry</th>\n",
       "      <th>geometry_str</th>\n",
       "      <th>start_time</th>\n",
       "      <th>end_time</th>\n",
       "      <th>stay_time</th>\n",
       "    </tr>\n",
       "  </thead>\n",
       "  <tbody>\n",
       "    <tr>\n",
       "      <th>22</th>\n",
       "      <td>0</td>\n",
       "      <td>2021-06-16 01:07:27</td>\n",
       "      <td>23.596823</td>\n",
       "      <td>120.281715</td>\n",
       "      <td>0</td>\n",
       "      <td>114</td>\n",
       "      <td>029-X6</td>\n",
       "      <td>2021-06-16</td>\n",
       "      <td>POINT (120.28172 23.59682)</td>\n",
       "      <td>POINT (120.2817153930664 23.59682273864746)</td>\n",
       "      <td>2021/06/16, 01:07:27</td>\n",
       "      <td>2021/06/16, 01:37:27</td>\n",
       "      <td>0 days 00:30:00</td>\n",
       "    </tr>\n",
       "    <tr>\n",
       "      <th>32</th>\n",
       "      <td>0</td>\n",
       "      <td>2021-06-16 01:37:27</td>\n",
       "      <td>23.596823</td>\n",
       "      <td>120.281715</td>\n",
       "      <td>0</td>\n",
       "      <td>50</td>\n",
       "      <td>029-X6</td>\n",
       "      <td>2021-06-16</td>\n",
       "      <td>POINT (120.28172 23.59682)</td>\n",
       "      <td>POINT (120.2817153930664 23.59682273864746)</td>\n",
       "      <td>2021/06/16, 01:07:27</td>\n",
       "      <td>2021/06/16, 01:37:27</td>\n",
       "      <td>0 days 00:30:00</td>\n",
       "    </tr>\n",
       "    <tr>\n",
       "      <th>119</th>\n",
       "      <td>0</td>\n",
       "      <td>2021-06-16 05:58:27</td>\n",
       "      <td>23.596910</td>\n",
       "      <td>120.281662</td>\n",
       "      <td>0</td>\n",
       "      <td>0</td>\n",
       "      <td>029-X6</td>\n",
       "      <td>2021-06-16</td>\n",
       "      <td>POINT (120.28166 23.59691)</td>\n",
       "      <td>POINT (120.2816619873047 23.59691047668457)</td>\n",
       "      <td>2021/06/16, 05:58:27</td>\n",
       "      <td>2021/06/16, 06:22:28</td>\n",
       "      <td>0 days 00:24:01</td>\n",
       "    </tr>\n",
       "    <tr>\n",
       "      <th>127</th>\n",
       "      <td>0</td>\n",
       "      <td>2021-06-16 06:22:28</td>\n",
       "      <td>23.596910</td>\n",
       "      <td>120.281662</td>\n",
       "      <td>0</td>\n",
       "      <td>168</td>\n",
       "      <td>029-X6</td>\n",
       "      <td>2021-06-16</td>\n",
       "      <td>POINT (120.28166 23.59691)</td>\n",
       "      <td>POINT (120.2816619873047 23.59691047668457)</td>\n",
       "      <td>2021/06/16, 05:58:27</td>\n",
       "      <td>2021/06/16, 06:22:28</td>\n",
       "      <td>0 days 00:24:01</td>\n",
       "    </tr>\n",
       "    <tr>\n",
       "      <th>147</th>\n",
       "      <td>0</td>\n",
       "      <td>2021-06-16 07:22:28</td>\n",
       "      <td>23.596792</td>\n",
       "      <td>120.281631</td>\n",
       "      <td>0</td>\n",
       "      <td>0</td>\n",
       "      <td>029-X6</td>\n",
       "      <td>2021-06-16</td>\n",
       "      <td>POINT (120.28163 23.59679)</td>\n",
       "      <td>POINT (120.2816314697266 23.59679222106934)</td>\n",
       "      <td>2021/06/16, 07:22:28</td>\n",
       "      <td>2021/06/16, 07:40:28</td>\n",
       "      <td>0 days 00:18:00</td>\n",
       "    </tr>\n",
       "  </tbody>\n",
       "</table>\n",
       "</div>"
      ],
      "text/plain": [
       "     carStatus                time        lat         lon  speed  direction  \\\n",
       "22           0 2021-06-16 01:07:27  23.596823  120.281715      0        114   \n",
       "32           0 2021-06-16 01:37:27  23.596823  120.281715      0         50   \n",
       "119          0 2021-06-16 05:58:27  23.596910  120.281662      0          0   \n",
       "127          0 2021-06-16 06:22:28  23.596910  120.281662      0        168   \n",
       "147          0 2021-06-16 07:22:28  23.596792  120.281631      0          0   \n",
       "\n",
       "    licensePlate        date                    geometry  \\\n",
       "22        029-X6  2021-06-16  POINT (120.28172 23.59682)   \n",
       "32        029-X6  2021-06-16  POINT (120.28172 23.59682)   \n",
       "119       029-X6  2021-06-16  POINT (120.28166 23.59691)   \n",
       "127       029-X6  2021-06-16  POINT (120.28166 23.59691)   \n",
       "147       029-X6  2021-06-16  POINT (120.28163 23.59679)   \n",
       "\n",
       "                                    geometry_str            start_time  \\\n",
       "22   POINT (120.2817153930664 23.59682273864746)  2021/06/16, 01:07:27   \n",
       "32   POINT (120.2817153930664 23.59682273864746)  2021/06/16, 01:07:27   \n",
       "119  POINT (120.2816619873047 23.59691047668457)  2021/06/16, 05:58:27   \n",
       "127  POINT (120.2816619873047 23.59691047668457)  2021/06/16, 05:58:27   \n",
       "147  POINT (120.2816314697266 23.59679222106934)  2021/06/16, 07:22:28   \n",
       "\n",
       "                 end_time       stay_time  \n",
       "22   2021/06/16, 01:37:27 0 days 00:30:00  \n",
       "32   2021/06/16, 01:37:27 0 days 00:30:00  \n",
       "119  2021/06/16, 06:22:28 0 days 00:24:01  \n",
       "127  2021/06/16, 06:22:28 0 days 00:24:01  \n",
       "147  2021/06/16, 07:40:28 0 days 00:18:00  "
      ]
     },
     "execution_count": 48,
     "metadata": {},
     "output_type": "execute_result"
    }
   ],
   "source": [
    "point_time_sum_gdf[mask].head()"
   ]
  },
  {
   "cell_type": "markdown",
   "metadata": {},
   "source": [
    "## 畫圖"
   ]
  },
  {
   "cell_type": "code",
   "execution_count": 49,
   "metadata": {},
   "outputs": [],
   "source": [
    "locations = point_time_sum_gdf[mask][['lat', 'lon']]\n",
    "locationlist = locations.values.tolist()"
   ]
  },
  {
   "cell_type": "code",
   "execution_count": 50,
   "metadata": {},
   "outputs": [],
   "source": [
    "time_sums = point_time_sum_gdf[mask]['stay_time'].apply(lambda t: str(t).split(\"days\")[1].split(\".\")[0])\n",
    "time_sumslist = time_sums.values.tolist()"
   ]
  },
  {
   "cell_type": "code",
   "execution_count": 51,
   "metadata": {},
   "outputs": [],
   "source": [
    "# (option)時間動畫\n",
    "\n",
    "features = [{\n",
    "    'geometry': {\n",
    "        'coordinates': list(row['geometry'].coords)[0],\n",
    "        'type': 'Point'\n",
    "    },\n",
    "    'properties': {\n",
    "        'icon': 'marker',\n",
    "        'iconstyle': {\n",
    "            'iconSize': [40, 40],\n",
    "            'iconUrl':\n",
    "            'https://www.flaticon.com/svg/vstatic/svg/664/664468.svg?token=exp=1616138018~hmac=c04c6983e10730773e5f5f124f7b42e5'\n",
    "        },\n",
    "        'id': 'house',\n",
    "        'popup': 1,\n",
    "        'times': [row[\"start_time\"],row[\"end_time\"]]\n",
    "    },\n",
    "    'type': 'Feature'\n",
    "}\n",
    "    for idx,row in point_time_sum_gdf.iterrows()\n",
    "]"
   ]
  },
  {
   "cell_type": "code",
   "execution_count": 56,
   "metadata": {},
   "outputs": [
    {
     "data": {
      "text/html": [
       "<div style=\"width:100%;\"><div style=\"position:relative;width:100%;height:0;padding-bottom:60%;\"><span style=\"color:#565656\">Make this Notebook Trusted to load map: File -> Trust Notebook</span><iframe src=\"about:blank\" style=\"position:absolute;width:100%;height:100%;left:0;top:0;border:none !important;\" data-html=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 onload=\"this.contentDocument.open();this.contentDocument.write(atob(this.getAttribute('data-html')));this.contentDocument.close();\" allowfullscreen webkitallowfullscreen mozallowfullscreen></iframe></div></div>"
      ],
      "text/plain": [
       "<folium.folium.Map at 0x22245876520>"
      ]
     },
     "execution_count": 56,
     "metadata": {},
     "output_type": "execute_result"
    }
   ],
   "source": [
    "map = folium.Map(location=[23.762485, 120.827323], \n",
    "                 zoom_start=8, \n",
    "                 tiles='http://tile.stamen.com/toner/{z}/{x}/{y}.png', \n",
    "                 attr=\"https://stackoverflow.com/questions/48318538/folium-custom-map-tiles\"\n",
    "                )\n",
    "\n",
    "# 運禽車完整路線\n",
    "folium.Choropleth(\n",
    "    LineString(driver_gdf_pic[driver_gdf_pic[\"carStatus\"].isin([1])].geometry.to_list()),\n",
    "    line_weight=3,\n",
    "    line_color='#66B3FF',\n",
    "    name=\"行車軌跡\"\n",
    ").add_to(map)\n",
    "\n",
    "# 停留點聚合(如果太多)\n",
    "marker_cluster = plugins.MarkerCluster().add_to(map)\n",
    "\n",
    "# 目標的停留時間 點位\n",
    "for point in range(0, len(locationlist)):\n",
    "    folium.CircleMarker(locationlist[point],\n",
    "                        radius=10,\n",
    "                        color='#3186cc',\n",
    "                        fill=True,\n",
    "                        popup=time_sumslist[point],\n",
    "                        fill_color='#3186cc'\n",
    "                       ).add_to(marker_cluster)\n",
    "#                        ).add_to(map)\n",
    "\n",
    "\n",
    "    \n",
    "# # (option)加入時間\n",
    "# plugins.TimestampedGeoJson(\n",
    "#         {'type': 'FeatureCollection',\n",
    "#         'features': features}\n",
    "#         , period='PT2H' \n",
    "#         , duration='PT1M'\n",
    "#         , add_last_point=False\n",
    "#         , auto_play=True\n",
    "#         , loop=False\n",
    "#         , max_speed=1\n",
    "#         , loop_button=True\n",
    "#         , date_options='YYYY/MM/DD HH:mm:ss'\n",
    "#         , time_slider_drag_update=True\n",
    "#     ).add_to(map)\n",
    "\n",
    "# 加入底圖\n",
    "folium.raster_layers.TileLayer(\n",
    "    tiles = \"https://wmts.nlsc.gov.tw/wmts/PHOTO2/default/GoogleMapsCompatible/{z}/{y}/{x}\",                 \n",
    "    attr = \"國土測繪圖資服務雲\",\n",
    "    name=\"正射影像圖(通用版)\",\n",
    "#     overlay=True,\n",
    "    min_zoom=0,\n",
    "    max_zoom=19,\n",
    "    ).add_to(map)\n",
    "# folium.LayerControl().add_to(map)\n",
    "\n",
    "folium.raster_layers.TileLayer(\n",
    "    tiles = \"https://wmts.nlsc.gov.tw/wmts/EMAP2/default/GoogleMapsCompatible/{z}/{y}/{x}\",                 \n",
    "    attr = \"國土測繪圖資服務雲\",\n",
    "    name=\"臺灣通用電子地圖透明\",\n",
    "    show=False,\n",
    "    overlay=True,\n",
    "    min_zoom=0,\n",
    "    max_zoom=19,\n",
    "    ).add_to(map)\n",
    "folium.LayerControl().add_to(map)\n",
    "\n",
    "map"
   ]
  },
  {
   "cell_type": "code",
   "execution_count": null,
   "metadata": {},
   "outputs": [],
   "source": []
  }
 ],
 "metadata": {
  "kernelspec": {
   "display_name": "Python 3",
   "language": "python",
   "name": "python3"
  },
  "language_info": {
   "codemirror_mode": {
    "name": "ipython",
    "version": 3
   },
   "file_extension": ".py",
   "mimetype": "text/x-python",
   "name": "python",
   "nbconvert_exporter": "python",
   "pygments_lexer": "ipython3",
   "version": "3.8.3"
  },
  "toc-autonumbering": true
 },
 "nbformat": 4,
 "nbformat_minor": 4
}
